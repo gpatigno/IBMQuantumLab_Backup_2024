{
 "cells": [
  {
   "cell_type": "code",
   "execution_count": 1,
   "metadata": {
    "id": "h5FahvKU98DH"
   },
   "outputs": [],
   "source": [
    "%matplotlib inline\n",
    "# Importing standard Qiskit libraries and configuring account\n",
    "from qiskit import QuantumCircuit, execute, Aer, IBMQ\n",
    "from qiskit.compiler import transpile, assemble\n",
    "from qiskit.tools.jupyter import *\n",
    "from qiskit.visualization import *\n",
    "from qiskit import *\n",
    "# Loading your IBM Q account(s)\n",
    "provider = IBMQ.load_account()"
   ]
  },
  {
   "cell_type": "code",
   "execution_count": 2,
   "metadata": {
    "id": "kVRmdL-698DM"
   },
   "outputs": [],
   "source": [
    "num = 2\n",
    "qr = QuantumRegister(num)\n",
    "cr = ClassicalRegister(num)\n",
    "circuit = QuantumCircuit(qr, cr)"
   ]
  },
  {
   "cell_type": "code",
   "execution_count": 3,
   "metadata": {
    "id": "mG0_d7b298DN"
   },
   "outputs": [],
   "source": [
    "for q in range(len(qr)):\n",
    "    circuit.h(qr[q])"
   ]
  },
  {
   "cell_type": "code",
   "execution_count": 4,
   "metadata": {
    "id": "sb0f3awG98DO",
    "outputId": "df50ff7f-48c4-43a0-e47f-fc1ea813e98f"
   },
   "outputs": [
    {
     "data": {
      "text/plain": [
       "<qiskit.circuit.instructionset.InstructionSet at 0x7fe3bd7ea4c0>"
      ]
     },
     "execution_count": 4,
     "metadata": {},
     "output_type": "execute_result"
    }
   ],
   "source": [
    "circuit.measure(qr, cr)"
   ]
  },
  {
   "cell_type": "code",
   "execution_count": 5,
   "metadata": {
    "id": "L4nZ4wwt98DP",
    "outputId": "90e04e44-22cb-4a28-d992-814227b8f0bb"
   },
   "outputs": [
    {
     "data": {
      "image/png": "[encoded data removed]",
      "text/plain": [
       "<Figure size 280.033x204.68 with 1 Axes>"
      ]
     },
     "execution_count": 5,
     "metadata": {},
     "output_type": "execute_result"
    }
   ],
   "source": [
    "circuit.draw(output=\"mpl\")"
   ]
  },
  {
   "cell_type": "code",
   "execution_count": 6,
   "metadata": {
    "id": "12pjB-8S98DQ",
    "outputId": "569c86b7-ca3c-4e3b-9f39-5f374dfa654e"
   },
   "outputs": [
    {
     "name": "stdout",
     "output_type": "stream",
     "text": [
      "Job Status: job has successfully run\n"
     ]
    }
   ],
   "source": [
    "from qiskit import BasicAer\n",
    "from qiskit.tools.monitor import job_monitor\n",
    "#provider = IBMQ.get_provider(hub='ibm-q', group='open', project='main')\n",
    "provider = IBMQ.get_provider(hub='ibm-q-education', group='uni-antioquia-1', project='qc2021')\n",
    "backend = provider.get_backend('ibmq_qasm_simulator') \n",
    "#backend = BasicAer.get_backend('qasm_simulator')\n",
    "job = execute(circuit, backend=backend, shots=2048)\n",
    "job_monitor(job)"
   ]
  },
  {
   "cell_type": "code",
   "execution_count": 7,
   "metadata": {
    "id": "W1DvG6mx98DR",
    "outputId": "31d93550-87d4-4939-f865-65a4815c16d6"
   },
   "outputs": [
    {
     "name": "stdout",
     "output_type": "stream",
     "text": [
      "{'00': 525, '01': 516, '10': 511, '11': 496}\n"
     ]
    },
    {
     "data": {
      "image/png": "[encoded data removed]",
      "text/plain": [
       "<Figure size 504x360 with 1 Axes>"
      ]
     },
     "execution_count": 7,
     "metadata": {},
     "output_type": "execute_result"
    }
   ],
   "source": [
    "result = job.result()\n",
    "from qiskit.tools.visualization import plot_histogram, plot_bloch_multivector\n",
    "res = result.get_counts(circuit)\n",
    "print(res)\n",
    "plot_histogram(res)\n",
    "#La aleatoriedad de los números generados depende de la aleatoriedad de la distribución de médida\n",
    "#de cada estado cuántico base, dentro del total de \"shots\" llevados a cabo."
   ]
  },
  {
   "cell_type": "code",
   "execution_count": 8,
   "metadata": {
    "id": "9GylA2O498DS",
    "outputId": "6b26cb8c-d820-440c-be46-39754081b912"
   },
   "outputs": [
    {
     "name": "stdout",
     "output_type": "stream",
     "text": [
      "value= 496\n",
      "attr= 11\n",
      "ch= 1\n",
      "i= 0\n",
      "ch= 1\n",
      "i= 1\n",
      "numQ= 3\n",
      "value= 511\n",
      "attr= 10\n",
      "ch= 1\n",
      "i= 0\n",
      "ch= 0\n",
      "i= 1\n",
      "numQ= 1\n",
      "value= 516\n",
      "attr= 01\n",
      "ch= 0\n",
      "i= 0\n",
      "ch= 1\n",
      "i= 1\n",
      "numQ= 2\n",
      "value= 525\n",
      "attr= 00\n",
      "ch= 0\n",
      "i= 0\n",
      "ch= 0\n",
      "i= 1\n",
      "numQ= 0\n",
      "numbers= [3, 1, 2, 0]\n"
     ]
    }
   ],
   "source": [
    "numbers = []\n",
    "for attr, value in sorted(res.items(), key=lambda item: item[1]):\n",
    "    numQ = 0\n",
    "    i = 0\n",
    "    print(\"value=\",value)\n",
    "    print(\"attr=\",attr)\n",
    "    for ch in attr:\n",
    "        print(\"ch=\",ch)\n",
    "        print(\"i=\", i)\n",
    "        if ch == '1':\n",
    "            numQ += 2**i\n",
    "        i = i + 1\n",
    "    numbers.append(numQ)\n",
    "    print(\"numQ=\",numQ)\n",
    "print(\"numbers=\",numbers)"
   ]
  },
  {
   "cell_type": "code",
   "execution_count": 9,
   "metadata": {
    "id": "R3-mFI9e98DU",
    "outputId": "bb9464d5-67de-4736-a574-e462c806642a"
   },
   "outputs": [
    {
     "name": "stdout",
     "output_type": "stream",
     "text": [
      "Job Status: job has successfully run\n"
     ]
    }
   ],
   "source": [
    "provider = IBMQ.get_provider(hub='ibm-q-education', group='uni-antioquia-1', project='qc2021')\n",
    "backend = provider.get_backend('ibm_lagos')\n",
    "job = execute(circuit, backend=backend, shots=100)\n",
    "job_monitor(job)"
   ]
  },
  {
   "cell_type": "code",
   "execution_count": 10,
   "metadata": {
    "id": "2A_l3e8i98DV",
    "outputId": "b0d1f36d-d176-489d-c8ef-21ac84d1f9ef"
   },
   "outputs": [
    {
     "name": "stdout",
     "output_type": "stream",
     "text": [
      "{'00': 21, '01': 25, '10': 27, '11': 27}\n"
     ]
    },
    {
     "data": {
      "image/png": "[encoded data removed]",
      "text/plain": [
       "<Figure size 504x360 with 1 Axes>"
      ]
     },
     "execution_count": 10,
     "metadata": {},
     "output_type": "execute_result"
    }
   ],
   "source": [
    "result = job.result()\n",
    "from qiskit.tools.visualization import plot_histogram, plot_bloch_multivector\n",
    "res = result.get_counts(circuit)\n",
    "print(res)\n",
    "plot_histogram(res)"
   ]
  },
  {
   "cell_type": "code",
   "execution_count": 11,
   "metadata": {
    "id": "R6N0BM2V98DW",
    "outputId": "a9091e65-4b89-48c0-c646-991ed12c0fa6"
   },
   "outputs": [
    {
     "name": "stdout",
     "output_type": "stream",
     "text": [
      "numbers= [0, 2, 1, 3]\n"
     ]
    }
   ],
   "source": [
    "numbers = []\n",
    "for attr, value in res.items():\n",
    "    numQ = 0\n",
    "    i = 0\n",
    "    for ch in attr:\n",
    "        if ch == '1':\n",
    "            numQ += 2**i\n",
    "        i = i + 1\n",
    "    numbers.append(numQ)\n",
    "print(\"numbers=\",numbers)"
   ]
  }
 ],
 "metadata": {
  "colab": {
   "name": "Random Number Generation.ipynb",
   "provenance": []
  },
  "kernelspec": {
   "display_name": "Python 3 (ipykernel)",
   "language": "python",
   "name": "python3"
  },
  "language_info": {
   "codemirror_mode": {
    "name": "ipython",
    "version": 3
   },
   "file_extension": ".py",
   "mimetype": "text/x-python",
   "name": "python",
   "nbconvert_exporter": "python",
   "pygments_lexer": "ipython3",
   "version": "3.8.13"
  },
  "widgets": {
   "application/vnd.jupyter.widget-state+json": {
    "state": {
     "07656b59828c4092891c38425738b944": {
      "model_module": "@jupyter-widgets/controls",
      "model_module_version": "1.5.0",
      "model_name": "HTMLModel",
      "state": {
       "layout": "IPY_MODEL_c6e1f51d56b140c6adba01487b134833",
       "style": "IPY_MODEL_f32cb2d782344cc4bf4b7e3ea420dec0",
       "value": "62bb98b55ef42c5220b28f34"
      }
     },
     "09c3bdd3457e49caaaf152a8089d3d70": {
      "model_module": "@jupyter-widgets/controls",
      "model_module_version": "1.5.0",
      "model_name": "DescriptionStyleModel",
      "state": {
       "description_width": ""
      }
     },
     "0daac21497ea446a8ac5e3f5ab56ad55": {
      "model_module": "@jupyter-widgets/controls",
      "model_module_version": "1.5.0",
      "model_name": "DescriptionStyleModel",
      "state": {
       "description_width": ""
      }
     },
     "0e7623d02b214e72a81635690ff86d62": {
      "model_module": "@jupyter-widgets/base",
      "model_module_version": "1.2.0",
      "model_name": "LayoutModel",
      "state": {
       "max_width": "700px",
       "min_width": "700px"
      }
     },
     "0fda64931fbd437e899dcfeb5793f974": {
      "model_module": "@jupyter-widgets/controls",
      "model_module_version": "1.5.0",
      "model_name": "HTMLModel",
      "state": {
       "layout": "IPY_MODEL_aecb8937d98b49b69926d1e9cfc8c0b4",
       "style": "IPY_MODEL_a432677eafc04b86bb173b3b194bab84",
       "value": "ibmq_qasm_simulator"
      }
     },
     "1d8f36711a6a47b29997105a1a0b5774": {
      "model_module": "@jupyter-widgets/base",
      "model_module_version": "1.2.0",
      "model_name": "LayoutModel",
      "state": {
       "grid_area": "right",
       "padding": "0px 0px 0px 0px",
       "width": "70px"
      }
     },
     "20ae711fc67e4fa885801d89c35bb755": {
      "model_module": "@jupyter-widgets/controls",
      "model_module_version": "1.5.0",
      "model_name": "HTMLModel",
      "state": {
       "layout": "IPY_MODEL_7416a5701c8c487ea3b423fb87d0a618",
       "style": "IPY_MODEL_34c5b156267a44d1a1947e7c7ecb2a5d",
       "value": "<h5>Job ID</h5>"
      }
     },
     "22017f9462794351bc8ba85fe5db8b23": {
      "model_module": "@jupyter-widgets/controls",
      "model_module_version": "1.5.0",
      "model_name": "DescriptionStyleModel",
      "state": {
       "description_width": ""
      }
     },
     "263f58b2ca9e462dae86f5094db83e87": {
      "model_module": "@jupyter-widgets/controls",
      "model_module_version": "1.5.0",
      "model_name": "HBoxModel",
      "state": {
       "children": [
        "IPY_MODEL_a773638c127041c6800261326ec19aa7",
        "IPY_MODEL_07656b59828c4092891c38425738b944",
        "IPY_MODEL_0fda64931fbd437e899dcfeb5793f974",
        "IPY_MODEL_c8563b958abe4281bdb8a2c7ff093b11",
        "IPY_MODEL_51bce220b1554c57bdef8357451ce8f9",
        "IPY_MODEL_7708d7ee7f1c4f6d97cbee986a4f5205"
       ],
       "layout": "IPY_MODEL_a0c72e00c0d34ad6aad6e82d439c7f0f"
      }
     },
     "297c2590a32546d888bd3ecb8a3bec8e": {
      "model_module": "@jupyter-widgets/controls",
      "model_module_version": "1.5.0",
      "model_name": "DescriptionStyleModel",
      "state": {
       "description_width": ""
      }
     },
     "29b1302e7f4242619efa2d7e7bab4633": {
      "model_module": "@jupyter-widgets/controls",
      "model_module_version": "1.5.0",
      "model_name": "HBoxModel",
      "state": {
       "children": [
        "IPY_MODEL_e7bbd52d713a4b039b37759727584a9d",
        "IPY_MODEL_c5a367cd40e84d189cff780bcf25eb32",
        "IPY_MODEL_cae8497392774bfd95fd46028efd59c4",
        "IPY_MODEL_367696a7cb7348a883bceb17fe829d3f",
        "IPY_MODEL_9dfb3262597d4c8ca3d17d809662fa00",
        "IPY_MODEL_c4bd3d7c573a491cae306d9f904600fb"
       ],
       "layout": "IPY_MODEL_0e7623d02b214e72a81635690ff86d62"
      }
     },
     "2b2b96d4acb64f2ba2d3d916afe089b4": {
      "model_module": "@jupyter-widgets/controls",
      "model_module_version": "1.5.0",
      "model_name": "DescriptionStyleModel",
      "state": {
       "description_width": ""
      }
     },
     "2c93a7231b58478aa8d0faec26d3fd90": {
      "model_module": "@jupyter-widgets/controls",
      "model_module_version": "1.5.0",
      "model_name": "ButtonStyleModel",
      "state": {
       "button_color": "white"
      }
     },
     "2e00b63ac0154d6d9d7625f97218e72e": {
      "model_module": "@jupyter-widgets/controls",
      "model_module_version": "1.5.0",
      "model_name": "DescriptionStyleModel",
      "state": {
       "description_width": ""
      }
     },
     "2edf83148e3d422cb6cbbaad2a3b19c6": {
      "model_module": "@jupyter-widgets/base",
      "model_module_version": "1.2.0",
      "model_name": "LayoutModel",
      "state": {
       "width": "70px"
      }
     },
     "2fccd1c5318f4affb10a973580960bd4": {
      "model_module": "@jupyter-widgets/controls",
      "model_module_version": "1.5.0",
      "model_name": "ButtonStyleModel",
      "state": {
       "button_color": "white"
      }
     },
     "34c5b156267a44d1a1947e7c7ecb2a5d": {
      "model_module": "@jupyter-widgets/controls",
      "model_module_version": "1.5.0",
      "model_name": "DescriptionStyleModel",
      "state": {
       "description_width": ""
      }
     },
     "35205d4c26b84586a6ebbdafeb218b03": {
      "model_module": "@jupyter-widgets/base",
      "model_module_version": "1.2.0",
      "model_name": "LayoutModel",
      "state": {
       "margin": "0px 0px 0px 37px",
       "width": "600px"
      }
     },
     "35f1182385b247c5aadff61b64fd52ef": {
      "model_module": "@jupyter-widgets/controls",
      "model_module_version": "1.5.0",
      "model_name": "ButtonModel",
      "state": {
       "button_style": "primary",
       "description": "Clear",
       "layout": "IPY_MODEL_1d8f36711a6a47b29997105a1a0b5774",
       "style": "IPY_MODEL_b2070e2f35c9460dbeafb65b35cb2b45"
      }
     },
     "367696a7cb7348a883bceb17fe829d3f": {
      "model_module": "@jupyter-widgets/controls",
      "model_module_version": "1.5.0",
      "model_name": "HTMLModel",
      "state": {
       "layout": "IPY_MODEL_58277180c6e545dba39f3586d16c8d02",
       "style": "IPY_MODEL_2e00b63ac0154d6d9d7625f97218e72e",
       "value": "QUEUED"
      }
     },
     "3a4e2b2c82b2486f941feaa77efaf733": {
      "model_module": "@jupyter-widgets/base",
      "model_module_version": "1.2.0",
      "model_name": "LayoutModel",
      "state": {
       "width": "145px"
      }
     },
     "464eb345024c4d12a92ef86132cd1a2b": {
      "model_module": "@jupyter-widgets/controls",
      "model_module_version": "1.5.0",
      "model_name": "HTMLModel",
      "state": {
       "layout": "IPY_MODEL_9d9e8cdb2a244f8590dedcb7b177bb64",
       "style": "IPY_MODEL_480775fc8e704f8db47b53e4b042a7e6",
       "value": "<h5>Status</h5>"
      }
     },
     "47a533baf2fd49569b02a08e75e33369": {
      "model_module": "@jupyter-widgets/controls",
      "model_module_version": "1.5.0",
      "model_name": "HTMLModel",
      "state": {
       "layout": "IPY_MODEL_483d58bd80964190969cee09b44a60b0",
       "style": "IPY_MODEL_297c2590a32546d888bd3ecb8a3bec8e",
       "value": "<h5>Backend</h5>"
      }
     },
     "480775fc8e704f8db47b53e4b042a7e6": {
      "model_module": "@jupyter-widgets/controls",
      "model_module_version": "1.5.0",
      "model_name": "DescriptionStyleModel",
      "state": {
       "description_width": ""
      }
     },
     "483d58bd80964190969cee09b44a60b0": {
      "model_module": "@jupyter-widgets/base",
      "model_module_version": "1.2.0",
      "model_name": "LayoutModel",
      "state": {
       "width": "145px"
      }
     },
     "51bce220b1554c57bdef8357451ce8f9": {
      "model_module": "@jupyter-widgets/controls",
      "model_module_version": "1.5.0",
      "model_name": "HTMLModel",
      "state": {
       "layout": "IPY_MODEL_2edf83148e3d422cb6cbbaad2a3b19c6",
       "style": "IPY_MODEL_5b4b8737d338460eb84c5759ee0d54c3",
       "value": "-"
      }
     },
     "58277180c6e545dba39f3586d16c8d02": {
      "model_module": "@jupyter-widgets/base",
      "model_module_version": "1.2.0",
      "model_name": "LayoutModel",
      "state": {
       "width": "95px"
      }
     },
     "5b4b8737d338460eb84c5759ee0d54c3": {
      "model_module": "@jupyter-widgets/controls",
      "model_module_version": "1.5.0",
      "model_name": "DescriptionStyleModel",
      "state": {
       "description_width": ""
      }
     },
     "5ecf0d05746b4af7b184a8393ffbe6f3": {
      "model_module": "@jupyter-widgets/base",
      "model_module_version": "1.2.0",
      "model_name": "LayoutModel",
      "state": {
       "grid_template_areas": "\n                                       \". . . . right \"\n                                        ",
       "grid_template_columns": "20% 20% 20% 20% 20%",
       "width": "100%"
      }
     },
     "5fa4171d2a944f4e85e8da7c6bf1682a": {
      "model_module": "@jupyter-widgets/base",
      "model_module_version": "1.2.0",
      "model_name": "LayoutModel",
      "state": {}
     },
     "65fd42c8bedb4e9ba6e8569e74c9ffbd": {
      "model_module": "@jupyter-widgets/base",
      "model_module_version": "1.2.0",
      "model_name": "LayoutModel",
      "state": {
       "width": "190px"
      }
     },
     "6aefe02a92594c0e88ba0fbbba19f403": {
      "model_module": "@jupyter-widgets/base",
      "model_module_version": "1.2.0",
      "model_name": "LayoutModel",
      "state": {
       "width": "95px"
      }
     },
     "728087593f4e44debf3cd03dc727d1ba": {
      "model_module": "@jupyter-widgets/controls",
      "model_module_version": "1.5.0",
      "model_name": "HBoxModel",
      "state": {
       "children": [
        "IPY_MODEL_20ae711fc67e4fa885801d89c35bb755",
        "IPY_MODEL_47a533baf2fd49569b02a08e75e33369",
        "IPY_MODEL_464eb345024c4d12a92ef86132cd1a2b",
        "IPY_MODEL_ce3e400bed1742ec8574d1e602f6a84e",
        "IPY_MODEL_b92a5734864f4b8e8bfcd23b17d68086"
       ],
       "layout": "IPY_MODEL_35205d4c26b84586a6ebbdafeb218b03"
      }
     },
     "7416a5701c8c487ea3b423fb87d0a618": {
      "model_module": "@jupyter-widgets/base",
      "model_module_version": "1.2.0",
      "model_name": "LayoutModel",
      "state": {
       "width": "190px"
      }
     },
     "7708d7ee7f1c4f6d97cbee986a4f5205": {
      "model_module": "@jupyter-widgets/controls",
      "model_module_version": "1.5.0",
      "model_name": "HTMLModel",
      "state": {
       "layout": "IPY_MODEL_c7d6d5fab55a4bab8b7b309326d03211",
       "style": "IPY_MODEL_0daac21497ea446a8ac5e3f5ab56ad55",
       "value": "job has successfully run"
      }
     },
     "774dec17fec246638dffe6855592a3d3": {
      "model_module": "@jupyter-widgets/base",
      "model_module_version": "1.2.0",
      "model_name": "LayoutModel",
      "state": {
       "margin": "0px 0px 10px 0px"
      }
     },
     "907da28269e44f6c84d84cc327f1aa6f": {
      "model_module": "@jupyter-widgets/controls",
      "model_module_version": "1.5.0",
      "model_name": "DescriptionStyleModel",
      "state": {
       "description_width": ""
      }
     },
     "91dea759715e462e9dee810e93d8c24a": {
      "model_module": "@jupyter-widgets/controls",
      "model_module_version": "1.5.0",
      "model_name": "DescriptionStyleModel",
      "state": {
       "description_width": ""
      }
     },
     "9d9e8cdb2a244f8590dedcb7b177bb64": {
      "model_module": "@jupyter-widgets/base",
      "model_module_version": "1.2.0",
      "model_name": "LayoutModel",
      "state": {
       "width": "95px"
      }
     },
     "9dc03019770847dd86d1c4620b39d1aa": {
      "model_module": "@jupyter-widgets/base",
      "model_module_version": "1.2.0",
      "model_name": "LayoutModel",
      "state": {
       "width": "70px"
      }
     },
     "9dfb3262597d4c8ca3d17d809662fa00": {
      "model_module": "@jupyter-widgets/controls",
      "model_module_version": "1.5.0",
      "model_name": "HTMLModel",
      "state": {
       "layout": "IPY_MODEL_f943003997454aad83b9fe4c22d771f6",
       "style": "IPY_MODEL_907da28269e44f6c84d84cc327f1aa6f",
       "value": "42"
      }
     },
     "a0c72e00c0d34ad6aad6e82d439c7f0f": {
      "model_module": "@jupyter-widgets/base",
      "model_module_version": "1.2.0",
      "model_name": "LayoutModel",
      "state": {
       "max_width": "700px",
       "min_width": "700px"
      }
     },
     "a432677eafc04b86bb173b3b194bab84": {
      "model_module": "@jupyter-widgets/controls",
      "model_module_version": "1.5.0",
      "model_name": "DescriptionStyleModel",
      "state": {
       "description_width": ""
      }
     },
     "a773638c127041c6800261326ec19aa7": {
      "model_module": "@jupyter-widgets/controls",
      "model_module_version": "1.5.0",
      "model_name": "ButtonModel",
      "state": {
       "icon": "close",
       "layout": "IPY_MODEL_e9d386413326428c872b15b9175cdef3",
       "style": "IPY_MODEL_2c93a7231b58478aa8d0faec26d3fd90"
      }
     },
     "aecb8937d98b49b69926d1e9cfc8c0b4": {
      "model_module": "@jupyter-widgets/base",
      "model_module_version": "1.2.0",
      "model_name": "LayoutModel",
      "state": {
       "width": "145px"
      }
     },
     "b2070e2f35c9460dbeafb65b35cb2b45": {
      "model_module": "@jupyter-widgets/controls",
      "model_module_version": "1.5.0",
      "model_name": "ButtonStyleModel",
      "state": {}
     },
     "b6fb02ba057348e589e9caedeb07dc24": {
      "model_module": "@jupyter-widgets/controls",
      "model_module_version": "1.5.0",
      "model_name": "DescriptionStyleModel",
      "state": {
       "description_width": ""
      }
     },
     "b92a5734864f4b8e8bfcd23b17d68086": {
      "model_module": "@jupyter-widgets/controls",
      "model_module_version": "1.5.0",
      "model_name": "HTMLModel",
      "state": {
       "layout": "IPY_MODEL_5fa4171d2a944f4e85e8da7c6bf1682a",
       "style": "IPY_MODEL_2b2b96d4acb64f2ba2d3d916afe089b4",
       "value": "<h5>Message</h5>"
      }
     },
     "c403a66f1c5e4c5883a9bfa0d1f392a2": {
      "model_module": "@jupyter-widgets/controls",
      "model_module_version": "1.5.0",
      "model_name": "GridBoxModel",
      "state": {
       "children": [
        "IPY_MODEL_35f1182385b247c5aadff61b64fd52ef"
       ],
       "layout": "IPY_MODEL_5ecf0d05746b4af7b184a8393ffbe6f3"
      }
     },
     "c4bd3d7c573a491cae306d9f904600fb": {
      "model_module": "@jupyter-widgets/controls",
      "model_module_version": "1.5.0",
      "model_name": "HTMLModel",
      "state": {
       "layout": "IPY_MODEL_d147138478e340acb670336d7d4f6522",
       "style": "IPY_MODEL_ffd80c49dc724389994433a783987ffc",
       "value": "job is queued"
      }
     },
     "c5a367cd40e84d189cff780bcf25eb32": {
      "model_module": "@jupyter-widgets/controls",
      "model_module_version": "1.5.0",
      "model_name": "HTMLModel",
      "state": {
       "layout": "IPY_MODEL_65fd42c8bedb4e9ba6e8569e74c9ffbd",
       "style": "IPY_MODEL_b6fb02ba057348e589e9caedeb07dc24",
       "value": "62bb98c0716a31df38561653"
      }
     },
     "c6e1f51d56b140c6adba01487b134833": {
      "model_module": "@jupyter-widgets/base",
      "model_module_version": "1.2.0",
      "model_name": "LayoutModel",
      "state": {
       "width": "190px"
      }
     },
     "c7d6d5fab55a4bab8b7b309326d03211": {
      "model_module": "@jupyter-widgets/base",
      "model_module_version": "1.2.0",
      "model_name": "LayoutModel",
      "state": {
       "overflow_x": "scroll"
      }
     },
     "c8563b958abe4281bdb8a2c7ff093b11": {
      "model_module": "@jupyter-widgets/controls",
      "model_module_version": "1.5.0",
      "model_name": "HTMLModel",
      "state": {
       "layout": "IPY_MODEL_6aefe02a92594c0e88ba0fbbba19f403",
       "style": "IPY_MODEL_91dea759715e462e9dee810e93d8c24a",
       "value": "<font style='color:#34BC6E'>DONE</font>"
      }
     },
     "cae8497392774bfd95fd46028efd59c4": {
      "model_module": "@jupyter-widgets/controls",
      "model_module_version": "1.5.0",
      "model_name": "HTMLModel",
      "state": {
       "layout": "IPY_MODEL_3a4e2b2c82b2486f941feaa77efaf733",
       "style": "IPY_MODEL_e2f862d66c52414eb1a3fe71e5c44b36",
       "value": "ibm_lagos"
      }
     },
     "ce3e400bed1742ec8574d1e602f6a84e": {
      "model_module": "@jupyter-widgets/controls",
      "model_module_version": "1.5.0",
      "model_name": "HTMLModel",
      "state": {
       "layout": "IPY_MODEL_9dc03019770847dd86d1c4620b39d1aa",
       "style": "IPY_MODEL_22017f9462794351bc8ba85fe5db8b23",
       "value": "<h5>Queue</h5>"
      }
     },
     "d147138478e340acb670336d7d4f6522": {
      "model_module": "@jupyter-widgets/base",
      "model_module_version": "1.2.0",
      "model_name": "LayoutModel",
      "state": {
       "overflow_x": "scroll"
      }
     },
     "e2f862d66c52414eb1a3fe71e5c44b36": {
      "model_module": "@jupyter-widgets/controls",
      "model_module_version": "1.5.0",
      "model_name": "DescriptionStyleModel",
      "state": {
       "description_width": ""
      }
     },
     "e7bbd52d713a4b039b37759727584a9d": {
      "model_module": "@jupyter-widgets/controls",
      "model_module_version": "1.5.0",
      "model_name": "ButtonModel",
      "state": {
       "icon": "close",
       "layout": "IPY_MODEL_ebef2d9204f7497eb9d13481c0afa6a8",
       "style": "IPY_MODEL_2fccd1c5318f4affb10a973580960bd4"
      }
     },
     "e9d386413326428c872b15b9175cdef3": {
      "model_module": "@jupyter-widgets/base",
      "model_module_version": "1.2.0",
      "model_name": "LayoutModel",
      "state": {
       "margin": "0px 5px 0px 0px",
       "width": "32px"
      }
     },
     "ebef2d9204f7497eb9d13481c0afa6a8": {
      "model_module": "@jupyter-widgets/base",
      "model_module_version": "1.2.0",
      "model_name": "LayoutModel",
      "state": {
       "margin": "0px 5px 0px 0px",
       "width": "32px"
      }
     },
     "f32cb2d782344cc4bf4b7e3ea420dec0": {
      "model_module": "@jupyter-widgets/controls",
      "model_module_version": "1.5.0",
      "model_name": "DescriptionStyleModel",
      "state": {
       "description_width": ""
      }
     },
     "f943003997454aad83b9fe4c22d771f6": {
      "model_module": "@jupyter-widgets/base",
      "model_module_version": "1.2.0",
      "model_name": "LayoutModel",
      "state": {
       "width": "70px"
      }
     },
     "ff274dab15d34d019eb05be630c7009a": {
      "model_module": "@jupyter-widgets/controls",
      "model_module_version": "1.5.0",
      "model_name": "HTMLModel",
      "state": {
       "layout": "IPY_MODEL_774dec17fec246638dffe6855592a3d3",
       "style": "IPY_MODEL_09c3bdd3457e49caaaf152a8089d3d70",
       "value": "<p style='font-family: IBM Plex Sans, Arial, Helvetica, sans-serif; font-size: 20px; font-weight: medium;'>Circuit Properties</p>"
      }
     },
     "ffd80c49dc724389994433a783987ffc": {
      "model_module": "@jupyter-widgets/controls",
      "model_module_version": "1.5.0",
      "model_name": "DescriptionStyleModel",
      "state": {
       "description_width": ""
      }
     }
    },
    "version_major": 2,
    "version_minor": 0
   }
  }
 },
 "nbformat": 4,
 "nbformat_minor": 4
}
