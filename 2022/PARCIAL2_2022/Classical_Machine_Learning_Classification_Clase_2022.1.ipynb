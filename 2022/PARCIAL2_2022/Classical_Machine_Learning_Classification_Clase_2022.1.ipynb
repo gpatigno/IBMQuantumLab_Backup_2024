{
 "cells": [
  {
   "cell_type": "code",
   "execution_count": 1,
   "metadata": {},
   "outputs": [],
   "source": [
    "# ***************************************************************************************************\n",
    "# This is just a Python code without any Qiskit function or quantum circuit.\n",
    "# Here you will find a simple version of classical machine learning algorithm for binary classification.\n",
    "# ***************************************************************************************************\n",
    "\n",
    "# ***************************************************************************************************\n",
    "# Code from:\n",
    "# Zickert, F. (2021). Chapter 2: Binary Classification. \n",
    "# In F. Zickert, Hands-On Quantum Machine Learning With Python: Volume 1: Get Started, PyQML, 2021. \n",
    "# Available on https://www.pyqml.com/\n",
    "# ***************************************************************************************************\n",
    "\n",
    "# ***************************************************************************************************\n",
    "# Modifications have been made by Gustavo Patino.\n",
    "# Engineering School\n",
    "# University of Antioquia.\n",
    "# Medellin, Colombia\n",
    "# September, 2022.\n",
    "# ***************************************************************************************************"
   ]
  },
  {
   "cell_type": "code",
   "execution_count": 2,
   "metadata": {
    "id": "msMIDAMIMdej"
   },
   "outputs": [],
   "source": [
    "# ***************************************************\n",
    "## 1. Look at the data\n",
    "# ***************************************************"
   ]
  },
  {
   "cell_type": "code",
   "execution_count": 3,
   "metadata": {
    "colab": {
     "base_uri": "https://localhost:8080/"
    },
    "id": "9aI31BmRMlis",
    "outputId": "ee354d41-08ef-4239-abc2-029104df9282"
   },
   "outputs": [],
   "source": [
    "#from google.colab import drive\n",
    "#drive.mount('/content/drive')"
   ]
  },
  {
   "cell_type": "code",
   "execution_count": 4,
   "metadata": {},
   "outputs": [],
   "source": [
    "# Importing the Qiskit Lab. Drive:\n",
    "import sys\n",
    "sys.path.insert(0, '..')"
   ]
  },
  {
   "cell_type": "code",
   "execution_count": 5,
   "metadata": {
    "id": "wqO2N-xuMden"
   },
   "outputs": [],
   "source": [
    "# Listing 2.1: Load the data from the csv‐files\n",
    "import pandas as pd\n",
    "\n",
    "train = pd.read_csv('data/train.csv')\n",
    "test = pd.read_csv('data/test.csv')"
   ]
  },
  {
   "cell_type": "code",
   "execution_count": 6,
   "metadata": {
    "colab": {
     "base_uri": "https://localhost:8080/"
    },
    "id": "-G_OwRb1Mdep",
    "outputId": "305b07bf-4465-46b7-a2f4-edcfa6100e6a",
    "tags": []
   },
   "outputs": [
    {
     "name": "stdout",
     "output_type": "stream",
     "text": [
      "train has 891 rows and 12 columns\n",
      "test has 418 rows and 11 columns\n"
     ]
    }
   ],
   "source": [
    "# Listing 2.2: The shapes of the Titanic datasets\n",
    "print('train has {} rows and {} columns'.format(*train.shape))\n",
    "print('test has {} rows and {} columns'.format(*test.shape))"
   ]
  },
  {
   "cell_type": "code",
   "execution_count": 7,
   "metadata": {
    "colab": {
     "base_uri": "https://localhost:8080/"
    },
    "id": "oNu0VNBaMdeq",
    "outputId": "2a37b7d1-7a56-4d18-8211-5652bb9deeb6",
    "tags": []
   },
   "outputs": [
    {
     "name": "stdout",
     "output_type": "stream",
     "text": [
      "<class 'pandas.core.frame.DataFrame'>\n",
      "RangeIndex: 891 entries, 0 to 890\n",
      "Data columns (total 12 columns):\n",
      " #   Column       Non-Null Count  Dtype  \n",
      "---  ------       --------------  -----  \n",
      " 0   PassengerId  891 non-null    int64  \n",
      " 1   Survived     891 non-null    int64  \n",
      " 2   Pclass       891 non-null    int64  \n",
      " 3   Name         891 non-null    object \n",
      " 4   Sex          891 non-null    object \n",
      " 5   Age          714 non-null    float64\n",
      " 6   SibSp        891 non-null    int64  \n",
      " 7   Parch        891 non-null    int64  \n",
      " 8   Ticket       891 non-null    object \n",
      " 9   Fare         891 non-null    float64\n",
      " 10  Cabin        204 non-null    object \n",
      " 11  Embarked     889 non-null    object \n",
      "dtypes: float64(2), int64(5), object(5)\n",
      "memory usage: 83.7+ KB\n"
     ]
    }
   ],
   "source": [
    "# Listing 2.3: The structure of the train dataset\n",
    "train.info()"
   ]
  },
  {
   "cell_type": "code",
   "execution_count": 8,
   "metadata": {
    "colab": {
     "base_uri": "https://localhost:8080/"
    },
    "id": "ttZxa9JFMder",
    "outputId": "784f7ec7-7f33-409f-b6f8-7252c6a5df89",
    "tags": []
   },
   "outputs": [
    {
     "name": "stdout",
     "output_type": "stream",
     "text": [
      "<class 'pandas.core.frame.DataFrame'>\n",
      "RangeIndex: 418 entries, 0 to 417\n",
      "Data columns (total 11 columns):\n",
      " #   Column       Non-Null Count  Dtype  \n",
      "---  ------       --------------  -----  \n",
      " 0   PassengerId  418 non-null    int64  \n",
      " 1   Pclass       418 non-null    int64  \n",
      " 2   Name         418 non-null    object \n",
      " 3   Sex          418 non-null    object \n",
      " 4   Age          332 non-null    float64\n",
      " 5   SibSp        418 non-null    int64  \n",
      " 6   Parch        418 non-null    int64  \n",
      " 7   Ticket       418 non-null    object \n",
      " 8   Fare         417 non-null    float64\n",
      " 9   Cabin        91 non-null     object \n",
      " 10  Embarked     418 non-null    object \n",
      "dtypes: float64(2), int64(4), object(5)\n",
      "memory usage: 36.0+ KB\n"
     ]
    }
   ],
   "source": [
    "# Listing 2.4: The structure of the test dataset\n",
    "test.info()"
   ]
  },
  {
   "cell_type": "code",
   "execution_count": 9,
   "metadata": {
    "colab": {
     "base_uri": "https://localhost:8080/",
     "height": 206
    },
    "id": "J_pkTHDKMdet",
    "outputId": "292cc331-d895-495e-df11-36750627f33b",
    "tags": [
     "Raw"
    ]
   },
   "outputs": [
    {
     "data": {
      "text/html": [
       "<div>\n",
       "<style scoped>\n",
       "    .dataframe tbody tr th:only-of-type {\n",
       "        vertical-align: middle;\n",
       "    }\n",
       "\n",
       "    .dataframe tbody tr th {\n",
       "        vertical-align: top;\n",
       "    }\n",
       "\n",
       "    .dataframe thead th {\n",
       "        text-align: right;\n",
       "    }\n",
       "</style>\n",
       "<table border=\"1\" class=\"dataframe\">\n",
       "  <thead>\n",
       "    <tr style=\"text-align: right;\">\n",
       "      <th></th>\n",
       "      <th>PassengerId</th>\n",
       "      <th>Survived</th>\n",
       "      <th>Pclass</th>\n",
       "      <th>Name</th>\n",
       "      <th>Sex</th>\n",
       "      <th>Age</th>\n",
       "      <th>SibSp</th>\n",
       "      <th>Parch</th>\n",
       "      <th>Ticket</th>\n",
       "      <th>Fare</th>\n",
       "      <th>Cabin</th>\n",
       "      <th>Embarked</th>\n",
       "    </tr>\n",
       "  </thead>\n",
       "  <tbody>\n",
       "    <tr>\n",
       "      <th>0</th>\n",
       "      <td>1</td>\n",
       "      <td>0</td>\n",
       "      <td>3</td>\n",
       "      <td>Braund, Mr. Owen Harris</td>\n",
       "      <td>male</td>\n",
       "      <td>22.0</td>\n",
       "      <td>1</td>\n",
       "      <td>0</td>\n",
       "      <td>A/5 21171</td>\n",
       "      <td>7.2500</td>\n",
       "      <td>NaN</td>\n",
       "      <td>S</td>\n",
       "    </tr>\n",
       "    <tr>\n",
       "      <th>1</th>\n",
       "      <td>2</td>\n",
       "      <td>1</td>\n",
       "      <td>1</td>\n",
       "      <td>Cumings, Mrs. John Bradley (Florence Briggs Th...</td>\n",
       "      <td>female</td>\n",
       "      <td>38.0</td>\n",
       "      <td>1</td>\n",
       "      <td>0</td>\n",
       "      <td>PC 17599</td>\n",
       "      <td>71.2833</td>\n",
       "      <td>C85</td>\n",
       "      <td>C</td>\n",
       "    </tr>\n",
       "    <tr>\n",
       "      <th>2</th>\n",
       "      <td>3</td>\n",
       "      <td>1</td>\n",
       "      <td>3</td>\n",
       "      <td>Heikkinen, Miss. Laina</td>\n",
       "      <td>female</td>\n",
       "      <td>26.0</td>\n",
       "      <td>0</td>\n",
       "      <td>0</td>\n",
       "      <td>STON/O2. 3101282</td>\n",
       "      <td>7.9250</td>\n",
       "      <td>NaN</td>\n",
       "      <td>S</td>\n",
       "    </tr>\n",
       "    <tr>\n",
       "      <th>3</th>\n",
       "      <td>4</td>\n",
       "      <td>1</td>\n",
       "      <td>1</td>\n",
       "      <td>Futrelle, Mrs. Jacques Heath (Lily May Peel)</td>\n",
       "      <td>female</td>\n",
       "      <td>35.0</td>\n",
       "      <td>1</td>\n",
       "      <td>0</td>\n",
       "      <td>113803</td>\n",
       "      <td>53.1000</td>\n",
       "      <td>C123</td>\n",
       "      <td>S</td>\n",
       "    </tr>\n",
       "    <tr>\n",
       "      <th>4</th>\n",
       "      <td>5</td>\n",
       "      <td>0</td>\n",
       "      <td>3</td>\n",
       "      <td>Allen, Mr. William Henry</td>\n",
       "      <td>male</td>\n",
       "      <td>35.0</td>\n",
       "      <td>0</td>\n",
       "      <td>0</td>\n",
       "      <td>373450</td>\n",
       "      <td>8.0500</td>\n",
       "      <td>NaN</td>\n",
       "      <td>S</td>\n",
       "    </tr>\n",
       "  </tbody>\n",
       "</table>\n",
       "</div>"
      ],
      "text/plain": [
       "   PassengerId  Survived  Pclass  \\\n",
       "0            1         0       3   \n",
       "1            2         1       1   \n",
       "2            3         1       3   \n",
       "3            4         1       1   \n",
       "4            5         0       3   \n",
       "\n",
       "                                                Name     Sex   Age  SibSp  \\\n",
       "0                            Braund, Mr. Owen Harris    male  22.0      1   \n",
       "1  Cumings, Mrs. John Bradley (Florence Briggs Th...  female  38.0      1   \n",
       "2                             Heikkinen, Miss. Laina  female  26.0      0   \n",
       "3       Futrelle, Mrs. Jacques Heath (Lily May Peel)  female  35.0      1   \n",
       "4                           Allen, Mr. William Henry    male  35.0      0   \n",
       "\n",
       "   Parch            Ticket     Fare Cabin Embarked  \n",
       "0      0         A/5 21171   7.2500   NaN        S  \n",
       "1      0          PC 17599  71.2833   C85        C  \n",
       "2      0  STON/O2. 3101282   7.9250   NaN        S  \n",
       "3      0            113803  53.1000  C123        S  \n",
       "4      0            373450   8.0500   NaN        S  "
      ]
     },
     "execution_count": 9,
     "metadata": {},
     "output_type": "execute_result"
    }
   ],
   "source": [
    "# Listing 2.5: Look at the data\n",
    "train.head()"
   ]
  },
  {
   "cell_type": "code",
   "execution_count": null,
   "metadata": {},
   "outputs": [],
   "source": []
  },
  {
   "cell_type": "code",
   "execution_count": null,
   "metadata": {
    "id": "q7jtCKPBMdeu"
   },
   "outputs": [],
   "source": [
    "# ***************************************************\n",
    "## 2. Data Preparation and Cleaning\n",
    "# ***************************************************"
   ]
  },
  {
   "cell_type": "code",
   "execution_count": 10,
   "metadata": {
    "colab": {
     "base_uri": "https://localhost:8080/"
    },
    "id": "_S7e5qaAMdeu",
    "outputId": "660b1fc3-6e93-42ab-acc9-4da417a09b1e",
    "tags": []
   },
   "outputs": [
    {
     "name": "stdout",
     "output_type": "stream",
     "text": [
      "<class 'pandas.core.frame.DataFrame'>\n",
      "Int64Index: 889 entries, 0 to 890\n",
      "Data columns (total 11 columns):\n",
      " #   Column       Non-Null Count  Dtype  \n",
      "---  ------       --------------  -----  \n",
      " 0   PassengerId  889 non-null    int64  \n",
      " 1   Survived     889 non-null    int64  \n",
      " 2   Pclass       889 non-null    int64  \n",
      " 3   Name         889 non-null    object \n",
      " 4   Sex          889 non-null    object \n",
      " 5   Age          889 non-null    float64\n",
      " 6   SibSp        889 non-null    int64  \n",
      " 7   Parch        889 non-null    int64  \n",
      " 8   Ticket       889 non-null    object \n",
      " 9   Fare         889 non-null    float64\n",
      " 10  Embarked     889 non-null    object \n",
      "dtypes: float64(2), int64(5), object(4)\n",
      "memory usage: 83.3+ KB\n"
     ]
    }
   ],
   "source": [
    "# Listing 2.6: Cope with missing values\n",
    "# option 1\n",
    "# We only have two passengers without it. This is bearable\n",
    "train = train.dropna(subset=[\"Embarked\"])\n",
    "\n",
    "# option 2\n",
    "# We only have very few information about the cabin, let's drop it\n",
    "train = train.drop(\"Cabin\", axis=1) \n",
    "\n",
    "# option 3\n",
    "# The age misses quite a few times. But intuition\n",
    "# says it might be important for someone's chance to survive.\n",
    "mean = train[\"Age\"].mean()\n",
    "train[\"Age\"] = train[\"Age\"].fillna(mean)\n",
    "\n",
    "train.info()"
   ]
  },
  {
   "cell_type": "code",
   "execution_count": 11,
   "metadata": {
    "id": "twkykY1XMdew"
   },
   "outputs": [],
   "source": [
    "## 2.1 Deleting unuseful information"
   ]
  },
  {
   "cell_type": "code",
   "execution_count": 12,
   "metadata": {
    "colab": {
     "base_uri": "https://localhost:8080/"
    },
    "id": "FDxFnswJMdex",
    "outputId": "5bf650ec-ab86-4af0-ae2b-939dc511bb51",
    "tags": []
   },
   "outputs": [
    {
     "name": "stdout",
     "output_type": "stream",
     "text": [
      "There are 889 different (unique) PassengerIds in the data\n",
      "There are 889 different (unique) names in the data\n",
      "There are 680 different (unique) ticket numbers in the data\n"
     ]
    }
   ],
   "source": [
    "# Listing 2.7: Unique values in columns\n",
    "print('There are {} different (unique) PassengerIds in the data'\n",
    "    .format(train[\"PassengerId\"].nunique()))\n",
    "print('There are {} different (unique) names in the data'\n",
    "    .format(train[\"Name\"].nunique()))\n",
    "print('There are {} different (unique) ticket numbers in the data'\n",
    "    .format(train[\"Ticket\"].nunique()))"
   ]
  },
  {
   "cell_type": "code",
   "execution_count": 13,
   "metadata": {
    "colab": {
     "base_uri": "https://localhost:8080/"
    },
    "id": "SXF5HgFqMdey",
    "outputId": "339daeb8-ab3e-47a7-9262-c73678549f3d",
    "tags": []
   },
   "outputs": [
    {
     "name": "stdout",
     "output_type": "stream",
     "text": [
      "<class 'pandas.core.frame.DataFrame'>\n",
      "Int64Index: 889 entries, 0 to 890\n",
      "Data columns (total 8 columns):\n",
      " #   Column    Non-Null Count  Dtype  \n",
      "---  ------    --------------  -----  \n",
      " 0   Survived  889 non-null    int64  \n",
      " 1   Pclass    889 non-null    int64  \n",
      " 2   Sex       889 non-null    object \n",
      " 3   Age       889 non-null    float64\n",
      " 4   SibSp     889 non-null    int64  \n",
      " 5   Parch     889 non-null    int64  \n",
      " 6   Fare      889 non-null    float64\n",
      " 7   Embarked  889 non-null    object \n",
      "dtypes: float64(2), int64(4), object(2)\n",
      "memory usage: 62.5+ KB\n"
     ]
    }
   ],
   "source": [
    "# Listing 2.8: Remove identifying data\n",
    "train = train.drop(\"PassengerId\", axis=1)\n",
    "train = train.drop(\"Name\", axis=1) \n",
    "train = train.drop(\"Ticket\", axis=1) \n",
    "\n",
    "train.info()"
   ]
  },
  {
   "cell_type": "code",
   "execution_count": 14,
   "metadata": {
    "colab": {
     "base_uri": "https://localhost:8080/",
     "height": 206
    },
    "id": "j6v021BRMdez",
    "outputId": "aa0b588d-f9b5-46f6-dedb-e2d1fd341e55",
    "tags": [
     "Raw"
    ]
   },
   "outputs": [
    {
     "name": "stderr",
     "output_type": "stream",
     "text": [
      "<frozen importlib._bootstrap>:219: RuntimeWarning: scipy._lib.messagestream.MessageStream size changed, may indicate binary incompatibility. Expected 56 from C header, got 64 from PyObject\n"
     ]
    },
    {
     "data": {
      "text/html": [
       "<div>\n",
       "<style scoped>\n",
       "    .dataframe tbody tr th:only-of-type {\n",
       "        vertical-align: middle;\n",
       "    }\n",
       "\n",
       "    .dataframe tbody tr th {\n",
       "        vertical-align: top;\n",
       "    }\n",
       "\n",
       "    .dataframe thead th {\n",
       "        text-align: right;\n",
       "    }\n",
       "</style>\n",
       "<table border=\"1\" class=\"dataframe\">\n",
       "  <thead>\n",
       "    <tr style=\"text-align: right;\">\n",
       "      <th></th>\n",
       "      <th>Survived</th>\n",
       "      <th>Pclass</th>\n",
       "      <th>Sex</th>\n",
       "      <th>Age</th>\n",
       "      <th>SibSp</th>\n",
       "      <th>Parch</th>\n",
       "      <th>Fare</th>\n",
       "      <th>Embarked</th>\n",
       "    </tr>\n",
       "  </thead>\n",
       "  <tbody>\n",
       "    <tr>\n",
       "      <th>0</th>\n",
       "      <td>0</td>\n",
       "      <td>3</td>\n",
       "      <td>1</td>\n",
       "      <td>22.0</td>\n",
       "      <td>1</td>\n",
       "      <td>0</td>\n",
       "      <td>7.2500</td>\n",
       "      <td>2</td>\n",
       "    </tr>\n",
       "    <tr>\n",
       "      <th>1</th>\n",
       "      <td>1</td>\n",
       "      <td>1</td>\n",
       "      <td>0</td>\n",
       "      <td>38.0</td>\n",
       "      <td>1</td>\n",
       "      <td>0</td>\n",
       "      <td>71.2833</td>\n",
       "      <td>0</td>\n",
       "    </tr>\n",
       "    <tr>\n",
       "      <th>2</th>\n",
       "      <td>1</td>\n",
       "      <td>3</td>\n",
       "      <td>0</td>\n",
       "      <td>26.0</td>\n",
       "      <td>0</td>\n",
       "      <td>0</td>\n",
       "      <td>7.9250</td>\n",
       "      <td>2</td>\n",
       "    </tr>\n",
       "    <tr>\n",
       "      <th>3</th>\n",
       "      <td>1</td>\n",
       "      <td>1</td>\n",
       "      <td>0</td>\n",
       "      <td>35.0</td>\n",
       "      <td>1</td>\n",
       "      <td>0</td>\n",
       "      <td>53.1000</td>\n",
       "      <td>2</td>\n",
       "    </tr>\n",
       "    <tr>\n",
       "      <th>4</th>\n",
       "      <td>0</td>\n",
       "      <td>3</td>\n",
       "      <td>1</td>\n",
       "      <td>35.0</td>\n",
       "      <td>0</td>\n",
       "      <td>0</td>\n",
       "      <td>8.0500</td>\n",
       "      <td>2</td>\n",
       "    </tr>\n",
       "  </tbody>\n",
       "</table>\n",
       "</div>"
      ],
      "text/plain": [
       "   Survived  Pclass  Sex   Age  SibSp  Parch     Fare  Embarked\n",
       "0         0       3    1  22.0      1      0   7.2500         2\n",
       "1         1       1    0  38.0      1      0  71.2833         0\n",
       "2         1       3    0  26.0      0      0   7.9250         2\n",
       "3         1       1    0  35.0      1      0  53.1000         2\n",
       "4         0       3    1  35.0      0      0   8.0500         2"
      ]
     },
     "execution_count": 14,
     "metadata": {},
     "output_type": "execute_result"
    }
   ],
   "source": [
    "# Listing 2.9: Transforming textual data into numbers\n",
    "from sklearn.preprocessing import LabelEncoder\n",
    "le = LabelEncoder()\n",
    "\n",
    "for col in ['Sex', 'Embarked']:\n",
    "    le.fit(train[col])\n",
    "    train[col] = le.transform(train[col])\n",
    "\n",
    "train.head()"
   ]
  },
  {
   "cell_type": "code",
   "execution_count": 15,
   "metadata": {
    "colab": {
     "base_uri": "https://localhost:8080/",
     "height": 243
    },
    "id": "k_S6WHloMde0",
    "outputId": "bdcdb69d-f563-41bf-ccdb-40ccad4bc4e5",
    "tags": []
   },
   "outputs": [
    {
     "name": "stdout",
     "output_type": "stream",
     "text": [
      "The maximum age is 80.0\n",
      "The maximum fare is 512.3292\n"
     ]
    }
   ],
   "source": [
    "# Listing 2.10: The maximum values\n",
    "print('The maximum age is {}'.format(train[\"Age\"].max()))\n",
    "print('The maximum fare is {}'.format(train[\"Fare\"].max()))\n"
   ]
  },
  {
   "cell_type": "code",
   "execution_count": 16,
   "metadata": {
    "colab": {
     "base_uri": "https://localhost:8080/"
    },
    "id": "F8BcY7XGMde2",
    "outputId": "b1d4e75a-fe21-45ad-8f87-4e2f1d1f5a3c",
    "tags": []
   },
   "outputs": [
    {
     "name": "stdout",
     "output_type": "stream",
     "text": [
      "The minimum value is 0.0 and the maximum value is 1.0\n"
     ]
    }
   ],
   "source": [
    "# Listing 2.11: Normalization of the data.\n",
    "from sklearn.preprocessing import MinMaxScaler\n",
    "\n",
    "scaler = MinMaxScaler()\n",
    "scaler.fit(train)\n",
    "train = scaler.transform(train)\n",
    "\n",
    "print('The minimum value is {} and the maximum value is {}'\n",
    "    .format(train.min(), train.max()))"
   ]
  },
  {
   "cell_type": "code",
   "execution_count": 17,
   "metadata": {
    "colab": {
     "base_uri": "https://localhost:8080/"
    },
    "id": "W_CWyUeIz-lT",
    "outputId": "f211f6ca-b7b5-4882-d975-4bb5284f6c86"
   },
   "outputs": [
    {
     "name": "stdout",
     "output_type": "stream",
     "text": [
      "[[0.         1.         1.         ... 0.         0.01415106 1.        ]\n",
      " [1.         0.         0.         ... 0.         0.13913574 0.        ]\n",
      " [1.         1.         0.         ... 0.         0.01546857 1.        ]\n",
      " ...\n",
      " [0.         1.         0.         ... 0.33333333 0.04577135 1.        ]\n",
      " [1.         0.         1.         ... 0.         0.0585561  0.        ]\n",
      " [0.         1.         1.         ... 0.         0.01512699 0.5       ]]\n"
     ]
    }
   ],
   "source": [
    "print(train)"
   ]
  },
  {
   "cell_type": "code",
   "execution_count": 18,
   "metadata": {
    "id": "klxO2Zk51EPX"
   },
   "outputs": [],
   "source": [
    "################################################\n",
    "## Separating train and test sets\n",
    "################################################"
   ]
  },
  {
   "cell_type": "code",
   "execution_count": 19,
   "metadata": {
    "colab": {
     "base_uri": "https://localhost:8080/"
    },
    "id": "aYS-Ir2IMde2",
    "outputId": "494f5de2-f590-433a-fb86-19deeebe2c78",
    "tags": []
   },
   "outputs": [
    {
     "name": "stdout",
     "output_type": "stream",
     "text": [
      "We have 711 training and 178 testing rows\n",
      "There are 7 input columns\n"
     ]
    }
   ],
   "source": [
    "# Listing 2.12: Separating input from labels and training from testing sets\n",
    "from sklearn.model_selection import train_test_split\n",
    "\n",
    "input_data = train[:, 1:8]\n",
    "labels = train[:, 0]\n",
    "\n",
    "train_input, test_input, train_labels, test_labels = train_test_split(\n",
    "    input_data, labels, test_size =0.2)\n",
    "\n",
    "print('We have {} training and {} testing rows'.format(train_input.shape[0], test_input.shape[0]))\n",
    "print('There are {} input columns'.format(train_input.shape[1]))"
   ]
  },
  {
   "cell_type": "code",
   "execution_count": 20,
   "metadata": {
    "id": "Spny11mbMde4"
   },
   "outputs": [],
   "source": [
    "# Listing 2.13: Save the data to the filesystem\n",
    "import numpy as np\n",
    "\n",
    "with open('data/train.npy', 'wb') as f:\n",
    "    np.save(f, train_input)\n",
    "    np.save(f, train_labels)\n",
    "\n",
    "with open('data/test.npy', 'wb') as f:\n",
    "    np.save(f, test_input)\n",
    "    np.save(f, test_labels)\n",
    "#CAPTION Save the data to the filesystem"
   ]
  },
  {
   "cell_type": "code",
   "execution_count": 21,
   "metadata": {
    "colab": {
     "base_uri": "https://localhost:8080/"
    },
    "id": "Otz8Vfp63EyA",
    "outputId": "76e24bc3-9f7d-4971-cb22-3cf5cd041bab"
   },
   "outputs": [
    {
     "name": "stdout",
     "output_type": "stream",
     "text": [
      "[[0.5        1.         0.33400352 ... 0.         0.02537431 1.        ]\n",
      " [0.         1.         0.22090978 ... 0.         0.21255864 0.        ]\n",
      " [1.         0.         0.36720398 ... 0.         0.03025399 0.5       ]\n",
      " ...\n",
      " [0.5        1.         0.58532295 ... 0.         0.02927805 1.        ]\n",
      " [1.         0.         0.17064589 ... 0.         0.02194234 0.        ]\n",
      " [1.         0.         0.36720398 ... 0.33333333 0.0436405  0.        ]]\n"
     ]
    }
   ],
   "source": [
    "print(train_input)"
   ]
  },
  {
   "cell_type": "code",
   "execution_count": null,
   "metadata": {
    "id": "CxCC3O9xMde4"
   },
   "outputs": [],
   "source": [
    "################################################\n",
    "# 3. Firts Classifiers\n",
    "## 3.1 A Random Classifier\n",
    "################################################"
   ]
  },
  {
   "cell_type": "code",
   "execution_count": 22,
   "metadata": {
    "id": "EYKvZP_RMde4"
   },
   "outputs": [],
   "source": [
    "# Listing 2.14: A random classifier\n",
    "import random\n",
    "random.seed(a=None, version=2)\n",
    " \n",
    "def ramd_classify(passenger):\n",
    "    return random.randint(0, 1)"
   ]
  },
  {
   "cell_type": "code",
   "execution_count": 23,
   "metadata": {
    "id": "r2w3-cswMde6"
   },
   "outputs": [],
   "source": [
    "# Listing 2.15: The classification runner\n",
    "def run(f_classify, x):\n",
    "    return list(map(f_classify, x))"
   ]
  },
  {
   "cell_type": "code",
   "execution_count": 24,
   "metadata": {
    "colab": {
     "base_uri": "https://localhost:8080/"
    },
    "id": "i3g5g3VVMde6",
    "outputId": "14ebd505-195a-4b4c-ca9c-5508f71ac01e",
    "tags": []
   },
   "outputs": [
    {
     "name": "stdout",
     "output_type": "stream",
     "text": [
      "[1, 1, 1, 0, 0, 0, 1, 0, 1, 0, 1, 0, 1, 1, 0, 0, 0, 1, 0, 1, 1, 0, 1, 1, 0, 0, 1, 0, 1, 0, 1, 1, 1, 0, 1, 1, 1, 0, 0, 0, 1, 0, 1, 1, 1, 1, 0, 0, 0, 0, 0, 1, 1, 0, 0, 1, 0, 0, 1, 1, 0, 0, 1, 1, 0, 1, 1, 0, 0, 1, 0, 1, 0, 1, 1, 1, 1, 0, 0, 0, 0, 0, 0, 1, 0, 0, 0, 0, 0, 0, 0, 1, 0, 0, 0, 1, 1, 1, 0, 1, 1, 1, 1, 1, 0, 1, 1, 1, 1, 1, 0, 0, 1, 1, 1, 0, 1, 0, 1, 0, 1, 1, 1, 0, 1, 1, 1, 0, 0, 1, 1, 0, 0, 1, 1, 0, 1, 1, 1, 0, 1, 0, 1, 1, 1, 0, 1, 0, 1, 1, 1, 0, 1, 0, 1, 1, 1, 1, 1, 0, 1, 1, 1, 0, 0, 0, 0, 1, 0, 1, 1, 1, 0, 1, 0, 0, 1, 0, 1, 1, 1, 0, 1, 1, 0, 1, 1, 0, 1, 0, 0, 1, 0, 1, 0, 1, 0, 0, 1, 0, 0, 0, 0, 1, 0, 0, 1, 1, 0, 0, 1, 0, 0, 1, 0, 0, 1, 1, 0, 1, 0, 1, 1, 1, 0, 0, 1, 0, 0, 0, 1, 1, 0, 1, 1, 0, 0, 0, 1, 1, 0, 0, 1, 0, 1, 1, 0, 1, 0, 1, 1, 0, 1, 0, 1, 1, 0, 0, 0, 1, 0, 1, 1, 0, 1, 0, 1, 1, 0, 0, 1, 1, 1, 1, 0, 0, 0, 0, 0, 1, 1, 0, 1, 1, 1, 1, 0, 1, 1, 0, 0, 1, 0, 0, 0, 1, 1, 1, 1, 1, 1, 0, 0, 1, 0, 1, 1, 0, 1, 0, 1, 0, 1, 1, 0, 1, 1, 1, 0, 1, 1, 0, 0, 1, 1, 1, 0, 0, 1, 0, 0, 0, 1, 1, 1, 0, 1, 1, 1, 1, 0, 0, 0, 0, 0, 0, 0, 1, 0, 1, 1, 1, 1, 0, 1, 1, 1, 0, 1, 1, 0, 0, 0, 1, 1, 0, 1, 0, 0, 1, 1, 0, 1, 1, 1, 0, 1, 1, 0, 1, 1, 1, 1, 0, 0, 1, 0, 1, 1, 0, 1, 0, 1, 0, 1, 0, 0, 0, 0, 1, 1, 1, 0, 0, 1, 0, 1, 0, 0, 1, 0, 0, 1, 1, 0, 0, 0, 0, 0, 1, 1, 1, 1, 1, 1, 1, 0, 0, 0, 0, 0, 0, 0, 0, 0, 1, 1, 0, 1, 0, 0, 0, 0, 0, 1, 1, 1, 1, 0, 0, 0, 1, 1, 0, 1, 1, 0, 1, 0, 0, 0, 0, 0, 0, 0, 1, 0, 0, 0, 1, 1, 0, 0, 0, 1, 1, 0, 1, 1, 0, 1, 0, 0, 0, 1, 1, 1, 0, 0, 1, 0, 1, 1, 1, 1, 0, 1, 0, 0, 0, 1, 0, 1, 1, 0, 1, 0, 0, 0, 1, 1, 1, 0, 0, 0, 0, 1, 1, 1, 0, 1, 0, 1, 0, 0, 1, 0, 1, 1, 0, 1, 0, 1, 0, 0, 1, 1, 1, 1, 1, 0, 0, 1, 0, 0, 0, 0, 1, 0, 1, 0, 0, 0, 0, 0, 0, 0, 0, 1, 1, 0, 0, 1, 0, 0, 0, 0, 1, 1, 0, 1, 0, 1, 1, 0, 0, 0, 0, 1, 0, 1, 1, 1, 1, 0, 1, 1, 1, 0, 1, 1, 1, 0, 1, 0, 1, 1, 1, 1, 0, 0, 1, 1, 1, 1, 1, 0, 1, 1, 0, 1, 1, 0, 1, 1, 1, 0, 0, 1, 0, 0, 0, 0, 0, 1, 1, 1, 0, 1, 1, 1, 1, 1, 1, 0, 1, 1, 1, 0, 1, 1, 0, 1, 0, 1, 1, 1, 0, 0, 0, 0, 0, 0, 1, 1, 1, 1, 1, 0, 1, 1, 1, 1, 0, 0, 0, 0, 1, 1, 1, 1, 1, 0, 0, 0, 0, 0, 0, 1, 1, 0, 0, 0, 0, 1, 0, 0, 0, 1, 1, 0, 1, 1, 1, 1, 1, 1, 0, 1, 0, 0, 1, 1, 0, 0, 0, 1, 1, 1, 0, 1]\n"
     ]
    }
   ],
   "source": [
    "# Listing 2.16: Run the classifier\n",
    "result = run(ramd_classify, train_input)\n",
    "print(result)"
   ]
  },
  {
   "cell_type": "code",
   "execution_count": 25,
   "metadata": {
    "colab": {
     "base_uri": "https://localhost:8080/"
    },
    "id": "GvKlA9TEMde7",
    "outputId": "c169e9b1-69c9-4944-93c2-6dacc3a0eed5",
    "tags": []
   },
   "outputs": [
    {
     "name": "stdout",
     "output_type": "stream",
     "text": [
      "351 correct predictions out of 711. Accuracy 49 %\n"
     ]
    }
   ],
   "source": [
    "# Listing 2.17: Evaluate the classifier\n",
    "def evaluate(predictions, actual):\n",
    "  correct = list(filter(\n",
    "      lambda item: item[0] == item[1],\n",
    "      list(zip(predictions, actual))\n",
    "    ))\n",
    "  return '{} correct predictions out of {}. Accuracy {:.0f} %' \\\n",
    "        .format(len(correct), len(actual), 100*len(correct)/len(actual))\n",
    "\n",
    "print(evaluate(run(ramd_classify, train_input), train_labels))"
   ]
  },
  {
   "cell_type": "code",
   "execution_count": 26,
   "metadata": {
    "id": "B0iJ_LCfRGyi"
   },
   "outputs": [],
   "source": [
    "### 3.2 Predicting all dead - I'm too pessimist! "
   ]
  },
  {
   "cell_type": "code",
   "execution_count": 27,
   "metadata": {
    "colab": {
     "base_uri": "https://localhost:8080/"
    },
    "id": "sZTwu31-Mde7",
    "outputId": "2af7e77a-abef-46c2-f242-8fc1913ddf34",
    "tags": []
   },
   "outputs": [
    {
     "name": "stdout",
     "output_type": "stream",
     "text": [
      "440 correct predictions out of 711. Accuracy 62 %\n"
     ]
    }
   ],
   "source": [
    "# Listing 2.18: Always predict a passenger died\n",
    "def predict_death(item):\n",
    "    return 0\n",
    "\n",
    "print(evaluate(run(predict_death, train_input), train_labels))"
   ]
  },
  {
   "cell_type": "code",
   "execution_count": 28,
   "metadata": {
    "id": "X7eVq8CXMde8"
   },
   "outputs": [],
   "source": [
    "################################################\n",
    "## 4. Classifier Evaluation and Measures\n",
    "################################################"
   ]
  },
  {
   "cell_type": "code",
   "execution_count": 29,
   "metadata": {
    "colab": {
     "base_uri": "https://localhost:8080/"
    },
    "id": "mu4qzaF7Mde8",
    "outputId": "e5c31bae-a930-4344-d06a-a710ef4026e6"
   },
   "outputs": [
    {
     "data": {
      "text/plain": [
       "array([[440,   0],\n",
       "       [271,   0]])"
      ]
     },
     "execution_count": 29,
     "metadata": {},
     "output_type": "execute_result"
    }
   ],
   "source": [
    "# Listing 2.19: Confustion matrix of the predict death classifier\n",
    "from sklearn.metrics import confusion_matrix\n",
    "\n",
    "predictions = run(predict_death, train_input)\n",
    "confusion_matrix(train_labels, predictions)"
   ]
  },
  {
   "cell_type": "code",
   "execution_count": 30,
   "metadata": {
    "colab": {
     "base_uri": "https://localhost:8080/"
    },
    "id": "7lvfsV4EMde9",
    "outputId": "b8709be3-1717-4d22-fc36-0d7a43a856c5",
    "tags": []
   },
   "outputs": [
    {
     "name": "stdout",
     "output_type": "stream",
     "text": [
      "The precision score of the predict_death classifier is 0.0\n"
     ]
    },
    {
     "name": "stderr",
     "output_type": "stream",
     "text": [
      "/opt/conda/lib/python3.8/site-packages/sklearn/metrics/_classification.py:1327: UndefinedMetricWarning: Precision is ill-defined and being set to 0.0 due to no predicted samples. Use `zero_division` parameter to control this behavior.\n",
      "  _warn_prf(average, modifier, msg_start, len(result))\n"
     ]
    }
   ],
   "source": [
    "# Listing 2.20: The precision score\n",
    "from sklearn.metrics import precision_score\n",
    "print('The precision score of the predict_death classifier is {}'\n",
    "    .format(precision_score(train_labels, predictions)))"
   ]
  },
  {
   "cell_type": "code",
   "execution_count": 31,
   "metadata": {
    "colab": {
     "base_uri": "https://localhost:8080/"
    },
    "id": "zJe4YzTRMde9",
    "outputId": "02706b7a-bb6e-40ad-dd35-7e89053abd95",
    "tags": []
   },
   "outputs": [
    {
     "name": "stdout",
     "output_type": "stream",
     "text": [
      "The recall score of the predict_death classifier is 0.0\n"
     ]
    }
   ],
   "source": [
    "# Listing 2.21: The recall score\n",
    "from sklearn.metrics import recall_score\n",
    "print('The recall score of the predict_death classifier is {}'\n",
    "    .format(recall_score(train_labels, predictions)))"
   ]
  },
  {
   "cell_type": "code",
   "execution_count": 32,
   "metadata": {
    "colab": {
     "base_uri": "https://localhost:8080/"
    },
    "id": "4Ny725LWMde-",
    "outputId": "ca5918ef-9787-4670-efd3-da75a2cd1a8d",
    "tags": []
   },
   "outputs": [
    {
     "name": "stdout",
     "output_type": "stream",
     "text": [
      "The specificity score of the predict_death classifier is 1.00\n",
      "The npv score of the predict_death classifier is 0.62\n"
     ]
    }
   ],
   "source": [
    "# Listing 2.22: The specificity and the npv\n",
    "def specificity(matrix):\n",
    "    return matrix[0][0]/(matrix[0][0]+matrix[0][1]) if (matrix[0][0]+matrix[0][1] > 0) else 0\n",
    "\n",
    "def npv(matrix):\n",
    "    return matrix[0][0]/(matrix[0][0]+matrix[1][0]) if (matrix[0][0]+matrix[1][0] > 0) else 0\n",
    "\n",
    "cm = confusion_matrix(train_labels, predictions)\n",
    "\n",
    "print('The specificity score of the predict_death classifier is {:.2f}'.format(specificity(cm)))\n",
    "print('The npv score of the predict_death classifier is {:.2f}'.format(npv(cm)))"
   ]
  },
  {
   "cell_type": "code",
   "execution_count": 33,
   "metadata": {
    "colab": {
     "base_uri": "https://localhost:8080/"
    },
    "id": "R1yKlHY9Mde-",
    "outputId": "6985ad15-c8b1-4119-e586-3f82bde07baf",
    "tags": []
   },
   "outputs": [
    {
     "name": "stdout",
     "output_type": "stream",
     "text": [
      "The Confusion Matrix for the random classification is:\n",
      "[[231 209]\n",
      " [126 145]]\n",
      "The precision score of the random classifier is 0.41\n",
      "The recall score of the random classifier is 0.54\n",
      "The specificity score of the random classifier is 0.53\n",
      "The npv score of the random classifier is 0.65\n"
     ]
    }
   ],
   "source": [
    "# Listing 2.23: The scores of the random classifier\n",
    "random_predictions = run(ramd_classify, train_input)\n",
    "random_cm = confusion_matrix(train_labels, random_predictions)\n",
    "print('The Confusion Matrix for the random classification is:')\n",
    "print(random_cm)\n",
    "\n",
    "print('The precision score of the random classifier is {:.2f}'\n",
    "    .format(precision_score(train_labels, random_predictions)))\n",
    "print('The recall score of the random classifier is {:.2f}'\n",
    "    .format(recall_score(train_labels, random_predictions)))\n",
    "print('The specificity score of the random classifier is {:.2f}'\n",
    "    .format(specificity(random_cm)))\n",
    "print('The npv score of the random classifier is {:.2f}'\n",
    "    .format(npv(random_cm)))"
   ]
  },
  {
   "cell_type": "code",
   "execution_count": null,
   "metadata": {
    "id": "z6sWIfK9Mde_"
   },
   "outputs": [],
   "source": [
    "################################################\n",
    "## 5. Giving the Classification Report\n",
    "################################################"
   ]
  },
  {
   "cell_type": "code",
   "execution_count": 34,
   "metadata": {
    "id": "ftKzmvK3MdfD"
   },
   "outputs": [],
   "source": [
    "# Listing 2.31: A reusable function to unmask the classifier\n",
    "def classifier_report(name, run, classify, input, labels):\n",
    "    cr_predictions = run(classify, input)\n",
    "    cr_cm = confusion_matrix(labels, cr_predictions)\n",
    "\n",
    "    cr_precision = precision_score(labels, cr_predictions)\n",
    "    cr_recall = recall_score(labels, cr_predictions)\n",
    "    cr_specificity = specificity(cr_cm)\n",
    "    cr_npv = npv(cr_cm)\n",
    "    cr_level = 0.25*(cr_precision + cr_recall + cr_specificity + cr_npv)\n",
    "\n",
    "    print('The precision score of the {} classifier is {:.2f}'\n",
    "        .format(name, cr_precision))\n",
    "    print('The recall score of the {} classifier is {:.2f}'\n",
    "        .format(name, cr_recall))\n",
    "    print('The specificity score of the {} classifier is {:.2f}'\n",
    "        .format(name, cr_specificity))\n",
    "    print('The npv score of the {} classifier is {:.2f}'\n",
    "        .format(name, cr_npv))\n",
    "    print('The information level is: {:.2f}'\n",
    "        .format(cr_level))"
   ]
  },
  {
   "cell_type": "code",
   "execution_count": 35,
   "metadata": {
    "colab": {
     "base_uri": "https://localhost:8080/"
    },
    "id": "fGAmGOiJMdfE",
    "outputId": "d4a2393b-7bb8-4925-bad7-11d84899d153",
    "tags": []
   },
   "outputs": [
    {
     "name": "stdout",
     "output_type": "stream",
     "text": [
      "The precision score of the Random Classifier classifier is 0.35\n",
      "The recall score of the Random Classifier classifier is 0.47\n",
      "The specificity score of the Random Classifier classifier is 0.47\n",
      "The npv score of the Random Classifier classifier is 0.59\n",
      "The information level is: 0.47\n"
     ]
    }
   ],
   "source": [
    "# Listing 2.32: The report of the random classifier\n",
    "classifier_report(\n",
    "    \"Random Classifier\", \n",
    "    run,\n",
    "    ramd_classify,\n",
    "    train_input,\n",
    "    train_labels)"
   ]
  },
  {
   "cell_type": "code",
   "execution_count": 36,
   "metadata": {
    "colab": {
     "base_uri": "https://localhost:8080/"
    },
    "id": "aTrwAZtZT7yY",
    "outputId": "b05e2beb-d50b-4c3c-e01e-175802eb92d3"
   },
   "outputs": [
    {
     "name": "stdout",
     "output_type": "stream",
     "text": [
      "The precision score of the all dead classifier is 0.00\n",
      "The recall score of the all dead classifier is 0.00\n",
      "The specificity score of the all dead classifier is 1.00\n",
      "The npv score of the all dead classifier is 0.62\n",
      "The information level is: 0.40\n"
     ]
    },
    {
     "name": "stderr",
     "output_type": "stream",
     "text": [
      "/opt/conda/lib/python3.8/site-packages/sklearn/metrics/_classification.py:1327: UndefinedMetricWarning: Precision is ill-defined and being set to 0.0 due to no predicted samples. Use `zero_division` parameter to control this behavior.\n",
      "  _warn_prf(average, modifier, msg_start, len(result))\n"
     ]
    }
   ],
   "source": [
    "# Listing 2.32: The report of the random classifier\n",
    "classifier_report(\n",
    "    \"all dead\", \n",
    "    run,\n",
    "    predict_death,\n",
    "    train_input,\n",
    "    train_labels)"
   ]
  },
  {
   "cell_type": "code",
   "execution_count": 37,
   "metadata": {
    "id": "zHg5T3ZO-NEp"
   },
   "outputs": [
    {
     "data": {
      "text/plain": [
       "{'platform': 'Linux',\n",
       " 'platform-release': '4.15.0-191-generic',\n",
       " 'platform-version': '#202-Ubuntu SMP Thu Aug 4 01:49:29 UTC 2022',\n",
       " 'Python-version': '3.8.13',\n",
       " 'architecture': 'x86_64',\n",
       " 'hostname': 'jupyter-5ae8705e0f020500393111cc',\n",
       " 'ip-address': '172.30.243.100',\n",
       " 'mac-address': '92:51:5d:49:53:72',\n",
       " 'processor': 'x86_64',\n",
       " 'ram': '31 GB'}"
      ]
     },
     "execution_count": 37,
     "metadata": {},
     "output_type": "execute_result"
    }
   ],
   "source": [
    "import platform,socket,re,uuid,json,psutil,logging\n",
    "\n",
    "def getSystemInfo():\n",
    "    try:\n",
    "        info={}\n",
    "        info['platform']=platform.system()\n",
    "        info['platform-release']=platform.release()\n",
    "        info['platform-version']=platform.version()\n",
    "        info['Python-version']=platform.python_version()\n",
    "        info['architecture']=platform.machine()\n",
    "        info['hostname']=socket.gethostname()\n",
    "        info['ip-address']=socket.gethostbyname(socket.gethostname())\n",
    "        info['mac-address']=':'.join(re.findall('..', '%012x' % uuid.getnode()))\n",
    "        info['processor']=platform.processor()\n",
    "        info['ram']=str(round(psutil.virtual_memory().total / (1024.0 **3)))+\" GB\"\n",
    "        return json.dumps(info)\n",
    "    except Exception as e:\n",
    "        logging.exception(e)\n",
    "\n",
    "json.loads(getSystemInfo())"
   ]
  },
  {
   "cell_type": "code",
   "execution_count": null,
   "metadata": {},
   "outputs": [],
   "source": []
  }
 ],
 "metadata": {
  "colab": {
   "collapsed_sections": [],
   "name": "Classical Machine Learning Classification_Clase.ipynb",
   "provenance": []
  },
  "kernelspec": {
   "display_name": "Python 3 (ipykernel)",
   "language": "python",
   "name": "python3"
  },
  "language_info": {
   "codemirror_mode": {
    "name": "ipython",
    "version": 3
   },
   "file_extension": ".py",
   "mimetype": "text/x-python",
   "name": "python",
   "nbconvert_exporter": "python",
   "pygments_lexer": "ipython3",
   "version": "3.8.13"
  },
  "widgets": {
   "application/vnd.jupyter.widget-state+json": {
    "state": {},
    "version_major": 2,
    "version_minor": 0
   }
  }
 },
 "nbformat": 4,
 "nbformat_minor": 4
}
