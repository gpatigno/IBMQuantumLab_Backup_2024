{
 "cells": [
  {
   "cell_type": "code",
   "execution_count": 2,
   "id": "45c1b6e9-8252-4a8c-864e-71f61b50cad9",
   "metadata": {},
   "outputs": [
    {
     "name": "stdout",
     "output_type": "stream",
     "text": [
      "Imports Successful\n"
     ]
    }
   ],
   "source": [
    "from qiskit import QuantumCircuit, Aer, transpile, assemble\n",
    "from qiskit.visualization import plot_histogram, plot_bloch_multivector\n",
    "from numpy.random import randint\n",
    "import numpy as np\n",
    "print(\"Imports Successful\")"
   ]
  },
  {
   "cell_type": "code",
   "execution_count": 3,
   "id": "243e537c-d3fd-4f53-aa1b-d91f4e9ed30f",
   "metadata": {},
   "outputs": [],
   "source": [
    "def encode_message(bits, bases):\n",
    "    message = []\n",
    "    for i in range(n):\n",
    "        qc = QuantumCircuit(1,1)\n",
    "        if bases[i] == 0: # Prepare qubit in Z-basis\n",
    "            if bits[i] == 0:\n",
    "                pass \n",
    "            else:\n",
    "                qc.x(0)\n",
    "        else: # Prepare qubit in X-basis\n",
    "            if bits[i] == 0:\n",
    "                qc.h(0)\n",
    "            else:\n",
    "                qc.x(0)\n",
    "                qc.h(0)\n",
    "        qc.barrier()\n",
    "        message.append(qc)\n",
    "    return message\n",
    "\n",
    "def measure_message(message, bases):\n",
    "    backend = Aer.get_backend('aer_simulator')\n",
    "    measurements = []\n",
    "    for q in range(n):\n",
    "        if bases[q] == 0: # measuring in Z-basis\n",
    "            message[q].measure(0,0)\n",
    "        if bases[q] == 1: # measuring in X-basis\n",
    "            message[q].h(0)\n",
    "            message[q].measure(0,0)\n",
    "        aer_sim = Aer.get_backend('aer_simulator')\n",
    "        qobj = assemble(message[q], shots=1, memory=True)\n",
    "        result = aer_sim.run(qobj).result()\n",
    "        measured_bit = int(result.get_memory()[0])\n",
    "        measurements.append(measured_bit)\n",
    "    return measurements\n",
    "\n",
    "def remove_garbage(a_bases, b_bases, bits):\n",
    "    good_bits = []\n",
    "    for q in range(n):\n",
    "        if a_bases[q] == b_bases[q]:\n",
    "            # If both used the same basis, add\n",
    "            # this to the list of 'good' bits\n",
    "            good_bits.append(bits[q])\n",
    "    return good_bits"
   ]
  },
  {
   "cell_type": "code",
   "execution_count": 5,
   "id": "9d6bfc03-0398-4ea3-bad1-33d99d5496b3",
   "metadata": {},
   "outputs": [
    {
     "name": "stdout",
     "output_type": "stream",
     "text": [
      "Key size:  48\n",
      "Size:  24 Key:  111010011100111001100111\n"
     ]
    }
   ],
   "source": [
    "np.random.seed()\n",
    "\n",
    "## Super secret message\n",
    "msg = \"Juan Jose y Dani\" #16 characters\n",
    "#print('Your super secret message: ',message)\n",
    "\n",
    "# Initial size of key\n",
    "n = len(msg)*3\n",
    "print(\"Key size: \",n)\n",
    "\n",
    "## Step 1\n",
    "# Juan generates bits\n",
    "juan_bits = randint(2, size=n)\n",
    "\n",
    "## Step 2\n",
    "# Create an array to tell us which qubits\n",
    "# are encoded in which bases\n",
    "juan_bases = randint(2, size=n)\n",
    "message = encode_message(juan_bits, juan_bases)\n",
    "\n",
    "## Step 3\n",
    "# Decide which basis to measure in:\n",
    "daniel_bases = randint(2, size=n)\n",
    "daniel_results = measure_message(message, daniel_bases)\n",
    "\n",
    "## Step 4\n",
    "juan_key = remove_garbage(juan_bases, daniel_bases, juan_bits)\n",
    "juan_key = \"\".join(str(i) for i in juan_key)\n",
    "daniel_key = remove_garbage(juan_bases, daniel_bases, daniel_results)\n",
    "daniel_key = \"\".join(str(i) for i in daniel_key)\n",
    "\n",
    "print(\"Size: \", len(daniel_key), \"Key: \", daniel_key)"
   ]
  },
  {
   "cell_type": "code",
   "execution_count": 6,
   "id": "d277abbe-429b-434b-953e-466012987af5",
   "metadata": {},
   "outputs": [
    {
     "name": "stdout",
     "output_type": "stream",
     "text": [
      "Your super secret message:  Juan Jose y Dani\n"
     ]
    }
   ],
   "source": [
    "## Super secret message\n",
    "mes = \"Juan Jose y Dani\" #16 characters\n",
    "print('Your super secret message: ',mes)"
   ]
  },
  {
   "cell_type": "code",
   "execution_count": 7,
   "id": "1c23d27a-6761-4a9e-b3e0-beacbe0a8cd9",
   "metadata": {},
   "outputs": [
    {
     "name": "stdout",
     "output_type": "stream",
     "text": [
      "encoded message:  ¬×ÃÎªÏÕÇÙ¦ÃÐÉ\n"
     ]
    }
   ],
   "source": [
    "#make key same length has message\n",
    "shortened_Mkey = juan_key[:len(mes)]\n",
    "encoded_m=''\n",
    "#encrypt message mes using encryption key final_key\n",
    "for m,k in zip(mes,shortened_Mkey):\n",
    "    encoded_c = chr(ord(m) + 2*ord(k) % 256)\n",
    "    encoded_m += encoded_c\n",
    "print('encoded message: ',encoded_m)"
   ]
  },
  {
   "cell_type": "code",
   "execution_count": 8,
   "id": "ea74be62-e8c7-442d-b4a7-8b059f28be18",
   "metadata": {},
   "outputs": [
    {
     "name": "stdout",
     "output_type": "stream",
     "text": [
      "recovered message: Juan Jose y Dani\n"
     ]
    }
   ],
   "source": [
    "#make key same length has message\n",
    "shortened_Skey = daniel_key[:len(mes)]\n",
    "#decrypt message mes using encryption key final_key\n",
    "result = ''\n",
    "for m,k in zip(encoded_m,shortened_Skey):\n",
    "    encoded_c = chr(ord(m) - 2*ord(k) % 256)\n",
    "    result += encoded_c\n",
    "print('recovered message:',result)"
   ]
  },
  {
   "cell_type": "code",
   "execution_count": null,
   "id": "ac617406-8237-47ba-ad04-18950405ba81",
   "metadata": {},
   "outputs": [],
   "source": []
  }
 ],
 "metadata": {
  "kernelspec": {
   "display_name": "Python 3 (ipykernel)",
   "language": "python",
   "name": "python3"
  },
  "language_info": {
   "codemirror_mode": {
    "name": "ipython",
    "version": 3
   },
   "file_extension": ".py",
   "mimetype": "text/x-python",
   "name": "python",
   "nbconvert_exporter": "python",
   "pygments_lexer": "ipython3",
   "version": "3.8.13"
  },
  "widgets": {
   "application/vnd.jupyter.widget-state+json": {
    "state": {},
    "version_major": 2,
    "version_minor": 0
   }
  }
 },
 "nbformat": 4,
 "nbformat_minor": 5
}
