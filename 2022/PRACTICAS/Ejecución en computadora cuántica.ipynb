{
 "cells": [
  {
   "cell_type": "code",
   "execution_count": 10,
   "metadata": {
    "id": "ICrmfTr1uhry"
   },
   "outputs": [],
   "source": [
    "from qiskit import QuantumRegister, ClassicalRegister,providers\n",
    "from qiskit import QuantumCircuit, execute,IBMQ\n",
    "from qiskit.circuit.library import Permutation\n",
    "from qiskit.tools.monitor import job_monitor"
   ]
  },
  {
   "cell_type": "code",
   "execution_count": 11,
   "metadata": {
    "id": "tVP-7bKuujNC"
   },
   "outputs": [],
   "source": [
    "my_api = '986366e5779694f69d499a41a3db5028e1bc6f695a9d6ad37773d52b13dcc56a6d5858a9c5b776b4a5bfa16de4b03281d2e7cb9df545f64a49dd3c6dcfa2e55e'\n",
    "IBMQ.enable_account(my_api)\n"
   ]
  },
  {
   "cell_type": "code",
   "execution_count": 11,
   "metadata": {
    "colab": {
     "base_uri": "https://localhost:8080/"
    },
    "id": "24T21XJ2wfEs",
    "outputId": "6092f816-47e4-4882-c44d-3405adff7e4d"
   },
   "outputs": [
    {
     "name": "stdout",
     "output_type": "stream",
     "text": [
      "El computador cuántico de 7 qubits menos ocupado es elibm_oslo\n"
     ]
    }
   ],
   "source": [
    "provider = IBMQ.get_provider(hub='ibm-q-education',group='uni-antioquia-1',project='qcudea2022-1')\n",
    "backend=providers.ibmq.least_busy(provider.backends(filters=lambda x:x.configuration().n_qubits>=7\n",
    "                                    and not x.configuration().simulator\n",
    "                                    and x.status().operational==True\n",
    "                                    ))\n",
    "print('El computador cuántico de 7 qubits menos ocupado es el'+backend.name())"
   ]
  },
  {
   "cell_type": "code",
   "execution_count": 12,
   "metadata": {
    "colab": {
     "base_uri": "https://localhost:8080/"
    },
    "id": "AgkQumHglTi4",
    "outputId": "47ba877e-5b31-4d44-8c58-d6c7b99066f7"
   },
   "outputs": [
    {
     "data": {
      "text/plain": [
       "<qiskit.circuit.instructionset.InstructionSet at 0x7f51e4d58610>"
      ]
     },
     "execution_count": 12,
     "metadata": {},
     "output_type": "execute_result"
    }
   ],
   "source": [
    "q = QuantumRegister(7, 'q')\n",
    "c = ClassicalRegister(7, 'c')\n",
    "\n",
    "circuit = QuantumCircuit(q, c)\n",
    "\n",
    "circuit.h(q[0])\n",
    "circuit.s(q[2])\n",
    "circuit.t(q[4])\n",
    "circuit.h(q[6])"
   ]
  },
  {
   "cell_type": "code",
   "execution_count": null,
   "metadata": {},
   "outputs": [],
   "source": [
    "circuit += Permutation(num_qubits = 7)"
   ]
  },
  {
   "cell_type": "code",
   "execution_count": 14,
   "metadata": {
    "colab": {
     "base_uri": "https://localhost:8080/",
     "height": 279
    },
    "id": "o90-TIVHlXPA",
    "outputId": "6c3ae186-72ed-43c1-c25c-6330d7faa3c4"
   },
   "outputs": [
    {
     "data": {
      "text/html": [
       "<pre style=\"word-wrap: normal;white-space: pre;background: #fff0;line-height: 1.1;font-family: &quot;Courier New&quot;,Courier,monospace\">     ┌───┐┌──────────────────────────────┐┌─┐                  \n",
       "q_0: ┤ H ├┤0                             ├┤M├──────────────────\n",
       "     └───┘│                              │└╥┘┌─┐               \n",
       "q_1: ─────┤1                             ├─╫─┤M├───────────────\n",
       "     ┌───┐│                              │ ║ └╥┘┌─┐            \n",
       "q_2: ┤ S ├┤2                             ├─╫──╫─┤M├────────────\n",
       "     └───┘│                              │ ║  ║ └╥┘┌─┐         \n",
       "q_3: ─────┤3 permutation_[6,4,5,1,0,3,2] ├─╫──╫──╫─┤M├─────────\n",
       "     ┌───┐│                              │ ║  ║  ║ └╥┘┌─┐      \n",
       "q_4: ┤ T ├┤4                             ├─╫──╫──╫──╫─┤M├──────\n",
       "     └───┘│                              │ ║  ║  ║  ║ └╥┘┌─┐   \n",
       "q_5: ─────┤5                             ├─╫──╫──╫──╫──╫─┤M├───\n",
       "     ┌───┐│                              │ ║  ║  ║  ║  ║ └╥┘┌─┐\n",
       "q_6: ┤ H ├┤6                             ├─╫──╫──╫──╫──╫──╫─┤M├\n",
       "     └───┘└──────────────────────────────┘ ║  ║  ║  ║  ║  ║ └╥┘\n",
       "c: 7/══════════════════════════════════════╩══╩══╩══╩══╩══╩══╩═\n",
       "                                           0  1  2  3  4  5  6 </pre>"
      ],
      "text/plain": [
       "     ┌───┐┌──────────────────────────────┐┌─┐                  \n",
       "q_0: ┤ H ├┤0                             ├┤M├──────────────────\n",
       "     └───┘│                              │└╥┘┌─┐               \n",
       "q_1: ─────┤1                             ├─╫─┤M├───────────────\n",
       "     ┌───┐│                              │ ║ └╥┘┌─┐            \n",
       "q_2: ┤ S ├┤2                             ├─╫──╫─┤M├────────────\n",
       "     └───┘│                              │ ║  ║ └╥┘┌─┐         \n",
       "q_3: ─────┤3 permutation_[6,4,5,1,0,3,2] ├─╫──╫──╫─┤M├─────────\n",
       "     ┌───┐│                              │ ║  ║  ║ └╥┘┌─┐      \n",
       "q_4: ┤ T ├┤4                             ├─╫──╫──╫──╫─┤M├──────\n",
       "     └───┘│                              │ ║  ║  ║  ║ └╥┘┌─┐   \n",
       "q_5: ─────┤5                             ├─╫──╫──╫──╫──╫─┤M├───\n",
       "     ┌───┐│                              │ ║  ║  ║  ║  ║ └╥┘┌─┐\n",
       "q_6: ┤ H ├┤6                             ├─╫──╫──╫──╫──╫──╫─┤M├\n",
       "     └───┘└──────────────────────────────┘ ║  ║  ║  ║  ║  ║ └╥┘\n",
       "c: 7/══════════════════════════════════════╩══╩══╩══╩══╩══╩══╩═\n",
       "                                           0  1  2  3  4  5  6 "
      ]
     },
     "execution_count": 14,
     "metadata": {},
     "output_type": "execute_result"
    }
   ],
   "source": [
    "circuit.measure(q, c)\n",
    "circuit.draw()"
   ]
  },
  {
   "cell_type": "code",
   "execution_count": null,
   "metadata": {},
   "outputs": [],
   "source": [
    "job = execute(circuit, backend, shots=100)\n",
    "job_monitor(job)\n",
    "counts = job.result().get_counts()\n",
    "result = int(counts.most_frequent(), 2)"
   ]
  },
  {
   "cell_type": "code",
   "execution_count": 16,
   "metadata": {
    "colab": {
     "base_uri": "https://localhost:8080/"
    },
    "id": "b_5MXkCjovTF",
    "outputId": "7e391735-2fc0-4670-c09a-f06ab7c65797"
   },
   "outputs": [
    {
     "name": "stdout",
     "output_type": "stream",
     "text": [
      "Counts:  {'0010000': 1} \n",
      "\n",
      "The random number is:  16 \n",
      "\n"
     ]
    }
   ],
   "source": [
    "print('Counts: ', counts, '\\n')\n",
    "\n",
    "print('The random number is: ', result, '\\n')"
   ]
  },
  {
   "cell_type": "markdown",
   "metadata": {},
   "source": [
    "Explique matemáticamente la permutación realizada.\n",
    "\n",
    "Matematicamente, si bien sabemos la formula de la permutacion es m! (m factorial) lo cual te da la cantidad de posiciones que pueden tomar los valores dentro de su numero, en este caso al usar 7 teniamos la posibilidad de obtener:\n",
    "\n",
    "P = 7! = 5040 posiciones diferentes.\n",
    "\n",
    "Sin embargo, como se explicó en el punto 3, la compuerta S y T afectan solamente a los qubits con probabilidad 1 y las compuertas H dan un 50% de probabilidad de obtener 1 o 0.\n",
    "\n",
    "Entonces los qbits que no tienen no tienen compuertas estan inicializados en 0 y no cambiaran su valor, las salidas de los qubits con compuertas S o T siempre también seran 0, y las únicas salidas que pueden cambiar son las salidas de los qubits con compuertas H. Por lo tanto solo habrá los siguientes valores posibles:\n",
    "\n",
    "* [ 0 0 0 0 0 0 0 ] = 0\n",
    "\n",
    "* [ 0 0 0 0 0 0 1 ] = 1\n",
    "\n",
    "* [ 0 0 1 0 0 0 0 ] = 16\n",
    "\n",
    "* [ 0 0 1 0 0 0 1 ] = 17\n",
    "\n"
   ]
  },
  {
   "cell_type": "markdown",
   "metadata": {},
   "source": [
    "## Conclusiones: \n",
    "\n",
    "* Las compuertas Hadamard generan una probabilidad de 50% de que de uno o cero, por lo tanto cada vez que se mida el qubit con esta compuerta nos puede salir de manera aleatoria un uno y un cero.\n",
    "\n",
    "* Con un solo disparo (shot) nos aseguramos de que no se generen una lista de valores si no que obtengamos un unico valor\n",
    "\n",
    "* Sabemos bien que la compuerta S y T afectan solamente a los qubits con probabilidad 1, en este caso todos comienzan en cero"
   ]
  }
 ],
 "metadata": {
  "colab": {
   "name": "Untitled7.ipynb",
   "provenance": []
  },
  "kernelspec": {
   "display_name": "Python 3 (ipykernel)",
   "language": "python",
   "name": "python3"
  },
  "language_info": {
   "codemirror_mode": {
    "name": "ipython",
    "version": 3
   },
   "file_extension": ".py",
   "mimetype": "text/x-python",
   "name": "python",
   "nbconvert_exporter": "python",
   "pygments_lexer": "ipython3",
   "version": "3.8.13"
  },
  "widgets": {
   "application/vnd.jupyter.widget-state+json": {
    "state": {},
    "version_major": 2,
    "version_minor": 0
   }
  }
 },
 "nbformat": 4,
 "nbformat_minor": 4
}
