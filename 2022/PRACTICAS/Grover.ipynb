{
 "cells": [
  {
   "cell_type": "code",
   "execution_count": 4,
   "id": "7cd5f6b8-e2a1-4429-942c-3e757fc5b7e0",
   "metadata": {},
   "outputs": [],
   "source": [
    "from qiskit import QuantumCircuit, QuantumRegister, ClassicalRegister, Aer, IBMQ, execute\n",
    "from qiskit.providers.aer import QasmSimulator\n",
    "from qiskit.visualization import plot_histogram"
   ]
  },
  {
   "cell_type": "code",
   "execution_count": 5,
   "id": "30ba9665-a613-4628-8c05-1c0847f2ef23",
   "metadata": {},
   "outputs": [
    {
     "data": {
      "image/png": "[encoded data removed]",
      "text/plain": [
       "<Figure size 761.778x204.68 with 1 Axes>"
      ]
     },
     "execution_count": 5,
     "metadata": {},
     "output_type": "execute_result"
    }
   ],
   "source": [
    "qr = QuantumRegister(2)\n",
    "cr = ClassicalRegister(2)\n",
    "qc = QuantumCircuit(qr,cr)\n",
    "\n",
    "#----------------- Preparación de estados iniciales -----------------------\n",
    "\n",
    "# Se genera la superposición de estados, la cual representa la información\n",
    "# des estructurada en la cual se buscará el estado cuántico de interés.\n",
    "\n",
    "qc.h(qr[0])\n",
    "qc.h(qr[1])\n",
    "\n",
    "#----------------- Función Oracle -----------------------------------------\n",
    "\n",
    "# Esta función se encarga de invertir la fase del estado que se quiere\n",
    "# encontrar.\n",
    "\n",
    "qc.s(qr[0])\n",
    "qc.s(qr[1])\n",
    "\n",
    "qc.cz(qr[0],qr[1])\n",
    "\n",
    "qc.s(qr[0])\n",
    "qc.s(qr[1])\n",
    "\n",
    "qc.h(qr[0])\n",
    "qc.h(qr[1])\n",
    "\n",
    "#----------------- Operador de Grover -------------------------------------\n",
    "\n",
    "# Invierte de nuevo la fase del estado de interés y en este proceso, ampli-\n",
    "# lifica la amplitud de este y por ende, reduce las de los otros estados,\n",
    "# de manera que se obtiene una mayor probabilidad de encontrar el sistema\n",
    "# en el estado que se busca, a la hora de hacer la medición.\n",
    "\n",
    "qc.x(qr[0])\n",
    "qc.x(qr[1])\n",
    "\n",
    "qc.cz(qr[0],qr[1])\n",
    "\n",
    "qc.x(qr[0])\n",
    "qc.x(qr[1])\n",
    "\n",
    "qc.h(qr[0])\n",
    "qc.h(qr[1])\n",
    "\n",
    "#----------------- Medición -------------------------------------------\n",
    "\n",
    "qc.measure(qr[0], 0)\n",
    "qc.measure(qr[1], 1)\n",
    "\n",
    "qc.draw('mpl')"
   ]
  },
  {
   "cell_type": "code",
   "execution_count": 6,
   "id": "736feece-f5c6-49d9-b9bc-d845e5a59986",
   "metadata": {},
   "outputs": [
    {
     "name": "stdout",
     "output_type": "stream",
     "text": [
      "{'00': 8192}\n"
     ]
    },
    {
     "data": {
      "image/png": "[encoded data removed]",
      "text/plain": [
       "<Figure size 504x360 with 1 Axes>"
      ]
     },
     "execution_count": 6,
     "metadata": {},
     "output_type": "execute_result"
    }
   ],
   "source": [
    "num_ejecuciones = 8192\n",
    "\n",
    "backend = Aer.get_backend('qasm_simulator')\n",
    "job_sim = execute(qc, backend, shots=num_ejecuciones)\n",
    "sim_result = job_sim.result()\n",
    "\n",
    "measurement_result = sim_result.get_counts(qc)\n",
    "print(measurement_result)\n",
    "plot_histogram(measurement_result)"
   ]
  },
  {
   "cell_type": "code",
   "execution_count": 7,
   "id": "391428c0-8a30-4f62-b59d-2aad6396f2db",
   "metadata": {
    "tags": []
   },
   "outputs": [
    {
     "name": "stdout",
     "output_type": "stream",
     "text": [
      "El computador cuántico menos ocupado es el ibmq_quito\n",
      "Traceback \u001b[1;36m(most recent call last)\u001b[0m:\n",
      "  Input \u001b[0;32mIn [7]\u001b[0m in \u001b[0;35m<cell line: 20>\u001b[0m\n",
      "    job = execute(qc, remote_backend, shots=shots) # Run our circuit\n",
      "  File \u001b[0;32m/opt/conda/lib/python3.8/site-packages/qiskit/execute_function.py:299\u001b[0m in \u001b[0;35mexecute\u001b[0m\n",
      "    experiments = transpile(\n",
      "  File \u001b[0;32m/opt/conda/lib/python3.8/site-packages/qiskit/compiler/transpiler.py:327\u001b[0m in \u001b[0;35mtranspile\u001b[0m\n",
      "    unique_transpile_args, shared_args = _parse_transpile_args(\n",
      "  File \u001b[0;32m/opt/conda/lib/python3.8/site-packages/qiskit/compiler/transpiler.py:651\u001b[0m in \u001b[0;35m_parse_transpile_args\u001b[0m\n",
      "    faulty_qubits_map = _parse_faulty_qubits_map(backend, num_circuits)\n",
      "  File \u001b[0;32m/opt/conda/lib/python3.8/site-packages/qiskit/compiler/transpiler.py:980\u001b[0m in \u001b[0;35m_parse_faulty_qubits_map\u001b[0m\n",
      "    return [_create_faulty_qubits_map(backend)] * num_circuits\n",
      "\u001b[1;36m  File \u001b[1;32m/opt/conda/lib/python3.8/site-packages/qiskit/compiler/transpiler.py:730\u001b[1;36m in \u001b[1;35m_create_faulty_qubits_map\u001b[1;36m\u001b[0m\n",
      "\u001b[1;33m    if backend.properties():\u001b[0m\n",
      "\u001b[1;31mAttributeError\u001b[0m\u001b[1;31m:\u001b[0m 'str' object has no attribute 'properties'\n",
      "\n",
      "Use %tb to get the full traceback.\n"
     ]
    },
    {
     "data": {
      "text/html": [
       "\n",
       "<style>\n",
       ".button {\n",
       "  border: none;\n",
       "  color: white;\n",
       "  padding: 4px 8px;\n",
       "  text-align: center;\n",
       "  text-decoration: none;\n",
       "  display: inline-block;\n",
       "  font-size: 12px;\n",
       "  margin: 4px 2px;\n",
       "  transition-duration: 0.2s;\n",
       "  cursor: pointer;\n",
       "}\n",
       ".iqx-button {\n",
       "  background-color: #0f62fe; \n",
       "  color: white; \n",
       "}\n",
       ".iqx-button:hover {\n",
       "  background-color: #0043ce;\n",
       "  color: white;\n",
       "}\n",
       "</style>\n",
       "<a href=\"https://stackoverflow.com/search?q=AttributeError: 'str' object has no attribute 'properties'\" target='_blank'><button class='button iqx-button'>Search for solution online</button></a>\n"
      ],
      "text/plain": [
       "<IPython.core.display.HTML object>"
      ]
     },
     "metadata": {},
     "output_type": "display_data"
    }
   ],
   "source": [
    "from qiskit import IBMQ\n",
    "from qiskit.providers.ibmq import least_busy\n",
    "from qiskit.tools.monitor import job_monitor\n",
    "\n",
    "\n",
    "# Loading your IBM Q account(s)\n",
    "provider = IBMQ.load_account()\n",
    "\n",
    "shots = 8192\n",
    "#shots=15000\n",
    "provider = IBMQ.get_provider(hub='ibm-q-education', group='uni-antioquia-1', project='qcudea2022-1')\n",
    "#provider = IBMQ.get_provider(hub='ibm-q', group='open', project='main')\n",
    "\n",
    "\n",
    "remote_backend = least_busy(provider.backends(filters=lambda x: x.configuration().n_qubits >= 2 and not x.configuration().simulator and x.status().operational==True))\n",
    "print(\"El computador cuántico menos ocupado es el \" + remote_backend.name())\n",
    "\n",
    "\n",
    "remote_backend = \"ibm_quito\"\n",
    "job = execute(qc, remote_backend, shots=shots) # Run our circuit\n",
    "\n",
    "job_monitor(job)                               # Monitoring our job, se comenta cuando estamos utilizando la reserva\n",
    "\n",
    "# Plotting our result\n",
    "result = job.result()\n",
    "result_count=result.get_counts(qc)\n",
    "plot_histogram(result_count)"
   ]
  },
  {
   "cell_type": "code",
   "execution_count": null,
   "id": "68367894-1490-4032-8df1-dddcdd620369",
   "metadata": {},
   "outputs": [],
   "source": []
  }
 ],
 "metadata": {
  "kernelspec": {
   "display_name": "Python 3 (ipykernel)",
   "language": "python",
   "name": "python3"
  },
  "language_info": {
   "codemirror_mode": {
    "name": "ipython",
    "version": 3
   },
   "file_extension": ".py",
   "mimetype": "text/x-python",
   "name": "python",
   "nbconvert_exporter": "python",
   "pygments_lexer": "ipython3",
   "version": "3.8.13"
  },
  "widgets": {
   "application/vnd.jupyter.widget-state+json": {
    "state": {},
    "version_major": 2,
    "version_minor": 0
   }
  }
 },
 "nbformat": 4,
 "nbformat_minor": 5
}
