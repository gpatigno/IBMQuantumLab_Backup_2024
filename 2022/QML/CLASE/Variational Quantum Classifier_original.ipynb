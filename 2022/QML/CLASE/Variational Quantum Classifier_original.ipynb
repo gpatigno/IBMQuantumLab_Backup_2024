{
 "cells": [
  {
   "cell_type": "code",
   "execution_count": 1,
   "id": "fc8bd0a0-fa4b-40ee-85d7-ee396df68b24",
   "metadata": {},
   "outputs": [],
   "source": [
    "from qiskit import BasicAer\n",
    "from qiskit.utils import QuantumInstance, algorithm_globals\n",
    "from qiskit.algorithms.optimizers import COBYLA\n",
    "from qiskit.circuit.library import TwoLocal, ZZFeatureMap\n",
    "from qiskit_machine_learning.algorithms import VQC\n",
    "from qiskit_machine_learning.datasets import ad_hoc_data"
   ]
  },
  {
   "cell_type": "code",
   "execution_count": 2,
   "id": "4a662b29-8a61-4af8-b23d-27752f0140e3",
   "metadata": {},
   "outputs": [],
   "source": [
    "seed = 1376\n",
    "algorithm_globals.random_seed = seed"
   ]
  },
  {
   "cell_type": "code",
   "execution_count": 3,
   "id": "4ab40404-3f10-45d5-b037-78cd48209a09",
   "metadata": {},
   "outputs": [],
   "source": [
    "# Use ad hoc data set for training and test data\n",
    "feature_dim = 2  # dimension of each data point\n",
    "training_size = 20\n",
    "test_size = 10"
   ]
  },
  {
   "cell_type": "code",
   "execution_count": 4,
   "id": "7ea2d33e-e2d8-4791-858b-bae1cdcb2d73",
   "metadata": {},
   "outputs": [],
   "source": [
    "# training features, training labels, test features, test labels as np.array,\n",
    "# one hot encoding for labels\n",
    "training_features, training_labels, test_features, test_labels = \\\n",
    "    ad_hoc_data(\n",
    "            training_size=training_size, test_size=test_size, n=feature_dim, gap=0.3)"
   ]
  },
  {
   "cell_type": "code",
   "execution_count": null,
   "id": "03e7487f-dc3b-4b91-b4f8-7418051dc1e2",
   "metadata": {},
   "outputs": [],
   "source": []
  },
  {
   "cell_type": "code",
   "execution_count": 5,
   "id": "b9a56813-81bd-41b2-a98e-de389843e6b4",
   "metadata": {},
   "outputs": [],
   "source": [
    "feature_map = ZZFeatureMap(feature_dimension=feature_dim, reps=2, entanglement=\"linear\")\n",
    "ansatz = TwoLocal(feature_map.num_qubits, ['ry', 'rz'], 'cz', reps=3)"
   ]
  },
  {
   "cell_type": "code",
   "execution_count": 6,
   "id": "a05f1021-1d5e-46e4-9c78-7b46cda4e0de",
   "metadata": {},
   "outputs": [],
   "source": [
    "vqc = VQC(feature_map=feature_map,\n",
    "          ansatz=ansatz,\n",
    "          optimizer=COBYLA(maxiter=100),\n",
    "#          quantum_instance=QuantumInstance(BasicAer.get_backend('statevector_simulator'),\n",
    "#                                           shots=1024,\n",
    "#                                           seed_simulator=seed,\n",
    "#                                           seed_transpiler=seed)\n",
    "          )"
   ]
  },
  {
   "cell_type": "code",
   "execution_count": 7,
   "id": "18c3f5a8-ea00-4fb6-8dd4-bad2fe45766a",
   "metadata": {},
   "outputs": [
    {
     "data": {
      "text/plain": [
       "<qiskit_machine_learning.algorithms.classifiers.vqc.VQC at 0x7f873a916440>"
      ]
     },
     "execution_count": 7,
     "metadata": {},
     "output_type": "execute_result"
    }
   ],
   "source": [
    "vqc.fit(training_features, training_labels)"
   ]
  },
  {
   "cell_type": "code",
   "execution_count": 8,
   "id": "1d6dd99c-8c9c-4cb9-9d71-c4db24524778",
   "metadata": {},
   "outputs": [
    {
     "name": "stdout",
     "output_type": "stream",
     "text": [
      "Testing accuracy: 0.95\n"
     ]
    }
   ],
   "source": [
    "score = vqc.score(test_features, test_labels)\n",
    "print(f\"Testing accuracy: {score:0.2f}\")"
   ]
  },
  {
   "cell_type": "code",
   "execution_count": 9,
   "id": "9387e037-e91f-4a24-8390-83721586f4ab",
   "metadata": {},
   "outputs": [
    {
     "data": {
      "text/html": [
       "<h3>Version Information</h3><table><tr><th>Qiskit Software</th><th>Version</th></tr><tr><td><code>qiskit-terra</code></td><td>0.24.0</td></tr><tr><td><code>qiskit-aer</code></td><td>0.12.0</td></tr><tr><td><code>qiskit-ibmq-provider</code></td><td>0.20.2</td></tr><tr><td><code>qiskit</code></td><td>0.43.0</td></tr><tr><td><code>qiskit-nature</code></td><td>0.5.2</td></tr><tr><td><code>qiskit-finance</code></td><td>0.3.4</td></tr><tr><td><code>qiskit-optimization</code></td><td>0.5.0</td></tr><tr><td><code>qiskit-machine-learning</code></td><td>0.6.0</td></tr><tr><th>System information</th></tr><tr><td>Python version</td><td>3.10.8</td></tr><tr><td>Python compiler</td><td>GCC 10.4.0</td></tr><tr><td>Python build</td><td>main, Nov 22 2022 08:26:04</td></tr><tr><td>OS</td><td>Linux</td></tr><tr><td>CPUs</td><td>8</td></tr><tr><td>Memory (Gb)</td><td>31.211322784423828</td></tr><tr><td colspan='2'>Wed May 17 01:37:47 2023 UTC</td></tr></table>"
      ],
      "text/plain": [
       "<IPython.core.display.HTML object>"
      ]
     },
     "metadata": {},
     "output_type": "display_data"
    },
    {
     "data": {
      "text/html": [
       "<div style='width: 100%; background-color:#d5d9e0;padding-left: 10px; padding-bottom: 10px; padding-right: 10px; padding-top: 5px'><h3>This code is a part of Qiskit</h3><p>&copy; Copyright IBM 2017, 2023.</p><p>This code is licensed under the Apache License, Version 2.0. You may<br>obtain a copy of this license in the LICENSE.txt file in the root directory<br> of this source tree or at http://www.apache.org/licenses/LICENSE-2.0.<p>Any modifications or derivative works of this code must retain this<br>copyright notice, and modified files need to carry a notice indicating<br>that they have been altered from the originals.</p></div>"
      ],
      "text/plain": [
       "<IPython.core.display.HTML object>"
      ]
     },
     "metadata": {},
     "output_type": "display_data"
    }
   ],
   "source": [
    "import qiskit.tools.jupyter\n",
    "%qiskit_version_table\n",
    "%qiskit_copyright"
   ]
  }
 ],
 "metadata": {
  "kernelspec": {
   "display_name": "Python 3 (ipykernel)",
   "language": "python",
   "name": "python3"
  },
  "language_info": {
   "codemirror_mode": {
    "name": "ipython",
    "version": 3
   },
   "file_extension": ".py",
   "mimetype": "text/x-python",
   "name": "python",
   "nbconvert_exporter": "python",
   "pygments_lexer": "ipython3",
   "version": "3.10.8"
  },
  "widgets": {
   "application/vnd.jupyter.widget-state+json": {
    "state": {
     "0c534761c8d948c6bff578d375840ef9": {
      "model_module": "@jupyter-widgets/controls",
      "model_module_version": "2.0.0",
      "model_name": "HTMLStyleModel",
      "state": {
       "description_width": "",
       "font_size": null,
       "text_color": null
      }
     },
     "285e51153caa423f87dbb1abacc3fa8a": {
      "model_module": "@jupyter-widgets/controls",
      "model_module_version": "2.0.0",
      "model_name": "ButtonStyleModel",
      "state": {
       "font_family": null,
       "font_size": null,
       "font_style": null,
       "font_variant": null,
       "font_weight": null,
       "text_color": null,
       "text_decoration": null
      }
     },
     "2aa787f3ce1a4687ac794a2448cc9d88": {
      "model_module": "@jupyter-widgets/controls",
      "model_module_version": "2.0.0",
      "model_name": "HTMLStyleModel",
      "state": {
       "description_width": "",
       "font_size": null,
       "text_color": null
      }
     },
     "2c432a6089414d348817974b6fa1199d": {
      "model_module": "@jupyter-widgets/base",
      "model_module_version": "2.0.0",
      "model_name": "LayoutModel",
      "state": {
       "width": "145px"
      }
     },
     "32feab87f84547cb9e2d351a5b66e1e0": {
      "model_module": "@jupyter-widgets/controls",
      "model_module_version": "2.0.0",
      "model_name": "HBoxModel",
      "state": {
       "children": [
        "IPY_MODEL_5a5ae49e1f394b2ba49ecea9611cb901",
        "IPY_MODEL_8b98d47a26134daeb089326ab180afd1",
        "IPY_MODEL_dd5f557144744128919e9ff4b91929a6",
        "IPY_MODEL_57600da49112413e966188f649d5e4ce",
        "IPY_MODEL_a7beac94913a48deb32ef0bf852428c5"
       ],
       "layout": "IPY_MODEL_c5f2ab24c228446e874ee7dfa49960b1"
      }
     },
     "4a70592712874678b2ea9c3dcb5168ea": {
      "model_module": "@jupyter-widgets/base",
      "model_module_version": "2.0.0",
      "model_name": "LayoutModel",
      "state": {
       "grid_area": "right",
       "padding": "0px 0px 0px 0px",
       "width": "70px"
      }
     },
     "57600da49112413e966188f649d5e4ce": {
      "model_module": "@jupyter-widgets/controls",
      "model_module_version": "2.0.0",
      "model_name": "HTMLModel",
      "state": {
       "layout": "IPY_MODEL_f44625823f024a9297a2a447eb9b1548",
       "style": "IPY_MODEL_613915344e51444c9ff6e70c8ec16ba8",
       "value": "<h5>Queue</h5>"
      }
     },
     "5a5ae49e1f394b2ba49ecea9611cb901": {
      "model_module": "@jupyter-widgets/controls",
      "model_module_version": "2.0.0",
      "model_name": "HTMLModel",
      "state": {
       "layout": "IPY_MODEL_aa82d22bb71243538891afb075b63b40",
       "style": "IPY_MODEL_c8f241f47caf4ae685e231be0c039c6a",
       "value": "<h5>Job ID</h5>"
      }
     },
     "613915344e51444c9ff6e70c8ec16ba8": {
      "model_module": "@jupyter-widgets/controls",
      "model_module_version": "2.0.0",
      "model_name": "HTMLStyleModel",
      "state": {
       "description_width": "",
       "font_size": null,
       "text_color": null
      }
     },
     "7ea80ee2964e4f91bfba64cc6edc45d3": {
      "model_module": "@jupyter-widgets/base",
      "model_module_version": "2.0.0",
      "model_name": "LayoutModel",
      "state": {
       "grid_template_areas": "\n                                       \". . . . right \"\n                                        ",
       "grid_template_columns": "20% 20% 20% 20% 20%",
       "width": "100%"
      }
     },
     "815e571361df458a97bbd10949277b54": {
      "model_module": "@jupyter-widgets/base",
      "model_module_version": "2.0.0",
      "model_name": "LayoutModel",
      "state": {}
     },
     "88de4fd6c94943c8b71c08f0f1e427fc": {
      "model_module": "@jupyter-widgets/controls",
      "model_module_version": "2.0.0",
      "model_name": "HTMLStyleModel",
      "state": {
       "description_width": "",
       "font_size": null,
       "text_color": null
      }
     },
     "8b98d47a26134daeb089326ab180afd1": {
      "model_module": "@jupyter-widgets/controls",
      "model_module_version": "2.0.0",
      "model_name": "HTMLModel",
      "state": {
       "layout": "IPY_MODEL_2c432a6089414d348817974b6fa1199d",
       "style": "IPY_MODEL_c15e1d34531048c5b5c86a3e0527f4be",
       "value": "<h5>Backend</h5>"
      }
     },
     "8dcf0e63508944d2ac09c9fa713fade9": {
      "model_module": "@jupyter-widgets/controls",
      "model_module_version": "2.0.0",
      "model_name": "ButtonModel",
      "state": {
       "button_style": "primary",
       "description": "Clear",
       "layout": "IPY_MODEL_4a70592712874678b2ea9c3dcb5168ea",
       "style": "IPY_MODEL_285e51153caa423f87dbb1abacc3fa8a",
       "tooltip": null
      }
     },
     "a7beac94913a48deb32ef0bf852428c5": {
      "model_module": "@jupyter-widgets/controls",
      "model_module_version": "2.0.0",
      "model_name": "HTMLModel",
      "state": {
       "layout": "IPY_MODEL_815e571361df458a97bbd10949277b54",
       "style": "IPY_MODEL_2aa787f3ce1a4687ac794a2448cc9d88",
       "value": "<h5>Message</h5>"
      }
     },
     "aa82d22bb71243538891afb075b63b40": {
      "model_module": "@jupyter-widgets/base",
      "model_module_version": "2.0.0",
      "model_name": "LayoutModel",
      "state": {
       "width": "190px"
      }
     },
     "b8f582f4daf44cb8b3556a4db98fe0a8": {
      "model_module": "@jupyter-widgets/base",
      "model_module_version": "2.0.0",
      "model_name": "LayoutModel",
      "state": {
       "margin": "0px 0px 10px 0px"
      }
     },
     "c15e1d34531048c5b5c86a3e0527f4be": {
      "model_module": "@jupyter-widgets/controls",
      "model_module_version": "2.0.0",
      "model_name": "HTMLStyleModel",
      "state": {
       "description_width": "",
       "font_size": null,
       "text_color": null
      }
     },
     "c5f2ab24c228446e874ee7dfa49960b1": {
      "model_module": "@jupyter-widgets/base",
      "model_module_version": "2.0.0",
      "model_name": "LayoutModel",
      "state": {
       "margin": "0px 0px 0px 37px",
       "width": "600px"
      }
     },
     "c8f241f47caf4ae685e231be0c039c6a": {
      "model_module": "@jupyter-widgets/controls",
      "model_module_version": "2.0.0",
      "model_name": "HTMLStyleModel",
      "state": {
       "description_width": "",
       "font_size": null,
       "text_color": null
      }
     },
     "d75beed14c9b428ea747c49457c1f87c": {
      "model_module": "@jupyter-widgets/controls",
      "model_module_version": "2.0.0",
      "model_name": "HTMLModel",
      "state": {
       "layout": "IPY_MODEL_b8f582f4daf44cb8b3556a4db98fe0a8",
       "style": "IPY_MODEL_0c534761c8d948c6bff578d375840ef9",
       "value": "<p style='font-family: IBM Plex Sans, Arial, Helvetica, sans-serif; font-size: 20px; font-weight: medium;'>Circuit Properties</p>"
      }
     },
     "db95a8c01fa44f25bac02195ac48d41d": {
      "model_module": "@jupyter-widgets/controls",
      "model_module_version": "2.0.0",
      "model_name": "GridBoxModel",
      "state": {
       "children": [
        "IPY_MODEL_8dcf0e63508944d2ac09c9fa713fade9"
       ],
       "layout": "IPY_MODEL_7ea80ee2964e4f91bfba64cc6edc45d3"
      }
     },
     "dc3e445cb3af4af3a4fa01cbbe44a4e5": {
      "model_module": "@jupyter-widgets/base",
      "model_module_version": "2.0.0",
      "model_name": "LayoutModel",
      "state": {
       "width": "95px"
      }
     },
     "dd5f557144744128919e9ff4b91929a6": {
      "model_module": "@jupyter-widgets/controls",
      "model_module_version": "2.0.0",
      "model_name": "HTMLModel",
      "state": {
       "layout": "IPY_MODEL_dc3e445cb3af4af3a4fa01cbbe44a4e5",
       "style": "IPY_MODEL_88de4fd6c94943c8b71c08f0f1e427fc",
       "value": "<h5>Status</h5>"
      }
     },
     "f44625823f024a9297a2a447eb9b1548": {
      "model_module": "@jupyter-widgets/base",
      "model_module_version": "2.0.0",
      "model_name": "LayoutModel",
      "state": {
       "width": "70px"
      }
     }
    },
    "version_major": 2,
    "version_minor": 0
   }
  }
 },
 "nbformat": 4,
 "nbformat_minor": 5
}
