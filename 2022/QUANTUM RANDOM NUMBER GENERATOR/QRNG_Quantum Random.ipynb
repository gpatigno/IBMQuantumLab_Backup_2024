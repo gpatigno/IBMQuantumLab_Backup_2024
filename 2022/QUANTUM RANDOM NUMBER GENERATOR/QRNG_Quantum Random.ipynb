{
 "cells": [
  {
   "cell_type": "code",
   "execution_count": 1,
   "id": "e2d8dbe8-ac91-4b73-aa36-f8782e7b780a",
   "metadata": {},
   "outputs": [
    {
     "name": "stderr",
     "output_type": "stream",
     "text": [
      "<frozen importlib._bootstrap>:219: RuntimeWarning: scipy._lib.messagestream.MessageStream size changed, may indicate binary incompatibility. Expected 56 from C header, got 64 from PyObject\n"
     ]
    }
   ],
   "source": [
    "import numpy as np\n",
    "\n",
    "# Importing standard Qiskit libraries\n",
    "from qiskit import QuantumCircuit, transpile, Aer, IBMQ\n",
    "from qiskit import QuantumRegister, ClassicalRegister, execute\n",
    "from qiskit.tools.jupyter import *\n",
    "from qiskit.visualization import *\n",
    "from ibm_quantum_widgets import *\n",
    "from qiskit.providers.aer import QasmSimulator\n",
    "from qiskit.tools.monitor import job_monitor\n",
    "\n",
    "# Loading your IBM Quantum account(s)\n",
    "provider = IBMQ.load_account()"
   ]
  },
  {
   "cell_type": "code",
   "execution_count": 3,
   "id": "7126f09d-c52e-4df6-a9c5-23f1eb28bd56",
   "metadata": {},
   "outputs": [],
   "source": [
    "def Quantum_Random_Number_Generator():\n",
    "\n",
    "    min = 0\n",
    "    max = 100\n",
    "\n",
    "    backend = provider.get_backend(\"ibmq_qasm_simulator\")\n",
    "\n",
    "    num_q = 32\n",
    "    #num_q = 5\n",
    "\n",
    "    q = QuantumRegister(num_q, 'q')\n",
    "    c = ClassicalRegister(num_q, 'c')\n",
    "\n",
    "    circuit = QuantumCircuit(q, c)\n",
    "    circuit.h(q)  # Applies hadamard gate to all qubits\n",
    "    circuit.measure(q, c)  # Measures all qubits\n",
    "\n",
    "    circuit.draw()\n",
    "\n",
    "    job = execute(circuit, backend, shots=1)\n",
    "\n",
    "    print('Executing Job...\\n')\n",
    "    job_monitor(job)\n",
    "    counts = job.result().get_counts()\n",
    "\n",
    "    print('Counts: ', counts, '\\n')\n",
    "\n",
    "    result = int(counts.most_frequent(), 2)\n",
    "    \n",
    "    print('Result: ', result, '\\n')\n",
    "\n",
    "    result1 = min + result % (max+1 - min)\n",
    "\n",
    "    print(result1)\n",
    "\n",
    "    return circuit"
   ]
  },
  {
   "cell_type": "code",
   "execution_count": null,
   "id": "ee27b222-acb7-4760-bfaf-10be6fe8e99f",
   "metadata": {},
   "outputs": [],
   "source": [
    "Quantum_Random_Number_Generator()"
   ]
  }
 ],
 "metadata": {
  "kernelspec": {
   "display_name": "Python 3 (ipykernel)",
   "language": "python",
   "name": "python3"
  },
  "language_info": {
   "codemirror_mode": {
    "name": "ipython",
    "version": 3
   },
   "file_extension": ".py",
   "mimetype": "text/x-python",
   "name": "python",
   "nbconvert_exporter": "python",
   "pygments_lexer": "ipython3",
   "version": "3.8.13"
  },
  "widgets": {
   "application/vnd.jupyter.widget-state+json": {
    "state": {},
    "version_major": 2,
    "version_minor": 0
   }
  }
 },
 "nbformat": 4,
 "nbformat_minor": 5
}
