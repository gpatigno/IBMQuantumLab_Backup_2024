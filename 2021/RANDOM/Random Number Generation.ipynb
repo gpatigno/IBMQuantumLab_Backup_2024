{
 "cells": [
  {
   "cell_type": "code",
   "execution_count": 1,
   "metadata": {},
   "outputs": [],
   "source": [
    "%matplotlib inline\n",
    "# Importing standard Qiskit libraries and configuring account\n",
    "from qiskit import QuantumCircuit, execute, Aer, IBMQ\n",
    "from qiskit.compiler import transpile, assemble\n",
    "from qiskit.tools.jupyter import *\n",
    "from qiskit.visualization import *\n",
    "from qiskit import *\n",
    "# Loading your IBM Q account(s)\n",
    "provider = IBMQ.load_account()"
   ]
  },
  {
   "cell_type": "code",
   "execution_count": 2,
   "metadata": {},
   "outputs": [],
   "source": [
    "num = 3\n",
    "qr = QuantumRegister(num)\n",
    "cr = ClassicalRegister(num)\n",
    "\n",
    "circuit = QuantumCircuit(qr, cr)"
   ]
  },
  {
   "cell_type": "code",
   "execution_count": 3,
   "metadata": {},
   "outputs": [],
   "source": [
    "for q in range(len(qr)):\n",
    "  circuit.h(qr[q])"
   ]
  },
  {
   "cell_type": "code",
   "execution_count": 4,
   "metadata": {},
   "outputs": [
    {
     "data": {
      "text/plain": [
       "<qiskit.circuit.instructionset.InstructionSet at 0x7f27d3f4f0c0>"
      ]
     },
     "execution_count": 4,
     "metadata": {},
     "output_type": "execute_result"
    }
   ],
   "source": [
    "circuit.measure(qr, cr)"
   ]
  },
  {
   "cell_type": "code",
   "execution_count": 5,
   "metadata": {},
   "outputs": [
    {
     "data": {
      "image/png": "[encoded data removed]",
      "text/plain": [
       "<Figure size 340.378x264.88 with 1 Axes>"
      ]
     },
     "execution_count": 5,
     "metadata": {},
     "output_type": "execute_result"
    }
   ],
   "source": [
    "circuit.draw(output=\"mpl\")"
   ]
  },
  {
   "cell_type": "code",
   "execution_count": 6,
   "metadata": {},
   "outputs": [
    {
     "name": "stdout",
     "output_type": "stream",
     "text": [
      "Job Status: job has successfully run\n"
     ]
    }
   ],
   "source": [
    "from qiskit import BasicAer\n",
    "from qiskit.tools.monitor import job_monitor\n",
    "#provider = IBMQ.get_provider(hub='ibm-q', group='open', project='main')\n",
    "#backend = provider.get_backend('qasm_simulator')\n",
    "backend = BasicAer.get_backend('qasm_simulator')\n",
    "job = execute(circuit, backend=backend, shots=2048)\n",
    "job_monitor(job)"
   ]
  },
  {
   "cell_type": "code",
   "execution_count": 7,
   "metadata": {},
   "outputs": [
    {
     "name": "stdout",
     "output_type": "stream",
     "text": [
      "{'000': 235, '001': 264, '111': 261, '101': 243, '011': 269, '010': 252, '100': 271, '110': 253}\n"
     ]
    },
    {
     "data": {
      "image/png": "[encoded data removed]",
      "text/plain": [
       "<Figure size 504x360 with 1 Axes>"
      ]
     },
     "execution_count": 7,
     "metadata": {},
     "output_type": "execute_result"
    }
   ],
   "source": [
    "result = job.result()\n",
    "from qiskit.tools.visualization import plot_histogram, plot_bloch_multivector\n",
    "res = result.get_counts(circuit)\n",
    "print(res)\n",
    "plot_histogram(res)\n",
    "#La aleatoriedad de los números generados depende de la aleatoriedad de la distribución de médida\n",
    "#de cada estado cuántico base, dentro del total de \"shots\" llevados a cabo."
   ]
  },
  {
   "cell_type": "code",
   "execution_count": 8,
   "metadata": {},
   "outputs": [
    {
     "name": "stdout",
     "output_type": "stream",
     "text": [
      "numbers= [0, 4, 7, 5, 6, 2, 1, 3]\n"
     ]
    }
   ],
   "source": [
    "numbers = []\n",
    "for attr, value in res.items():\n",
    "  numQ = 0\n",
    "  i = 0\n",
    "#  print(\"value=\",value)\n",
    "#  print(\"attr=\",attr)\n",
    "  for ch in attr:\n",
    "#    print(\"ch=\",ch)\n",
    "#    print(\"i=\", i)    \n",
    "    if ch == '1':\n",
    "      numQ += 2**i\n",
    "    i = i + 1\n",
    "  numbers.append(numQ)\n",
    "#  print(\"numQ=\",numQ)\n",
    "print(\"numbers=\",numbers)"
   ]
  },
  {
   "cell_type": "code",
   "execution_count": null,
   "metadata": {},
   "outputs": [
    {
     "name": "stdout",
     "output_type": "stream",
     "text": [
      "Job Status: job is queued (22)    "
     ]
    }
   ],
   "source": [
    "provider = IBMQ.get_provider(hub='ibm-q', group='open', project='main')\n",
    "backend = provider.get_backend('ibmq_lima')\n",
    "job = execute(circuit, backend=backend, shots=10)\n",
    "job_monitor(job)"
   ]
  },
  {
   "cell_type": "code",
   "execution_count": null,
   "metadata": {},
   "outputs": [],
   "source": [
    "result = job.result()\n",
    "from qiskit.tools.visualization import plot_histogram, plot_bloch_multivector\n",
    "res = result.get_counts(circuit)\n",
    "print(res)\n",
    "plot_histogram(res)"
   ]
  },
  {
   "cell_type": "code",
   "execution_count": null,
   "metadata": {},
   "outputs": [],
   "source": [
    "numbers = []\n",
    "for attr, value in res.items():\n",
    "  numQ = 0\n",
    "  i = 0\n",
    "  for ch in attr:\n",
    "    if ch == '1':\n",
    "      numQ += 2**i\n",
    "    i = i + 1\n",
    "  numbers.append(numQ)\n",
    "print(\"numbers=\",numbers)"
   ]
  }
 ],
 "metadata": {
  "kernelspec": {
   "display_name": "Python 3 (ipykernel)",
   "language": "python",
   "name": "python3"
  },
  "language_info": {
   "codemirror_mode": {
    "name": "ipython",
    "version": 3
   },
   "file_extension": ".py",
   "mimetype": "text/x-python",
   "name": "python",
   "nbconvert_exporter": "python",
   "pygments_lexer": "ipython3",
   "version": "3.8.13"
  },
  "widgets": {
   "application/vnd.jupyter.widget-state+json": {
    "state": {
     "06455b821a1a4d2ab269f21452842cc0": {
      "model_module": "@jupyter-widgets/controls",
      "model_module_version": "1.5.0",
      "model_name": "HTMLModel",
      "state": {
       "layout": "IPY_MODEL_53d343c699014bbe9e537bb66beb6de4",
       "style": "IPY_MODEL_a3d97633b12f4070b4301a1b7e7e77cc",
       "value": "22"
      }
     },
     "09a5bdccb1dc445797c4f0c669262ccd": {
      "model_module": "@jupyter-widgets/base",
      "model_module_version": "1.2.0",
      "model_name": "LayoutModel",
      "state": {
       "grid_area": "right",
       "padding": "0px 0px 0px 0px",
       "width": "70px"
      }
     },
     "0b0cb1a74f834d67a8f9c78348239f8f": {
      "model_module": "@jupyter-widgets/controls",
      "model_module_version": "1.5.0",
      "model_name": "HTMLModel",
      "state": {
       "layout": "IPY_MODEL_8a22a0cc312f4b569c53240e8e872543",
       "style": "IPY_MODEL_4443c4f040d84c34befa0978a51291e9",
       "value": "QUEUED"
      }
     },
     "0bf01d72893c4a0bb9b24d9d10f01859": {
      "model_module": "@jupyter-widgets/base",
      "model_module_version": "1.2.0",
      "model_name": "LayoutModel",
      "state": {
       "margin": "0px 5px 0px 0px",
       "width": "32px"
      }
     },
     "0d59fcd8b4c24638842fdc7d491f12c2": {
      "model_module": "@jupyter-widgets/controls",
      "model_module_version": "1.5.0",
      "model_name": "DescriptionStyleModel",
      "state": {
       "description_width": ""
      }
     },
     "11ae511a065e4e87aefe3d46e7faa11d": {
      "model_module": "@jupyter-widgets/controls",
      "model_module_version": "1.5.0",
      "model_name": "HTMLModel",
      "state": {
       "layout": "IPY_MODEL_ef85a212443444b389bb65299e810bf5",
       "style": "IPY_MODEL_955be48f70854fea9d64eef7783ee088",
       "value": "<h5>Backend</h5>"
      }
     },
     "2d0b51b65c2e48eabd8ab0f0602c1efd": {
      "model_module": "@jupyter-widgets/controls",
      "model_module_version": "1.5.0",
      "model_name": "HTMLModel",
      "state": {
       "layout": "IPY_MODEL_a74220f975514ea794bdc5b2e701d7a2",
       "style": "IPY_MODEL_c61ac77340df4feba89d881836de58f3",
       "value": "<h5>Status</h5>"
      }
     },
     "37995071c88e477e8afed73637c8ab44": {
      "model_module": "@jupyter-widgets/controls",
      "model_module_version": "1.5.0",
      "model_name": "HBoxModel",
      "state": {
       "children": [
        "IPY_MODEL_eb5602fac5104155932250c0a24c88e5",
        "IPY_MODEL_db2bd30edb274e1bb13873b0e85d5087",
        "IPY_MODEL_b18bd4e38ab948f085dfc583f0399cd0",
        "IPY_MODEL_0b0cb1a74f834d67a8f9c78348239f8f",
        "IPY_MODEL_06455b821a1a4d2ab269f21452842cc0",
        "IPY_MODEL_f5371893bc944acb8199d9b9efce9dda"
       ],
       "layout": "IPY_MODEL_3d288174d1644e7cbc157c649c795071"
      }
     },
     "3d097a4e227242d78b18b1cdf8b2b720": {
      "model_module": "@jupyter-widgets/controls",
      "model_module_version": "1.5.0",
      "model_name": "ButtonStyleModel",
      "state": {
       "button_color": "white"
      }
     },
     "3d288174d1644e7cbc157c649c795071": {
      "model_module": "@jupyter-widgets/base",
      "model_module_version": "1.2.0",
      "model_name": "LayoutModel",
      "state": {
       "max_width": "700px",
       "min_width": "700px"
      }
     },
     "3f6a8b3b8fde49b39dfdf4e543a1430a": {
      "model_module": "@jupyter-widgets/controls",
      "model_module_version": "1.5.0",
      "model_name": "HBoxModel",
      "state": {
       "children": [
        "IPY_MODEL_f1cf529bd68d4a32b99a059f29d2f933",
        "IPY_MODEL_11ae511a065e4e87aefe3d46e7faa11d",
        "IPY_MODEL_2d0b51b65c2e48eabd8ab0f0602c1efd",
        "IPY_MODEL_53d0d90b8b864cd08b8cb5b31e51bfda",
        "IPY_MODEL_7fc922328d904b9aac92da523c15ca59"
       ],
       "layout": "IPY_MODEL_6d065851bada46ca84c62f85a4c0705c"
      }
     },
     "4443c4f040d84c34befa0978a51291e9": {
      "model_module": "@jupyter-widgets/controls",
      "model_module_version": "1.5.0",
      "model_name": "DescriptionStyleModel",
      "state": {
       "description_width": ""
      }
     },
     "44ad151b24cf4905ae05135ac8e6b1b4": {
      "model_module": "@jupyter-widgets/controls",
      "model_module_version": "1.5.0",
      "model_name": "ButtonStyleModel",
      "state": {}
     },
     "486a1fcd8c1c43438f992f3f5e3d840d": {
      "model_module": "@jupyter-widgets/controls",
      "model_module_version": "1.5.0",
      "model_name": "DescriptionStyleModel",
      "state": {
       "description_width": ""
      }
     },
     "4b62df1b25124369a1a32ae4f6eb0f6b": {
      "model_module": "@jupyter-widgets/controls",
      "model_module_version": "1.5.0",
      "model_name": "DescriptionStyleModel",
      "state": {
       "description_width": ""
      }
     },
     "4d0895cb5b5b4e26966ae33cdfb4d5f4": {
      "model_module": "@jupyter-widgets/base",
      "model_module_version": "1.2.0",
      "model_name": "LayoutModel",
      "state": {
       "grid_template_areas": "\n                                       \". . . . right \"\n                                        ",
       "grid_template_columns": "20% 20% 20% 20% 20%",
       "width": "100%"
      }
     },
     "4f2d449e93ea4a3aab5fd35baa6f66c7": {
      "model_module": "@jupyter-widgets/base",
      "model_module_version": "1.2.0",
      "model_name": "LayoutModel",
      "state": {
       "overflow_x": "scroll"
      }
     },
     "53d0d90b8b864cd08b8cb5b31e51bfda": {
      "model_module": "@jupyter-widgets/controls",
      "model_module_version": "1.5.0",
      "model_name": "HTMLModel",
      "state": {
       "layout": "IPY_MODEL_f1a9188d31f244fc9859ca96f20d0ba0",
       "style": "IPY_MODEL_486a1fcd8c1c43438f992f3f5e3d840d",
       "value": "<h5>Queue</h5>"
      }
     },
     "53d343c699014bbe9e537bb66beb6de4": {
      "model_module": "@jupyter-widgets/base",
      "model_module_version": "1.2.0",
      "model_name": "LayoutModel",
      "state": {
       "width": "70px"
      }
     },
     "5952be321db641379f13fccc9df1c395": {
      "model_module": "@jupyter-widgets/controls",
      "model_module_version": "1.5.0",
      "model_name": "DescriptionStyleModel",
      "state": {
       "description_width": ""
      }
     },
     "5da2cb39df374bf0900f9647c991de17": {
      "model_module": "@jupyter-widgets/base",
      "model_module_version": "1.2.0",
      "model_name": "LayoutModel",
      "state": {
       "width": "145px"
      }
     },
     "6b9f9409a12d40269ce07196ec8a055c": {
      "model_module": "@jupyter-widgets/base",
      "model_module_version": "1.2.0",
      "model_name": "LayoutModel",
      "state": {}
     },
     "6d065851bada46ca84c62f85a4c0705c": {
      "model_module": "@jupyter-widgets/base",
      "model_module_version": "1.2.0",
      "model_name": "LayoutModel",
      "state": {
       "margin": "0px 0px 0px 37px",
       "width": "600px"
      }
     },
     "7fc922328d904b9aac92da523c15ca59": {
      "model_module": "@jupyter-widgets/controls",
      "model_module_version": "1.5.0",
      "model_name": "HTMLModel",
      "state": {
       "layout": "IPY_MODEL_6b9f9409a12d40269ce07196ec8a055c",
       "style": "IPY_MODEL_0d59fcd8b4c24638842fdc7d491f12c2",
       "value": "<h5>Message</h5>"
      }
     },
     "8a22a0cc312f4b569c53240e8e872543": {
      "model_module": "@jupyter-widgets/base",
      "model_module_version": "1.2.0",
      "model_name": "LayoutModel",
      "state": {
       "width": "95px"
      }
     },
     "8f0adcf619074e32b306131608cfc3ea": {
      "model_module": "@jupyter-widgets/controls",
      "model_module_version": "1.5.0",
      "model_name": "GridBoxModel",
      "state": {
       "children": [
        "IPY_MODEL_e3c2a5d797a64ba1929b7e2288cb1700"
       ],
       "layout": "IPY_MODEL_4d0895cb5b5b4e26966ae33cdfb4d5f4"
      }
     },
     "955be48f70854fea9d64eef7783ee088": {
      "model_module": "@jupyter-widgets/controls",
      "model_module_version": "1.5.0",
      "model_name": "DescriptionStyleModel",
      "state": {
       "description_width": ""
      }
     },
     "a1ba9bef3ce3438ba48bcfa41a773e70": {
      "model_module": "@jupyter-widgets/controls",
      "model_module_version": "1.5.0",
      "model_name": "HTMLModel",
      "state": {
       "layout": "IPY_MODEL_a23e5a7ea7ef4855912082ca845680b6",
       "style": "IPY_MODEL_5952be321db641379f13fccc9df1c395",
       "value": "<p style='font-family: IBM Plex Sans, Arial, Helvetica, sans-serif; font-size: 20px; font-weight: medium;'>Circuit Properties</p>"
      }
     },
     "a23e5a7ea7ef4855912082ca845680b6": {
      "model_module": "@jupyter-widgets/base",
      "model_module_version": "1.2.0",
      "model_name": "LayoutModel",
      "state": {
       "margin": "0px 0px 10px 0px"
      }
     },
     "a3d97633b12f4070b4301a1b7e7e77cc": {
      "model_module": "@jupyter-widgets/controls",
      "model_module_version": "1.5.0",
      "model_name": "DescriptionStyleModel",
      "state": {
       "description_width": ""
      }
     },
     "a74220f975514ea794bdc5b2e701d7a2": {
      "model_module": "@jupyter-widgets/base",
      "model_module_version": "1.2.0",
      "model_name": "LayoutModel",
      "state": {
       "width": "95px"
      }
     },
     "ae92d46621cd4509b37a5724c1986acd": {
      "model_module": "@jupyter-widgets/controls",
      "model_module_version": "1.5.0",
      "model_name": "DescriptionStyleModel",
      "state": {
       "description_width": ""
      }
     },
     "b18bd4e38ab948f085dfc583f0399cd0": {
      "model_module": "@jupyter-widgets/controls",
      "model_module_version": "1.5.0",
      "model_name": "HTMLModel",
      "state": {
       "layout": "IPY_MODEL_5da2cb39df374bf0900f9647c991de17",
       "style": "IPY_MODEL_ae92d46621cd4509b37a5724c1986acd",
       "value": "ibmq_lima"
      }
     },
     "b377d54ce9f64a7b93472db5352e4cb9": {
      "model_module": "@jupyter-widgets/controls",
      "model_module_version": "1.5.0",
      "model_name": "DescriptionStyleModel",
      "state": {
       "description_width": ""
      }
     },
     "c1a7687db0d14811be8874e9c06cea8a": {
      "model_module": "@jupyter-widgets/controls",
      "model_module_version": "1.5.0",
      "model_name": "DescriptionStyleModel",
      "state": {
       "description_width": ""
      }
     },
     "c61ac77340df4feba89d881836de58f3": {
      "model_module": "@jupyter-widgets/controls",
      "model_module_version": "1.5.0",
      "model_name": "DescriptionStyleModel",
      "state": {
       "description_width": ""
      }
     },
     "db2bd30edb274e1bb13873b0e85d5087": {
      "model_module": "@jupyter-widgets/controls",
      "model_module_version": "1.5.0",
      "model_name": "HTMLModel",
      "state": {
       "layout": "IPY_MODEL_f6b0d6ec71964be881d3dc59974ed255",
       "style": "IPY_MODEL_4b62df1b25124369a1a32ae4f6eb0f6b",
       "value": "62bb973f08f97416a3663f38"
      }
     },
     "e3c2a5d797a64ba1929b7e2288cb1700": {
      "model_module": "@jupyter-widgets/controls",
      "model_module_version": "1.5.0",
      "model_name": "ButtonModel",
      "state": {
       "button_style": "primary",
       "description": "Clear",
       "layout": "IPY_MODEL_09a5bdccb1dc445797c4f0c669262ccd",
       "style": "IPY_MODEL_44ad151b24cf4905ae05135ac8e6b1b4"
      }
     },
     "eb5602fac5104155932250c0a24c88e5": {
      "model_module": "@jupyter-widgets/controls",
      "model_module_version": "1.5.0",
      "model_name": "ButtonModel",
      "state": {
       "icon": "close",
       "layout": "IPY_MODEL_0bf01d72893c4a0bb9b24d9d10f01859",
       "style": "IPY_MODEL_3d097a4e227242d78b18b1cdf8b2b720"
      }
     },
     "ef85a212443444b389bb65299e810bf5": {
      "model_module": "@jupyter-widgets/base",
      "model_module_version": "1.2.0",
      "model_name": "LayoutModel",
      "state": {
       "width": "145px"
      }
     },
     "f1a9188d31f244fc9859ca96f20d0ba0": {
      "model_module": "@jupyter-widgets/base",
      "model_module_version": "1.2.0",
      "model_name": "LayoutModel",
      "state": {
       "width": "70px"
      }
     },
     "f1cf529bd68d4a32b99a059f29d2f933": {
      "model_module": "@jupyter-widgets/controls",
      "model_module_version": "1.5.0",
      "model_name": "HTMLModel",
      "state": {
       "layout": "IPY_MODEL_ffbaf7f3ba034ddba8117697ea0fa42a",
       "style": "IPY_MODEL_b377d54ce9f64a7b93472db5352e4cb9",
       "value": "<h5>Job ID</h5>"
      }
     },
     "f5371893bc944acb8199d9b9efce9dda": {
      "model_module": "@jupyter-widgets/controls",
      "model_module_version": "1.5.0",
      "model_name": "HTMLModel",
      "state": {
       "layout": "IPY_MODEL_4f2d449e93ea4a3aab5fd35baa6f66c7",
       "style": "IPY_MODEL_c1a7687db0d14811be8874e9c06cea8a",
       "value": "job is queued"
      }
     },
     "f6b0d6ec71964be881d3dc59974ed255": {
      "model_module": "@jupyter-widgets/base",
      "model_module_version": "1.2.0",
      "model_name": "LayoutModel",
      "state": {
       "width": "190px"
      }
     },
     "ffbaf7f3ba034ddba8117697ea0fa42a": {
      "model_module": "@jupyter-widgets/base",
      "model_module_version": "1.2.0",
      "model_name": "LayoutModel",
      "state": {
       "width": "190px"
      }
     }
    },
    "version_major": 2,
    "version_minor": 0
   }
  }
 },
 "nbformat": 4,
 "nbformat_minor": 4
}
