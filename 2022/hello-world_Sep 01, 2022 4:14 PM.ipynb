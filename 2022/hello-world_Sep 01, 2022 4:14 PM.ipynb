{
 "cells": [
  {
   "cell_type": "code",
   "execution_count": 1,
   "metadata": {},
   "outputs": [
    {
     "name": "stdout",
     "output_type": "stream",
     "text": [
      "cc8i1v3fk1pntg9l5g7g\n",
      "JobStatus.QUEUED\n"
     ]
    }
   ],
   "source": [
    "from qiskit_ibm_runtime import QiskitRuntimeService\n",
    "\n",
    "options = {\n",
    "\t'backend_name': 'ibmq_qasm_simulator'\n",
    "}\n",
    "\n",
    "runtime_inputs = {\n",
    "\t# Number of iterations to run.\n",
    "\t# Each iteration generates and runs\n",
    "\t# a random circuit.\n",
    "\t# 'iterations': 1 # integer\n",
    "}\n",
    "\n",
    "service = QiskitRuntimeService(\n",
    "\tchannel='ibm_quantum'\n",
    ")\n",
    "\n",
    "job = service.run(\n",
    "\tprogram_id='hello-world',\n",
    "\toptions=options,\n",
    "\tinputs=runtime_inputs,\n",
    "\tinstance='ibm-q-education/uni-antioquia-1/qcudea2022-1'\n",
    ")\n",
    "\n",
    "# Job id\n",
    "print(job.job_id)\n",
    "# See job status\n",
    "print(job.status())\n",
    "\n",
    "# Get results\n",
    "result = job.result()"
   ]
  },
  {
   "cell_type": "code",
   "execution_count": null,
   "metadata": {},
   "outputs": [],
   "source": []
  }
 ],
 "metadata": {
  "kernelspec": {
   "display_name": "Python 3 (ipykernel)",
   "language": "python",
   "name": "python3"
  },
  "language_info": {
   "codemirror_mode": {
    "name": "ipython",
    "version": 3
   },
   "file_extension": ".py",
   "mimetype": "text/x-python",
   "name": "python",
   "nbconvert_exporter": "python",
   "pygments_lexer": "ipython3",
   "version": "3.8.13"
  },
  "widgets": {
   "application/vnd.jupyter.widget-state+json": {
    "state": {},
    "version_major": 2,
    "version_minor": 0
   }
  }
 },
 "nbformat": 4,
 "nbformat_minor": 4
}
