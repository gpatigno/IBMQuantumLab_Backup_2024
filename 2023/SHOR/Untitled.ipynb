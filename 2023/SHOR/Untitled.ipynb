{
 "cells": [
  {
   "cell_type": "code",
   "execution_count": 2,
   "id": "8fb7ca7f-b8cd-489f-8aca-c884b4ba30a8",
   "metadata": {
    "tags": []
   },
   "outputs": [],
   "source": [
    "# Importing standard Qiskit libraries\n",
    "from qiskit import QuantumCircuit, transpile\n",
    "from qiskit.tools.jupyter import *\n",
    "from qiskit.visualization import *\n",
    "from ibm_quantum_widgets import *\n",
    "from qiskit_aer import AerSimulator\n",
    "\n",
    "# qiskit-ibmq-provider has been deprecated.\n",
    "# Please see the Migration Guides in https://ibm.biz/provider_migration_guide for more detail.\n",
    "from qiskit_ibm_runtime import QiskitRuntimeService, Sampler, Estimator, Session, Options\n",
    "\n",
    "# Loading your IBM Quantum account(s)\n",
    "service = QiskitRuntimeService(channel=\"ibm_quantum\")\n",
    "\n",
    "# Invoke a primitive inside a session. For more details see https://qiskit.org/documentation/partners/qiskit_ibm_runtime/tutorials.html\n",
    "# with Session(backend=service.backend(\"ibmq_qasm_simulator\")):\n",
    "#     result = Sampler().run(circuits).result()"
   ]
  },
  {
   "cell_type": "code",
   "execution_count": 7,
   "id": "79951e1b-e1b5-42ae-9a32-2cbd897c2294",
   "metadata": {
    "tags": []
   },
   "outputs": [],
   "source": [
    "from qiskit_ibm_provider import IBMProvider, least_busy\n",
    "from qiskit.utils import QuantumInstance\n",
    "from qiskit.algorithms import Shor"
   ]
  },
  {
   "cell_type": "code",
   "execution_count": 8,
   "id": "85362a32-ae3a-4e4e-9028-8edceccec2ec",
   "metadata": {
    "tags": []
   },
   "outputs": [],
   "source": [
    "# Enter your API token here\n",
    "provider = IBMProvider(instance=\"ibm-q-education/uni-antioquia-2/quantum-alg\")\n",
    "\n",
    "# Specifies the quantum device\n",
    "backend = provider.get_backend('ibmq_qasm_simulator')"
   ]
  },
  {
   "cell_type": "code",
   "execution_count": 9,
   "id": "81135b26-3ddc-4af7-96c3-6f561aff00ea",
   "metadata": {
    "tags": []
   },
   "outputs": [
    {
     "name": "stdout",
     "output_type": "stream",
     "text": [
      "\n",
      " Shors Algorithm\n",
      "--------------------\n",
      "\n",
      "Executing...\n",
      "\n"
     ]
    }
   ],
   "source": [
    "print('\\n Shors Algorithm')\n",
    "print('--------------------')\n",
    "print('\\nExecuting...\\n')"
   ]
  },
  {
   "cell_type": "code",
   "execution_count": 10,
   "id": "b5688f92-7334-4107-9cf4-fae2d2ba3a31",
   "metadata": {
    "tags": []
   },
   "outputs": [
    {
     "name": "stderr",
     "output_type": "stream",
     "text": [
      "/tmp/ipykernel_61/1140469195.py:3: DeprecationWarning: The Shor class is deprecated as of Qiskit Terra 0.22.0 and will be removed\n",
      "        no sooner than 3 months after the release date.\n",
      "        It is replaced by the tutorial at https://qiskit.org/textbook/ch-algorithms/shor.html\n",
      "        \n",
      "  factors = Shor(35)\n"
     ]
    }
   ],
   "source": [
    "# Function to run Shor's algorithm\n",
    "# where 35 is the integer to be factored\n",
    "factors = Shor(35)"
   ]
  },
  {
   "cell_type": "code",
   "execution_count": 11,
   "id": "e633f7f3-facf-4400-884d-8ad3f5762f64",
   "metadata": {
    "tags": []
   },
   "outputs": [
    {
     "name": "stdout",
     "output_type": "stream",
     "text": [
      "Traceback \u001b[1;36m(most recent call last)\u001b[0m:\n",
      "\u001b[1;36m  Cell \u001b[1;32mIn[11], line 1\u001b[1;36m\n",
      "\u001b[1;33m    result_dict = factors.run(QuantumInstance(\u001b[1;36m\n",
      "\u001b[1;31mAttributeError\u001b[0m\u001b[1;31m:\u001b[0m 'Shor' object has no attribute 'run'\n",
      "\n",
      "Use %tb to get the full traceback.\n"
     ]
    },
    {
     "data": {
      "text/html": [
       "\n",
       "<style>\n",
       ".button {\n",
       "  border: none;\n",
       "  color: white;\n",
       "  padding: 4px 8px;\n",
       "  text-align: center;\n",
       "  text-decoration: none;\n",
       "  display: inline-block;\n",
       "  font-size: 12px;\n",
       "  margin: 4px 2px;\n",
       "  transition-duration: 0.2s;\n",
       "  cursor: pointer;\n",
       "}\n",
       ".iqx-button {\n",
       "  background-color: #0f62fe; \n",
       "  color: white; \n",
       "}\n",
       ".iqx-button:hover {\n",
       "  background-color: #0043ce;\n",
       "  color: white;\n",
       "}\n",
       "</style>\n",
       "<a href=\"https://stackoverflow.com/search?q=AttributeError: 'Shor' object has no attribute 'run'\" target='_blank'><button class='button iqx-button'>Search for solution online</button></a>\n"
      ],
      "text/plain": [
       "<IPython.core.display.HTML object>"
      ]
     },
     "metadata": {},
     "output_type": "display_data"
    }
   ],
   "source": [
    "result_dict = factors.run(QuantumInstance(\n",
    "\tbackend, shots=1, skip_qobj_validation=False))\n",
    "\n",
    "# Get factors from results\n",
    "result = result_dict['factors']\n",
    "\n",
    "print(result)\n",
    "print('\\nPress any key to close')\n",
    "input()"
   ]
  },
  {
   "cell_type": "code",
   "execution_count": null,
   "id": "0efb50df-cac3-48e2-a339-f612053e4e6a",
   "metadata": {},
   "outputs": [],
   "source": []
  }
 ],
 "metadata": {
  "kernelspec": {
   "display_name": "Python 3 (ipykernel)",
   "language": "python",
   "name": "python3"
  },
  "language_info": {
   "codemirror_mode": {
    "name": "ipython",
    "version": 3
   },
   "file_extension": ".py",
   "mimetype": "text/x-python",
   "name": "python",
   "nbconvert_exporter": "python",
   "pygments_lexer": "ipython3",
   "version": "3.10.8"
  },
  "widgets": {
   "application/vnd.jupyter.widget-state+json": {
    "state": {
     "039436ed0c8e4ec9865c7632423fa63a": {
      "model_module": "@jupyter-widgets/controls",
      "model_module_version": "2.0.0",
      "model_name": "ButtonStyleModel",
      "state": {
       "font_family": null,
       "font_size": null,
       "font_style": null,
       "font_variant": null,
       "font_weight": null,
       "text_color": null,
       "text_decoration": null
      }
     },
     "0f973099061f460b89db6eb0356dedda": {
      "model_module": "@jupyter-widgets/base",
      "model_module_version": "2.0.0",
      "model_name": "LayoutModel",
      "state": {
       "grid_area": "right",
       "padding": "0px 0px 0px 0px",
       "width": "70px"
      }
     },
     "10fbd4ddf8ce4ea591766720cbc3d298": {
      "model_module": "@jupyter-widgets/controls",
      "model_module_version": "2.0.0",
      "model_name": "HTMLStyleModel",
      "state": {
       "description_width": "",
       "font_size": null,
       "text_color": null
      }
     },
     "1a541d5a769e4261bfedb5ba74df8c90": {
      "model_module": "@jupyter-widgets/base",
      "model_module_version": "2.0.0",
      "model_name": "LayoutModel",
      "state": {
       "width": "95px"
      }
     },
     "1be658882af148b8b901cb0334e1de30": {
      "model_module": "@jupyter-widgets/base",
      "model_module_version": "2.0.0",
      "model_name": "LayoutModel",
      "state": {
       "margin": "0px 0px 10px 0px"
      }
     },
     "29cf1dfda1594ef8986a290524e5cc55": {
      "model_module": "@jupyter-widgets/controls",
      "model_module_version": "2.0.0",
      "model_name": "HTMLModel",
      "state": {
       "layout": "IPY_MODEL_1a541d5a769e4261bfedb5ba74df8c90",
       "style": "IPY_MODEL_c19da3a5aee847639cbb41a2a4460d33",
       "value": "<h5>Status</h5>"
      }
     },
     "2eeb25d59d084620a5e7ac6f8b6245c0": {
      "model_module": "@jupyter-widgets/controls",
      "model_module_version": "2.0.0",
      "model_name": "HTMLStyleModel",
      "state": {
       "description_width": "",
       "font_size": null,
       "text_color": null
      }
     },
     "3a98797afaac4420a356066616e7af86": {
      "model_module": "@jupyter-widgets/controls",
      "model_module_version": "2.0.0",
      "model_name": "HTMLModel",
      "state": {
       "layout": "IPY_MODEL_77690415896944dca6678d034b665f16",
       "style": "IPY_MODEL_2eeb25d59d084620a5e7ac6f8b6245c0",
       "value": "<h5>Message</h5>"
      }
     },
     "407fbfef05b3405e86f66a34aba56e93": {
      "model_module": "@jupyter-widgets/controls",
      "model_module_version": "2.0.0",
      "model_name": "HTMLStyleModel",
      "state": {
       "description_width": "",
       "font_size": null,
       "text_color": null
      }
     },
     "73252cef84664a8a9cb5a190201054f2": {
      "model_module": "@jupyter-widgets/controls",
      "model_module_version": "2.0.0",
      "model_name": "HTMLModel",
      "state": {
       "layout": "IPY_MODEL_1be658882af148b8b901cb0334e1de30",
       "style": "IPY_MODEL_407fbfef05b3405e86f66a34aba56e93",
       "value": "<p style='font-family: IBM Plex Sans, Arial, Helvetica, sans-serif; font-size: 20px; font-weight: medium;'>Circuit Properties</p>"
      }
     },
     "74abcb459774460a9d41ed0f60bc15f7": {
      "model_module": "@jupyter-widgets/base",
      "model_module_version": "2.0.0",
      "model_name": "LayoutModel",
      "state": {
       "margin": "0px 0px 0px 37px",
       "width": "600px"
      }
     },
     "77690415896944dca6678d034b665f16": {
      "model_module": "@jupyter-widgets/base",
      "model_module_version": "2.0.0",
      "model_name": "LayoutModel",
      "state": {}
     },
     "818a6f0af7144482bd4b5bae24da97b6": {
      "model_module": "@jupyter-widgets/controls",
      "model_module_version": "2.0.0",
      "model_name": "HTMLModel",
      "state": {
       "layout": "IPY_MODEL_ec416a25c5274c88b87bbd7785d8272f",
       "style": "IPY_MODEL_10fbd4ddf8ce4ea591766720cbc3d298",
       "value": "<h5>Job ID</h5>"
      }
     },
     "82286398ab1a4abebfcf2c61bb30902b": {
      "model_module": "@jupyter-widgets/controls",
      "model_module_version": "2.0.0",
      "model_name": "HBoxModel",
      "state": {
       "children": [
        "IPY_MODEL_818a6f0af7144482bd4b5bae24da97b6",
        "IPY_MODEL_b3728ca3dc294afa8130a14807c500d5",
        "IPY_MODEL_29cf1dfda1594ef8986a290524e5cc55",
        "IPY_MODEL_bc2947b2c9ae43b181f624274a00b8c0",
        "IPY_MODEL_3a98797afaac4420a356066616e7af86"
       ],
       "layout": "IPY_MODEL_74abcb459774460a9d41ed0f60bc15f7"
      }
     },
     "992c0ee139294434843de416a1420764": {
      "model_module": "@jupyter-widgets/base",
      "model_module_version": "2.0.0",
      "model_name": "LayoutModel",
      "state": {
       "width": "70px"
      }
     },
     "99f47b2e725842c8873a235c7a5ec646": {
      "model_module": "@jupyter-widgets/controls",
      "model_module_version": "2.0.0",
      "model_name": "HTMLStyleModel",
      "state": {
       "description_width": "",
       "font_size": null,
       "text_color": null
      }
     },
     "b3728ca3dc294afa8130a14807c500d5": {
      "model_module": "@jupyter-widgets/controls",
      "model_module_version": "2.0.0",
      "model_name": "HTMLModel",
      "state": {
       "layout": "IPY_MODEL_d2e43df8679240edbbf37f5fcdb247f3",
       "style": "IPY_MODEL_d0b70cb03cc04ead855eb4937b2cfe0c",
       "value": "<h5>Backend</h5>"
      }
     },
     "ba3539a9e8e94e8caa98e311322d1349": {
      "model_module": "@jupyter-widgets/controls",
      "model_module_version": "2.0.0",
      "model_name": "ButtonModel",
      "state": {
       "button_style": "primary",
       "description": "Clear",
       "layout": "IPY_MODEL_0f973099061f460b89db6eb0356dedda",
       "style": "IPY_MODEL_039436ed0c8e4ec9865c7632423fa63a",
       "tooltip": null
      }
     },
     "bc2947b2c9ae43b181f624274a00b8c0": {
      "model_module": "@jupyter-widgets/controls",
      "model_module_version": "2.0.0",
      "model_name": "HTMLModel",
      "state": {
       "layout": "IPY_MODEL_992c0ee139294434843de416a1420764",
       "style": "IPY_MODEL_99f47b2e725842c8873a235c7a5ec646",
       "value": "<h5>Queue</h5>"
      }
     },
     "c19da3a5aee847639cbb41a2a4460d33": {
      "model_module": "@jupyter-widgets/controls",
      "model_module_version": "2.0.0",
      "model_name": "HTMLStyleModel",
      "state": {
       "description_width": "",
       "font_size": null,
       "text_color": null
      }
     },
     "d0b70cb03cc04ead855eb4937b2cfe0c": {
      "model_module": "@jupyter-widgets/controls",
      "model_module_version": "2.0.0",
      "model_name": "HTMLStyleModel",
      "state": {
       "description_width": "",
       "font_size": null,
       "text_color": null
      }
     },
     "d2e43df8679240edbbf37f5fcdb247f3": {
      "model_module": "@jupyter-widgets/base",
      "model_module_version": "2.0.0",
      "model_name": "LayoutModel",
      "state": {
       "width": "145px"
      }
     },
     "dddb0c4bbc6b4c47b3289f8cf143fd70": {
      "model_module": "@jupyter-widgets/controls",
      "model_module_version": "2.0.0",
      "model_name": "GridBoxModel",
      "state": {
       "children": [
        "IPY_MODEL_ba3539a9e8e94e8caa98e311322d1349"
       ],
       "layout": "IPY_MODEL_efdde9de54f54f0cb067c36adb0f997b"
      }
     },
     "ec416a25c5274c88b87bbd7785d8272f": {
      "model_module": "@jupyter-widgets/base",
      "model_module_version": "2.0.0",
      "model_name": "LayoutModel",
      "state": {
       "width": "190px"
      }
     },
     "efdde9de54f54f0cb067c36adb0f997b": {
      "model_module": "@jupyter-widgets/base",
      "model_module_version": "2.0.0",
      "model_name": "LayoutModel",
      "state": {
       "grid_template_areas": "\n                                       \". . . . right \"\n                                        ",
       "grid_template_columns": "20% 20% 20% 20% 20%",
       "width": "100%"
      }
     }
    },
    "version_major": 2,
    "version_minor": 0
   }
  }
 },
 "nbformat": 4,
 "nbformat_minor": 5
}
