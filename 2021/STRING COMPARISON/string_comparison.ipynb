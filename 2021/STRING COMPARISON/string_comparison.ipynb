{
 "cells": [
  {
   "cell_type": "code",
   "execution_count": 1,
   "id": "c4d9215b-23b9-40c9-98f1-563b7c596f79",
   "metadata": {},
   "outputs": [],
   "source": [
    "import sys\n",
    "import numpy as np\n",
    "import math\n",
    "from qiskit import QuantumCircuit, QuantumRegister, ClassicalRegister\n",
    "from qiskit import execute"
   ]
  },
  {
   "cell_type": "code",
   "execution_count": 2,
   "id": "490d7703-3498-4610-8695-c2340aacf6e7",
   "metadata": {},
   "outputs": [],
   "source": [
    "YEAST     = \"----------------------------------MM----------------------------\"\n",
    "PROTOZOAN = \"--MM---------------M------------MMMM---------------M------------\"\n",
    "BACTERIAL = \"---M---------------M------------MMMM---------------M------------\""
   ]
  },
  {
   "cell_type": "code",
   "execution_count": 3,
   "id": "c8d0dfe0-1fbc-4a1d-a0ab-95c819294bcc",
   "metadata": {},
   "outputs": [],
   "source": [
    "def encode_bitstring(bitstring, qr, cr, inverse=False):\n",
    "    \"\"\"\n",
    "    create a circuit for constructing the quantum superposition of the bitstring\n",
    "    \"\"\"\n",
    "    n = math.ceil(math.log2(len(bitstring))) + 1                 #number of qubits\n",
    "    assert n > 2, \"the length of bitstring must be at least 2\"\n",
    "    \n",
    "    qc = QuantumCircuit(qr, cr)\n",
    "    \n",
    "    #the probability amplitude of the desired state\n",
    "    desired_vector = np.array([ 0.0 for i in range(2**n) ])     #initialize to zero\n",
    "    amplitude = np.sqrt(1.0/2**(n-1))\n",
    "    \n",
    "    for i, b in enumerate(bitstring):\n",
    "        pos = i * 2\n",
    "        if b == \"1\" or b == \"M\":\n",
    "            pos += 1\n",
    "        desired_vector[pos] = amplitude\n",
    "    if not inverse:\n",
    "        qc.initialize(desired_vector, qr)\n",
    "        qc.barrier(qr)\n",
    "    else:\n",
    "        qc.initialize(desired_vector, qr).inverse()  #invert the circuit\n",
    "        for i in range(n):\n",
    "            qc.measure(qr[i], cr[i])\n",
    "    print()\n",
    "    return qc\n",
    "\n"
   ]
  },
  {
   "cell_type": "code",
   "execution_count": 4,
   "id": "0962a7d1-2156-43b5-aea0-6bf38cef27b4",
   "metadata": {},
   "outputs": [
    {
     "name": "stdout",
     "output_type": "stream",
     "text": [
      "\n",
      "\n",
      "\n"
     ]
    }
   ],
   "source": [
    "n = math.ceil(math.log2(len(YEAST))) + 1                 #number of qubits\n",
    "qr = QuantumRegister(n)\n",
    "cr = ClassicalRegister(n)\n",
    "\n",
    "qc_yeast     = encode_bitstring(YEAST, qr, cr)\n",
    "qc_protozoan = encode_bitstring(PROTOZOAN, qr, cr)\n",
    "qc_bacterial = encode_bitstring(BACTERIAL, qr, cr)\n",
    "\n",
    "circs = {\"YEAST\": qc_yeast, \"PROTOZOAN\": qc_protozoan, \"BACTERIAL\": qc_bacterial}"
   ]
  },
  {
   "cell_type": "code",
   "execution_count": 5,
   "id": "69491cf8-ac24-422c-a1b0-a59b48827e1d",
   "metadata": {},
   "outputs": [
    {
     "name": "stdout",
     "output_type": "stream",
     "text": [
      "Traceback \u001b[1;36m(most recent call last)\u001b[0m:\n",
      "  Input \u001b[0;32mIn [5]\u001b[0m in \u001b[0;35m<module>\u001b[0m\n",
      "    inverse_qc_yeast     = encode_bitstring(YEAST,     qr, cr, inverse=True)\n",
      "  Input \u001b[0;32mIn [3]\u001b[0m in \u001b[0;35mencode_bitstring\u001b[0m\n",
      "    qc.initialize(desired_vector, qr).inverse()  #invert the circuit\n",
      "  File \u001b[0;32m/opt/conda/lib/python3.8/site-packages/qiskit/circuit/instructionset.py:162\u001b[0m in \u001b[0;35minverse\u001b[0m\n",
      "    self.instructions[index] = instruction.inverse()\n",
      "  File \u001b[0;32m/opt/conda/lib/python3.8/site-packages/qiskit/circuit/instruction.py:393\u001b[0m in \u001b[0;35minverse\u001b[0m\n",
      "    inverse_gate = Gate(name=name, num_qubits=self.num_qubits, params=self.params.copy())\n",
      "  File \u001b[0;32m/opt/conda/lib/python3.8/site-packages/qiskit/circuit/gate.py:40\u001b[0m in \u001b[0;35m__init__\u001b[0m\n",
      "    super().__init__(name, num_qubits, 0, params, label=label)\n",
      "  File \u001b[0;32m/opt/conda/lib/python3.8/site-packages/qiskit/circuit/instruction.py:100\u001b[0m in \u001b[0;35m__init__\u001b[0m\n",
      "    self.params = params  # must be at last (other properties may be required for validation)\n",
      "  File \u001b[0;32m/opt/conda/lib/python3.8/site-packages/qiskit/circuit/instruction.py:216\u001b[0m in \u001b[0;35mparams\u001b[0m\n",
      "    self._params.append(self.validate_parameter(single_param))\n",
      "\u001b[1;36m  File \u001b[1;32m/opt/conda/lib/python3.8/site-packages/qiskit/circuit/gate.py:241\u001b[1;36m in \u001b[1;35mvalidate_parameter\u001b[1;36m\u001b[0m\n",
      "\u001b[1;33m    raise CircuitError(f\"Invalid param type {type(parameter)} for gate {self.name}.\")\u001b[0m\n",
      "\u001b[1;31mCircuitError\u001b[0m\u001b[1;31m:\u001b[0m \"Invalid param type <class 'complex'> for gate initialize_dg.\"\n",
      "\n",
      "Use %tb to get the full traceback.\n"
     ]
    },
    {
     "data": {
      "text/html": [
       "\n",
       "<style>\n",
       ".button {\n",
       "  border: none;\n",
       "  color: white;\n",
       "  padding: 4px 8px;\n",
       "  text-align: center;\n",
       "  text-decoration: none;\n",
       "  display: inline-block;\n",
       "  font-size: 12px;\n",
       "  margin: 4px 2px;\n",
       "  transition-duration: 0.2s;\n",
       "  cursor: pointer;\n",
       "}\n",
       ".iqx-button {\n",
       "  background-color: #0f62fe; \n",
       "  color: white; \n",
       "}\n",
       ".iqx-button:hover {\n",
       "  background-color: #0043ce;\n",
       "  color: white;\n",
       "}\n",
       "</style>\n",
       "<a href=\"https://stackoverflow.com/search?q=CircuitError: Invalid param type <class 'complex'> for gate initialize_dg.\" target='_blank'><button class='button iqx-button'>Search for solution online</button></a>\n"
      ],
      "text/plain": [
       "<IPython.core.display.HTML object>"
      ]
     },
     "metadata": {},
     "output_type": "display_data"
    }
   ],
   "source": [
    "inverse_qc_yeast     = encode_bitstring(YEAST,     qr, cr, inverse=True)\n",
    "inverse_qc_protozoan = encode_bitstring(PROTOZOAN, qr, cr, inverse=True)\n",
    "inverse_qc_bacterial = encode_bitstring(BACTERIAL, qr, cr, inverse=True)\n",
    "\n",
    "inverse_circs = {\"YEAST\": inverse_qc_yeast, \"PROTOZOAN\": inverse_qc_protozoan, \"BACTERIAL\": inverse_qc_bacterial}"
   ]
  },
  {
   "cell_type": "code",
   "execution_count": null,
   "id": "8e59bf21-3a82-47f6-ab8c-5a07c2157df2",
   "metadata": {},
   "outputs": [],
   "source": []
  }
 ],
 "metadata": {
  "kernelspec": {
   "display_name": "Python 3 (ipykernel)",
   "language": "python",
   "name": "python3"
  },
  "language_info": {
   "codemirror_mode": {
    "name": "ipython",
    "version": 3
   },
   "file_extension": ".py",
   "mimetype": "text/x-python",
   "name": "python",
   "nbconvert_exporter": "python",
   "pygments_lexer": "ipython3",
   "version": "3.8.13"
  },
  "widgets": {
   "application/vnd.jupyter.widget-state+json": {
    "state": {},
    "version_major": 2,
    "version_minor": 0
   }
  }
 },
 "nbformat": 4,
 "nbformat_minor": 5
}
