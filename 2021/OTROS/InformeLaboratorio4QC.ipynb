{
 "cells": [
  {
   "cell_type": "markdown",
   "metadata": {},
   "source": [
    "# <p style='text-align: center;'>INFORME LABORATORIO 4: LA QFT Y EL ALGORITMO CUÁNTICO DE SHOR</p>\n",
    "<table style=\"width:80%\">\n",
    "  <tr>\n",
    "    <th style='text-align: center;'>MANUEL ALEJANDRO QUISTIAL JURADO</th>\n",
    "    <th style='text-align: center;'>EDUARDO JOSÉ MAYA RODRIGUEZ</th>\n",
    "  </tr>\n",
    "  <tr>\n",
    "    <td style='text-align: center;'>Estudiante de ingeniería electrónica</td>\n",
    "    <td style='text-align: center;'>Estudiante de ingeniería electrónica</td>\n",
    "  </tr>\n",
    "    <tr>\n",
    "    <td style='text-align: center;'>manuel.quistial@udea.edu.co</td>\n",
    "    <td style='text-align: center;'>eduardo.maya@udea.edu.co</td>\n",
    "  </tr>\n",
    "</table>"
   ]
  },
  {
   "cell_type": "markdown",
   "metadata": {},
   "source": [
    "### <p style='text-align: left;'>INTRODUCCIÓN</p>\n",
    "\n",
    "<p style='text-align: justify;'>Actualmente, con el desarrollo de la información y la forma en como son transmitidos dichos datos es importante tener ciertos protocolos o estándares que brinden seguridad a la hora de transmitir la información y compartir sin que esta pueda ser robada de manera sencilla o que sea alterada generando caos. Por tal razón se han desarrollado áreas como la criptografía, ciencia dedicada a la codificación de datos para su transmisión.</p>\n",
    "\n",
    "<p style='text-align: justify;'>Con el avance de la computación cuántica, muchas áreas de conocimiento han visto en ella un potencial para desarrollar aplicaciones, así mismo, a raíz del desarrollo de estas tecnologías han puesto en peligro otras ramas de la informática como lo es la criptografía. Parte de este repotenciamiento de técnicas y tecnologías realizadas gracias a científicos como Peter Shor por medio de algoritmos de búsqueda podrían poner en jaque tecnologías consideradas robustas para las tareas que hace poco tiempo se creían indestructibles.</p>"
   ]
  },
  {
   "cell_type": "markdown",
   "metadata": {},
   "source": [
    "### DESARROLLO DE LA PRÁCTICA\n",
    "#### 1. MARCO TEÓRICO\n",
    "<p style='text-align: center;'><b>ALGORITMO DE SHOR PARA LA FACTORIZACIÓN DE ENTEROS</b></p>\n",
    "\n",
    "<p style='text-align: justify;'>Algoritmo nombrado así en honor al matemático Peter Shor, es un algoritmo cuántico de complejidad polinomial para la factorización de números enteros formulado en 1994. Este algoritmo ha sido objeto de estudio por mucho equipo de trabajo para la composición de número entero, el compuesto 15 fue factorizado como 3x5 en 2001 usando siete NMR qubits. También el número 21 compuesto factorizado por 3x7 en 2012.</p>\n",
    "\n",
    "<p style='text-align: justify;'>Estas demostraciones experimentales implican una optimización del algoritmo de Shor basado en conocimientos a priori de resultados esperados.</p>\n",
    "\n",
    "<p style='text-align: justify;'>Para descomponer en factores enteros es necesario $2+\\frac{3}{2}log_{2}(N)$ qubits. Esto significa al menos 1,154 ($\\approx 2$) qubits serían necesarios para factorizar un número RSA-768.</p>\n",
    "\n",
    "<p style='text-align: justify;'>A nivel más técnico, el algoritmo de Shor está compuesto por tres partes: </p>\n",
    "<ol>\n",
    "    <li>Convertir el problema de factorización en uno de busqueda del periodo usando teoria de numeros.</li>\n",
    "    <li>Encontrar el periodo usando la transformada cuántica de Fourier.</li>\n",
    "    <li>Usar el periodo encontrado para calcular los factores.</li>\n",
    "</ol>\n",
    "\n",
    "<p style='text-align: justify;'><p style='text-align: left;'>Para encontrar el periodo desde el factor:</p>\n",
    "La reducción de la factorización de N al problema de encontrar el periodo de un número entero x menor a N y mayor que 1 depende del resultado de la siguiente teoría:\n",
    "<ul>\n",
    "    <li>La función $F(a)=x^{a}mod N$ es una función periódica, donde x es un número entero coprimo de N y a0.</li>\n",
    "</ul></p>\n",
    "\n",
    "<p style='text-align: justify;'>Dos números son coprimos si el único número entero positivo que divide a ambos es 1. También se establece:\n",
    "<ul>\n",
    "    <li>Desde que F(a) sea una función periódica, se tiene una función r. Sabiendo que $x^{0} mod N = 1$,esto quiere decir que $x^{r} mod N = 1$ desde que la función sea periódica, y r es la primer potencia diferente de cero donde $x^{r} = 1 mod N$.</li>\n",
    "</ul></p>\n",
    "\n",
    "<p style='text-align: justify;'>Basado en la información anterior y realizando operaciones algebraicas se llega finalmente a: <p>$$(x^{r/2}-1)(x^{r/2}+1) \\equiv 0 mod N$$</p></p>\n",
    "\n",
    "<p style='text-align: justify;'>Del resultado anterior, se obtiene que $(x^{r/2}-1)(x^{r/2}+1)$ son enteros múltiplos de N. Aunque, si $(x^{r/2}-1)$ o $(x^{r/2}+1)$ no son números múltiplos de N, al menos $(x^{r/2}-1)$ o $(x^{r/2}+1)$deben tener un factor no trivial en común con N.</p>\n",
    "\n",
    "<p style='text-align: justify;'><b>Algoritmo ‘clásico’ de Shor:</b></p>\n",
    "<p style='text-align: justify;'>Asumiendo que N tiene solo dos factores primos:$$N=pq$$</p><p style='text-align: justify;'>Se siguen los siguientes pasos:</p>\n",
    "<ol>\n",
    "    <li>Se toma un valor entero aleatorio x definido entre 1 y N, y se calcula el máximo común dívisor entre x y N.</li>\n",
    "    <li>Si x y N tiene algunos factores primos en común, el máximo común divisor entre x y N, esto será igual a p ó q. Por otro lado, si el maximo comun divisor entre x y N es 1 ($mcd(x,N)=1$), eso quiere decir que son coprimos.</li>\n",
    "    <li>Sea r el periodo de  $x mod N$ calculado por el buscador de periodo, repita el siguiente paso con valores aleatorios diferentes escogiendo x hasta que sea par.</li>\n",
    "    <li>p y q pueden ser calculados hallando el $mcd(x^{r/2}\\pm1,N)$ siempre y cuando $x^{r/2}\\neq\\pm1$.</li>\n",
    "\n",
    "</ol>\n",
    "\n",
    "<p style='text-align: justify;'><b>Búsqueda cuántica del periodo:</b></p>\n",
    "<p style='text-align: justify;'>Este algoritmo toma dos números coprimos enteros, x y N, y entrega el valor de r, los pasos para obtener el periodo es la siguiente:\n",
    "</p>\n",
    "<ol>\n",
    "    <li>Escoja $T=2^{t}$ tal que $N^{2}\\leq T\\leq2N^{2}$. Inicializar dos registros de qubits, primero un registro de argumento con t qubits y segundo una función de registro con $n=log_{2}(N)$ qubits. Estos registró tienen estado inicial $|0\\rangle=|0\\rangle|0\\rangle$.</li>\n",
    "    <li>Aplicar compuerta Hadamard a cada uno de los qubits en el registro argumento de todos los enteros entre 0 y T.\n",
    "</li>\n",
    "    <li>Implementar la función de exponenciación modular xa mod N en la función de registro, obteniendo lo siguiente: $|\\Psi_{2}\\rangle=\\frac{1}{\\sqrt{T}}=\\sum_{a=0}^{T-1}|a\\rangle|x^{a} mod N\\rangle$. $|\\Psi_2\\rangle$ está entrelazado y muestra paralelismo cuántico. La función entrelazada desde 0 hasta T entradas con los valores correspondientes de $x^{a} mod N$.</li>\n",
    "    <li>Realizar la transformada cuántica de Fourier en el registro argumento, obteniendo el estado: $|\\Psi_3\\rangle=\\frac{1}{\\sqrt{T}}\\sum_{a=0}^{T-1}\\sum_{z=0}^{T-1}e^{(2i)(az/T)}|z\\rangle|x^{a} mod N\\rangle$, debido a la interferencia, el valor de los términos de $|z\\rangle $ con $ z=qT/r$.</li>\n",
    "\n",
    "</ol>\n",
    "<p style='text-align: justify;'>Es importante ver que conceptos como el paralelismo cuántico y la interferencia constructiva son usados para la medida del periodo de la función de exponenciación modular. El algoritmo de Shor aprovecha la interferencia para medir la periodicidad aritmética de los objetos.</p>\n",
    "\n",
    "<p style='text-align: justify;'><b>Exponenciación modular:</b>\n",
    "<p style='text-align: justify;'>La exponenciación modular es una de las partes más exigentes del algoritmo, se desarrolla usando la identidad de representación binaria para cualquier número entero:</p><p>$$x=x_{t-1}2^{t-1}+...+x_{1}^{12}+x_{02}^{0}$$</p></p>\n",
    "\n",
    "<p style='text-align: justify;'>Donde $x_{t}$ son dígitos binarios de x.</p>\n",
    "<p style='text-align: justify;'>La exponenciación modular consiste en t multiplicaciones en serie con módulo N, cada uno de ellos controlado por el qubit $a_{t}$, los valores de $x,…,x^{2^{(t-1)}}$ se pueden calcular en un computador clásico elevando al cuadrado repetidamente.</p>\n",
    "\n",
    "<p style='text-align: left;'><b>Transformada cuantica de Fourier:</b></p>\n",
    "<p style='text-align: justify;'>Es la implementación de la transformada discreta de Fourier sobre las amplitudes de la función de onda.</p>\n",
    "<p style='text-align: justify;'>se basa en la siguiente formula:\n",
    "<p>$$y_{k}=\\frac{1}{\\sqrt{N}}\\sum_{j=0}^{N-1}x_{j}\\omega_{N}^{jk}$$</p></p>\n",
    "<p style='text-align: justify;'>Donde $\\omega_{N}^{jk}=e^{2\\pi i \\frac{jk}{N}}$. La transformada cuantica de Fourier actua sobre un estado cuántico $\\sum_{i=0}^{N-1}x_{i}|i\\rangle$ y se mapea al estado cuántico $\\sum_{i=0}^{N-1}y_{i}|i\\rangle$ de acuerdo a la fórmula anterior</p>\n",
    "<p style='text-align: justify;'>Esta ecuacion puede ser expresada como el mapa:</p>\n",
    "<p style='text-align: justify;'>$$|x\\rangle\\rightarrow\\frac{1}{\\sqrt{N}}\\sum_{y=0}^{N-1}\\omega_{N}^{xy}|y\\rangle$$</p>\n",
    "<p style='text-align: justify;'>O la matriz unitaria: $$U_{QFT}=\\frac{1}{\\sqrt{N}}\\sum_{x=0}^{N-1}\\sum_{y=0}^{N-1}\\omega_{N}^{xy}|y\\rangle\\langle x|$$</p>"
   ]
  },
  {
   "cell_type": "markdown",
   "metadata": {},
   "source": [
    "#### 2. IMPLEMENTACIÓN DEL ALGORITMO DE SHOR\n",
    "<p style='text-align: justify;'>Con base en el marco teórico y el enlace suministrado por la guía de laboratorio, se procede a implementar el algoritmo cuántico de Shor para buscar el periodo para poder descomponer en factores primos dicha implementación es la siguiente:</p>"
   ]
  },
  {
   "cell_type": "markdown",
   "metadata": {},
   "source": [
    "##### 2.1 ALGORITMO CUANTICO DE BÚSQUEDA DEL PERIODO"
   ]
  },
  {
   "cell_type": "code",
   "execution_count": 1,
   "metadata": {},
   "outputs": [],
   "source": [
    "import math\n",
    "from qiskit import BasicAer, execute\n",
    "from qiskit import QuantumCircuit, ClassicalRegister, QuantumRegister\n",
    "from qiskit.tools.visualization import plot_histogram"
   ]
  },
  {
   "cell_type": "code",
   "execution_count": 2,
   "metadata": {},
   "outputs": [],
   "source": [
    "# qc = quantum circuit, qr = quantum register, cr = classical register, a = 2, 7, 8, 11 or 13\n",
    "def circuit_amod15(qc,qr,cr,a):\n",
    "    if a == 2:\n",
    "        qc.cswap(qr[4],qr[3],qr[2])\n",
    "        qc.cswap(qr[4],qr[2],qr[1])\n",
    "        qc.cswap(qr[4],qr[1],qr[0])\n",
    "    elif a == 7:\n",
    "        qc.cswap(qr[4],qr[1],qr[0])\n",
    "        qc.cswap(qr[4],qr[2],qr[1])\n",
    "        qc.cswap(qr[4],qr[3],qr[2])\n",
    "        qc.cx(qr[4],qr[3])\n",
    "        qc.cx(qr[4],qr[2])\n",
    "        qc.cx(qr[4],qr[1])\n",
    "        qc.cx(qr[4],qr[0])\n",
    "    elif a == 8:\n",
    "        qc.cswap(qr[4],qr[1],qr[0])\n",
    "        qc.cswap(qr[4],qr[2],qr[1])\n",
    "        qc.cswap(qr[4],qr[3],qr[2])\n",
    "    elif a == 11: # this is included for completeness\n",
    "        qc.cswap(qr[4],qr[2],qr[0])\n",
    "        qc.cswap(qr[4],qr[3],qr[1])\n",
    "        qc.cx(qr[4],qr[3])\n",
    "        qc.cx(qr[4],qr[2])\n",
    "        qc.cx(qr[4],qr[1])\n",
    "        qc.cx(qr[4],qr[0])\n",
    "    elif a == 13:\n",
    "        qc.cswap(qr[4],qr[3],qr[2])\n",
    "        qc.cswap(qr[4],qr[2],qr[1])\n",
    "        qc.cswap(qr[4],qr[1],qr[0])\n",
    "        qc.cx(qr[4],qr[3])\n",
    "        qc.cx(qr[4],qr[2])\n",
    "        qc.cx(qr[4],qr[1])\n",
    "        qc.cx(qr[4],qr[0])"
   ]
  },
  {
   "cell_type": "code",
   "execution_count": 3,
   "metadata": {},
   "outputs": [],
   "source": [
    "# qc = quantum circuit, qr = quantum register, cr = classical register, a = 2, 7, 8, 11 or 13\n",
    "def circuit_aperiod15(qc,qr,cr,a):\n",
    "    if a == 11:\n",
    "        circuit_11period15(qc,qr,cr)\n",
    "        return\n",
    "    \n",
    "    # Initialize q[0] to |1> \n",
    "    qc.x(qr[0])\n",
    "\n",
    "    # Apply a**4 mod 15\n",
    "    qc.h(qr[4])\n",
    "    #   controlled identity on the remaining 4 qubits, which is equivalent to doing nothing\n",
    "    qc.h(qr[4])\n",
    "    #   measure\n",
    "    qc.measure(qr[4],cr[0])\n",
    "    #   reinitialise q[4] to |0>\n",
    "    qc.reset(qr[4])\n",
    "\n",
    "    # Apply a**2 mod 15\n",
    "    qc.h(qr[4])\n",
    "    #   controlled unitary\n",
    "    qc.cx(qr[4],qr[2])\n",
    "    qc.cx(qr[4],qr[0])\n",
    "    #   feed forward\n",
    "    qc.u1(math.pi/2.,qr[4]).c_if(cr, 1)\n",
    "    qc.h(qr[4])\n",
    "    #   measure\n",
    "    qc.measure(qr[4],cr[1])\n",
    "    #   reinitialise q[4] to |0>\n",
    "    qc.reset(qr[4])\n",
    "\n",
    "    # Apply a mod 15\n",
    "    qc.h(qr[4])\n",
    "    #   controlled unitary.\n",
    "    circuit_amod15(qc,qr,cr,a)\n",
    "    #   feed forward\n",
    "    qc.u1(3.*math.pi/4.,qr[4]).c_if(cr, 3)\n",
    "    qc.u1(math.pi/2.,qr[4]).c_if(cr, 2)\n",
    "    qc.u1(math.pi/4.,qr[4]).c_if(cr, 1)\n",
    "    qc.h(qr[4])\n",
    "    #   measure\n",
    "    qc.measure(qr[4],cr[2])"
   ]
  },
  {
   "cell_type": "code",
   "execution_count": 4,
   "metadata": {},
   "outputs": [],
   "source": [
    "def circuit_11period15(qc,qr,cr):\n",
    "    # Initialize q[0] to |1> \n",
    "    qc.x(qr[0])\n",
    "\n",
    "    # Apply a**4 mod 15\n",
    "    qc.h(qr[4])\n",
    "    #   controlled identity on the remaining 4 qubits, which is equivalent to doing nothing\n",
    "    qc.h(qr[4])\n",
    "    #   measure\n",
    "    qc.measure(qr[4],cr[0])\n",
    "    #   reinitialise q[4] to |0>\n",
    "    qc.reset(qr[4])\n",
    "\n",
    "    # Apply a**2 mod 15\n",
    "    qc.h(qr[4])\n",
    "    #   controlled identity on the remaining 4 qubits, which is equivalent to doing nothing\n",
    "    #   feed forward\n",
    "    qc.u1(math.pi/2.,qr[4]).c_if(cr, 1)\n",
    "    qc.h(qr[4])\n",
    "    #   measure\n",
    "    qc.measure(qr[4],cr[1])\n",
    "    #   reinitialise q[4] to |0>\n",
    "    qc.reset(qr[4])\n",
    "\n",
    "    # Apply 11 mod 15\n",
    "    qc.h(qr[4])\n",
    "    #   controlled unitary.\n",
    "    qc.cx(qr[4],qr[3])\n",
    "    qc.cx(qr[4],qr[1])\n",
    "    #   feed forward\n",
    "    qc.u1(3.*math.pi/4.,qr[4]).c_if(cr, 3)\n",
    "    qc.u1(math.pi/2.,qr[4]).c_if(cr, 2)\n",
    "    qc.u1(math.pi/4.,qr[4]).c_if(cr, 1)\n",
    "    qc.h(qr[4])\n",
    "    #   measure\n",
    "    qc.measure(qr[4],cr[2])"
   ]
  },
  {
   "cell_type": "code",
   "execution_count": 5,
   "metadata": {},
   "outputs": [
    {
     "data": {
      "image/png": "[encoded data removed]",
      "text/plain": [
       "<Figure size 1683.19x806.68 with 1 Axes>"
      ]
     },
     "execution_count": 5,
     "metadata": {},
     "output_type": "execute_result"
    }
   ],
   "source": [
    "q = QuantumRegister(5, 'q')\n",
    "c = ClassicalRegister(5, 'c')\n",
    "a = 13\n",
    "\n",
    "shor = QuantumCircuit(q,c)\n",
    "circuit_aperiod15(shor,q,c,a)\n",
    "shor.draw(output='mpl')"
   ]
  },
  {
   "cell_type": "code",
   "execution_count": 10,
   "metadata": {
    "scrolled": true
   },
   "outputs": [
    {
     "data": {
      "image/png": "[encoded data removed]",
      "text/plain": [
       "<Figure size 504x360 with 1 Axes>"
      ]
     },
     "execution_count": 10,
     "metadata": {},
     "output_type": "execute_result"
    }
   ],
   "source": [
    "backend = BasicAer.get_backend('qasm_simulator')\n",
    "sim_job = execute([shor], backend)\n",
    "sim_result = sim_job.result()\n",
    "data = sim_result.get_counts(shor) \n",
    "plot_histogram(data)"
   ]
  },
  {
   "cell_type": "markdown",
   "metadata": {},
   "source": [
    "<p style='text-align:justify'>Implementando el algoritmo y poniendolo a prueba en un backend de simulación en qiskit, se obtiene que para el valor asignado se encuentra los valores de $x=[0,2,4,6]$ estos valores de x son equiprobables para lograr el valor de periodo y nos permitirán así mismo un valor de periodo r con el cual se podrán encontrar los factores primos, o en este caso coprimos para descomponer un número entero.</p>\n",
    "<p style='text-align:justify'>De estos valores podemos notar que no es posible tomar valores de $x=0$ puesto que no nos permitirá tener un valor de periodo $r=0$ y de $x=6$ puesto que para el caso de $N=15$ este valor no es un factor coprimo como se puede notar en la tabla del ejemplo de la sección <b>\"Classical Steps to Shor's Algorithm\"</b> de la referencia [1].</p>"
   ]
  },
  {
   "cell_type": "markdown",
   "metadata": {},
   "source": [
    "##### 2.2 IMPLEMENTACIÓN DEL ALGORITMO COMPLETO DE FACTORIZACIÓN\n",
    "<p style='text-align:justify;'>Con base en el anterior código, se diseña un algoritmo en python que con base en los valores de x encontrados permitan cálcular los valores de p y q, que componen un número entero N, el algoritmo es el siguiente:</p>\n"
   ]
  },
  {
   "cell_type": "code",
   "execution_count": 7,
   "metadata": {},
   "outputs": [],
   "source": [
    "#--------------------------------------------------------------------------------------------------------------\n",
    "# The function to compute GCD using Euclid's method\n",
    "# Input : Two number to X and Y for which a GCD is to be computed\n",
    "# Output : GCD of two given numbers\n",
    "#--------------------------------------------------------------------------------------------------------------\t\n",
    "def gcd(x,y):\n",
    "    while y != 0:\n",
    "        (x, y) = (y, x % y)\n",
    "    return x"
   ]
  },
  {
   "cell_type": "code",
   "execution_count": 11,
   "metadata": {},
   "outputs": [
    {
     "name": "stdout",
     "output_type": "stream",
     "text": [
      "Para x = 2: r = 4 con Factor1 = 5.0 con Factor2 = 3.0\n",
      "Para x = 0: r = 1 con Factor1 = 1.7763568394002505e-15 con Factor2 = 8444249301319680.0\n",
      "Para x = 6: r = 4 con Factor1 = 5.0 con Factor2 = 3.0\n",
      "Para x = 4: r = 2 con Factor1 = 1.0 con Factor2 = 15.0\n"
     ]
    }
   ],
   "source": [
    "N = 15\n",
    "data = list(data.keys())\n",
    "for m in data:         \n",
    "    x = int(m,2)\n",
    "    l = gcd(2**3,x)\n",
    "    r = int((2**3)/l)\n",
    "    factor_1 = gcd((a**(r/2))+1,N)\n",
    "    factor_2 = N/factor_1\n",
    "    print(\"Para x = \"+str(x)+\": r = \"+str(r)+\" con Factor1 = \"+str(factor_1)+\" con Factor2 = \"+str(factor_2))"
   ]
  },
  {
   "cell_type": "markdown",
   "metadata": {},
   "source": [
    "<p style='text-align:justify'>Como se puede notar, el gcd es aplicado para encontrar el periodo, esto debido a que este proviene de la modulacion exponencial y si es determinado como un patrón, ese se encontrara en el resultado que lo relacione, asi mismo como se encuentra un factor es posible encotrar el termino faltante gracias a la relacion $N=pq$ establecida en el marco teórico, llegando a $q=\\frac{N}{p}$.</p>\n",
    "<p style='text-align:justify'>Del resultado obtenido al poner a prueba los valores de x encontrados se observa que el valor de $N=15$ puede ser obtenido en funcion de los factores 1 y 2 de manera sencilla, pero para el caso de $x=0$ ni $x=6$ no se deben tomar como valores aceptables puesto que el primero no entrega factores primos enteros válidos y el segundo al estar la función determinada en factores de coprimos el valor de $x=6$ no es tomado de forma válida tál y como se expreso en los resultados del numeral anterior.</p>"
   ]
  },
  {
   "cell_type": "markdown",
   "metadata": {},
   "source": [
    "### CONCLUSIONES\n",
    "<ul>\n",
    "    <li><p style='text-align:justify'>Sería interesante ver el desempeño de este algoritmo en una maquina cuantica fisica, y ampliar este resultado con valores enteros más grandes, lo que permitiria poner a prueba algoritmos de encriptacion que en este momento se consideran seguros.</p></li>\n",
    "    <li><p style='text-align:justify'>Parte importante de la busqueda del valor de periodo para encontrar una descomposicion en factores primos de nuemeros enteros radica en que es necesario definir un patron que permita definir de manera abierta cual es el valor de periodo que realmente se necesita. Ya que si esto no se define en primera instancia puede afectar el desempeño del algoritmo de búsqueda.</p></li>\n",
    "    <li><p style='text-align:justify'>El algoritmo cuántico de Shor presenta una ventaja muy grande a la hora de buscar valores, para este caso, el periodo de una sucesión de números coprimos para la factorización de un número más grande, este preámbulo puede abrir la puerta para la mejora en algoritmos de busqueda de datos, archivos y hasta enrutamientos a través de una red. </p></li>\n",
    "</ul>"
   ]
  },
  {
   "cell_type": "markdown",
   "metadata": {},
   "source": [
    "### BIBLIOGRAFÍA\n",
    "<ol>\n",
    "    <li><b>\"Shor's Algorithm for integer factorization\".(2020). [online]:</b> https://github.com/qiskit-community/qiskit-community-tutorials/blob/master/algorithms/shor_algorithm.ipynb</li>\n",
    "    <li><b>\"Shor's Algorithm\".(2020). [online]:</b> https://github.com/Aurelien-Pelissier/IBMQ-Quantum-Programming#the-algorithm</li>\n",
    "    <li><b>Shor, P. W. (1999). \"Polynomial-time algorithms for prime factorization and discrete logarithms on a quantum computer\". [online]:</b> https://arxiv.org/abs/quant-ph/9508027</li>\n",
    "    <li><b>\"Sieve of Hertostenes\". (2020). [online]:</b> https://en.wikipedia.org/wiki/Sieve_of_Eratosthenes</li>\n",
    "</ol>"
   ]
  }
 ],
 "metadata": {
  "kernelspec": {
   "display_name": "Python 3",
   "language": "python",
   "name": "python3"
  },
  "language_info": {
   "codemirror_mode": {
    "name": "ipython",
    "version": 3
   },
   "file_extension": ".py",
   "mimetype": "text/x-python",
   "name": "python",
   "nbconvert_exporter": "python",
   "pygments_lexer": "ipython3",
   "version": "3.7.8"
  }
 },
 "nbformat": 4,
 "nbformat_minor": 4
}
