{
 "cells": [
  {
   "cell_type": "code",
   "execution_count": null,
   "metadata": {
    "id": "IH7BG7UVqYMe"
   },
   "outputs": [],
   "source": [
    "# copiar esto: !pip install qiskit\n",
    "import sys\n",
    "import numpy as np\n",
    "import math\n",
    "\n",
    "from qiskit import QuantumCircuit, QuantumRegister, ClassicalRegister, execute, BasicAer, IBMQ\n",
    "from qiskit.visualization import plot_histogram, plot_bloch_multivector\n",
    "\n",
    "from qiskit.extensions import Initialize"
   ]
  },
  {
   "cell_type": "code",
   "execution_count": null,
   "metadata": {
    "id": "a9a4a602-8f31-44ff-abfc-09aab69c420d"
   },
   "outputs": [],
   "source": [
    "def encode_bitstring(bitstring, qr, cr, inverse=False):\n",
    "    \"\"\"\n",
    "    Construye la superposición cuantica de la cadena de bits\n",
    "    \"\"\"\n",
    "    n = math.ceil(math.log2(len(bitstring))) + 2                 #número de qbits\n",
    "    assert n > 2, \"la longitud de la cadena debe ser almenos 2\"\n",
    "    \n",
    "    qc = QuantumCircuit(qr, cr)\n",
    "    \n",
    "    #Amplitud de probabilidad del estado deseado\n",
    "    desired_vector = np.array([ 0.0 for i in range(2**n) ])     #inicializando a cero\n",
    "\n",
    "################################################################################################################    \n",
    " #         Cambio requerido en el código para corregir error presentado   #\n",
    "    \n",
    "    qc_init = QuantumCircuit(n) # Creación de compuertas circuitales para inicialización\n",
    "    inverse_qc_init = QuantumCircuit(n) # Creación de compuertas circuitales para inversión de la inicialización\n",
    "\n",
    "################################################################################################################\n",
    "\n",
    "    amplitude = np.sqrt(1.0/len(bitstring))\n",
    "    \n",
    "\n",
    "    #Se usa la misma lógica que en el procedimiento ejemplo, sin embargo se le debe añadir un cambio debido a \n",
    "    #que no tenemos solo dos tipos de valores “M” o “-”, Ahora tenemos 4 “A”, “T”, “G” y  “C”, por lo que se \n",
    "    #le hizo este cambio al codigo de codificación para agregar cada caso:\n",
    "    \n",
    "    for i, b in enumerate(bitstring):   #bucle para establecer casos para los valores A,C,G,T\n",
    "        pos = i * 4\n",
    "        if  b == \"C\":\n",
    "            pos += 1\n",
    "        elif b ==\"G\":\n",
    "            pos += 2\n",
    "        elif b ==\"T\":\n",
    "            pos += 3\n",
    "        desired_vector[pos] = amplitude\n",
    "\n",
    "################################################################################################################    \n",
    " #         Cambio requerido en el código para corregir error presentado   #\n",
    "    \n",
    "    qc_init = Initialize(desired_vector)\n",
    "    \n",
    " ################################################################################################################       \n",
    "    \n",
    "    if not inverse:\n",
    "#         qc.initialize(desired_vector, qr)\n",
    "\n",
    "        qc.append(qc_init, qr)  #  Cambio requerido en el código para corregir error presentado   #\n",
    "    \n",
    "        qc.barrier(qr)\n",
    "        \n",
    "    else:\n",
    "#         qc.initialize(desired_vector, qr).inverse()  #invertir el circuito\n",
    "\n",
    "        inverse_qc_init = qc_init.gates_to_uncompute()  # Cambio requerido en el código para corregir error presentado   #\n",
    "        qc.append(inverse_qc_init, qr)  # Cambio requerido en el código para corregir error presentado   #\n",
    "        \n",
    "        qc.barrier(qr)\n",
    "        for i in range(n):\n",
    "            qc.measure(qr[i], cr[i])\n",
    "    #print(desired_vector)\n",
    "    return qc"
   ]
  },
  {
   "cell_type": "code",
   "execution_count": null,
   "metadata": {
    "id": "IIDHQ5VytdN-"
   },
   "outputs": [],
   "source": [
    "GOAT     = \"ATGGTGCTGTCTGCCGCCGACAAGTCCAATGTCAAGGCCGCCTGGGGCAAGGTTGGCAGCAACGCTGGAGCTTATGGCGCAGAGGCTCTGGAGAGGATGTTCCTGAGCTTCCCCACCACCAAGACCTACTTCCCCCACTTCGACCTGAGCCACGGCTCGGCCCAGGTCAAGGGCCACGGCGAGAAGGTGGCCGCCGCGCTGACCAAAGCGGTGGGCCACCTGGACGACCTGCCCGGTACTCTGTCTGATCTGAGTGACCTGCACGCCCACAAGCTGCGTGTGGACCCGGTCAACTTTAAGCTTCTGAGCCACTCCCTGCTGGTGACCCTGGCCTGCCACCACCCCAGTGATTTCACCCCCGCGGTCCACGCCTCCCTGGACAAGTTCTTGGCCAACGTGAGCACCGTGCTGACCTCCAAATACCGTTAA\"\n",
    "HORSE    = \"ATGGTGCTGTCTGCCGCCGACAAGACCAACGTCAAGGCCGCCTGGAGTAAGGTTGGCGGCCACGCTGGCGAGTTTGGCGCAGAGGCCCTAGAGAGGATGTTCCTGGGCTTCCCCACCACCAAGACCTACTTCCCCCACTTCGATCTGAGCCACGGCTCCGCCCAGGTCAAGGCCCACGGCAAGAAGGTGGGCGACGCGCTGACTCTCGCCGTGGGCCACCTGGACGACCTGCCTGGCGCCCTGTCGAATCTGAGCGACCTGCACGCACACAAGCTGCGCGTGGACCCCGTCAACTTCAAGCTTCTGAGTCATTGCCTGCTGTCCACCTTGGCCGTCCACCTCCCCAACGATTTCACCCCTGCCGTCCACGCCTCCCTGGACAAGTTCTTGAGCAGTGTGAGCACCGTGCTGACCTCCAAATACCGTTAA\" \n",
    "PIDGEOT  = \"ATGGTGCTGTCTGCCAACGACAAGAGCAACGTGAAGGCCGTCTTCGGCAAAATCGGCGGCCAGGCCGGTGACTTGGGTGGTGAAGCCCTGGAGAGGTTGTTCATCACCTACCCCCAGACCAAGACCTACTTCCCCCACTTCGACCTGTCACATGGCTCCGCTCAGATCAAGGGGCACGGCAAGAAGGTGGCGGAGGCACTGGTTGAGGCTGCCAACCACATCGATGACATCGCTGGTGCCCTCTCCAAGCTGAGCGACCTCCACGCCCAAAAGCTCCGTGTGGACCCCGTCAACTTCAAACTGCTGGGTCACTGCTTCCTGGTGGTCGTGGCCGTCCACTTCCCCTCTCTCCTGACCCCGGAGGTCCATGCTTCCCTGGACAAGTTCGTGTGTGCCGTGGGCACCGTCCTTACTGCCAAGTACCGTTAA\"\n",
    "\n"
   ]
  },
  {
   "cell_type": "code",
   "execution_count": null,
   "metadata": {
    "id": "6effc654-5617-4ac7-8280-163bad538261"
   },
   "outputs": [],
   "source": [
    "n = math.ceil(math.log2(len(GOAT))) + 2                 #Número de Qubits\n",
    "qr = QuantumRegister(n)\n",
    "cr = ClassicalRegister(n)\n",
    "\n",
    "qc_GOAT    = encode_bitstring(GOAT, qr, cr)\n",
    "qc_HORSE    = encode_bitstring(HORSE, qr, cr)\n",
    "qc_PIDGEOT   = encode_bitstring(PIDGEOT, qr, cr)\n",
    "\n",
    "\n",
    "#Creación de cicuitos para cada secuencia y se guardan en un diccionario.\n",
    "circs = {\"GOAT\": qc_GOAT, \"HORSE\": qc_HORSE, \"PIDGEOT\": qc_PIDGEOT }"
   ]
  },
  {
   "cell_type": "code",
   "execution_count": null,
   "metadata": {
    "id": "ad6c4cfa-5d06-4845-98b4-51e9ea1c3d79"
   },
   "outputs": [],
   "source": [
    "\n",
    "inverse_qc_GOAT    = encode_bitstring(GOAT, qr, cr , inverse=True)\n",
    "inverse_qc_HORSE    = encode_bitstring(HORSE, qr, cr, inverse=True)\n",
    "inverse_qc_PIDGEOT     = encode_bitstring(PIDGEOT , qr, cr, inverse=True)\n",
    "\n",
    "#Creación de cicuitos inversos para cada secuencia y se guardan en un diccionario.\n",
    "inverse_circs = {\"GOAT\": inverse_qc_GOAT, \"HORSE\": inverse_qc_HORSE, \"PIDGEOT\": inverse_qc_PIDGEOT }"
   ]
  },
  {
   "cell_type": "code",
   "execution_count": null,
   "metadata": {
    "colab": {
     "base_uri": "https://localhost:8080/"
    },
    "id": "Seok0By01K2l",
    "outputId": "c2e12f96-b122-4353-dbb2-6abb5ebfd4b8"
   },
   "outputs": [
    {
     "name": "stdout",
     "output_type": "stream",
     "text": [
      "Similarity score of GOAT and GOAT is 1.0\n",
      "[ANSWER] GOAT is most similar to GOAT\n"
     ]
    }
   ],
   "source": [
    "from qiskit import IBMQ, BasicAer\n",
    "\n",
    "key = \"GOAT\"       #El nombre de la cadena genética usada para encontrar otras similares.\n",
    "other_key = key;\n",
    "# Simulador Local\n",
    "backend = BasicAer.get_backend(\"qasm_simulator\")\n",
    "shots = 8192\n",
    "\n",
    "combined_circs = {}\n",
    "count = {}\n",
    "\n",
    "most_similar, most_similar_score = \"\", -1.0\n",
    "\n",
    "        \n",
    "combined_circs[other_key] = circs[key].compose(inverse_circs[other_key])   #Circuito combinado para buscar circuitos similares\n",
    "job = execute(combined_circs[other_key], backend=backend,shots=shots)\n",
    "st = job.result().get_counts(combined_circs[other_key])\n",
    "if \"0\"*n in st:\n",
    "    sim_score = st[\"0\"*n]/shots\n",
    "else:\n",
    "    sim_score = 0.0\n",
    "    \n",
    "print(\"Similarity score of\",key,\"and\",other_key,\"is\",sim_score)"
   ]
  },
  {
   "cell_type": "code",
   "execution_count": null,
   "metadata": {
    "colab": {
     "base_uri": "https://localhost:8080/"
    },
    "id": "QA47q03G4A24",
    "outputId": "6816d204-f15d-422f-f8db-a7a3de9e6388"
   },
   "outputs": [
    {
     "name": "stdout",
     "output_type": "stream",
     "text": [
      "Similarity score of GOAT and GOAT_MOD is 0.9949951171875\n"
     ]
    }
   ],
   "source": [
    "from qiskit import IBMQ, BasicAer\n",
    "GOAT_MOD = \"ATGGTGCTGTCTGCCGCCGACAAGTCCAATGTCAAGGCCGCCTGGGGCAAGGTTGGCAGCAACGCTGGAGCTTATGGCGCAGAGGCTCTGGAGAGGATGTTCCTGAGCTACCCCACCACCAAGACCTACTTCCCCCACTTCGACCTGAGCCACGGCTCGGCCCAGGTCAAGGGCCACGGCGAGAAGGTGGCCGCCGCGCTGACCAAAGCGGTGGGCCACCTGGACGACCTGCCCGGTACTCTGTCTGATCTGAGTGACCTGCACGCCCACAAGCTGCGTGTGGACCCGGTCAACTTTAAGCTTCTGAGCCACTCCCTGCTGGTGACCCTGGCCTGCCACCACCCCAGTGATTTCACCCCCGCGGTCCACGCCTCCCTGGACAAGTTCTTGGCCAACGTGAGCACCGTGCTGACCTCCAAATACCGTTAA\"\n",
    "qc_GOAT_MOD   = encode_bitstring(GOAT_MOD, qr, cr)\n",
    "inverse_qc_GOAT_MOD     = encode_bitstring(GOAT_MOD , qr, cr, inverse=True)\n",
    "\n",
    "key = \"GOAT\"       #El nombre de la cadena genética usada para encontrar otras similares.\n",
    "other_key = \"GOAT_MOD\";\n",
    "# Simulador Local\n",
    "backend = BasicAer.get_backend(\"qasm_simulator\")\n",
    "shots = 8192\n",
    "\n",
    "combined_circs = {}\n",
    "count = {}\n",
    "\n",
    "most_similar, most_similar_score = \"\", -1.0\n",
    "\n",
    "        \n",
    "combined_circs[other_key] = circs[key].compose(inverse_qc_GOAT_MOD)  #Circuito combinado para buscar circuitos similares\n",
    "job = execute(combined_circs[other_key], backend=backend,shots=shots)\n",
    "st = job.result().get_counts(combined_circs[other_key])\n",
    "if \"0\"*n in st:\n",
    "    sim_score = st[\"0\"*n]/shots\n",
    "else:\n",
    "    sim_score = 0.0\n",
    "    \n",
    "print(\"Similarity score of\",key,\"and\",other_key,\"is\",sim_score)"
   ]
  },
  {
   "cell_type": "code",
   "execution_count": null,
   "metadata": {
    "colab": {
     "base_uri": "https://localhost:8080/"
    },
    "id": "ca1f56b8-7ef3-4582-8360-588fa6d2150c",
    "outputId": "3df76d5f-fca5-490a-aa14-3bdbc67ab273"
   },
   "outputs": [
    {
     "name": "stdout",
     "output_type": "stream",
     "text": [
      "Similarity score of GOAT and HORSE is 0.767822265625\n",
      "Similarity score of GOAT and PIDGEOT is 0.53466796875\n",
      "[ANSWER] GOAT is most similar to HORSE\n",
      "Similarity score of HORSE and GOAT is 0.772705078125\n",
      "Similarity score of HORSE and PIDGEOT is 0.5574951171875\n",
      "[ANSWER] HORSE is most similar to GOAT\n"
     ]
    }
   ],
   "source": [
    "from qiskit import IBMQ, BasicAer\n",
    "\n",
    "key = \"GOAT\"       #El nombre de la cadena genética usada para encontrar otras similares.\n",
    "\n",
    "# Simulador Local\n",
    "backend = BasicAer.get_backend(\"qasm_simulator\")\n",
    "shots = 8192\n",
    "\n",
    "combined_circs = {}\n",
    "count = {}\n",
    "\n",
    "most_similar, most_similar_score = \"\", -1.0\n",
    "\n",
    "for other_key in inverse_circs:\n",
    "    if other_key == key:\n",
    "        continue\n",
    "        \n",
    "    combined_circs[other_key] = circs[key].compose(inverse_circs[other_key])   #Circuito combinado para buscar circuitos similares\n",
    "    job = execute(combined_circs[other_key], backend=backend,shots=shots)\n",
    "    st = job.result().get_counts(combined_circs[other_key])\n",
    "    if \"0\"*n in st:\n",
    "        sim_score = st[\"0\"*n]/shots\n",
    "    else:\n",
    "        sim_score = 0.0\n",
    "    \n",
    "    print(\"Similarity score of\",key,\"and\",other_key,\"is\",sim_score)\n",
    "    if most_similar_score < sim_score:\n",
    "        most_similar, most_similar_score = other_key, sim_score\n",
    "\n",
    "print(\"[ANSWER]\", key,\"is most similar to\", most_similar)\n",
    "\n",
    "key = \"HORSE\"        #El nombre de la cadena genética usada para encontrar otras similares.\n",
    "\n",
    "\n",
    "# Simulador Local\n",
    "backend = BasicAer.get_backend(\"qasm_simulator\")\n",
    "shots = 8192\n",
    "\n",
    "combined_circs = {}\n",
    "count = {}\n",
    "\n",
    "most_similar, most_similar_score = \"\", -1.0\n",
    "\n",
    "for other_key in inverse_circs:\n",
    "    if other_key == key:\n",
    "        continue\n",
    "        \n",
    "    combined_circs[other_key] = circs[key].compose(inverse_circs[other_key])   #Circuito combinado para buscar circuitos similares\n",
    "    job = execute(combined_circs[other_key], backend=backend,shots=shots)\n",
    "    st = job.result().get_counts(combined_circs[other_key])\n",
    "    if \"0\"*n in st:\n",
    "        sim_score = st[\"0\"*n]/shots\n",
    "    else:\n",
    "        sim_score = 0.0\n",
    "    \n",
    "    print(\"Similarity score of\",key,\"and\",other_key,\"is\",sim_score)\n",
    "    if most_similar_score < sim_score:\n",
    "        most_similar, most_similar_score = other_key, sim_score\n",
    "\n",
    "print(\"[ANSWER]\", key,\"is most similar to\", most_similar)"
   ]
  }
 ],
 "metadata": {
  "colab": {
   "name": "Lab3_quantica_simulado.ipynb",
   "provenance": []
  },
  "kernelspec": {
   "display_name": "Python 3 (ipykernel)",
   "language": "python",
   "name": "python3"
  },
  "language_info": {
   "codemirror_mode": {
    "name": "ipython",
    "version": 3
   },
   "file_extension": ".py",
   "mimetype": "text/x-python",
   "name": "python",
   "nbconvert_exporter": "python",
   "pygments_lexer": "ipython3",
   "version": "3.8.13"
  },
  "widgets": {
   "application/vnd.jupyter.widget-state+json": {
    "state": {},
    "version_major": 2,
    "version_minor": 0
   }
  }
 },
 "nbformat": 4,
 "nbformat_minor": 4
}
