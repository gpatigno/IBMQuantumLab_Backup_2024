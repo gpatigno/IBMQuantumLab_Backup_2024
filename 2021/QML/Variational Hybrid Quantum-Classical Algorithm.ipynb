{
 "cells": [
  {
   "cell_type": "markdown",
   "metadata": {
    "id": "msMIDAMIMdej"
   },
   "source": [
    "# Book: Hands-On-Quantum-Machine-Learning-With-Python-Vol-1\n",
    "# Chapter 2\n",
    "\n",
    "################################################\n",
    "## 1. Look at the data\n",
    "################################################\n"
   ]
  },
  {
   "cell_type": "code",
   "execution_count": 1,
   "metadata": {},
   "outputs": [],
   "source": [
    "import sys\n",
    "sys.path.insert(0, '..')"
   ]
  },
  {
   "cell_type": "code",
   "execution_count": 2,
   "metadata": {
    "executionInfo": {
     "elapsed": 764,
     "status": "ok",
     "timestamp": 1647611985584,
     "user": {
      "displayName": "GUSTAVO ADOLFO PATIÑO ALVAREZ",
      "photoUrl": "https://lh3.googleusercontent.com/a-/AOh14GieSUQzF1vNVYjcMUZgrtxqAu0TcXwUtMBe44CUwBOW-bk3mEezr-XmVi0ZK8noQUcqQESH8607oqnn7eKdDGzTF--XuISzdvm8X4MkAYW0Ufoi61dZPOCqBwU_yBH21FI9dh3fcBIRjmlSrIvvm6ZZl-5g0YNMZqW4eIxWa0hTNfomlFAcHHaquQ8TYKoT9-csEJYLRQVhktcfek9Vx3o6QNhfcHPOkzHQ1xrGBd1F7kw-FUohyEP7585HRH-JUvAr2Lva8apRMJ5cwaRFOCzWtSvl633xlUtyQuxeO2ZsWacYxNVE10WjyRlzVTyFpEoikaN_248A6gotKCBNCnq1U4MuhdURb8ni9mi1nxrylMooE8zbFvBalDHqGW04tgLZq30cD8-g7dogr8xVsLRJ1hesGtJFka4TktSKxLanKkN-kQpRpV1DZSfKLCMsZ25gXd6qFbZ_9UPM1TIGn2EqurdNpbl1GxDH6zXknTyE9rzacVXTyhzK7Y6inYpX4myYbwX1zgnQSTTuvNl3svFHgIq0jCGutyrO5nj0-u5wUs5yY2crPGXPj5on1QK6iFVx6NhF2jOsQH-GJoP37N3yXIlHThuLTZHtmtLyNOfpZ42yVmq5S5zc-6IyZDVdBsCGATnUX7TZvURhysLCpRswu5NBRlJw5VxXxn_O6GV2KYYl4vgJPfPsw51OM0KmRWLVxzvtiBhFT9JyhnXvGxDpTo9Zu96fjGDemhis9_Q9_iv2MNU2g6AG_gGY_0cwO49mIMQ=s64",
      "userId": "13728227204889328138"
     },
     "user_tz": 300
    },
    "id": "wqO2N-xuMden"
   },
   "outputs": [],
   "source": [
    "# Listing 2.1: Load the data from the csv‐files\n",
    "import pandas as pd\n",
    "\n",
    "test = pd.read_csv('../QML/data/test.csv')\n",
    "train = pd.read_csv('../QML/data/train.csv')"
   ]
  },
  {
   "cell_type": "code",
   "execution_count": 3,
   "metadata": {
    "colab": {
     "base_uri": "https://localhost:8080/"
    },
    "executionInfo": {
     "elapsed": 23,
     "status": "ok",
     "timestamp": 1647611985588,
     "user": {
      "displayName": "GUSTAVO ADOLFO PATIÑO ALVAREZ",
      "photoUrl": "https://lh3.googleusercontent.com/a-/AOh14GieSUQzF1vNVYjcMUZgrtxqAu0TcXwUtMBe44CUwBOW-bk3mEezr-XmVi0ZK8noQUcqQESH8607oqnn7eKdDGzTF--XuISzdvm8X4MkAYW0Ufoi61dZPOCqBwU_yBH21FI9dh3fcBIRjmlSrIvvm6ZZl-5g0YNMZqW4eIxWa0hTNfomlFAcHHaquQ8TYKoT9-csEJYLRQVhktcfek9Vx3o6QNhfcHPOkzHQ1xrGBd1F7kw-FUohyEP7585HRH-JUvAr2Lva8apRMJ5cwaRFOCzWtSvl633xlUtyQuxeO2ZsWacYxNVE10WjyRlzVTyFpEoikaN_248A6gotKCBNCnq1U4MuhdURb8ni9mi1nxrylMooE8zbFvBalDHqGW04tgLZq30cD8-g7dogr8xVsLRJ1hesGtJFka4TktSKxLanKkN-kQpRpV1DZSfKLCMsZ25gXd6qFbZ_9UPM1TIGn2EqurdNpbl1GxDH6zXknTyE9rzacVXTyhzK7Y6inYpX4myYbwX1zgnQSTTuvNl3svFHgIq0jCGutyrO5nj0-u5wUs5yY2crPGXPj5on1QK6iFVx6NhF2jOsQH-GJoP37N3yXIlHThuLTZHtmtLyNOfpZ42yVmq5S5zc-6IyZDVdBsCGATnUX7TZvURhysLCpRswu5NBRlJw5VxXxn_O6GV2KYYl4vgJPfPsw51OM0KmRWLVxzvtiBhFT9JyhnXvGxDpTo9Zu96fjGDemhis9_Q9_iv2MNU2g6AG_gGY_0cwO49mIMQ=s64",
      "userId": "13728227204889328138"
     },
     "user_tz": 300
    },
    "id": "-G_OwRb1Mdep",
    "outputId": "4ac38787-1a25-466b-d7b5-23d5785fdde6",
    "tags": []
   },
   "outputs": [
    {
     "name": "stdout",
     "output_type": "stream",
     "text": [
      "train has 891 rows and 12 columns\n",
      "test has 418 rows and 11 columns\n"
     ]
    }
   ],
   "source": [
    "# Listing 2.2: The shapes of the Titanic datasets\n",
    "print('train has {} rows and {} columns'.format(*train.shape))\n",
    "print('test has {} rows and {} columns'.format(*test.shape))"
   ]
  },
  {
   "cell_type": "code",
   "execution_count": 4,
   "metadata": {
    "colab": {
     "base_uri": "https://localhost:8080/"
    },
    "executionInfo": {
     "elapsed": 22,
     "status": "ok",
     "timestamp": 1647611985590,
     "user": {
      "displayName": "GUSTAVO ADOLFO PATIÑO ALVAREZ",
      "photoUrl": "https://lh3.googleusercontent.com/a-/AOh14GieSUQzF1vNVYjcMUZgrtxqAu0TcXwUtMBe44CUwBOW-bk3mEezr-XmVi0ZK8noQUcqQESH8607oqnn7eKdDGzTF--XuISzdvm8X4MkAYW0Ufoi61dZPOCqBwU_yBH21FI9dh3fcBIRjmlSrIvvm6ZZl-5g0YNMZqW4eIxWa0hTNfomlFAcHHaquQ8TYKoT9-csEJYLRQVhktcfek9Vx3o6QNhfcHPOkzHQ1xrGBd1F7kw-FUohyEP7585HRH-JUvAr2Lva8apRMJ5cwaRFOCzWtSvl633xlUtyQuxeO2ZsWacYxNVE10WjyRlzVTyFpEoikaN_248A6gotKCBNCnq1U4MuhdURb8ni9mi1nxrylMooE8zbFvBalDHqGW04tgLZq30cD8-g7dogr8xVsLRJ1hesGtJFka4TktSKxLanKkN-kQpRpV1DZSfKLCMsZ25gXd6qFbZ_9UPM1TIGn2EqurdNpbl1GxDH6zXknTyE9rzacVXTyhzK7Y6inYpX4myYbwX1zgnQSTTuvNl3svFHgIq0jCGutyrO5nj0-u5wUs5yY2crPGXPj5on1QK6iFVx6NhF2jOsQH-GJoP37N3yXIlHThuLTZHtmtLyNOfpZ42yVmq5S5zc-6IyZDVdBsCGATnUX7TZvURhysLCpRswu5NBRlJw5VxXxn_O6GV2KYYl4vgJPfPsw51OM0KmRWLVxzvtiBhFT9JyhnXvGxDpTo9Zu96fjGDemhis9_Q9_iv2MNU2g6AG_gGY_0cwO49mIMQ=s64",
      "userId": "13728227204889328138"
     },
     "user_tz": 300
    },
    "id": "oNu0VNBaMdeq",
    "outputId": "6afda95b-ffcd-446e-ed36-3c90c74129be",
    "tags": []
   },
   "outputs": [
    {
     "name": "stdout",
     "output_type": "stream",
     "text": [
      "<class 'pandas.core.frame.DataFrame'>\n",
      "RangeIndex: 891 entries, 0 to 890\n",
      "Data columns (total 12 columns):\n",
      " #   Column       Non-Null Count  Dtype  \n",
      "---  ------       --------------  -----  \n",
      " 0   PassengerId  891 non-null    int64  \n",
      " 1   Survived     891 non-null    int64  \n",
      " 2   Pclass       891 non-null    int64  \n",
      " 3   Name         891 non-null    object \n",
      " 4   Sex          891 non-null    object \n",
      " 5   Age          714 non-null    float64\n",
      " 6   SibSp        891 non-null    int64  \n",
      " 7   Parch        891 non-null    int64  \n",
      " 8   Ticket       891 non-null    object \n",
      " 9   Fare         891 non-null    float64\n",
      " 10  Cabin        204 non-null    object \n",
      " 11  Embarked     889 non-null    object \n",
      "dtypes: float64(2), int64(5), object(5)\n",
      "memory usage: 83.7+ KB\n"
     ]
    }
   ],
   "source": [
    "# Listing 2.3: The structure of the train dataset\n",
    "train.info()"
   ]
  },
  {
   "cell_type": "code",
   "execution_count": 5,
   "metadata": {
    "colab": {
     "base_uri": "https://localhost:8080/"
    },
    "executionInfo": {
     "elapsed": 19,
     "status": "ok",
     "timestamp": 1647611985591,
     "user": {
      "displayName": "GUSTAVO ADOLFO PATIÑO ALVAREZ",
      "photoUrl": "https://lh3.googleusercontent.com/a-/AOh14GieSUQzF1vNVYjcMUZgrtxqAu0TcXwUtMBe44CUwBOW-bk3mEezr-XmVi0ZK8noQUcqQESH8607oqnn7eKdDGzTF--XuISzdvm8X4MkAYW0Ufoi61dZPOCqBwU_yBH21FI9dh3fcBIRjmlSrIvvm6ZZl-5g0YNMZqW4eIxWa0hTNfomlFAcHHaquQ8TYKoT9-csEJYLRQVhktcfek9Vx3o6QNhfcHPOkzHQ1xrGBd1F7kw-FUohyEP7585HRH-JUvAr2Lva8apRMJ5cwaRFOCzWtSvl633xlUtyQuxeO2ZsWacYxNVE10WjyRlzVTyFpEoikaN_248A6gotKCBNCnq1U4MuhdURb8ni9mi1nxrylMooE8zbFvBalDHqGW04tgLZq30cD8-g7dogr8xVsLRJ1hesGtJFka4TktSKxLanKkN-kQpRpV1DZSfKLCMsZ25gXd6qFbZ_9UPM1TIGn2EqurdNpbl1GxDH6zXknTyE9rzacVXTyhzK7Y6inYpX4myYbwX1zgnQSTTuvNl3svFHgIq0jCGutyrO5nj0-u5wUs5yY2crPGXPj5on1QK6iFVx6NhF2jOsQH-GJoP37N3yXIlHThuLTZHtmtLyNOfpZ42yVmq5S5zc-6IyZDVdBsCGATnUX7TZvURhysLCpRswu5NBRlJw5VxXxn_O6GV2KYYl4vgJPfPsw51OM0KmRWLVxzvtiBhFT9JyhnXvGxDpTo9Zu96fjGDemhis9_Q9_iv2MNU2g6AG_gGY_0cwO49mIMQ=s64",
      "userId": "13728227204889328138"
     },
     "user_tz": 300
    },
    "id": "ttZxa9JFMder",
    "outputId": "c174b1dc-af6f-4181-bf24-cdb94b527f9a",
    "tags": []
   },
   "outputs": [
    {
     "name": "stdout",
     "output_type": "stream",
     "text": [
      "<class 'pandas.core.frame.DataFrame'>\n",
      "RangeIndex: 418 entries, 0 to 417\n",
      "Data columns (total 11 columns):\n",
      " #   Column       Non-Null Count  Dtype  \n",
      "---  ------       --------------  -----  \n",
      " 0   PassengerId  418 non-null    int64  \n",
      " 1   Pclass       418 non-null    int64  \n",
      " 2   Name         418 non-null    object \n",
      " 3   Sex          418 non-null    object \n",
      " 4   Age          332 non-null    float64\n",
      " 5   SibSp        418 non-null    int64  \n",
      " 6   Parch        418 non-null    int64  \n",
      " 7   Ticket       418 non-null    object \n",
      " 8   Fare         417 non-null    float64\n",
      " 9   Cabin        91 non-null     object \n",
      " 10  Embarked     418 non-null    object \n",
      "dtypes: float64(2), int64(4), object(5)\n",
      "memory usage: 36.0+ KB\n"
     ]
    }
   ],
   "source": [
    "# Listing 2.4: The structure of the test dataset\n",
    "test.info()"
   ]
  },
  {
   "cell_type": "code",
   "execution_count": 6,
   "metadata": {
    "colab": {
     "base_uri": "https://localhost:8080/",
     "height": 206
    },
    "executionInfo": {
     "elapsed": 16,
     "status": "ok",
     "timestamp": 1647611985592,
     "user": {
      "displayName": "GUSTAVO ADOLFO PATIÑO ALVAREZ",
      "photoUrl": "https://lh3.googleusercontent.com/a-/AOh14GieSUQzF1vNVYjcMUZgrtxqAu0TcXwUtMBe44CUwBOW-bk3mEezr-XmVi0ZK8noQUcqQESH8607oqnn7eKdDGzTF--XuISzdvm8X4MkAYW0Ufoi61dZPOCqBwU_yBH21FI9dh3fcBIRjmlSrIvvm6ZZl-5g0YNMZqW4eIxWa0hTNfomlFAcHHaquQ8TYKoT9-csEJYLRQVhktcfek9Vx3o6QNhfcHPOkzHQ1xrGBd1F7kw-FUohyEP7585HRH-JUvAr2Lva8apRMJ5cwaRFOCzWtSvl633xlUtyQuxeO2ZsWacYxNVE10WjyRlzVTyFpEoikaN_248A6gotKCBNCnq1U4MuhdURb8ni9mi1nxrylMooE8zbFvBalDHqGW04tgLZq30cD8-g7dogr8xVsLRJ1hesGtJFka4TktSKxLanKkN-kQpRpV1DZSfKLCMsZ25gXd6qFbZ_9UPM1TIGn2EqurdNpbl1GxDH6zXknTyE9rzacVXTyhzK7Y6inYpX4myYbwX1zgnQSTTuvNl3svFHgIq0jCGutyrO5nj0-u5wUs5yY2crPGXPj5on1QK6iFVx6NhF2jOsQH-GJoP37N3yXIlHThuLTZHtmtLyNOfpZ42yVmq5S5zc-6IyZDVdBsCGATnUX7TZvURhysLCpRswu5NBRlJw5VxXxn_O6GV2KYYl4vgJPfPsw51OM0KmRWLVxzvtiBhFT9JyhnXvGxDpTo9Zu96fjGDemhis9_Q9_iv2MNU2g6AG_gGY_0cwO49mIMQ=s64",
      "userId": "13728227204889328138"
     },
     "user_tz": 300
    },
    "id": "J_pkTHDKMdet",
    "outputId": "8c9c1c7d-9c9c-447c-85ed-d4070d976fdc",
    "tags": [
     "Raw"
    ]
   },
   "outputs": [
    {
     "data": {
      "text/html": [
       "<div>\n",
       "<style scoped>\n",
       "    .dataframe tbody tr th:only-of-type {\n",
       "        vertical-align: middle;\n",
       "    }\n",
       "\n",
       "    .dataframe tbody tr th {\n",
       "        vertical-align: top;\n",
       "    }\n",
       "\n",
       "    .dataframe thead th {\n",
       "        text-align: right;\n",
       "    }\n",
       "</style>\n",
       "<table border=\"1\" class=\"dataframe\">\n",
       "  <thead>\n",
       "    <tr style=\"text-align: right;\">\n",
       "      <th></th>\n",
       "      <th>PassengerId</th>\n",
       "      <th>Survived</th>\n",
       "      <th>Pclass</th>\n",
       "      <th>Name</th>\n",
       "      <th>Sex</th>\n",
       "      <th>Age</th>\n",
       "      <th>SibSp</th>\n",
       "      <th>Parch</th>\n",
       "      <th>Ticket</th>\n",
       "      <th>Fare</th>\n",
       "      <th>Cabin</th>\n",
       "      <th>Embarked</th>\n",
       "    </tr>\n",
       "  </thead>\n",
       "  <tbody>\n",
       "    <tr>\n",
       "      <th>0</th>\n",
       "      <td>1</td>\n",
       "      <td>0</td>\n",
       "      <td>3</td>\n",
       "      <td>Braund, Mr. Owen Harris</td>\n",
       "      <td>male</td>\n",
       "      <td>22.0</td>\n",
       "      <td>1</td>\n",
       "      <td>0</td>\n",
       "      <td>A/5 21171</td>\n",
       "      <td>7.2500</td>\n",
       "      <td>NaN</td>\n",
       "      <td>S</td>\n",
       "    </tr>\n",
       "    <tr>\n",
       "      <th>1</th>\n",
       "      <td>2</td>\n",
       "      <td>1</td>\n",
       "      <td>1</td>\n",
       "      <td>Cumings, Mrs. John Bradley (Florence Briggs Th...</td>\n",
       "      <td>female</td>\n",
       "      <td>38.0</td>\n",
       "      <td>1</td>\n",
       "      <td>0</td>\n",
       "      <td>PC 17599</td>\n",
       "      <td>71.2833</td>\n",
       "      <td>C85</td>\n",
       "      <td>C</td>\n",
       "    </tr>\n",
       "    <tr>\n",
       "      <th>2</th>\n",
       "      <td>3</td>\n",
       "      <td>1</td>\n",
       "      <td>3</td>\n",
       "      <td>Heikkinen, Miss. Laina</td>\n",
       "      <td>female</td>\n",
       "      <td>26.0</td>\n",
       "      <td>0</td>\n",
       "      <td>0</td>\n",
       "      <td>STON/O2. 3101282</td>\n",
       "      <td>7.9250</td>\n",
       "      <td>NaN</td>\n",
       "      <td>S</td>\n",
       "    </tr>\n",
       "    <tr>\n",
       "      <th>3</th>\n",
       "      <td>4</td>\n",
       "      <td>1</td>\n",
       "      <td>1</td>\n",
       "      <td>Futrelle, Mrs. Jacques Heath (Lily May Peel)</td>\n",
       "      <td>female</td>\n",
       "      <td>35.0</td>\n",
       "      <td>1</td>\n",
       "      <td>0</td>\n",
       "      <td>113803</td>\n",
       "      <td>53.1000</td>\n",
       "      <td>C123</td>\n",
       "      <td>S</td>\n",
       "    </tr>\n",
       "    <tr>\n",
       "      <th>4</th>\n",
       "      <td>5</td>\n",
       "      <td>0</td>\n",
       "      <td>3</td>\n",
       "      <td>Allen, Mr. William Henry</td>\n",
       "      <td>male</td>\n",
       "      <td>35.0</td>\n",
       "      <td>0</td>\n",
       "      <td>0</td>\n",
       "      <td>373450</td>\n",
       "      <td>8.0500</td>\n",
       "      <td>NaN</td>\n",
       "      <td>S</td>\n",
       "    </tr>\n",
       "  </tbody>\n",
       "</table>\n",
       "</div>"
      ],
      "text/plain": [
       "   PassengerId  Survived  Pclass  \\\n",
       "0            1         0       3   \n",
       "1            2         1       1   \n",
       "2            3         1       3   \n",
       "3            4         1       1   \n",
       "4            5         0       3   \n",
       "\n",
       "                                                Name     Sex   Age  SibSp  \\\n",
       "0                            Braund, Mr. Owen Harris    male  22.0      1   \n",
       "1  Cumings, Mrs. John Bradley (Florence Briggs Th...  female  38.0      1   \n",
       "2                             Heikkinen, Miss. Laina  female  26.0      0   \n",
       "3       Futrelle, Mrs. Jacques Heath (Lily May Peel)  female  35.0      1   \n",
       "4                           Allen, Mr. William Henry    male  35.0      0   \n",
       "\n",
       "   Parch            Ticket     Fare Cabin Embarked  \n",
       "0      0         A/5 21171   7.2500   NaN        S  \n",
       "1      0          PC 17599  71.2833   C85        C  \n",
       "2      0  STON/O2. 3101282   7.9250   NaN        S  \n",
       "3      0            113803  53.1000  C123        S  \n",
       "4      0            373450   8.0500   NaN        S  "
      ]
     },
     "execution_count": 6,
     "metadata": {},
     "output_type": "execute_result"
    }
   ],
   "source": [
    "# Listing 2.5: Look at the data\n",
    "train.head()"
   ]
  },
  {
   "cell_type": "markdown",
   "metadata": {
    "id": "q7jtCKPBMdeu"
   },
   "source": [
    "################################################\n",
    "## 2. Data Preparation and Cleaning\n",
    "################################################\n"
   ]
  },
  {
   "cell_type": "code",
   "execution_count": 7,
   "metadata": {
    "colab": {
     "base_uri": "https://localhost:8080/"
    },
    "executionInfo": {
     "elapsed": 257,
     "status": "ok",
     "timestamp": 1647611985835,
     "user": {
      "displayName": "GUSTAVO ADOLFO PATIÑO ALVAREZ",
      "photoUrl": "https://lh3.googleusercontent.com/a-/AOh14GieSUQzF1vNVYjcMUZgrtxqAu0TcXwUtMBe44CUwBOW-bk3mEezr-XmVi0ZK8noQUcqQESH8607oqnn7eKdDGzTF--XuISzdvm8X4MkAYW0Ufoi61dZPOCqBwU_yBH21FI9dh3fcBIRjmlSrIvvm6ZZl-5g0YNMZqW4eIxWa0hTNfomlFAcHHaquQ8TYKoT9-csEJYLRQVhktcfek9Vx3o6QNhfcHPOkzHQ1xrGBd1F7kw-FUohyEP7585HRH-JUvAr2Lva8apRMJ5cwaRFOCzWtSvl633xlUtyQuxeO2ZsWacYxNVE10WjyRlzVTyFpEoikaN_248A6gotKCBNCnq1U4MuhdURb8ni9mi1nxrylMooE8zbFvBalDHqGW04tgLZq30cD8-g7dogr8xVsLRJ1hesGtJFka4TktSKxLanKkN-kQpRpV1DZSfKLCMsZ25gXd6qFbZ_9UPM1TIGn2EqurdNpbl1GxDH6zXknTyE9rzacVXTyhzK7Y6inYpX4myYbwX1zgnQSTTuvNl3svFHgIq0jCGutyrO5nj0-u5wUs5yY2crPGXPj5on1QK6iFVx6NhF2jOsQH-GJoP37N3yXIlHThuLTZHtmtLyNOfpZ42yVmq5S5zc-6IyZDVdBsCGATnUX7TZvURhysLCpRswu5NBRlJw5VxXxn_O6GV2KYYl4vgJPfPsw51OM0KmRWLVxzvtiBhFT9JyhnXvGxDpTo9Zu96fjGDemhis9_Q9_iv2MNU2g6AG_gGY_0cwO49mIMQ=s64",
      "userId": "13728227204889328138"
     },
     "user_tz": 300
    },
    "id": "_S7e5qaAMdeu",
    "outputId": "d2787f38-921c-452f-be23-a733cf130eb7",
    "tags": []
   },
   "outputs": [
    {
     "name": "stdout",
     "output_type": "stream",
     "text": [
      "<class 'pandas.core.frame.DataFrame'>\n",
      "Int64Index: 889 entries, 0 to 890\n",
      "Data columns (total 11 columns):\n",
      " #   Column       Non-Null Count  Dtype  \n",
      "---  ------       --------------  -----  \n",
      " 0   PassengerId  889 non-null    int64  \n",
      " 1   Survived     889 non-null    int64  \n",
      " 2   Pclass       889 non-null    int64  \n",
      " 3   Name         889 non-null    object \n",
      " 4   Sex          889 non-null    object \n",
      " 5   Age          889 non-null    float64\n",
      " 6   SibSp        889 non-null    int64  \n",
      " 7   Parch        889 non-null    int64  \n",
      " 8   Ticket       889 non-null    object \n",
      " 9   Fare         889 non-null    float64\n",
      " 10  Embarked     889 non-null    object \n",
      "dtypes: float64(2), int64(5), object(4)\n",
      "memory usage: 83.3+ KB\n"
     ]
    }
   ],
   "source": [
    "# Listing 2.6: Cope with missing values\n",
    "# option 1\n",
    "# We only have two passengers without it. This is bearable\n",
    "train = train.dropna(subset=[\"Embarked\"])    \n",
    "\n",
    "# option 2\n",
    "# We only have very few information about the cabin, let's drop it\n",
    "train = train.drop(\"Cabin\", axis=1)       \n",
    "\n",
    "# option 3\n",
    "# The age misses quite a few times. But intuition\n",
    "# says it might be important for someone's chance to survive.\n",
    "mean = train[\"Age\"].mean()\n",
    "train[\"Age\"] = train[\"Age\"].fillna(mean)     \n",
    "\n",
    "train.info()"
   ]
  },
  {
   "cell_type": "markdown",
   "metadata": {
    "id": "twkykY1XMdew"
   },
   "source": [
    "## 2.1 Deleting unuseful information"
   ]
  },
  {
   "cell_type": "code",
   "execution_count": 8,
   "metadata": {
    "colab": {
     "base_uri": "https://localhost:8080/"
    },
    "executionInfo": {
     "elapsed": 12,
     "status": "ok",
     "timestamp": 1647611985836,
     "user": {
      "displayName": "GUSTAVO ADOLFO PATIÑO ALVAREZ",
      "photoUrl": "https://lh3.googleusercontent.com/a-/AOh14GieSUQzF1vNVYjcMUZgrtxqAu0TcXwUtMBe44CUwBOW-bk3mEezr-XmVi0ZK8noQUcqQESH8607oqnn7eKdDGzTF--XuISzdvm8X4MkAYW0Ufoi61dZPOCqBwU_yBH21FI9dh3fcBIRjmlSrIvvm6ZZl-5g0YNMZqW4eIxWa0hTNfomlFAcHHaquQ8TYKoT9-csEJYLRQVhktcfek9Vx3o6QNhfcHPOkzHQ1xrGBd1F7kw-FUohyEP7585HRH-JUvAr2Lva8apRMJ5cwaRFOCzWtSvl633xlUtyQuxeO2ZsWacYxNVE10WjyRlzVTyFpEoikaN_248A6gotKCBNCnq1U4MuhdURb8ni9mi1nxrylMooE8zbFvBalDHqGW04tgLZq30cD8-g7dogr8xVsLRJ1hesGtJFka4TktSKxLanKkN-kQpRpV1DZSfKLCMsZ25gXd6qFbZ_9UPM1TIGn2EqurdNpbl1GxDH6zXknTyE9rzacVXTyhzK7Y6inYpX4myYbwX1zgnQSTTuvNl3svFHgIq0jCGutyrO5nj0-u5wUs5yY2crPGXPj5on1QK6iFVx6NhF2jOsQH-GJoP37N3yXIlHThuLTZHtmtLyNOfpZ42yVmq5S5zc-6IyZDVdBsCGATnUX7TZvURhysLCpRswu5NBRlJw5VxXxn_O6GV2KYYl4vgJPfPsw51OM0KmRWLVxzvtiBhFT9JyhnXvGxDpTo9Zu96fjGDemhis9_Q9_iv2MNU2g6AG_gGY_0cwO49mIMQ=s64",
      "userId": "13728227204889328138"
     },
     "user_tz": 300
    },
    "id": "FDxFnswJMdex",
    "outputId": "2d3b3961-f0fd-4b18-a930-2eb8d8a2f5d1",
    "tags": []
   },
   "outputs": [
    {
     "name": "stdout",
     "output_type": "stream",
     "text": [
      "There are 889 different (unique) PassengerIds in the data\n",
      "There are 889 different (unique) names in the data\n",
      "There are 680 different (unique) ticket numbers in the data\n"
     ]
    }
   ],
   "source": [
    "# Listing 2.7: Unique values in columns\n",
    "print('There are {} different (unique) PassengerIds in the data'\n",
    "    .format(train[\"PassengerId\"].nunique()))\n",
    "print('There are {} different (unique) names in the data'\n",
    "    .format(train[\"Name\"].nunique()))\n",
    "print('There are {} different (unique) ticket numbers in the data'\n",
    "    .format(train[\"Ticket\"].nunique()))"
   ]
  },
  {
   "cell_type": "code",
   "execution_count": 9,
   "metadata": {
    "colab": {
     "base_uri": "https://localhost:8080/"
    },
    "executionInfo": {
     "elapsed": 9,
     "status": "ok",
     "timestamp": 1647611985838,
     "user": {
      "displayName": "GUSTAVO ADOLFO PATIÑO ALVAREZ",
      "photoUrl": "https://lh3.googleusercontent.com/a-/AOh14GieSUQzF1vNVYjcMUZgrtxqAu0TcXwUtMBe44CUwBOW-bk3mEezr-XmVi0ZK8noQUcqQESH8607oqnn7eKdDGzTF--XuISzdvm8X4MkAYW0Ufoi61dZPOCqBwU_yBH21FI9dh3fcBIRjmlSrIvvm6ZZl-5g0YNMZqW4eIxWa0hTNfomlFAcHHaquQ8TYKoT9-csEJYLRQVhktcfek9Vx3o6QNhfcHPOkzHQ1xrGBd1F7kw-FUohyEP7585HRH-JUvAr2Lva8apRMJ5cwaRFOCzWtSvl633xlUtyQuxeO2ZsWacYxNVE10WjyRlzVTyFpEoikaN_248A6gotKCBNCnq1U4MuhdURb8ni9mi1nxrylMooE8zbFvBalDHqGW04tgLZq30cD8-g7dogr8xVsLRJ1hesGtJFka4TktSKxLanKkN-kQpRpV1DZSfKLCMsZ25gXd6qFbZ_9UPM1TIGn2EqurdNpbl1GxDH6zXknTyE9rzacVXTyhzK7Y6inYpX4myYbwX1zgnQSTTuvNl3svFHgIq0jCGutyrO5nj0-u5wUs5yY2crPGXPj5on1QK6iFVx6NhF2jOsQH-GJoP37N3yXIlHThuLTZHtmtLyNOfpZ42yVmq5S5zc-6IyZDVdBsCGATnUX7TZvURhysLCpRswu5NBRlJw5VxXxn_O6GV2KYYl4vgJPfPsw51OM0KmRWLVxzvtiBhFT9JyhnXvGxDpTo9Zu96fjGDemhis9_Q9_iv2MNU2g6AG_gGY_0cwO49mIMQ=s64",
      "userId": "13728227204889328138"
     },
     "user_tz": 300
    },
    "id": "SXF5HgFqMdey",
    "outputId": "f966cf98-69f4-445f-8519-225bedfa76f8",
    "tags": []
   },
   "outputs": [
    {
     "name": "stdout",
     "output_type": "stream",
     "text": [
      "<class 'pandas.core.frame.DataFrame'>\n",
      "Int64Index: 889 entries, 0 to 890\n",
      "Data columns (total 8 columns):\n",
      " #   Column    Non-Null Count  Dtype  \n",
      "---  ------    --------------  -----  \n",
      " 0   Survived  889 non-null    int64  \n",
      " 1   Pclass    889 non-null    int64  \n",
      " 2   Sex       889 non-null    object \n",
      " 3   Age       889 non-null    float64\n",
      " 4   SibSp     889 non-null    int64  \n",
      " 5   Parch     889 non-null    int64  \n",
      " 6   Fare      889 non-null    float64\n",
      " 7   Embarked  889 non-null    object \n",
      "dtypes: float64(2), int64(4), object(2)\n",
      "memory usage: 62.5+ KB\n"
     ]
    }
   ],
   "source": [
    "# Listing 2.8: Remove identifying data\n",
    "train = train.drop(\"PassengerId\", axis=1)\n",
    "train = train.drop(\"Name\", axis=1)\n",
    "train = train.drop(\"Ticket\", axis=1)\n",
    "\n",
    "train.info()"
   ]
  },
  {
   "cell_type": "code",
   "execution_count": 10,
   "metadata": {
    "colab": {
     "base_uri": "https://localhost:8080/",
     "height": 206
    },
    "executionInfo": {
     "elapsed": 787,
     "status": "ok",
     "timestamp": 1647611986620,
     "user": {
      "displayName": "GUSTAVO ADOLFO PATIÑO ALVAREZ",
      "photoUrl": "https://lh3.googleusercontent.com/a-/AOh14GieSUQzF1vNVYjcMUZgrtxqAu0TcXwUtMBe44CUwBOW-bk3mEezr-XmVi0ZK8noQUcqQESH8607oqnn7eKdDGzTF--XuISzdvm8X4MkAYW0Ufoi61dZPOCqBwU_yBH21FI9dh3fcBIRjmlSrIvvm6ZZl-5g0YNMZqW4eIxWa0hTNfomlFAcHHaquQ8TYKoT9-csEJYLRQVhktcfek9Vx3o6QNhfcHPOkzHQ1xrGBd1F7kw-FUohyEP7585HRH-JUvAr2Lva8apRMJ5cwaRFOCzWtSvl633xlUtyQuxeO2ZsWacYxNVE10WjyRlzVTyFpEoikaN_248A6gotKCBNCnq1U4MuhdURb8ni9mi1nxrylMooE8zbFvBalDHqGW04tgLZq30cD8-g7dogr8xVsLRJ1hesGtJFka4TktSKxLanKkN-kQpRpV1DZSfKLCMsZ25gXd6qFbZ_9UPM1TIGn2EqurdNpbl1GxDH6zXknTyE9rzacVXTyhzK7Y6inYpX4myYbwX1zgnQSTTuvNl3svFHgIq0jCGutyrO5nj0-u5wUs5yY2crPGXPj5on1QK6iFVx6NhF2jOsQH-GJoP37N3yXIlHThuLTZHtmtLyNOfpZ42yVmq5S5zc-6IyZDVdBsCGATnUX7TZvURhysLCpRswu5NBRlJw5VxXxn_O6GV2KYYl4vgJPfPsw51OM0KmRWLVxzvtiBhFT9JyhnXvGxDpTo9Zu96fjGDemhis9_Q9_iv2MNU2g6AG_gGY_0cwO49mIMQ=s64",
      "userId": "13728227204889328138"
     },
     "user_tz": 300
    },
    "id": "j6v021BRMdez",
    "outputId": "f2325a03-d760-40c2-cc0b-300b30759ce9",
    "tags": [
     "Raw"
    ]
   },
   "outputs": [
    {
     "name": "stderr",
     "output_type": "stream",
     "text": [
      "<frozen importlib._bootstrap>:219: RuntimeWarning: scipy._lib.messagestream.MessageStream size changed, may indicate binary incompatibility. Expected 56 from C header, got 64 from PyObject\n"
     ]
    },
    {
     "data": {
      "text/html": [
       "<div>\n",
       "<style scoped>\n",
       "    .dataframe tbody tr th:only-of-type {\n",
       "        vertical-align: middle;\n",
       "    }\n",
       "\n",
       "    .dataframe tbody tr th {\n",
       "        vertical-align: top;\n",
       "    }\n",
       "\n",
       "    .dataframe thead th {\n",
       "        text-align: right;\n",
       "    }\n",
       "</style>\n",
       "<table border=\"1\" class=\"dataframe\">\n",
       "  <thead>\n",
       "    <tr style=\"text-align: right;\">\n",
       "      <th></th>\n",
       "      <th>Survived</th>\n",
       "      <th>Pclass</th>\n",
       "      <th>Sex</th>\n",
       "      <th>Age</th>\n",
       "      <th>SibSp</th>\n",
       "      <th>Parch</th>\n",
       "      <th>Fare</th>\n",
       "      <th>Embarked</th>\n",
       "    </tr>\n",
       "  </thead>\n",
       "  <tbody>\n",
       "    <tr>\n",
       "      <th>0</th>\n",
       "      <td>0</td>\n",
       "      <td>3</td>\n",
       "      <td>1</td>\n",
       "      <td>22.0</td>\n",
       "      <td>1</td>\n",
       "      <td>0</td>\n",
       "      <td>7.2500</td>\n",
       "      <td>2</td>\n",
       "    </tr>\n",
       "    <tr>\n",
       "      <th>1</th>\n",
       "      <td>1</td>\n",
       "      <td>1</td>\n",
       "      <td>0</td>\n",
       "      <td>38.0</td>\n",
       "      <td>1</td>\n",
       "      <td>0</td>\n",
       "      <td>71.2833</td>\n",
       "      <td>0</td>\n",
       "    </tr>\n",
       "    <tr>\n",
       "      <th>2</th>\n",
       "      <td>1</td>\n",
       "      <td>3</td>\n",
       "      <td>0</td>\n",
       "      <td>26.0</td>\n",
       "      <td>0</td>\n",
       "      <td>0</td>\n",
       "      <td>7.9250</td>\n",
       "      <td>2</td>\n",
       "    </tr>\n",
       "    <tr>\n",
       "      <th>3</th>\n",
       "      <td>1</td>\n",
       "      <td>1</td>\n",
       "      <td>0</td>\n",
       "      <td>35.0</td>\n",
       "      <td>1</td>\n",
       "      <td>0</td>\n",
       "      <td>53.1000</td>\n",
       "      <td>2</td>\n",
       "    </tr>\n",
       "    <tr>\n",
       "      <th>4</th>\n",
       "      <td>0</td>\n",
       "      <td>3</td>\n",
       "      <td>1</td>\n",
       "      <td>35.0</td>\n",
       "      <td>0</td>\n",
       "      <td>0</td>\n",
       "      <td>8.0500</td>\n",
       "      <td>2</td>\n",
       "    </tr>\n",
       "  </tbody>\n",
       "</table>\n",
       "</div>"
      ],
      "text/plain": [
       "   Survived  Pclass  Sex   Age  SibSp  Parch     Fare  Embarked\n",
       "0         0       3    1  22.0      1      0   7.2500         2\n",
       "1         1       1    0  38.0      1      0  71.2833         0\n",
       "2         1       3    0  26.0      0      0   7.9250         2\n",
       "3         1       1    0  35.0      1      0  53.1000         2\n",
       "4         0       3    1  35.0      0      0   8.0500         2"
      ]
     },
     "execution_count": 10,
     "metadata": {},
     "output_type": "execute_result"
    }
   ],
   "source": [
    "# Listing 2.9: Transforming textual data into numbers\n",
    "from sklearn.preprocessing import LabelEncoder\n",
    "le = LabelEncoder()\n",
    "\n",
    "for col in ['Sex', 'Embarked']:\n",
    "    le.fit(train[col])\n",
    "    train[col] = le.transform(train[col])\n",
    "\n",
    "train.head()"
   ]
  },
  {
   "cell_type": "code",
   "execution_count": 11,
   "metadata": {
    "colab": {
     "base_uri": "https://localhost:8080/"
    },
    "executionInfo": {
     "elapsed": 13,
     "status": "ok",
     "timestamp": 1647611986621,
     "user": {
      "displayName": "GUSTAVO ADOLFO PATIÑO ALVAREZ",
      "photoUrl": "https://lh3.googleusercontent.com/a-/AOh14GieSUQzF1vNVYjcMUZgrtxqAu0TcXwUtMBe44CUwBOW-bk3mEezr-XmVi0ZK8noQUcqQESH8607oqnn7eKdDGzTF--XuISzdvm8X4MkAYW0Ufoi61dZPOCqBwU_yBH21FI9dh3fcBIRjmlSrIvvm6ZZl-5g0YNMZqW4eIxWa0hTNfomlFAcHHaquQ8TYKoT9-csEJYLRQVhktcfek9Vx3o6QNhfcHPOkzHQ1xrGBd1F7kw-FUohyEP7585HRH-JUvAr2Lva8apRMJ5cwaRFOCzWtSvl633xlUtyQuxeO2ZsWacYxNVE10WjyRlzVTyFpEoikaN_248A6gotKCBNCnq1U4MuhdURb8ni9mi1nxrylMooE8zbFvBalDHqGW04tgLZq30cD8-g7dogr8xVsLRJ1hesGtJFka4TktSKxLanKkN-kQpRpV1DZSfKLCMsZ25gXd6qFbZ_9UPM1TIGn2EqurdNpbl1GxDH6zXknTyE9rzacVXTyhzK7Y6inYpX4myYbwX1zgnQSTTuvNl3svFHgIq0jCGutyrO5nj0-u5wUs5yY2crPGXPj5on1QK6iFVx6NhF2jOsQH-GJoP37N3yXIlHThuLTZHtmtLyNOfpZ42yVmq5S5zc-6IyZDVdBsCGATnUX7TZvURhysLCpRswu5NBRlJw5VxXxn_O6GV2KYYl4vgJPfPsw51OM0KmRWLVxzvtiBhFT9JyhnXvGxDpTo9Zu96fjGDemhis9_Q9_iv2MNU2g6AG_gGY_0cwO49mIMQ=s64",
      "userId": "13728227204889328138"
     },
     "user_tz": 300
    },
    "id": "k_S6WHloMde0",
    "outputId": "f8f3a0b6-fd50-4ea2-c6d1-f45ef30b21bc",
    "tags": []
   },
   "outputs": [
    {
     "name": "stdout",
     "output_type": "stream",
     "text": [
      "The maximum age is 80.0\n",
      "The maximum fare is 512.3292\n"
     ]
    }
   ],
   "source": [
    "# Listing 2.10: The maximum values\n",
    "print('The maximum age is {}'.format(train[\"Age\"].max()))\n",
    "print('The maximum fare is {}'.format(train[\"Fare\"].max()))"
   ]
  },
  {
   "cell_type": "code",
   "execution_count": 12,
   "metadata": {
    "colab": {
     "base_uri": "https://localhost:8080/"
    },
    "executionInfo": {
     "elapsed": 12,
     "status": "ok",
     "timestamp": 1647611986622,
     "user": {
      "displayName": "GUSTAVO ADOLFO PATIÑO ALVAREZ",
      "photoUrl": "https://lh3.googleusercontent.com/a-/AOh14GieSUQzF1vNVYjcMUZgrtxqAu0TcXwUtMBe44CUwBOW-bk3mEezr-XmVi0ZK8noQUcqQESH8607oqnn7eKdDGzTF--XuISzdvm8X4MkAYW0Ufoi61dZPOCqBwU_yBH21FI9dh3fcBIRjmlSrIvvm6ZZl-5g0YNMZqW4eIxWa0hTNfomlFAcHHaquQ8TYKoT9-csEJYLRQVhktcfek9Vx3o6QNhfcHPOkzHQ1xrGBd1F7kw-FUohyEP7585HRH-JUvAr2Lva8apRMJ5cwaRFOCzWtSvl633xlUtyQuxeO2ZsWacYxNVE10WjyRlzVTyFpEoikaN_248A6gotKCBNCnq1U4MuhdURb8ni9mi1nxrylMooE8zbFvBalDHqGW04tgLZq30cD8-g7dogr8xVsLRJ1hesGtJFka4TktSKxLanKkN-kQpRpV1DZSfKLCMsZ25gXd6qFbZ_9UPM1TIGn2EqurdNpbl1GxDH6zXknTyE9rzacVXTyhzK7Y6inYpX4myYbwX1zgnQSTTuvNl3svFHgIq0jCGutyrO5nj0-u5wUs5yY2crPGXPj5on1QK6iFVx6NhF2jOsQH-GJoP37N3yXIlHThuLTZHtmtLyNOfpZ42yVmq5S5zc-6IyZDVdBsCGATnUX7TZvURhysLCpRswu5NBRlJw5VxXxn_O6GV2KYYl4vgJPfPsw51OM0KmRWLVxzvtiBhFT9JyhnXvGxDpTo9Zu96fjGDemhis9_Q9_iv2MNU2g6AG_gGY_0cwO49mIMQ=s64",
      "userId": "13728227204889328138"
     },
     "user_tz": 300
    },
    "id": "F8BcY7XGMde2",
    "outputId": "b1f80b92-c57e-43ed-8e9e-9b73e3849658",
    "tags": []
   },
   "outputs": [
    {
     "name": "stdout",
     "output_type": "stream",
     "text": [
      "The minimum value is 0.0 and the maximum value is 1.0\n"
     ]
    }
   ],
   "source": [
    "# Listing 2.11: Normalization of the data.\n",
    "from sklearn.preprocessing import MinMaxScaler\n",
    "\n",
    "scaler = MinMaxScaler()\n",
    "scaler.fit(train)\n",
    "train = scaler.transform(train)\n",
    "\n",
    "print('The minimum value is {} and the maximum value is {}'\n",
    "    .format(train.min(), train.max()))"
   ]
  },
  {
   "cell_type": "code",
   "execution_count": 13,
   "metadata": {
    "colab": {
     "base_uri": "https://localhost:8080/"
    },
    "executionInfo": {
     "elapsed": 333,
     "status": "ok",
     "timestamp": 1647611986947,
     "user": {
      "displayName": "GUSTAVO ADOLFO PATIÑO ALVAREZ",
      "photoUrl": "https://lh3.googleusercontent.com/a-/AOh14GieSUQzF1vNVYjcMUZgrtxqAu0TcXwUtMBe44CUwBOW-bk3mEezr-XmVi0ZK8noQUcqQESH8607oqnn7eKdDGzTF--XuISzdvm8X4MkAYW0Ufoi61dZPOCqBwU_yBH21FI9dh3fcBIRjmlSrIvvm6ZZl-5g0YNMZqW4eIxWa0hTNfomlFAcHHaquQ8TYKoT9-csEJYLRQVhktcfek9Vx3o6QNhfcHPOkzHQ1xrGBd1F7kw-FUohyEP7585HRH-JUvAr2Lva8apRMJ5cwaRFOCzWtSvl633xlUtyQuxeO2ZsWacYxNVE10WjyRlzVTyFpEoikaN_248A6gotKCBNCnq1U4MuhdURb8ni9mi1nxrylMooE8zbFvBalDHqGW04tgLZq30cD8-g7dogr8xVsLRJ1hesGtJFka4TktSKxLanKkN-kQpRpV1DZSfKLCMsZ25gXd6qFbZ_9UPM1TIGn2EqurdNpbl1GxDH6zXknTyE9rzacVXTyhzK7Y6inYpX4myYbwX1zgnQSTTuvNl3svFHgIq0jCGutyrO5nj0-u5wUs5yY2crPGXPj5on1QK6iFVx6NhF2jOsQH-GJoP37N3yXIlHThuLTZHtmtLyNOfpZ42yVmq5S5zc-6IyZDVdBsCGATnUX7TZvURhysLCpRswu5NBRlJw5VxXxn_O6GV2KYYl4vgJPfPsw51OM0KmRWLVxzvtiBhFT9JyhnXvGxDpTo9Zu96fjGDemhis9_Q9_iv2MNU2g6AG_gGY_0cwO49mIMQ=s64",
      "userId": "13728227204889328138"
     },
     "user_tz": 300
    },
    "id": "aYS-Ir2IMde2",
    "outputId": "17cdb81e-2afa-4570-9d77-1b1560adc446",
    "tags": []
   },
   "outputs": [
    {
     "name": "stdout",
     "output_type": "stream",
     "text": [
      "We have 711 training and 178 testing rows\n",
      "There are 7 input columns\n"
     ]
    }
   ],
   "source": [
    "# Listing 2.12: Separating input from labels and training from testing sets\n",
    "from sklearn.model_selection import train_test_split\n",
    "\n",
    "input_data = train[:, 1:8]\n",
    "labels = train[:, 0]\n",
    "\n",
    "train_input, test_input, train_labels, test_labels = train_test_split(\n",
    "    input_data, labels, test_size = 0.2)\n",
    "\n",
    "print('We have {} training and {} testing rows'.format(train_input.shape[0], test_input.shape[0]))\n",
    "print('There are {} input columns'.format(train_input.shape[1]))"
   ]
  },
  {
   "cell_type": "code",
   "execution_count": 14,
   "metadata": {
    "executionInfo": {
     "elapsed": 31,
     "status": "ok",
     "timestamp": 1647611986948,
     "user": {
      "displayName": "GUSTAVO ADOLFO PATIÑO ALVAREZ",
      "photoUrl": "https://lh3.googleusercontent.com/a-/AOh14GieSUQzF1vNVYjcMUZgrtxqAu0TcXwUtMBe44CUwBOW-bk3mEezr-XmVi0ZK8noQUcqQESH8607oqnn7eKdDGzTF--XuISzdvm8X4MkAYW0Ufoi61dZPOCqBwU_yBH21FI9dh3fcBIRjmlSrIvvm6ZZl-5g0YNMZqW4eIxWa0hTNfomlFAcHHaquQ8TYKoT9-csEJYLRQVhktcfek9Vx3o6QNhfcHPOkzHQ1xrGBd1F7kw-FUohyEP7585HRH-JUvAr2Lva8apRMJ5cwaRFOCzWtSvl633xlUtyQuxeO2ZsWacYxNVE10WjyRlzVTyFpEoikaN_248A6gotKCBNCnq1U4MuhdURb8ni9mi1nxrylMooE8zbFvBalDHqGW04tgLZq30cD8-g7dogr8xVsLRJ1hesGtJFka4TktSKxLanKkN-kQpRpV1DZSfKLCMsZ25gXd6qFbZ_9UPM1TIGn2EqurdNpbl1GxDH6zXknTyE9rzacVXTyhzK7Y6inYpX4myYbwX1zgnQSTTuvNl3svFHgIq0jCGutyrO5nj0-u5wUs5yY2crPGXPj5on1QK6iFVx6NhF2jOsQH-GJoP37N3yXIlHThuLTZHtmtLyNOfpZ42yVmq5S5zc-6IyZDVdBsCGATnUX7TZvURhysLCpRswu5NBRlJw5VxXxn_O6GV2KYYl4vgJPfPsw51OM0KmRWLVxzvtiBhFT9JyhnXvGxDpTo9Zu96fjGDemhis9_Q9_iv2MNU2g6AG_gGY_0cwO49mIMQ=s64",
      "userId": "13728227204889328138"
     },
     "user_tz": 300
    },
    "id": "Spny11mbMde4"
   },
   "outputs": [],
   "source": [
    "# Listing 2.13: Save the data to the filesystem\n",
    "import numpy as np\n",
    "\n",
    "with open('../QML/data/train.npy', 'wb') as f:\n",
    "    np.save(f, train_input)\n",
    "    np.save(f, train_labels)\n",
    "\n",
    "with open('../QML/data/test.npy', 'wb') as f:\n",
    "    np.save(f, test_input)\n",
    "    np.save(f, test_labels)\n",
    "#CAPTION Save the data to the filesystem"
   ]
  },
  {
   "cell_type": "markdown",
   "metadata": {
    "id": "CxCC3O9xMde4"
   },
   "source": [
    "## 3. First Classifiers\n",
    "### 3.1 A Random Classifier"
   ]
  },
  {
   "cell_type": "code",
   "execution_count": 15,
   "metadata": {
    "executionInfo": {
     "elapsed": 31,
     "status": "ok",
     "timestamp": 1647611986949,
     "user": {
      "displayName": "GUSTAVO ADOLFO PATIÑO ALVAREZ",
      "photoUrl": "https://lh3.googleusercontent.com/a-/AOh14GieSUQzF1vNVYjcMUZgrtxqAu0TcXwUtMBe44CUwBOW-bk3mEezr-XmVi0ZK8noQUcqQESH8607oqnn7eKdDGzTF--XuISzdvm8X4MkAYW0Ufoi61dZPOCqBwU_yBH21FI9dh3fcBIRjmlSrIvvm6ZZl-5g0YNMZqW4eIxWa0hTNfomlFAcHHaquQ8TYKoT9-csEJYLRQVhktcfek9Vx3o6QNhfcHPOkzHQ1xrGBd1F7kw-FUohyEP7585HRH-JUvAr2Lva8apRMJ5cwaRFOCzWtSvl633xlUtyQuxeO2ZsWacYxNVE10WjyRlzVTyFpEoikaN_248A6gotKCBNCnq1U4MuhdURb8ni9mi1nxrylMooE8zbFvBalDHqGW04tgLZq30cD8-g7dogr8xVsLRJ1hesGtJFka4TktSKxLanKkN-kQpRpV1DZSfKLCMsZ25gXd6qFbZ_9UPM1TIGn2EqurdNpbl1GxDH6zXknTyE9rzacVXTyhzK7Y6inYpX4myYbwX1zgnQSTTuvNl3svFHgIq0jCGutyrO5nj0-u5wUs5yY2crPGXPj5on1QK6iFVx6NhF2jOsQH-GJoP37N3yXIlHThuLTZHtmtLyNOfpZ42yVmq5S5zc-6IyZDVdBsCGATnUX7TZvURhysLCpRswu5NBRlJw5VxXxn_O6GV2KYYl4vgJPfPsw51OM0KmRWLVxzvtiBhFT9JyhnXvGxDpTo9Zu96fjGDemhis9_Q9_iv2MNU2g6AG_gGY_0cwO49mIMQ=s64",
      "userId": "13728227204889328138"
     },
     "user_tz": 300
    },
    "id": "EYKvZP_RMde4"
   },
   "outputs": [],
   "source": [
    "# Listing 2.14: A random classifier\n",
    "import random\n",
    "random.seed(a=None, version=2)\n",
    " \n",
    "def ramd_classify(passenger):\n",
    "    return random.randint(0, 1)"
   ]
  },
  {
   "cell_type": "code",
   "execution_count": 16,
   "metadata": {
    "executionInfo": {
     "elapsed": 30,
     "status": "ok",
     "timestamp": 1647611986949,
     "user": {
      "displayName": "GUSTAVO ADOLFO PATIÑO ALVAREZ",
      "photoUrl": "https://lh3.googleusercontent.com/a-/AOh14GieSUQzF1vNVYjcMUZgrtxqAu0TcXwUtMBe44CUwBOW-bk3mEezr-XmVi0ZK8noQUcqQESH8607oqnn7eKdDGzTF--XuISzdvm8X4MkAYW0Ufoi61dZPOCqBwU_yBH21FI9dh3fcBIRjmlSrIvvm6ZZl-5g0YNMZqW4eIxWa0hTNfomlFAcHHaquQ8TYKoT9-csEJYLRQVhktcfek9Vx3o6QNhfcHPOkzHQ1xrGBd1F7kw-FUohyEP7585HRH-JUvAr2Lva8apRMJ5cwaRFOCzWtSvl633xlUtyQuxeO2ZsWacYxNVE10WjyRlzVTyFpEoikaN_248A6gotKCBNCnq1U4MuhdURb8ni9mi1nxrylMooE8zbFvBalDHqGW04tgLZq30cD8-g7dogr8xVsLRJ1hesGtJFka4TktSKxLanKkN-kQpRpV1DZSfKLCMsZ25gXd6qFbZ_9UPM1TIGn2EqurdNpbl1GxDH6zXknTyE9rzacVXTyhzK7Y6inYpX4myYbwX1zgnQSTTuvNl3svFHgIq0jCGutyrO5nj0-u5wUs5yY2crPGXPj5on1QK6iFVx6NhF2jOsQH-GJoP37N3yXIlHThuLTZHtmtLyNOfpZ42yVmq5S5zc-6IyZDVdBsCGATnUX7TZvURhysLCpRswu5NBRlJw5VxXxn_O6GV2KYYl4vgJPfPsw51OM0KmRWLVxzvtiBhFT9JyhnXvGxDpTo9Zu96fjGDemhis9_Q9_iv2MNU2g6AG_gGY_0cwO49mIMQ=s64",
      "userId": "13728227204889328138"
     },
     "user_tz": 300
    },
    "id": "r2w3-cswMde6"
   },
   "outputs": [],
   "source": [
    "# Listing 2.15: The classification runner\n",
    "def run(f_classify, x):\n",
    "    return list(map(f_classify, x))"
   ]
  },
  {
   "cell_type": "code",
   "execution_count": 17,
   "metadata": {
    "colab": {
     "base_uri": "https://localhost:8080/"
    },
    "executionInfo": {
     "elapsed": 29,
     "status": "ok",
     "timestamp": 1647611986949,
     "user": {
      "displayName": "GUSTAVO ADOLFO PATIÑO ALVAREZ",
      "photoUrl": "https://lh3.googleusercontent.com/a-/AOh14GieSUQzF1vNVYjcMUZgrtxqAu0TcXwUtMBe44CUwBOW-bk3mEezr-XmVi0ZK8noQUcqQESH8607oqnn7eKdDGzTF--XuISzdvm8X4MkAYW0Ufoi61dZPOCqBwU_yBH21FI9dh3fcBIRjmlSrIvvm6ZZl-5g0YNMZqW4eIxWa0hTNfomlFAcHHaquQ8TYKoT9-csEJYLRQVhktcfek9Vx3o6QNhfcHPOkzHQ1xrGBd1F7kw-FUohyEP7585HRH-JUvAr2Lva8apRMJ5cwaRFOCzWtSvl633xlUtyQuxeO2ZsWacYxNVE10WjyRlzVTyFpEoikaN_248A6gotKCBNCnq1U4MuhdURb8ni9mi1nxrylMooE8zbFvBalDHqGW04tgLZq30cD8-g7dogr8xVsLRJ1hesGtJFka4TktSKxLanKkN-kQpRpV1DZSfKLCMsZ25gXd6qFbZ_9UPM1TIGn2EqurdNpbl1GxDH6zXknTyE9rzacVXTyhzK7Y6inYpX4myYbwX1zgnQSTTuvNl3svFHgIq0jCGutyrO5nj0-u5wUs5yY2crPGXPj5on1QK6iFVx6NhF2jOsQH-GJoP37N3yXIlHThuLTZHtmtLyNOfpZ42yVmq5S5zc-6IyZDVdBsCGATnUX7TZvURhysLCpRswu5NBRlJw5VxXxn_O6GV2KYYl4vgJPfPsw51OM0KmRWLVxzvtiBhFT9JyhnXvGxDpTo9Zu96fjGDemhis9_Q9_iv2MNU2g6AG_gGY_0cwO49mIMQ=s64",
      "userId": "13728227204889328138"
     },
     "user_tz": 300
    },
    "id": "i3g5g3VVMde6",
    "outputId": "5c7d71db-9a65-473a-e2d3-3a14af3244df",
    "tags": []
   },
   "outputs": [
    {
     "name": "stdout",
     "output_type": "stream",
     "text": [
      "[0, 1, 0, 0, 1, 0, 1, 1, 1, 0, 0, 1, 1, 1, 1, 1, 0, 1, 1, 1, 1, 0, 1, 1, 0, 1, 1, 0, 0, 0, 0, 1, 1, 0, 0, 0, 1, 1, 0, 1, 1, 1, 1, 0, 0, 0, 0, 1, 1, 0, 1, 0, 1, 1, 1, 1, 1, 0, 1, 0, 0, 0, 0, 0, 1, 1, 0, 0, 0, 1, 0, 1, 1, 0, 1, 0, 0, 0, 0, 0, 0, 0, 0, 0, 0, 0, 1, 0, 0, 1, 0, 1, 0, 1, 1, 0, 1, 1, 1, 1, 1, 0, 1, 0, 1, 1, 0, 0, 0, 1, 0, 0, 1, 1, 1, 1, 1, 0, 0, 0, 0, 1, 1, 1, 0, 1, 0, 0, 1, 1, 1, 0, 1, 1, 1, 1, 0, 0, 0, 1, 1, 0, 0, 0, 0, 0, 1, 0, 0, 0, 1, 0, 0, 1, 0, 1, 0, 1, 1, 0, 0, 0, 0, 1, 0, 0, 0, 1, 1, 0, 1, 0, 1, 0, 1, 1, 1, 0, 1, 0, 0, 1, 0, 1, 0, 0, 1, 0, 1, 0, 0, 1, 1, 0, 1, 1, 1, 1, 1, 1, 1, 1, 0, 0, 0, 0, 1, 1, 1, 0, 0, 1, 0, 0, 1, 0, 1, 1, 0, 0, 0, 0, 1, 1, 1, 1, 0, 0, 0, 1, 0, 0, 1, 0, 1, 0, 0, 1, 0, 1, 0, 0, 1, 0, 1, 0, 0, 1, 0, 0, 0, 1, 1, 1, 1, 1, 0, 1, 1, 1, 0, 1, 1, 1, 0, 1, 1, 1, 1, 0, 0, 0, 0, 0, 1, 1, 0, 1, 0, 0, 1, 0, 1, 1, 1, 0, 1, 0, 0, 0, 0, 0, 0, 0, 1, 0, 0, 1, 0, 0, 0, 1, 0, 0, 0, 1, 0, 1, 0, 0, 0, 1, 0, 1, 1, 1, 1, 0, 1, 1, 1, 1, 0, 0, 1, 1, 0, 1, 0, 0, 0, 0, 1, 0, 1, 0, 0, 0, 0, 1, 1, 0, 0, 0, 0, 0, 1, 0, 1, 0, 1, 1, 1, 0, 0, 1, 0, 0, 1, 0, 1, 1, 0, 1, 0, 0, 1, 1, 1, 0, 0, 0, 0, 1, 1, 0, 0, 0, 1, 0, 0, 0, 0, 0, 0, 1, 1, 1, 0, 0, 1, 0, 0, 1, 0, 1, 0, 0, 1, 1, 1, 1, 1, 0, 1, 0, 1, 0, 0, 1, 1, 0, 0, 0, 1, 1, 1, 0, 0, 0, 1, 1, 0, 1, 1, 0, 0, 1, 1, 0, 1, 0, 1, 0, 1, 0, 0, 0, 0, 1, 0, 0, 0, 0, 0, 0, 0, 0, 0, 1, 1, 1, 1, 0, 0, 1, 0, 1, 1, 1, 0, 0, 1, 1, 1, 1, 0, 0, 0, 1, 1, 0, 0, 1, 1, 0, 0, 0, 1, 1, 0, 1, 1, 1, 0, 0, 0, 1, 1, 0, 0, 1, 1, 0, 1, 0, 0, 1, 0, 0, 0, 1, 0, 0, 0, 1, 1, 1, 1, 1, 1, 0, 0, 0, 0, 0, 1, 0, 1, 0, 1, 1, 0, 1, 0, 1, 0, 0, 0, 0, 0, 1, 0, 0, 1, 0, 0, 0, 1, 1, 1, 1, 1, 0, 0, 0, 1, 1, 1, 1, 1, 0, 0, 1, 0, 0, 1, 0, 0, 1, 1, 1, 0, 1, 1, 0, 1, 0, 1, 1, 0, 0, 1, 0, 0, 1, 1, 0, 0, 0, 0, 1, 0, 1, 0, 0, 0, 1, 0, 1, 1, 1, 1, 0, 0, 0, 0, 0, 1, 0, 0, 1, 1, 1, 1, 1, 0, 1, 0, 1, 1, 1, 0, 1, 0, 0, 1, 1, 1, 1, 0, 0, 1, 0, 1, 0, 0, 0, 0, 1, 1, 0, 1, 1, 0, 1, 1, 0, 1, 1, 0, 0, 0, 1, 1, 0, 1, 0, 0, 1, 1, 0, 1, 1, 1, 0, 0, 1, 0, 0, 0, 1, 1, 0, 0, 0, 1, 0, 1, 1, 1, 0, 0, 0, 1, 0, 1, 1, 0, 1, 0, 1, 1, 0, 1, 0, 0, 0, 0, 1, 0, 0, 0, 0, 1, 0, 1, 1, 1, 0, 0, 0, 0, 1, 0, 0, 1, 1, 0, 1, 0]\n"
     ]
    }
   ],
   "source": [
    "# Listing 2.16: Run the classifier\n",
    "result = run(ramd_classify, train_input)\n",
    "print(result)"
   ]
  },
  {
   "cell_type": "code",
   "execution_count": 18,
   "metadata": {
    "colab": {
     "base_uri": "https://localhost:8080/"
    },
    "executionInfo": {
     "elapsed": 26,
     "status": "ok",
     "timestamp": 1647611986950,
     "user": {
      "displayName": "GUSTAVO ADOLFO PATIÑO ALVAREZ",
      "photoUrl": "https://lh3.googleusercontent.com/a-/AOh14GieSUQzF1vNVYjcMUZgrtxqAu0TcXwUtMBe44CUwBOW-bk3mEezr-XmVi0ZK8noQUcqQESH8607oqnn7eKdDGzTF--XuISzdvm8X4MkAYW0Ufoi61dZPOCqBwU_yBH21FI9dh3fcBIRjmlSrIvvm6ZZl-5g0YNMZqW4eIxWa0hTNfomlFAcHHaquQ8TYKoT9-csEJYLRQVhktcfek9Vx3o6QNhfcHPOkzHQ1xrGBd1F7kw-FUohyEP7585HRH-JUvAr2Lva8apRMJ5cwaRFOCzWtSvl633xlUtyQuxeO2ZsWacYxNVE10WjyRlzVTyFpEoikaN_248A6gotKCBNCnq1U4MuhdURb8ni9mi1nxrylMooE8zbFvBalDHqGW04tgLZq30cD8-g7dogr8xVsLRJ1hesGtJFka4TktSKxLanKkN-kQpRpV1DZSfKLCMsZ25gXd6qFbZ_9UPM1TIGn2EqurdNpbl1GxDH6zXknTyE9rzacVXTyhzK7Y6inYpX4myYbwX1zgnQSTTuvNl3svFHgIq0jCGutyrO5nj0-u5wUs5yY2crPGXPj5on1QK6iFVx6NhF2jOsQH-GJoP37N3yXIlHThuLTZHtmtLyNOfpZ42yVmq5S5zc-6IyZDVdBsCGATnUX7TZvURhysLCpRswu5NBRlJw5VxXxn_O6GV2KYYl4vgJPfPsw51OM0KmRWLVxzvtiBhFT9JyhnXvGxDpTo9Zu96fjGDemhis9_Q9_iv2MNU2g6AG_gGY_0cwO49mIMQ=s64",
      "userId": "13728227204889328138"
     },
     "user_tz": 300
    },
    "id": "GvKlA9TEMde7",
    "outputId": "6d852ded-5fa0-4e03-91b1-62e46cf372f1",
    "tags": []
   },
   "outputs": [
    {
     "name": "stdout",
     "output_type": "stream",
     "text": [
      "367 correct predictions out of 711. Accuracy 52 %\n"
     ]
    }
   ],
   "source": [
    "# Listing 2.17: Evaluate the classifier\n",
    "def evaluate(predictions, actual):\n",
    "    correct = list(filter(\n",
    "        lambda item: item[0] == item[1],\n",
    "        list(zip(predictions,actual))\n",
    "    ))\n",
    "    return '{} correct predictions out of {}. Accuracy {:.0f} %' \\\n",
    "        .format(len(correct), len(actual), 100*len(correct)/len(actual))\n",
    "\n",
    "print(evaluate(run(ramd_classify, train_input), train_labels))"
   ]
  },
  {
   "cell_type": "markdown",
   "metadata": {
    "id": "B0iJ_LCfRGyi"
   },
   "source": [
    "### 3.2 Predicting all dead"
   ]
  },
  {
   "cell_type": "code",
   "execution_count": 19,
   "metadata": {
    "colab": {
     "base_uri": "https://localhost:8080/"
    },
    "executionInfo": {
     "elapsed": 24,
     "status": "ok",
     "timestamp": 1647611986951,
     "user": {
      "displayName": "GUSTAVO ADOLFO PATIÑO ALVAREZ",
      "photoUrl": "https://lh3.googleusercontent.com/a-/AOh14GieSUQzF1vNVYjcMUZgrtxqAu0TcXwUtMBe44CUwBOW-bk3mEezr-XmVi0ZK8noQUcqQESH8607oqnn7eKdDGzTF--XuISzdvm8X4MkAYW0Ufoi61dZPOCqBwU_yBH21FI9dh3fcBIRjmlSrIvvm6ZZl-5g0YNMZqW4eIxWa0hTNfomlFAcHHaquQ8TYKoT9-csEJYLRQVhktcfek9Vx3o6QNhfcHPOkzHQ1xrGBd1F7kw-FUohyEP7585HRH-JUvAr2Lva8apRMJ5cwaRFOCzWtSvl633xlUtyQuxeO2ZsWacYxNVE10WjyRlzVTyFpEoikaN_248A6gotKCBNCnq1U4MuhdURb8ni9mi1nxrylMooE8zbFvBalDHqGW04tgLZq30cD8-g7dogr8xVsLRJ1hesGtJFka4TktSKxLanKkN-kQpRpV1DZSfKLCMsZ25gXd6qFbZ_9UPM1TIGn2EqurdNpbl1GxDH6zXknTyE9rzacVXTyhzK7Y6inYpX4myYbwX1zgnQSTTuvNl3svFHgIq0jCGutyrO5nj0-u5wUs5yY2crPGXPj5on1QK6iFVx6NhF2jOsQH-GJoP37N3yXIlHThuLTZHtmtLyNOfpZ42yVmq5S5zc-6IyZDVdBsCGATnUX7TZvURhysLCpRswu5NBRlJw5VxXxn_O6GV2KYYl4vgJPfPsw51OM0KmRWLVxzvtiBhFT9JyhnXvGxDpTo9Zu96fjGDemhis9_Q9_iv2MNU2g6AG_gGY_0cwO49mIMQ=s64",
      "userId": "13728227204889328138"
     },
     "user_tz": 300
    },
    "id": "sZTwu31-Mde7",
    "outputId": "8add0aa7-4c9d-4b99-8214-17784d61ff5d",
    "tags": []
   },
   "outputs": [
    {
     "name": "stdout",
     "output_type": "stream",
     "text": [
      "432 correct predictions out of 711. Accuracy 61 %\n"
     ]
    }
   ],
   "source": [
    "# Listing 2.18: Always predict a passenger died\n",
    "def predict_death(item):\n",
    "    return 0\n",
    "\n",
    "print(evaluate(run(predict_death, train_input), train_labels))"
   ]
  },
  {
   "cell_type": "markdown",
   "metadata": {
    "id": "X7eVq8CXMde8"
   },
   "source": [
    "## 4. Classifier Evaluation and Measures"
   ]
  },
  {
   "cell_type": "code",
   "execution_count": 20,
   "metadata": {
    "colab": {
     "base_uri": "https://localhost:8080/"
    },
    "executionInfo": {
     "elapsed": 21,
     "status": "ok",
     "timestamp": 1647611986952,
     "user": {
      "displayName": "GUSTAVO ADOLFO PATIÑO ALVAREZ",
      "photoUrl": "https://lh3.googleusercontent.com/a-/AOh14GieSUQzF1vNVYjcMUZgrtxqAu0TcXwUtMBe44CUwBOW-bk3mEezr-XmVi0ZK8noQUcqQESH8607oqnn7eKdDGzTF--XuISzdvm8X4MkAYW0Ufoi61dZPOCqBwU_yBH21FI9dh3fcBIRjmlSrIvvm6ZZl-5g0YNMZqW4eIxWa0hTNfomlFAcHHaquQ8TYKoT9-csEJYLRQVhktcfek9Vx3o6QNhfcHPOkzHQ1xrGBd1F7kw-FUohyEP7585HRH-JUvAr2Lva8apRMJ5cwaRFOCzWtSvl633xlUtyQuxeO2ZsWacYxNVE10WjyRlzVTyFpEoikaN_248A6gotKCBNCnq1U4MuhdURb8ni9mi1nxrylMooE8zbFvBalDHqGW04tgLZq30cD8-g7dogr8xVsLRJ1hesGtJFka4TktSKxLanKkN-kQpRpV1DZSfKLCMsZ25gXd6qFbZ_9UPM1TIGn2EqurdNpbl1GxDH6zXknTyE9rzacVXTyhzK7Y6inYpX4myYbwX1zgnQSTTuvNl3svFHgIq0jCGutyrO5nj0-u5wUs5yY2crPGXPj5on1QK6iFVx6NhF2jOsQH-GJoP37N3yXIlHThuLTZHtmtLyNOfpZ42yVmq5S5zc-6IyZDVdBsCGATnUX7TZvURhysLCpRswu5NBRlJw5VxXxn_O6GV2KYYl4vgJPfPsw51OM0KmRWLVxzvtiBhFT9JyhnXvGxDpTo9Zu96fjGDemhis9_Q9_iv2MNU2g6AG_gGY_0cwO49mIMQ=s64",
      "userId": "13728227204889328138"
     },
     "user_tz": 300
    },
    "id": "mu4qzaF7Mde8",
    "outputId": "fadef901-f750-4471-c589-31b1cf105805"
   },
   "outputs": [
    {
     "data": {
      "text/plain": [
       "array([[432,   0],\n",
       "       [279,   0]])"
      ]
     },
     "execution_count": 20,
     "metadata": {},
     "output_type": "execute_result"
    }
   ],
   "source": [
    "# Listing 2.19: Confustion matrix of the predict death classifier\n",
    "from sklearn.metrics import confusion_matrix\n",
    "\n",
    "predictions = run(predict_death, train_input)\n",
    "confusion_matrix(train_labels, predictions)"
   ]
  },
  {
   "cell_type": "code",
   "execution_count": 21,
   "metadata": {
    "colab": {
     "base_uri": "https://localhost:8080/"
    },
    "executionInfo": {
     "elapsed": 18,
     "status": "ok",
     "timestamp": 1647611986953,
     "user": {
      "displayName": "GUSTAVO ADOLFO PATIÑO ALVAREZ",
      "photoUrl": "https://lh3.googleusercontent.com/a-/AOh14GieSUQzF1vNVYjcMUZgrtxqAu0TcXwUtMBe44CUwBOW-bk3mEezr-XmVi0ZK8noQUcqQESH8607oqnn7eKdDGzTF--XuISzdvm8X4MkAYW0Ufoi61dZPOCqBwU_yBH21FI9dh3fcBIRjmlSrIvvm6ZZl-5g0YNMZqW4eIxWa0hTNfomlFAcHHaquQ8TYKoT9-csEJYLRQVhktcfek9Vx3o6QNhfcHPOkzHQ1xrGBd1F7kw-FUohyEP7585HRH-JUvAr2Lva8apRMJ5cwaRFOCzWtSvl633xlUtyQuxeO2ZsWacYxNVE10WjyRlzVTyFpEoikaN_248A6gotKCBNCnq1U4MuhdURb8ni9mi1nxrylMooE8zbFvBalDHqGW04tgLZq30cD8-g7dogr8xVsLRJ1hesGtJFka4TktSKxLanKkN-kQpRpV1DZSfKLCMsZ25gXd6qFbZ_9UPM1TIGn2EqurdNpbl1GxDH6zXknTyE9rzacVXTyhzK7Y6inYpX4myYbwX1zgnQSTTuvNl3svFHgIq0jCGutyrO5nj0-u5wUs5yY2crPGXPj5on1QK6iFVx6NhF2jOsQH-GJoP37N3yXIlHThuLTZHtmtLyNOfpZ42yVmq5S5zc-6IyZDVdBsCGATnUX7TZvURhysLCpRswu5NBRlJw5VxXxn_O6GV2KYYl4vgJPfPsw51OM0KmRWLVxzvtiBhFT9JyhnXvGxDpTo9Zu96fjGDemhis9_Q9_iv2MNU2g6AG_gGY_0cwO49mIMQ=s64",
      "userId": "13728227204889328138"
     },
     "user_tz": 300
    },
    "id": "7lvfsV4EMde9",
    "outputId": "7f9dc61d-4e46-4441-8a18-892022314e54",
    "tags": []
   },
   "outputs": [
    {
     "name": "stdout",
     "output_type": "stream",
     "text": [
      "The precision score of the predict_death classifier is 0.0\n"
     ]
    },
    {
     "name": "stderr",
     "output_type": "stream",
     "text": [
      "/opt/conda/lib/python3.8/site-packages/sklearn/metrics/_classification.py:1318: UndefinedMetricWarning: Precision is ill-defined and being set to 0.0 due to no predicted samples. Use `zero_division` parameter to control this behavior.\n",
      "  _warn_prf(average, modifier, msg_start, len(result))\n"
     ]
    }
   ],
   "source": [
    "# Listing 2.20: The precision score\n",
    "from sklearn.metrics import precision_score\n",
    "print('The precision score of the predict_death classifier is {}'\n",
    "    .format(precision_score(train_labels, predictions)))"
   ]
  },
  {
   "cell_type": "code",
   "execution_count": 22,
   "metadata": {
    "colab": {
     "base_uri": "https://localhost:8080/"
    },
    "executionInfo": {
     "elapsed": 256,
     "status": "ok",
     "timestamp": 1647611987196,
     "user": {
      "displayName": "GUSTAVO ADOLFO PATIÑO ALVAREZ",
      "photoUrl": "https://lh3.googleusercontent.com/a-/AOh14GieSUQzF1vNVYjcMUZgrtxqAu0TcXwUtMBe44CUwBOW-bk3mEezr-XmVi0ZK8noQUcqQESH8607oqnn7eKdDGzTF--XuISzdvm8X4MkAYW0Ufoi61dZPOCqBwU_yBH21FI9dh3fcBIRjmlSrIvvm6ZZl-5g0YNMZqW4eIxWa0hTNfomlFAcHHaquQ8TYKoT9-csEJYLRQVhktcfek9Vx3o6QNhfcHPOkzHQ1xrGBd1F7kw-FUohyEP7585HRH-JUvAr2Lva8apRMJ5cwaRFOCzWtSvl633xlUtyQuxeO2ZsWacYxNVE10WjyRlzVTyFpEoikaN_248A6gotKCBNCnq1U4MuhdURb8ni9mi1nxrylMooE8zbFvBalDHqGW04tgLZq30cD8-g7dogr8xVsLRJ1hesGtJFka4TktSKxLanKkN-kQpRpV1DZSfKLCMsZ25gXd6qFbZ_9UPM1TIGn2EqurdNpbl1GxDH6zXknTyE9rzacVXTyhzK7Y6inYpX4myYbwX1zgnQSTTuvNl3svFHgIq0jCGutyrO5nj0-u5wUs5yY2crPGXPj5on1QK6iFVx6NhF2jOsQH-GJoP37N3yXIlHThuLTZHtmtLyNOfpZ42yVmq5S5zc-6IyZDVdBsCGATnUX7TZvURhysLCpRswu5NBRlJw5VxXxn_O6GV2KYYl4vgJPfPsw51OM0KmRWLVxzvtiBhFT9JyhnXvGxDpTo9Zu96fjGDemhis9_Q9_iv2MNU2g6AG_gGY_0cwO49mIMQ=s64",
      "userId": "13728227204889328138"
     },
     "user_tz": 300
    },
    "id": "zJe4YzTRMde9",
    "outputId": "0ae11885-af7e-4381-fb86-bba65b774146",
    "tags": []
   },
   "outputs": [
    {
     "name": "stdout",
     "output_type": "stream",
     "text": [
      "The recall score of the predict_death classifier is 0.0\n"
     ]
    }
   ],
   "source": [
    "# Listing 2.21: The recall score\n",
    "from sklearn.metrics import recall_score\n",
    "print('The recall score of the predict_death classifier is {}'\n",
    "    .format(recall_score(train_labels, predictions)))"
   ]
  },
  {
   "cell_type": "code",
   "execution_count": 23,
   "metadata": {
    "colab": {
     "base_uri": "https://localhost:8080/"
    },
    "executionInfo": {
     "elapsed": 13,
     "status": "ok",
     "timestamp": 1647611987197,
     "user": {
      "displayName": "GUSTAVO ADOLFO PATIÑO ALVAREZ",
      "photoUrl": "https://lh3.googleusercontent.com/a-/AOh14GieSUQzF1vNVYjcMUZgrtxqAu0TcXwUtMBe44CUwBOW-bk3mEezr-XmVi0ZK8noQUcqQESH8607oqnn7eKdDGzTF--XuISzdvm8X4MkAYW0Ufoi61dZPOCqBwU_yBH21FI9dh3fcBIRjmlSrIvvm6ZZl-5g0YNMZqW4eIxWa0hTNfomlFAcHHaquQ8TYKoT9-csEJYLRQVhktcfek9Vx3o6QNhfcHPOkzHQ1xrGBd1F7kw-FUohyEP7585HRH-JUvAr2Lva8apRMJ5cwaRFOCzWtSvl633xlUtyQuxeO2ZsWacYxNVE10WjyRlzVTyFpEoikaN_248A6gotKCBNCnq1U4MuhdURb8ni9mi1nxrylMooE8zbFvBalDHqGW04tgLZq30cD8-g7dogr8xVsLRJ1hesGtJFka4TktSKxLanKkN-kQpRpV1DZSfKLCMsZ25gXd6qFbZ_9UPM1TIGn2EqurdNpbl1GxDH6zXknTyE9rzacVXTyhzK7Y6inYpX4myYbwX1zgnQSTTuvNl3svFHgIq0jCGutyrO5nj0-u5wUs5yY2crPGXPj5on1QK6iFVx6NhF2jOsQH-GJoP37N3yXIlHThuLTZHtmtLyNOfpZ42yVmq5S5zc-6IyZDVdBsCGATnUX7TZvURhysLCpRswu5NBRlJw5VxXxn_O6GV2KYYl4vgJPfPsw51OM0KmRWLVxzvtiBhFT9JyhnXvGxDpTo9Zu96fjGDemhis9_Q9_iv2MNU2g6AG_gGY_0cwO49mIMQ=s64",
      "userId": "13728227204889328138"
     },
     "user_tz": 300
    },
    "id": "4Ny725LWMde-",
    "outputId": "c3933cf8-afb4-41c4-d026-2fbe0bc7ea6e",
    "tags": []
   },
   "outputs": [
    {
     "name": "stdout",
     "output_type": "stream",
     "text": [
      "The specificity score of the predict_death classifier is 1.00\n",
      "The npv score of the predict_death classifier is 0.61\n"
     ]
    }
   ],
   "source": [
    "# Listing 2.22: The specificity and the npv\n",
    "def specificity(matrix):\n",
    "    return matrix[0][0]/(matrix[0][0]+matrix[0][1]) if (matrix[0][0]+matrix[0][1] > 0) else 0\n",
    "\n",
    "def npv(matrix):\n",
    "    return matrix[0][0]/(matrix[0][0]+matrix[1][0]) if (matrix[0][0]+matrix[1][0] > 0) else 0\n",
    "\n",
    "cm = confusion_matrix(train_labels, predictions)\n",
    "\n",
    "print('The specificity score of the predict_death classifier is {:.2f}'.format(specificity(cm)))\n",
    "print('The npv score of the predict_death classifier is {:.2f}'.format(npv(cm)))"
   ]
  },
  {
   "cell_type": "code",
   "execution_count": 24,
   "metadata": {
    "colab": {
     "base_uri": "https://localhost:8080/"
    },
    "executionInfo": {
     "elapsed": 13,
     "status": "ok",
     "timestamp": 1647611987198,
     "user": {
      "displayName": "GUSTAVO ADOLFO PATIÑO ALVAREZ",
      "photoUrl": "https://lh3.googleusercontent.com/a-/AOh14GieSUQzF1vNVYjcMUZgrtxqAu0TcXwUtMBe44CUwBOW-bk3mEezr-XmVi0ZK8noQUcqQESH8607oqnn7eKdDGzTF--XuISzdvm8X4MkAYW0Ufoi61dZPOCqBwU_yBH21FI9dh3fcBIRjmlSrIvvm6ZZl-5g0YNMZqW4eIxWa0hTNfomlFAcHHaquQ8TYKoT9-csEJYLRQVhktcfek9Vx3o6QNhfcHPOkzHQ1xrGBd1F7kw-FUohyEP7585HRH-JUvAr2Lva8apRMJ5cwaRFOCzWtSvl633xlUtyQuxeO2ZsWacYxNVE10WjyRlzVTyFpEoikaN_248A6gotKCBNCnq1U4MuhdURb8ni9mi1nxrylMooE8zbFvBalDHqGW04tgLZq30cD8-g7dogr8xVsLRJ1hesGtJFka4TktSKxLanKkN-kQpRpV1DZSfKLCMsZ25gXd6qFbZ_9UPM1TIGn2EqurdNpbl1GxDH6zXknTyE9rzacVXTyhzK7Y6inYpX4myYbwX1zgnQSTTuvNl3svFHgIq0jCGutyrO5nj0-u5wUs5yY2crPGXPj5on1QK6iFVx6NhF2jOsQH-GJoP37N3yXIlHThuLTZHtmtLyNOfpZ42yVmq5S5zc-6IyZDVdBsCGATnUX7TZvURhysLCpRswu5NBRlJw5VxXxn_O6GV2KYYl4vgJPfPsw51OM0KmRWLVxzvtiBhFT9JyhnXvGxDpTo9Zu96fjGDemhis9_Q9_iv2MNU2g6AG_gGY_0cwO49mIMQ=s64",
      "userId": "13728227204889328138"
     },
     "user_tz": 300
    },
    "id": "R1yKlHY9Mde-",
    "outputId": "51cf124f-2f80-4fd0-da97-a7196f5cab67",
    "tags": []
   },
   "outputs": [
    {
     "name": "stdout",
     "output_type": "stream",
     "text": [
      "The Confusion Matrix for the random classification is:\n",
      "[[212 220]\n",
      " [153 126]]\n",
      "The precision score of the random classifier is 0.36\n",
      "The recall score of the random classifier is 0.45\n",
      "The specificity score of the random classifier is 0.49\n",
      "The npv score of the random classifier is 0.58\n"
     ]
    }
   ],
   "source": [
    "# Listing 2.23: The scores of the random classifier\n",
    "random_predictions = run(ramd_classify, train_input)\n",
    "random_cm = confusion_matrix(train_labels, random_predictions)\n",
    "print('The Confusion Matrix for the random classification is:')\n",
    "print(random_cm)\n",
    "\n",
    "print('The precision score of the random classifier is {:.2f}'\n",
    "    .format(precision_score(train_labels, random_predictions)))\n",
    "print('The recall score of the random classifier is {:.2f}'\n",
    "    .format(recall_score(train_labels, random_predictions)))\n",
    "print('The specificity score of the random classifier is {:.2f}'\n",
    "    .format(specificity(random_cm)))\n",
    "print('The npv score of the random classifier is {:.2f}'\n",
    "    .format(npv(random_cm)))"
   ]
  },
  {
   "cell_type": "markdown",
   "metadata": {
    "id": "z6sWIfK9Mde_"
   },
   "source": [
    "## 5. Giving the Classification Report"
   ]
  },
  {
   "cell_type": "code",
   "execution_count": 25,
   "metadata": {
    "executionInfo": {
     "elapsed": 8,
     "status": "ok",
     "timestamp": 1647611987198,
     "user": {
      "displayName": "GUSTAVO ADOLFO PATIÑO ALVAREZ",
      "photoUrl": "https://lh3.googleusercontent.com/a-/AOh14GieSUQzF1vNVYjcMUZgrtxqAu0TcXwUtMBe44CUwBOW-bk3mEezr-XmVi0ZK8noQUcqQESH8607oqnn7eKdDGzTF--XuISzdvm8X4MkAYW0Ufoi61dZPOCqBwU_yBH21FI9dh3fcBIRjmlSrIvvm6ZZl-5g0YNMZqW4eIxWa0hTNfomlFAcHHaquQ8TYKoT9-csEJYLRQVhktcfek9Vx3o6QNhfcHPOkzHQ1xrGBd1F7kw-FUohyEP7585HRH-JUvAr2Lva8apRMJ5cwaRFOCzWtSvl633xlUtyQuxeO2ZsWacYxNVE10WjyRlzVTyFpEoikaN_248A6gotKCBNCnq1U4MuhdURb8ni9mi1nxrylMooE8zbFvBalDHqGW04tgLZq30cD8-g7dogr8xVsLRJ1hesGtJFka4TktSKxLanKkN-kQpRpV1DZSfKLCMsZ25gXd6qFbZ_9UPM1TIGn2EqurdNpbl1GxDH6zXknTyE9rzacVXTyhzK7Y6inYpX4myYbwX1zgnQSTTuvNl3svFHgIq0jCGutyrO5nj0-u5wUs5yY2crPGXPj5on1QK6iFVx6NhF2jOsQH-GJoP37N3yXIlHThuLTZHtmtLyNOfpZ42yVmq5S5zc-6IyZDVdBsCGATnUX7TZvURhysLCpRswu5NBRlJw5VxXxn_O6GV2KYYl4vgJPfPsw51OM0KmRWLVxzvtiBhFT9JyhnXvGxDpTo9Zu96fjGDemhis9_Q9_iv2MNU2g6AG_gGY_0cwO49mIMQ=s64",
      "userId": "13728227204889328138"
     },
     "user_tz": 300
    },
    "id": "ftKzmvK3MdfD"
   },
   "outputs": [],
   "source": [
    "# Listing 2.31: A reusable function to unmask the classifier\n",
    "def classifier_report(name, run, classify, input, labels):\n",
    "    cr_predictions = run(classify, input)\n",
    "    cr_cm = confusion_matrix(labels, cr_predictions)\n",
    "\n",
    "    cr_precision = precision_score(labels, cr_predictions)\n",
    "    cr_recall = recall_score(labels, cr_predictions)\n",
    "    cr_specificity = specificity(cr_cm)\n",
    "    cr_npv = npv(cr_cm)\n",
    "    cr_level = 0.25*(cr_precision + cr_recall + cr_specificity + cr_npv)\n",
    "\n",
    "    print('The precision score of the {} classifier is {:.2f}'\n",
    "        .format(name, cr_precision))\n",
    "    print('The recall score of the {} classifier is {:.2f}'\n",
    "        .format(name, cr_recall))\n",
    "    print('The specificity score of the {} classifier is {:.2f}'\n",
    "        .format(name, cr_specificity))\n",
    "    print('The npv score of the {} classifier is {:.2f}'\n",
    "        .format(name, cr_npv))\n",
    "    print('The information level is: {:.2f}'\n",
    "        .format(cr_level))"
   ]
  },
  {
   "cell_type": "code",
   "execution_count": 31,
   "metadata": {
    "colab": {
     "base_uri": "https://localhost:8080/"
    },
    "executionInfo": {
     "elapsed": 283,
     "status": "ok",
     "timestamp": 1647611987473,
     "user": {
      "displayName": "GUSTAVO ADOLFO PATIÑO ALVAREZ",
      "photoUrl": "https://lh3.googleusercontent.com/a-/AOh14GieSUQzF1vNVYjcMUZgrtxqAu0TcXwUtMBe44CUwBOW-bk3mEezr-XmVi0ZK8noQUcqQESH8607oqnn7eKdDGzTF--XuISzdvm8X4MkAYW0Ufoi61dZPOCqBwU_yBH21FI9dh3fcBIRjmlSrIvvm6ZZl-5g0YNMZqW4eIxWa0hTNfomlFAcHHaquQ8TYKoT9-csEJYLRQVhktcfek9Vx3o6QNhfcHPOkzHQ1xrGBd1F7kw-FUohyEP7585HRH-JUvAr2Lva8apRMJ5cwaRFOCzWtSvl633xlUtyQuxeO2ZsWacYxNVE10WjyRlzVTyFpEoikaN_248A6gotKCBNCnq1U4MuhdURb8ni9mi1nxrylMooE8zbFvBalDHqGW04tgLZq30cD8-g7dogr8xVsLRJ1hesGtJFka4TktSKxLanKkN-kQpRpV1DZSfKLCMsZ25gXd6qFbZ_9UPM1TIGn2EqurdNpbl1GxDH6zXknTyE9rzacVXTyhzK7Y6inYpX4myYbwX1zgnQSTTuvNl3svFHgIq0jCGutyrO5nj0-u5wUs5yY2crPGXPj5on1QK6iFVx6NhF2jOsQH-GJoP37N3yXIlHThuLTZHtmtLyNOfpZ42yVmq5S5zc-6IyZDVdBsCGATnUX7TZvURhysLCpRswu5NBRlJw5VxXxn_O6GV2KYYl4vgJPfPsw51OM0KmRWLVxzvtiBhFT9JyhnXvGxDpTo9Zu96fjGDemhis9_Q9_iv2MNU2g6AG_gGY_0cwO49mIMQ=s64",
      "userId": "13728227204889328138"
     },
     "user_tz": 300
    },
    "id": "fGAmGOiJMdfE",
    "outputId": "a2ca79f8-77c7-4391-af5e-8b80819ce172",
    "tags": []
   },
   "outputs": [
    {
     "name": "stdout",
     "output_type": "stream",
     "text": [
      "The precision score of the Random Classifier classifier is 0.42\n",
      "The recall score of the Random Classifier classifier is 0.52\n",
      "The specificity score of the Random Classifier classifier is 0.54\n",
      "The npv score of the Random Classifier classifier is 0.63\n",
      "The information level is: 0.53\n"
     ]
    }
   ],
   "source": [
    "# Listing 2.32: The report of the random classifier\n",
    "classifier_report(\n",
    "    \"Random Classifier\", \n",
    "    run,\n",
    "    ramd_classify,\n",
    "    train_input,\n",
    "    train_labels)"
   ]
  },
  {
   "cell_type": "markdown",
   "metadata": {},
   "source": [
    "# Quantum Classifier: Parameterized Quantum Circuit (PQC)"
   ]
  },
  {
   "cell_type": "code",
   "execution_count": 27,
   "metadata": {
    "executionInfo": {
     "elapsed": 10,
     "status": "ok",
     "timestamp": 1647611987474,
     "user": {
      "displayName": "GUSTAVO ADOLFO PATIÑO ALVAREZ",
      "photoUrl": "https://lh3.googleusercontent.com/a-/AOh14GieSUQzF1vNVYjcMUZgrtxqAu0TcXwUtMBe44CUwBOW-bk3mEezr-XmVi0ZK8noQUcqQESH8607oqnn7eKdDGzTF--XuISzdvm8X4MkAYW0Ufoi61dZPOCqBwU_yBH21FI9dh3fcBIRjmlSrIvvm6ZZl-5g0YNMZqW4eIxWa0hTNfomlFAcHHaquQ8TYKoT9-csEJYLRQVhktcfek9Vx3o6QNhfcHPOkzHQ1xrGBd1F7kw-FUohyEP7585HRH-JUvAr2Lva8apRMJ5cwaRFOCzWtSvl633xlUtyQuxeO2ZsWacYxNVE10WjyRlzVTyFpEoikaN_248A6gotKCBNCnq1U4MuhdURb8ni9mi1nxrylMooE8zbFvBalDHqGW04tgLZq30cD8-g7dogr8xVsLRJ1hesGtJFka4TktSKxLanKkN-kQpRpV1DZSfKLCMsZ25gXd6qFbZ_9UPM1TIGn2EqurdNpbl1GxDH6zXknTyE9rzacVXTyhzK7Y6inYpX4myYbwX1zgnQSTTuvNl3svFHgIq0jCGutyrO5nj0-u5wUs5yY2crPGXPj5on1QK6iFVx6NhF2jOsQH-GJoP37N3yXIlHThuLTZHtmtLyNOfpZ42yVmq5S5zc-6IyZDVdBsCGATnUX7TZvURhysLCpRswu5NBRlJw5VxXxn_O6GV2KYYl4vgJPfPsw51OM0KmRWLVxzvtiBhFT9JyhnXvGxDpTo9Zu96fjGDemhis9_Q9_iv2MNU2g6AG_gGY_0cwO49mIMQ=s64",
      "userId": "13728227204889328138"
     },
     "user_tz": 300
    },
    "id": "aTrwAZtZT7yY"
   },
   "outputs": [],
   "source": [
    "# Listing 3.1 Verify Qiskit version\n",
    "import qiskit\n",
    "from qiskit import QuantumCircuit, execute, Aer\n",
    "from qiskit.visualization import plot_histogram\n",
    "import matplotlib.pyplot as plt\n",
    "from math import sqrt\n",
    "\n",
    "\n",
    "# Tell Qiskit how to simulate our circuit\n",
    "backend = Aer.get_backend('statevector_simulator') \n"
   ]
  },
  {
   "cell_type": "code",
   "execution_count": 28,
   "metadata": {},
   "outputs": [],
   "source": [
    "# Listing 3.15: The parameterized quantum circuit classifier\n",
    "from qiskit import execute, Aer, QuantumCircuit\n",
    "from math import sqrt\n",
    "from sklearn.metrics import recall_score, precision_score, confusion_matrix\n",
    "\n",
    "def pqc_classify(backend, passenger_state):\n",
    "    \"\"\"backend -- a qiskit backend to run the quantum circuit at\n",
    "    passenger_state -- a valid quantum state vector\"\"\"\n",
    "    \n",
    "    # Create a quantum circuit with one qubit\n",
    "    qc = QuantumCircuit(1) \n",
    "\n",
    "    # Define state |Psi> and initialize the circuit\n",
    "    qc.initialize(passenger_state, 0)\n",
    "    \n",
    "    # Measure the qubit\n",
    "    qc.measure_all()\n",
    "\n",
    "    # run the quantum circuit\n",
    "    result=execute(qc,backend).result()\n",
    "\n",
    "    # get the counts, these are either {'0': 1} or {'1': 1}\n",
    "    counts=result.get_counts(qc)\n",
    "    \n",
    "    # get the bit 0 or 1\n",
    "    return int(list(map(lambda item: item[0], counts.items()))[0])"
   ]
  },
  {
   "cell_type": "code",
   "execution_count": 29,
   "metadata": {},
   "outputs": [],
   "source": [
    "# Listing 3.16: Load the data\n",
    "import numpy as np\n",
    "\n",
    "with open('../QML/data/train.npy', 'rb') as f:\n",
    "    train_input = np.load(f)\n",
    "    train_labels = np.load(f)\n",
    "\n",
    "with open('../QML/data/test.npy', 'rb') as f:\n",
    "    test_input = np.load(f)\n",
    "    test_labels = np.load(f)"
   ]
  },
  {
   "cell_type": "code",
   "execution_count": 30,
   "metadata": {},
   "outputs": [
    {
     "name": "stdout",
     "output_type": "stream",
     "text": [
      "The precision score of the Random PQC classifier is 0.40\n",
      "The recall score of the Random PQC classifier is 0.55\n",
      "The specificity score of the Random PQC classifier is 0.48\n",
      "The npv score of the Random PQC classifier is 0.62\n",
      "The information level is: 0.51\n"
     ]
    }
   ],
   "source": [
    "# Listing 3.17: The scores of the random quantum classifier\n",
    "# Tell Qiskit how to simulate our circuit\n",
    "backend = Aer.get_backend('statevector_simulator') \n",
    "\n",
    "# Specify the quantum state that results in either 0 or 1\n",
    "initial_state = [1/sqrt(2), 1/sqrt(2)] \n",
    "\n",
    "classifier_report(\"Random PQC\", \n",
    "    run,\n",
    "    lambda passenger: pqc_classify(backend, initial_state),\n",
    "    train_input,\n",
    "    train_labels)"
   ]
  },
  {
   "cell_type": "code",
   "execution_count": null,
   "metadata": {},
   "outputs": [],
   "source": []
  }
 ],
 "metadata": {
  "colab": {
   "collapsed_sections": [],
   "name": "Classical Machine Learning Classification.ipynb",
   "provenance": []
  },
  "kernelspec": {
   "display_name": "Qiskit v0.35.0 (ipykernel)",
   "language": "python",
   "name": "python3"
  },
  "language_info": {
   "codemirror_mode": {
    "name": "ipython",
    "version": 3
   },
   "file_extension": ".py",
   "mimetype": "text/x-python",
   "name": "python",
   "nbconvert_exporter": "python",
   "pygments_lexer": "ipython3",
   "version": "3.8.13"
  },
  "widgets": {
   "application/vnd.jupyter.widget-state+json": {
    "state": {},
    "version_major": 2,
    "version_minor": 0
   }
  }
 },
 "nbformat": 4,
 "nbformat_minor": 4
}
