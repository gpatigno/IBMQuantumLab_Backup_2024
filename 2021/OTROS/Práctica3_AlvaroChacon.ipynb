{
 "cells": [
  {
   "cell_type": "code",
   "execution_count": 31,
   "metadata": {},
   "outputs": [],
   "source": [
    "Alpha_D_Pigeon = \"ATGCTGACCGACTCTGACAAGAAGCTGGTCCTGCAGGTGTGGGAGAAGGTGATCCGCCAC\" + \"CCAGACTGTGGAGCCGAGGCCCTGGAGAGGCTGTTCACCACCTACCCCCAGACCAAGACC\" + \"TACTTCCCCCACTTCGACTTGCACCATGGCTCCGACCAGGTCCGCAACCACGGCAAGAAG\" + \"GTGTTGGCCGCCTTGGGCAACGCTGTCAAGAGCCTGGGCAACCTCAGCCAAGCCCTGTCT\" + \"GACCTCAGCGACCTGCATGCCTACAACCTGCGTGTCGACCCTGTCAACTTCAAGCTGCTG\" + \"GCGCAGTGCTTCCACGTGGTGCTGGCCACACACCTGGGCAACGACTACACCCCGGAGGCA\" + \"CATGCTGCCTTCGACAAGTTCCTGTCGGCTGTGTGCACCGTGCTGGCCGAGAAGTACAGA\" +\"TAA\" + \"#\"*89\n",
    "\n",
    "Alpha_D_Duck = \"ATGCTGACCGCCGAGGACAAGAAGCTCATCGTGCAGGTGTGGGAGAAGGTGGCTGGCCAC\" + \"CAGGAGGAATTCGGAAGTGAAGCTCTGCAGAGGATGTTCCTCGCCTACCCCCAGACCAAG\" + \"ACCTACTTCCCCCACTTCGACCTGCATCCCGGCTCTGAACAGGTCCGTGGCCATGGCAAG\" + \"AAAGTGGCGGCTGCCCTGGGCAATGCCGTGAAGAGCCTGGACAACCTCAGCCAGGCCCTG\" + \"TCTGAGCTCAGCAACCTGCATGCCTACAACCTGCGTGTTGACCCTGTCAACTTCAAGCTG\" + \"CTGGCACAGTGCTTCCAGGTGGTGCTGGCCGCACACCTGGGCAAAGACTACAGCCCCGAG\" + \"ATGCATGCTGCCTTTGACAAGTTCTTGTCCGCCGTGGCTGCCGTGCTGGCTGAAAAGTAC\" + \"AGATGA\" + \"#\"*86\n",
    "\n",
    "Alpha_D_Chiken = \"ATGCTGACTGCCGAGGACAAGAAGCTCATCCAGCAGGCCTGGGAGAGGGCCGCTTCCCAC\" + \"CAGGAGGAGTTTGGAGCTGAGGCTCTGACTAGGATGTTCACCACCTATCCCCAGACCAAG\" + \"ACCTACTTCCCCCACTTCGACCTTTCGCCTGGCTCTGACCAGGTCCGTGGCCATGGCAAG\" + \"AAGGTGTTGGGTGCCCTGGGCAACGCCGTGAAGAACGTGGACAACCTCAGCCAGGCCATG\" + \"GCTGAGCTGAGCAACCTGCATGCCTACAACCTGCGTGTTGACCCCGTCAATTTCAAGCTG\" + \"TTGTCGCAGTGCATCCAGGTGGTGCTGGCTGTACACATGGGCAAAGACTACACCCCTGAA\" + \"GTGCATGCTGCCTTCGACAAGTTCCTGTCTGCCGTGTCTGCTGTGCTGGCTGAGAAGTAC\" + \"AGATAA\" + \"#\"*86 "
   ]
  },
  {
   "cell_type": "code",
   "execution_count": 23,
   "metadata": {},
   "outputs": [],
   "source": [
    "import sys\n",
    "import numpy as np\n",
    "import math\n",
    "\n",
    "from qiskit import QuantumCircuit, QuantumRegister, ClassicalRegister, execute, BasicAer, IBMQ\n",
    "from qiskit.visualization import plot_histogram, plot_bloch_multivector\n",
    "\n",
    "from qiskit.extensions import Initialize\n",
    "\n",
    "\n",
    "def encode_bitstring(bitstring, qr, cr, inverse=False):\n",
    "    \"\"\"\n",
    "    create a circuit for constructing the quantum superposition of the bitstring\n",
    "    \"\"\"\n",
    "    n = math.ceil(math.log2(len(bitstring))) + 2                 #number of qubits\n",
    "    assert n > 2, \"the length of bitstring must be at least 2\"\n",
    "    \n",
    "    qc = QuantumCircuit(qr, cr)\n",
    "    \n",
    "    #the probability amplitude of the desired state\n",
    "    desired_vector = np.array([ 0.0 for i in range(2**n) ])     #initialize to zero\n",
    "\n",
    "################################################################################################################    \n",
    " #         Cambio requerido en el código para corregir error presentado   #\n",
    "    \n",
    "    qc_init = QuantumCircuit(n) # Creación de compuertas circuitales para inicialización\n",
    "    inverse_qc_init = QuantumCircuit(n) # Creación de compuertas circuitales para inversión de la inicialización\n",
    "\n",
    "################################################################################################################\n",
    "\n",
    "    amplitude = np.sqrt(1.0/2**(n-2))\n",
    "    #print(len(desired_vector))\n",
    "    #print(len(bitstring))\n",
    "    for i, b in enumerate(bitstring):\n",
    "        pos = i * 4\n",
    "        if b == \"00\" or b == \"A\":\n",
    "            pos += 3\n",
    "        if b == \"01\" or b == \"C\":\n",
    "            pos += 3\n",
    "        if b == \"10\" or b == \"G\":\n",
    "            pos += 3\n",
    "        if b == \"11\" or b == \"T\":\n",
    "            pos += 3\n",
    "        desired_vector[pos] = amplitude\n",
    "    \n",
    "\n",
    "################################################################################################################    \n",
    " #         Cambio requerido en el código para corregir error presentado   #\n",
    "\n",
    "    qc_init = Initialize(desired_vector)\n",
    "    \n",
    " ################################################################################################################       \n",
    "    \n",
    "    if not inverse:\n",
    "#         qc.initialize(desired_vector, qr)\n",
    "\n",
    "        qc.append(qc_init, qr)  #  Cambio requerido en el código para corregir error presentado   #\n",
    "    \n",
    "        qc.barrier(qr)\n",
    "        \n",
    "    else:\n",
    "#         qc.initialize(desired_vector, qr).inverse()  #invert the circuit\n",
    "\n",
    "        inverse_qc_init = qc_init.gates_to_uncompute()  # Cambio requerido en el código para corregir error presentado   #\n",
    "        qc.append(inverse_qc_init, qr)  # Cambio requerido en el código para corregir error presentado   #\n",
    "        \n",
    "        qc.barrier(qr)\n",
    "        for i in range(n):\n",
    "            qc.measure(qr[i], cr[i])\n",
    "    print()\n",
    "    return qc"
   ]
  },
  {
   "cell_type": "code",
   "execution_count": 32,
   "metadata": {},
   "outputs": [
    {
     "name": "stdout",
     "output_type": "stream",
     "text": [
      "\n",
      "\n",
      "\n"
     ]
    }
   ],
   "source": [
    "n = math.ceil(math.log2(len(Alpha_D_Pigeon))) + 2                 #number of qubits\n",
    "qr = QuantumRegister(n)\n",
    "cr = ClassicalRegister(n)\n",
    "\n",
    "qc_pigeon = encode_bitstring(Alpha_D_Pigeon, qr, cr)\n",
    "qc_duck = encode_bitstring(Alpha_D_Duck, qr, cr)\n",
    "qc_chiken = encode_bitstring(Alpha_D_Chiken, qr, cr)\n",
    "\n",
    "circs = {\"PIGEON\": qc_pigeon, \"DUCK\": qc_duck, \"CHIKEN\": qc_chiken}"
   ]
  },
  {
   "cell_type": "code",
   "execution_count": 25,
   "metadata": {},
   "outputs": [
    {
     "name": "stdout",
     "output_type": "stream",
     "text": [
      "\n",
      "\n",
      "\n"
     ]
    }
   ],
   "source": [
    "inverse_qc_pigeon = encode_bitstring(Alpha_D_Pigeon,     qr, cr, inverse=True)\n",
    "inverse_qc_duck = encode_bitstring(Alpha_D_Duck, qr, cr, inverse=True)\n",
    "inverse_qc_chiken = encode_bitstring(Alpha_D_Chiken, qr, cr, inverse=True)\n",
    "\n",
    "inverse_circs = {\"PIGEON\": inverse_qc_pigeon, \"DUCK\": inverse_qc_duck, \"CHIKEN\": inverse_qc_chiken}"
   ]
  },
  {
   "cell_type": "code",
   "execution_count": 28,
   "metadata": {},
   "outputs": [
    {
     "name": "stdout",
     "output_type": "stream",
     "text": [
      "Similarity score of PIGEON and DUCK is 0.988037109375\n",
      "Similarity score of PIGEON and CHIKEN is 0.988037109375\n",
      "[ANSWER] PIGEON is most similar to DUCK\n"
     ]
    }
   ],
   "source": [
    "from qiskit import IBMQ, BasicAer\n",
    "\n",
    "key = \"PIGEON\"       #the name of the code used as key to find similar ones\n",
    "\n",
    "# use local simulator\n",
    "backend = BasicAer.get_backend(\"qasm_simulator\")\n",
    "shots = 8192\n",
    "\n",
    "combined_circs = {}\n",
    "count = {}\n",
    "\n",
    "most_similar, most_similar_score = \"\", -1.0\n",
    "\n",
    "for other_key in inverse_circs:\n",
    "    if other_key == key:\n",
    "        continue\n",
    "        \n",
    "    combined_circs[other_key] = circs[key] + inverse_circs[other_key]   #combined circuits to look for similar codes\n",
    "    job = execute(combined_circs[other_key], backend=backend,shots=shots)\n",
    "    st = job.result().get_counts(combined_circs[other_key])\n",
    "    if \"0\"*n in st:\n",
    "        sim_score = st[\"0\"*n]/shots\n",
    "    else:\n",
    "        sim_score = 0.0\n",
    "    \n",
    "    print(\"Similarity score of\",key,\"and\",other_key,\"is\",sim_score)\n",
    "    if most_similar_score < sim_score:\n",
    "        most_similar, most_similar_score = other_key, sim_score\n",
    "\n",
    "print(\"[ANSWER]\", key,\"is most similar to\", most_similar)"
   ]
  },
  {
   "cell_type": "code",
   "execution_count": null,
   "metadata": {},
   "outputs": [],
   "source": []
  }
 ],
 "metadata": {
  "kernelspec": {
   "display_name": "Python 3",
   "language": "python",
   "name": "python3"
  },
  "language_info": {
   "codemirror_mode": {
    "name": "ipython",
    "version": 3
   },
   "file_extension": ".py",
   "mimetype": "text/x-python",
   "name": "python",
   "nbconvert_exporter": "python",
   "pygments_lexer": "ipython3",
   "version": "3.7.8"
  }
 },
 "nbformat": 4,
 "nbformat_minor": 4
}
