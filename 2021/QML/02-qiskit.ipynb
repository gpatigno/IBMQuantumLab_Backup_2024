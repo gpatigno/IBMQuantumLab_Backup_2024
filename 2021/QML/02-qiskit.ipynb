{
 "cells": [
  {
   "cell_type": "code",
   "execution_count": 1,
   "metadata": {},
   "outputs": [
    {
     "name": "stderr",
     "output_type": "stream",
     "text": [
      "<frozen importlib._bootstrap>:219: RuntimeWarning: scipy._lib.messagestream.MessageStream size changed, may indicate binary incompatibility. Expected 56 from C header, got 64 from PyObject\n"
     ]
    },
    {
     "name": "stdout",
     "output_type": "stream",
     "text": [
      "Traceback \u001b[1;36m(most recent call last)\u001b[0m:\n",
      "\u001b[1;36m  Input \u001b[1;32mIn [1]\u001b[1;36m in \u001b[1;35m<cell line: 1>\u001b[1;36m\u001b[0m\n",
      "\u001b[1;33m    from qiskit.ml.datasets import *\u001b[0m\n",
      "\u001b[1;31mModuleNotFoundError\u001b[0m\u001b[1;31m:\u001b[0m No module named 'qiskit.ml'\n",
      "\n",
      "Use %tb to get the full traceback.\n"
     ]
    },
    {
     "data": {
      "text/html": [
       "\n",
       "<style>\n",
       ".button {\n",
       "  border: none;\n",
       "  color: white;\n",
       "  padding: 4px 8px;\n",
       "  text-align: center;\n",
       "  text-decoration: none;\n",
       "  display: inline-block;\n",
       "  font-size: 12px;\n",
       "  margin: 4px 2px;\n",
       "  transition-duration: 0.2s;\n",
       "  cursor: pointer;\n",
       "}\n",
       ".iqx-button {\n",
       "  background-color: #0f62fe; \n",
       "  color: white; \n",
       "}\n",
       ".iqx-button:hover {\n",
       "  background-color: #0043ce;\n",
       "  color: white;\n",
       "}\n",
       "</style>\n",
       "<a href=\"https://stackoverflow.com/search?q=ModuleNotFoundError: No module named 'qiskit.ml'\" target='_blank'><button class='button iqx-button'>Search for solution online</button></a>\n"
      ],
      "text/plain": [
       "<IPython.core.display.HTML object>"
      ]
     },
     "metadata": {},
     "output_type": "display_data"
    }
   ],
   "source": [
    "from qiskit.ml.datasets import *\n",
    "from qiskit import QuantumCircuit\n",
    "from qiskit.aqua.components.optimizers import COBYLA, ADAM, SPSA, SLSQP, POWELL, L_BFGS_B, TNC, AQGD\n",
    "from qiskit.circuit.library import ZZFeatureMap, RealAmplitudes\n",
    "from qiskit.quantum_info import Statevector\n",
    "\n",
    "import numpy as np\n",
    "import pandas as pd\n",
    "import matplotlib.pyplot as plt\n",
    "\n",
    "from sklearn.preprocessing import normalize\n",
    "from sklearn.model_selection import train_test_split\n",
    "from sklearn.utils import shuffle\n",
    "\n",
    "import warnings\n",
    "warnings.filterwarnings(\"ignore\")\n",
    "\n",
    "%matplotlib inline"
   ]
  },
  {
   "cell_type": "code",
   "execution_count": null,
   "metadata": {},
   "outputs": [],
   "source": [
    "# constants\n",
    "n = 4\n",
    "RANDOM_STATE = 42\n",
    "LR = 1e-3\n",
    "class_labels = ['yes', 'no']"
   ]
  },
  {
   "cell_type": "code",
   "execution_count": null,
   "metadata": {},
   "outputs": [],
   "source": [
    "def normalizeData(DATA_PATH = \"../../Data/Processed/data.csv\"):\n",
    "    \"\"\"\n",
    "    Normalizes the data\n",
    "    \"\"\"\n",
    "    # Reads the data\n",
    "    data = pd.read_csv(DATA_PATH)\n",
    "    data = shuffle(data, random_state=RANDOM_STATE)\n",
    "    X, Y = data[['sex', 'cp', 'exang', 'oldpeak']].values, data['num'].values\n",
    "    # normalize the data\n",
    "    X = normalize(X)\n",
    "    X_train, X_test, Y_train, Y_test = train_test_split(X, Y, test_size=0.3, random_state=RANDOM_STATE)\n",
    "    return X_train, X_test, Y_train, Y_test"
   ]
  },
  {
   "cell_type": "code",
   "execution_count": null,
   "metadata": {},
   "outputs": [],
   "source": [
    "X_train, X_test, Y_train, Y_test = normalizeData()"
   ]
  },
  {
   "cell_type": "code",
   "execution_count": null,
   "metadata": {},
   "outputs": [],
   "source": [
    "sv = Statevector.from_label('0' * n)\n",
    "feature_map = ZZFeatureMap(n, reps=1)\n",
    "var_form = RealAmplitudes(n, reps=1)\n",
    "circuit = feature_map.combine(var_form)\n",
    "circuit.draw(output='mpl', filename=\"overallcircuit.png\")"
   ]
  },
  {
   "cell_type": "code",
   "execution_count": null,
   "metadata": {},
   "outputs": [],
   "source": [
    "def get_data_dict(params, x):\n",
    "    parameters = {}\n",
    "    for i, p in enumerate(feature_map.ordered_parameters):\n",
    "        parameters[p] = x[i]\n",
    "    for i, p in enumerate(var_form.ordered_parameters):\n",
    "        parameters[p] = params[i]\n",
    "    return parameters"
   ]
  },
  {
   "cell_type": "code",
   "execution_count": null,
   "metadata": {},
   "outputs": [],
   "source": [
    "def assign_label(bit_string, class_labels):\n",
    "    hamming_weight = sum([int(k) for k in list(bit_string)])\n",
    "    is_odd_parity = hamming_weight & 1\n",
    "    if is_odd_parity:\n",
    "        return class_labels[1]\n",
    "    else:\n",
    "        return class_labels[0]"
   ]
  },
  {
   "cell_type": "code",
   "execution_count": null,
   "metadata": {},
   "outputs": [],
   "source": [
    "def return_probabilities(counts, class_labels):\n",
    "    shots = sum(counts.values())\n",
    "    result = {class_labels[0]: 0,\n",
    "    class_labels[1]: 0}\n",
    "    for key, item in counts.items():\n",
    "        label = assign_label(key, class_labels)\n",
    "        result[label] += counts[key]/shots\n",
    "    return result"
   ]
  },
  {
   "cell_type": "code",
   "execution_count": null,
   "metadata": {},
   "outputs": [],
   "source": [
    "def classify(x_list, params, class_labels):\n",
    "    qc_list = []\n",
    "    for x in x_list:\n",
    "        circ_ = circuit.assign_parameters(get_data_dict(params, x))\n",
    "        qc = sv.evolve(circ_)\n",
    "        qc_list += [qc]\n",
    "        probs = []\n",
    "    for qc in qc_list:\n",
    "        counts = qc.to_counts()\n",
    "        prob = return_probabilities(counts, class_labels)\n",
    "        probs += [prob]\n",
    "    return probs"
   ]
  },
  {
   "cell_type": "code",
   "execution_count": null,
   "metadata": {},
   "outputs": [],
   "source": [
    "def mse_cost(probs, expected_label):\n",
    "    p = probs.get(expected_label)\n",
    "    actual, pred = np.array(1), np.array(p)\n",
    "    return np.square(np.subtract(actual,pred)).mean()"
   ]
  },
  {
   "cell_type": "code",
   "execution_count": null,
   "metadata": {},
   "outputs": [],
   "source": [
    "cost_list = []\n",
    "def cost_function(X, Y, class_labels, params, shots=100, print_value=False):\n",
    "    # map training input to list of labels and list of samples\n",
    "    cost = 0\n",
    "    training_labels = []\n",
    "    training_samples = []\n",
    "    for sample in X:\n",
    "        training_samples += [sample]\n",
    "    for label in Y:\n",
    "        if label == 0:\n",
    "            training_labels += [class_labels[0]]\n",
    "        elif label == 1:\n",
    "            training_labels += [class_labels[1]]\n",
    "    probs = classify(training_samples, params, class_labels)\n",
    "    # evaluate costs for all classified samples\n",
    "    for i, prob in enumerate(probs):\n",
    "        cost += mse_cost(prob, training_labels[i])\n",
    "    cost /= len(training_samples)\n",
    "    # print resulting objective function\n",
    "    if print_value:\n",
    "        print('%.4f' % cost)\n",
    "    # return objective value\n",
    "    cost_list.append(cost)\n",
    "    return cost"
   ]
  },
  {
   "cell_type": "code",
   "execution_count": null,
   "metadata": {},
   "outputs": [],
   "source": [
    "cost_list = []\n",
    "optimizer = ADAM(maxiter=100, )\n",
    "\n",
    "# define objective function for training\n",
    "objective_function = lambda params: cost_function(X_train, Y_train, class_labels, params, print_value=True)\n",
    "# randomly initialize the parameters\n",
    "np.random.seed(RANDOM_STATE)\n",
    "init_params = 2*np.pi*np.random.rand(n*(1)*2)\n",
    "# train classifier\n",
    "opt_params, value, _ = optimizer.optimize(len(init_params), objective_function, initial_point=init_params)\n",
    "# print results\n",
    "print()\n",
    "print('opt_params:', opt_params)\n",
    "print('opt_value: ', value)"
   ]
  },
  {
   "cell_type": "code",
   "execution_count": null,
   "metadata": {},
   "outputs": [],
   "source": [
    "fig = plt.figure()\n",
    "plt.plot(range(0,901,1), cost_list)\n",
    "plt.xlabel('Steps')\n",
    "plt.ylabel('Cost value')\n",
    "plt.title(\"ADAM Cost value against steps\")\n",
    "plt.show()\n",
    "fig.savefig('../../Output/Figures/costvssteps.jpeg')"
   ]
  },
  {
   "cell_type": "code",
   "execution_count": null,
   "metadata": {},
   "outputs": [],
   "source": [
    "def test_model(X, Y, class_labels, params):\n",
    "    accuracy = 0\n",
    "    training_labels = []\n",
    "    training_samples = []\n",
    "    for sample in X:\n",
    "        training_samples += [sample]\n",
    "    probs = classify(training_samples, params, class_labels)\n",
    "    for i, prob in enumerate(probs):\n",
    "        if (prob.get('yes') >= prob.get('no')) and (Y_test[i] == 0):\n",
    "            accuracy += 1\n",
    "        elif (prob.get('no') >= prob.get('yes')) and (Y_test[i] == 1):\n",
    "            accuracy += 1\n",
    "    accuracy /= len(Y_test)\n",
    "    print(\"Test accuracy: {}\\n\".format(accuracy))"
   ]
  },
  {
   "cell_type": "code",
   "execution_count": null,
   "metadata": {},
   "outputs": [],
   "source": [
    "test_model(X_test, Y_test, class_labels, opt_params)"
   ]
  },
  {
   "cell_type": "code",
   "execution_count": null,
   "metadata": {},
   "outputs": [],
   "source": []
  }
 ],
 "metadata": {
  "kernelspec": {
   "display_name": "Qiskit v0.34.2 (ipykernel)",
   "language": "python",
   "name": "python3"
  },
  "language_info": {
   "codemirror_mode": {
    "name": "ipython",
    "version": 3
   },
   "file_extension": ".py",
   "mimetype": "text/x-python",
   "name": "python",
   "nbconvert_exporter": "python",
   "pygments_lexer": "ipython3",
   "version": "3.8.12"
  },
  "widgets": {
   "application/vnd.jupyter.widget-state+json": {
    "state": {},
    "version_major": 2,
    "version_minor": 0
   }
  }
 },
 "nbformat": 4,
 "nbformat_minor": 4
}
