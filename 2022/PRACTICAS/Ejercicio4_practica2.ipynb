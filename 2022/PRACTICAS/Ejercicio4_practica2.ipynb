{
 "cells": [
  {
   "cell_type": "code",
   "execution_count": 1,
   "id": "5241efc6-6b65-4156-8db2-5e498eff3afa",
   "metadata": {},
   "outputs": [
    {
     "name": "stdout",
     "output_type": "stream",
     "text": [
      "El computador cuántico menos ocupado es el ibm_perth\n",
      "Job Status: job has successfully run\n",
      "       ┌───┐   ┌──────────────────────────────┐┌─┐                  \n",
      "q_0: ──┤ T ├───┤0                             ├┤M├──────────────────\n",
      "       ├───┤   │                              │└╥┘┌─┐               \n",
      "q_1: ──┤ H ├───┤1                             ├─╫─┤M├───────────────\n",
      "       ├───┤   │                              │ ║ └╥┘┌─┐            \n",
      "q_2: ──┤ H ├───┤2                             ├─╫──╫─┤M├────────────\n",
      "       └───┘   │                              │ ║  ║ └╥┘┌─┐         \n",
      "q_3: ──────────┤3 permutation_[1,6,0,2,4,3,5] ├─╫──╫──╫─┤M├─────────\n",
      "               │                              │ ║  ║  ║ └╥┘┌─┐      \n",
      "q_4: ──────────┤4                             ├─╫──╫──╫──╫─┤M├──────\n",
      "     ┌────────┐│                              │ ║  ║  ║  ║ └╥┘┌─┐   \n",
      "q_5: ┤ P(π/4) ├┤5                             ├─╫──╫──╫──╫──╫─┤M├───\n",
      "     └────────┘│                              │ ║  ║  ║  ║  ║ └╥┘┌─┐\n",
      "q_6: ──────────┤6                             ├─╫──╫──╫──╫──╫──╫─┤M├\n",
      "               └──────────────────────────────┘ ║  ║  ║  ║  ║  ║ └╥┘\n",
      "c: 7/═══════════════════════════════════════════╩══╩══╩══╩══╩══╩══╩═\n",
      "                                                0  1  2  3  4  5  6 \n",
      "{'0001001': 4, '0001000': 2, '0000001': 1, '0000000': 3}\n",
      "Result:  9 \n",
      "\n"
     ]
    },
    {
     "name": "stderr",
     "output_type": "stream",
     "text": [
      "<frozen importlib._bootstrap>:219: RuntimeWarning: scipy._lib.messagestream.MessageStream size changed, may indicate binary incompatibility. Expected 56 from C header, got 64 from PyObject\n",
      "/tmp/ipykernel_199/4008076693.py:29: DeprecationWarning: The QuantumCircuit.__iadd__() method is being deprecated. Use the compose() (potentially with the inplace=True argument) and tensor() methods which are more flexible w.r.t circuit register compatibility.\n",
      "  circuit += Permutation(num_qubits = 7)\n"
     ]
    }
   ],
   "source": [
    "from qiskit import QuantumRegister, ClassicalRegister\n",
    "from qiskit import QuantumCircuit, execute,IBMQ ,Aer\n",
    "from qiskit.circuit.library import Permutation\n",
    "from qiskit.providers.ibmq import least_busy\n",
    "from qiskit.tools.monitor import job_monitor\n",
    "import numpy as np\n",
    "from math import pi\n",
    "IBMQ.load_account()\n",
    "provider = IBMQ.get_provider(hub='ibm-q-education', group='uni-antioquia-1', project='qcudea2022-1')\n",
    "Remote_QProcessor = least_busy(provider.backends(filters=lambda qprocessor: qprocessor.configuration().n_qubits >= 7 \n",
    "                                       and not qprocessor.configuration().simulator \n",
    "                                       and qprocessor.status().operational==True))\n",
    "print(\"El computador cuántico menos ocupado es el \" + Remote_QProcessor.name())\n",
    "\n",
    "\n",
    "simulator = Aer.get_backend('qasm_simulator')\n",
    "q = QuantumRegister(7, 'q')\n",
    "c = ClassicalRegister(7, 'c')\n",
    "\n",
    "\n",
    "circuit = QuantumCircuit(q, c)\n",
    "\n",
    "circuit.t(q[0])\n",
    "circuit.h(q[1])\n",
    "circuit.h(q[2])\n",
    "circuit.p(pi/4,q[5])\n",
    "\n",
    "\n",
    "circuit += Permutation(num_qubits = 7)\n",
    "\n",
    "circuit.measure(q, c)\n",
    "\n",
    "job = execute(circuit, backend=simulator, shots=10)\n",
    "job_monitor(job)\n",
    "\n",
    "counts = job.result().get_counts()\n",
    "\n",
    "print(circuit)\n",
    "print(counts)\n",
    "result = int(counts.most_frequent(), 2)\n",
    "print('Result: ', result, '\\n')"
   ]
  },
  {
   "cell_type": "code",
   "execution_count": null,
   "id": "3952f60b-4ac7-41f6-aa39-de7a0763bc84",
   "metadata": {},
   "outputs": [],
   "source": []
  }
 ],
 "metadata": {
  "kernelspec": {
   "display_name": "Python 3 (ipykernel)",
   "language": "python",
   "name": "python3"
  },
  "language_info": {
   "codemirror_mode": {
    "name": "ipython",
    "version": 3
   },
   "file_extension": ".py",
   "mimetype": "text/x-python",
   "name": "python",
   "nbconvert_exporter": "python",
   "pygments_lexer": "ipython3",
   "version": "3.8.13"
  },
  "widgets": {
   "application/vnd.jupyter.widget-state+json": {
    "state": {},
    "version_major": 2,
    "version_minor": 0
   }
  }
 },
 "nbformat": 4,
 "nbformat_minor": 5
}
