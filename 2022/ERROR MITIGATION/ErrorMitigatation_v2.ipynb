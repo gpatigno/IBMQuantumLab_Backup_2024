{
 "cells": [
  {
   "cell_type": "markdown",
   "id": "0c3c7af8-e4dc-4dbb-b9b1-e892c766af01",
   "metadata": {},
   "source": [
    "# Measurement Error Mitigation - Version 2\n",
    "## Basado en el siguiente tutorial:\n",
    "https://github.com/Qiskit/qiskit-tutorials/blob/master/tutorials/noise/3_measurement_error_mitigation.ipynb"
   ]
  },
  {
   "cell_type": "code",
   "execution_count": 1,
   "id": "e34e097b-784a-4940-81d5-623676510384",
   "metadata": {},
   "outputs": [
    {
     "name": "stderr",
     "output_type": "stream",
     "text": [
      "<frozen importlib._bootstrap>:219: RuntimeWarning: scipy._lib.messagestream.MessageStream size changed, may indicate binary incompatibility. Expected 56 from C header, got 64 from PyObject\n"
     ]
    }
   ],
   "source": [
    "##%matplotlib inline\n",
    "# Import general libraries (needed for functions)\n",
    "import numpy as np\n",
    "import time\n",
    "\n",
    "# Importing standard Qiskit libraries\n",
    "import qiskit \n",
    "from qiskit import QuantumRegister, QuantumCircuit, ClassicalRegister, Aer, IBMQ, transpile, execute\n",
    "from qiskit.tools.jupyter import *\n",
    "from qiskit.visualization import *\n",
    "from ibm_quantum_widgets import *\n",
    "from qiskit.tools.visualization import plot_histogram\n",
    "from qiskit.providers.aer import QasmSimulator\n",
    "from qiskit.providers.aer import noise\n",
    "\n",
    "# Import measurement calibration functions\n",
    "from qiskit.utils.mitigation import (complete_meas_cal, tensored_meas_cal,\n",
    "                                        CompleteMeasFitter, TensoredMeasFitter)"
   ]
  },
  {
   "cell_type": "code",
   "execution_count": 2,
   "id": "803d52ad-17dd-40f2-9f4e-a5c5ef5b100f",
   "metadata": {},
   "outputs": [],
   "source": [
    "# Loading your IBM Quantum account(s)\n",
    "provider = IBMQ.load_account()"
   ]
  },
  {
   "cell_type": "code",
   "execution_count": 3,
   "id": "404ed3db-b777-4e8b-a085-37435cc52e1d",
   "metadata": {},
   "outputs": [],
   "source": [
    "# Generate the calibration circuits\n",
    "qregisters = QuantumRegister(3)\n",
    "#qubit_list = [2,3,4]\n",
    "my_calibrations, quantum_states = complete_meas_cal(qr=qregisters, circlabel='mcal')"
   ]
  },
  {
   "cell_type": "code",
   "execution_count": 4,
   "id": "6069e2f6-aeec-4d4f-8821-4b33d1990896",
   "metadata": {},
   "outputs": [
    {
     "data": {
      "text/plain": [
       "['000', '001', '010', '011', '100', '101', '110', '111']"
      ]
     },
     "execution_count": 4,
     "metadata": {},
     "output_type": "execute_result"
    }
   ],
   "source": [
    "quantum_states"
   ]
  },
  {
   "cell_type": "code",
   "execution_count": 5,
   "id": "165def81-6089-4834-a69e-c71ed9016293",
   "metadata": {},
   "outputs": [],
   "source": [
    "# Execute the calibration circuits without noise\n",
    "backend = Aer.get_backend('qasm_simulator')\n",
    "Job = execute(my_calibrations, backend=backend, shots=1000)\n",
    "cal_results = Job.result()"
   ]
  },
  {
   "cell_type": "code",
   "execution_count": 6,
   "id": "119fdb94-843a-4eb6-a8dd-307539224e7d",
   "metadata": {},
   "outputs": [
    {
     "name": "stdout",
     "output_type": "stream",
     "text": [
      "[[1. 0. 0. 0. 0. 0. 0. 0.]\n",
      " [0. 1. 0. 0. 0. 0. 0. 0.]\n",
      " [0. 0. 1. 0. 0. 0. 0. 0.]\n",
      " [0. 0. 0. 1. 0. 0. 0. 0.]\n",
      " [0. 0. 0. 0. 1. 0. 0. 0.]\n",
      " [0. 0. 0. 0. 0. 1. 0. 0.]\n",
      " [0. 0. 0. 0. 0. 0. 1. 0.]\n",
      " [0. 0. 0. 0. 0. 0. 0. 1.]]\n"
     ]
    }
   ],
   "source": [
    "# The calibration matrix without noise is the identity matrix\n",
    "My_Fitter = CompleteMeasFitter(cal_results, quantum_states, circlabel='mcal')\n",
    "print(My_Fitter.cal_matrix)"
   ]
  },
  {
   "cell_type": "code",
   "execution_count": 7,
   "id": "ddc946b9-d271-4704-9aee-14430e908eb3",
   "metadata": {},
   "outputs": [],
   "source": [
    "# Generate a noise model for the 5 qubits\n",
    "noise_model = noise.NoiseModel()\n",
    "for qi in range(5):\n",
    "    read_err = noise.errors.readout_error.ReadoutError([[0.9, 0.1],[0.25,0.75]]) # OOOOOJOOOOOOOOOOOOOO\n",
    "    noise_model.add_readout_error(read_err, [qi])"
   ]
  },
  {
   "cell_type": "code",
   "execution_count": 8,
   "id": "8569a62d-a181-4d2a-a046-455c3c393374",
   "metadata": {},
   "outputs": [],
   "source": [
    "# Execute the calibration circuits\n",
    "backend = Aer.get_backend('qasm_simulator')\n",
    "JobWithNoise = qiskit.execute(my_calibrations, backend=backend, shots=1000, noise_model=noise_model)\n",
    "cal_results2 = JobWithNoise.result()"
   ]
  },
  {
   "cell_type": "code",
   "execution_count": 9,
   "id": "f1749c4f-ef8e-4b1f-bd33-f0b7808f8826",
   "metadata": {},
   "outputs": [
    {
     "name": "stdout",
     "output_type": "stream",
     "text": [
      "[[0.706 0.196 0.225 0.057 0.2   0.076 0.046 0.018]\n",
      " [0.082 0.61  0.021 0.163 0.024 0.164 0.004 0.045]\n",
      " [0.09  0.027 0.584 0.176 0.023 0.007 0.157 0.063]\n",
      " [0.008 0.072 0.069 0.514 0.001 0.02  0.018 0.147]\n",
      " [0.094 0.024 0.018 0.006 0.625 0.148 0.164 0.045]\n",
      " [0.008 0.063 0.006 0.018 0.061 0.519 0.019 0.114]\n",
      " [0.01  0.001 0.072 0.018 0.055 0.012 0.536 0.156]\n",
      " [0.002 0.007 0.005 0.048 0.011 0.054 0.056 0.412]]\n"
     ]
    }
   ],
   "source": [
    "# Calculate the calibration matrix with the noise model\n",
    "My_Fitter2 = CompleteMeasFitter(cal_results2, quantum_states, circlabel='mcal')\n",
    "print(My_Fitter2.cal_matrix)"
   ]
  },
  {
   "cell_type": "code",
   "execution_count": 10,
   "id": "82662c14-24c9-466e-9f1f-0710a2b53860",
   "metadata": {},
   "outputs": [],
   "source": [
    "# Plot the calibration matrix\n",
    "#My_Fitter2.plot_calibration()"
   ]
  },
  {
   "cell_type": "code",
   "execution_count": null,
   "id": "266e7c5e-745d-41d9-8a44-ef781a4e10ca",
   "metadata": {},
   "outputs": [],
   "source": []
  }
 ],
 "metadata": {
  "kernelspec": {
   "display_name": "Python 3 (ipykernel)",
   "language": "python",
   "name": "python3"
  },
  "language_info": {
   "codemirror_mode": {
    "name": "ipython",
    "version": 3
   },
   "file_extension": ".py",
   "mimetype": "text/x-python",
   "name": "python",
   "nbconvert_exporter": "python",
   "pygments_lexer": "ipython3",
   "version": "3.8.13"
  },
  "widgets": {
   "application/vnd.jupyter.widget-state+json": {
    "state": {
     "1478216462974fc69aee6f10a23b8e77": {
      "model_module": "@jupyter-widgets/controls",
      "model_module_version": "1.5.0",
      "model_name": "HTMLModel",
      "state": {
       "layout": "IPY_MODEL_cb742a699b4a4bd79ccd836d79fd9138",
       "style": "IPY_MODEL_d12d72d2e178472b9df117b3134126d7",
       "value": "<h5>Backend</h5>"
      }
     },
     "159997ad9e2b4e5fb94cc1cfdd5bde7c": {
      "model_module": "@jupyter-widgets/controls",
      "model_module_version": "1.5.0",
      "model_name": "GridBoxModel",
      "state": {
       "children": [
        "IPY_MODEL_2780959411954fa59f9a80b3bed97943"
       ],
       "layout": "IPY_MODEL_2181730b638b46279a87a433c3e27d90"
      }
     },
     "17f9ca23100c4e08b1454bb7a074a48b": {
      "model_module": "@jupyter-widgets/controls",
      "model_module_version": "1.5.0",
      "model_name": "HTMLModel",
      "state": {
       "layout": "IPY_MODEL_c4d0e3660ed740918cb1082e1b6e58b2",
       "style": "IPY_MODEL_8c315697744a4919921b139d3a96fce8",
       "value": "<h5>Queue</h5>"
      }
     },
     "2181730b638b46279a87a433c3e27d90": {
      "model_module": "@jupyter-widgets/base",
      "model_module_version": "1.2.0",
      "model_name": "LayoutModel",
      "state": {
       "grid_template_areas": "\n                                       \". . . . right \"\n                                        ",
       "grid_template_columns": "20% 20% 20% 20% 20%",
       "width": "100%"
      }
     },
     "2780959411954fa59f9a80b3bed97943": {
      "model_module": "@jupyter-widgets/controls",
      "model_module_version": "1.5.0",
      "model_name": "ButtonModel",
      "state": {
       "button_style": "primary",
       "description": "Clear",
       "layout": "IPY_MODEL_93d85a2ba22a4254ad622db9c3ded2d7",
       "style": "IPY_MODEL_d29c5554ba904a2ba955f36e07b675b5"
      }
     },
     "3097ded22a0c426fb41d83a7506e161c": {
      "model_module": "@jupyter-widgets/base",
      "model_module_version": "1.2.0",
      "model_name": "LayoutModel",
      "state": {
       "width": "95px"
      }
     },
     "45b919384129489994ab6ecd73495d6f": {
      "model_module": "@jupyter-widgets/controls",
      "model_module_version": "1.5.0",
      "model_name": "DescriptionStyleModel",
      "state": {
       "description_width": ""
      }
     },
     "4778b6756cfd44e4b1d131b0648f47b3": {
      "model_module": "@jupyter-widgets/controls",
      "model_module_version": "1.5.0",
      "model_name": "DescriptionStyleModel",
      "state": {
       "description_width": ""
      }
     },
     "620dc4ea68df4094adf2d5f86849ed7d": {
      "model_module": "@jupyter-widgets/controls",
      "model_module_version": "1.5.0",
      "model_name": "HTMLModel",
      "state": {
       "layout": "IPY_MODEL_a45f44e4dac44400ade8af83dada647a",
       "style": "IPY_MODEL_4778b6756cfd44e4b1d131b0648f47b3",
       "value": "<h5>Job ID</h5>"
      }
     },
     "7b3ffc9ecc2641aaaedd3018e683cc6e": {
      "model_module": "@jupyter-widgets/controls",
      "model_module_version": "1.5.0",
      "model_name": "DescriptionStyleModel",
      "state": {
       "description_width": ""
      }
     },
     "84f8fe9b7b104dd7abef8fc50dee5afd": {
      "model_module": "@jupyter-widgets/base",
      "model_module_version": "1.2.0",
      "model_name": "LayoutModel",
      "state": {
       "margin": "0px 0px 0px 37px",
       "width": "600px"
      }
     },
     "8c315697744a4919921b139d3a96fce8": {
      "model_module": "@jupyter-widgets/controls",
      "model_module_version": "1.5.0",
      "model_name": "DescriptionStyleModel",
      "state": {
       "description_width": ""
      }
     },
     "8daeb19fdf5b416183c504e9c651c7bf": {
      "model_module": "@jupyter-widgets/controls",
      "model_module_version": "1.5.0",
      "model_name": "HTMLModel",
      "state": {
       "layout": "IPY_MODEL_d1c9881a5fb144b8a172f1558d794438",
       "style": "IPY_MODEL_7b3ffc9ecc2641aaaedd3018e683cc6e",
       "value": "<p style='font-family: IBM Plex Sans, Arial, Helvetica, sans-serif; font-size: 20px; font-weight: medium;'>Circuit Properties</p>"
      }
     },
     "93d85a2ba22a4254ad622db9c3ded2d7": {
      "model_module": "@jupyter-widgets/base",
      "model_module_version": "1.2.0",
      "model_name": "LayoutModel",
      "state": {
       "grid_area": "right",
       "padding": "0px 0px 0px 0px",
       "width": "70px"
      }
     },
     "a128a2f2ca3c4c64afe2cd70ad7dcd42": {
      "model_module": "@jupyter-widgets/controls",
      "model_module_version": "1.5.0",
      "model_name": "DescriptionStyleModel",
      "state": {
       "description_width": ""
      }
     },
     "a45f44e4dac44400ade8af83dada647a": {
      "model_module": "@jupyter-widgets/base",
      "model_module_version": "1.2.0",
      "model_name": "LayoutModel",
      "state": {
       "width": "190px"
      }
     },
     "a683e621150142c39ad92f70b2283200": {
      "model_module": "@jupyter-widgets/controls",
      "model_module_version": "1.5.0",
      "model_name": "HTMLModel",
      "state": {
       "layout": "IPY_MODEL_3097ded22a0c426fb41d83a7506e161c",
       "style": "IPY_MODEL_45b919384129489994ab6ecd73495d6f",
       "value": "<h5>Status</h5>"
      }
     },
     "ac001adbb13c49b5b81e7b40c5738bca": {
      "model_module": "@jupyter-widgets/controls",
      "model_module_version": "1.5.0",
      "model_name": "HBoxModel",
      "state": {
       "children": [
        "IPY_MODEL_620dc4ea68df4094adf2d5f86849ed7d",
        "IPY_MODEL_1478216462974fc69aee6f10a23b8e77",
        "IPY_MODEL_a683e621150142c39ad92f70b2283200",
        "IPY_MODEL_17f9ca23100c4e08b1454bb7a074a48b",
        "IPY_MODEL_e40a36bda65c488d90c85a08dda2d64e"
       ],
       "layout": "IPY_MODEL_84f8fe9b7b104dd7abef8fc50dee5afd"
      }
     },
     "c4d0e3660ed740918cb1082e1b6e58b2": {
      "model_module": "@jupyter-widgets/base",
      "model_module_version": "1.2.0",
      "model_name": "LayoutModel",
      "state": {
       "width": "70px"
      }
     },
     "cb742a699b4a4bd79ccd836d79fd9138": {
      "model_module": "@jupyter-widgets/base",
      "model_module_version": "1.2.0",
      "model_name": "LayoutModel",
      "state": {
       "width": "145px"
      }
     },
     "d12d72d2e178472b9df117b3134126d7": {
      "model_module": "@jupyter-widgets/controls",
      "model_module_version": "1.5.0",
      "model_name": "DescriptionStyleModel",
      "state": {
       "description_width": ""
      }
     },
     "d1c9881a5fb144b8a172f1558d794438": {
      "model_module": "@jupyter-widgets/base",
      "model_module_version": "1.2.0",
      "model_name": "LayoutModel",
      "state": {
       "margin": "0px 0px 10px 0px"
      }
     },
     "d29c5554ba904a2ba955f36e07b675b5": {
      "model_module": "@jupyter-widgets/controls",
      "model_module_version": "1.5.0",
      "model_name": "ButtonStyleModel",
      "state": {}
     },
     "e40a36bda65c488d90c85a08dda2d64e": {
      "model_module": "@jupyter-widgets/controls",
      "model_module_version": "1.5.0",
      "model_name": "HTMLModel",
      "state": {
       "layout": "IPY_MODEL_f212304cc58f4e89bffadadca0c7c459",
       "style": "IPY_MODEL_a128a2f2ca3c4c64afe2cd70ad7dcd42",
       "value": "<h5>Message</h5>"
      }
     },
     "f212304cc58f4e89bffadadca0c7c459": {
      "model_module": "@jupyter-widgets/base",
      "model_module_version": "1.2.0",
      "model_name": "LayoutModel",
      "state": {}
     }
    },
    "version_major": 2,
    "version_minor": 0
   }
  }
 },
 "nbformat": 4,
 "nbformat_minor": 5
}
