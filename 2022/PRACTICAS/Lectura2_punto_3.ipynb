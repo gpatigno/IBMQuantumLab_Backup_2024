{
 "cells": [
  {
   "cell_type": "code",
   "execution_count": 1,
   "id": "c8b32f4e-b25a-44d9-bead-fcce2a13fc2b",
   "metadata": {},
   "outputs": [],
   "source": [
    "# Useful additional packages \n",
    "import matplotlib.pyplot as plt\n",
    "import numpy as np\n",
    "from math import pi\n",
    "from qiskit.extensions import Initialize"
   ]
  },
  {
   "cell_type": "code",
   "execution_count": 12,
   "id": "710cf3e8-9713-4d80-830a-6fbf6abe909a",
   "metadata": {},
   "outputs": [
    {
     "name": "stderr",
     "output_type": "stream",
     "text": [
      "ibmqfactory.load_account:WARNING:2022-10-04 14:41:55,447: Credentials are already in use. The existing account in the session will be replaced.\n"
     ]
    },
    {
     "name": "stdout",
     "output_type": "stream",
     "text": [
      "El computador cuántico menos ocupado es el ibm_perth\n"
     ]
    }
   ],
   "source": [
    "from qiskit import QuantumCircuit, ClassicalRegister, QuantumRegister, transpile\n",
    "from qiskit.tools.visualization import circuit_drawer\n",
    "from qiskit.quantum_info import state_fidelity\n",
    "from qiskit import BasicAer, execute\n",
    "from qiskit import IBMQ, Aer, transpile, assemble\n",
    "from qiskit.tools.monitor import job_monitor\n",
    "\n",
    "from qiskit.providers.ibmq import least_busy\n",
    "IBMQ.load_account()\n",
    "provider = IBMQ.get_provider(hub='ibm-q-education', group='uni-antioquia-1', project='qcudea2022-1')\n",
    "Remote_QProcessor = least_busy(provider.backends(filters=lambda qprocessor: qprocessor.configuration().n_qubits >= 3 \n",
    "                                       and not qprocessor.configuration().simulator \n",
    "                                       and qprocessor.status().operational==True))\n",
    "print(\"El computador cuántico menos ocupado es el \" + Remote_QProcessor.name())"
   ]
  },
  {
   "cell_type": "code",
   "execution_count": 18,
   "id": "50573e82-24da-4e4c-9fef-c4c021dc0541",
   "metadata": {},
   "outputs": [
    {
     "name": "stdout",
     "output_type": "stream",
     "text": [
      "Job Status: job has successfully run\n"
     ]
    }
   ],
   "source": [
    "qreg_q = QuantumRegister(2, 'q')\n",
    "creg_c = ClassicalRegister(2, 'c')\n",
    "circuit = QuantumCircuit(qreg_q, creg_c)\n",
    "#Initial State Preparation\n",
    "circuit.reset(qreg_q[0])\n",
    "circuit.reset(qreg_q[1])\n",
    "circuit.h(qreg_q[0])\n",
    "circuit.h(qreg_q[1])\n",
    "circuit.s(qreg_q[0])\n",
    "#Oracle\n",
    "circuit.cz(qreg_q[0], qreg_q[1])\n",
    "circuit.s(qreg_q[0])\n",
    "circuit.h(qreg_q[1])\n",
    "circuit.h(qreg_q[0])\n",
    "circuit.x(qreg_q[1])\n",
    "circuit.x(qreg_q[0])\n",
    "circuit.cz(qreg_q[0], qreg_q[1])\n",
    "#Difuser\n",
    "circuit.x(qreg_q[0])\n",
    "circuit.x(qreg_q[1])\n",
    "circuit.h(qreg_q[0])\n",
    "circuit.h(qreg_q[1])\n",
    "circuit.measure(qreg_q,creg_c )\n",
    "\n",
    "job = execute ( circuit , backend = Remote_QProcessor , shots = 1 )\n",
    "job_monitor(job)"
   ]
  },
  {
   "cell_type": "code",
   "execution_count": 19,
   "id": "53e1dd4e-3123-4626-9151-7776c56b4922",
   "metadata": {},
   "outputs": [
    {
     "data": {
      "image/png": "[encoded data removed]",
      "text/plain": [
       "<Figure size 808.852x204.68 with 1 Axes>"
      ]
     },
     "execution_count": 19,
     "metadata": {},
     "output_type": "execute_result"
    }
   ],
   "source": [
    "circuit.draw()"
   ]
  },
  {
   "cell_type": "code",
   "execution_count": 20,
   "id": "69b48ad2-8dd0-4fe5-a503-6b493923dd3e",
   "metadata": {},
   "outputs": [],
   "source": [
    "from qiskit.result import utils\n",
    "from qiskit.visualization import plot_histogram, plot_bloch_multivector, array_to_latex\n",
    "from qiskit.extensions import Initialize"
   ]
  },
  {
   "cell_type": "code",
   "execution_count": 21,
   "id": "ed6e7bcd-80d8-4e2f-ba94-b6eb467f7f5e",
   "metadata": {},
   "outputs": [
    {
     "data": {
      "image/png": "[encoded data removed]",
      "text/plain": [
       "<Figure size 504x360 with 1 Axes>"
      ]
     },
     "execution_count": 21,
     "metadata": {},
     "output_type": "execute_result"
    }
   ],
   "source": [
    "device_result = job.result()\n",
    "\n",
    "plot_histogram ( device_result.get_counts(circuit) ) "
   ]
  },
  {
   "cell_type": "code",
   "execution_count": 22,
   "id": "790bcd49-b3af-47b5-a2ae-64f23988c3e5",
   "metadata": {},
   "outputs": [
    {
     "name": "stdout",
     "output_type": "stream",
     "text": [
      "Job Status: job has successfully run\n",
      "{'01': 8192}\n"
     ]
    },
    {
     "data": {
      "image/png": "[encoded data removed]",
      "text/plain": [
       "<Figure size 504x360 with 1 Axes>"
      ]
     },
     "execution_count": 22,
     "metadata": {},
     "output_type": "execute_result"
    }
   ],
   "source": [
    "backend = provider.get_backend('ibmq_qasm_simulator')\n",
    "actividad = execute(circuit, backend, shots=8192)\n",
    "job_monitor(actividad)\n",
    "\n",
    "conteo = actividad.result().get_counts()\n",
    "print(conteo)\n",
    "plot_histogram(conteo)"
   ]
  },
  {
   "cell_type": "code",
   "execution_count": null,
   "id": "d9ee538f-3392-45ef-86c7-9435dad61aff",
   "metadata": {},
   "outputs": [],
   "source": []
  }
 ],
 "metadata": {
  "kernelspec": {
   "display_name": "Python 3 (ipykernel)",
   "language": "python",
   "name": "python3"
  },
  "language_info": {
   "codemirror_mode": {
    "name": "ipython",
    "version": 3
   },
   "file_extension": ".py",
   "mimetype": "text/x-python",
   "name": "python",
   "nbconvert_exporter": "python",
   "pygments_lexer": "ipython3",
   "version": "3.8.13"
  },
  "widgets": {
   "application/vnd.jupyter.widget-state+json": {
    "state": {},
    "version_major": 2,
    "version_minor": 0
   }
  }
 },
 "nbformat": 4,
 "nbformat_minor": 5
}
