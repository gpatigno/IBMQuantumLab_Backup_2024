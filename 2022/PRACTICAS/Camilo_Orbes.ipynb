{
 "cells": [
  {
   "cell_type": "code",
   "execution_count": 10,
   "id": "4b66689e-1bce-4bd9-b769-6fcaa71788b9",
   "metadata": {},
   "outputs": [],
   "source": [
    "#Se ajusta la clave dependiendo del tamaño del mensaje\n",
    "def lenght_comparation(key, message):\n",
    "    l_key = len(key)\n",
    "    l_message = len(message)\n",
    "    dif = l_message-l_key\n",
    "    actualiced_key = str(key)\n",
    "    if(dif>0):                        #Solo se ajusta la clave si el mensaje es mas largo que esta\n",
    "        \n",
    "        for i in range(dif):\n",
    "            if(i>=l_key):\n",
    "                i_dif = i-l_key\n",
    "                actualiced_key = actualiced_key + str(key[i_dif])\n",
    "                pass\n",
    "            else:\n",
    "                \n",
    "                actualiced_key = actualiced_key + str(key[i])\n",
    "    return(actualiced_key)\n",
    "\n"
   ]
  },
  {
   "cell_type": "code",
   "execution_count": 25,
   "id": "1f68afa3-47dd-4b92-b75e-97409503c427",
   "metadata": {},
   "outputs": [],
   "source": [
    "import numpy as np\n",
    "#Codigo para el emisor\n",
    "mensaje = 'entrega practica 5'\n",
    "n = len(mes)*3\n",
    "#Se ajusta el tamaño del mensaje\n",
    "nlist = []\n",
    "for i in range(int(n/10)):\n",
    "    nlist.append(10)\n",
    "    if n%10 != 0:\n",
    "        nlist.append(n%10)"
   ]
  },
  {
   "cell_type": "code",
   "execution_count": 26,
   "id": "c8af2265-2193-482a-9734-086a670029a4",
   "metadata": {},
   "outputs": [],
   "source": [
    "Alice_key='01000011111'\n",
    "Akey_adjust = lenght_comparation(Alice_key,mensaje)"
   ]
  },
  {
   "cell_type": "code",
   "execution_count": 27,
   "id": "07313ea4-fae6-4f8a-93be-94cf38593b6e",
   "metadata": {},
   "outputs": [
    {
     "name": "stdout",
     "output_type": "stream",
     "text": [
      "encoded message: ÅÐÔÒÅÇÃÒÔÃÃÖÉÃÁ\n"
     ]
    }
   ],
   "source": [
    "shortened_Akey = Akey_adjust[:len(mes)]\n",
    "encoded_m=''\n",
    "for m,k in zip(mes,shortened_Akey):\n",
    "    encoded_c = chr(ord(m) + 2*ord(k) % 256)\n",
    "    encoded_m += encoded_c\n",
    "print('encoded message:',encoded_m)"
   ]
  },
  {
   "cell_type": "code",
   "execution_count": null,
   "id": "abb4aefb-739c-477a-9dfb-fe7b6642e2ee",
   "metadata": {},
   "outputs": [
    {
     "name": "stdout",
     "output_type": "stream",
     "text": [
      "18\n"
     ]
    }
   ],
   "source": []
  }
 ],
 "metadata": {
  "kernelspec": {
   "display_name": "Python 3 (ipykernel)",
   "language": "python",
   "name": "python3"
  },
  "language_info": {
   "codemirror_mode": {
    "name": "ipython",
    "version": 3
   },
   "file_extension": ".py",
   "mimetype": "text/x-python",
   "name": "python",
   "nbconvert_exporter": "python",
   "pygments_lexer": "ipython3",
   "version": "3.8.13"
  },
  "widgets": {
   "application/vnd.jupyter.widget-state+json": {
    "state": {},
    "version_major": 2,
    "version_minor": 0
   }
  }
 },
 "nbformat": 4,
 "nbformat_minor": 5
}
