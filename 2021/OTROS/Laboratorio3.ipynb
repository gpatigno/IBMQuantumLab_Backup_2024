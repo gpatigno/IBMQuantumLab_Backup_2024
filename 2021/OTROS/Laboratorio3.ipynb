{
 "cells": [
  {
   "cell_type": "markdown",
   "metadata": {},
   "source": [
    "# <p style='text-align: center;'>INFORME LABORATORIO 3: COMPUTACIÓN CUÁNTICA EN LA BIOINFORMÁTICA</p>\n",
    "<p style='text-align: center;'>MANUEL ALEJANDRO QUISTIAL JURADO</p>\n",
    "<p style='text-align: center;'>EDUARDO JOSÉ MAYA RODRIGUEZ</p>"
   ]
  },
  {
   "cell_type": "markdown",
   "metadata": {},
   "source": [
    "## INTRODUCCIÓN\n",
    "<p style='text-align: justify;'>\n",
    "    La Bioinformática es una subdisciplina de la biología y las ciencias computacionales encargada de adquirir, almacenar, analizar y diseminar la información biológica, en gran parte correspondiente a las secuencias de ADN y aminoácidos. La Bioinformática se dedica al uso de programas informáticos, multiples ejemplos del campo de acción de la bioinformática son: determinar las funciones de genes y proteínas, establecer relaciones evolutivas y predecir la conformación tridimensional de las proteínas.</p>\n",
    "\n",
    "<p style='text-align: justify;'>\n",
    "    Actualmente la computación, como en este caso la computación cuántica buscan que el desarrollo de estos campos de estudio puedan ser repotenciados para lograr nuevas metas como los mencionados anteriormente ya que con la capacidad de calculo de los procesadores cuanticos se lleven a cabo desarrollos que por limitantes tecnologicos han quedado atras.</p>\n",
    "    \n",
    "<p style='text-align: justify;'>\n",
    "    Para efectos de este laboratorio, en el cual se busca efectuar comparación de cadenas de secuencias geneticas, buscan de una manera mas sencilla implementar sistemas enfocados al cálculo y simulación de entornos biológicos más complejos como la cadena proteínica de algunas especies de animales, reforzar la ingeniería genética y analísis químicos entre otros.</p>"
   ]
  },
  {
   "cell_type": "code",
   "execution_count": 1,
   "metadata": {},
   "outputs": [],
   "source": [
    "import sys\n",
    "import numpy as np\n",
    "import math\n",
    "from qiskit import QuantumCircuit, QuantumRegister, ClassicalRegister, execute, BasicAer, IBMQ\n",
    "from qiskit.visualization import plot_histogram, plot_bloch_multivector\n",
    "from qiskit.extensions import Initialize\n",
    "%matplotlib inline"
   ]
  },
  {
   "cell_type": "markdown",
   "metadata": {},
   "source": [
    "## DESARROLLO DE LA PRÁCTICA\n",
    "### Análisis de un ejemplo del Tutorial del Qiskit"
   ]
  },
  {
   "cell_type": "code",
   "execution_count": 2,
   "metadata": {},
   "outputs": [],
   "source": [
    "def encode_bitstring(bitstring, qr, cr, inverse=False):\n",
    "    \"\"\"\n",
    "    create a circuit for constructing the quantum superposition of the bitstring\n",
    "    \"\"\"\n",
    "    n = math.ceil(math.log2(len(bitstring))) + 1 #number of qubits\n",
    "    assert n > 2, \"the length of bitstring must be at least 2\"\n",
    "    \n",
    "    qc = QuantumCircuit(qr, cr)\n",
    "    #the probability amplitude of the desired state\n",
    "    desired_vector = np.array([ 0.0 for i in range(2**n) ]) #initialize to zero\n",
    "    \n",
    "############################################################################################################\n",
    "    # Cambio requerido en el código para corregir error presentado #\n",
    "    qc_init = QuantumCircuit(n) # Creación de compuertas circuitales para inicialización\n",
    "    inverse_qc_init = QuantumCircuit(n) # Creación de compuertas circuitales para inversión de la inicialización\n",
    "############################################################################################################\n",
    "    amplitude = np.sqrt(1.0/2**(n-1))\n",
    "    for i, b in enumerate(bitstring):\n",
    "        pos = i * 2\n",
    "        if b == \"1\" or b == \"M\":\n",
    "            pos += 1\n",
    "        desired_vector[pos] = amplitude\n",
    "############################################################################################################\n",
    "    # Cambio requerido en el código para corregir error presentado #\n",
    "    qc_init = Initialize(desired_vector)\n",
    "    \n",
    "############################################################################################################\n",
    "    if not inverse:\n",
    "        # qc.initialize(desired_vector, qr)\n",
    "        qc.append(qc_init, qr) # Cambio requerido en el código para corregir error presentado #\n",
    "        qc.barrier(qr)\n",
    "    else:\n",
    "    # qc.initialize(desired_vector, qr).inverse() #invert the circuit\n",
    "        inverse_qc_init = qc_init.gates_to_uncompute() # Call to create a circuit with gates that take the desired vector to zero\n",
    "        qc.append(inverse_qc_init, qr) # Cambio requerido en el código para corregir error presentado #\n",
    "        qc.barrier(qr)\n",
    "        for i in range(n):\n",
    "            qc.measure(qr[i], cr[i])\n",
    "    return qc"
   ]
  },
  {
   "cell_type": "code",
   "execution_count": 3,
   "metadata": {},
   "outputs": [],
   "source": [
    "YEAST     = \"----------------------------------MM----------------------------\"\n",
    "PROTOZOAN = \"--MM---------------M------------MMMM---------------M------------\"\n",
    "BACTERIAL = \"---M---------------M------------MMMM---------------M------------\"\n"
   ]
  },
  {
   "cell_type": "code",
   "execution_count": 4,
   "metadata": {},
   "outputs": [],
   "source": [
    "n = math.ceil(math.log2(len(YEAST))) + 1                 #number of qubits\n",
    "qr = QuantumRegister(n)\n",
    "cr = ClassicalRegister(n)\n",
    "\n",
    "qc_yeast     = encode_bitstring(YEAST, qr, cr)\n",
    "qc_protozoan = encode_bitstring(PROTOZOAN, qr, cr)\n",
    "qc_bacterial = encode_bitstring(BACTERIAL, qr, cr)\n",
    "\n",
    "circs = {\"YEAST\": qc_yeast, \"PROTOZOAN\": qc_protozoan, \"BACTERIAL\": qc_bacterial}"
   ]
  },
  {
   "cell_type": "code",
   "execution_count": 5,
   "metadata": {},
   "outputs": [],
   "source": [
    "inverse_qc_yeast     = encode_bitstring(YEAST,     qr, cr, inverse=True)\n",
    "inverse_qc_protozoan = encode_bitstring(PROTOZOAN, qr, cr, inverse=True)\n",
    "inverse_qc_bacterial = encode_bitstring(BACTERIAL, qr, cr, inverse=True)\n",
    "\n",
    "inverse_circs = {\"YEAST\": inverse_qc_yeast, \"PROTOZOAN\": inverse_qc_protozoan, \"BACTERIAL\": inverse_qc_bacterial}"
   ]
  },
  {
   "cell_type": "code",
   "execution_count": 6,
   "metadata": {
    "scrolled": false
   },
   "outputs": [
    {
     "name": "stdout",
     "output_type": "stream",
     "text": [
      "Similarity score of PROTOZOAN and YEAST is 0.819\n",
      "Similarity score of PROTOZOAN and BACTERIAL is 0.971\n",
      "[ANSWER] PROTOZOAN is most similar to BACTERIAL\n"
     ]
    }
   ],
   "source": [
    "key = \"PROTOZOAN\"       #the name of the code used as key to find similar ones\n",
    "#key = \"YEAST\"\n",
    "# use local simulator\n",
    "backend = BasicAer.get_backend(\"qasm_simulator\")\n",
    "shots = 1000\n",
    "\n",
    "combined_circs = {}\n",
    "count = {}\n",
    "\n",
    "most_similar, most_similar_score = \"\", -1.0\n",
    "\n",
    "for other_key in inverse_circs:\n",
    "    if other_key == key:\n",
    "        continue\n",
    "        \n",
    "    combined_circs[other_key] = circs[key] + inverse_circs[other_key]   #combined circuits to look for similar codes\n",
    "    job = execute(combined_circs[other_key], backend=backend,shots=shots)\n",
    "    st = job.result().get_counts(combined_circs[other_key])\n",
    "    if \"0\"*n in st:\n",
    "        sim_score = st[\"0\"*n]/shots\n",
    "    else:\n",
    "        sim_score = 0.0\n",
    "    \n",
    "    print(\"Similarity score of\",key,\"and\",other_key,\"is\",sim_score)\n",
    "    if most_similar_score < sim_score:\n",
    "        most_similar, most_similar_score = other_key, sim_score\n",
    "\n",
    "print(\"[ANSWER]\", key,\"is most similar to\", most_similar)"
   ]
  },
  {
   "cell_type": "markdown",
   "metadata": {},
   "source": [
    "<ul>\n",
    "    <li>Explique el modo utilizado en este ejemplo para representar cuánticamente las tres secuencias de strings asociadas a los códigos genéticos del Yeast, Protozoan y Bacterial.</li>\n",
    "    <p style='text-align: justify;'>\n",
    "        Se emplea un vector que esta dado por una amplitud de 1/8 debido a que es base 2 la codificacion, 1 y 0; teniendo en cuenta la longitud del bitstring de 64,\n",
    "        <br>A partir de ello se forman los estados cuanticos, donde se anexa un bit de control en 1 que determina si esta o no el codigo genetico 'M'.\n",
    "        <br>Al estar lista la representacion binaria con el bit de control, se inicializa el estado cuantico.\n",
    "    </p>\n",
    "</ul>  \n",
    "<ul>\n",
    "    <li>En sus propias palabras explique la función encode_bitstring( ).</li>\n",
    "    <p style='text-align: justify;'>\n",
    "        Esta funcion convierte cada caracter del codigo genetico en una cadena de bits determinado por su posicion y si se encuentra o no habilitado el gen, permitiendo a partir de la cadena de bits de cada gen convertirlo en un estado cuantico y a la vez generando el circuito cuantico y el circutio cuantico inverso.\n",
    "    </p>\n",
    "</ul>    \n",
    "<ul>\n",
    "    <li>Explique la necesidad de invertir cada uno de los tres circuitos cuánticos creados para las tres\n",
    "secuencias de strings que son comparadas en este ejemplo.</li>\n",
    "    <p style='text-align: justify;'>\n",
    "       La inversa se aplica para encontrar el estado inicial que tiene mayor similitud al estado inicial empleado en los estados cuanticos del proceso.\n",
    "    </p>\n",
    "</ul>   \n",
    "<ul>\n",
    "    <li>Explique la manera como en este ejemplo se realiza la comparación entre las secuencias de\n",
    "strings dadas.</li>\n",
    "    <p style='text-align: justify;'>\n",
    "        Al obtener el estado inicial aplicando la inversa, se obtiene el estado cuantico que mayor se asemeja con la cadena comparada, donde los puntos de mayor indice es donde el gen tieme mayor similitud, dado por la cantidad de shots en donde se presento la mayor similitud, por este motivo se escala para encontrar la incidencia de un gen en ambas secuencias.\n",
    "    </p>  \n",
    "</ul>"
   ]
  },
  {
   "cell_type": "markdown",
   "metadata": {},
   "source": [
    "### Comparación de secuencias genéticas de diversos animales"
   ]
  },
  {
   "cell_type": "code",
   "execution_count": 7,
   "metadata": {},
   "outputs": [],
   "source": [
    "#Alpha ii\n",
    "CABRA = \"ATGGTGCTGTCTGCCGCCGACAAGTCCAATGTCAAGGCCGCCTGGGGCAAGGTTGGCAGCAACGCTGGAGCTTATGGCGCAGAGGCTCTGGAGAGGATGTTCCTGAGCTTCCCCACCACCAAGACCTACTTCCCCCACTTCGACCTGAGCCACGGCTCGGCCCAGGTCAAGGGCCACGGCGAGAAGGTGGCCGCCGCGCTGACCAAAGCGGTGGGCCACCTGGACGACCTGCCCGGTACTCTGTCTGATCTGAGTGACCTGCACGCCCACAAGCTGCGTGTGGACCCGGTCAACTTTAAGCTTCTGAGCCACTCCCTGCTGGTGACCCTGGCCTGCCACCACCCCAGTGATTTCACCCCCGCGGTCCACGCCTCCCTGGACAAGTTCTTGGCCAACGTGAGCACCGTGCTGACCTCCAAATACCGTTAA\"\n",
    "#Alpha 2 \n",
    "CABALLO = \"ATGGTGCTGTCTGCCGCCGACAAGACCAACGTCAAGGCCGCCTGGAGTAAGGTTGGCGGCCACGCTGGCGAGTATGGCGCAGAGGCCCTAGAGAGGATGTTCCTGGGCTTCCCCACCACCAAGACCTACTTCCCCCACTTCGATCTGAGCCACGGCTCCGCCCAGGTCAAGGCCCACGGCCAGAAGGTGGGCGACGCGCTGACTCTCGCCGTGGGCCACCTGGACGACCTGCCTGGCGCCCTGTCGAATCTGAGCGACCTGCACGCACACAAGCTGCGCGTGGACCCCGTCAACTTCAAGCTCCTGAGTCATTGCCTGCTGTCCACCTTGGCCGTCCACCTCCCCAACGATTTCACCCCTGCCGTCCACGCCTCCCTGGACAAGTTCTTGAGCAGTGTGAGCACCGTGCTGACCTCCAAATACCGTTAA\"\n",
    "#Alpha A\n",
    "PATO = \"ATGGTGCTGTCTGCGGCTGACAAGACCAACGTCAAGGGTGTCTTCTCCAAAATCGGTGGCCATGCTGAGGAGTATGGCGCCGAGACCCTGGAGAGGATGTTCATCGCCTACCCCCAGACCAAGACCTACTTCCCCCACTTTGACCTGCAGCACGGCTCTGCTCAGATCAAGGCCCATGGCAAGAAGGTGGCGGCTGCCCTAGTTGAAGCTGTCAACCACATCGATGACATTGCGGGTGCTCTCTCCAAGCTCAGTGACCTCCACGCCCAAAAGCTCCGTGTGGACCCTGTCAACTTCAAATTCCTGGGCCACTGCTTCCTGGTGGTGGTTGCCATCCACCACCCCGCTGCCCTGACCCCAGAGGTCCACGCTTCCCTGGACAAGTTCATGTGCGCCGTGGGTGCTGTGCTGACTGCCAAGTACCGTTAG\""
   ]
  },
  {
   "cell_type": "code",
   "execution_count": 8,
   "metadata": {},
   "outputs": [],
   "source": [
    "def encode_bitstring(bitstring, qr, cr, inverse=False):\n",
    "    \"\"\"\n",
    "    create a circuit for constructing the quantum superposition of the bitstring\n",
    "    \"\"\"\n",
    "    n = math.ceil(math.log2(len(bitstring))) + 2                 #ahora deben ser dos qubits adicionales \n",
    "    assert n > 2, \"the length of bitstring must be at least 2\"\n",
    "    qc = QuantumCircuit(qr, cr)\n",
    "    \n",
    "    #the probability amplitude of the desired state\n",
    "    desired_vector = np.array([ 0.0 for i in range((2**n)) ])     #initialize to zero\n",
    "    amplitude = np.sqrt(1.0/(2**(n-2)-83)) #La longitud de la cadena de proteinas no es de base 2, entonces se escala con -83\n",
    "\n",
    "    for i, b in enumerate(bitstring):\n",
    "        pos = i * 4\n",
    "        if  b == \"T\":\n",
    "            pos += 1\n",
    "        elif b == \"G\":\n",
    "            pos += 2\n",
    "        elif b == \"C\":\n",
    "            pos += 3\n",
    "        desired_vector[pos] = amplitude\n",
    "        \n",
    "############################################################################################################\n",
    "    # Cambio requerido en el código para corregir error presentado #\n",
    "    qc_init = Initialize(desired_vector)\n",
    "############################################################################################################\n",
    "    if not inverse:\n",
    "        # qc.initialize(desired_vector, qr)\n",
    "        qc.append(qc_init, qr) # Cambio requerido en el código para corregir error presentado #\n",
    "        qc.barrier(qr)\n",
    "    else:\n",
    "    # qc.initialize(desired_vector, qr).inverse() #invert the circuit\n",
    "        inverse_qc_init = qc_init.gates_to_uncompute() # Cambio requerido en el código para corregir error presentado #\n",
    "        qc.append(inverse_qc_init, qr) # Cambio requerido en el código para corregir error presentado #\n",
    "        qc.barrier(qr)\n",
    "        for i in range(n):\n",
    "            qc.measure(qr[i], cr[i])\n",
    "    return qc"
   ]
  },
  {
   "cell_type": "code",
   "execution_count": 9,
   "metadata": {
    "scrolled": true
   },
   "outputs": [],
   "source": [
    "n = math.ceil(math.log2(len(CABRA))) + 2                #number of qubits\n",
    "qr = QuantumRegister(n)\n",
    "cr = ClassicalRegister(n)\n",
    "\n",
    "qc_cabra    = encode_bitstring(CABRA, qr, cr)\n",
    "qc_caballo = encode_bitstring(CABALLO, qr, cr)\n",
    "qc_pato = encode_bitstring(PATO, qr, cr)\n",
    "\n",
    "circs = {\"CABRA\": qc_cabra, \"CABALLO\": qc_caballo, \"PATO\": qc_pato}"
   ]
  },
  {
   "cell_type": "code",
   "execution_count": 10,
   "metadata": {},
   "outputs": [],
   "source": [
    "inverse_qc_cabra   = encode_bitstring(CABRA,   qr, cr, inverse=True)\n",
    "inverse_qc_caballo = encode_bitstring(CABALLO, qr, cr, inverse=True)\n",
    "inverse_qc_pato    = encode_bitstring(PATO,    qr,  cr, inverse=True)\n",
    "\n",
    "inverse_circs = {\"CABRA\": inverse_qc_cabra, \"CABALLO\": inverse_qc_caballo, \"PATO\": inverse_qc_pato}"
   ]
  },
  {
   "cell_type": "code",
   "execution_count": 11,
   "metadata": {},
   "outputs": [
    {
     "name": "stdout",
     "output_type": "stream",
     "text": [
      "Similarity score of CABRA and CABALLO is 0.744\n",
      "Similarity score of CABRA and PATO is 0.567\n",
      "[ANSWER] CABRA is most similar to CABALLO\n"
     ]
    }
   ],
   "source": [
    "key = \"CABRA\"       #the name of the code used as key to find similar ones\n",
    "# use local simulator\n",
    "backend = BasicAer.get_backend(\"qasm_simulator\")\n",
    "shots = 1000\n",
    "\n",
    "combined_circs = {}\n",
    "count = {}\n",
    "\n",
    "most_similar, most_similar_score = \"\", -1.0\n",
    "\n",
    "for other_key in inverse_circs:\n",
    "    if other_key == key:\n",
    "        continue\n",
    "        \n",
    "    combined_circs[other_key] = circs[key] + inverse_circs[other_key]   #combined circuits to look for similar codes\n",
    "    job = execute(combined_circs[other_key], backend=backend,shots=shots)\n",
    "    st = job.result().get_counts(combined_circs[other_key])\n",
    "    if \"0\"*n in st:\n",
    "        sim_score = st[\"0\"*n]/shots\n",
    "    else:\n",
    "        sim_score = 0.0\n",
    "    \n",
    "    print(\"Similarity score of\",key,\"and\",other_key,\"is\",sim_score)\n",
    "    if most_similar_score < sim_score:\n",
    "        most_similar, most_similar_score = other_key, sim_score\n",
    "\n",
    "print(\"[ANSWER]\", key,\"is most similar to\", most_similar)"
   ]
  },
  {
   "cell_type": "code",
   "execution_count": 12,
   "metadata": {},
   "outputs": [
    {
     "name": "stdout",
     "output_type": "stream",
     "text": [
      "Similarity score of CABALLO and CABRA is 0.779\n",
      "Similarity score of CABALLO and PATO is 0.54\n",
      "[ANSWER] CABALLO is most similar to CABRA\n"
     ]
    }
   ],
   "source": [
    "key = \"CABALLO\"       #the name of the code used as key to find similar ones\n",
    "# use local simulator\n",
    "backend = BasicAer.get_backend(\"qasm_simulator\")\n",
    "shots = 1000\n",
    "\n",
    "combined_circs = {}\n",
    "count = {}\n",
    "\n",
    "most_similar, most_similar_score = \"\", -1.0\n",
    "\n",
    "for other_key in inverse_circs:\n",
    "    if other_key == key:\n",
    "        continue\n",
    "        \n",
    "    combined_circs[other_key] = circs[key] + inverse_circs[other_key]   #combined circuits to look for similar codes\n",
    "    job = execute(combined_circs[other_key], backend=backend,shots=shots)\n",
    "    st = job.result().get_counts(combined_circs[other_key])\n",
    "    if \"0\"*n in st:\n",
    "        sim_score = st[\"0\"*n]/shots\n",
    "    else:\n",
    "        sim_score = 0.0\n",
    "    \n",
    "    print(\"Similarity score of\",key,\"and\",other_key,\"is\",sim_score)\n",
    "    if most_similar_score < sim_score:\n",
    "        most_similar, most_similar_score = other_key, sim_score\n",
    "\n",
    "print(\"[ANSWER]\", key,\"is most similar to\", most_similar)"
   ]
  },
  {
   "cell_type": "code",
   "execution_count": 13,
   "metadata": {},
   "outputs": [
    {
     "name": "stdout",
     "output_type": "stream",
     "text": [
      "Similarity score of PATO and CABRA is 0.541\n",
      "Similarity score of PATO and CABALLO is 0.555\n",
      "[ANSWER] PATO is most similar to CABALLO\n"
     ]
    }
   ],
   "source": [
    "key = \"PATO\"       #the name of the code used as key to find similar ones\n",
    "# use local simulator\n",
    "backend = BasicAer.get_backend(\"qasm_simulator\")\n",
    "shots = 1000\n",
    "\n",
    "combined_circs = {}\n",
    "count = {}\n",
    "\n",
    "most_similar, most_similar_score = \"\", -1.0\n",
    "\n",
    "for other_key in inverse_circs:\n",
    "    if other_key == key:\n",
    "        continue\n",
    "        \n",
    "    combined_circs[other_key] = circs[key] + inverse_circs[other_key]   #combined circuits to look for similar codes\n",
    "    job = execute(combined_circs[other_key], backend=backend,shots=shots)\n",
    "    st = job.result().get_counts(combined_circs[other_key])\n",
    "    if \"0\"*n in st:\n",
    "        sim_score = st[\"0\"*n]/shots\n",
    "    else:\n",
    "        sim_score = 0.0\n",
    "    \n",
    "    print(\"Similarity score of\",key,\"and\",other_key,\"is\",sim_score)\n",
    "    if most_similar_score < sim_score:\n",
    "        most_similar, most_similar_score = other_key, sim_score\n",
    "\n",
    "print(\"[ANSWER]\", key,\"is most similar to\", most_similar)"
   ]
  },
  {
   "cell_type": "markdown",
   "metadata": {},
   "source": [
    "<ul>\n",
    "    <li>Cómo puede representar estos cuatro nucleótidos, en su nuevo programa descrito en\n",
    "Qiskit?</li>\n",
    "    <p style='text-align: justify;'>\n",
    "        Las cuatro bases nitrogenadas al ser expresadas en base 2, tiene una combinatoria de 2, desde 00 a 11 para cada base, de esta manera se anexa este habilitador a cada una de las n combinatorias determinada por la longitud de la cadena de genes, siendo esta la parte clave para que el algoritmo base del gen expresado 'M', pueda funcionar con las cuatro bases nitrogenadas.\n",
    "    </p>\n",
    "</ul>  \n",
    "<ul>\n",
    "    <li>Cómo se puede representar en Qiskit cada una de las secuencias genéticas indicadas en\n",
    "la página anterior?</li>\n",
    "    <p style='text-align: justify;'>\n",
    "        Teniendo presente la respuesta a la anterior pregunta y la explicacion base de la comparacion del gen 'M', cada base nitrogenada se encuentra en una posicion que se determina por el habilitador, ya sea 00 a 11, a partir de esto se diseña el vector del estado cuantico, con la consideracion de que se trabaja en base 2\n",
    "    </p>\n",
    "</ul>  "
   ]
  },
  {
   "cell_type": "markdown",
   "metadata": {},
   "source": [
    "## CONCLUSIONES\n",
    "\n",
    "<ul>\n",
    "    <li><p style='text-align: justify;'>\n",
    "        Con este ejemplo base se abre la puerta a comprender la teoria y las ventajas que tiene la computacion cuantica, poder analizar bases nitrogenadas mas grandes para analizar el comportamiento de los virus, bacterias en ciertas bases nitrogenadas del ser humano y sus posibles consecuencias.</p></li>\n",
    "    <li><p style='text-align: justify;'>\n",
    "        La inversa desde la base matematica permite \"retroceder\" en un proceso y obtener las condiciones iniciales, de esta manera al aplicarlo al resultado del circuito cuantico, se generan las combinaciones que mayor similitud, donde re reconstruye a partir de la comparacion de las secuencias los genes con mayor prevalencia.</p></li>\n",
    "    <li><p style='text-align: justify;'>\n",
    "        Se puede ver en terminos de complejidad computacional como son efectuadas la simulación de las cadenas proteínicas vistos en este informe, que, en terminos de la notación de Big O que su conumo de recursos no es mas que de una forma logaritmica $O(\\log(N))$, lo que resume de manera abismal su desempeño frente a sitemascomputacionales clásicos. puesto que en la medida que aumenta la cantidad de caracteres en la cadena su comportamiento en terminos de tiempo de respuesta puede ser menor en una máquina cuántica que en una máquina clásica</p></li>\n",
    "    <li><p style='text-align: justify;'>\n",
    "        El campo de la bioinformática y la ingeniería genética podría pensar a futuro, con la mejora y desarrollo de las máquinas cuánticas, mayores condiciones para simular diferentes problemas que en la actualidad son puestos en espera debido a las limitaciones físicas de equipos. Facilitando la mejora continua de fabricación de cultivos mas resistentes y productivos, resolución de curas para enfermedades y mejora en la calidad de vida del ser humano. \n",
    "        </p></li>\n",
    " \n",
    "</ul>  "
   ]
  },
  {
   "cell_type": "markdown",
   "metadata": {},
   "source": [
    "## REFERENCIAS BIBLIOGRÁFICAS\n",
    "\n",
    "1. [Inverse gate](https://cirq.readthedocs.io/en/stable/gates.htm)\n",
    "2. [Math Inverse ](https://math.stackexchange.com/questions/1684029/why-is-being-onto-necessary-for-a-function-to-have-inverse)\n",
    "3. [Gate to uncompute](https://qiskit.org/documentation/stubs/qiskit.extensions.Initialize.gates_to_uncompute.html?highlight=gates_to_uncompute)\n",
    "4. [String comparasion](https://github.com/Qiskit/qiskit-community-tutorials/blob/master/hello_world/string_comparison.ipynb)\n",
    "5. [Bioinformática](https://www.genome.gov/es/genetics-glossary/Bioinformatica)\n",
    "6. [Strings, Languajes and DFA's](https://courses.engr.illinois.edu/cs373/sp2009/lectures/lect_02.pdf)"
   ]
  }
 ],
 "metadata": {
  "kernelspec": {
   "display_name": "Python 3",
   "language": "python",
   "name": "python3"
  },
  "language_info": {
   "codemirror_mode": {
    "name": "ipython",
    "version": 3
   },
   "file_extension": ".py",
   "mimetype": "text/x-python",
   "name": "python",
   "nbconvert_exporter": "python",
   "pygments_lexer": "ipython3",
   "version": "3.7.8"
  }
 },
 "nbformat": 4,
 "nbformat_minor": 4
}
