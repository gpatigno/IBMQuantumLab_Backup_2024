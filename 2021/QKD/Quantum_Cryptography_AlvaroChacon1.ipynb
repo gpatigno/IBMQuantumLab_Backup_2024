{
 "cells": [
  {
   "cell_type": "code",
   "execution_count": 1,
   "metadata": {},
   "outputs": [
    {
     "name": "stderr",
     "output_type": "stream",
     "text": [
      "<frozen importlib._bootstrap>:219: RuntimeWarning: scipy._lib.messagestream.MessageStream size changed, may indicate binary incompatibility. Expected 56 from C header, got 64 from PyObject\n"
     ]
    }
   ],
   "source": [
    "%matplotlib inline\n",
    "# Importing standard Qiskit libraries and configuring account\n",
    "from qiskit import QuantumCircuit, ClassicalRegister, QuantumRegister, BasicAer,execute, Aer, IBMQ\n",
    "from qiskit.compiler import transpile, assemble\n",
    "from qiskit.tools.jupyter import *\n",
    "from qiskit.visualization import *\n",
    "# Loading your IBM Q account(s)\n",
    "provider = IBMQ.load_account()\n",
    "#other useful packages\n",
    "import math\n",
    "import matplotlib.pyplot as plt\n",
    "%matplotlib inline\n",
    "import numpy as np"
   ]
  },
  {
   "cell_type": "markdown",
   "metadata": {},
   "source": [
    "## Elección de mensaje secreto"
   ]
  },
  {
   "cell_type": "code",
   "execution_count": 2,
   "metadata": {},
   "outputs": [
    {
     "name": "stdout",
     "output_type": "stream",
     "text": [
      "Your super secret message:  hello world\n",
      "Initial key length:  33\n"
     ]
    }
   ],
   "source": [
    "#Secret message\n",
    "mes = 'hello world'\n",
    "print('Your super secret message: ',mes)\n",
    "\n",
    "#initial size of key\n",
    "n = len(mes)*3\n",
    "\n",
    "#break up message into smaller parts if length > 10\n",
    "nlist = []\n",
    "for i in range(int(n/10)):\n",
    "    nlist.append(10)\n",
    "if n%10 != 0:\n",
    "    nlist.append(n%10)\n",
    "\n",
    "print('Initial key length: ',n)"
   ]
  },
  {
   "cell_type": "markdown",
   "metadata": {},
   "source": [
    "## Paso 1: Generar una clave aleatoria en Alice"
   ]
  },
  {
   "cell_type": "code",
   "execution_count": 3,
   "metadata": {},
   "outputs": [],
   "source": [
    "\n",
    "# Make random strings of length string_length\n",
    "\n",
    "def randomStringGen(string_length):\n",
    "    #output variables used to access quantum computer results at the end of the function\n",
    "    output_list = []\n",
    "    output = ''\n",
    "    \n",
    "    #start up your quantum circuit information\n",
    "    backend = BasicAer.get_backend('qasm_simulator')  \n",
    "    circuits = ['rs']\n",
    "    \n",
    "    #run circuit in batches of 10 qubits for fastest results. The results\n",
    "    #from each run will be appended and then clipped down to the right n size.\n",
    "    n = string_length\n",
    "    temp_n = 10\n",
    "    temp_output = ''\n",
    "    for i in range(math.ceil(n/temp_n)):\n",
    "        #initialize quantum registers for circuit\n",
    "        q = QuantumRegister(temp_n, name='q')\n",
    "        c = ClassicalRegister(temp_n, name='c')\n",
    "        rs = QuantumCircuit(q, c, name='rs')\n",
    "            \n",
    "        #create temp_n number of qubits all in superpositions\n",
    "        for i in range(temp_n):\n",
    "            rs.h(q[i]) #the .h gate is the Hadamard gate that makes superpositions\n",
    "            rs.measure(q[i],c[i])\n",
    "\n",
    "        #execute circuit and extract 0s and 1s from key\n",
    "        result = execute(rs, backend, shots=1).result()\n",
    "        counts = result.get_counts(rs)\n",
    "        result_key = list(result.get_counts(rs).keys())\n",
    "        temp_output = result_key[0]\n",
    "        output += temp_output\n",
    "        \n",
    "    #return output clipped to size of desired string length\n",
    "    return output[:n]"
   ]
  },
  {
   "cell_type": "code",
   "execution_count": 4,
   "metadata": {},
   "outputs": [
    {
     "name": "stdout",
     "output_type": "stream",
     "text": [
      "Initial key:  001010010101101101101110011110101\n"
     ]
    }
   ],
   "source": [
    "key = randomStringGen(n)\n",
    "print('Initial key: ',key)"
   ]
  },
  {
   "cell_type": "markdown",
   "metadata": {},
   "source": [
    "## Pasos 2-4: Enviar los Qubits de Alice a Bob"
   ]
  },
  {
   "cell_type": "code",
   "execution_count": 5,
   "metadata": {},
   "outputs": [
    {
     "name": "stdout",
     "output_type": "stream",
     "text": [
      "Alice's rotation string: 100110011100000110010001011110011\n",
      "Bob's rotation string:   001111111101010010001010101111101\n",
      "Bob's results:  100011010101111101100110011111101\n"
     ]
    }
   ],
   "source": [
    "#generate random rotation strings for Alice and Bob\n",
    "Alice_rotate = randomStringGen(n)\n",
    "Bob_rotate = randomStringGen(n)\n",
    "print(\"Alice's rotation string:\",Alice_rotate)\n",
    "print(\"Bob's rotation string:  \",Bob_rotate)\n",
    "\n",
    "#start up your quantum program\n",
    "backend = BasicAer.get_backend('qasm_simulator')  \n",
    "shots = 1\n",
    "circuits = ['send_over']\n",
    "Bob_result = ''\n",
    "\n",
    "for ind,l in enumerate(nlist):\n",
    "    #define temp variables used in breaking up quantum program if message length > 10\n",
    "    if l < 10:\n",
    "        key_temp = key[10*ind:10*ind+l]\n",
    "        Ar_temp = Alice_rotate[10*ind:10*ind+l]\n",
    "        Br_temp = Bob_rotate[10*ind:10*ind+l]\n",
    "    else:\n",
    "        key_temp = key[l*ind:l*(ind+1)]\n",
    "        Ar_temp = Alice_rotate[l*ind:l*(ind+1)]\n",
    "        Br_temp = Bob_rotate[l*ind:l*(ind+1)]\n",
    "    \n",
    "    #start up the rest of your quantum circuit information\n",
    "    q = QuantumRegister(l, name='q')\n",
    "    c = ClassicalRegister(l, name='c')\n",
    "    send_over = QuantumCircuit(q, c, name='send_over')\n",
    "    \n",
    "    #prepare qubits based on key; add Hadamard gates based on Alice's and Bob's\n",
    "    #rotation strings\n",
    "    for i,j,k,n in zip(key_temp,Ar_temp,Br_temp,range(0,len(key_temp))):\n",
    "        i = int(i)\n",
    "        j = int(j)\n",
    "        k = int(k)\n",
    "        if i > 0:\n",
    "            send_over.x(q[n])\n",
    "        #Look at Alice's rotation string\n",
    "        if j > 0:\n",
    "            send_over.h(q[n])\n",
    "        #Look at Bob's rotation string\n",
    "        if k > 0:\n",
    "            send_over.h(q[n])\n",
    "        send_over.measure(q[n],c[n])\n",
    "\n",
    "    #execute quantum circuit\n",
    "    result_so = execute([send_over], backend, shots=shots).result()\n",
    "    counts_so = result_so.get_counts(send_over)\n",
    "    result_key_so = list(result_so.get_counts(send_over).keys())\n",
    "    Bob_result += result_key_so[0][::-1]\n",
    "    \n",
    "print(\"Bob's results: \", Bob_result)"
   ]
  },
  {
   "cell_type": "markdown",
   "metadata": {},
   "source": [
    "## Pasos 5-6: Comparar cadenas de rotación y crear claves"
   ]
  },
  {
   "cell_type": "code",
   "execution_count": 6,
   "metadata": {},
   "outputs": [
    {
     "name": "stdout",
     "output_type": "stream",
     "text": [
      "Alice's key: 00110101101111111\n",
      "Bob's key:   00110101101111111\n"
     ]
    }
   ],
   "source": [
    "def makeKey(rotation1,rotation2,results):\n",
    "    key = ''\n",
    "    count = 0\n",
    "    for i,j in zip(rotation1,rotation2):\n",
    "        if i == j:\n",
    "            key += results[count]\n",
    "        count += 1\n",
    "    return key\n",
    "  \n",
    "Akey = makeKey(Bob_rotate,Alice_rotate,key)\n",
    "Bkey = makeKey(Bob_rotate,Alice_rotate,Bob_result)\n",
    "\n",
    "print(\"Alice's key:\",Akey)\n",
    "print(\"Bob's key:  \",Bkey)"
   ]
  },
  {
   "cell_type": "markdown",
   "metadata": {},
   "source": [
    "## Finalmente : Cifrar y descifrar usando la clave cuántica"
   ]
  },
  {
   "cell_type": "markdown",
   "metadata": {},
   "source": [
    "## Interceptacion de Eve a transmisión de Alice"
   ]
  },
  {
   "cell_type": "code",
   "execution_count": 7,
   "metadata": {},
   "outputs": [
    {
     "name": "stdout",
     "output_type": "stream",
     "text": [
      "Eve's results:  001010001101101011111111010110110\n"
     ]
    }
   ],
   "source": [
    "#start up your quantum program\n",
    "backend = BasicAer.get_backend('qasm_simulator')  \n",
    "shots = 1\n",
    "circuits = ['Eve']\n",
    "\n",
    "Eve_result = ''\n",
    "for ind,l in enumerate(nlist):\n",
    "    #define temp variables used in breaking up quantum program if message length > 10\n",
    "    if l < 10:\n",
    "        key_temp = key[10*ind:10*ind+l]\n",
    "        Ar_temp = Alice_rotate[10*ind:10*ind+l]\n",
    "    else:\n",
    "        key_temp = key[l*ind:l*(ind+1)]\n",
    "        Ar_temp = Alice_rotate[l*ind:l*(ind+1)]\n",
    "    \n",
    "    #start up the rest of your quantum circuit information\n",
    "    q = QuantumRegister(l, name='q')\n",
    "    c = ClassicalRegister(l, name='c')\n",
    "    Eve = QuantumCircuit(q, c, name='Eve')\n",
    "    \n",
    "    #prepare qubits based on key; add Hadamard gates based on Alice's and Bob's\n",
    "    #rotation strings\n",
    "    for i,j,n in zip(key_temp,Ar_temp,range(0,len(key_temp))):\n",
    "        i = int(i)\n",
    "        j = int(j)\n",
    "        if i > 0:\n",
    "            Eve.x(q[n])\n",
    "        if j > 0:\n",
    "            Eve.h(q[n])\n",
    "        Eve.measure(q[n],c[n])\n",
    "    \n",
    "    #execute\n",
    "    result_eve = execute(Eve, backend, shots=shots).result()\n",
    "    counts_eve = result_eve.get_counts()\n",
    "    result_key_eve = list(result_eve.get_counts().keys())\n",
    "    Eve_result += result_key_eve[0][::-1]\n",
    "\n",
    "print(\"Eve's results: \", Eve_result)"
   ]
  },
  {
   "cell_type": "markdown",
   "metadata": {},
   "source": [
    "## Engaño de Eve sobre Bob"
   ]
  },
  {
   "cell_type": "code",
   "execution_count": 8,
   "metadata": {},
   "outputs": [
    {
     "name": "stdout",
     "output_type": "stream",
     "text": [
      "Bob's previous results (w/o Eve): 100011010101111101100110011111101\n",
      "Bob's results from Eve:\t\t  000111100000111001111111110010111\n"
     ]
    }
   ],
   "source": [
    "#start up your quantum program\n",
    "backend = BasicAer.get_backend('qasm_simulator')  \n",
    "shots = 1\n",
    "circuits = ['Eve2']\n",
    "\n",
    "Bob_badresult = ''\n",
    "for ind,l in enumerate(nlist):\n",
    "    #define temp variables used in breaking up quantum program if message length > 10\n",
    "    if l < 10:\n",
    "        key_temp = key[10*ind:10*ind+l]\n",
    "        Eve_temp = Eve_result[10*ind:10*ind+l]\n",
    "        Br_temp = Bob_rotate[10*ind:10*ind+l]\n",
    "    else:\n",
    "        key_temp = key[l*ind:l*(ind+1)]\n",
    "        Eve_temp = Eve_result[l*ind:l*(ind+1)]\n",
    "        Br_temp = Bob_rotate[l*ind:l*(ind+1)]\n",
    "    \n",
    "    #start up the rest of your quantum circuit information\n",
    "    q = QuantumRegister(l, name='q')\n",
    "    c = ClassicalRegister(l, name='c')\n",
    "    Eve2 = QuantumCircuit(q , c, name='Eve2')\n",
    "    \n",
    "    #prepare qubits\n",
    "    for i,j,n in zip(Eve_temp,Br_temp,range(0,len(key_temp))):\n",
    "        i = int(i)\n",
    "        j = int(j)\n",
    "        if i > 0:\n",
    "            Eve2.x(q[n])\n",
    "        if j > 0:\n",
    "            Eve2.h(q[n])\n",
    "        Eve2.measure(q[n],c[n])\n",
    "    \n",
    "    #execute\n",
    "    result_eve = execute(Eve2, backend, shots=shots).result()\n",
    "    counts_eve = result_eve.get_counts()\n",
    "    result_key_eve = list(result_eve.get_counts().keys())\n",
    "    Bob_badresult += result_key_eve[0][::-1]\n",
    "    \n",
    "print(\"Bob's previous results (w/o Eve):\",Bob_result)\n",
    "print(\"Bob's results from Eve:\\t\\t \",Bob_badresult)"
   ]
  },
  {
   "cell_type": "markdown",
   "metadata": {},
   "source": [
    "## Verificacion"
   ]
  },
  {
   "cell_type": "code",
   "execution_count": 9,
   "metadata": {},
   "outputs": [
    {
     "name": "stdout",
     "output_type": "stream",
     "text": [
      "Alice's key:    00110101101111111\n",
      "Bob's key:      01100001101110011\n",
      "spots to check: 11101011111001101\n"
     ]
    }
   ],
   "source": [
    "#make keys for Alice and Bob\n",
    "Akey = makeKey(Bob_rotate,Alice_rotate,key)\n",
    "Bkey = makeKey(Bob_rotate,Alice_rotate,Bob_badresult)\n",
    "print(\"Alice's key:   \",Akey)\n",
    "print(\"Bob's key:     \",Bkey)\n",
    "\n",
    "check_key = randomStringGen(len(Akey))\n",
    "print('spots to check:',check_key)"
   ]
  },
  {
   "cell_type": "markdown",
   "metadata": {},
   "source": [
    "## Comparacion de cadenas y detección de Eve"
   ]
  },
  {
   "cell_type": "code",
   "execution_count": 10,
   "metadata": {},
   "outputs": [
    {
     "name": "stdout",
     "output_type": "stream",
     "text": [
      "subset of Alice's key: 001001101111\n",
      "subset of Bob's key:   011001101001\n",
      "Eve detected!\n"
     ]
    }
   ],
   "source": [
    "#find which values in rotation string were used to make the key\n",
    "Alice_keyrotate = makeKey(Bob_rotate,Alice_rotate,Alice_rotate)\n",
    "Bob_keyrotate = makeKey(Bob_rotate,Alice_rotate,Bob_rotate)\n",
    "\n",
    "# Detect Eve's interference\n",
    "#extract a subset of Alice's key\n",
    "sub_Akey = ''\n",
    "sub_Arotate = ''\n",
    "count = 0\n",
    "for i,j in zip(Alice_rotate,Akey):\n",
    "    if int(check_key[count]) == 1:\n",
    "        sub_Akey += Akey[count]\n",
    "        sub_Arotate += Alice_keyrotate[count]\n",
    "    count += 1\n",
    "\n",
    "#extract a subset of Bob's key\n",
    "sub_Bkey = ''\n",
    "sub_Brotate = ''\n",
    "count = 0\n",
    "for i,j in zip(Bob_rotate,Bkey):\n",
    "    if int(check_key[count]) == 1:\n",
    "        sub_Bkey += Bkey[count]\n",
    "        sub_Brotate += Bob_keyrotate[count]\n",
    "    count += 1\n",
    "print(\"subset of Alice's key:\",sub_Akey)\n",
    "print(\"subset of Bob's key:  \",sub_Bkey)\n",
    "\n",
    "#compare Alice and Bob's key subsets\n",
    "secure = True\n",
    "for i,j in zip(sub_Akey,sub_Bkey):\n",
    "    if i == j:\n",
    "        secure = True\n",
    "    else:\n",
    "        secure = False\n",
    "        break;\n",
    "if not secure:\n",
    "    print('Eve detected!')\n",
    "else:\n",
    "    print('Eve escaped detection!')\n",
    "\n",
    "#sub_Akey and sub_Bkey are public knowledge now, so we remove them from Akey and Bkey\n",
    "if secure:\n",
    "    new_Akey = ''\n",
    "    new_Bkey = ''\n",
    "    for index,i in enumerate(check_key):\n",
    "        if int(i) == 0:\n",
    "            new_Akey += Akey[index]\n",
    "            new_Bkey += Bkey[index]\n",
    "    print('new A and B keys: ',new_Akey,new_Bkey)\n",
    "    if(len(mes)>len(new_Akey)):\n",
    "        print('Your new key is not long enough.')"
   ]
  },
  {
   "cell_type": "code",
   "execution_count": null,
   "metadata": {},
   "outputs": [],
   "source": []
  }
 ],
 "metadata": {
  "kernelspec": {
   "display_name": "Python 3 (ipykernel)",
   "language": "python",
   "name": "python3"
  },
  "language_info": {
   "codemirror_mode": {
    "name": "ipython",
    "version": 3
   },
   "file_extension": ".py",
   "mimetype": "text/x-python",
   "name": "python",
   "nbconvert_exporter": "python",
   "pygments_lexer": "ipython3",
   "version": "3.8.13"
  },
  "widgets": {
   "application/vnd.jupyter.widget-state+json": {
    "state": {},
    "version_major": 2,
    "version_minor": 0
   }
  }
 },
 "nbformat": 4,
 "nbformat_minor": 4
}
