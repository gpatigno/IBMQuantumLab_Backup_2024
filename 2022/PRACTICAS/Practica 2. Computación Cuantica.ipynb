{
 "cells": [
  {
   "cell_type": "code",
   "execution_count": null,
   "metadata": {
    "id": "62g8JIoEwG5T"
   },
   "outputs": [],
   "source": [
    "!pip install qiskit"
   ]
  },
  {
   "cell_type": "code",
   "execution_count": null,
   "metadata": {
    "id": "BNFso2j8n_cU"
   },
   "outputs": [],
   "source": [
    "!pip install ibm_quantum_widgets"
   ]
  },
  {
   "cell_type": "markdown",
   "metadata": {
    "id": "ADx1Q9c_woKx"
   },
   "source": [
    "# **Informe de Práctica No. 2**\n",
    "\n",
    "> Generación cuántica de números aleatorios\n",
    "\n",
    "> Computación Cuántica\n",
    "\n",
    "## **Presentado por:**\n",
    "\n",
    "> Dolph Brandon Hincapié Fernández CC: 1001545453\n",
    "\n",
    "> Jonathan Restrepo Rivas CC: 1116160359\n",
    "\n",
    "> Carlos Alfonso Arbeláez Acevefo CC: 1152226489\n",
    "\n",
    "\n",
    "\n",
    "\n",
    "Departamento de Ingeniería Electrónica y Telecomunicaciones \n",
    "\n",
    "Universidad de Antioquia \n",
    "\n",
    "2021-2\n",
    "\n"
   ]
  },
  {
   "cell_type": "markdown",
   "metadata": {
    "id": "XPe46BrJxUlp"
   },
   "source": [
    "## **Generación cuántica de números aleatorios**\n",
    "\n",
    "> Luego de verificar su correcta instalación local de la plataforma Qiskit, descargue el programa encontrado en el siguiente enlace, y abra en su entorno de trabajo el código fuente descargado: "
   ]
  },
  {
   "cell_type": "markdown",
   "metadata": {
    "id": "Im33APLBzRay"
   },
   "source": [
    "> Estudie este código y explique cómo este programa realiza la generación de números aleatorios. \n",
    "\n",
    ">> ¿Qué hacen las compuertas Hadamard en este circuito, y cuál es su papel en la generación del número aleatorio resultante?  \n",
    "\n",
    ">>> Las compuertas Hadamard generan una probabilidad de 50% de que de uno o cero, por lo tanto cada vez que se mida el qubit con esta compuerta nos puede salir de manera aleatoria un uno y un cero, si bien analizamos la combinacion de 1 y 0 posibles que pueden dar, cada ocasion podriamos obtener un numero totalmente diferente."
   ]
  },
  {
   "cell_type": "markdown",
   "metadata": {
    "id": "xQ11CU9Ez_uB"
   },
   "source": [
    ">> ¿Por qué en la ejecución del circuito sólo se realiza un disparo (shot)?\n",
    ">>> No buscamos medir la probabilidad de cuantas veces nos da un resultado en medio de la corrida del sistema, buscamos generar un codigo aleatorio de 1s y 0s, con un solo disparo nos aseguramos de que no se generen una lista de valores si no que obtengamos un unico valor."
   ]
  },
  {
   "cell_type": "markdown",
   "metadata": {
    "id": "_6BiS5Wc3Lvw"
   },
   "source": [
    ">> ¿Tendría utilidad realizar más de un disparo en la ejecución de este circuito? Explique. \n",
    ">>> No seria necesario puesto que mas de un shot generaria varios resultados, lo cual en este caso se tomaria el numero con mayor probabilidad, asi que si se quiere un numero aleatorio inmediato con un solo shot seria mas que suficiente."
   ]
  },
  {
   "cell_type": "markdown",
   "metadata": {
    "id": "PnRY_Vio3m7w"
   },
   "source": [
    ">> ¿En este código fuente compartido, qué hace la siguiente instrucción? Explique.  \n",
    "\n",
    ">> int(counts.most_frequent(), 2)\n",
    "\n",
    ">>> Toma el numero binario con mayor frecuencia (En el caso del codigo compartido solo hay un valor) y lo convierte en numero entero, el cual representa el numero aleatorio."
   ]
  },
  {
   "cell_type": "markdown",
   "metadata": {
    "id": "tjr4YGQo4263"
   },
   "source": [
    "## **Permutación de qubits en Qiskit**\n",
    "\n",
    "> Ingrese  al  siguiente  tutorial  sobre  permutación  de  qubits  en Qiskit  y  estudie  el  código compartido1: \n",
    "\n",
    ">> https://quantumcomputinguk.org/tutorials/creating-qubit-permutations-in-qiskit-with-code"
   ]
  },
  {
   "cell_type": "markdown",
   "metadata": {
    "id": "lYrW_qwZ5RR_"
   },
   "source": [
    "> Explique qué hace este programa, y cuáles son las instrucciones más relevantes de este código fuente.\n",
    "\n",
    ">> Basicamente este codigo realiza una permutación de qubits ubicando cada qubit en una posicion diferente.\n",
    "\n",
    ">> Lo mas relevante en este codigo es la funcion de abajo, la cual realiza la permutacion recibiendo el numero de qbits, el patron al que queremos permutar y/o la semilla de permutacion:\n",
    "\n",
    ">>> Permutation(num_qubits, pattern=None, seed=None)"
   ]
  },
  {
   "cell_type": "markdown",
   "metadata": {
    "id": "Joj32Y0Pz3os"
   },
   "source": [
    "> Modifique el circuito definido en este programa, y realice la permutación de 10 qubits de los cuales  cinco  qubits  se  inicializan  con  las  tres  compuertas  cuánticas  asignadas:\n",
    "*   T\n",
    "*   S\n",
    "*   H\n",
    "\n"
   ]
  },
  {
   "cell_type": "code",
   "execution_count": null,
   "metadata": {
    "id": "MnDuZcVY0IQw"
   },
   "outputs": [],
   "source": [
    "from qiskit import QuantumRegister, ClassicalRegister\n",
    "from qiskit import QuantumCircuit, execute,IBMQ\n",
    "from qiskit.circuit.library import Permutation\n",
    "from qiskit.tools.monitor import job_monitor"
   ]
  },
  {
   "cell_type": "code",
   "execution_count": null,
   "metadata": {
    "id": "CHXA_-AyoJbk"
   },
   "outputs": [],
   "source": [
    "my_api = '24b3e39a67e4b78e8f9bc8a67005f2c6c967dc143a3b4c7c9d9767f5eee53f6df5ab60b90ba86d210c5b964f661ed1a502668e5bd1a02371b5e61d9254a57496'\n",
    "IBMQ.enable_account(my_api)\n",
    "provider = IBMQ.get_provider(hub='ibm-q')"
   ]
  },
  {
   "cell_type": "code",
   "execution_count": null,
   "metadata": {
    "id": "nz50xWFtodJP"
   },
   "outputs": [],
   "source": [
    "backend = provider.get_backend('ibmq_qasm_simulator')"
   ]
  },
  {
   "cell_type": "code",
   "execution_count": null,
   "metadata": {
    "id": "1NFkwMD8ojE_"
   },
   "outputs": [],
   "source": [
    "q = QuantumRegister(10, 'q')\n",
    "c = ClassicalRegister(10, 'c')"
   ]
  },
  {
   "cell_type": "code",
   "execution_count": null,
   "metadata": {
    "id": "d6RHRfn_pSZf"
   },
   "outputs": [],
   "source": [
    "circuit = QuantumCircuit(q, c)"
   ]
  },
  {
   "cell_type": "code",
   "execution_count": null,
   "metadata": {
    "colab": {
     "base_uri": "https://localhost:8080/"
    },
    "id": "Xtig0x3svSWk",
    "outputId": "60d2169f-b12f-4326-b3a8-e02b392a69b3"
   },
   "outputs": [
    {
     "data": {
      "text/plain": [
       "<qiskit.circuit.instructionset.InstructionSet at 0x7f31b349d990>"
      ]
     },
     "execution_count": 8,
     "metadata": {},
     "output_type": "execute_result"
    }
   ],
   "source": [
    "circuit.h(q[0])\n",
    "circuit.s(q[2])\n",
    "circuit.t(q[4])\n",
    "circuit.h(q[6])\n",
    "circuit.h(q[8])"
   ]
  },
  {
   "cell_type": "code",
   "execution_count": null,
   "metadata": {
    "colab": {
     "base_uri": "https://localhost:8080/",
     "height": 371
    },
    "id": "JbVnDWznyJgb",
    "outputId": "14af3c55-627b-485c-ddba-7cbe5fb55d26"
   },
   "outputs": [
    {
     "data": {
      "text/html": [
       "<pre style=\"word-wrap: normal;white-space: pre;background: #fff0;line-height: 1.1;font-family: &quot;Courier New&quot;,Courier,monospace\">      ┌───┐\n",
       " q_0: ┤ H ├\n",
       "      └───┘\n",
       " q_1: ─────\n",
       "      ┌───┐\n",
       " q_2: ┤ S ├\n",
       "      └───┘\n",
       " q_3: ─────\n",
       "      ┌───┐\n",
       " q_4: ┤ T ├\n",
       "      └───┘\n",
       " q_5: ─────\n",
       "      ┌───┐\n",
       " q_6: ┤ H ├\n",
       "      └───┘\n",
       " q_7: ─────\n",
       "      ┌───┐\n",
       " q_8: ┤ H ├\n",
       "      └───┘\n",
       " q_9: ─────\n",
       "           \n",
       "c: 10/═════\n",
       "           </pre>"
      ],
      "text/plain": [
       "      ┌───┐\n",
       " q_0: ┤ H ├\n",
       "      └───┘\n",
       " q_1: ─────\n",
       "      ┌───┐\n",
       " q_2: ┤ S ├\n",
       "      └───┘\n",
       " q_3: ─────\n",
       "      ┌───┐\n",
       " q_4: ┤ T ├\n",
       "      └───┘\n",
       " q_5: ─────\n",
       "      ┌───┐\n",
       " q_6: ┤ H ├\n",
       "      └───┘\n",
       " q_7: ─────\n",
       "      ┌───┐\n",
       " q_8: ┤ H ├\n",
       "      └───┘\n",
       " q_9: ─────\n",
       "           \n",
       "c: 10/═════\n",
       "           "
      ]
     },
     "execution_count": 9,
     "metadata": {},
     "output_type": "execute_result"
    }
   ],
   "source": [
    "circuit.draw()"
   ]
  },
  {
   "cell_type": "code",
   "execution_count": null,
   "metadata": {
    "colab": {
     "base_uri": "https://localhost:8080/"
    },
    "id": "htvEF4BZyShM",
    "outputId": "499b03f8-4ce3-46ab-b8c4-26caa84ff061"
   },
   "outputs": [
    {
     "name": "stderr",
     "output_type": "stream",
     "text": [
      "/usr/local/lib/python3.7/dist-packages/ipykernel_launcher.py:1: DeprecationWarning: The QuantumCircuit.__iadd__() method is being deprecated. Use the compose() (potentially with the inplace=True argument) and tensor() methods which are more flexible w.r.t circuit register compatibility.\n",
      "  \"\"\"Entry point for launching an IPython kernel.\n"
     ]
    }
   ],
   "source": [
    "circuit += Permutation(num_qubits = 10)"
   ]
  },
  {
   "cell_type": "code",
   "execution_count": null,
   "metadata": {
    "colab": {
     "base_uri": "https://localhost:8080/"
    },
    "id": "KyGhAgxeybXk",
    "outputId": "186b4761-b8d7-4d11-9b83-922a494d594c"
   },
   "outputs": [
    {
     "data": {
      "text/plain": [
       "<qiskit.circuit.instructionset.InstructionSet at 0x7f31b333c690>"
      ]
     },
     "execution_count": 11,
     "metadata": {},
     "output_type": "execute_result"
    }
   ],
   "source": [
    "circuit.measure(q, c)"
   ]
  },
  {
   "cell_type": "code",
   "execution_count": null,
   "metadata": {
    "colab": {
     "base_uri": "https://localhost:8080/",
     "height": 371
    },
    "id": "0mx_E0VlykQ9",
    "outputId": "5b050db0-877a-42a3-d11e-510b7846bb32"
   },
   "outputs": [
    {
     "data": {
      "text/html": [
       "<pre style=\"word-wrap: normal;white-space: pre;background: #fff0;line-height: 1.1;font-family: &quot;Courier New&quot;,Courier,monospace\">      ┌───┐┌────────────────────────────────────┐┌─┐                           \n",
       " q_0: ┤ H ├┤0                                   ├┤M├───────────────────────────\n",
       "      └───┘│                                    │└╥┘┌─┐                        \n",
       " q_1: ─────┤1                                   ├─╫─┤M├────────────────────────\n",
       "      ┌───┐│                                    │ ║ └╥┘┌─┐                     \n",
       " q_2: ┤ S ├┤2                                   ├─╫──╫─┤M├─────────────────────\n",
       "      └───┘│                                    │ ║  ║ └╥┘┌─┐                  \n",
       " q_3: ─────┤3                                   ├─╫──╫──╫─┤M├──────────────────\n",
       "      ┌───┐│                                    │ ║  ║  ║ └╥┘┌─┐               \n",
       " q_4: ┤ T ├┤4                                   ├─╫──╫──╫──╫─┤M├───────────────\n",
       "      └───┘│  permutation_[8,6,9,4,1,2,5,7,0,3] │ ║  ║  ║  ║ └╥┘┌─┐            \n",
       " q_5: ─────┤5                                   ├─╫──╫──╫──╫──╫─┤M├────────────\n",
       "      ┌───┐│                                    │ ║  ║  ║  ║  ║ └╥┘┌─┐         \n",
       " q_6: ┤ H ├┤6                                   ├─╫──╫──╫──╫──╫──╫─┤M├─────────\n",
       "      └───┘│                                    │ ║  ║  ║  ║  ║  ║ └╥┘┌─┐      \n",
       " q_7: ─────┤7                                   ├─╫──╫──╫──╫──╫──╫──╫─┤M├──────\n",
       "      ┌───┐│                                    │ ║  ║  ║  ║  ║  ║  ║ └╥┘┌─┐   \n",
       " q_8: ┤ H ├┤8                                   ├─╫──╫──╫──╫──╫──╫──╫──╫─┤M├───\n",
       "      └───┘│                                    │ ║  ║  ║  ║  ║  ║  ║  ║ └╥┘┌─┐\n",
       " q_9: ─────┤9                                   ├─╫──╫──╫──╫──╫──╫──╫──╫──╫─┤M├\n",
       "           └────────────────────────────────────┘ ║  ║  ║  ║  ║  ║  ║  ║  ║ └╥┘\n",
       "c: 10/════════════════════════════════════════════╩══╩══╩══╩══╩══╩══╩══╩══╩══╩═\n",
       "                                                  0  1  2  3  4  5  6  7  8  9 </pre>"
      ],
      "text/plain": [
       "      ┌───┐┌────────────────────────────────────┐┌─┐                           \n",
       " q_0: ┤ H ├┤0                                   ├┤M├───────────────────────────\n",
       "      └───┘│                                    │└╥┘┌─┐                        \n",
       " q_1: ─────┤1                                   ├─╫─┤M├────────────────────────\n",
       "      ┌───┐│                                    │ ║ └╥┘┌─┐                     \n",
       " q_2: ┤ S ├┤2                                   ├─╫──╫─┤M├─────────────────────\n",
       "      └───┘│                                    │ ║  ║ └╥┘┌─┐                  \n",
       " q_3: ─────┤3                                   ├─╫──╫──╫─┤M├──────────────────\n",
       "      ┌───┐│                                    │ ║  ║  ║ └╥┘┌─┐               \n",
       " q_4: ┤ T ├┤4                                   ├─╫──╫──╫──╫─┤M├───────────────\n",
       "      └───┘│  permutation_[8,6,9,4,1,2,5,7,0,3] │ ║  ║  ║  ║ └╥┘┌─┐            \n",
       " q_5: ─────┤5                                   ├─╫──╫──╫──╫──╫─┤M├────────────\n",
       "      ┌───┐│                                    │ ║  ║  ║  ║  ║ └╥┘┌─┐         \n",
       " q_6: ┤ H ├┤6                                   ├─╫──╫──╫──╫──╫──╫─┤M├─────────\n",
       "      └───┘│                                    │ ║  ║  ║  ║  ║  ║ └╥┘┌─┐      \n",
       " q_7: ─────┤7                                   ├─╫──╫──╫──╫──╫──╫──╫─┤M├──────\n",
       "      ┌───┐│                                    │ ║  ║  ║  ║  ║  ║  ║ └╥┘┌─┐   \n",
       " q_8: ┤ H ├┤8                                   ├─╫──╫──╫──╫──╫──╫──╫──╫─┤M├───\n",
       "      └───┘│                                    │ ║  ║  ║  ║  ║  ║  ║  ║ └╥┘┌─┐\n",
       " q_9: ─────┤9                                   ├─╫──╫──╫──╫──╫──╫──╫──╫──╫─┤M├\n",
       "           └────────────────────────────────────┘ ║  ║  ║  ║  ║  ║  ║  ║  ║ └╥┘\n",
       "c: 10/════════════════════════════════════════════╩══╩══╩══╩══╩══╩══╩══╩══╩══╩═\n",
       "                                                  0  1  2  3  4  5  6  7  8  9 "
      ]
     },
     "execution_count": 12,
     "metadata": {},
     "output_type": "execute_result"
    }
   ],
   "source": [
    "circuit.draw()"
   ]
  },
  {
   "cell_type": "code",
   "execution_count": null,
   "metadata": {
    "colab": {
     "base_uri": "https://localhost:8080/"
    },
    "id": "UQ8dM-cMym31",
    "outputId": "2af37d88-3476-4daa-dab5-bde99eddfb72"
   },
   "outputs": [
    {
     "name": "stdout",
     "output_type": "stream",
     "text": [
      "Job Status: job has successfully run\n"
     ]
    }
   ],
   "source": [
    "job = execute(circuit, backend, shots=100)\n",
    "job_monitor(job)"
   ]
  },
  {
   "cell_type": "code",
   "execution_count": null,
   "metadata": {
    "colab": {
     "base_uri": "https://localhost:8080/"
    },
    "id": "FWaobr5KzAsn",
    "outputId": "211a9629-c1a6-49ad-ff86-69e337462936"
   },
   "outputs": [
    {
     "name": "stdout",
     "output_type": "stream",
     "text": [
      "{'0000000000': 18, '0000000001': 10, '0100000000': 10, '0100000001': 13, '0100000010': 12, '0100000011': 10, '0000000010': 12, '0000000011': 15}\n"
     ]
    }
   ],
   "source": [
    "counts = job.result().get_counts()\n",
    "print(counts)"
   ]
  },
  {
   "cell_type": "markdown",
   "metadata": {
    "id": "pgO3ZDUKzajy"
   },
   "source": [
    "> Explique matemáticamente la permutación realizada.\n",
    "\n",
    ">> Matematicamente no hay demasiado que explicar, si bien sabemos la formula de la permutacion es m! (m factorial) lo cual te da la cantidad de posiciones que pueden tomar los valores dentro de su numero, en este caso al usar 10 teniamos la posibilidad de obtener:\n",
    "\n",
    ">> P = 10! = 3628800 posiciones diferentes. \n",
    "\n",
    ">> En este caso de forma aleatoria tomo una de estas, como podemos observar en el circuito.\n",
    "\n",
    ">> Sabemos bien que la compuerta S y T afectan solamente a los qubits con probabilidad 1, en este caso todos comienzan en cero y las compuertas H dan un 50% de probabilidad de obtener 1 o 0, por lo tanto solo aquellas posiciones que quedaron con la compuerta H son las que tienen posibilidad de dar 1 o 0.\n",
    "\n",
    ">> En el caso anterior q0, q6 y q8 tenian las compuertas H que en la permutacion quedaron en la posicion q7,q8 y q2 respectivamente, por lo tanto son los unicos valores con posibilidad de obtener cero o uno. \n",
    "\n",
    ">> Pues bien, como vemos en nuestro codigo en los counts, solo estos valores cambian cuando los ejecuto multiples veces obteniendo de forma aleatoria uno de los siguientes numeros:\n",
    "* [0, 256, 260, 384, 388, 4, 128, 132]"
   ]
  },
  {
   "cell_type": "markdown",
   "metadata": {
    "id": "spABLlNRkHDC"
   },
   "source": [
    "## CODIGO PUNTO 4 GENERADOR DE NUMERO ALEATORIO CON PERMUTACION:"
   ]
  },
  {
   "cell_type": "code",
   "execution_count": null,
   "metadata": {
    "id": "wU--j0ggkR35"
   },
   "outputs": [],
   "source": [
    "from qiskit import QuantumRegister, ClassicalRegister\n",
    "from qiskit import QuantumCircuit, execute,IBMQ\n",
    "from qiskit.circuit.library import Permutation\n",
    "from qiskit.tools.monitor import job_monitor"
   ]
  },
  {
   "cell_type": "code",
   "execution_count": null,
   "metadata": {
    "id": "KmlPFPuOkkrB"
   },
   "outputs": [],
   "source": [
    "my_api = '24b3e39a67e4b78e8f9bc8a67005f2c6c967dc143a3b4c7c9d9767f5eee53f6df5ab60b90ba86d210c5b964f661ed1a502668e5bd1a02371b5e61d9254a57496'\n",
    "IBMQ.enable_account(my_api)\n",
    "provider = IBMQ.get_provider(hub='ibm-q')"
   ]
  },
  {
   "cell_type": "code",
   "execution_count": null,
   "metadata": {
    "id": "IGbib3m1lMHQ"
   },
   "outputs": [],
   "source": [
    "backend = provider.get_backend('ibmq_qasm_simulator')"
   ]
  },
  {
   "cell_type": "code",
   "execution_count": null,
   "metadata": {
    "colab": {
     "base_uri": "https://localhost:8080/"
    },
    "id": "AgkQumHglTi4",
    "outputId": "a11a3f57-f68f-4757-c3b6-d67028787454"
   },
   "outputs": [
    {
     "data": {
      "text/plain": [
       "<qiskit.circuit.instructionset.InstructionSet at 0x7ffa7634c710>"
      ]
     },
     "execution_count": 39,
     "metadata": {},
     "output_type": "execute_result"
    }
   ],
   "source": [
    "q = QuantumRegister(7, 'q')\n",
    "c = ClassicalRegister(7, 'c')\n",
    "\n",
    "circuit = QuantumCircuit(q, c)\n",
    "\n",
    "circuit.h(q[0])\n",
    "circuit.s(q[2])\n",
    "circuit.t(q[4])\n",
    "circuit.h(q[6])"
   ]
  },
  {
   "cell_type": "code",
   "execution_count": null,
   "metadata": {
    "colab": {
     "base_uri": "https://localhost:8080/"
    },
    "id": "yFQlYDOzqGPC",
    "outputId": "6d73e046-bc65-41ce-ea38-7a6f051c4a81"
   },
   "outputs": [
    {
     "name": "stderr",
     "output_type": "stream",
     "text": [
      "/usr/local/lib/python3.7/dist-packages/ipykernel_launcher.py:1: DeprecationWarning: The QuantumCircuit.__iadd__() method is being deprecated. Use the compose() (potentially with the inplace=True argument) and tensor() methods which are more flexible w.r.t circuit register compatibility.\n",
      "  \"\"\"Entry point for launching an IPython kernel.\n"
     ]
    }
   ],
   "source": [
    "circuit += Permutation(num_qubits = 7)"
   ]
  },
  {
   "cell_type": "code",
   "execution_count": null,
   "metadata": {
    "colab": {
     "base_uri": "https://localhost:8080/",
     "height": 279
    },
    "id": "o90-TIVHlXPA",
    "outputId": "c82ad04f-85f9-4f3a-f63a-6f72f9db4d00"
   },
   "outputs": [
    {
     "data": {
      "text/html": [
       "<pre style=\"word-wrap: normal;white-space: pre;background: #fff0;line-height: 1.1;font-family: &quot;Courier New&quot;,Courier,monospace\">     ┌───┐┌──────────────────────────────┐┌─┐                  \n",
       "q_0: ┤ H ├┤0                             ├┤M├──────────────────\n",
       "     └───┘│                              │└╥┘┌─┐               \n",
       "q_1: ─────┤1                             ├─╫─┤M├───────────────\n",
       "     ┌───┐│                              │ ║ └╥┘┌─┐            \n",
       "q_2: ┤ S ├┤2                             ├─╫──╫─┤M├────────────\n",
       "     └───┘│                              │ ║  ║ └╥┘┌─┐         \n",
       "q_3: ─────┤3 permutation_[2,6,3,4,5,0,1] ├─╫──╫──╫─┤M├─────────\n",
       "     ┌───┐│                              │ ║  ║  ║ └╥┘┌─┐      \n",
       "q_4: ┤ T ├┤4                             ├─╫──╫──╫──╫─┤M├──────\n",
       "     └───┘│                              │ ║  ║  ║  ║ └╥┘┌─┐   \n",
       "q_5: ─────┤5                             ├─╫──╫──╫──╫──╫─┤M├───\n",
       "     ┌───┐│                              │ ║  ║  ║  ║  ║ └╥┘┌─┐\n",
       "q_6: ┤ H ├┤6                             ├─╫──╫──╫──╫──╫──╫─┤M├\n",
       "     └───┘└──────────────────────────────┘ ║  ║  ║  ║  ║  ║ └╥┘\n",
       "c: 7/══════════════════════════════════════╩══╩══╩══╩══╩══╩══╩═\n",
       "                                           0  1  2  3  4  5  6 </pre>"
      ],
      "text/plain": [
       "     ┌───┐┌──────────────────────────────┐┌─┐                  \n",
       "q_0: ┤ H ├┤0                             ├┤M├──────────────────\n",
       "     └───┘│                              │└╥┘┌─┐               \n",
       "q_1: ─────┤1                             ├─╫─┤M├───────────────\n",
       "     ┌───┐│                              │ ║ └╥┘┌─┐            \n",
       "q_2: ┤ S ├┤2                             ├─╫──╫─┤M├────────────\n",
       "     └───┘│                              │ ║  ║ └╥┘┌─┐         \n",
       "q_3: ─────┤3 permutation_[2,6,3,4,5,0,1] ├─╫──╫──╫─┤M├─────────\n",
       "     ┌───┐│                              │ ║  ║  ║ └╥┘┌─┐      \n",
       "q_4: ┤ T ├┤4                             ├─╫──╫──╫──╫─┤M├──────\n",
       "     └───┘│                              │ ║  ║  ║  ║ └╥┘┌─┐   \n",
       "q_5: ─────┤5                             ├─╫──╫──╫──╫──╫─┤M├───\n",
       "     ┌───┐│                              │ ║  ║  ║  ║  ║ └╥┘┌─┐\n",
       "q_6: ┤ H ├┤6                             ├─╫──╫──╫──╫──╫──╫─┤M├\n",
       "     └───┘└──────────────────────────────┘ ║  ║  ║  ║  ║  ║ └╥┘\n",
       "c: 7/══════════════════════════════════════╩══╩══╩══╩══╩══╩══╩═\n",
       "                                           0  1  2  3  4  5  6 "
      ]
     },
     "execution_count": 41,
     "metadata": {},
     "output_type": "execute_result"
    }
   ],
   "source": [
    "circuit.measure(q, c)\n",
    "circuit.draw()"
   ]
  },
  {
   "cell_type": "code",
   "execution_count": null,
   "metadata": {
    "colab": {
     "base_uri": "https://localhost:8080/"
    },
    "id": "jQeYhVHnltnP",
    "outputId": "69efbfb8-c0d4-4186-9cea-56ed48588cfb"
   },
   "outputs": [
    {
     "name": "stdout",
     "output_type": "stream",
     "text": [
      "Job Status: job has successfully run\n"
     ]
    }
   ],
   "source": [
    "job = execute(circuit, backend, shots=1)\n",
    "job_monitor(job)\n",
    "counts = job.result().get_counts()\n",
    "result = int(counts.most_frequent(), 2)"
   ]
  },
  {
   "cell_type": "code",
   "execution_count": null,
   "metadata": {
    "colab": {
     "base_uri": "https://localhost:8080/"
    },
    "id": "b_5MXkCjovTF",
    "outputId": "217e44e1-dcb0-46e0-942c-e38c431cdda4"
   },
   "outputs": [
    {
     "name": "stdout",
     "output_type": "stream",
     "text": [
      "Counts:  {'1000010': 1} \n",
      "\n",
      "The random number is:  66 \n",
      "\n"
     ]
    }
   ],
   "source": [
    "print('Counts: ', counts, '\\n')\n",
    "\n",
    "print('The random number is: ', result, '\\n')"
   ]
  },
  {
   "cell_type": "markdown",
   "metadata": {},
   "source": [
    "## Conclusiones: \n",
    "\n",
    "* Las compuertas Hadamard generan una probabilidad de 50% de que de uno o cero, por lo tanto cada vez que se mida el qubit con esta compuerta nos puede salir de manera aleatoria un uno y un cero.\n",
    "\n",
    "* Con un solo disparo (shot) nos aseguramos de que no se generen una lista de valores si no que obtengamos un unico valor\n",
    "\n",
    "* Sabemos bien que la compuerta S y T afectan solamente a los qubits con probabilidad 1, en este caso todos comienzan en cero"
   ]
  }
 ],
 "metadata": {
  "colab": {
   "collapsed_sections": [],
   "name": "Untitled0.ipynb",
   "provenance": []
  },
  "kernelspec": {
   "display_name": "Python 3 (ipykernel)",
   "language": "python",
   "name": "python3"
  },
  "language_info": {
   "codemirror_mode": {
    "name": "ipython",
    "version": 3
   },
   "file_extension": ".py",
   "mimetype": "text/x-python",
   "name": "python",
   "nbconvert_exporter": "python",
   "pygments_lexer": "ipython3",
   "version": "3.8.13"
  },
  "widgets": {
   "application/vnd.jupyter.widget-state+json": {
    "state": {},
    "version_major": 2,
    "version_minor": 0
   }
  }
 },
 "nbformat": 4,
 "nbformat_minor": 4
}
