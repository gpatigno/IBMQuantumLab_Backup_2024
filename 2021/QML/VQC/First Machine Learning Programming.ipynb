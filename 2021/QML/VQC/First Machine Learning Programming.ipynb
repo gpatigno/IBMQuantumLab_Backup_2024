{
 "cells": [
  {
   "cell_type": "code",
   "execution_count": 1,
   "id": "ecd7f399-22a1-439d-8db8-4962747de2c5",
   "metadata": {},
   "outputs": [
    {
     "name": "stderr",
     "output_type": "stream",
     "text": [
      "<frozen importlib._bootstrap>:219: RuntimeWarning: scipy._lib.messagestream.MessageStream size changed, may indicate binary incompatibility. Expected 56 from C header, got 64 from PyObject\n"
     ]
    }
   ],
   "source": [
    "import numpy as np\n",
    "\n",
    "# Importing standard Qiskit libraries\n",
    "from qiskit import QuantumCircuit, transpile, Aer, IBMQ\n",
    "from qiskit.tools.jupyter import *\n",
    "from qiskit.visualization import *\n",
    "from ibm_quantum_widgets import *\n",
    "from qiskit.providers.aer import QasmSimulator\n",
    "\n",
    "# Loading your IBM Quantum account(s)\n",
    "provider = IBMQ.load_account()"
   ]
  },
  {
   "cell_type": "code",
   "execution_count": 2,
   "id": "742b08f5-d2ff-494e-931a-95fb1c3484b6",
   "metadata": {},
   "outputs": [],
   "source": [
    "from qiskit import BasicAer\n",
    "from qiskit.utils import QuantumInstance, algorithm_globals\n",
    "from qiskit.algorithms.optimizers import COBYLA\n",
    "from qiskit.circuit.library import TwoLocal\n",
    "from qiskit_machine_learning.algorithms import VQC\n",
    "from qiskit_machine_learning.datasets import wine\n",
    "from qiskit_machine_learning.circuit.library import RawFeatureVector\n",
    "\n",
    "seed = 1376\n",
    "algorithm_globals.random_seed = seed\n",
    "\n",
    "# Use Wine data set for training and test data\n",
    "feature_dim = 4  # dimension of each data point\n",
    "training_size = 12\n",
    "test_size = 4\n",
    "\n",
    "# training features, training labels, test features, test labels as np.array,\n",
    "# one hot encoding for labels\n",
    "training_features, training_labels, test_features, test_labels = \\\n",
    "    wine(training_size=training_size, test_size=test_size, n=feature_dim)"
   ]
  },
  {
   "cell_type": "code",
   "execution_count": 3,
   "id": "dbc8167e-6f10-4fa2-908c-940885405adf",
   "metadata": {},
   "outputs": [],
   "source": [
    "feature_map = RawFeatureVector(feature_dimension=feature_dim)\n",
    "ansatz = TwoLocal(feature_map.num_qubits, ['ry', 'rz'], 'cz', reps=3)"
   ]
  },
  {
   "cell_type": "code",
   "execution_count": 4,
   "id": "d456c44b-e6ef-4889-a2be-01758148feb2",
   "metadata": {},
   "outputs": [
    {
     "name": "stdout",
     "output_type": "stream",
     "text": [
      "Traceback \u001b[1;36m(most recent call last)\u001b[0m:\n",
      "  Input \u001b[0;32mIn [4]\u001b[0m in \u001b[0;35m<cell line: 8>\u001b[0m\n",
      "    adhoc_circuit.decompose().draw()\n",
      "  File \u001b[0;32m/opt/conda/lib/python3.8/site-packages/qiskit/circuit/library/blueprintcircuit.py:103\u001b[0m in \u001b[0;35mdecompose\u001b[0m\n",
      "    return super().decompose(gates_to_decompose)\n",
      "  File \u001b[0;32m/opt/conda/lib/python3.8/site-packages/qiskit/circuit/quantumcircuit.py:1530\u001b[0m in \u001b[0;35mdecompose\u001b[0m\n",
      "    decomposed_dag = pass_.run(circuit_to_dag(self))\n",
      "  File \u001b[0;32m/opt/conda/lib/python3.8/site-packages/qiskit/transpiler/passes/basis/decompose.py:90\u001b[0m in \u001b[0;35mrun\u001b[0m\n",
      "    if node.op.definition is None:\n",
      "  File \u001b[0;32m/opt/conda/lib/python3.8/site-packages/qiskit/circuit/instruction.py:232\u001b[0m in \u001b[0;35mdefinition\u001b[0m\n",
      "    self._define()\n",
      "\u001b[1;36m  File \u001b[1;32m/opt/conda/lib/python3.8/site-packages/qiskit_machine_learning/circuit/library/raw_feature_vector.py:170\u001b[1;36m in \u001b[1;35m_define\u001b[1;36m\u001b[0m\n",
      "\u001b[1;33m    raise QiskitError(\"Cannot define a ParameterizedInitialize with unbound parameters\")\u001b[0m\n",
      "\u001b[1;31mQiskitError\u001b[0m\u001b[1;31m:\u001b[0m 'Cannot define a ParameterizedInitialize with unbound parameters'\n",
      "\n",
      "Use %tb to get the full traceback.\n"
     ]
    },
    {
     "data": {
      "text/html": [
       "\n",
       "<style>\n",
       ".button {\n",
       "  border: none;\n",
       "  color: white;\n",
       "  padding: 4px 8px;\n",
       "  text-align: center;\n",
       "  text-decoration: none;\n",
       "  display: inline-block;\n",
       "  font-size: 12px;\n",
       "  margin: 4px 2px;\n",
       "  transition-duration: 0.2s;\n",
       "  cursor: pointer;\n",
       "}\n",
       ".iqx-button {\n",
       "  background-color: #0f62fe; \n",
       "  color: white; \n",
       "}\n",
       ".iqx-button:hover {\n",
       "  background-color: #0043ce;\n",
       "  color: white;\n",
       "}\n",
       "</style>\n",
       "<a href=\"https://stackoverflow.com/search?q=QiskitError: Cannot define a ParameterizedInitialize with unbound parameters\" target='_blank'><button class='button iqx-button'>Search for solution online</button></a>\n"
      ],
      "text/plain": [
       "<IPython.core.display.HTML object>"
      ]
     },
     "metadata": {},
     "output_type": "display_data"
    }
   ],
   "source": [
    "#from qiskit.circuit.library import ZZFeatureMap, TwoLocal\n",
    "\n",
    "#adhoc_feature_map = ZZFeatureMap(feature_dimension=2, reps=2)\n",
    "#adhoc_var_form = TwoLocal(2, ['ry', 'rz'], 'cz', reps=2)\n",
    "\n",
    "adhoc_circuit = feature_map.compose(ansatz)\n",
    "adhoc_circuit.measure_all()\n",
    "adhoc_circuit.decompose().draw()"
   ]
  },
  {
   "cell_type": "code",
   "execution_count": 2,
   "id": "e8c60fe6-2480-4086-ba0e-7c68a4045d23",
   "metadata": {},
   "outputs": [
    {
     "name": "stderr",
     "output_type": "stream",
     "text": [
      "Cannot compute gradient operator! Continuing without gradients!\n"
     ]
    },
    {
     "name": "stdout",
     "output_type": "stream",
     "text": [
      "Testing accuracy: 1.00\n"
     ]
    }
   ],
   "source": [
    "vqc = VQC(feature_map=feature_map,\n",
    "          ansatz=ansatz,\n",
    "          optimizer=COBYLA(maxiter=100),\n",
    "          quantum_instance=QuantumInstance(BasicAer.get_backend('statevector_simulator'),\n",
    "                                           shots=1024,\n",
    "                                           seed_simulator=seed,\n",
    "                                           seed_transpiler=seed)\n",
    "          )\n",
    "vqc.fit(training_features, training_labels)\n",
    "\n",
    "score = vqc.score(test_features, test_labels)\n",
    "print(f\"Testing accuracy: {score:0.2f}\")"
   ]
  },
  {
   "cell_type": "code",
   "execution_count": 4,
   "id": "3abde72b-36aa-4e49-a2e8-a8e356833e8f",
   "metadata": {},
   "outputs": [
    {
     "name": "stdout",
     "output_type": "stream",
     "text": [
      "[[1. 0. 0.]\n",
      " [0. 0. 1.]\n",
      " [0. 0. 1.]\n",
      " [0. 0. 1.]]\n"
     ]
    }
   ],
   "source": [
    "print(test_labels)"
   ]
  },
  {
   "cell_type": "code",
   "execution_count": null,
   "id": "2d670fe5-930b-4512-87f7-b60726a0ea5c",
   "metadata": {},
   "outputs": [],
   "source": []
  }
 ],
 "metadata": {
  "kernelspec": {
   "display_name": "Qiskit v0.34.2 (ipykernel)",
   "language": "python",
   "name": "python3"
  },
  "language_info": {
   "codemirror_mode": {
    "name": "ipython",
    "version": 3
   },
   "file_extension": ".py",
   "mimetype": "text/x-python",
   "name": "python",
   "nbconvert_exporter": "python",
   "pygments_lexer": "ipython3",
   "version": "3.8.12"
  },
  "widgets": {
   "application/vnd.jupyter.widget-state+json": {
    "state": {},
    "version_major": 2,
    "version_minor": 0
   }
  }
 },
 "nbformat": 4,
 "nbformat_minor": 5
}
