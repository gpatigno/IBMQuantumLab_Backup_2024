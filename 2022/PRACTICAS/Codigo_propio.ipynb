{
 "cells": [
  {
   "cell_type": "markdown",
   "metadata": {},
   "source": [
    "### Secuencias genéticas de los diferentes nimales"
   ]
  },
  {
   "cell_type": "code",
   "execution_count": 1,
   "metadata": {
    "ExecuteTime": {
     "end_time": "2018-09-25T16:52:52.597525Z",
     "start_time": "2018-09-25T16:52:52.593598Z"
    },
    "id": "3alSdf660Ujo"
   },
   "outputs": [],
   "source": [
    "CABALLO_A_2  = \"ATGGTGCTGTCTGCCGCCGACAAGACCAACGTCAAGGCCGCCTGGAGTAAGGTTGGCGGCCACGCTGGCGAGTATGGCGCAGAGGCCCTAGAGAGGATGTTCCTGGGCTTCCCCACCACCAAGACCTACTTCCCCCACTTCGATCTGAGCCACGGCTCCGCCCAGGTCAAGGCCCACGGCCAGAAGGTGGGCGACGCGCTGACTCTCGCCGTGGGCCACCTGGACGACCTGCCTGGCGCCCTGTCGAATCTGAGCGACCTGCACGCACACAAGCTGCGCGTGGACCCCGTCAACTTCAAGCTCCTGAGTCATTGCCTGCTGTCCACCTTGGCCGTCCACCTCCCCAACGATTTCACCCCTGCCGTCCACGCCTCCCTGGACAAGTTCTTGAGCAGTGTGAGCACCGTGCTGACCTCCAAATACCGTTAA\"\n",
    "CABRA_A_I    = \"ATGGTGCTGTCTGCCGCCGACAAGTCCAATGTCAAGGCCGCCTGGGGCAAGGTTGGCGGCAACGCTGGAGCTTATGGCGCAGAGGCTCTGGAGAGGATGTTCCTGAGCTTCCCCACCACCAAGACCTACTTCCCCCACTTCGACCTGAGCCACGGCTCGGCCCAGGTCAAGGGCCACGGCGAGAAGGTGGCCGCCGCGCTGACCAAAGCGGTGGGCCACCTGGACGACCTGCCCGGTACTCTGTCTGATCTGAGTGACCTGCACGCCCACAAGCTGCGTGTGGACCCGGTCAACTTTAAGCTTCTGAGCCACTCCCTGCTGGTGACCCTGGCCTGCCACCTCCCCAATGATTTCACCCCCGCGGTCCACGCCTCCCTGGACAAGTTCTTGGCCAACGTGAGCACCGTGCTGACCTCCAAATACCGTTAA\"\n",
    "GALLINA_A_D  = \"ATGCTGACTGCCGAGGACAAGAAGCTCATCCAGCAGGCCTGGGAGAGGGCCGCTTCCCACCAGGAGGAGTTTGGAGCTGAGGCTCTGACTAGGATGTTCACCACCTATCCCCAGACCAAGACCTACTTCCCCCACTTCGACCTTTCGCCTGGCTCTGACCAGGTCCGTGGCCATGGCAAGAAGGTGTTGGGTGCCCTGGGCAACGCCGTGAAGAACGTGGACAACCTCAGCCAGGCCATGGCTGAGCTGAGCAACCTGCATGCCTACAACCTGCGTGTTGACCCCGTCAATTTCAAGCTGTTGTCGCAGTGCATCCAGGTGGTGCTGGCTGTACACATGGGCAAAGACTACACCCCTGAAGTGCATGCTGCCTTCGACAAGTTCCTGTCTGCCGTGTCTGCTGTGCTGGCTGAGAAGTACAGATAA\"\n",
    "\n",
    "CABALLO_MOD  = \"ATGGTGCTGTCTGCCGCCGACAAGACCAACGTCAAGGCCGCCTGGAGTAAGGTTGGCGGCCACGCTGGCGAGTATGGCGCAGAGGCCCTAGAGAGGATGTTCCTGGGCTTCCCCACCACCAAGACCTACTTCCCCCACTTCGATCTGAGCCACGGCTCCGCCCAGGTCAAGGCCCACGGCCAGAAGGTGGGCGACGCGCTGACTCTCGCCGTGGGCCACCTGGACGACCTGCCTGGCGCCCTGTCGAATCTGAGCGACCTGCACGCACACAAGCTGCGCGTGGACCCCGTCAACTTCAAGCTCCTGAGTCATTGCCTGCTGTCCACCTTGGCCGTCCACCTCCCCAACGATTTCACCCCTGCCGTCCTCGCCTCCCTGGACAAGTTCTTGAGCAGTGTGAGCACCGTGCTGACCTCCAAATACCGTTAA\""
   ]
  },
  {
   "cell_type": "markdown",
   "metadata": {},
   "source": [
    "### Longitudes de las secuencias genéticas"
   ]
  },
  {
   "cell_type": "code",
   "execution_count": 2,
   "metadata": {},
   "outputs": [
    {
     "name": "stdout",
     "output_type": "stream",
     "text": [
      "429\n",
      "429\n",
      "426\n",
      "429\n"
     ]
    }
   ],
   "source": [
    "print(len(CABALLO_A_2))\n",
    "print(len(CABRA_A_I))\n",
    "print(len(GALLINA_A_D))\n",
    "print(len(CABALLO_MOD))"
   ]
  },
  {
   "cell_type": "markdown",
   "metadata": {},
   "source": [
    "### Librerias necesarias para la simulación"
   ]
  },
  {
   "cell_type": "code",
   "execution_count": 3,
   "metadata": {
    "ExecuteTime": {
     "end_time": "2018-09-25T16:52:53.178637Z",
     "start_time": "2018-09-25T16:52:53.170526Z"
    },
    "id": "DrIreivv0Ujt"
   },
   "outputs": [],
   "source": [
    "import sys\n",
    "import numpy as np\n",
    "import math\n",
    "\n",
    "from qiskit import QuantumCircuit, QuantumRegister, ClassicalRegister, execute, BasicAer, IBMQ\n",
    "from qiskit.visualization import plot_histogram, plot_bloch_multivector\n",
    "\n",
    "from qiskit.extensions import Initialize"
   ]
  },
  {
   "cell_type": "markdown",
   "metadata": {},
   "source": [
    "### Circuito para construir la superposición cuántica del bitstring"
   ]
  },
  {
   "cell_type": "code",
   "execution_count": 4,
   "metadata": {
    "ExecuteTime": {
     "end_time": "2018-09-25T16:52:53.351971Z",
     "start_time": "2018-09-25T16:52:53.339024Z"
    },
    "id": "06Ls5vxx0Ujw"
   },
   "outputs": [],
   "source": [
    "def encode_bitstring(bitstring, qr, cr, inverse=False):\n",
    "    \n",
    "    n = math.ceil(math.log2(len(bitstring))) +  2                #number of qubits\n",
    "    assert n > 4, \"the length of bitstring must be at least 2\"\n",
    "    \n",
    "    qc = QuantumCircuit(qr, cr)\n",
    "    \n",
    "    #the probability amplitude of the desired state\n",
    "    desired_vector = np.array([ 0.0 for i in range(2**n) ])     #initialize to zero\n",
    "    \n",
    "    qc_init = QuantumCircuit(n) # Creación de compuertas circuitales para inicialización\n",
    "    inverse_qc_init = QuantumCircuit(n) # Creación de compuertas circuitales para inversión de la inicialización\n",
    "\n",
    "    amplitude = np.sqrt(1.0/len(bitstring))\n",
    "    \n",
    "    for i, b in enumerate(bitstring):\n",
    "        pos = i * 4\n",
    "        # print(i)\n",
    "        # print(b)\n",
    "        # print(pos)\n",
    "        if b == \"A\":\n",
    "            desired_vector[pos] = amplitude\n",
    "        elif b == \"C\":\n",
    "            desired_vector[pos+1] = amplitude\n",
    "        elif b == \"G\":\n",
    "            desired_vector[pos+2] = amplitude\n",
    "        elif b == \"T\":\n",
    "            desired_vector[pos+3] = amplitude\n",
    "        # print(pos)\n",
    "        \n",
    "    # print(desired_vector[:50])\n",
    "    # print(len(desired_vector))\n",
    "    # print(sum((desired_vector)**2))\n",
    "\n",
    "    qc_init = Initialize(desired_vector)\n",
    "   \n",
    "    if not inverse:\n",
    "\n",
    "        qc.append(qc_init, qr)  #  \n",
    "    \n",
    "        qc.barrier(qr)\n",
    "        \n",
    "    else:\n",
    "\n",
    "        inverse_qc_init = qc_init.gates_to_uncompute()\n",
    "        qc.append(inverse_qc_init, qr)\n",
    "        \n",
    "        qc.barrier(qr)\n",
    "        for i in range(n):\n",
    "            qc.measure(qr[i], cr[i])\n",
    "    print()\n",
    "    return qc"
   ]
  },
  {
   "cell_type": "markdown",
   "metadata": {},
   "source": [
    "### Se crean los circuitos cuánticos para los estados de los códigos genéticos"
   ]
  },
  {
   "cell_type": "code",
   "execution_count": 5,
   "metadata": {
    "ExecuteTime": {
     "end_time": "2018-09-25T16:52:53.884331Z",
     "start_time": "2018-09-25T16:52:53.649109Z"
    },
    "id": "me0yXEUX0Ujy",
    "outputId": "7b7baa3d-c1ac-40b5-bca8-ec89e148306b"
   },
   "outputs": [
    {
     "name": "stdout",
     "output_type": "stream",
     "text": [
      "\n",
      "\n",
      "\n",
      "\n"
     ]
    }
   ],
   "source": [
    "n = math.ceil(math.log2(len(CABALLO_A_2))) + 2                 #number of qubits\n",
    "# print(n)\n",
    "qr = QuantumRegister(n)\n",
    "cr = ClassicalRegister(n)\n",
    "\n",
    "qc_caballo  = encode_bitstring(CABALLO_A_2, qr, cr)\n",
    "qc_cabra    = encode_bitstring(CABRA_A_I, qr, cr)\n",
    "qc_gallina  = encode_bitstring(GALLINA_A_D, qr, cr)\n",
    "\n",
    "qc_caballo_mod = encode_bitstring(CABALLO_MOD, qr, cr)\n",
    "\n",
    "circs = {\"CABALLO_A_2\": qc_caballo, \"CABRA_A_I\": qc_cabra, \"GALLINA_A_D\": qc_gallina, \"CABALLO_MOD\": qc_caballo_mod}"
   ]
  },
  {
   "cell_type": "markdown",
   "metadata": {
    "id": "8swHLkmQ0Uj0"
   },
   "source": [
    "### Se invierten los circuitos cuánticos"
   ]
  },
  {
   "cell_type": "code",
   "execution_count": 6,
   "metadata": {
    "ExecuteTime": {
     "end_time": "2018-09-25T16:52:54.207679Z",
     "start_time": "2018-09-25T16:52:53.960262Z"
    },
    "id": "tpLYghdI0Uj0",
    "outputId": "c9958e13-a282-4935-814a-5e72246f7ff4"
   },
   "outputs": [
    {
     "name": "stdout",
     "output_type": "stream",
     "text": [
      "\n",
      "\n",
      "\n",
      "\n"
     ]
    }
   ],
   "source": [
    "inverse_qc_caballo     = encode_bitstring(CABALLO_A_2, qr, cr, inverse=True)\n",
    "inverse_qc_cabra = encode_bitstring(CABRA_A_I,   qr, cr, inverse=True)\n",
    "inverse_qc_gallina = encode_bitstring(GALLINA_A_D, qr, cr, inverse=True)\n",
    "\n",
    "inverse_qc_caballo_mod = encode_bitstring(CABALLO_MOD, qr, cr, inverse=True)\n",
    "\n",
    "inverse_circs = {\"CABALLO_A_2\": inverse_qc_caballo, \"CABRA_A_I\": inverse_qc_cabra, \"GALLINA_A_D\": inverse_qc_gallina, \"CABALLO_MOD\": inverse_qc_caballo_mod}"
   ]
  },
  {
   "cell_type": "markdown",
   "metadata": {},
   "source": [
    "### Representación gráfica de la inversión de los circuitos cuánticos"
   ]
  },
  {
   "cell_type": "code",
   "execution_count": 7,
   "metadata": {},
   "outputs": [
    {
     "data": {
      "text/html": [
       "<pre style=\"word-wrap: normal;white-space: pre;background: #fff0;line-height: 1.1;font-family: &quot;Courier New&quot;,Courier,monospace\">       ┌────────────────┐ ░ ┌─┐                              \n",
       " q0_0: ┤0               ├─░─┤M├──────────────────────────────\n",
       "       │                │ ░ └╥┘┌─┐                           \n",
       " q0_1: ┤1               ├─░──╫─┤M├───────────────────────────\n",
       "       │                │ ░  ║ └╥┘┌─┐                        \n",
       " q0_2: ┤2               ├─░──╫──╫─┤M├────────────────────────\n",
       "       │                │ ░  ║  ║ └╥┘┌─┐                     \n",
       " q0_3: ┤3               ├─░──╫──╫──╫─┤M├─────────────────────\n",
       "       │                │ ░  ║  ║  ║ └╥┘┌─┐                  \n",
       " q0_4: ┤4               ├─░──╫──╫──╫──╫─┤M├──────────────────\n",
       "       │                │ ░  ║  ║  ║  ║ └╥┘┌─┐               \n",
       " q0_5: ┤5  disentangler ├─░──╫──╫──╫──╫──╫─┤M├───────────────\n",
       "       │                │ ░  ║  ║  ║  ║  ║ └╥┘┌─┐            \n",
       " q0_6: ┤6               ├─░──╫──╫──╫──╫──╫──╫─┤M├────────────\n",
       "       │                │ ░  ║  ║  ║  ║  ║  ║ └╥┘┌─┐         \n",
       " q0_7: ┤7               ├─░──╫──╫──╫──╫──╫──╫──╫─┤M├─────────\n",
       "       │                │ ░  ║  ║  ║  ║  ║  ║  ║ └╥┘┌─┐      \n",
       " q0_8: ┤8               ├─░──╫──╫──╫──╫──╫──╫──╫──╫─┤M├──────\n",
       "       │                │ ░  ║  ║  ║  ║  ║  ║  ║  ║ └╥┘┌─┐   \n",
       " q0_9: ┤9               ├─░──╫──╫──╫──╫──╫──╫──╫──╫──╫─┤M├───\n",
       "       │                │ ░  ║  ║  ║  ║  ║  ║  ║  ║  ║ └╥┘┌─┐\n",
       "q0_10: ┤10              ├─░──╫──╫──╫──╫──╫──╫──╫──╫──╫──╫─┤M├\n",
       "       └────────────────┘ ░  ║  ║  ║  ║  ║  ║  ║  ║  ║  ║ └╥┘\n",
       "c0: 11/══════════════════════╩══╩══╩══╩══╩══╩══╩══╩══╩══╩══╩═\n",
       "                             0  1  2  3  4  5  6  7  8  9  10</pre>"
      ],
      "text/plain": [
       "       ┌────────────────┐ ░ ┌─┐                              \n",
       " q0_0: ┤0               ├─░─┤M├──────────────────────────────\n",
       "       │                │ ░ └╥┘┌─┐                           \n",
       " q0_1: ┤1               ├─░──╫─┤M├───────────────────────────\n",
       "       │                │ ░  ║ └╥┘┌─┐                        \n",
       " q0_2: ┤2               ├─░──╫──╫─┤M├────────────────────────\n",
       "       │                │ ░  ║  ║ └╥┘┌─┐                     \n",
       " q0_3: ┤3               ├─░──╫──╫──╫─┤M├─────────────────────\n",
       "       │                │ ░  ║  ║  ║ └╥┘┌─┐                  \n",
       " q0_4: ┤4               ├─░──╫──╫──╫──╫─┤M├──────────────────\n",
       "       │                │ ░  ║  ║  ║  ║ └╥┘┌─┐               \n",
       " q0_5: ┤5  disentangler ├─░──╫──╫──╫──╫──╫─┤M├───────────────\n",
       "       │                │ ░  ║  ║  ║  ║  ║ └╥┘┌─┐            \n",
       " q0_6: ┤6               ├─░──╫──╫──╫──╫──╫──╫─┤M├────────────\n",
       "       │                │ ░  ║  ║  ║  ║  ║  ║ └╥┘┌─┐         \n",
       " q0_7: ┤7               ├─░──╫──╫──╫──╫──╫──╫──╫─┤M├─────────\n",
       "       │                │ ░  ║  ║  ║  ║  ║  ║  ║ └╥┘┌─┐      \n",
       " q0_8: ┤8               ├─░──╫──╫──╫──╫──╫──╫──╫──╫─┤M├──────\n",
       "       │                │ ░  ║  ║  ║  ║  ║  ║  ║  ║ └╥┘┌─┐   \n",
       " q0_9: ┤9               ├─░──╫──╫──╫──╫──╫──╫──╫──╫──╫─┤M├───\n",
       "       │                │ ░  ║  ║  ║  ║  ║  ║  ║  ║  ║ └╥┘┌─┐\n",
       "q0_10: ┤10              ├─░──╫──╫──╫──╫──╫──╫──╫──╫──╫──╫─┤M├\n",
       "       └────────────────┘ ░  ║  ║  ║  ║  ║  ║  ║  ║  ║  ║ └╥┘\n",
       "c0: 11/══════════════════════╩══╩══╩══╩══╩══╩══╩══╩══╩══╩══╩═\n",
       "                             0  1  2  3  4  5  6  7  8  9  10"
      ]
     },
     "execution_count": 7,
     "metadata": {},
     "output_type": "execute_result"
    }
   ],
   "source": [
    "inverse_qc_caballo.draw()"
   ]
  },
  {
   "cell_type": "markdown",
   "metadata": {
    "id": "2vQjppAo0Uj1"
   },
   "source": [
    "### Comparar Caballo"
   ]
  },
  {
   "cell_type": "code",
   "execution_count": 8,
   "metadata": {
    "ExecuteTime": {
     "end_time": "2018-09-25T16:54:49.528857Z",
     "start_time": "2018-09-25T16:52:54.299872Z"
    },
    "id": "pABPCM-U0Uj1",
    "outputId": "30f33edb-29b0-4052-b1a9-d4d769ff8eda"
   },
   "outputs": [
    {
     "name": "stdout",
     "output_type": "stream",
     "text": [
      "Similaridad de Caballo-(Alpha-2) consigo misma modificando un nucleótido:  0.994384765625\n"
     ]
    }
   ],
   "source": [
    "from qiskit import IBMQ, BasicAer\n",
    "\n",
    "key1 = \"CABALLO_A_2\"       #the name of the code used as key to find similar ones\n",
    "\n",
    "key2 = \"CABALLO_MOD\"\n",
    "\n",
    "# use local simulator\n",
    "backend = BasicAer.get_backend(\"qasm_simulator\")\n",
    "shots = 8192\n",
    "\n",
    "combined_circs = {}\n",
    "count = {}\n",
    "\n",
    "combined_circs[key2] = circs[key1].compose(inverse_circs[key2])   #combined circuits to look for similar codes\n",
    "job = execute(combined_circs[key2], backend=backend,shots=shots)\n",
    "st = job.result().get_counts(combined_circs[key2])\n",
    "if \"0\"*n in st:\n",
    "    sim_score = st[\"0\"*n]/shots\n",
    "else:\n",
    "    sim_score = 0.0\n",
    "\n",
    "print(\"Similaridad de Caballo-(Alpha-2) consigo misma modificando un nucleótido: \", sim_score)"
   ]
  },
  {
   "cell_type": "markdown",
   "metadata": {},
   "source": [
    "### Comparar Caballo con Cabra"
   ]
  },
  {
   "cell_type": "code",
   "execution_count": 14,
   "metadata": {},
   "outputs": [
    {
     "name": "stdout",
     "output_type": "stream",
     "text": [
      "Similaridad entre Caballo-(Alpha-2) y Cabra-(Alpha-i):  0.779541015625\n"
     ]
    }
   ],
   "source": [
    "key1 = \"CABALLO_A_2\"\n",
    "key2 = \"CABRA_A_I\"\n",
    "key3 = \"GALLINA_A_D\"\n",
    "\n",
    "# use local simulator\n",
    "backend = BasicAer.get_backend(\"qasm_simulator\")\n",
    "shots = 8192\n",
    "\n",
    "combined_circs = {}\n",
    "count = {}\n",
    "\n",
    "combined_circs[key2] = circs[key1].compose(inverse_circs[key2])   #combined circuits to look for similar codes\n",
    "job = execute(combined_circs[key2], backend=backend,shots=shots)\n",
    "st = job.result().get_counts(combined_circs[key2])\n",
    "if \"0\"*n in st:\n",
    "    sim_score = st[\"0\"*n]/shots\n",
    "else:\n",
    "    sim_score = 0.0\n",
    "print(\"Similaridad entre Caballo-(Alpha-2) y Cabra-(Alpha-i): \", sim_score)\n"
   ]
  },
  {
   "cell_type": "markdown",
   "metadata": {},
   "source": [
    "### Comparar Caballo con Gallina"
   ]
  },
  {
   "cell_type": "code",
   "execution_count": 15,
   "metadata": {},
   "outputs": [
    {
     "name": "stdout",
     "output_type": "stream",
     "text": [
      "Similaridad entre Caballo-(Alpha-2) y Gallina-(Alpha-D):  0.08447265625\n"
     ]
    }
   ],
   "source": [
    "combined_circs[key3] = circs[key1].compose(inverse_circs[key3])   #combined circuits to look for similar codes\n",
    "job = execute(combined_circs[key3], backend=backend,shots=shots)\n",
    "st = job.result().get_counts(combined_circs[key3])\n",
    "if \"0\"*n in st:\n",
    "    sim_score = st[\"0\"*n]/shots\n",
    "else:\n",
    "    sim_score = 0.0\n",
    "print(\"Similaridad entre Caballo-(Alpha-2) y Gallina-(Alpha-D): \", sim_score)"
   ]
  },
  {
   "cell_type": "markdown",
   "metadata": {},
   "source": [
    "### Comparar Cabra con Gallina"
   ]
  },
  {
   "cell_type": "code",
   "execution_count": 16,
   "metadata": {},
   "outputs": [
    {
     "name": "stdout",
     "output_type": "stream",
     "text": [
      "Similaridad entre Cabra-(Alpha-i) y Gallina-(Alpha-D):  0.095458984375\n"
     ]
    }
   ],
   "source": [
    "combined_circs[key3] = circs[key2].compose(inverse_circs[key3])   #combined circuits to look for similar codes\n",
    "job = execute(combined_circs[key3], backend=backend,shots=shots)\n",
    "st = job.result().get_counts(combined_circs[key3])\n",
    "if \"0\"*n in st:\n",
    "    sim_score = st[\"0\"*n]/shots\n",
    "else:\n",
    "    sim_score = 0.0\n",
    "print(\"Similaridad entre Cabra-(Alpha-i) y Gallina-(Alpha-D): \", sim_score)"
   ]
  }
 ],
 "metadata": {
  "colab": {
   "name": "string_comparison_fixed_udea.ipynb",
   "provenance": []
  },
  "kernelspec": {
   "display_name": "Python 3 (ipykernel)",
   "language": "python",
   "name": "python3"
  },
  "language_info": {
   "codemirror_mode": {
    "name": "ipython",
    "version": 3
   },
   "file_extension": ".py",
   "mimetype": "text/x-python",
   "name": "python",
   "nbconvert_exporter": "python",
   "pygments_lexer": "ipython3",
   "version": "3.8.13"
  },
  "toc": {
   "colors": {
    "hover_highlight": "#DAA520",
    "running_highlight": "#FF0000",
    "selected_highlight": "#FFD700"
   },
   "moveMenuLeft": true,
   "nav_menu": {
    "height": "48px",
    "width": "252px"
   },
   "navigate_menu": true,
   "number_sections": true,
   "sideBar": true,
   "threshold": 4,
   "toc_cell": false,
   "toc_section_display": "block",
   "toc_window_display": false
  },
  "vscode": {
   "interpreter": {
    "hash": "c5e0a967105164631d2fa6ca12e437a9c3bef4d0cd1140dca77fb87e381bc8c6"
   }
  },
  "widgets": {
   "application/vnd.jupyter.widget-state+json": {
    "state": {},
    "version_major": 2,
    "version_minor": 0
   }
  }
 },
 "nbformat": 4,
 "nbformat_minor": 4
}
