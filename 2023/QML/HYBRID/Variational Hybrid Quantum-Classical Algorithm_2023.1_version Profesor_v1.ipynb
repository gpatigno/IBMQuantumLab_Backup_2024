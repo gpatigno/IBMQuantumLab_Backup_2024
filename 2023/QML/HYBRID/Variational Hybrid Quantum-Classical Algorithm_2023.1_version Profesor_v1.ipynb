{
 "cells": [
  {
   "cell_type": "code",
   "execution_count": 1,
   "metadata": {},
   "outputs": [],
   "source": [
    "# ***************************************************************************************************\n",
    "# Here you will find a simple version of a Variational Hybrid Quantum-Classical Algorithm based on a\n",
    "# Parameterized Quantum Circuit (PQC).\n",
    "# ***************************************************************************************************\n",
    "\n",
    "# ***************************************************************************************************\n",
    "# Code from:\n",
    "# Zickert, F. (2021). Chapter 3: The Qubit and Quantum States\n",
    "# In F. Zickert, Hands-On Quantum Machine Learning With Python: Volume 1: Get Started, PyQML, 2021. \n",
    "# Available on https://www.pyqml.com/\n",
    "# ***************************************************************************************************\n",
    "\n",
    "# ***************************************************************************************************\n",
    "# Modifications have been made by Gustavo Patino.\n",
    "# Engineering School\n",
    "# University of Antioquia.\n",
    "# Medellin, Colombia\n",
    "# September, 2022.\n",
    "# ***************************************************************************************************"
   ]
  },
  {
   "cell_type": "code",
   "execution_count": 2,
   "metadata": {
    "id": "dTPYmstfYFNw"
   },
   "outputs": [],
   "source": [
    "# Listing 3.1 Verify Qiskit version\n",
    "import qiskit\n",
    "from qiskit import QuantumCircuit, execute, Aer\n",
    "from qiskit.visualization import plot_histogram\n",
    "\n",
    "import numpy as np\n",
    "import pandas as pd\n",
    "#import seaborn as sns # For pairplots and heatmaps\n",
    "import matplotlib.pyplot as plt\n",
    "from math import sqrt"
   ]
  },
  {
   "cell_type": "code",
   "execution_count": 3,
   "metadata": {
    "id": "dTPYmstfYFNw"
   },
   "outputs": [],
   "source": [
    "from sklearn.metrics import recall_score, precision_score, confusion_matrix \n",
    "from qiskit_textbook.tools import vector2latex"
   ]
  },
  {
   "cell_type": "code",
   "execution_count": 4,
   "metadata": {},
   "outputs": [],
   "source": [
    "# Descomente la siguiente linea si desea ver las imágenes más grandes.\n",
    "%config InlineBackend.figure_format = 'svg' # Makes the images look nice"
   ]
  },
  {
   "cell_type": "code",
   "execution_count": 5,
   "metadata": {},
   "outputs": [],
   "source": [
    "# Importing the Qiskit lab. Drive:\n",
    "import sys\n",
    "sys.path.insert(0, '..')"
   ]
  },
  {
   "cell_type": "code",
   "execution_count": 6,
   "metadata": {},
   "outputs": [],
   "source": [
    "# Listing 3.16: Load the data\n",
    "with open('data/train.npy', 'rb') as f:\n",
    "    train_input = np.load(f)\n",
    "    train_labels = np.load(f)\n",
    "\n",
    "with open('data/test.npy', 'rb') as f:\n",
    "    test_input = np.load(f)\n",
    "    test_labels = np.load(f)"
   ]
  },
  {
   "cell_type": "code",
   "execution_count": 7,
   "metadata": {},
   "outputs": [],
   "source": [
    "# REDEFINE OR IMPORT THE FUNCTIONS OF CHAPTER 2\n",
    "def run(f_classify, x):\n",
    "    return list(map(f_classify, x))\n",
    "\n",
    "def specificity(matrix):\n",
    "    return matrix[0][0]/(matrix[0][0]+matrix[0][1]) if (matrix[0][0]+matrix[0][1] > 0) else 0\n",
    "\n",
    "def npv(matrix):\n",
    "    return matrix[0][0]/(matrix[0][0]+matrix[1][0]) if (matrix[0][0]+matrix[1][0] > 0) else 0\n",
    "\n",
    "def classifier_report(name, run, classify, input, labels):\n",
    "    cr_predictions = run(classify, input)\n",
    "    cr_cm = confusion_matrix(labels, cr_predictions)\n",
    "\n",
    "    cr_precision = precision_score(labels, cr_predictions)\n",
    "    cr_recall = recall_score(labels, cr_predictions)\n",
    "    cr_specificity = specificity(cr_cm)\n",
    "    cr_npv = npv(cr_cm)\n",
    "    cr_level = 0.25*(cr_precision + cr_recall + cr_specificity + cr_npv)\n",
    "\n",
    "    print('\\nThe precision score of the {} classifier is {:.2f}'\n",
    "        .format(name, cr_precision))\n",
    "    print('The recall score of the {} classifier is {:.2f}'\n",
    "        .format(name, cr_recall))\n",
    "    print('The specificity score of the {} classifier is {:.2f}'\n",
    "        .format(name, cr_specificity))\n",
    "    print('The npv score of the {} classifier is {:.2f}'\n",
    "        .format(name, cr_npv))\n",
    "    print('The information level is: {:.2f}'\n",
    "        .format(cr_level))\n",
    "#CAPTION A reusable function to unmask the hypocrite classifier"
   ]
  },
  {
   "cell_type": "code",
   "execution_count": 8,
   "metadata": {},
   "outputs": [],
   "source": [
    "## The Random PQC"
   ]
  },
  {
   "cell_type": "code",
   "execution_count": 9,
   "metadata": {},
   "outputs": [],
   "source": [
    "# Listing 3.20: Pre‐processing template\n",
    "def pre_process_random(passenger):\n",
    "    \"\"\"\n",
    "    passenger -- the normalized (array of numeric data) passenger data\n",
    "    returns a valid quantum state\n",
    "    \"\"\"\n",
    "    quantum_state = [1/sqrt(2), 1/sqrt(2)]\n",
    "    \n",
    "#   vector2latex(quantum_state, pretext=\"|\\\\psi\\\\rangle =\")    \n",
    "    \n",
    "    return quantum_state"
   ]
  },
  {
   "cell_type": "code",
   "execution_count": 10,
   "metadata": {},
   "outputs": [],
   "source": [
    "# Listing 3.21: The parameterized quantum circuit (PQC)\n",
    "def pqc(backend, quantum_state):\n",
    "    \"\"\"\n",
    "    backend -- a qiskit backend to run the quantum circuit at\n",
    "    quantum_state -- a valid quantum state vector  \n",
    "    returns the counts of the measurement\n",
    "    \"\"\"\n",
    "\n",
    "    # Create a quantum circuit with one qubit\n",
    "    qc = QuantumCircuit(1)\n",
    "\n",
    "    # Define state |Psi> and initialize the circuit\n",
    "    qc.initialize(quantum_state, 0)\n",
    "    \n",
    "    # Measure the qubit\n",
    "    qc.measure_all()\n",
    "\n",
    "    # run the quantum circuit\n",
    "    result=execute(qc,backend).result()\n",
    "\n",
    "    # get the counts, these are either {'0': 1} or {'1': 1}\n",
    "    counts=result.get_counts(qc)\n",
    "    \n",
    "    print('Salida counts =', counts)\n",
    "\n",
    "    return counts"
   ]
  },
  {
   "cell_type": "code",
   "execution_count": 11,
   "metadata": {},
   "outputs": [],
   "source": [
    "# Listing 3.22: Post‐processing\n",
    "def post_process(counts):\n",
    "    \"\"\"\n",
    "    counts -- the result of the quantum circuit execution\n",
    "    returns the prediction\n",
    "    \"\"\"\n",
    "    \n",
    "    Prediction = list(map(lambda item: item[0], counts.items()))[0]\n",
    "    \n",
    "    print('Given the former angle theta and quantum state, the new prediction is:')\n",
    "    print('Prediction =', Prediction)\n",
    "    print('int(Prediction) =', int(Prediction), '\\n')\n",
    "        \n",
    "    return int(Prediction)"
   ]
  },
  {
   "cell_type": "code",
   "execution_count": 12,
   "metadata": {
    "scrolled": true,
    "tags": []
   },
   "outputs": [],
   "source": [
    "# Listing 3.23: The scores of the random quantum classifier\n",
    "# Tell Qiskit how to simulate our circuit\n",
    "backend = Aer.get_backend('statevector_simulator') "
   ]
  },
  {
   "cell_type": "code",
   "execution_count": 13,
   "metadata": {
    "scrolled": true,
    "tags": []
   },
   "outputs": [
    {
     "name": "stdout",
     "output_type": "stream",
     "text": [
      "Salida counts = {'0': 1}\n",
      "Given the former angle theta and quantum state, the new prediction is:\n",
      "Prediction = 0\n",
      "int(Prediction) = 0 \n",
      "\n",
      "Salida counts = {'0': 1}\n",
      "Given the former angle theta and quantum state, the new prediction is:\n",
      "Prediction = 0\n",
      "int(Prediction) = 0 \n",
      "\n",
      "Salida counts = {'1': 1}\n",
      "Given the former angle theta and quantum state, the new prediction is:\n",
      "Prediction = 1\n",
      "int(Prediction) = 1 \n",
      "\n",
      "Salida counts = {'1': 1}\n",
      "Given the former angle theta and quantum state, the new prediction is:\n",
      "Prediction = 1\n",
      "int(Prediction) = 1 \n",
      "\n",
      "Salida counts = {'1': 1}\n",
      "Given the former angle theta and quantum state, the new prediction is:\n",
      "Prediction = 1\n",
      "int(Prediction) = 1 \n",
      "\n",
      "Salida counts = {'1': 1}\n",
      "Given the former angle theta and quantum state, the new prediction is:\n",
      "Prediction = 1\n",
      "int(Prediction) = 1 \n",
      "\n",
      "Salida counts = {'0': 1}\n",
      "Given the former angle theta and quantum state, the new prediction is:\n",
      "Prediction = 0\n",
      "int(Prediction) = 0 \n",
      "\n",
      "Salida counts = {'1': 1}\n",
      "Given the former angle theta and quantum state, the new prediction is:\n",
      "Prediction = 1\n",
      "int(Prediction) = 1 \n",
      "\n",
      "Salida counts = {'1': 1}\n",
      "Given the former angle theta and quantum state, the new prediction is:\n",
      "Prediction = 1\n",
      "int(Prediction) = 1 \n",
      "\n",
      "Salida counts = {'1': 1}\n",
      "Given the former angle theta and quantum state, the new prediction is:\n",
      "Prediction = 1\n",
      "int(Prediction) = 1 \n",
      "\n",
      "Salida counts = {'1': 1}\n",
      "Given the former angle theta and quantum state, the new prediction is:\n",
      "Prediction = 1\n",
      "int(Prediction) = 1 \n",
      "\n",
      "Salida counts = {'1': 1}\n",
      "Given the former angle theta and quantum state, the new prediction is:\n",
      "Prediction = 1\n",
      "int(Prediction) = 1 \n",
      "\n",
      "Salida counts = {'1': 1}\n",
      "Given the former angle theta and quantum state, the new prediction is:\n",
      "Prediction = 1\n",
      "int(Prediction) = 1 \n",
      "\n",
      "Salida counts = {'0': 1}\n",
      "Given the former angle theta and quantum state, the new prediction is:\n",
      "Prediction = 0\n",
      "int(Prediction) = 0 \n",
      "\n",
      "Salida counts = {'1': 1}\n",
      "Given the former angle theta and quantum state, the new prediction is:\n",
      "Prediction = 1\n",
      "int(Prediction) = 1 \n",
      "\n",
      "Salida counts = {'1': 1}\n",
      "Given the former angle theta and quantum state, the new prediction is:\n",
      "Prediction = 1\n",
      "int(Prediction) = 1 \n",
      "\n",
      "Salida counts = {'0': 1}\n",
      "Given the former angle theta and quantum state, the new prediction is:\n",
      "Prediction = 0\n",
      "int(Prediction) = 0 \n",
      "\n",
      "Salida counts = {'0': 1}\n",
      "Given the former angle theta and quantum state, the new prediction is:\n",
      "Prediction = 0\n",
      "int(Prediction) = 0 \n",
      "\n",
      "Salida counts = {'0': 1}\n",
      "Given the former angle theta and quantum state, the new prediction is:\n",
      "Prediction = 0\n",
      "int(Prediction) = 0 \n",
      "\n",
      "Salida counts = {'1': 1}\n",
      "Given the former angle theta and quantum state, the new prediction is:\n",
      "Prediction = 1\n",
      "int(Prediction) = 1 \n",
      "\n",
      "Salida counts = {'1': 1}\n",
      "Given the former angle theta and quantum state, the new prediction is:\n",
      "Prediction = 1\n",
      "int(Prediction) = 1 \n",
      "\n",
      "Salida counts = {'1': 1}\n",
      "Given the former angle theta and quantum state, the new prediction is:\n",
      "Prediction = 1\n",
      "int(Prediction) = 1 \n",
      "\n",
      "Salida counts = {'1': 1}\n",
      "Given the former angle theta and quantum state, the new prediction is:\n",
      "Prediction = 1\n",
      "int(Prediction) = 1 \n",
      "\n",
      "Salida counts = {'1': 1}\n",
      "Given the former angle theta and quantum state, the new prediction is:\n",
      "Prediction = 1\n",
      "int(Prediction) = 1 \n",
      "\n",
      "Salida counts = {'1': 1}\n",
      "Given the former angle theta and quantum state, the new prediction is:\n",
      "Prediction = 1\n",
      "int(Prediction) = 1 \n",
      "\n",
      "Salida counts = {'0': 1}\n",
      "Given the former angle theta and quantum state, the new prediction is:\n",
      "Prediction = 0\n",
      "int(Prediction) = 0 \n",
      "\n",
      "Salida counts = {'1': 1}\n",
      "Given the former angle theta and quantum state, the new prediction is:\n",
      "Prediction = 1\n",
      "int(Prediction) = 1 \n",
      "\n",
      "Salida counts = {'0': 1}\n",
      "Given the former angle theta and quantum state, the new prediction is:\n",
      "Prediction = 0\n",
      "int(Prediction) = 0 \n",
      "\n",
      "Salida counts = {'0': 1}\n",
      "Given the former angle theta and quantum state, the new prediction is:\n",
      "Prediction = 0\n",
      "int(Prediction) = 0 \n",
      "\n",
      "Salida counts = {'1': 1}\n",
      "Given the former angle theta and quantum state, the new prediction is:\n",
      "Prediction = 1\n",
      "int(Prediction) = 1 \n",
      "\n",
      "Salida counts = {'0': 1}\n",
      "Given the former angle theta and quantum state, the new prediction is:\n",
      "Prediction = 0\n",
      "int(Prediction) = 0 \n",
      "\n",
      "Salida counts = {'1': 1}\n",
      "Given the former angle theta and quantum state, the new prediction is:\n",
      "Prediction = 1\n",
      "int(Prediction) = 1 \n",
      "\n",
      "Salida counts = {'0': 1}\n",
      "Given the former angle theta and quantum state, the new prediction is:\n",
      "Prediction = 0\n",
      "int(Prediction) = 0 \n",
      "\n",
      "Salida counts = {'1': 1}\n",
      "Given the former angle theta and quantum state, the new prediction is:\n",
      "Prediction = 1\n",
      "int(Prediction) = 1 \n",
      "\n",
      "Salida counts = {'1': 1}\n",
      "Given the former angle theta and quantum state, the new prediction is:\n",
      "Prediction = 1\n",
      "int(Prediction) = 1 \n",
      "\n",
      "Salida counts = {'1': 1}\n",
      "Given the former angle theta and quantum state, the new prediction is:\n",
      "Prediction = 1\n",
      "int(Prediction) = 1 \n",
      "\n",
      "Salida counts = {'0': 1}\n",
      "Given the former angle theta and quantum state, the new prediction is:\n",
      "Prediction = 0\n",
      "int(Prediction) = 0 \n",
      "\n",
      "Salida counts = {'0': 1}\n",
      "Given the former angle theta and quantum state, the new prediction is:\n",
      "Prediction = 0\n",
      "int(Prediction) = 0 \n",
      "\n",
      "Salida counts = {'1': 1}\n",
      "Given the former angle theta and quantum state, the new prediction is:\n",
      "Prediction = 1\n",
      "int(Prediction) = 1 \n",
      "\n",
      "Salida counts = {'1': 1}\n",
      "Given the former angle theta and quantum state, the new prediction is:\n",
      "Prediction = 1\n",
      "int(Prediction) = 1 \n",
      "\n",
      "Salida counts = {'1': 1}\n",
      "Given the former angle theta and quantum state, the new prediction is:\n",
      "Prediction = 1\n",
      "int(Prediction) = 1 \n",
      "\n",
      "Salida counts = {'1': 1}\n",
      "Given the former angle theta and quantum state, the new prediction is:\n",
      "Prediction = 1\n",
      "int(Prediction) = 1 \n",
      "\n",
      "Salida counts = {'1': 1}\n",
      "Given the former angle theta and quantum state, the new prediction is:\n",
      "Prediction = 1\n",
      "int(Prediction) = 1 \n",
      "\n",
      "Salida counts = {'0': 1}\n",
      "Given the former angle theta and quantum state, the new prediction is:\n",
      "Prediction = 0\n",
      "int(Prediction) = 0 \n",
      "\n",
      "Salida counts = {'0': 1}\n",
      "Given the former angle theta and quantum state, the new prediction is:\n",
      "Prediction = 0\n",
      "int(Prediction) = 0 \n",
      "\n",
      "Salida counts = {'0': 1}\n",
      "Given the former angle theta and quantum state, the new prediction is:\n",
      "Prediction = 0\n",
      "int(Prediction) = 0 \n",
      "\n",
      "Salida counts = {'0': 1}\n",
      "Given the former angle theta and quantum state, the new prediction is:\n",
      "Prediction = 0\n",
      "int(Prediction) = 0 \n",
      "\n",
      "Salida counts = {'0': 1}\n",
      "Given the former angle theta and quantum state, the new prediction is:\n",
      "Prediction = 0\n",
      "int(Prediction) = 0 \n",
      "\n",
      "Salida counts = {'1': 1}\n",
      "Given the former angle theta and quantum state, the new prediction is:\n",
      "Prediction = 1\n",
      "int(Prediction) = 1 \n",
      "\n",
      "Salida counts = {'1': 1}\n",
      "Given the former angle theta and quantum state, the new prediction is:\n",
      "Prediction = 1\n",
      "int(Prediction) = 1 \n",
      "\n",
      "Salida counts = {'1': 1}\n",
      "Given the former angle theta and quantum state, the new prediction is:\n",
      "Prediction = 1\n",
      "int(Prediction) = 1 \n",
      "\n",
      "Salida counts = {'0': 1}\n",
      "Given the former angle theta and quantum state, the new prediction is:\n",
      "Prediction = 0\n",
      "int(Prediction) = 0 \n",
      "\n",
      "Salida counts = {'0': 1}\n",
      "Given the former angle theta and quantum state, the new prediction is:\n",
      "Prediction = 0\n",
      "int(Prediction) = 0 \n",
      "\n",
      "Salida counts = {'0': 1}\n",
      "Given the former angle theta and quantum state, the new prediction is:\n",
      "Prediction = 0\n",
      "int(Prediction) = 0 \n",
      "\n",
      "Salida counts = {'1': 1}\n",
      "Given the former angle theta and quantum state, the new prediction is:\n",
      "Prediction = 1\n",
      "int(Prediction) = 1 \n",
      "\n",
      "Salida counts = {'0': 1}\n",
      "Given the former angle theta and quantum state, the new prediction is:\n",
      "Prediction = 0\n",
      "int(Prediction) = 0 \n",
      "\n",
      "Salida counts = {'0': 1}\n",
      "Given the former angle theta and quantum state, the new prediction is:\n",
      "Prediction = 0\n",
      "int(Prediction) = 0 \n",
      "\n",
      "Salida counts = {'0': 1}\n",
      "Given the former angle theta and quantum state, the new prediction is:\n",
      "Prediction = 0\n",
      "int(Prediction) = 0 \n",
      "\n",
      "Salida counts = {'1': 1}\n",
      "Given the former angle theta and quantum state, the new prediction is:\n",
      "Prediction = 1\n",
      "int(Prediction) = 1 \n",
      "\n",
      "Salida counts = {'1': 1}\n",
      "Given the former angle theta and quantum state, the new prediction is:\n",
      "Prediction = 1\n",
      "int(Prediction) = 1 \n",
      "\n",
      "Salida counts = {'1': 1}\n",
      "Given the former angle theta and quantum state, the new prediction is:\n",
      "Prediction = 1\n",
      "int(Prediction) = 1 \n",
      "\n",
      "Salida counts = {'1': 1}\n",
      "Given the former angle theta and quantum state, the new prediction is:\n",
      "Prediction = 1\n",
      "int(Prediction) = 1 \n",
      "\n",
      "Salida counts = {'0': 1}\n",
      "Given the former angle theta and quantum state, the new prediction is:\n",
      "Prediction = 0\n",
      "int(Prediction) = 0 \n",
      "\n",
      "Salida counts = {'1': 1}\n",
      "Given the former angle theta and quantum state, the new prediction is:\n",
      "Prediction = 1\n",
      "int(Prediction) = 1 \n",
      "\n",
      "Salida counts = {'0': 1}\n",
      "Given the former angle theta and quantum state, the new prediction is:\n",
      "Prediction = 0\n",
      "int(Prediction) = 0 \n",
      "\n",
      "Salida counts = {'0': 1}\n",
      "Given the former angle theta and quantum state, the new prediction is:\n",
      "Prediction = 0\n",
      "int(Prediction) = 0 \n",
      "\n",
      "Salida counts = {'0': 1}\n",
      "Given the former angle theta and quantum state, the new prediction is:\n",
      "Prediction = 0\n",
      "int(Prediction) = 0 \n",
      "\n",
      "Salida counts = {'1': 1}\n",
      "Given the former angle theta and quantum state, the new prediction is:\n",
      "Prediction = 1\n",
      "int(Prediction) = 1 \n",
      "\n",
      "Salida counts = {'0': 1}\n",
      "Given the former angle theta and quantum state, the new prediction is:\n",
      "Prediction = 0\n",
      "int(Prediction) = 0 \n",
      "\n",
      "Salida counts = {'1': 1}\n",
      "Given the former angle theta and quantum state, the new prediction is:\n",
      "Prediction = 1\n",
      "int(Prediction) = 1 \n",
      "\n",
      "Salida counts = {'0': 1}\n",
      "Given the former angle theta and quantum state, the new prediction is:\n",
      "Prediction = 0\n",
      "int(Prediction) = 0 \n",
      "\n",
      "Salida counts = {'1': 1}\n",
      "Given the former angle theta and quantum state, the new prediction is:\n",
      "Prediction = 1\n",
      "int(Prediction) = 1 \n",
      "\n",
      "Salida counts = {'1': 1}\n",
      "Given the former angle theta and quantum state, the new prediction is:\n",
      "Prediction = 1\n",
      "int(Prediction) = 1 \n",
      "\n",
      "Salida counts = {'0': 1}\n",
      "Given the former angle theta and quantum state, the new prediction is:\n",
      "Prediction = 0\n",
      "int(Prediction) = 0 \n",
      "\n",
      "Salida counts = {'0': 1}\n",
      "Given the former angle theta and quantum state, the new prediction is:\n",
      "Prediction = 0\n",
      "int(Prediction) = 0 \n",
      "\n",
      "Salida counts = {'0': 1}\n",
      "Given the former angle theta and quantum state, the new prediction is:\n",
      "Prediction = 0\n",
      "int(Prediction) = 0 \n",
      "\n",
      "Salida counts = {'1': 1}\n",
      "Given the former angle theta and quantum state, the new prediction is:\n",
      "Prediction = 1\n",
      "int(Prediction) = 1 \n",
      "\n",
      "Salida counts = {'0': 1}\n",
      "Given the former angle theta and quantum state, the new prediction is:\n",
      "Prediction = 0\n",
      "int(Prediction) = 0 \n",
      "\n",
      "Salida counts = {'0': 1}\n",
      "Given the former angle theta and quantum state, the new prediction is:\n",
      "Prediction = 0\n",
      "int(Prediction) = 0 \n",
      "\n",
      "Salida counts = {'0': 1}\n",
      "Given the former angle theta and quantum state, the new prediction is:\n",
      "Prediction = 0\n",
      "int(Prediction) = 0 \n",
      "\n",
      "Salida counts = {'1': 1}\n",
      "Given the former angle theta and quantum state, the new prediction is:\n",
      "Prediction = 1\n",
      "int(Prediction) = 1 \n",
      "\n",
      "Salida counts = {'1': 1}\n",
      "Given the former angle theta and quantum state, the new prediction is:\n",
      "Prediction = 1\n",
      "int(Prediction) = 1 \n",
      "\n",
      "Salida counts = {'0': 1}\n",
      "Given the former angle theta and quantum state, the new prediction is:\n",
      "Prediction = 0\n",
      "int(Prediction) = 0 \n",
      "\n",
      "Salida counts = {'1': 1}\n",
      "Given the former angle theta and quantum state, the new prediction is:\n",
      "Prediction = 1\n",
      "int(Prediction) = 1 \n",
      "\n",
      "Salida counts = {'1': 1}\n",
      "Given the former angle theta and quantum state, the new prediction is:\n",
      "Prediction = 1\n",
      "int(Prediction) = 1 \n",
      "\n",
      "Salida counts = {'0': 1}\n",
      "Given the former angle theta and quantum state, the new prediction is:\n",
      "Prediction = 0\n",
      "int(Prediction) = 0 \n",
      "\n",
      "Salida counts = {'0': 1}\n",
      "Given the former angle theta and quantum state, the new prediction is:\n",
      "Prediction = 0\n",
      "int(Prediction) = 0 \n",
      "\n",
      "Salida counts = {'0': 1}\n",
      "Given the former angle theta and quantum state, the new prediction is:\n",
      "Prediction = 0\n",
      "int(Prediction) = 0 \n",
      "\n",
      "Salida counts = {'1': 1}\n",
      "Given the former angle theta and quantum state, the new prediction is:\n",
      "Prediction = 1\n",
      "int(Prediction) = 1 \n",
      "\n",
      "Salida counts = {'0': 1}\n",
      "Given the former angle theta and quantum state, the new prediction is:\n",
      "Prediction = 0\n",
      "int(Prediction) = 0 \n",
      "\n",
      "Salida counts = {'0': 1}\n",
      "Given the former angle theta and quantum state, the new prediction is:\n",
      "Prediction = 0\n",
      "int(Prediction) = 0 \n",
      "\n",
      "Salida counts = {'1': 1}\n",
      "Given the former angle theta and quantum state, the new prediction is:\n",
      "Prediction = 1\n",
      "int(Prediction) = 1 \n",
      "\n",
      "Salida counts = {'1': 1}\n",
      "Given the former angle theta and quantum state, the new prediction is:\n",
      "Prediction = 1\n",
      "int(Prediction) = 1 \n",
      "\n",
      "Salida counts = {'0': 1}\n",
      "Given the former angle theta and quantum state, the new prediction is:\n",
      "Prediction = 0\n",
      "int(Prediction) = 0 \n",
      "\n",
      "Salida counts = {'1': 1}\n",
      "Given the former angle theta and quantum state, the new prediction is:\n",
      "Prediction = 1\n",
      "int(Prediction) = 1 \n",
      "\n",
      "Salida counts = {'0': 1}\n",
      "Given the former angle theta and quantum state, the new prediction is:\n",
      "Prediction = 0\n",
      "int(Prediction) = 0 \n",
      "\n",
      "Salida counts = {'1': 1}\n",
      "Given the former angle theta and quantum state, the new prediction is:\n",
      "Prediction = 1\n",
      "int(Prediction) = 1 \n",
      "\n",
      "Salida counts = {'0': 1}\n",
      "Given the former angle theta and quantum state, the new prediction is:\n",
      "Prediction = 0\n",
      "int(Prediction) = 0 \n",
      "\n",
      "Salida counts = {'1': 1}\n",
      "Given the former angle theta and quantum state, the new prediction is:\n",
      "Prediction = 1\n",
      "int(Prediction) = 1 \n",
      "\n",
      "Salida counts = {'1': 1}\n",
      "Given the former angle theta and quantum state, the new prediction is:\n",
      "Prediction = 1\n",
      "int(Prediction) = 1 \n",
      "\n",
      "Salida counts = {'1': 1}\n",
      "Given the former angle theta and quantum state, the new prediction is:\n",
      "Prediction = 1\n",
      "int(Prediction) = 1 \n",
      "\n",
      "Salida counts = {'1': 1}\n",
      "Given the former angle theta and quantum state, the new prediction is:\n",
      "Prediction = 1\n",
      "int(Prediction) = 1 \n",
      "\n",
      "Salida counts = {'1': 1}\n",
      "Given the former angle theta and quantum state, the new prediction is:\n",
      "Prediction = 1\n",
      "int(Prediction) = 1 \n",
      "\n",
      "Salida counts = {'1': 1}\n",
      "Given the former angle theta and quantum state, the new prediction is:\n",
      "Prediction = 1\n",
      "int(Prediction) = 1 \n",
      "\n",
      "Salida counts = {'0': 1}\n",
      "Given the former angle theta and quantum state, the new prediction is:\n",
      "Prediction = 0\n",
      "int(Prediction) = 0 \n",
      "\n",
      "Salida counts = {'0': 1}\n",
      "Given the former angle theta and quantum state, the new prediction is:\n",
      "Prediction = 0\n",
      "int(Prediction) = 0 \n",
      "\n",
      "Salida counts = {'0': 1}\n",
      "Given the former angle theta and quantum state, the new prediction is:\n",
      "Prediction = 0\n",
      "int(Prediction) = 0 \n",
      "\n",
      "Salida counts = {'0': 1}\n",
      "Given the former angle theta and quantum state, the new prediction is:\n",
      "Prediction = 0\n",
      "int(Prediction) = 0 \n",
      "\n",
      "Salida counts = {'0': 1}\n",
      "Given the former angle theta and quantum state, the new prediction is:\n",
      "Prediction = 0\n",
      "int(Prediction) = 0 \n",
      "\n",
      "Salida counts = {'1': 1}\n",
      "Given the former angle theta and quantum state, the new prediction is:\n",
      "Prediction = 1\n",
      "int(Prediction) = 1 \n",
      "\n",
      "Salida counts = {'1': 1}\n",
      "Given the former angle theta and quantum state, the new prediction is:\n",
      "Prediction = 1\n",
      "int(Prediction) = 1 \n",
      "\n",
      "Salida counts = {'0': 1}\n",
      "Given the former angle theta and quantum state, the new prediction is:\n",
      "Prediction = 0\n",
      "int(Prediction) = 0 \n",
      "\n",
      "Salida counts = {'0': 1}\n",
      "Given the former angle theta and quantum state, the new prediction is:\n",
      "Prediction = 0\n",
      "int(Prediction) = 0 \n",
      "\n",
      "Salida counts = {'1': 1}\n",
      "Given the former angle theta and quantum state, the new prediction is:\n",
      "Prediction = 1\n",
      "int(Prediction) = 1 \n",
      "\n",
      "Salida counts = {'1': 1}\n",
      "Given the former angle theta and quantum state, the new prediction is:\n",
      "Prediction = 1\n",
      "int(Prediction) = 1 \n",
      "\n",
      "Salida counts = {'0': 1}\n",
      "Given the former angle theta and quantum state, the new prediction is:\n",
      "Prediction = 0\n",
      "int(Prediction) = 0 \n",
      "\n",
      "Salida counts = {'0': 1}\n",
      "Given the former angle theta and quantum state, the new prediction is:\n",
      "Prediction = 0\n",
      "int(Prediction) = 0 \n",
      "\n",
      "Salida counts = {'0': 1}\n",
      "Given the former angle theta and quantum state, the new prediction is:\n",
      "Prediction = 0\n",
      "int(Prediction) = 0 \n",
      "\n",
      "Salida counts = {'1': 1}\n",
      "Given the former angle theta and quantum state, the new prediction is:\n",
      "Prediction = 1\n",
      "int(Prediction) = 1 \n",
      "\n",
      "Salida counts = {'1': 1}\n",
      "Given the former angle theta and quantum state, the new prediction is:\n",
      "Prediction = 1\n",
      "int(Prediction) = 1 \n",
      "\n",
      "Salida counts = {'0': 1}\n",
      "Given the former angle theta and quantum state, the new prediction is:\n",
      "Prediction = 0\n",
      "int(Prediction) = 0 \n",
      "\n",
      "Salida counts = {'1': 1}\n",
      "Given the former angle theta and quantum state, the new prediction is:\n",
      "Prediction = 1\n",
      "int(Prediction) = 1 \n",
      "\n",
      "Salida counts = {'0': 1}\n",
      "Given the former angle theta and quantum state, the new prediction is:\n",
      "Prediction = 0\n",
      "int(Prediction) = 0 \n",
      "\n",
      "Salida counts = {'0': 1}\n",
      "Given the former angle theta and quantum state, the new prediction is:\n",
      "Prediction = 0\n",
      "int(Prediction) = 0 \n",
      "\n",
      "Salida counts = {'0': 1}\n",
      "Given the former angle theta and quantum state, the new prediction is:\n",
      "Prediction = 0\n",
      "int(Prediction) = 0 \n",
      "\n",
      "Salida counts = {'0': 1}\n",
      "Given the former angle theta and quantum state, the new prediction is:\n",
      "Prediction = 0\n",
      "int(Prediction) = 0 \n",
      "\n",
      "Salida counts = {'1': 1}\n",
      "Given the former angle theta and quantum state, the new prediction is:\n",
      "Prediction = 1\n",
      "int(Prediction) = 1 \n",
      "\n",
      "Salida counts = {'1': 1}\n",
      "Given the former angle theta and quantum state, the new prediction is:\n",
      "Prediction = 1\n",
      "int(Prediction) = 1 \n",
      "\n",
      "Salida counts = {'1': 1}\n",
      "Given the former angle theta and quantum state, the new prediction is:\n",
      "Prediction = 1\n",
      "int(Prediction) = 1 \n",
      "\n",
      "Salida counts = {'0': 1}\n",
      "Given the former angle theta and quantum state, the new prediction is:\n",
      "Prediction = 0\n",
      "int(Prediction) = 0 \n",
      "\n",
      "Salida counts = {'1': 1}\n",
      "Given the former angle theta and quantum state, the new prediction is:\n",
      "Prediction = 1\n",
      "int(Prediction) = 1 \n",
      "\n",
      "Salida counts = {'1': 1}\n",
      "Given the former angle theta and quantum state, the new prediction is:\n",
      "Prediction = 1\n",
      "int(Prediction) = 1 \n",
      "\n",
      "Salida counts = {'0': 1}\n",
      "Given the former angle theta and quantum state, the new prediction is:\n",
      "Prediction = 0\n",
      "int(Prediction) = 0 \n",
      "\n",
      "Salida counts = {'0': 1}\n",
      "Given the former angle theta and quantum state, the new prediction is:\n",
      "Prediction = 0\n",
      "int(Prediction) = 0 \n",
      "\n",
      "Salida counts = {'1': 1}\n",
      "Given the former angle theta and quantum state, the new prediction is:\n",
      "Prediction = 1\n",
      "int(Prediction) = 1 \n",
      "\n",
      "Salida counts = {'1': 1}\n",
      "Given the former angle theta and quantum state, the new prediction is:\n",
      "Prediction = 1\n",
      "int(Prediction) = 1 \n",
      "\n",
      "Salida counts = {'1': 1}\n",
      "Given the former angle theta and quantum state, the new prediction is:\n",
      "Prediction = 1\n",
      "int(Prediction) = 1 \n",
      "\n",
      "Salida counts = {'1': 1}\n",
      "Given the former angle theta and quantum state, the new prediction is:\n",
      "Prediction = 1\n",
      "int(Prediction) = 1 \n",
      "\n",
      "Salida counts = {'0': 1}\n",
      "Given the former angle theta and quantum state, the new prediction is:\n",
      "Prediction = 0\n",
      "int(Prediction) = 0 \n",
      "\n",
      "Salida counts = {'0': 1}\n",
      "Given the former angle theta and quantum state, the new prediction is:\n",
      "Prediction = 0\n",
      "int(Prediction) = 0 \n",
      "\n",
      "Salida counts = {'0': 1}\n",
      "Given the former angle theta and quantum state, the new prediction is:\n",
      "Prediction = 0\n",
      "int(Prediction) = 0 \n",
      "\n",
      "Salida counts = {'1': 1}\n",
      "Given the former angle theta and quantum state, the new prediction is:\n",
      "Prediction = 1\n",
      "int(Prediction) = 1 \n",
      "\n",
      "Salida counts = {'1': 1}\n",
      "Given the former angle theta and quantum state, the new prediction is:\n",
      "Prediction = 1\n",
      "int(Prediction) = 1 \n",
      "\n",
      "Salida counts = {'1': 1}\n",
      "Given the former angle theta and quantum state, the new prediction is:\n",
      "Prediction = 1\n",
      "int(Prediction) = 1 \n",
      "\n",
      "Salida counts = {'1': 1}\n",
      "Given the former angle theta and quantum state, the new prediction is:\n",
      "Prediction = 1\n",
      "int(Prediction) = 1 \n",
      "\n",
      "Salida counts = {'0': 1}\n",
      "Given the former angle theta and quantum state, the new prediction is:\n",
      "Prediction = 0\n",
      "int(Prediction) = 0 \n",
      "\n",
      "Salida counts = {'1': 1}\n",
      "Given the former angle theta and quantum state, the new prediction is:\n",
      "Prediction = 1\n",
      "int(Prediction) = 1 \n",
      "\n",
      "Salida counts = {'0': 1}\n",
      "Given the former angle theta and quantum state, the new prediction is:\n",
      "Prediction = 0\n",
      "int(Prediction) = 0 \n",
      "\n",
      "Salida counts = {'0': 1}\n",
      "Given the former angle theta and quantum state, the new prediction is:\n",
      "Prediction = 0\n",
      "int(Prediction) = 0 \n",
      "\n",
      "Salida counts = {'1': 1}\n",
      "Given the former angle theta and quantum state, the new prediction is:\n",
      "Prediction = 1\n",
      "int(Prediction) = 1 \n",
      "\n",
      "Salida counts = {'0': 1}\n",
      "Given the former angle theta and quantum state, the new prediction is:\n",
      "Prediction = 0\n",
      "int(Prediction) = 0 \n",
      "\n",
      "Salida counts = {'1': 1}\n",
      "Given the former angle theta and quantum state, the new prediction is:\n",
      "Prediction = 1\n",
      "int(Prediction) = 1 \n",
      "\n",
      "Salida counts = {'1': 1}\n",
      "Given the former angle theta and quantum state, the new prediction is:\n",
      "Prediction = 1\n",
      "int(Prediction) = 1 \n",
      "\n",
      "Salida counts = {'0': 1}\n",
      "Given the former angle theta and quantum state, the new prediction is:\n",
      "Prediction = 0\n",
      "int(Prediction) = 0 \n",
      "\n",
      "Salida counts = {'1': 1}\n",
      "Given the former angle theta and quantum state, the new prediction is:\n",
      "Prediction = 1\n",
      "int(Prediction) = 1 \n",
      "\n",
      "Salida counts = {'1': 1}\n",
      "Given the former angle theta and quantum state, the new prediction is:\n",
      "Prediction = 1\n",
      "int(Prediction) = 1 \n",
      "\n",
      "Salida counts = {'1': 1}\n",
      "Given the former angle theta and quantum state, the new prediction is:\n",
      "Prediction = 1\n",
      "int(Prediction) = 1 \n",
      "\n",
      "Salida counts = {'1': 1}\n",
      "Given the former angle theta and quantum state, the new prediction is:\n",
      "Prediction = 1\n",
      "int(Prediction) = 1 \n",
      "\n",
      "Salida counts = {'1': 1}\n",
      "Given the former angle theta and quantum state, the new prediction is:\n",
      "Prediction = 1\n",
      "int(Prediction) = 1 \n",
      "\n",
      "Salida counts = {'0': 1}\n",
      "Given the former angle theta and quantum state, the new prediction is:\n",
      "Prediction = 0\n",
      "int(Prediction) = 0 \n",
      "\n",
      "Salida counts = {'1': 1}\n",
      "Given the former angle theta and quantum state, the new prediction is:\n",
      "Prediction = 1\n",
      "int(Prediction) = 1 \n",
      "\n",
      "Salida counts = {'1': 1}\n",
      "Given the former angle theta and quantum state, the new prediction is:\n",
      "Prediction = 1\n",
      "int(Prediction) = 1 \n",
      "\n",
      "Salida counts = {'0': 1}\n",
      "Given the former angle theta and quantum state, the new prediction is:\n",
      "Prediction = 0\n",
      "int(Prediction) = 0 \n",
      "\n",
      "Salida counts = {'1': 1}\n",
      "Given the former angle theta and quantum state, the new prediction is:\n",
      "Prediction = 1\n",
      "int(Prediction) = 1 \n",
      "\n",
      "Salida counts = {'1': 1}\n",
      "Given the former angle theta and quantum state, the new prediction is:\n",
      "Prediction = 1\n",
      "int(Prediction) = 1 \n",
      "\n",
      "Salida counts = {'0': 1}\n",
      "Given the former angle theta and quantum state, the new prediction is:\n",
      "Prediction = 0\n",
      "int(Prediction) = 0 \n",
      "\n",
      "Salida counts = {'1': 1}\n",
      "Given the former angle theta and quantum state, the new prediction is:\n",
      "Prediction = 1\n",
      "int(Prediction) = 1 \n",
      "\n",
      "Salida counts = {'1': 1}\n",
      "Given the former angle theta and quantum state, the new prediction is:\n",
      "Prediction = 1\n",
      "int(Prediction) = 1 \n",
      "\n",
      "Salida counts = {'0': 1}\n",
      "Given the former angle theta and quantum state, the new prediction is:\n",
      "Prediction = 0\n",
      "int(Prediction) = 0 \n",
      "\n",
      "Salida counts = {'0': 1}\n",
      "Given the former angle theta and quantum state, the new prediction is:\n",
      "Prediction = 0\n",
      "int(Prediction) = 0 \n",
      "\n",
      "Salida counts = {'0': 1}\n",
      "Given the former angle theta and quantum state, the new prediction is:\n",
      "Prediction = 0\n",
      "int(Prediction) = 0 \n",
      "\n",
      "Salida counts = {'1': 1}\n",
      "Given the former angle theta and quantum state, the new prediction is:\n",
      "Prediction = 1\n",
      "int(Prediction) = 1 \n",
      "\n",
      "Salida counts = {'0': 1}\n",
      "Given the former angle theta and quantum state, the new prediction is:\n",
      "Prediction = 0\n",
      "int(Prediction) = 0 \n",
      "\n",
      "Salida counts = {'0': 1}\n",
      "Given the former angle theta and quantum state, the new prediction is:\n",
      "Prediction = 0\n",
      "int(Prediction) = 0 \n",
      "\n",
      "Salida counts = {'1': 1}\n",
      "Given the former angle theta and quantum state, the new prediction is:\n",
      "Prediction = 1\n",
      "int(Prediction) = 1 \n",
      "\n",
      "Salida counts = {'0': 1}\n",
      "Given the former angle theta and quantum state, the new prediction is:\n",
      "Prediction = 0\n",
      "int(Prediction) = 0 \n",
      "\n",
      "Salida counts = {'0': 1}\n",
      "Given the former angle theta and quantum state, the new prediction is:\n",
      "Prediction = 0\n",
      "int(Prediction) = 0 \n",
      "\n",
      "Salida counts = {'0': 1}\n",
      "Given the former angle theta and quantum state, the new prediction is:\n",
      "Prediction = 0\n",
      "int(Prediction) = 0 \n",
      "\n",
      "Salida counts = {'0': 1}\n",
      "Given the former angle theta and quantum state, the new prediction is:\n",
      "Prediction = 0\n",
      "int(Prediction) = 0 \n",
      "\n",
      "Salida counts = {'0': 1}\n",
      "Given the former angle theta and quantum state, the new prediction is:\n",
      "Prediction = 0\n",
      "int(Prediction) = 0 \n",
      "\n",
      "Salida counts = {'1': 1}\n",
      "Given the former angle theta and quantum state, the new prediction is:\n",
      "Prediction = 1\n",
      "int(Prediction) = 1 \n",
      "\n",
      "Salida counts = {'1': 1}\n",
      "Given the former angle theta and quantum state, the new prediction is:\n",
      "Prediction = 1\n",
      "int(Prediction) = 1 \n",
      "\n",
      "Salida counts = {'0': 1}\n",
      "Given the former angle theta and quantum state, the new prediction is:\n",
      "Prediction = 0\n",
      "int(Prediction) = 0 \n",
      "\n",
      "Salida counts = {'0': 1}\n",
      "Given the former angle theta and quantum state, the new prediction is:\n",
      "Prediction = 0\n",
      "int(Prediction) = 0 \n",
      "\n",
      "Salida counts = {'1': 1}\n",
      "Given the former angle theta and quantum state, the new prediction is:\n",
      "Prediction = 1\n",
      "int(Prediction) = 1 \n",
      "\n",
      "Salida counts = {'1': 1}\n",
      "Given the former angle theta and quantum state, the new prediction is:\n",
      "Prediction = 1\n",
      "int(Prediction) = 1 \n",
      "\n",
      "Salida counts = {'0': 1}\n",
      "Given the former angle theta and quantum state, the new prediction is:\n",
      "Prediction = 0\n",
      "int(Prediction) = 0 \n",
      "\n",
      "Salida counts = {'0': 1}\n",
      "Given the former angle theta and quantum state, the new prediction is:\n",
      "Prediction = 0\n",
      "int(Prediction) = 0 \n",
      "\n",
      "Salida counts = {'1': 1}\n",
      "Given the former angle theta and quantum state, the new prediction is:\n",
      "Prediction = 1\n",
      "int(Prediction) = 1 \n",
      "\n",
      "Salida counts = {'0': 1}\n",
      "Given the former angle theta and quantum state, the new prediction is:\n",
      "Prediction = 0\n",
      "int(Prediction) = 0 \n",
      "\n",
      "Salida counts = {'1': 1}\n",
      "Given the former angle theta and quantum state, the new prediction is:\n",
      "Prediction = 1\n",
      "int(Prediction) = 1 \n",
      "\n",
      "Salida counts = {'0': 1}\n",
      "Given the former angle theta and quantum state, the new prediction is:\n",
      "Prediction = 0\n",
      "int(Prediction) = 0 \n",
      "\n",
      "Salida counts = {'1': 1}\n",
      "Given the former angle theta and quantum state, the new prediction is:\n",
      "Prediction = 1\n",
      "int(Prediction) = 1 \n",
      "\n",
      "Salida counts = {'1': 1}\n",
      "Given the former angle theta and quantum state, the new prediction is:\n",
      "Prediction = 1\n",
      "int(Prediction) = 1 \n",
      "\n",
      "Salida counts = {'1': 1}\n",
      "Given the former angle theta and quantum state, the new prediction is:\n",
      "Prediction = 1\n",
      "int(Prediction) = 1 \n",
      "\n",
      "Salida counts = {'0': 1}\n",
      "Given the former angle theta and quantum state, the new prediction is:\n",
      "Prediction = 0\n",
      "int(Prediction) = 0 \n",
      "\n",
      "Salida counts = {'1': 1}\n",
      "Given the former angle theta and quantum state, the new prediction is:\n",
      "Prediction = 1\n",
      "int(Prediction) = 1 \n",
      "\n",
      "Salida counts = {'1': 1}\n",
      "Given the former angle theta and quantum state, the new prediction is:\n",
      "Prediction = 1\n",
      "int(Prediction) = 1 \n",
      "\n",
      "Salida counts = {'0': 1}\n",
      "Given the former angle theta and quantum state, the new prediction is:\n",
      "Prediction = 0\n",
      "int(Prediction) = 0 \n",
      "\n",
      "Salida counts = {'0': 1}\n",
      "Given the former angle theta and quantum state, the new prediction is:\n",
      "Prediction = 0\n",
      "int(Prediction) = 0 \n",
      "\n",
      "Salida counts = {'1': 1}\n",
      "Given the former angle theta and quantum state, the new prediction is:\n",
      "Prediction = 1\n",
      "int(Prediction) = 1 \n",
      "\n",
      "Salida counts = {'1': 1}\n",
      "Given the former angle theta and quantum state, the new prediction is:\n",
      "Prediction = 1\n",
      "int(Prediction) = 1 \n",
      "\n",
      "Salida counts = {'1': 1}\n",
      "Given the former angle theta and quantum state, the new prediction is:\n",
      "Prediction = 1\n",
      "int(Prediction) = 1 \n",
      "\n",
      "Salida counts = {'1': 1}\n",
      "Given the former angle theta and quantum state, the new prediction is:\n",
      "Prediction = 1\n",
      "int(Prediction) = 1 \n",
      "\n",
      "Salida counts = {'0': 1}\n",
      "Given the former angle theta and quantum state, the new prediction is:\n",
      "Prediction = 0\n",
      "int(Prediction) = 0 \n",
      "\n",
      "Salida counts = {'0': 1}\n",
      "Given the former angle theta and quantum state, the new prediction is:\n",
      "Prediction = 0\n",
      "int(Prediction) = 0 \n",
      "\n",
      "Salida counts = {'0': 1}\n",
      "Given the former angle theta and quantum state, the new prediction is:\n",
      "Prediction = 0\n",
      "int(Prediction) = 0 \n",
      "\n",
      "Salida counts = {'0': 1}\n",
      "Given the former angle theta and quantum state, the new prediction is:\n",
      "Prediction = 0\n",
      "int(Prediction) = 0 \n",
      "\n",
      "Salida counts = {'0': 1}\n",
      "Given the former angle theta and quantum state, the new prediction is:\n",
      "Prediction = 0\n",
      "int(Prediction) = 0 \n",
      "\n",
      "Salida counts = {'1': 1}\n",
      "Given the former angle theta and quantum state, the new prediction is:\n",
      "Prediction = 1\n",
      "int(Prediction) = 1 \n",
      "\n",
      "Salida counts = {'0': 1}\n",
      "Given the former angle theta and quantum state, the new prediction is:\n",
      "Prediction = 0\n",
      "int(Prediction) = 0 \n",
      "\n",
      "Salida counts = {'1': 1}\n",
      "Given the former angle theta and quantum state, the new prediction is:\n",
      "Prediction = 1\n",
      "int(Prediction) = 1 \n",
      "\n",
      "Salida counts = {'1': 1}\n",
      "Given the former angle theta and quantum state, the new prediction is:\n",
      "Prediction = 1\n",
      "int(Prediction) = 1 \n",
      "\n",
      "Salida counts = {'1': 1}\n",
      "Given the former angle theta and quantum state, the new prediction is:\n",
      "Prediction = 1\n",
      "int(Prediction) = 1 \n",
      "\n",
      "Salida counts = {'1': 1}\n",
      "Given the former angle theta and quantum state, the new prediction is:\n",
      "Prediction = 1\n",
      "int(Prediction) = 1 \n",
      "\n",
      "Salida counts = {'0': 1}\n",
      "Given the former angle theta and quantum state, the new prediction is:\n",
      "Prediction = 0\n",
      "int(Prediction) = 0 \n",
      "\n",
      "Salida counts = {'0': 1}\n",
      "Given the former angle theta and quantum state, the new prediction is:\n",
      "Prediction = 0\n",
      "int(Prediction) = 0 \n",
      "\n",
      "Salida counts = {'0': 1}\n",
      "Given the former angle theta and quantum state, the new prediction is:\n",
      "Prediction = 0\n",
      "int(Prediction) = 0 \n",
      "\n",
      "Salida counts = {'1': 1}\n",
      "Given the former angle theta and quantum state, the new prediction is:\n",
      "Prediction = 1\n",
      "int(Prediction) = 1 \n",
      "\n",
      "Salida counts = {'1': 1}\n",
      "Given the former angle theta and quantum state, the new prediction is:\n",
      "Prediction = 1\n",
      "int(Prediction) = 1 \n",
      "\n",
      "Salida counts = {'1': 1}\n",
      "Given the former angle theta and quantum state, the new prediction is:\n",
      "Prediction = 1\n",
      "int(Prediction) = 1 \n",
      "\n",
      "Salida counts = {'0': 1}\n",
      "Given the former angle theta and quantum state, the new prediction is:\n",
      "Prediction = 0\n",
      "int(Prediction) = 0 \n",
      "\n",
      "Salida counts = {'0': 1}\n",
      "Given the former angle theta and quantum state, the new prediction is:\n",
      "Prediction = 0\n",
      "int(Prediction) = 0 \n",
      "\n",
      "Salida counts = {'0': 1}\n",
      "Given the former angle theta and quantum state, the new prediction is:\n",
      "Prediction = 0\n",
      "int(Prediction) = 0 \n",
      "\n",
      "Salida counts = {'0': 1}\n",
      "Given the former angle theta and quantum state, the new prediction is:\n",
      "Prediction = 0\n",
      "int(Prediction) = 0 \n",
      "\n",
      "Salida counts = {'0': 1}\n",
      "Given the former angle theta and quantum state, the new prediction is:\n",
      "Prediction = 0\n",
      "int(Prediction) = 0 \n",
      "\n",
      "Salida counts = {'0': 1}\n",
      "Given the former angle theta and quantum state, the new prediction is:\n",
      "Prediction = 0\n",
      "int(Prediction) = 0 \n",
      "\n",
      "Salida counts = {'1': 1}\n",
      "Given the former angle theta and quantum state, the new prediction is:\n",
      "Prediction = 1\n",
      "int(Prediction) = 1 \n",
      "\n",
      "Salida counts = {'1': 1}\n",
      "Given the former angle theta and quantum state, the new prediction is:\n",
      "Prediction = 1\n",
      "int(Prediction) = 1 \n",
      "\n",
      "Salida counts = {'0': 1}\n",
      "Given the former angle theta and quantum state, the new prediction is:\n",
      "Prediction = 0\n",
      "int(Prediction) = 0 \n",
      "\n",
      "Salida counts = {'0': 1}\n",
      "Given the former angle theta and quantum state, the new prediction is:\n",
      "Prediction = 0\n",
      "int(Prediction) = 0 \n",
      "\n",
      "Salida counts = {'1': 1}\n",
      "Given the former angle theta and quantum state, the new prediction is:\n",
      "Prediction = 1\n",
      "int(Prediction) = 1 \n",
      "\n",
      "Salida counts = {'0': 1}\n",
      "Given the former angle theta and quantum state, the new prediction is:\n",
      "Prediction = 0\n",
      "int(Prediction) = 0 \n",
      "\n",
      "Salida counts = {'1': 1}\n",
      "Given the former angle theta and quantum state, the new prediction is:\n",
      "Prediction = 1\n",
      "int(Prediction) = 1 \n",
      "\n",
      "Salida counts = {'0': 1}\n",
      "Given the former angle theta and quantum state, the new prediction is:\n",
      "Prediction = 0\n",
      "int(Prediction) = 0 \n",
      "\n",
      "Salida counts = {'0': 1}\n",
      "Given the former angle theta and quantum state, the new prediction is:\n",
      "Prediction = 0\n",
      "int(Prediction) = 0 \n",
      "\n",
      "Salida counts = {'0': 1}\n",
      "Given the former angle theta and quantum state, the new prediction is:\n",
      "Prediction = 0\n",
      "int(Prediction) = 0 \n",
      "\n",
      "Salida counts = {'0': 1}\n",
      "Given the former angle theta and quantum state, the new prediction is:\n",
      "Prediction = 0\n",
      "int(Prediction) = 0 \n",
      "\n",
      "Salida counts = {'0': 1}\n",
      "Given the former angle theta and quantum state, the new prediction is:\n",
      "Prediction = 0\n",
      "int(Prediction) = 0 \n",
      "\n",
      "Salida counts = {'0': 1}\n",
      "Given the former angle theta and quantum state, the new prediction is:\n",
      "Prediction = 0\n",
      "int(Prediction) = 0 \n",
      "\n",
      "Salida counts = {'1': 1}\n",
      "Given the former angle theta and quantum state, the new prediction is:\n",
      "Prediction = 1\n",
      "int(Prediction) = 1 \n",
      "\n",
      "Salida counts = {'0': 1}\n",
      "Given the former angle theta and quantum state, the new prediction is:\n",
      "Prediction = 0\n",
      "int(Prediction) = 0 \n",
      "\n",
      "Salida counts = {'1': 1}\n",
      "Given the former angle theta and quantum state, the new prediction is:\n",
      "Prediction = 1\n",
      "int(Prediction) = 1 \n",
      "\n",
      "Salida counts = {'1': 1}\n",
      "Given the former angle theta and quantum state, the new prediction is:\n",
      "Prediction = 1\n",
      "int(Prediction) = 1 \n",
      "\n",
      "Salida counts = {'1': 1}\n",
      "Given the former angle theta and quantum state, the new prediction is:\n",
      "Prediction = 1\n",
      "int(Prediction) = 1 \n",
      "\n",
      "Salida counts = {'1': 1}\n",
      "Given the former angle theta and quantum state, the new prediction is:\n",
      "Prediction = 1\n",
      "int(Prediction) = 1 \n",
      "\n",
      "Salida counts = {'1': 1}\n",
      "Given the former angle theta and quantum state, the new prediction is:\n",
      "Prediction = 1\n",
      "int(Prediction) = 1 \n",
      "\n",
      "Salida counts = {'0': 1}\n",
      "Given the former angle theta and quantum state, the new prediction is:\n",
      "Prediction = 0\n",
      "int(Prediction) = 0 \n",
      "\n",
      "Salida counts = {'1': 1}\n",
      "Given the former angle theta and quantum state, the new prediction is:\n",
      "Prediction = 1\n",
      "int(Prediction) = 1 \n",
      "\n",
      "Salida counts = {'0': 1}\n",
      "Given the former angle theta and quantum state, the new prediction is:\n",
      "Prediction = 0\n",
      "int(Prediction) = 0 \n",
      "\n",
      "Salida counts = {'1': 1}\n",
      "Given the former angle theta and quantum state, the new prediction is:\n",
      "Prediction = 1\n",
      "int(Prediction) = 1 \n",
      "\n",
      "Salida counts = {'0': 1}\n",
      "Given the former angle theta and quantum state, the new prediction is:\n",
      "Prediction = 0\n",
      "int(Prediction) = 0 \n",
      "\n",
      "Salida counts = {'1': 1}\n",
      "Given the former angle theta and quantum state, the new prediction is:\n",
      "Prediction = 1\n",
      "int(Prediction) = 1 \n",
      "\n",
      "Salida counts = {'0': 1}\n",
      "Given the former angle theta and quantum state, the new prediction is:\n",
      "Prediction = 0\n",
      "int(Prediction) = 0 \n",
      "\n",
      "Salida counts = {'0': 1}\n",
      "Given the former angle theta and quantum state, the new prediction is:\n",
      "Prediction = 0\n",
      "int(Prediction) = 0 \n",
      "\n",
      "Salida counts = {'1': 1}\n",
      "Given the former angle theta and quantum state, the new prediction is:\n",
      "Prediction = 1\n",
      "int(Prediction) = 1 \n",
      "\n",
      "Salida counts = {'1': 1}\n",
      "Given the former angle theta and quantum state, the new prediction is:\n",
      "Prediction = 1\n",
      "int(Prediction) = 1 \n",
      "\n",
      "Salida counts = {'0': 1}\n",
      "Given the former angle theta and quantum state, the new prediction is:\n",
      "Prediction = 0\n",
      "int(Prediction) = 0 \n",
      "\n",
      "Salida counts = {'0': 1}\n",
      "Given the former angle theta and quantum state, the new prediction is:\n",
      "Prediction = 0\n",
      "int(Prediction) = 0 \n",
      "\n",
      "Salida counts = {'0': 1}\n",
      "Given the former angle theta and quantum state, the new prediction is:\n",
      "Prediction = 0\n",
      "int(Prediction) = 0 \n",
      "\n",
      "Salida counts = {'0': 1}\n",
      "Given the former angle theta and quantum state, the new prediction is:\n",
      "Prediction = 0\n",
      "int(Prediction) = 0 \n",
      "\n",
      "Salida counts = {'1': 1}\n",
      "Given the former angle theta and quantum state, the new prediction is:\n",
      "Prediction = 1\n",
      "int(Prediction) = 1 \n",
      "\n",
      "Salida counts = {'1': 1}\n",
      "Given the former angle theta and quantum state, the new prediction is:\n",
      "Prediction = 1\n",
      "int(Prediction) = 1 \n",
      "\n",
      "Salida counts = {'1': 1}\n",
      "Given the former angle theta and quantum state, the new prediction is:\n",
      "Prediction = 1\n",
      "int(Prediction) = 1 \n",
      "\n",
      "Salida counts = {'0': 1}\n",
      "Given the former angle theta and quantum state, the new prediction is:\n",
      "Prediction = 0\n",
      "int(Prediction) = 0 \n",
      "\n",
      "Salida counts = {'0': 1}\n",
      "Given the former angle theta and quantum state, the new prediction is:\n",
      "Prediction = 0\n",
      "int(Prediction) = 0 \n",
      "\n",
      "Salida counts = {'1': 1}\n",
      "Given the former angle theta and quantum state, the new prediction is:\n",
      "Prediction = 1\n",
      "int(Prediction) = 1 \n",
      "\n",
      "Salida counts = {'0': 1}\n",
      "Given the former angle theta and quantum state, the new prediction is:\n",
      "Prediction = 0\n",
      "int(Prediction) = 0 \n",
      "\n",
      "Salida counts = {'1': 1}\n",
      "Given the former angle theta and quantum state, the new prediction is:\n",
      "Prediction = 1\n",
      "int(Prediction) = 1 \n",
      "\n",
      "Salida counts = {'1': 1}\n",
      "Given the former angle theta and quantum state, the new prediction is:\n",
      "Prediction = 1\n",
      "int(Prediction) = 1 \n",
      "\n",
      "Salida counts = {'0': 1}\n",
      "Given the former angle theta and quantum state, the new prediction is:\n",
      "Prediction = 0\n",
      "int(Prediction) = 0 \n",
      "\n",
      "Salida counts = {'0': 1}\n",
      "Given the former angle theta and quantum state, the new prediction is:\n",
      "Prediction = 0\n",
      "int(Prediction) = 0 \n",
      "\n",
      "Salida counts = {'0': 1}\n",
      "Given the former angle theta and quantum state, the new prediction is:\n",
      "Prediction = 0\n",
      "int(Prediction) = 0 \n",
      "\n",
      "Salida counts = {'0': 1}\n",
      "Given the former angle theta and quantum state, the new prediction is:\n",
      "Prediction = 0\n",
      "int(Prediction) = 0 \n",
      "\n",
      "Salida counts = {'1': 1}\n",
      "Given the former angle theta and quantum state, the new prediction is:\n",
      "Prediction = 1\n",
      "int(Prediction) = 1 \n",
      "\n",
      "Salida counts = {'0': 1}\n",
      "Given the former angle theta and quantum state, the new prediction is:\n",
      "Prediction = 0\n",
      "int(Prediction) = 0 \n",
      "\n",
      "Salida counts = {'1': 1}\n",
      "Given the former angle theta and quantum state, the new prediction is:\n",
      "Prediction = 1\n",
      "int(Prediction) = 1 \n",
      "\n",
      "Salida counts = {'0': 1}\n",
      "Given the former angle theta and quantum state, the new prediction is:\n",
      "Prediction = 0\n",
      "int(Prediction) = 0 \n",
      "\n",
      "Salida counts = {'0': 1}\n",
      "Given the former angle theta and quantum state, the new prediction is:\n",
      "Prediction = 0\n",
      "int(Prediction) = 0 \n",
      "\n",
      "Salida counts = {'0': 1}\n",
      "Given the former angle theta and quantum state, the new prediction is:\n",
      "Prediction = 0\n",
      "int(Prediction) = 0 \n",
      "\n",
      "Salida counts = {'0': 1}\n",
      "Given the former angle theta and quantum state, the new prediction is:\n",
      "Prediction = 0\n",
      "int(Prediction) = 0 \n",
      "\n",
      "Salida counts = {'1': 1}\n",
      "Given the former angle theta and quantum state, the new prediction is:\n",
      "Prediction = 1\n",
      "int(Prediction) = 1 \n",
      "\n",
      "Salida counts = {'0': 1}\n",
      "Given the former angle theta and quantum state, the new prediction is:\n",
      "Prediction = 0\n",
      "int(Prediction) = 0 \n",
      "\n",
      "Salida counts = {'0': 1}\n",
      "Given the former angle theta and quantum state, the new prediction is:\n",
      "Prediction = 0\n",
      "int(Prediction) = 0 \n",
      "\n",
      "Salida counts = {'1': 1}\n",
      "Given the former angle theta and quantum state, the new prediction is:\n",
      "Prediction = 1\n",
      "int(Prediction) = 1 \n",
      "\n",
      "Salida counts = {'1': 1}\n",
      "Given the former angle theta and quantum state, the new prediction is:\n",
      "Prediction = 1\n",
      "int(Prediction) = 1 \n",
      "\n",
      "Salida counts = {'0': 1}\n",
      "Given the former angle theta and quantum state, the new prediction is:\n",
      "Prediction = 0\n",
      "int(Prediction) = 0 \n",
      "\n",
      "Salida counts = {'0': 1}\n",
      "Given the former angle theta and quantum state, the new prediction is:\n",
      "Prediction = 0\n",
      "int(Prediction) = 0 \n",
      "\n",
      "Salida counts = {'1': 1}\n",
      "Given the former angle theta and quantum state, the new prediction is:\n",
      "Prediction = 1\n",
      "int(Prediction) = 1 \n",
      "\n",
      "Salida counts = {'0': 1}\n",
      "Given the former angle theta and quantum state, the new prediction is:\n",
      "Prediction = 0\n",
      "int(Prediction) = 0 \n",
      "\n",
      "Salida counts = {'0': 1}\n",
      "Given the former angle theta and quantum state, the new prediction is:\n",
      "Prediction = 0\n",
      "int(Prediction) = 0 \n",
      "\n",
      "Salida counts = {'1': 1}\n",
      "Given the former angle theta and quantum state, the new prediction is:\n",
      "Prediction = 1\n",
      "int(Prediction) = 1 \n",
      "\n",
      "Salida counts = {'0': 1}\n",
      "Given the former angle theta and quantum state, the new prediction is:\n",
      "Prediction = 0\n",
      "int(Prediction) = 0 \n",
      "\n",
      "Salida counts = {'1': 1}\n",
      "Given the former angle theta and quantum state, the new prediction is:\n",
      "Prediction = 1\n",
      "int(Prediction) = 1 \n",
      "\n",
      "Salida counts = {'1': 1}\n",
      "Given the former angle theta and quantum state, the new prediction is:\n",
      "Prediction = 1\n",
      "int(Prediction) = 1 \n",
      "\n",
      "Salida counts = {'1': 1}\n",
      "Given the former angle theta and quantum state, the new prediction is:\n",
      "Prediction = 1\n",
      "int(Prediction) = 1 \n",
      "\n",
      "Salida counts = {'1': 1}\n",
      "Given the former angle theta and quantum state, the new prediction is:\n",
      "Prediction = 1\n",
      "int(Prediction) = 1 \n",
      "\n",
      "Salida counts = {'1': 1}\n",
      "Given the former angle theta and quantum state, the new prediction is:\n",
      "Prediction = 1\n",
      "int(Prediction) = 1 \n",
      "\n",
      "Salida counts = {'0': 1}\n",
      "Given the former angle theta and quantum state, the new prediction is:\n",
      "Prediction = 0\n",
      "int(Prediction) = 0 \n",
      "\n",
      "Salida counts = {'1': 1}\n",
      "Given the former angle theta and quantum state, the new prediction is:\n",
      "Prediction = 1\n",
      "int(Prediction) = 1 \n",
      "\n",
      "Salida counts = {'0': 1}\n",
      "Given the former angle theta and quantum state, the new prediction is:\n",
      "Prediction = 0\n",
      "int(Prediction) = 0 \n",
      "\n",
      "Salida counts = {'1': 1}\n",
      "Given the former angle theta and quantum state, the new prediction is:\n",
      "Prediction = 1\n",
      "int(Prediction) = 1 \n",
      "\n",
      "Salida counts = {'0': 1}\n",
      "Given the former angle theta and quantum state, the new prediction is:\n",
      "Prediction = 0\n",
      "int(Prediction) = 0 \n",
      "\n",
      "Salida counts = {'1': 1}\n",
      "Given the former angle theta and quantum state, the new prediction is:\n",
      "Prediction = 1\n",
      "int(Prediction) = 1 \n",
      "\n",
      "Salida counts = {'0': 1}\n",
      "Given the former angle theta and quantum state, the new prediction is:\n",
      "Prediction = 0\n",
      "int(Prediction) = 0 \n",
      "\n",
      "Salida counts = {'0': 1}\n",
      "Given the former angle theta and quantum state, the new prediction is:\n",
      "Prediction = 0\n",
      "int(Prediction) = 0 \n",
      "\n",
      "Salida counts = {'0': 1}\n",
      "Given the former angle theta and quantum state, the new prediction is:\n",
      "Prediction = 0\n",
      "int(Prediction) = 0 \n",
      "\n",
      "Salida counts = {'1': 1}\n",
      "Given the former angle theta and quantum state, the new prediction is:\n",
      "Prediction = 1\n",
      "int(Prediction) = 1 \n",
      "\n",
      "Salida counts = {'1': 1}\n",
      "Given the former angle theta and quantum state, the new prediction is:\n",
      "Prediction = 1\n",
      "int(Prediction) = 1 \n",
      "\n",
      "Salida counts = {'0': 1}\n",
      "Given the former angle theta and quantum state, the new prediction is:\n",
      "Prediction = 0\n",
      "int(Prediction) = 0 \n",
      "\n",
      "Salida counts = {'1': 1}\n",
      "Given the former angle theta and quantum state, the new prediction is:\n",
      "Prediction = 1\n",
      "int(Prediction) = 1 \n",
      "\n",
      "Salida counts = {'0': 1}\n",
      "Given the former angle theta and quantum state, the new prediction is:\n",
      "Prediction = 0\n",
      "int(Prediction) = 0 \n",
      "\n",
      "Salida counts = {'1': 1}\n",
      "Given the former angle theta and quantum state, the new prediction is:\n",
      "Prediction = 1\n",
      "int(Prediction) = 1 \n",
      "\n",
      "Salida counts = {'0': 1}\n",
      "Given the former angle theta and quantum state, the new prediction is:\n",
      "Prediction = 0\n",
      "int(Prediction) = 0 \n",
      "\n",
      "Salida counts = {'0': 1}\n",
      "Given the former angle theta and quantum state, the new prediction is:\n",
      "Prediction = 0\n",
      "int(Prediction) = 0 \n",
      "\n",
      "Salida counts = {'0': 1}\n",
      "Given the former angle theta and quantum state, the new prediction is:\n",
      "Prediction = 0\n",
      "int(Prediction) = 0 \n",
      "\n",
      "Salida counts = {'1': 1}\n",
      "Given the former angle theta and quantum state, the new prediction is:\n",
      "Prediction = 1\n",
      "int(Prediction) = 1 \n",
      "\n",
      "Salida counts = {'0': 1}\n",
      "Given the former angle theta and quantum state, the new prediction is:\n",
      "Prediction = 0\n",
      "int(Prediction) = 0 \n",
      "\n",
      "Salida counts = {'1': 1}\n",
      "Given the former angle theta and quantum state, the new prediction is:\n",
      "Prediction = 1\n",
      "int(Prediction) = 1 \n",
      "\n",
      "Salida counts = {'1': 1}\n",
      "Given the former angle theta and quantum state, the new prediction is:\n",
      "Prediction = 1\n",
      "int(Prediction) = 1 \n",
      "\n",
      "Salida counts = {'1': 1}\n",
      "Given the former angle theta and quantum state, the new prediction is:\n",
      "Prediction = 1\n",
      "int(Prediction) = 1 \n",
      "\n",
      "Salida counts = {'0': 1}\n",
      "Given the former angle theta and quantum state, the new prediction is:\n",
      "Prediction = 0\n",
      "int(Prediction) = 0 \n",
      "\n",
      "Salida counts = {'1': 1}\n",
      "Given the former angle theta and quantum state, the new prediction is:\n",
      "Prediction = 1\n",
      "int(Prediction) = 1 \n",
      "\n",
      "Salida counts = {'0': 1}\n",
      "Given the former angle theta and quantum state, the new prediction is:\n",
      "Prediction = 0\n",
      "int(Prediction) = 0 \n",
      "\n",
      "Salida counts = {'0': 1}\n",
      "Given the former angle theta and quantum state, the new prediction is:\n",
      "Prediction = 0\n",
      "int(Prediction) = 0 \n",
      "\n",
      "Salida counts = {'1': 1}\n",
      "Given the former angle theta and quantum state, the new prediction is:\n",
      "Prediction = 1\n",
      "int(Prediction) = 1 \n",
      "\n",
      "Salida counts = {'0': 1}\n",
      "Given the former angle theta and quantum state, the new prediction is:\n",
      "Prediction = 0\n",
      "int(Prediction) = 0 \n",
      "\n",
      "Salida counts = {'0': 1}\n",
      "Given the former angle theta and quantum state, the new prediction is:\n",
      "Prediction = 0\n",
      "int(Prediction) = 0 \n",
      "\n",
      "Salida counts = {'0': 1}\n",
      "Given the former angle theta and quantum state, the new prediction is:\n",
      "Prediction = 0\n",
      "int(Prediction) = 0 \n",
      "\n",
      "Salida counts = {'0': 1}\n",
      "Given the former angle theta and quantum state, the new prediction is:\n",
      "Prediction = 0\n",
      "int(Prediction) = 0 \n",
      "\n",
      "Salida counts = {'1': 1}\n",
      "Given the former angle theta and quantum state, the new prediction is:\n",
      "Prediction = 1\n",
      "int(Prediction) = 1 \n",
      "\n",
      "Salida counts = {'1': 1}\n",
      "Given the former angle theta and quantum state, the new prediction is:\n",
      "Prediction = 1\n",
      "int(Prediction) = 1 \n",
      "\n",
      "Salida counts = {'1': 1}\n",
      "Given the former angle theta and quantum state, the new prediction is:\n",
      "Prediction = 1\n",
      "int(Prediction) = 1 \n",
      "\n",
      "Salida counts = {'0': 1}\n",
      "Given the former angle theta and quantum state, the new prediction is:\n",
      "Prediction = 0\n",
      "int(Prediction) = 0 \n",
      "\n",
      "Salida counts = {'1': 1}\n",
      "Given the former angle theta and quantum state, the new prediction is:\n",
      "Prediction = 1\n",
      "int(Prediction) = 1 \n",
      "\n",
      "Salida counts = {'0': 1}\n",
      "Given the former angle theta and quantum state, the new prediction is:\n",
      "Prediction = 0\n",
      "int(Prediction) = 0 \n",
      "\n",
      "Salida counts = {'0': 1}\n",
      "Given the former angle theta and quantum state, the new prediction is:\n",
      "Prediction = 0\n",
      "int(Prediction) = 0 \n",
      "\n",
      "Salida counts = {'1': 1}\n",
      "Given the former angle theta and quantum state, the new prediction is:\n",
      "Prediction = 1\n",
      "int(Prediction) = 1 \n",
      "\n",
      "Salida counts = {'0': 1}\n",
      "Given the former angle theta and quantum state, the new prediction is:\n",
      "Prediction = 0\n",
      "int(Prediction) = 0 \n",
      "\n",
      "Salida counts = {'1': 1}\n",
      "Given the former angle theta and quantum state, the new prediction is:\n",
      "Prediction = 1\n",
      "int(Prediction) = 1 \n",
      "\n",
      "Salida counts = {'1': 1}\n",
      "Given the former angle theta and quantum state, the new prediction is:\n",
      "Prediction = 1\n",
      "int(Prediction) = 1 \n",
      "\n",
      "Salida counts = {'0': 1}\n",
      "Given the former angle theta and quantum state, the new prediction is:\n",
      "Prediction = 0\n",
      "int(Prediction) = 0 \n",
      "\n",
      "Salida counts = {'0': 1}\n",
      "Given the former angle theta and quantum state, the new prediction is:\n",
      "Prediction = 0\n",
      "int(Prediction) = 0 \n",
      "\n",
      "Salida counts = {'0': 1}\n",
      "Given the former angle theta and quantum state, the new prediction is:\n",
      "Prediction = 0\n",
      "int(Prediction) = 0 \n",
      "\n",
      "Salida counts = {'0': 1}\n",
      "Given the former angle theta and quantum state, the new prediction is:\n",
      "Prediction = 0\n",
      "int(Prediction) = 0 \n",
      "\n",
      "Salida counts = {'1': 1}\n",
      "Given the former angle theta and quantum state, the new prediction is:\n",
      "Prediction = 1\n",
      "int(Prediction) = 1 \n",
      "\n",
      "Salida counts = {'1': 1}\n",
      "Given the former angle theta and quantum state, the new prediction is:\n",
      "Prediction = 1\n",
      "int(Prediction) = 1 \n",
      "\n",
      "Salida counts = {'1': 1}\n",
      "Given the former angle theta and quantum state, the new prediction is:\n",
      "Prediction = 1\n",
      "int(Prediction) = 1 \n",
      "\n",
      "Salida counts = {'1': 1}\n",
      "Given the former angle theta and quantum state, the new prediction is:\n",
      "Prediction = 1\n",
      "int(Prediction) = 1 \n",
      "\n",
      "Salida counts = {'1': 1}\n",
      "Given the former angle theta and quantum state, the new prediction is:\n",
      "Prediction = 1\n",
      "int(Prediction) = 1 \n",
      "\n",
      "Salida counts = {'1': 1}\n",
      "Given the former angle theta and quantum state, the new prediction is:\n",
      "Prediction = 1\n",
      "int(Prediction) = 1 \n",
      "\n",
      "Salida counts = {'1': 1}\n",
      "Given the former angle theta and quantum state, the new prediction is:\n",
      "Prediction = 1\n",
      "int(Prediction) = 1 \n",
      "\n",
      "Salida counts = {'0': 1}\n",
      "Given the former angle theta and quantum state, the new prediction is:\n",
      "Prediction = 0\n",
      "int(Prediction) = 0 \n",
      "\n",
      "Salida counts = {'1': 1}\n",
      "Given the former angle theta and quantum state, the new prediction is:\n",
      "Prediction = 1\n",
      "int(Prediction) = 1 \n",
      "\n",
      "Salida counts = {'1': 1}\n",
      "Given the former angle theta and quantum state, the new prediction is:\n",
      "Prediction = 1\n",
      "int(Prediction) = 1 \n",
      "\n",
      "Salida counts = {'0': 1}\n",
      "Given the former angle theta and quantum state, the new prediction is:\n",
      "Prediction = 0\n",
      "int(Prediction) = 0 \n",
      "\n",
      "Salida counts = {'1': 1}\n",
      "Given the former angle theta and quantum state, the new prediction is:\n",
      "Prediction = 1\n",
      "int(Prediction) = 1 \n",
      "\n",
      "Salida counts = {'1': 1}\n",
      "Given the former angle theta and quantum state, the new prediction is:\n",
      "Prediction = 1\n",
      "int(Prediction) = 1 \n",
      "\n",
      "Salida counts = {'1': 1}\n",
      "Given the former angle theta and quantum state, the new prediction is:\n",
      "Prediction = 1\n",
      "int(Prediction) = 1 \n",
      "\n",
      "Salida counts = {'1': 1}\n",
      "Given the former angle theta and quantum state, the new prediction is:\n",
      "Prediction = 1\n",
      "int(Prediction) = 1 \n",
      "\n",
      "Salida counts = {'1': 1}\n",
      "Given the former angle theta and quantum state, the new prediction is:\n",
      "Prediction = 1\n",
      "int(Prediction) = 1 \n",
      "\n",
      "Salida counts = {'0': 1}\n",
      "Given the former angle theta and quantum state, the new prediction is:\n",
      "Prediction = 0\n",
      "int(Prediction) = 0 \n",
      "\n",
      "Salida counts = {'1': 1}\n",
      "Given the former angle theta and quantum state, the new prediction is:\n",
      "Prediction = 1\n",
      "int(Prediction) = 1 \n",
      "\n",
      "Salida counts = {'0': 1}\n",
      "Given the former angle theta and quantum state, the new prediction is:\n",
      "Prediction = 0\n",
      "int(Prediction) = 0 \n",
      "\n",
      "Salida counts = {'1': 1}\n",
      "Given the former angle theta and quantum state, the new prediction is:\n",
      "Prediction = 1\n",
      "int(Prediction) = 1 \n",
      "\n",
      "Salida counts = {'0': 1}\n",
      "Given the former angle theta and quantum state, the new prediction is:\n",
      "Prediction = 0\n",
      "int(Prediction) = 0 \n",
      "\n",
      "Salida counts = {'0': 1}\n",
      "Given the former angle theta and quantum state, the new prediction is:\n",
      "Prediction = 0\n",
      "int(Prediction) = 0 \n",
      "\n",
      "Salida counts = {'1': 1}\n",
      "Given the former angle theta and quantum state, the new prediction is:\n",
      "Prediction = 1\n",
      "int(Prediction) = 1 \n",
      "\n",
      "Salida counts = {'1': 1}\n",
      "Given the former angle theta and quantum state, the new prediction is:\n",
      "Prediction = 1\n",
      "int(Prediction) = 1 \n",
      "\n",
      "Salida counts = {'1': 1}\n",
      "Given the former angle theta and quantum state, the new prediction is:\n",
      "Prediction = 1\n",
      "int(Prediction) = 1 \n",
      "\n",
      "Salida counts = {'0': 1}\n",
      "Given the former angle theta and quantum state, the new prediction is:\n",
      "Prediction = 0\n",
      "int(Prediction) = 0 \n",
      "\n",
      "Salida counts = {'1': 1}\n",
      "Given the former angle theta and quantum state, the new prediction is:\n",
      "Prediction = 1\n",
      "int(Prediction) = 1 \n",
      "\n",
      "Salida counts = {'0': 1}\n",
      "Given the former angle theta and quantum state, the new prediction is:\n",
      "Prediction = 0\n",
      "int(Prediction) = 0 \n",
      "\n",
      "Salida counts = {'0': 1}\n",
      "Given the former angle theta and quantum state, the new prediction is:\n",
      "Prediction = 0\n",
      "int(Prediction) = 0 \n",
      "\n",
      "Salida counts = {'0': 1}\n",
      "Given the former angle theta and quantum state, the new prediction is:\n",
      "Prediction = 0\n",
      "int(Prediction) = 0 \n",
      "\n",
      "Salida counts = {'0': 1}\n",
      "Given the former angle theta and quantum state, the new prediction is:\n",
      "Prediction = 0\n",
      "int(Prediction) = 0 \n",
      "\n",
      "Salida counts = {'0': 1}\n",
      "Given the former angle theta and quantum state, the new prediction is:\n",
      "Prediction = 0\n",
      "int(Prediction) = 0 \n",
      "\n",
      "Salida counts = {'1': 1}\n",
      "Given the former angle theta and quantum state, the new prediction is:\n",
      "Prediction = 1\n",
      "int(Prediction) = 1 \n",
      "\n",
      "Salida counts = {'0': 1}\n",
      "Given the former angle theta and quantum state, the new prediction is:\n",
      "Prediction = 0\n",
      "int(Prediction) = 0 \n",
      "\n",
      "Salida counts = {'1': 1}\n",
      "Given the former angle theta and quantum state, the new prediction is:\n",
      "Prediction = 1\n",
      "int(Prediction) = 1 \n",
      "\n",
      "Salida counts = {'1': 1}\n",
      "Given the former angle theta and quantum state, the new prediction is:\n",
      "Prediction = 1\n",
      "int(Prediction) = 1 \n",
      "\n",
      "Salida counts = {'0': 1}\n",
      "Given the former angle theta and quantum state, the new prediction is:\n",
      "Prediction = 0\n",
      "int(Prediction) = 0 \n",
      "\n",
      "Salida counts = {'0': 1}\n",
      "Given the former angle theta and quantum state, the new prediction is:\n",
      "Prediction = 0\n",
      "int(Prediction) = 0 \n",
      "\n",
      "Salida counts = {'0': 1}\n",
      "Given the former angle theta and quantum state, the new prediction is:\n",
      "Prediction = 0\n",
      "int(Prediction) = 0 \n",
      "\n",
      "Salida counts = {'0': 1}\n",
      "Given the former angle theta and quantum state, the new prediction is:\n",
      "Prediction = 0\n",
      "int(Prediction) = 0 \n",
      "\n",
      "Salida counts = {'1': 1}\n",
      "Given the former angle theta and quantum state, the new prediction is:\n",
      "Prediction = 1\n",
      "int(Prediction) = 1 \n",
      "\n",
      "Salida counts = {'0': 1}\n",
      "Given the former angle theta and quantum state, the new prediction is:\n",
      "Prediction = 0\n",
      "int(Prediction) = 0 \n",
      "\n",
      "Salida counts = {'1': 1}\n",
      "Given the former angle theta and quantum state, the new prediction is:\n",
      "Prediction = 1\n",
      "int(Prediction) = 1 \n",
      "\n",
      "Salida counts = {'1': 1}\n",
      "Given the former angle theta and quantum state, the new prediction is:\n",
      "Prediction = 1\n",
      "int(Prediction) = 1 \n",
      "\n",
      "Salida counts = {'1': 1}\n",
      "Given the former angle theta and quantum state, the new prediction is:\n",
      "Prediction = 1\n",
      "int(Prediction) = 1 \n",
      "\n",
      "Salida counts = {'1': 1}\n",
      "Given the former angle theta and quantum state, the new prediction is:\n",
      "Prediction = 1\n",
      "int(Prediction) = 1 \n",
      "\n",
      "Salida counts = {'1': 1}\n",
      "Given the former angle theta and quantum state, the new prediction is:\n",
      "Prediction = 1\n",
      "int(Prediction) = 1 \n",
      "\n",
      "Salida counts = {'1': 1}\n",
      "Given the former angle theta and quantum state, the new prediction is:\n",
      "Prediction = 1\n",
      "int(Prediction) = 1 \n",
      "\n",
      "Salida counts = {'0': 1}\n",
      "Given the former angle theta and quantum state, the new prediction is:\n",
      "Prediction = 0\n",
      "int(Prediction) = 0 \n",
      "\n",
      "Salida counts = {'0': 1}\n",
      "Given the former angle theta and quantum state, the new prediction is:\n",
      "Prediction = 0\n",
      "int(Prediction) = 0 \n",
      "\n",
      "Salida counts = {'0': 1}\n",
      "Given the former angle theta and quantum state, the new prediction is:\n",
      "Prediction = 0\n",
      "int(Prediction) = 0 \n",
      "\n",
      "Salida counts = {'0': 1}\n",
      "Given the former angle theta and quantum state, the new prediction is:\n",
      "Prediction = 0\n",
      "int(Prediction) = 0 \n",
      "\n",
      "Salida counts = {'0': 1}\n",
      "Given the former angle theta and quantum state, the new prediction is:\n",
      "Prediction = 0\n",
      "int(Prediction) = 0 \n",
      "\n",
      "Salida counts = {'1': 1}\n",
      "Given the former angle theta and quantum state, the new prediction is:\n",
      "Prediction = 1\n",
      "int(Prediction) = 1 \n",
      "\n",
      "Salida counts = {'0': 1}\n",
      "Given the former angle theta and quantum state, the new prediction is:\n",
      "Prediction = 0\n",
      "int(Prediction) = 0 \n",
      "\n",
      "Salida counts = {'1': 1}\n",
      "Given the former angle theta and quantum state, the new prediction is:\n",
      "Prediction = 1\n",
      "int(Prediction) = 1 \n",
      "\n",
      "Salida counts = {'0': 1}\n",
      "Given the former angle theta and quantum state, the new prediction is:\n",
      "Prediction = 0\n",
      "int(Prediction) = 0 \n",
      "\n",
      "Salida counts = {'0': 1}\n",
      "Given the former angle theta and quantum state, the new prediction is:\n",
      "Prediction = 0\n",
      "int(Prediction) = 0 \n",
      "\n",
      "Salida counts = {'1': 1}\n",
      "Given the former angle theta and quantum state, the new prediction is:\n",
      "Prediction = 1\n",
      "int(Prediction) = 1 \n",
      "\n",
      "Salida counts = {'1': 1}\n",
      "Given the former angle theta and quantum state, the new prediction is:\n",
      "Prediction = 1\n",
      "int(Prediction) = 1 \n",
      "\n",
      "Salida counts = {'0': 1}\n",
      "Given the former angle theta and quantum state, the new prediction is:\n",
      "Prediction = 0\n",
      "int(Prediction) = 0 \n",
      "\n",
      "Salida counts = {'1': 1}\n",
      "Given the former angle theta and quantum state, the new prediction is:\n",
      "Prediction = 1\n",
      "int(Prediction) = 1 \n",
      "\n",
      "Salida counts = {'1': 1}\n",
      "Given the former angle theta and quantum state, the new prediction is:\n",
      "Prediction = 1\n",
      "int(Prediction) = 1 \n",
      "\n",
      "Salida counts = {'0': 1}\n",
      "Given the former angle theta and quantum state, the new prediction is:\n",
      "Prediction = 0\n",
      "int(Prediction) = 0 \n",
      "\n",
      "Salida counts = {'1': 1}\n",
      "Given the former angle theta and quantum state, the new prediction is:\n",
      "Prediction = 1\n",
      "int(Prediction) = 1 \n",
      "\n",
      "Salida counts = {'1': 1}\n",
      "Given the former angle theta and quantum state, the new prediction is:\n",
      "Prediction = 1\n",
      "int(Prediction) = 1 \n",
      "\n",
      "Salida counts = {'0': 1}\n",
      "Given the former angle theta and quantum state, the new prediction is:\n",
      "Prediction = 0\n",
      "int(Prediction) = 0 \n",
      "\n",
      "Salida counts = {'1': 1}\n",
      "Given the former angle theta and quantum state, the new prediction is:\n",
      "Prediction = 1\n",
      "int(Prediction) = 1 \n",
      "\n",
      "Salida counts = {'1': 1}\n",
      "Given the former angle theta and quantum state, the new prediction is:\n",
      "Prediction = 1\n",
      "int(Prediction) = 1 \n",
      "\n",
      "Salida counts = {'0': 1}\n",
      "Given the former angle theta and quantum state, the new prediction is:\n",
      "Prediction = 0\n",
      "int(Prediction) = 0 \n",
      "\n",
      "Salida counts = {'0': 1}\n",
      "Given the former angle theta and quantum state, the new prediction is:\n",
      "Prediction = 0\n",
      "int(Prediction) = 0 \n",
      "\n",
      "Salida counts = {'0': 1}\n",
      "Given the former angle theta and quantum state, the new prediction is:\n",
      "Prediction = 0\n",
      "int(Prediction) = 0 \n",
      "\n",
      "Salida counts = {'0': 1}\n",
      "Given the former angle theta and quantum state, the new prediction is:\n",
      "Prediction = 0\n",
      "int(Prediction) = 0 \n",
      "\n",
      "Salida counts = {'0': 1}\n",
      "Given the former angle theta and quantum state, the new prediction is:\n",
      "Prediction = 0\n",
      "int(Prediction) = 0 \n",
      "\n",
      "Salida counts = {'0': 1}\n",
      "Given the former angle theta and quantum state, the new prediction is:\n",
      "Prediction = 0\n",
      "int(Prediction) = 0 \n",
      "\n",
      "Salida counts = {'1': 1}\n",
      "Given the former angle theta and quantum state, the new prediction is:\n",
      "Prediction = 1\n",
      "int(Prediction) = 1 \n",
      "\n",
      "Salida counts = {'0': 1}\n",
      "Given the former angle theta and quantum state, the new prediction is:\n",
      "Prediction = 0\n",
      "int(Prediction) = 0 \n",
      "\n",
      "Salida counts = {'1': 1}\n",
      "Given the former angle theta and quantum state, the new prediction is:\n",
      "Prediction = 1\n",
      "int(Prediction) = 1 \n",
      "\n",
      "Salida counts = {'0': 1}\n",
      "Given the former angle theta and quantum state, the new prediction is:\n",
      "Prediction = 0\n",
      "int(Prediction) = 0 \n",
      "\n",
      "Salida counts = {'1': 1}\n",
      "Given the former angle theta and quantum state, the new prediction is:\n",
      "Prediction = 1\n",
      "int(Prediction) = 1 \n",
      "\n",
      "Salida counts = {'0': 1}\n",
      "Given the former angle theta and quantum state, the new prediction is:\n",
      "Prediction = 0\n",
      "int(Prediction) = 0 \n",
      "\n",
      "Salida counts = {'1': 1}\n",
      "Given the former angle theta and quantum state, the new prediction is:\n",
      "Prediction = 1\n",
      "int(Prediction) = 1 \n",
      "\n",
      "Salida counts = {'0': 1}\n",
      "Given the former angle theta and quantum state, the new prediction is:\n",
      "Prediction = 0\n",
      "int(Prediction) = 0 \n",
      "\n",
      "Salida counts = {'0': 1}\n",
      "Given the former angle theta and quantum state, the new prediction is:\n",
      "Prediction = 0\n",
      "int(Prediction) = 0 \n",
      "\n",
      "Salida counts = {'0': 1}\n",
      "Given the former angle theta and quantum state, the new prediction is:\n",
      "Prediction = 0\n",
      "int(Prediction) = 0 \n",
      "\n",
      "Salida counts = {'1': 1}\n",
      "Given the former angle theta and quantum state, the new prediction is:\n",
      "Prediction = 1\n",
      "int(Prediction) = 1 \n",
      "\n",
      "Salida counts = {'1': 1}\n",
      "Given the former angle theta and quantum state, the new prediction is:\n",
      "Prediction = 1\n",
      "int(Prediction) = 1 \n",
      "\n",
      "Salida counts = {'1': 1}\n",
      "Given the former angle theta and quantum state, the new prediction is:\n",
      "Prediction = 1\n",
      "int(Prediction) = 1 \n",
      "\n",
      "Salida counts = {'0': 1}\n",
      "Given the former angle theta and quantum state, the new prediction is:\n",
      "Prediction = 0\n",
      "int(Prediction) = 0 \n",
      "\n",
      "Salida counts = {'1': 1}\n",
      "Given the former angle theta and quantum state, the new prediction is:\n",
      "Prediction = 1\n",
      "int(Prediction) = 1 \n",
      "\n",
      "Salida counts = {'1': 1}\n",
      "Given the former angle theta and quantum state, the new prediction is:\n",
      "Prediction = 1\n",
      "int(Prediction) = 1 \n",
      "\n",
      "Salida counts = {'0': 1}\n",
      "Given the former angle theta and quantum state, the new prediction is:\n",
      "Prediction = 0\n",
      "int(Prediction) = 0 \n",
      "\n",
      "Salida counts = {'1': 1}\n",
      "Given the former angle theta and quantum state, the new prediction is:\n",
      "Prediction = 1\n",
      "int(Prediction) = 1 \n",
      "\n",
      "Salida counts = {'1': 1}\n",
      "Given the former angle theta and quantum state, the new prediction is:\n",
      "Prediction = 1\n",
      "int(Prediction) = 1 \n",
      "\n",
      "Salida counts = {'0': 1}\n",
      "Given the former angle theta and quantum state, the new prediction is:\n",
      "Prediction = 0\n",
      "int(Prediction) = 0 \n",
      "\n",
      "Salida counts = {'0': 1}\n",
      "Given the former angle theta and quantum state, the new prediction is:\n",
      "Prediction = 0\n",
      "int(Prediction) = 0 \n",
      "\n",
      "Salida counts = {'1': 1}\n",
      "Given the former angle theta and quantum state, the new prediction is:\n",
      "Prediction = 1\n",
      "int(Prediction) = 1 \n",
      "\n",
      "Salida counts = {'0': 1}\n",
      "Given the former angle theta and quantum state, the new prediction is:\n",
      "Prediction = 0\n",
      "int(Prediction) = 0 \n",
      "\n",
      "Salida counts = {'1': 1}\n",
      "Given the former angle theta and quantum state, the new prediction is:\n",
      "Prediction = 1\n",
      "int(Prediction) = 1 \n",
      "\n",
      "Salida counts = {'1': 1}\n",
      "Given the former angle theta and quantum state, the new prediction is:\n",
      "Prediction = 1\n",
      "int(Prediction) = 1 \n",
      "\n",
      "Salida counts = {'1': 1}\n",
      "Given the former angle theta and quantum state, the new prediction is:\n",
      "Prediction = 1\n",
      "int(Prediction) = 1 \n",
      "\n",
      "Salida counts = {'0': 1}\n",
      "Given the former angle theta and quantum state, the new prediction is:\n",
      "Prediction = 0\n",
      "int(Prediction) = 0 \n",
      "\n",
      "Salida counts = {'0': 1}\n",
      "Given the former angle theta and quantum state, the new prediction is:\n",
      "Prediction = 0\n",
      "int(Prediction) = 0 \n",
      "\n",
      "Salida counts = {'0': 1}\n",
      "Given the former angle theta and quantum state, the new prediction is:\n",
      "Prediction = 0\n",
      "int(Prediction) = 0 \n",
      "\n",
      "Salida counts = {'0': 1}\n",
      "Given the former angle theta and quantum state, the new prediction is:\n",
      "Prediction = 0\n",
      "int(Prediction) = 0 \n",
      "\n",
      "Salida counts = {'1': 1}\n",
      "Given the former angle theta and quantum state, the new prediction is:\n",
      "Prediction = 1\n",
      "int(Prediction) = 1 \n",
      "\n",
      "Salida counts = {'0': 1}\n",
      "Given the former angle theta and quantum state, the new prediction is:\n",
      "Prediction = 0\n",
      "int(Prediction) = 0 \n",
      "\n",
      "Salida counts = {'0': 1}\n",
      "Given the former angle theta and quantum state, the new prediction is:\n",
      "Prediction = 0\n",
      "int(Prediction) = 0 \n",
      "\n",
      "Salida counts = {'1': 1}\n",
      "Given the former angle theta and quantum state, the new prediction is:\n",
      "Prediction = 1\n",
      "int(Prediction) = 1 \n",
      "\n",
      "Salida counts = {'0': 1}\n",
      "Given the former angle theta and quantum state, the new prediction is:\n",
      "Prediction = 0\n",
      "int(Prediction) = 0 \n",
      "\n",
      "Salida counts = {'0': 1}\n",
      "Given the former angle theta and quantum state, the new prediction is:\n",
      "Prediction = 0\n",
      "int(Prediction) = 0 \n",
      "\n",
      "Salida counts = {'0': 1}\n",
      "Given the former angle theta and quantum state, the new prediction is:\n",
      "Prediction = 0\n",
      "int(Prediction) = 0 \n",
      "\n",
      "Salida counts = {'0': 1}\n",
      "Given the former angle theta and quantum state, the new prediction is:\n",
      "Prediction = 0\n",
      "int(Prediction) = 0 \n",
      "\n",
      "Salida counts = {'0': 1}\n",
      "Given the former angle theta and quantum state, the new prediction is:\n",
      "Prediction = 0\n",
      "int(Prediction) = 0 \n",
      "\n",
      "Salida counts = {'1': 1}\n",
      "Given the former angle theta and quantum state, the new prediction is:\n",
      "Prediction = 1\n",
      "int(Prediction) = 1 \n",
      "\n",
      "Salida counts = {'0': 1}\n",
      "Given the former angle theta and quantum state, the new prediction is:\n",
      "Prediction = 0\n",
      "int(Prediction) = 0 \n",
      "\n",
      "Salida counts = {'0': 1}\n",
      "Given the former angle theta and quantum state, the new prediction is:\n",
      "Prediction = 0\n",
      "int(Prediction) = 0 \n",
      "\n",
      "Salida counts = {'0': 1}\n",
      "Given the former angle theta and quantum state, the new prediction is:\n",
      "Prediction = 0\n",
      "int(Prediction) = 0 \n",
      "\n",
      "Salida counts = {'1': 1}\n",
      "Given the former angle theta and quantum state, the new prediction is:\n",
      "Prediction = 1\n",
      "int(Prediction) = 1 \n",
      "\n",
      "Salida counts = {'1': 1}\n",
      "Given the former angle theta and quantum state, the new prediction is:\n",
      "Prediction = 1\n",
      "int(Prediction) = 1 \n",
      "\n",
      "Salida counts = {'0': 1}\n",
      "Given the former angle theta and quantum state, the new prediction is:\n",
      "Prediction = 0\n",
      "int(Prediction) = 0 \n",
      "\n",
      "Salida counts = {'1': 1}\n",
      "Given the former angle theta and quantum state, the new prediction is:\n",
      "Prediction = 1\n",
      "int(Prediction) = 1 \n",
      "\n",
      "Salida counts = {'1': 1}\n",
      "Given the former angle theta and quantum state, the new prediction is:\n",
      "Prediction = 1\n",
      "int(Prediction) = 1 \n",
      "\n",
      "Salida counts = {'1': 1}\n",
      "Given the former angle theta and quantum state, the new prediction is:\n",
      "Prediction = 1\n",
      "int(Prediction) = 1 \n",
      "\n",
      "Salida counts = {'1': 1}\n",
      "Given the former angle theta and quantum state, the new prediction is:\n",
      "Prediction = 1\n",
      "int(Prediction) = 1 \n",
      "\n",
      "Salida counts = {'1': 1}\n",
      "Given the former angle theta and quantum state, the new prediction is:\n",
      "Prediction = 1\n",
      "int(Prediction) = 1 \n",
      "\n",
      "Salida counts = {'0': 1}\n",
      "Given the former angle theta and quantum state, the new prediction is:\n",
      "Prediction = 0\n",
      "int(Prediction) = 0 \n",
      "\n",
      "Salida counts = {'1': 1}\n",
      "Given the former angle theta and quantum state, the new prediction is:\n",
      "Prediction = 1\n",
      "int(Prediction) = 1 \n",
      "\n",
      "Salida counts = {'0': 1}\n",
      "Given the former angle theta and quantum state, the new prediction is:\n",
      "Prediction = 0\n",
      "int(Prediction) = 0 \n",
      "\n",
      "Salida counts = {'0': 1}\n",
      "Given the former angle theta and quantum state, the new prediction is:\n",
      "Prediction = 0\n",
      "int(Prediction) = 0 \n",
      "\n",
      "Salida counts = {'1': 1}\n",
      "Given the former angle theta and quantum state, the new prediction is:\n",
      "Prediction = 1\n",
      "int(Prediction) = 1 \n",
      "\n",
      "Salida counts = {'0': 1}\n",
      "Given the former angle theta and quantum state, the new prediction is:\n",
      "Prediction = 0\n",
      "int(Prediction) = 0 \n",
      "\n",
      "Salida counts = {'1': 1}\n",
      "Given the former angle theta and quantum state, the new prediction is:\n",
      "Prediction = 1\n",
      "int(Prediction) = 1 \n",
      "\n",
      "Salida counts = {'0': 1}\n",
      "Given the former angle theta and quantum state, the new prediction is:\n",
      "Prediction = 0\n",
      "int(Prediction) = 0 \n",
      "\n",
      "Salida counts = {'0': 1}\n",
      "Given the former angle theta and quantum state, the new prediction is:\n",
      "Prediction = 0\n",
      "int(Prediction) = 0 \n",
      "\n",
      "Salida counts = {'0': 1}\n",
      "Given the former angle theta and quantum state, the new prediction is:\n",
      "Prediction = 0\n",
      "int(Prediction) = 0 \n",
      "\n",
      "Salida counts = {'1': 1}\n",
      "Given the former angle theta and quantum state, the new prediction is:\n",
      "Prediction = 1\n",
      "int(Prediction) = 1 \n",
      "\n",
      "Salida counts = {'0': 1}\n",
      "Given the former angle theta and quantum state, the new prediction is:\n",
      "Prediction = 0\n",
      "int(Prediction) = 0 \n",
      "\n",
      "Salida counts = {'0': 1}\n",
      "Given the former angle theta and quantum state, the new prediction is:\n",
      "Prediction = 0\n",
      "int(Prediction) = 0 \n",
      "\n",
      "Salida counts = {'0': 1}\n",
      "Given the former angle theta and quantum state, the new prediction is:\n",
      "Prediction = 0\n",
      "int(Prediction) = 0 \n",
      "\n",
      "Salida counts = {'1': 1}\n",
      "Given the former angle theta and quantum state, the new prediction is:\n",
      "Prediction = 1\n",
      "int(Prediction) = 1 \n",
      "\n",
      "Salida counts = {'1': 1}\n",
      "Given the former angle theta and quantum state, the new prediction is:\n",
      "Prediction = 1\n",
      "int(Prediction) = 1 \n",
      "\n",
      "Salida counts = {'1': 1}\n",
      "Given the former angle theta and quantum state, the new prediction is:\n",
      "Prediction = 1\n",
      "int(Prediction) = 1 \n",
      "\n",
      "Salida counts = {'1': 1}\n",
      "Given the former angle theta and quantum state, the new prediction is:\n",
      "Prediction = 1\n",
      "int(Prediction) = 1 \n",
      "\n",
      "Salida counts = {'1': 1}\n",
      "Given the former angle theta and quantum state, the new prediction is:\n",
      "Prediction = 1\n",
      "int(Prediction) = 1 \n",
      "\n",
      "Salida counts = {'0': 1}\n",
      "Given the former angle theta and quantum state, the new prediction is:\n",
      "Prediction = 0\n",
      "int(Prediction) = 0 \n",
      "\n",
      "Salida counts = {'0': 1}\n",
      "Given the former angle theta and quantum state, the new prediction is:\n",
      "Prediction = 0\n",
      "int(Prediction) = 0 \n",
      "\n",
      "Salida counts = {'0': 1}\n",
      "Given the former angle theta and quantum state, the new prediction is:\n",
      "Prediction = 0\n",
      "int(Prediction) = 0 \n",
      "\n",
      "Salida counts = {'0': 1}\n",
      "Given the former angle theta and quantum state, the new prediction is:\n",
      "Prediction = 0\n",
      "int(Prediction) = 0 \n",
      "\n",
      "Salida counts = {'0': 1}\n",
      "Given the former angle theta and quantum state, the new prediction is:\n",
      "Prediction = 0\n",
      "int(Prediction) = 0 \n",
      "\n",
      "Salida counts = {'1': 1}\n",
      "Given the former angle theta and quantum state, the new prediction is:\n",
      "Prediction = 1\n",
      "int(Prediction) = 1 \n",
      "\n",
      "Salida counts = {'1': 1}\n",
      "Given the former angle theta and quantum state, the new prediction is:\n",
      "Prediction = 1\n",
      "int(Prediction) = 1 \n",
      "\n",
      "Salida counts = {'0': 1}\n",
      "Given the former angle theta and quantum state, the new prediction is:\n",
      "Prediction = 0\n",
      "int(Prediction) = 0 \n",
      "\n",
      "Salida counts = {'0': 1}\n",
      "Given the former angle theta and quantum state, the new prediction is:\n",
      "Prediction = 0\n",
      "int(Prediction) = 0 \n",
      "\n",
      "Salida counts = {'1': 1}\n",
      "Given the former angle theta and quantum state, the new prediction is:\n",
      "Prediction = 1\n",
      "int(Prediction) = 1 \n",
      "\n",
      "Salida counts = {'1': 1}\n",
      "Given the former angle theta and quantum state, the new prediction is:\n",
      "Prediction = 1\n",
      "int(Prediction) = 1 \n",
      "\n",
      "Salida counts = {'0': 1}\n",
      "Given the former angle theta and quantum state, the new prediction is:\n",
      "Prediction = 0\n",
      "int(Prediction) = 0 \n",
      "\n",
      "Salida counts = {'1': 1}\n",
      "Given the former angle theta and quantum state, the new prediction is:\n",
      "Prediction = 1\n",
      "int(Prediction) = 1 \n",
      "\n",
      "Salida counts = {'0': 1}\n",
      "Given the former angle theta and quantum state, the new prediction is:\n",
      "Prediction = 0\n",
      "int(Prediction) = 0 \n",
      "\n",
      "Salida counts = {'0': 1}\n",
      "Given the former angle theta and quantum state, the new prediction is:\n",
      "Prediction = 0\n",
      "int(Prediction) = 0 \n",
      "\n",
      "Salida counts = {'0': 1}\n",
      "Given the former angle theta and quantum state, the new prediction is:\n",
      "Prediction = 0\n",
      "int(Prediction) = 0 \n",
      "\n",
      "Salida counts = {'1': 1}\n",
      "Given the former angle theta and quantum state, the new prediction is:\n",
      "Prediction = 1\n",
      "int(Prediction) = 1 \n",
      "\n",
      "Salida counts = {'0': 1}\n",
      "Given the former angle theta and quantum state, the new prediction is:\n",
      "Prediction = 0\n",
      "int(Prediction) = 0 \n",
      "\n",
      "Salida counts = {'1': 1}\n",
      "Given the former angle theta and quantum state, the new prediction is:\n",
      "Prediction = 1\n",
      "int(Prediction) = 1 \n",
      "\n",
      "Salida counts = {'0': 1}\n",
      "Given the former angle theta and quantum state, the new prediction is:\n",
      "Prediction = 0\n",
      "int(Prediction) = 0 \n",
      "\n",
      "Salida counts = {'0': 1}\n",
      "Given the former angle theta and quantum state, the new prediction is:\n",
      "Prediction = 0\n",
      "int(Prediction) = 0 \n",
      "\n",
      "Salida counts = {'0': 1}\n",
      "Given the former angle theta and quantum state, the new prediction is:\n",
      "Prediction = 0\n",
      "int(Prediction) = 0 \n",
      "\n",
      "Salida counts = {'1': 1}\n",
      "Given the former angle theta and quantum state, the new prediction is:\n",
      "Prediction = 1\n",
      "int(Prediction) = 1 \n",
      "\n",
      "Salida counts = {'1': 1}\n",
      "Given the former angle theta and quantum state, the new prediction is:\n",
      "Prediction = 1\n",
      "int(Prediction) = 1 \n",
      "\n",
      "Salida counts = {'1': 1}\n",
      "Given the former angle theta and quantum state, the new prediction is:\n",
      "Prediction = 1\n",
      "int(Prediction) = 1 \n",
      "\n",
      "Salida counts = {'1': 1}\n",
      "Given the former angle theta and quantum state, the new prediction is:\n",
      "Prediction = 1\n",
      "int(Prediction) = 1 \n",
      "\n",
      "Salida counts = {'0': 1}\n",
      "Given the former angle theta and quantum state, the new prediction is:\n",
      "Prediction = 0\n",
      "int(Prediction) = 0 \n",
      "\n",
      "Salida counts = {'1': 1}\n",
      "Given the former angle theta and quantum state, the new prediction is:\n",
      "Prediction = 1\n",
      "int(Prediction) = 1 \n",
      "\n",
      "Salida counts = {'1': 1}\n",
      "Given the former angle theta and quantum state, the new prediction is:\n",
      "Prediction = 1\n",
      "int(Prediction) = 1 \n",
      "\n",
      "Salida counts = {'0': 1}\n",
      "Given the former angle theta and quantum state, the new prediction is:\n",
      "Prediction = 0\n",
      "int(Prediction) = 0 \n",
      "\n",
      "Salida counts = {'1': 1}\n",
      "Given the former angle theta and quantum state, the new prediction is:\n",
      "Prediction = 1\n",
      "int(Prediction) = 1 \n",
      "\n",
      "Salida counts = {'0': 1}\n",
      "Given the former angle theta and quantum state, the new prediction is:\n",
      "Prediction = 0\n",
      "int(Prediction) = 0 \n",
      "\n",
      "Salida counts = {'0': 1}\n",
      "Given the former angle theta and quantum state, the new prediction is:\n",
      "Prediction = 0\n",
      "int(Prediction) = 0 \n",
      "\n",
      "Salida counts = {'1': 1}\n",
      "Given the former angle theta and quantum state, the new prediction is:\n",
      "Prediction = 1\n",
      "int(Prediction) = 1 \n",
      "\n",
      "Salida counts = {'0': 1}\n",
      "Given the former angle theta and quantum state, the new prediction is:\n",
      "Prediction = 0\n",
      "int(Prediction) = 0 \n",
      "\n",
      "Salida counts = {'0': 1}\n",
      "Given the former angle theta and quantum state, the new prediction is:\n",
      "Prediction = 0\n",
      "int(Prediction) = 0 \n",
      "\n",
      "Salida counts = {'0': 1}\n",
      "Given the former angle theta and quantum state, the new prediction is:\n",
      "Prediction = 0\n",
      "int(Prediction) = 0 \n",
      "\n",
      "Salida counts = {'1': 1}\n",
      "Given the former angle theta and quantum state, the new prediction is:\n",
      "Prediction = 1\n",
      "int(Prediction) = 1 \n",
      "\n",
      "Salida counts = {'0': 1}\n",
      "Given the former angle theta and quantum state, the new prediction is:\n",
      "Prediction = 0\n",
      "int(Prediction) = 0 \n",
      "\n",
      "Salida counts = {'0': 1}\n",
      "Given the former angle theta and quantum state, the new prediction is:\n",
      "Prediction = 0\n",
      "int(Prediction) = 0 \n",
      "\n",
      "Salida counts = {'0': 1}\n",
      "Given the former angle theta and quantum state, the new prediction is:\n",
      "Prediction = 0\n",
      "int(Prediction) = 0 \n",
      "\n",
      "Salida counts = {'0': 1}\n",
      "Given the former angle theta and quantum state, the new prediction is:\n",
      "Prediction = 0\n",
      "int(Prediction) = 0 \n",
      "\n",
      "Salida counts = {'0': 1}\n",
      "Given the former angle theta and quantum state, the new prediction is:\n",
      "Prediction = 0\n",
      "int(Prediction) = 0 \n",
      "\n",
      "Salida counts = {'1': 1}\n",
      "Given the former angle theta and quantum state, the new prediction is:\n",
      "Prediction = 1\n",
      "int(Prediction) = 1 \n",
      "\n",
      "Salida counts = {'0': 1}\n",
      "Given the former angle theta and quantum state, the new prediction is:\n",
      "Prediction = 0\n",
      "int(Prediction) = 0 \n",
      "\n",
      "Salida counts = {'1': 1}\n",
      "Given the former angle theta and quantum state, the new prediction is:\n",
      "Prediction = 1\n",
      "int(Prediction) = 1 \n",
      "\n",
      "Salida counts = {'1': 1}\n",
      "Given the former angle theta and quantum state, the new prediction is:\n",
      "Prediction = 1\n",
      "int(Prediction) = 1 \n",
      "\n",
      "Salida counts = {'0': 1}\n",
      "Given the former angle theta and quantum state, the new prediction is:\n",
      "Prediction = 0\n",
      "int(Prediction) = 0 \n",
      "\n",
      "Salida counts = {'1': 1}\n",
      "Given the former angle theta and quantum state, the new prediction is:\n",
      "Prediction = 1\n",
      "int(Prediction) = 1 \n",
      "\n",
      "Salida counts = {'1': 1}\n",
      "Given the former angle theta and quantum state, the new prediction is:\n",
      "Prediction = 1\n",
      "int(Prediction) = 1 \n",
      "\n",
      "Salida counts = {'1': 1}\n",
      "Given the former angle theta and quantum state, the new prediction is:\n",
      "Prediction = 1\n",
      "int(Prediction) = 1 \n",
      "\n",
      "Salida counts = {'0': 1}\n",
      "Given the former angle theta and quantum state, the new prediction is:\n",
      "Prediction = 0\n",
      "int(Prediction) = 0 \n",
      "\n",
      "Salida counts = {'1': 1}\n",
      "Given the former angle theta and quantum state, the new prediction is:\n",
      "Prediction = 1\n",
      "int(Prediction) = 1 \n",
      "\n",
      "Salida counts = {'0': 1}\n",
      "Given the former angle theta and quantum state, the new prediction is:\n",
      "Prediction = 0\n",
      "int(Prediction) = 0 \n",
      "\n",
      "Salida counts = {'1': 1}\n",
      "Given the former angle theta and quantum state, the new prediction is:\n",
      "Prediction = 1\n",
      "int(Prediction) = 1 \n",
      "\n",
      "Salida counts = {'0': 1}\n",
      "Given the former angle theta and quantum state, the new prediction is:\n",
      "Prediction = 0\n",
      "int(Prediction) = 0 \n",
      "\n",
      "Salida counts = {'1': 1}\n",
      "Given the former angle theta and quantum state, the new prediction is:\n",
      "Prediction = 1\n",
      "int(Prediction) = 1 \n",
      "\n",
      "Salida counts = {'0': 1}\n",
      "Given the former angle theta and quantum state, the new prediction is:\n",
      "Prediction = 0\n",
      "int(Prediction) = 0 \n",
      "\n",
      "Salida counts = {'0': 1}\n",
      "Given the former angle theta and quantum state, the new prediction is:\n",
      "Prediction = 0\n",
      "int(Prediction) = 0 \n",
      "\n",
      "Salida counts = {'1': 1}\n",
      "Given the former angle theta and quantum state, the new prediction is:\n",
      "Prediction = 1\n",
      "int(Prediction) = 1 \n",
      "\n",
      "Salida counts = {'1': 1}\n",
      "Given the former angle theta and quantum state, the new prediction is:\n",
      "Prediction = 1\n",
      "int(Prediction) = 1 \n",
      "\n",
      "Salida counts = {'1': 1}\n",
      "Given the former angle theta and quantum state, the new prediction is:\n",
      "Prediction = 1\n",
      "int(Prediction) = 1 \n",
      "\n",
      "Salida counts = {'1': 1}\n",
      "Given the former angle theta and quantum state, the new prediction is:\n",
      "Prediction = 1\n",
      "int(Prediction) = 1 \n",
      "\n",
      "Salida counts = {'0': 1}\n",
      "Given the former angle theta and quantum state, the new prediction is:\n",
      "Prediction = 0\n",
      "int(Prediction) = 0 \n",
      "\n",
      "Salida counts = {'0': 1}\n",
      "Given the former angle theta and quantum state, the new prediction is:\n",
      "Prediction = 0\n",
      "int(Prediction) = 0 \n",
      "\n",
      "Salida counts = {'1': 1}\n",
      "Given the former angle theta and quantum state, the new prediction is:\n",
      "Prediction = 1\n",
      "int(Prediction) = 1 \n",
      "\n",
      "Salida counts = {'1': 1}\n",
      "Given the former angle theta and quantum state, the new prediction is:\n",
      "Prediction = 1\n",
      "int(Prediction) = 1 \n",
      "\n",
      "Salida counts = {'1': 1}\n",
      "Given the former angle theta and quantum state, the new prediction is:\n",
      "Prediction = 1\n",
      "int(Prediction) = 1 \n",
      "\n",
      "Salida counts = {'1': 1}\n",
      "Given the former angle theta and quantum state, the new prediction is:\n",
      "Prediction = 1\n",
      "int(Prediction) = 1 \n",
      "\n",
      "Salida counts = {'0': 1}\n",
      "Given the former angle theta and quantum state, the new prediction is:\n",
      "Prediction = 0\n",
      "int(Prediction) = 0 \n",
      "\n",
      "Salida counts = {'1': 1}\n",
      "Given the former angle theta and quantum state, the new prediction is:\n",
      "Prediction = 1\n",
      "int(Prediction) = 1 \n",
      "\n",
      "Salida counts = {'0': 1}\n",
      "Given the former angle theta and quantum state, the new prediction is:\n",
      "Prediction = 0\n",
      "int(Prediction) = 0 \n",
      "\n",
      "Salida counts = {'0': 1}\n",
      "Given the former angle theta and quantum state, the new prediction is:\n",
      "Prediction = 0\n",
      "int(Prediction) = 0 \n",
      "\n",
      "Salida counts = {'1': 1}\n",
      "Given the former angle theta and quantum state, the new prediction is:\n",
      "Prediction = 1\n",
      "int(Prediction) = 1 \n",
      "\n",
      "Salida counts = {'0': 1}\n",
      "Given the former angle theta and quantum state, the new prediction is:\n",
      "Prediction = 0\n",
      "int(Prediction) = 0 \n",
      "\n",
      "Salida counts = {'1': 1}\n",
      "Given the former angle theta and quantum state, the new prediction is:\n",
      "Prediction = 1\n",
      "int(Prediction) = 1 \n",
      "\n",
      "Salida counts = {'1': 1}\n",
      "Given the former angle theta and quantum state, the new prediction is:\n",
      "Prediction = 1\n",
      "int(Prediction) = 1 \n",
      "\n",
      "Salida counts = {'1': 1}\n",
      "Given the former angle theta and quantum state, the new prediction is:\n",
      "Prediction = 1\n",
      "int(Prediction) = 1 \n",
      "\n",
      "Salida counts = {'0': 1}\n",
      "Given the former angle theta and quantum state, the new prediction is:\n",
      "Prediction = 0\n",
      "int(Prediction) = 0 \n",
      "\n",
      "Salida counts = {'1': 1}\n",
      "Given the former angle theta and quantum state, the new prediction is:\n",
      "Prediction = 1\n",
      "int(Prediction) = 1 \n",
      "\n",
      "Salida counts = {'0': 1}\n",
      "Given the former angle theta and quantum state, the new prediction is:\n",
      "Prediction = 0\n",
      "int(Prediction) = 0 \n",
      "\n",
      "Salida counts = {'1': 1}\n",
      "Given the former angle theta and quantum state, the new prediction is:\n",
      "Prediction = 1\n",
      "int(Prediction) = 1 \n",
      "\n",
      "Salida counts = {'0': 1}\n",
      "Given the former angle theta and quantum state, the new prediction is:\n",
      "Prediction = 0\n",
      "int(Prediction) = 0 \n",
      "\n",
      "Salida counts = {'0': 1}\n",
      "Given the former angle theta and quantum state, the new prediction is:\n",
      "Prediction = 0\n",
      "int(Prediction) = 0 \n",
      "\n",
      "Salida counts = {'1': 1}\n",
      "Given the former angle theta and quantum state, the new prediction is:\n",
      "Prediction = 1\n",
      "int(Prediction) = 1 \n",
      "\n",
      "Salida counts = {'1': 1}\n",
      "Given the former angle theta and quantum state, the new prediction is:\n",
      "Prediction = 1\n",
      "int(Prediction) = 1 \n",
      "\n",
      "Salida counts = {'1': 1}\n",
      "Given the former angle theta and quantum state, the new prediction is:\n",
      "Prediction = 1\n",
      "int(Prediction) = 1 \n",
      "\n",
      "Salida counts = {'0': 1}\n",
      "Given the former angle theta and quantum state, the new prediction is:\n",
      "Prediction = 0\n",
      "int(Prediction) = 0 \n",
      "\n",
      "Salida counts = {'1': 1}\n",
      "Given the former angle theta and quantum state, the new prediction is:\n",
      "Prediction = 1\n",
      "int(Prediction) = 1 \n",
      "\n",
      "Salida counts = {'1': 1}\n",
      "Given the former angle theta and quantum state, the new prediction is:\n",
      "Prediction = 1\n",
      "int(Prediction) = 1 \n",
      "\n",
      "Salida counts = {'1': 1}\n",
      "Given the former angle theta and quantum state, the new prediction is:\n",
      "Prediction = 1\n",
      "int(Prediction) = 1 \n",
      "\n",
      "Salida counts = {'1': 1}\n",
      "Given the former angle theta and quantum state, the new prediction is:\n",
      "Prediction = 1\n",
      "int(Prediction) = 1 \n",
      "\n",
      "Salida counts = {'1': 1}\n",
      "Given the former angle theta and quantum state, the new prediction is:\n",
      "Prediction = 1\n",
      "int(Prediction) = 1 \n",
      "\n",
      "Salida counts = {'1': 1}\n",
      "Given the former angle theta and quantum state, the new prediction is:\n",
      "Prediction = 1\n",
      "int(Prediction) = 1 \n",
      "\n",
      "Salida counts = {'1': 1}\n",
      "Given the former angle theta and quantum state, the new prediction is:\n",
      "Prediction = 1\n",
      "int(Prediction) = 1 \n",
      "\n",
      "Salida counts = {'1': 1}\n",
      "Given the former angle theta and quantum state, the new prediction is:\n",
      "Prediction = 1\n",
      "int(Prediction) = 1 \n",
      "\n",
      "Salida counts = {'1': 1}\n",
      "Given the former angle theta and quantum state, the new prediction is:\n",
      "Prediction = 1\n",
      "int(Prediction) = 1 \n",
      "\n",
      "Salida counts = {'0': 1}\n",
      "Given the former angle theta and quantum state, the new prediction is:\n",
      "Prediction = 0\n",
      "int(Prediction) = 0 \n",
      "\n",
      "Salida counts = {'0': 1}\n",
      "Given the former angle theta and quantum state, the new prediction is:\n",
      "Prediction = 0\n",
      "int(Prediction) = 0 \n",
      "\n",
      "Salida counts = {'1': 1}\n",
      "Given the former angle theta and quantum state, the new prediction is:\n",
      "Prediction = 1\n",
      "int(Prediction) = 1 \n",
      "\n",
      "Salida counts = {'0': 1}\n",
      "Given the former angle theta and quantum state, the new prediction is:\n",
      "Prediction = 0\n",
      "int(Prediction) = 0 \n",
      "\n",
      "Salida counts = {'0': 1}\n",
      "Given the former angle theta and quantum state, the new prediction is:\n",
      "Prediction = 0\n",
      "int(Prediction) = 0 \n",
      "\n",
      "Salida counts = {'1': 1}\n",
      "Given the former angle theta and quantum state, the new prediction is:\n",
      "Prediction = 1\n",
      "int(Prediction) = 1 \n",
      "\n",
      "Salida counts = {'1': 1}\n",
      "Given the former angle theta and quantum state, the new prediction is:\n",
      "Prediction = 1\n",
      "int(Prediction) = 1 \n",
      "\n",
      "Salida counts = {'0': 1}\n",
      "Given the former angle theta and quantum state, the new prediction is:\n",
      "Prediction = 0\n",
      "int(Prediction) = 0 \n",
      "\n",
      "Salida counts = {'1': 1}\n",
      "Given the former angle theta and quantum state, the new prediction is:\n",
      "Prediction = 1\n",
      "int(Prediction) = 1 \n",
      "\n",
      "Salida counts = {'0': 1}\n",
      "Given the former angle theta and quantum state, the new prediction is:\n",
      "Prediction = 0\n",
      "int(Prediction) = 0 \n",
      "\n",
      "Salida counts = {'0': 1}\n",
      "Given the former angle theta and quantum state, the new prediction is:\n",
      "Prediction = 0\n",
      "int(Prediction) = 0 \n",
      "\n",
      "Salida counts = {'1': 1}\n",
      "Given the former angle theta and quantum state, the new prediction is:\n",
      "Prediction = 1\n",
      "int(Prediction) = 1 \n",
      "\n",
      "Salida counts = {'1': 1}\n",
      "Given the former angle theta and quantum state, the new prediction is:\n",
      "Prediction = 1\n",
      "int(Prediction) = 1 \n",
      "\n",
      "Salida counts = {'0': 1}\n",
      "Given the former angle theta and quantum state, the new prediction is:\n",
      "Prediction = 0\n",
      "int(Prediction) = 0 \n",
      "\n",
      "Salida counts = {'0': 1}\n",
      "Given the former angle theta and quantum state, the new prediction is:\n",
      "Prediction = 0\n",
      "int(Prediction) = 0 \n",
      "\n",
      "Salida counts = {'1': 1}\n",
      "Given the former angle theta and quantum state, the new prediction is:\n",
      "Prediction = 1\n",
      "int(Prediction) = 1 \n",
      "\n",
      "Salida counts = {'1': 1}\n",
      "Given the former angle theta and quantum state, the new prediction is:\n",
      "Prediction = 1\n",
      "int(Prediction) = 1 \n",
      "\n",
      "Salida counts = {'0': 1}\n",
      "Given the former angle theta and quantum state, the new prediction is:\n",
      "Prediction = 0\n",
      "int(Prediction) = 0 \n",
      "\n",
      "Salida counts = {'1': 1}\n",
      "Given the former angle theta and quantum state, the new prediction is:\n",
      "Prediction = 1\n",
      "int(Prediction) = 1 \n",
      "\n",
      "Salida counts = {'1': 1}\n",
      "Given the former angle theta and quantum state, the new prediction is:\n",
      "Prediction = 1\n",
      "int(Prediction) = 1 \n",
      "\n",
      "Salida counts = {'0': 1}\n",
      "Given the former angle theta and quantum state, the new prediction is:\n",
      "Prediction = 0\n",
      "int(Prediction) = 0 \n",
      "\n",
      "Salida counts = {'1': 1}\n",
      "Given the former angle theta and quantum state, the new prediction is:\n",
      "Prediction = 1\n",
      "int(Prediction) = 1 \n",
      "\n",
      "Salida counts = {'0': 1}\n",
      "Given the former angle theta and quantum state, the new prediction is:\n",
      "Prediction = 0\n",
      "int(Prediction) = 0 \n",
      "\n",
      "Salida counts = {'1': 1}\n",
      "Given the former angle theta and quantum state, the new prediction is:\n",
      "Prediction = 1\n",
      "int(Prediction) = 1 \n",
      "\n",
      "Salida counts = {'0': 1}\n",
      "Given the former angle theta and quantum state, the new prediction is:\n",
      "Prediction = 0\n",
      "int(Prediction) = 0 \n",
      "\n",
      "Salida counts = {'1': 1}\n",
      "Given the former angle theta and quantum state, the new prediction is:\n",
      "Prediction = 1\n",
      "int(Prediction) = 1 \n",
      "\n",
      "Salida counts = {'0': 1}\n",
      "Given the former angle theta and quantum state, the new prediction is:\n",
      "Prediction = 0\n",
      "int(Prediction) = 0 \n",
      "\n",
      "Salida counts = {'0': 1}\n",
      "Given the former angle theta and quantum state, the new prediction is:\n",
      "Prediction = 0\n",
      "int(Prediction) = 0 \n",
      "\n",
      "Salida counts = {'0': 1}\n",
      "Given the former angle theta and quantum state, the new prediction is:\n",
      "Prediction = 0\n",
      "int(Prediction) = 0 \n",
      "\n",
      "Salida counts = {'0': 1}\n",
      "Given the former angle theta and quantum state, the new prediction is:\n",
      "Prediction = 0\n",
      "int(Prediction) = 0 \n",
      "\n",
      "Salida counts = {'1': 1}\n",
      "Given the former angle theta and quantum state, the new prediction is:\n",
      "Prediction = 1\n",
      "int(Prediction) = 1 \n",
      "\n",
      "Salida counts = {'1': 1}\n",
      "Given the former angle theta and quantum state, the new prediction is:\n",
      "Prediction = 1\n",
      "int(Prediction) = 1 \n",
      "\n",
      "Salida counts = {'0': 1}\n",
      "Given the former angle theta and quantum state, the new prediction is:\n",
      "Prediction = 0\n",
      "int(Prediction) = 0 \n",
      "\n",
      "Salida counts = {'1': 1}\n",
      "Given the former angle theta and quantum state, the new prediction is:\n",
      "Prediction = 1\n",
      "int(Prediction) = 1 \n",
      "\n",
      "Salida counts = {'1': 1}\n",
      "Given the former angle theta and quantum state, the new prediction is:\n",
      "Prediction = 1\n",
      "int(Prediction) = 1 \n",
      "\n",
      "Salida counts = {'0': 1}\n",
      "Given the former angle theta and quantum state, the new prediction is:\n",
      "Prediction = 0\n",
      "int(Prediction) = 0 \n",
      "\n",
      "Salida counts = {'0': 1}\n",
      "Given the former angle theta and quantum state, the new prediction is:\n",
      "Prediction = 0\n",
      "int(Prediction) = 0 \n",
      "\n",
      "Salida counts = {'0': 1}\n",
      "Given the former angle theta and quantum state, the new prediction is:\n",
      "Prediction = 0\n",
      "int(Prediction) = 0 \n",
      "\n",
      "Salida counts = {'0': 1}\n",
      "Given the former angle theta and quantum state, the new prediction is:\n",
      "Prediction = 0\n",
      "int(Prediction) = 0 \n",
      "\n",
      "Salida counts = {'1': 1}\n",
      "Given the former angle theta and quantum state, the new prediction is:\n",
      "Prediction = 1\n",
      "int(Prediction) = 1 \n",
      "\n",
      "Salida counts = {'1': 1}\n",
      "Given the former angle theta and quantum state, the new prediction is:\n",
      "Prediction = 1\n",
      "int(Prediction) = 1 \n",
      "\n",
      "Salida counts = {'0': 1}\n",
      "Given the former angle theta and quantum state, the new prediction is:\n",
      "Prediction = 0\n",
      "int(Prediction) = 0 \n",
      "\n",
      "Salida counts = {'0': 1}\n",
      "Given the former angle theta and quantum state, the new prediction is:\n",
      "Prediction = 0\n",
      "int(Prediction) = 0 \n",
      "\n",
      "Salida counts = {'1': 1}\n",
      "Given the former angle theta and quantum state, the new prediction is:\n",
      "Prediction = 1\n",
      "int(Prediction) = 1 \n",
      "\n",
      "Salida counts = {'1': 1}\n",
      "Given the former angle theta and quantum state, the new prediction is:\n",
      "Prediction = 1\n",
      "int(Prediction) = 1 \n",
      "\n",
      "Salida counts = {'0': 1}\n",
      "Given the former angle theta and quantum state, the new prediction is:\n",
      "Prediction = 0\n",
      "int(Prediction) = 0 \n",
      "\n",
      "Salida counts = {'0': 1}\n",
      "Given the former angle theta and quantum state, the new prediction is:\n",
      "Prediction = 0\n",
      "int(Prediction) = 0 \n",
      "\n",
      "Salida counts = {'1': 1}\n",
      "Given the former angle theta and quantum state, the new prediction is:\n",
      "Prediction = 1\n",
      "int(Prediction) = 1 \n",
      "\n",
      "Salida counts = {'1': 1}\n",
      "Given the former angle theta and quantum state, the new prediction is:\n",
      "Prediction = 1\n",
      "int(Prediction) = 1 \n",
      "\n",
      "Salida counts = {'1': 1}\n",
      "Given the former angle theta and quantum state, the new prediction is:\n",
      "Prediction = 1\n",
      "int(Prediction) = 1 \n",
      "\n",
      "Salida counts = {'1': 1}\n",
      "Given the former angle theta and quantum state, the new prediction is:\n",
      "Prediction = 1\n",
      "int(Prediction) = 1 \n",
      "\n",
      "Salida counts = {'1': 1}\n",
      "Given the former angle theta and quantum state, the new prediction is:\n",
      "Prediction = 1\n",
      "int(Prediction) = 1 \n",
      "\n",
      "Salida counts = {'1': 1}\n",
      "Given the former angle theta and quantum state, the new prediction is:\n",
      "Prediction = 1\n",
      "int(Prediction) = 1 \n",
      "\n",
      "Salida counts = {'0': 1}\n",
      "Given the former angle theta and quantum state, the new prediction is:\n",
      "Prediction = 0\n",
      "int(Prediction) = 0 \n",
      "\n",
      "Salida counts = {'0': 1}\n",
      "Given the former angle theta and quantum state, the new prediction is:\n",
      "Prediction = 0\n",
      "int(Prediction) = 0 \n",
      "\n",
      "Salida counts = {'1': 1}\n",
      "Given the former angle theta and quantum state, the new prediction is:\n",
      "Prediction = 1\n",
      "int(Prediction) = 1 \n",
      "\n",
      "Salida counts = {'1': 1}\n",
      "Given the former angle theta and quantum state, the new prediction is:\n",
      "Prediction = 1\n",
      "int(Prediction) = 1 \n",
      "\n",
      "Salida counts = {'1': 1}\n",
      "Given the former angle theta and quantum state, the new prediction is:\n",
      "Prediction = 1\n",
      "int(Prediction) = 1 \n",
      "\n",
      "Salida counts = {'1': 1}\n",
      "Given the former angle theta and quantum state, the new prediction is:\n",
      "Prediction = 1\n",
      "int(Prediction) = 1 \n",
      "\n",
      "Salida counts = {'0': 1}\n",
      "Given the former angle theta and quantum state, the new prediction is:\n",
      "Prediction = 0\n",
      "int(Prediction) = 0 \n",
      "\n",
      "Salida counts = {'1': 1}\n",
      "Given the former angle theta and quantum state, the new prediction is:\n",
      "Prediction = 1\n",
      "int(Prediction) = 1 \n",
      "\n",
      "Salida counts = {'0': 1}\n",
      "Given the former angle theta and quantum state, the new prediction is:\n",
      "Prediction = 0\n",
      "int(Prediction) = 0 \n",
      "\n",
      "Salida counts = {'0': 1}\n",
      "Given the former angle theta and quantum state, the new prediction is:\n",
      "Prediction = 0\n",
      "int(Prediction) = 0 \n",
      "\n",
      "Salida counts = {'1': 1}\n",
      "Given the former angle theta and quantum state, the new prediction is:\n",
      "Prediction = 1\n",
      "int(Prediction) = 1 \n",
      "\n",
      "Salida counts = {'1': 1}\n",
      "Given the former angle theta and quantum state, the new prediction is:\n",
      "Prediction = 1\n",
      "int(Prediction) = 1 \n",
      "\n",
      "Salida counts = {'1': 1}\n",
      "Given the former angle theta and quantum state, the new prediction is:\n",
      "Prediction = 1\n",
      "int(Prediction) = 1 \n",
      "\n",
      "Salida counts = {'0': 1}\n",
      "Given the former angle theta and quantum state, the new prediction is:\n",
      "Prediction = 0\n",
      "int(Prediction) = 0 \n",
      "\n",
      "Salida counts = {'0': 1}\n",
      "Given the former angle theta and quantum state, the new prediction is:\n",
      "Prediction = 0\n",
      "int(Prediction) = 0 \n",
      "\n",
      "Salida counts = {'0': 1}\n",
      "Given the former angle theta and quantum state, the new prediction is:\n",
      "Prediction = 0\n",
      "int(Prediction) = 0 \n",
      "\n",
      "Salida counts = {'1': 1}\n",
      "Given the former angle theta and quantum state, the new prediction is:\n",
      "Prediction = 1\n",
      "int(Prediction) = 1 \n",
      "\n",
      "Salida counts = {'0': 1}\n",
      "Given the former angle theta and quantum state, the new prediction is:\n",
      "Prediction = 0\n",
      "int(Prediction) = 0 \n",
      "\n",
      "Salida counts = {'1': 1}\n",
      "Given the former angle theta and quantum state, the new prediction is:\n",
      "Prediction = 1\n",
      "int(Prediction) = 1 \n",
      "\n",
      "Salida counts = {'1': 1}\n",
      "Given the former angle theta and quantum state, the new prediction is:\n",
      "Prediction = 1\n",
      "int(Prediction) = 1 \n",
      "\n",
      "Salida counts = {'1': 1}\n",
      "Given the former angle theta and quantum state, the new prediction is:\n",
      "Prediction = 1\n",
      "int(Prediction) = 1 \n",
      "\n",
      "Salida counts = {'1': 1}\n",
      "Given the former angle theta and quantum state, the new prediction is:\n",
      "Prediction = 1\n",
      "int(Prediction) = 1 \n",
      "\n",
      "Salida counts = {'1': 1}\n",
      "Given the former angle theta and quantum state, the new prediction is:\n",
      "Prediction = 1\n",
      "int(Prediction) = 1 \n",
      "\n",
      "Salida counts = {'0': 1}\n",
      "Given the former angle theta and quantum state, the new prediction is:\n",
      "Prediction = 0\n",
      "int(Prediction) = 0 \n",
      "\n",
      "Salida counts = {'0': 1}\n",
      "Given the former angle theta and quantum state, the new prediction is:\n",
      "Prediction = 0\n",
      "int(Prediction) = 0 \n",
      "\n",
      "Salida counts = {'1': 1}\n",
      "Given the former angle theta and quantum state, the new prediction is:\n",
      "Prediction = 1\n",
      "int(Prediction) = 1 \n",
      "\n",
      "Salida counts = {'0': 1}\n",
      "Given the former angle theta and quantum state, the new prediction is:\n",
      "Prediction = 0\n",
      "int(Prediction) = 0 \n",
      "\n",
      "Salida counts = {'1': 1}\n",
      "Given the former angle theta and quantum state, the new prediction is:\n",
      "Prediction = 1\n",
      "int(Prediction) = 1 \n",
      "\n",
      "Salida counts = {'0': 1}\n",
      "Given the former angle theta and quantum state, the new prediction is:\n",
      "Prediction = 0\n",
      "int(Prediction) = 0 \n",
      "\n",
      "Salida counts = {'1': 1}\n",
      "Given the former angle theta and quantum state, the new prediction is:\n",
      "Prediction = 1\n",
      "int(Prediction) = 1 \n",
      "\n",
      "Salida counts = {'0': 1}\n",
      "Given the former angle theta and quantum state, the new prediction is:\n",
      "Prediction = 0\n",
      "int(Prediction) = 0 \n",
      "\n",
      "Salida counts = {'1': 1}\n",
      "Given the former angle theta and quantum state, the new prediction is:\n",
      "Prediction = 1\n",
      "int(Prediction) = 1 \n",
      "\n",
      "Salida counts = {'0': 1}\n",
      "Given the former angle theta and quantum state, the new prediction is:\n",
      "Prediction = 0\n",
      "int(Prediction) = 0 \n",
      "\n",
      "Salida counts = {'1': 1}\n",
      "Given the former angle theta and quantum state, the new prediction is:\n",
      "Prediction = 1\n",
      "int(Prediction) = 1 \n",
      "\n",
      "Salida counts = {'0': 1}\n",
      "Given the former angle theta and quantum state, the new prediction is:\n",
      "Prediction = 0\n",
      "int(Prediction) = 0 \n",
      "\n",
      "Salida counts = {'1': 1}\n",
      "Given the former angle theta and quantum state, the new prediction is:\n",
      "Prediction = 1\n",
      "int(Prediction) = 1 \n",
      "\n",
      "Salida counts = {'0': 1}\n",
      "Given the former angle theta and quantum state, the new prediction is:\n",
      "Prediction = 0\n",
      "int(Prediction) = 0 \n",
      "\n",
      "Salida counts = {'1': 1}\n",
      "Given the former angle theta and quantum state, the new prediction is:\n",
      "Prediction = 1\n",
      "int(Prediction) = 1 \n",
      "\n",
      "Salida counts = {'0': 1}\n",
      "Given the former angle theta and quantum state, the new prediction is:\n",
      "Prediction = 0\n",
      "int(Prediction) = 0 \n",
      "\n",
      "Salida counts = {'1': 1}\n",
      "Given the former angle theta and quantum state, the new prediction is:\n",
      "Prediction = 1\n",
      "int(Prediction) = 1 \n",
      "\n",
      "Salida counts = {'1': 1}\n",
      "Given the former angle theta and quantum state, the new prediction is:\n",
      "Prediction = 1\n",
      "int(Prediction) = 1 \n",
      "\n",
      "Salida counts = {'1': 1}\n",
      "Given the former angle theta and quantum state, the new prediction is:\n",
      "Prediction = 1\n",
      "int(Prediction) = 1 \n",
      "\n",
      "Salida counts = {'1': 1}\n",
      "Given the former angle theta and quantum state, the new prediction is:\n",
      "Prediction = 1\n",
      "int(Prediction) = 1 \n",
      "\n",
      "Salida counts = {'1': 1}\n",
      "Given the former angle theta and quantum state, the new prediction is:\n",
      "Prediction = 1\n",
      "int(Prediction) = 1 \n",
      "\n",
      "Salida counts = {'0': 1}\n",
      "Given the former angle theta and quantum state, the new prediction is:\n",
      "Prediction = 0\n",
      "int(Prediction) = 0 \n",
      "\n",
      "Salida counts = {'0': 1}\n",
      "Given the former angle theta and quantum state, the new prediction is:\n",
      "Prediction = 0\n",
      "int(Prediction) = 0 \n",
      "\n",
      "Salida counts = {'1': 1}\n",
      "Given the former angle theta and quantum state, the new prediction is:\n",
      "Prediction = 1\n",
      "int(Prediction) = 1 \n",
      "\n",
      "Salida counts = {'1': 1}\n",
      "Given the former angle theta and quantum state, the new prediction is:\n",
      "Prediction = 1\n",
      "int(Prediction) = 1 \n",
      "\n",
      "Salida counts = {'0': 1}\n",
      "Given the former angle theta and quantum state, the new prediction is:\n",
      "Prediction = 0\n",
      "int(Prediction) = 0 \n",
      "\n",
      "Salida counts = {'1': 1}\n",
      "Given the former angle theta and quantum state, the new prediction is:\n",
      "Prediction = 1\n",
      "int(Prediction) = 1 \n",
      "\n",
      "Salida counts = {'0': 1}\n",
      "Given the former angle theta and quantum state, the new prediction is:\n",
      "Prediction = 0\n",
      "int(Prediction) = 0 \n",
      "\n",
      "Salida counts = {'1': 1}\n",
      "Given the former angle theta and quantum state, the new prediction is:\n",
      "Prediction = 1\n",
      "int(Prediction) = 1 \n",
      "\n",
      "Salida counts = {'1': 1}\n",
      "Given the former angle theta and quantum state, the new prediction is:\n",
      "Prediction = 1\n",
      "int(Prediction) = 1 \n",
      "\n",
      "Salida counts = {'0': 1}\n",
      "Given the former angle theta and quantum state, the new prediction is:\n",
      "Prediction = 0\n",
      "int(Prediction) = 0 \n",
      "\n",
      "Salida counts = {'0': 1}\n",
      "Given the former angle theta and quantum state, the new prediction is:\n",
      "Prediction = 0\n",
      "int(Prediction) = 0 \n",
      "\n",
      "Salida counts = {'0': 1}\n",
      "Given the former angle theta and quantum state, the new prediction is:\n",
      "Prediction = 0\n",
      "int(Prediction) = 0 \n",
      "\n",
      "Salida counts = {'1': 1}\n",
      "Given the former angle theta and quantum state, the new prediction is:\n",
      "Prediction = 1\n",
      "int(Prediction) = 1 \n",
      "\n",
      "Salida counts = {'0': 1}\n",
      "Given the former angle theta and quantum state, the new prediction is:\n",
      "Prediction = 0\n",
      "int(Prediction) = 0 \n",
      "\n",
      "Salida counts = {'0': 1}\n",
      "Given the former angle theta and quantum state, the new prediction is:\n",
      "Prediction = 0\n",
      "int(Prediction) = 0 \n",
      "\n",
      "Salida counts = {'1': 1}\n",
      "Given the former angle theta and quantum state, the new prediction is:\n",
      "Prediction = 1\n",
      "int(Prediction) = 1 \n",
      "\n",
      "Salida counts = {'0': 1}\n",
      "Given the former angle theta and quantum state, the new prediction is:\n",
      "Prediction = 0\n",
      "int(Prediction) = 0 \n",
      "\n",
      "Salida counts = {'1': 1}\n",
      "Given the former angle theta and quantum state, the new prediction is:\n",
      "Prediction = 1\n",
      "int(Prediction) = 1 \n",
      "\n",
      "Salida counts = {'0': 1}\n",
      "Given the former angle theta and quantum state, the new prediction is:\n",
      "Prediction = 0\n",
      "int(Prediction) = 0 \n",
      "\n",
      "Salida counts = {'1': 1}\n",
      "Given the former angle theta and quantum state, the new prediction is:\n",
      "Prediction = 1\n",
      "int(Prediction) = 1 \n",
      "\n",
      "Salida counts = {'0': 1}\n",
      "Given the former angle theta and quantum state, the new prediction is:\n",
      "Prediction = 0\n",
      "int(Prediction) = 0 \n",
      "\n",
      "Salida counts = {'1': 1}\n",
      "Given the former angle theta and quantum state, the new prediction is:\n",
      "Prediction = 1\n",
      "int(Prediction) = 1 \n",
      "\n",
      "Salida counts = {'0': 1}\n",
      "Given the former angle theta and quantum state, the new prediction is:\n",
      "Prediction = 0\n",
      "int(Prediction) = 0 \n",
      "\n",
      "Salida counts = {'1': 1}\n",
      "Given the former angle theta and quantum state, the new prediction is:\n",
      "Prediction = 1\n",
      "int(Prediction) = 1 \n",
      "\n",
      "Salida counts = {'0': 1}\n",
      "Given the former angle theta and quantum state, the new prediction is:\n",
      "Prediction = 0\n",
      "int(Prediction) = 0 \n",
      "\n",
      "Salida counts = {'0': 1}\n",
      "Given the former angle theta and quantum state, the new prediction is:\n",
      "Prediction = 0\n",
      "int(Prediction) = 0 \n",
      "\n",
      "Salida counts = {'0': 1}\n",
      "Given the former angle theta and quantum state, the new prediction is:\n",
      "Prediction = 0\n",
      "int(Prediction) = 0 \n",
      "\n",
      "\n",
      "The precision score of the Random PQC classifier is 0.35\n",
      "The recall score of the Random PQC classifier is 0.48\n",
      "The specificity score of the Random PQC classifier is 0.48\n",
      "The npv score of the Random PQC classifier is 0.61\n",
      "The information level is: 0.48\n"
     ]
    }
   ],
   "source": [
    "classifier_report(\n",
    "    \"Random PQC\",\n",
    "    run,\n",
    "    lambda passenger: post_process(pqc(backend, pre_process_random(passenger))),\n",
    "    train_input,\n",
    "    train_labels)"
   ]
  },
  {
   "cell_type": "code",
   "execution_count": 14,
   "metadata": {
    "tags": []
   },
   "outputs": [],
   "source": [
    "################################################\n",
    "## Variational Hybrid Quantum-Classical Algorithm with Passenger Information\n",
    "################################################"
   ]
  },
  {
   "cell_type": "code",
   "execution_count": 15,
   "metadata": {},
   "outputs": [],
   "source": [
    "# Listing 3.24: weigh a passenger's feature\n",
    "def weigh_feature(feature, weight):\n",
    "    \"\"\"\n",
    "    feature -- the single value of a passenger's feature\n",
    "    weight -- the overall weight of this feature\n",
    "    returns the weighted feature \n",
    "    \"\"\"\n",
    "    return feature*weight"
   ]
  },
  {
   "cell_type": "code",
   "execution_count": 16,
   "metadata": {},
   "outputs": [],
   "source": [
    "# Listing 3.25: Calculate the overall probability\n",
    "from functools import reduce\n",
    "\n",
    "def get_overall_probability(features, weights):\n",
    "    \"\"\"\n",
    "    features -- list of the features of a passenger\n",
    "    weights -- list of all features' weights\n",
    "    \"\"\"\n",
    "    return reduce(lambda result, data: result + weigh_feature(*data), zip(features, weights),0) #result = result + weigh_feature(features, weights), starting at 0."
   ]
  },
  {
   "cell_type": "code",
   "execution_count": 17,
   "metadata": {
    "scrolled": true,
    "tags": []
   },
   "outputs": [],
   "source": [
    "# separate the training data into a list of the columns\n",
    "columns = [list(map(lambda passenger: passenger[i], train_input)) for i in range(0,7)]\n",
    "#columns"
   ]
  },
  {
   "cell_type": "code",
   "execution_count": 18,
   "metadata": {},
   "outputs": [],
   "source": [
    "# Listing 3.26: Calculate the correlation coefficients\n",
    "from scipy.stats import spearmanr\n",
    "\n",
    "# calculate the correlation coefficient for each column\n",
    "correlations = list(map(lambda col: spearmanr(col, train_labels)[0], columns))\n",
    "#correlations"
   ]
  },
  {
   "cell_type": "code",
   "execution_count": 19,
   "metadata": {},
   "outputs": [
    {
     "data": {
      "text/html": [
       "<div>\n",
       "<style scoped>\n",
       "    .dataframe tbody tr th:only-of-type {\n",
       "        vertical-align: middle;\n",
       "    }\n",
       "\n",
       "    .dataframe tbody tr th {\n",
       "        vertical-align: top;\n",
       "    }\n",
       "\n",
       "    .dataframe thead th {\n",
       "        text-align: right;\n",
       "    }\n",
       "</style>\n",
       "<table border=\"1\" class=\"dataframe\">\n",
       "  <thead>\n",
       "    <tr style=\"text-align: right;\">\n",
       "      <th></th>\n",
       "      <th>Ranking Correlation = Feature Weight</th>\n",
       "    </tr>\n",
       "  </thead>\n",
       "  <tbody>\n",
       "    <tr>\n",
       "      <th>Pclass</th>\n",
       "      <td>-0.344766</td>\n",
       "    </tr>\n",
       "    <tr>\n",
       "      <th>Sex</th>\n",
       "      <td>-0.518456</td>\n",
       "    </tr>\n",
       "    <tr>\n",
       "      <th>Age</th>\n",
       "      <td>-0.025080</td>\n",
       "    </tr>\n",
       "    <tr>\n",
       "      <th>SibSp</th>\n",
       "      <td>0.095559</td>\n",
       "    </tr>\n",
       "    <tr>\n",
       "      <th>Parch</th>\n",
       "      <td>0.127698</td>\n",
       "    </tr>\n",
       "    <tr>\n",
       "      <th>Fare</th>\n",
       "      <td>0.310622</td>\n",
       "    </tr>\n",
       "    <tr>\n",
       "      <th>Embarked</th>\n",
       "      <td>-0.184166</td>\n",
       "    </tr>\n",
       "  </tbody>\n",
       "</table>\n",
       "</div>"
      ],
      "text/plain": [
       "          Ranking Correlation = Feature Weight\n",
       "Pclass                               -0.344766\n",
       "Sex                                  -0.518456\n",
       "Age                                  -0.025080\n",
       "SibSp                                 0.095559\n",
       "Parch                                 0.127698\n",
       "Fare                                  0.310622\n",
       "Embarked                             -0.184166"
      ]
     },
     "execution_count": 19,
     "metadata": {},
     "output_type": "execute_result"
    }
   ],
   "source": [
    "dcorr = pd.DataFrame(correlations,index =['Pclass','Sex','Age','SibSp','Parch','Fare','Embarked'], columns = ['Ranking Correlation = Feature Weight'])\n",
    "dcorr"
   ]
  },
  {
   "cell_type": "code",
   "execution_count": 20,
   "metadata": {},
   "outputs": [],
   "source": [
    "# Listing 3.27: The weighting pre‐processing\n",
    "from math import pi, sin, cos\n",
    "\n",
    "def get_state (theta):\n",
    "    \"\"\"returns a valid state vector from angle theta\"\"\"\n",
    "    return [cos(theta/2), sin(theta/2)]"
   ]
  },
  {
   "cell_type": "code",
   "execution_count": 21,
   "metadata": {},
   "outputs": [],
   "source": [
    "def pre_process_weighted(passenger):\n",
    "    \"\"\"\n",
    "    passenger -- the normalized (array of numeric data) passenger data\n",
    "    returns a valid quantum state\n",
    "    \"\"\"\n",
    "\n",
    "    # caluclate the overall probability\n",
    "    mu = get_overall_probability(passenger, correlations)\n",
    "    print('Overall Probability =', mu)\n",
    "        \n",
    "    # theta between 0 (|0>) and pi (|1>)\n",
    "    quantum_state = get_state((1-mu)*pi)\n",
    "    \n",
    "    vector2latex(quantum_state, pretext=\"|\\\\psi\\\\rangle =\")  \n",
    "\n",
    "    return quantum_state"
   ]
  },
  {
   "cell_type": "code",
   "execution_count": 22,
   "metadata": {},
   "outputs": [],
   "source": [
    "backend = Aer.get_backend('statevector_simulator') "
   ]
  },
  {
   "cell_type": "code",
   "execution_count": 23,
   "metadata": {
    "scrolled": true,
    "tags": []
   },
   "outputs": [
    {
     "name": "stdout",
     "output_type": "stream",
     "text": [
      "Overall Probability = -0.9598151743109983\n"
     ]
    },
    {
     "data": {
      "text/latex": [
       "$\\displaystyle \n",
       "$$ |\\psi\\rangle =\\begin{bmatrix}\n",
       "-0.99801 \\\\\n",
       "0.06308\\end{bmatrix} $"
      ],
      "text/plain": [
       "<IPython.core.display.Math object>"
      ]
     },
     "metadata": {},
     "output_type": "display_data"
    },
    {
     "name": "stdout",
     "output_type": "stream",
     "text": [
      "Salida counts = {'0': 1}\n",
      "Given the former angle theta and quantum state, the new prediction is:\n",
      "Prediction = 0\n",
      "int(Prediction) = 0 \n",
      "\n",
      "Overall Probability = 0.0915700222443043\n"
     ]
    },
    {
     "data": {
      "text/latex": [
       "$\\displaystyle \n",
       "$$ |\\psi\\rangle =\\begin{bmatrix}\n",
       "0.14334 \\\\\n",
       "0.98967\\end{bmatrix} $"
      ],
      "text/plain": [
       "<IPython.core.display.Math object>"
      ]
     },
     "metadata": {},
     "output_type": "display_data"
    },
    {
     "name": "stdout",
     "output_type": "stream",
     "text": [
      "Salida counts = {'1': 1}\n",
      "Given the former angle theta and quantum state, the new prediction is:\n",
      "Prediction = 1\n",
      "int(Prediction) = 1 \n",
      "\n",
      "Overall Probability = -1.0387423503683644\n"
     ]
    },
    {
     "data": {
      "text/latex": [
       "$\\displaystyle \n",
       "$$ |\\psi\\rangle =\\begin{bmatrix}\n",
       "-0.99815 \\\\\n",
       "-0.06082\\end{bmatrix} $"
      ],
      "text/plain": [
       "<IPython.core.display.Math object>"
      ]
     },
     "metadata": {},
     "output_type": "display_data"
    },
    {
     "name": "stdout",
     "output_type": "stream",
     "text": [
      "Salida counts = {'0': 1}\n",
      "Given the former angle theta and quantum state, the new prediction is:\n",
      "Prediction = 0\n",
      "int(Prediction) = 0 \n",
      "\n",
      "Overall Probability = -0.2700602367485777\n"
     ]
    },
    {
     "data": {
      "text/latex": [
       "$\\displaystyle \n",
       "$$ |\\psi\\rangle =\\begin{bmatrix}\n",
       "-0.41160 \\\\\n",
       "0.91136\\end{bmatrix} $"
      ],
      "text/plain": [
       "<IPython.core.display.Math object>"
      ]
     },
     "metadata": {},
     "output_type": "display_data"
    },
    {
     "name": "stdout",
     "output_type": "stream",
     "text": [
      "Salida counts = {'1': 1}\n",
      "Given the former angle theta and quantum state, the new prediction is:\n",
      "Prediction = 1\n",
      "int(Prediction) = 1 \n",
      "\n",
      "Overall Probability = -0.4289886968347164\n"
     ]
    },
    {
     "data": {
      "text/latex": [
       "$\\displaystyle \n",
       "$$ |\\psi\\rangle =\\begin{bmatrix}\n",
       "-0.62400 \\\\\n",
       "0.78142\\end{bmatrix} $"
      ],
      "text/plain": [
       "<IPython.core.display.Math object>"
      ]
     },
     "metadata": {},
     "output_type": "display_data"
    },
    {
     "name": "stdout",
     "output_type": "stream",
     "text": [
      "Salida counts = {'1': 1}\n",
      "Given the former angle theta and quantum state, the new prediction is:\n",
      "Prediction = 1\n",
      "int(Prediction) = 1 \n",
      "\n",
      "Overall Probability = -1.051809852413298\n"
     ]
    },
    {
     "data": {
      "text/latex": [
       "$\\displaystyle \n",
       "$$ |\\psi\\rangle =\\begin{bmatrix}\n",
       "-0.99669 \\\\\n",
       "-0.08129\\end{bmatrix} $"
      ],
      "text/plain": [
       "<IPython.core.display.Math object>"
      ]
     },
     "metadata": {},
     "output_type": "display_data"
    },
    {
     "name": "stdout",
     "output_type": "stream",
     "text": [
      "Salida counts = {'0': 1}\n",
      "Given the former angle theta and quantum state, the new prediction is:\n",
      "Prediction = 0\n",
      "int(Prediction) = 0 \n",
      "\n",
      "Overall Probability = -1.0517163619394672\n"
     ]
    },
    {
     "data": {
      "text/latex": [
       "$\\displaystyle \n",
       "$$ |\\psi\\rangle =\\begin{bmatrix}\n",
       "-0.99670 \\\\\n",
       "-0.08115\\end{bmatrix} $"
      ],
      "text/plain": [
       "<IPython.core.display.Math object>"
      ]
     },
     "metadata": {},
     "output_type": "display_data"
    },
    {
     "name": "stdout",
     "output_type": "stream",
     "text": [
      "Salida counts = {'0': 1}\n",
      "Given the former angle theta and quantum state, the new prediction is:\n",
      "Prediction = 0\n",
      "int(Prediction) = 0 \n",
      "\n",
      "Overall Probability = -0.27667164408294465\n"
     ]
    },
    {
     "data": {
      "text/latex": [
       "$\\displaystyle \n",
       "$$ |\\psi\\rangle =\\begin{bmatrix}\n",
       "-0.42104 \\\\\n",
       "0.90704\\end{bmatrix} $"
      ],
      "text/plain": [
       "<IPython.core.display.Math object>"
      ]
     },
     "metadata": {},
     "output_type": "display_data"
    },
    {
     "name": "stdout",
     "output_type": "stream",
     "text": [
      "Salida counts = {'1': 1}\n",
      "Given the former angle theta and quantum state, the new prediction is:\n",
      "Prediction = 1\n",
      "int(Prediction) = 1 \n",
      "\n",
      "Overall Probability = -0.4413594325543094\n"
     ]
    },
    {
     "data": {
      "text/latex": [
       "$\\displaystyle \n",
       "$$ |\\psi\\rangle =\\begin{bmatrix}\n",
       "-0.63907 \\\\\n",
       "0.76915\\end{bmatrix} $"
      ],
      "text/plain": [
       "<IPython.core.display.Math object>"
      ]
     },
     "metadata": {},
     "output_type": "display_data"
    },
    {
     "name": "stdout",
     "output_type": "stream",
     "text": [
      "Salida counts = {'1': 1}\n",
      "Given the former angle theta and quantum state, the new prediction is:\n",
      "Prediction = 1\n",
      "int(Prediction) = 1 \n",
      "\n",
      "Overall Probability = -1.0550742028652944\n"
     ]
    },
    {
     "data": {
      "text/latex": [
       "$\\displaystyle \n",
       "$$ |\\psi\\rangle =\\begin{bmatrix}\n",
       "-0.99626 \\\\\n",
       "-0.08640\\end{bmatrix} $"
      ],
      "text/plain": [
       "<IPython.core.display.Math object>"
      ]
     },
     "metadata": {},
     "output_type": "display_data"
    },
    {
     "name": "stdout",
     "output_type": "stream",
     "text": [
      "Salida counts = {'0': 1}\n",
      "Given the former angle theta and quantum state, the new prediction is:\n",
      "Prediction = 0\n",
      "int(Prediction) = 0 \n",
      "\n",
      "Overall Probability = -1.0552396683649428\n"
     ]
    },
    {
     "data": {
      "text/latex": [
       "$\\displaystyle \n",
       "$$ |\\psi\\rangle =\\begin{bmatrix}\n",
       "-0.99624 \\\\\n",
       "-0.08666\\end{bmatrix} $"
      ],
      "text/plain": [
       "<IPython.core.display.Math object>"
      ]
     },
     "metadata": {},
     "output_type": "display_data"
    },
    {
     "name": "stdout",
     "output_type": "stream",
     "text": [
      "Salida counts = {'0': 1}\n",
      "Given the former angle theta and quantum state, the new prediction is:\n",
      "Prediction = 0\n",
      "int(Prediction) = 0 \n",
      "\n",
      "Overall Probability = -0.5121344908705187\n"
     ]
    },
    {
     "data": {
      "text/latex": [
       "$\\displaystyle \n",
       "$$ |\\psi\\rangle =\\begin{bmatrix}\n",
       "-0.72046 \\\\\n",
       "0.69350\\end{bmatrix} $"
      ],
      "text/plain": [
       "<IPython.core.display.Math object>"
      ]
     },
     "metadata": {},
     "output_type": "display_data"
    },
    {
     "name": "stdout",
     "output_type": "stream",
     "text": [
      "Salida counts = {'0': 1}\n",
      "Given the former angle theta and quantum state, the new prediction is:\n",
      "Prediction = 0\n",
      "int(Prediction) = 0 \n",
      "\n",
      "Overall Probability = -0.8701391492352405\n"
     ]
    },
    {
     "data": {
      "text/latex": [
       "$\\displaystyle \n",
       "$$ |\\psi\\rangle =\\begin{bmatrix}\n",
       "-0.97927 \\\\\n",
       "0.20257\\end{bmatrix} $"
      ],
      "text/plain": [
       "<IPython.core.display.Math object>"
      ]
     },
     "metadata": {},
     "output_type": "display_data"
    },
    {
     "name": "stdout",
     "output_type": "stream",
     "text": [
      "Salida counts = {'0': 1}\n",
      "Given the former angle theta and quantum state, the new prediction is:\n",
      "Prediction = 0\n",
      "int(Prediction) = 0 \n",
      "\n",
      "Overall Probability = -0.654083973030288\n"
     ]
    },
    {
     "data": {
      "text/latex": [
       "$\\displaystyle \n",
       "$$ |\\psi\\rangle =\\begin{bmatrix}\n",
       "-0.85597 \\\\\n",
       "0.51702\\end{bmatrix} $"
      ],
      "text/plain": [
       "<IPython.core.display.Math object>"
      ]
     },
     "metadata": {},
     "output_type": "display_data"
    },
    {
     "name": "stdout",
     "output_type": "stream",
     "text": [
      "Salida counts = {'0': 1}\n",
      "Given the former angle theta and quantum state, the new prediction is:\n",
      "Prediction = 0\n",
      "int(Prediction) = 0 \n",
      "\n",
      "Overall Probability = 0.06131004774916509\n"
     ]
    },
    {
     "data": {
      "text/latex": [
       "$\\displaystyle \n",
       "$$ |\\psi\\rangle =\\begin{bmatrix}\n",
       "0.09616 \\\\\n",
       "0.99537\\end{bmatrix} $"
      ],
      "text/plain": [
       "<IPython.core.display.Math object>"
      ]
     },
     "metadata": {},
     "output_type": "display_data"
    },
    {
     "name": "stdout",
     "output_type": "stream",
     "text": [
      "Salida counts = {'1': 1}\n",
      "Given the former angle theta and quantum state, the new prediction is:\n",
      "Prediction = 1\n",
      "int(Prediction) = 1 \n",
      "\n",
      "Overall Probability = -0.8609105631883716\n"
     ]
    },
    {
     "data": {
      "text/latex": [
       "$\\displaystyle \n",
       "$$ |\\psi\\rangle =\\begin{bmatrix}\n",
       "-0.97623 \\\\\n",
       "0.21675\\end{bmatrix} $"
      ],
      "text/plain": [
       "<IPython.core.display.Math object>"
      ]
     },
     "metadata": {},
     "output_type": "display_data"
    },
    {
     "name": "stdout",
     "output_type": "stream",
     "text": [
      "Salida counts = {'0': 1}\n",
      "Given the former angle theta and quantum state, the new prediction is:\n",
      "Prediction = 0\n",
      "int(Prediction) = 0 \n",
      "\n",
      "Overall Probability = -1.0540112289803172\n"
     ]
    },
    {
     "data": {
      "text/latex": [
       "$\\displaystyle \n",
       "$$ |\\psi\\rangle =\\begin{bmatrix}\n",
       "-0.99640 \\\\\n",
       "-0.08474\\end{bmatrix} $"
      ],
      "text/plain": [
       "<IPython.core.display.Math object>"
      ]
     },
     "metadata": {},
     "output_type": "display_data"
    },
    {
     "name": "stdout",
     "output_type": "stream",
     "text": [
      "Salida counts = {'0': 1}\n",
      "Given the former angle theta and quantum state, the new prediction is:\n",
      "Prediction = 0\n",
      "int(Prediction) = 0 \n",
      "\n",
      "Overall Probability = -1.048214024263405\n"
     ]
    },
    {
     "data": {
      "text/latex": [
       "$\\displaystyle \n",
       "$$ |\\psi\\rangle =\\begin{bmatrix}\n",
       "-0.99713 \\\\\n",
       "-0.07566\\end{bmatrix} $"
      ],
      "text/plain": [
       "<IPython.core.display.Math object>"
      ]
     },
     "metadata": {},
     "output_type": "display_data"
    },
    {
     "name": "stdout",
     "output_type": "stream",
     "text": [
      "Salida counts = {'0': 1}\n",
      "Given the former angle theta and quantum state, the new prediction is:\n",
      "Prediction = 0\n",
      "int(Prediction) = 0 \n",
      "\n",
      "Overall Probability = 0.1248427907257486\n"
     ]
    },
    {
     "data": {
      "text/latex": [
       "$\\displaystyle \n",
       "$$ |\\psi\\rangle =\\begin{bmatrix}\n",
       "0.19485 \\\\\n",
       "0.98083\\end{bmatrix} $"
      ],
      "text/plain": [
       "<IPython.core.display.Math object>"
      ]
     },
     "metadata": {},
     "output_type": "display_data"
    },
    {
     "name": "stdout",
     "output_type": "stream",
     "text": [
      "Salida counts = {'1': 1}\n",
      "Given the former angle theta and quantum state, the new prediction is:\n",
      "Prediction = 1\n",
      "int(Prediction) = 1 \n",
      "\n",
      "Overall Probability = -0.35784826211639753\n"
     ]
    },
    {
     "data": {
      "text/latex": [
       "$\\displaystyle \n",
       "$$ |\\psi\\rangle =\\begin{bmatrix}\n",
       "-0.53297 \\\\\n",
       "0.84613\\end{bmatrix} $"
      ],
      "text/plain": [
       "<IPython.core.display.Math object>"
      ]
     },
     "metadata": {},
     "output_type": "display_data"
    },
    {
     "name": "stdout",
     "output_type": "stream",
     "text": [
      "Salida counts = {'0': 1}\n",
      "Given the former angle theta and quantum state, the new prediction is:\n",
      "Prediction = 0\n",
      "int(Prediction) = 0 \n",
      "\n",
      "Overall Probability = -1.0523141932436393\n"
     ]
    },
    {
     "data": {
      "text/latex": [
       "$\\displaystyle \n",
       "$$ |\\psi\\rangle =\\begin{bmatrix}\n",
       "-0.99663 \\\\\n",
       "-0.08208\\end{bmatrix} $"
      ],
      "text/plain": [
       "<IPython.core.display.Math object>"
      ]
     },
     "metadata": {},
     "output_type": "display_data"
    },
    {
     "name": "stdout",
     "output_type": "stream",
     "text": [
      "Salida counts = {'0': 1}\n",
      "Given the former angle theta and quantum state, the new prediction is:\n",
      "Prediction = 0\n",
      "int(Prediction) = 0 \n",
      "\n",
      "Overall Probability = -0.1504881357088405\n"
     ]
    },
    {
     "data": {
      "text/latex": [
       "$\\displaystyle \n",
       "$$ |\\psi\\rangle =\\begin{bmatrix}\n",
       "-0.23419 \\\\\n",
       "0.97219\\end{bmatrix} $"
      ],
      "text/plain": [
       "<IPython.core.display.Math object>"
      ]
     },
     "metadata": {},
     "output_type": "display_data"
    },
    {
     "name": "stdout",
     "output_type": "stream",
     "text": [
      "Salida counts = {'1': 1}\n",
      "Given the former angle theta and quantum state, the new prediction is:\n",
      "Prediction = 1\n",
      "int(Prediction) = 1 \n",
      "\n",
      "Overall Probability = -1.0230870904560634\n"
     ]
    },
    {
     "data": {
      "text/latex": [
       "$\\displaystyle \n",
       "$$ |\\psi\\rangle =\\begin{bmatrix}\n",
       "-0.99934 \\\\\n",
       "-0.03626\\end{bmatrix} $"
      ],
      "text/plain": [
       "<IPython.core.display.Math object>"
      ]
     },
     "metadata": {},
     "output_type": "display_data"
    },
    {
     "name": "stdout",
     "output_type": "stream",
     "text": [
      "Salida counts = {'0': 1}\n",
      "Given the former angle theta and quantum state, the new prediction is:\n",
      "Prediction = 0\n",
      "int(Prediction) = 0 \n",
      "\n",
      "Overall Probability = -0.6978365499288787\n"
     ]
    },
    {
     "data": {
      "text/latex": [
       "$\\displaystyle \n",
       "$$ |\\psi\\rangle =\\begin{bmatrix}\n",
       "-0.88946 \\\\\n",
       "0.45702\\end{bmatrix} $"
      ],
      "text/plain": [
       "<IPython.core.display.Math object>"
      ]
     },
     "metadata": {},
     "output_type": "display_data"
    },
    {
     "name": "stdout",
     "output_type": "stream",
     "text": [
      "Salida counts = {'0': 1}\n",
      "Given the former angle theta and quantum state, the new prediction is:\n",
      "Prediction = 0\n",
      "int(Prediction) = 0 \n",
      "\n",
      "Overall Probability = -0.6951480980852354\n"
     ]
    },
    {
     "data": {
      "text/latex": [
       "$\\displaystyle \n",
       "$$ |\\psi\\rangle =\\begin{bmatrix}\n",
       "-0.88752 \\\\\n",
       "0.46077\\end{bmatrix} $"
      ],
      "text/plain": [
       "<IPython.core.display.Math object>"
      ]
     },
     "metadata": {},
     "output_type": "display_data"
    },
    {
     "name": "stdout",
     "output_type": "stream",
     "text": [
      "Salida counts = {'0': 1}\n",
      "Given the former angle theta and quantum state, the new prediction is:\n",
      "Prediction = 0\n",
      "int(Prediction) = 0 \n",
      "\n",
      "Overall Probability = -0.5773680829857101\n"
     ]
    },
    {
     "data": {
      "text/latex": [
       "$\\displaystyle \n",
       "$$ |\\psi\\rangle =\\begin{bmatrix}\n",
       "-0.78761 \\\\\n",
       "0.61617\\end{bmatrix} $"
      ],
      "text/plain": [
       "<IPython.core.display.Math object>"
      ]
     },
     "metadata": {},
     "output_type": "display_data"
    },
    {
     "name": "stdout",
     "output_type": "stream",
     "text": [
      "Salida counts = {'0': 1}\n",
      "Given the former angle theta and quantum state, the new prediction is:\n",
      "Prediction = 0\n",
      "int(Prediction) = 0 \n",
      "\n",
      "Overall Probability = -0.8842142095188468\n"
     ]
    },
    {
     "data": {
      "text/latex": [
       "$\\displaystyle \n",
       "$$ |\\psi\\rangle =\\begin{bmatrix}\n",
       "-0.98351 \\\\\n",
       "0.18087\\end{bmatrix} $"
      ],
      "text/plain": [
       "<IPython.core.display.Math object>"
      ]
     },
     "metadata": {},
     "output_type": "display_data"
    },
    {
     "name": "stdout",
     "output_type": "stream",
     "text": [
      "Salida counts = {'0': 1}\n",
      "Given the former angle theta and quantum state, the new prediction is:\n",
      "Prediction = 0\n",
      "int(Prediction) = 0 \n",
      "\n",
      "Overall Probability = -0.6861245447456775\n"
     ]
    },
    {
     "data": {
      "text/latex": [
       "$\\displaystyle \n",
       "$$ |\\psi\\rangle =\\begin{bmatrix}\n",
       "-0.88090 \\\\\n",
       "0.47330\\end{bmatrix} $"
      ],
      "text/plain": [
       "<IPython.core.display.Math object>"
      ]
     },
     "metadata": {},
     "output_type": "display_data"
    },
    {
     "name": "stdout",
     "output_type": "stream",
     "text": [
      "Salida counts = {'0': 1}\n",
      "Given the former angle theta and quantum state, the new prediction is:\n",
      "Prediction = 0\n",
      "int(Prediction) = 0 \n",
      "\n",
      "Overall Probability = -0.5312431154817807\n"
     ]
    },
    {
     "data": {
      "text/latex": [
       "$\\displaystyle \n",
       "$$ |\\psi\\rangle =\\begin{bmatrix}\n",
       "-0.74094 \\\\\n",
       "0.67157\\end{bmatrix} $"
      ],
      "text/plain": [
       "<IPython.core.display.Math object>"
      ]
     },
     "metadata": {},
     "output_type": "display_data"
    },
    {
     "name": "stdout",
     "output_type": "stream",
     "text": [
      "Salida counts = {'1': 1}\n",
      "Given the former angle theta and quantum state, the new prediction is:\n",
      "Prediction = 1\n",
      "int(Prediction) = 1 \n",
      "\n",
      "Overall Probability = 0.009472804917682095\n"
     ]
    },
    {
     "data": {
      "text/latex": [
       "$\\displaystyle \n",
       "$$ |\\psi\\rangle =\\begin{bmatrix}\n",
       "0.01488 \\\\\n",
       "0.99989\\end{bmatrix} $"
      ],
      "text/plain": [
       "<IPython.core.display.Math object>"
      ]
     },
     "metadata": {},
     "output_type": "display_data"
    },
    {
     "name": "stdout",
     "output_type": "stream",
     "text": [
      "Salida counts = {'1': 1}\n",
      "Given the former angle theta and quantum state, the new prediction is:\n",
      "Prediction = 1\n",
      "int(Prediction) = 1 \n",
      "\n",
      "Overall Probability = -0.35855971512478924\n"
     ]
    },
    {
     "data": {
      "text/latex": [
       "$\\displaystyle \n",
       "$$ |\\psi\\rangle =\\begin{bmatrix}\n",
       "-0.53392 \\\\\n",
       "0.84554\\end{bmatrix} $"
      ],
      "text/plain": [
       "<IPython.core.display.Math object>"
      ]
     },
     "metadata": {},
     "output_type": "display_data"
    },
    {
     "name": "stdout",
     "output_type": "stream",
     "text": [
      "Salida counts = {'1': 1}\n",
      "Given the former angle theta and quantum state, the new prediction is:\n",
      "Prediction = 1\n",
      "int(Prediction) = 1 \n",
      "\n",
      "Overall Probability = -0.8597940447859241\n"
     ]
    },
    {
     "data": {
      "text/latex": [
       "$\\displaystyle \n",
       "$$ |\\psi\\rangle =\\begin{bmatrix}\n",
       "-0.97585 \\\\\n",
       "0.21846\\end{bmatrix} $"
      ],
      "text/plain": [
       "<IPython.core.display.Math object>"
      ]
     },
     "metadata": {},
     "output_type": "display_data"
    },
    {
     "name": "stdout",
     "output_type": "stream",
     "text": [
      "Salida counts = {'0': 1}\n",
      "Given the former angle theta and quantum state, the new prediction is:\n",
      "Prediction = 0\n",
      "int(Prediction) = 0 \n",
      "\n",
      "Overall Probability = -0.7053017568937582\n"
     ]
    },
    {
     "data": {
      "text/latex": [
       "$\\displaystyle \n",
       "$$ |\\psi\\rangle =\\begin{bmatrix}\n",
       "-0.89476 \\\\\n",
       "0.44655\\end{bmatrix} $"
      ],
      "text/plain": [
       "<IPython.core.display.Math object>"
      ]
     },
     "metadata": {},
     "output_type": "display_data"
    },
    {
     "name": "stdout",
     "output_type": "stream",
     "text": [
      "Salida counts = {'0': 1}\n",
      "Given the former angle theta and quantum state, the new prediction is:\n",
      "Prediction = 0\n",
      "int(Prediction) = 0 \n",
      "\n",
      "Overall Probability = -0.477868652677922\n"
     ]
    },
    {
     "data": {
      "text/latex": [
       "$\\displaystyle \n",
       "$$ |\\psi\\rangle =\\begin{bmatrix}\n",
       "-0.68210 \\\\\n",
       "0.73126\\end{bmatrix} $"
      ],
      "text/plain": [
       "<IPython.core.display.Math object>"
      ]
     },
     "metadata": {},
     "output_type": "display_data"
    },
    {
     "name": "stdout",
     "output_type": "stream",
     "text": [
      "Salida counts = {'0': 1}\n",
      "Given the former angle theta and quantum state, the new prediction is:\n",
      "Prediction = 0\n",
      "int(Prediction) = 0 \n",
      "\n",
      "Overall Probability = 0.21999176190432376\n"
     ]
    },
    {
     "data": {
      "text/latex": [
       "$\\displaystyle \n",
       "$$ |\\psi\\rangle =\\begin{bmatrix}\n",
       "0.33873 \\\\\n",
       "0.94089\\end{bmatrix} $"
      ],
      "text/plain": [
       "<IPython.core.display.Math object>"
      ]
     },
     "metadata": {},
     "output_type": "display_data"
    },
    {
     "name": "stdout",
     "output_type": "stream",
     "text": [
      "Salida counts = {'1': 1}\n",
      "Given the former angle theta and quantum state, the new prediction is:\n",
      "Prediction = 1\n",
      "int(Prediction) = 1 \n",
      "\n",
      "Overall Probability = -0.9531993817774514\n"
     ]
    },
    {
     "data": {
      "text/latex": [
       "$\\displaystyle \n",
       "$$ |\\psi\\rangle =\\begin{bmatrix}\n",
       "-0.99730 \\\\\n",
       "0.07345\\end{bmatrix} $"
      ],
      "text/plain": [
       "<IPython.core.display.Math object>"
      ]
     },
     "metadata": {},
     "output_type": "display_data"
    },
    {
     "name": "stdout",
     "output_type": "stream",
     "text": [
      "Salida counts = {'0': 1}\n",
      "Given the former angle theta and quantum state, the new prediction is:\n",
      "Prediction = 0\n",
      "int(Prediction) = 0 \n",
      "\n",
      "Overall Probability = -0.8777058106920127\n"
     ]
    },
    {
     "data": {
      "text/latex": [
       "$\\displaystyle \n",
       "$$ |\\psi\\rangle =\\begin{bmatrix}\n",
       "-0.98161 \\\\\n",
       "0.19092\\end{bmatrix} $"
      ],
      "text/plain": [
       "<IPython.core.display.Math object>"
      ]
     },
     "metadata": {},
     "output_type": "display_data"
    },
    {
     "name": "stdout",
     "output_type": "stream",
     "text": [
      "Salida counts = {'0': 1}\n",
      "Given the former angle theta and quantum state, the new prediction is:\n",
      "Prediction = 0\n",
      "int(Prediction) = 0 \n",
      "\n",
      "Overall Probability = -0.33784757639287927\n"
     ]
    },
    {
     "data": {
      "text/latex": [
       "$\\displaystyle \n",
       "$$ |\\psi\\rangle =\\begin{bmatrix}\n",
       "-0.50613 \\\\\n",
       "0.86246\\end{bmatrix} $"
      ],
      "text/plain": [
       "<IPython.core.display.Math object>"
      ]
     },
     "metadata": {},
     "output_type": "display_data"
    },
    {
     "name": "stdout",
     "output_type": "stream",
     "text": [
      "Salida counts = {'1': 1}\n",
      "Given the former angle theta and quantum state, the new prediction is:\n",
      "Prediction = 1\n",
      "int(Prediction) = 1 \n",
      "\n",
      "Overall Probability = -1.0530897799725565\n"
     ]
    },
    {
     "data": {
      "text/latex": [
       "$\\displaystyle \n",
       "$$ |\\psi\\rangle =\\begin{bmatrix}\n",
       "-0.99652 \\\\\n",
       "-0.08330\\end{bmatrix} $"
      ],
      "text/plain": [
       "<IPython.core.display.Math object>"
      ]
     },
     "metadata": {},
     "output_type": "display_data"
    },
    {
     "name": "stdout",
     "output_type": "stream",
     "text": [
      "Salida counts = {'0': 1}\n",
      "Given the former angle theta and quantum state, the new prediction is:\n",
      "Prediction = 0\n",
      "int(Prediction) = 0 \n",
      "\n",
      "Overall Probability = -0.4413594325543094\n"
     ]
    },
    {
     "data": {
      "text/latex": [
       "$\\displaystyle \n",
       "$$ |\\psi\\rangle =\\begin{bmatrix}\n",
       "-0.63907 \\\\\n",
       "0.76915\\end{bmatrix} $"
      ],
      "text/plain": [
       "<IPython.core.display.Math object>"
      ]
     },
     "metadata": {},
     "output_type": "display_data"
    },
    {
     "name": "stdout",
     "output_type": "stream",
     "text": [
      "Salida counts = {'1': 1}\n",
      "Given the former angle theta and quantum state, the new prediction is:\n",
      "Prediction = 1\n",
      "int(Prediction) = 1 \n",
      "\n",
      "Overall Probability = 0.022582715455004232\n"
     ]
    },
    {
     "data": {
      "text/latex": [
       "$\\displaystyle \n",
       "$$ |\\psi\\rangle =\\begin{bmatrix}\n",
       "0.03547 \\\\\n",
       "0.99937\\end{bmatrix} $"
      ],
      "text/plain": [
       "<IPython.core.display.Math object>"
      ]
     },
     "metadata": {},
     "output_type": "display_data"
    },
    {
     "name": "stdout",
     "output_type": "stream",
     "text": [
      "Salida counts = {'1': 1}\n",
      "Given the former angle theta and quantum state, the new prediction is:\n",
      "Prediction = 1\n",
      "int(Prediction) = 1 \n",
      "\n",
      "Overall Probability = -1.0230870904560634\n"
     ]
    },
    {
     "data": {
      "text/latex": [
       "$\\displaystyle \n",
       "$$ |\\psi\\rangle =\\begin{bmatrix}\n",
       "-0.99934 \\\\\n",
       "-0.03626\\end{bmatrix} $"
      ],
      "text/plain": [
       "<IPython.core.display.Math object>"
      ]
     },
     "metadata": {},
     "output_type": "display_data"
    },
    {
     "name": "stdout",
     "output_type": "stream",
     "text": [
      "Salida counts = {'0': 1}\n",
      "Given the former angle theta and quantum state, the new prediction is:\n",
      "Prediction = 0\n",
      "int(Prediction) = 0 \n",
      "\n",
      "Overall Probability = -0.682757450418195\n"
     ]
    },
    {
     "data": {
      "text/latex": [
       "$\\displaystyle \n",
       "$$ |\\psi\\rangle =\\begin{bmatrix}\n",
       "-0.87839 \\\\\n",
       "0.47795\\end{bmatrix} $"
      ],
      "text/plain": [
       "<IPython.core.display.Math object>"
      ]
     },
     "metadata": {},
     "output_type": "display_data"
    },
    {
     "name": "stdout",
     "output_type": "stream",
     "text": [
      "Salida counts = {'0': 1}\n",
      "Given the former angle theta and quantum state, the new prediction is:\n",
      "Prediction = 0\n",
      "int(Prediction) = 0 \n",
      "\n",
      "Overall Probability = -0.16041254922596052\n"
     ]
    },
    {
     "data": {
      "text/latex": [
       "$\\displaystyle \n",
       "$$ |\\psi\\rangle =\\begin{bmatrix}\n",
       "-0.24932 \\\\\n",
       "0.96842\\end{bmatrix} $"
      ],
      "text/plain": [
       "<IPython.core.display.Math object>"
      ]
     },
     "metadata": {},
     "output_type": "display_data"
    },
    {
     "name": "stdout",
     "output_type": "stream",
     "text": [
      "Salida counts = {'1': 1}\n",
      "Given the former angle theta and quantum state, the new prediction is:\n",
      "Prediction = 1\n",
      "int(Prediction) = 1 \n",
      "\n",
      "Overall Probability = -0.5084620451690246\n"
     ]
    },
    {
     "data": {
      "text/latex": [
       "$\\displaystyle \n",
       "$$ |\\psi\\rangle =\\begin{bmatrix}\n",
       "-0.71644 \\\\\n",
       "0.69765\\end{bmatrix} $"
      ],
      "text/plain": [
       "<IPython.core.display.Math object>"
      ]
     },
     "metadata": {},
     "output_type": "display_data"
    },
    {
     "name": "stdout",
     "output_type": "stream",
     "text": [
      "Salida counts = {'0': 1}\n",
      "Given the former angle theta and quantum state, the new prediction is:\n",
      "Prediction = 0\n",
      "int(Prediction) = 0 \n",
      "\n",
      "Overall Probability = -0.6188648637435523\n"
     ]
    },
    {
     "data": {
      "text/latex": [
       "$\\displaystyle \n",
       "$$ |\\psi\\rangle =\\begin{bmatrix}\n",
       "-0.82608 \\\\\n",
       "0.56356\\end{bmatrix} $"
      ],
      "text/plain": [
       "<IPython.core.display.Math object>"
      ]
     },
     "metadata": {},
     "output_type": "display_data"
    },
    {
     "name": "stdout",
     "output_type": "stream",
     "text": [
      "Salida counts = {'0': 1}\n",
      "Given the former angle theta and quantum state, the new prediction is:\n",
      "Prediction = 0\n",
      "int(Prediction) = 0 \n",
      "\n",
      "Overall Probability = -1.0202995234595384\n"
     ]
    },
    {
     "data": {
      "text/latex": [
       "$\\displaystyle \n",
       "$$ |\\psi\\rangle =\\begin{bmatrix}\n",
       "-0.99949 \\\\\n",
       "-0.03188\\end{bmatrix} $"
      ],
      "text/plain": [
       "<IPython.core.display.Math object>"
      ]
     },
     "metadata": {},
     "output_type": "display_data"
    },
    {
     "name": "stdout",
     "output_type": "stream",
     "text": [
      "Salida counts = {'0': 1}\n",
      "Given the former angle theta and quantum state, the new prediction is:\n",
      "Prediction = 0\n",
      "int(Prediction) = 0 \n",
      "\n",
      "Overall Probability = -0.3573591365164167\n"
     ]
    },
    {
     "data": {
      "text/latex": [
       "$\\displaystyle \n",
       "$$ |\\psi\\rangle =\\begin{bmatrix}\n",
       "-0.53232 \\\\\n",
       "0.84654\\end{bmatrix} $"
      ],
      "text/plain": [
       "<IPython.core.display.Math object>"
      ]
     },
     "metadata": {},
     "output_type": "display_data"
    },
    {
     "name": "stdout",
     "output_type": "stream",
     "text": [
      "Salida counts = {'1': 1}\n",
      "Given the former angle theta and quantum state, the new prediction is:\n",
      "Prediction = 1\n",
      "int(Prediction) = 1 \n",
      "\n",
      "Overall Probability = -1.042422747626927\n"
     ]
    },
    {
     "data": {
      "text/latex": [
       "$\\displaystyle \n",
       "$$ |\\psi\\rangle =\\begin{bmatrix}\n",
       "-0.99778 \\\\\n",
       "-0.06659\\end{bmatrix} $"
      ],
      "text/plain": [
       "<IPython.core.display.Math object>"
      ]
     },
     "metadata": {},
     "output_type": "display_data"
    },
    {
     "name": "stdout",
     "output_type": "stream",
     "text": [
      "Salida counts = {'0': 1}\n",
      "Given the former angle theta and quantum state, the new prediction is:\n",
      "Prediction = 0\n",
      "int(Prediction) = 0 \n",
      "\n",
      "Overall Probability = -0.2928382179248247\n"
     ]
    },
    {
     "data": {
      "text/latex": [
       "$\\displaystyle \n",
       "$$ |\\psi\\rangle =\\begin{bmatrix}\n",
       "-0.44394 \\\\\n",
       "0.89606\\end{bmatrix} $"
      ],
      "text/plain": [
       "<IPython.core.display.Math object>"
      ]
     },
     "metadata": {},
     "output_type": "display_data"
    },
    {
     "name": "stdout",
     "output_type": "stream",
     "text": [
      "Salida counts = {'1': 1}\n",
      "Given the former angle theta and quantum state, the new prediction is:\n",
      "Prediction = 1\n",
      "int(Prediction) = 1 \n",
      "\n",
      "Overall Probability = -0.35609851490381195\n"
     ]
    },
    {
     "data": {
      "text/latex": [
       "$\\displaystyle \n",
       "$$ |\\psi\\rangle =\\begin{bmatrix}\n",
       "-0.53064 \\\\\n",
       "0.84760\\end{bmatrix} $"
      ],
      "text/plain": [
       "<IPython.core.display.Math object>"
      ]
     },
     "metadata": {},
     "output_type": "display_data"
    },
    {
     "name": "stdout",
     "output_type": "stream",
     "text": [
      "Salida counts = {'0': 1}\n",
      "Given the former angle theta and quantum state, the new prediction is:\n",
      "Prediction = 0\n",
      "int(Prediction) = 0 \n",
      "\n",
      "Overall Probability = -1.040177944327784\n"
     ]
    },
    {
     "data": {
      "text/latex": [
       "$\\displaystyle \n",
       "$$ |\\psi\\rangle =\\begin{bmatrix}\n",
       "-0.99801 \\\\\n",
       "-0.06307\\end{bmatrix} $"
      ],
      "text/plain": [
       "<IPython.core.display.Math object>"
      ]
     },
     "metadata": {},
     "output_type": "display_data"
    },
    {
     "name": "stdout",
     "output_type": "stream",
     "text": [
      "Salida counts = {'0': 1}\n",
      "Given the former angle theta and quantum state, the new prediction is:\n",
      "Prediction = 0\n",
      "int(Prediction) = 0 \n",
      "\n",
      "Overall Probability = -1.0482014133564292\n"
     ]
    },
    {
     "data": {
      "text/latex": [
       "$\\displaystyle \n",
       "$$ |\\psi\\rangle =\\begin{bmatrix}\n",
       "-0.99714 \\\\\n",
       "-0.07564\\end{bmatrix} $"
      ],
      "text/plain": [
       "<IPython.core.display.Math object>"
      ]
     },
     "metadata": {},
     "output_type": "display_data"
    },
    {
     "name": "stdout",
     "output_type": "stream",
     "text": [
      "Salida counts = {'0': 1}\n",
      "Given the former angle theta and quantum state, the new prediction is:\n",
      "Prediction = 0\n",
      "int(Prediction) = 0 \n",
      "\n",
      "Overall Probability = -0.4370600533306774\n"
     ]
    },
    {
     "data": {
      "text/latex": [
       "$\\displaystyle \n",
       "$$ |\\psi\\rangle =\\begin{bmatrix}\n",
       "-0.63386 \\\\\n",
       "0.77345\\end{bmatrix} $"
      ],
      "text/plain": [
       "<IPython.core.display.Math object>"
      ]
     },
     "metadata": {},
     "output_type": "display_data"
    },
    {
     "name": "stdout",
     "output_type": "stream",
     "text": [
      "Salida counts = {'0': 1}\n",
      "Given the former angle theta and quantum state, the new prediction is:\n",
      "Prediction = 0\n",
      "int(Prediction) = 0 \n",
      "\n",
      "Overall Probability = -1.0300776144625743\n"
     ]
    },
    {
     "data": {
      "text/latex": [
       "$\\displaystyle \n",
       "$$ |\\psi\\rangle =\\begin{bmatrix}\n",
       "-0.99888 \\\\\n",
       "-0.04723\\end{bmatrix} $"
      ],
      "text/plain": [
       "<IPython.core.display.Math object>"
      ]
     },
     "metadata": {},
     "output_type": "display_data"
    },
    {
     "name": "stdout",
     "output_type": "stream",
     "text": [
      "Salida counts = {'0': 1}\n",
      "Given the former angle theta and quantum state, the new prediction is:\n",
      "Prediction = 0\n",
      "int(Prediction) = 0 \n",
      "\n",
      "Overall Probability = -0.6643383914954122\n"
     ]
    },
    {
     "data": {
      "text/latex": [
       "$\\displaystyle \n",
       "$$ |\\psi\\rangle =\\begin{bmatrix}\n",
       "-0.86419 \\\\\n",
       "0.50316\\end{bmatrix} $"
      ],
      "text/plain": [
       "<IPython.core.display.Math object>"
      ]
     },
     "metadata": {},
     "output_type": "display_data"
    },
    {
     "name": "stdout",
     "output_type": "stream",
     "text": [
      "Salida counts = {'0': 1}\n",
      "Given the former angle theta and quantum state, the new prediction is:\n",
      "Prediction = 0\n",
      "int(Prediction) = 0 \n",
      "\n",
      "Overall Probability = -0.523716103581441\n"
     ]
    },
    {
     "data": {
      "text/latex": [
       "$\\displaystyle \n",
       "$$ |\\psi\\rangle =\\begin{bmatrix}\n",
       "-0.73295 \\\\\n",
       "0.68028\\end{bmatrix} $"
      ],
      "text/plain": [
       "<IPython.core.display.Math object>"
      ]
     },
     "metadata": {},
     "output_type": "display_data"
    },
    {
     "name": "stdout",
     "output_type": "stream",
     "text": [
      "Salida counts = {'0': 1}\n",
      "Given the former angle theta and quantum state, the new prediction is:\n",
      "Prediction = 0\n",
      "int(Prediction) = 0 \n",
      "\n",
      "Overall Probability = -0.531018904119321\n"
     ]
    },
    {
     "data": {
      "text/latex": [
       "$\\displaystyle \n",
       "$$ |\\psi\\rangle =\\begin{bmatrix}\n",
       "-0.74071 \\\\\n",
       "0.67183\\end{bmatrix} $"
      ],
      "text/plain": [
       "<IPython.core.display.Math object>"
      ]
     },
     "metadata": {},
     "output_type": "display_data"
    },
    {
     "name": "stdout",
     "output_type": "stream",
     "text": [
      "Salida counts = {'0': 1}\n",
      "Given the former angle theta and quantum state, the new prediction is:\n",
      "Prediction = 0\n",
      "int(Prediction) = 0 \n",
      "\n",
      "Overall Probability = -0.09347570311753726\n"
     ]
    },
    {
     "data": {
      "text/latex": [
       "$\\displaystyle \n",
       "$$ |\\psi\\rangle =\\begin{bmatrix}\n",
       "-0.14630 \\\\\n",
       "0.98924\\end{bmatrix} $"
      ],
      "text/plain": [
       "<IPython.core.display.Math object>"
      ]
     },
     "metadata": {},
     "output_type": "display_data"
    },
    {
     "name": "stdout",
     "output_type": "stream",
     "text": [
      "Salida counts = {'1': 1}\n",
      "Given the former angle theta and quantum state, the new prediction is:\n",
      "Prediction = 1\n",
      "int(Prediction) = 1 \n",
      "\n",
      "Overall Probability = -1.036808492362251\n"
     ]
    },
    {
     "data": {
      "text/latex": [
       "$\\displaystyle \n",
       "$$ |\\psi\\rangle =\\begin{bmatrix}\n",
       "-0.99833 \\\\\n",
       "-0.05779\\end{bmatrix} $"
      ],
      "text/plain": [
       "<IPython.core.display.Math object>"
      ]
     },
     "metadata": {},
     "output_type": "display_data"
    },
    {
     "name": "stdout",
     "output_type": "stream",
     "text": [
      "Salida counts = {'0': 1}\n",
      "Given the former angle theta and quantum state, the new prediction is:\n",
      "Prediction = 0\n",
      "int(Prediction) = 0 \n",
      "\n",
      "Overall Probability = -1.047076621448633\n"
     ]
    },
    {
     "data": {
      "text/latex": [
       "$\\displaystyle \n",
       "$$ |\\psi\\rangle =\\begin{bmatrix}\n",
       "-0.99727 \\\\\n",
       "-0.07388\\end{bmatrix} $"
      ],
      "text/plain": [
       "<IPython.core.display.Math object>"
      ]
     },
     "metadata": {},
     "output_type": "display_data"
    },
    {
     "name": "stdout",
     "output_type": "stream",
     "text": [
      "Salida counts = {'0': 1}\n",
      "Given the former angle theta and quantum state, the new prediction is:\n",
      "Prediction = 0\n",
      "int(Prediction) = 0 \n",
      "\n",
      "Overall Probability = -1.053243112442395\n"
     ]
    },
    {
     "data": {
      "text/latex": [
       "$\\displaystyle \n",
       "$$ |\\psi\\rangle =\\begin{bmatrix}\n",
       "-0.99650 \\\\\n",
       "-0.08354\\end{bmatrix} $"
      ],
      "text/plain": [
       "<IPython.core.display.Math object>"
      ]
     },
     "metadata": {},
     "output_type": "display_data"
    },
    {
     "name": "stdout",
     "output_type": "stream",
     "text": [
      "Salida counts = {'0': 1}\n",
      "Given the former angle theta and quantum state, the new prediction is:\n",
      "Prediction = 0\n",
      "int(Prediction) = 0 \n",
      "\n",
      "Overall Probability = -1.054443892058992\n"
     ]
    },
    {
     "data": {
      "text/latex": [
       "$\\displaystyle \n",
       "$$ |\\psi\\rangle =\\begin{bmatrix}\n",
       "-0.99635 \\\\\n",
       "-0.08542\\end{bmatrix} $"
      ],
      "text/plain": [
       "<IPython.core.display.Math object>"
      ]
     },
     "metadata": {},
     "output_type": "display_data"
    },
    {
     "name": "stdout",
     "output_type": "stream",
     "text": [
      "Salida counts = {'0': 1}\n",
      "Given the former angle theta and quantum state, the new prediction is:\n",
      "Prediction = 0\n",
      "int(Prediction) = 0 \n",
      "\n",
      "Overall Probability = -1.051809852413298\n"
     ]
    },
    {
     "data": {
      "text/latex": [
       "$\\displaystyle \n",
       "$$ |\\psi\\rangle =\\begin{bmatrix}\n",
       "-0.99669 \\\\\n",
       "-0.08129\\end{bmatrix} $"
      ],
      "text/plain": [
       "<IPython.core.display.Math object>"
      ]
     },
     "metadata": {},
     "output_type": "display_data"
    },
    {
     "name": "stdout",
     "output_type": "stream",
     "text": [
      "Salida counts = {'0': 1}\n",
      "Given the former angle theta and quantum state, the new prediction is:\n",
      "Prediction = 0\n",
      "int(Prediction) = 0 \n",
      "\n",
      "Overall Probability = -0.4928971045977578\n"
     ]
    },
    {
     "data": {
      "text/latex": [
       "$\\displaystyle \n",
       "$$ |\\psi\\rangle =\\begin{bmatrix}\n",
       "-0.69917 \\\\\n",
       "0.71495\\end{bmatrix} $"
      ],
      "text/plain": [
       "<IPython.core.display.Math object>"
      ]
     },
     "metadata": {},
     "output_type": "display_data"
    },
    {
     "name": "stdout",
     "output_type": "stream",
     "text": [
      "Salida counts = {'0': 1}\n",
      "Given the former angle theta and quantum state, the new prediction is:\n",
      "Prediction = 0\n",
      "int(Prediction) = 0 \n",
      "\n",
      "Overall Probability = 0.12610341233835337\n"
     ]
    },
    {
     "data": {
      "text/latex": [
       "$\\displaystyle \n",
       "$$ |\\psi\\rangle =\\begin{bmatrix}\n",
       "0.19679 \\\\\n",
       "0.98045\\end{bmatrix} $"
      ],
      "text/plain": [
       "<IPython.core.display.Math object>"
      ]
     },
     "metadata": {},
     "output_type": "display_data"
    },
    {
     "name": "stdout",
     "output_type": "stream",
     "text": [
      "Salida counts = {'1': 1}\n",
      "Given the former angle theta and quantum state, the new prediction is:\n",
      "Prediction = 1\n",
      "int(Prediction) = 1 \n",
      "\n",
      "Overall Probability = -0.8266200696990087\n"
     ]
    },
    {
     "data": {
      "text/latex": [
       "$\\displaystyle \n",
       "$$ |\\psi\\rangle =\\begin{bmatrix}\n",
       "-0.96314 \\\\\n",
       "0.26899\\end{bmatrix} $"
      ],
      "text/plain": [
       "<IPython.core.display.Math object>"
      ]
     },
     "metadata": {},
     "output_type": "display_data"
    },
    {
     "name": "stdout",
     "output_type": "stream",
     "text": [
      "Salida counts = {'0': 1}\n",
      "Given the former angle theta and quantum state, the new prediction is:\n",
      "Prediction = 0\n",
      "int(Prediction) = 0 \n",
      "\n",
      "Overall Probability = -0.5313372082617409\n"
     ]
    },
    {
     "data": {
      "text/latex": [
       "$\\displaystyle \n",
       "$$ |\\psi\\rangle =\\begin{bmatrix}\n",
       "-0.74104 \\\\\n",
       "0.67146\\end{bmatrix} $"
      ],
      "text/plain": [
       "<IPython.core.display.Math object>"
      ]
     },
     "metadata": {},
     "output_type": "display_data"
    },
    {
     "name": "stdout",
     "output_type": "stream",
     "text": [
      "Salida counts = {'1': 1}\n",
      "Given the former angle theta and quantum state, the new prediction is:\n",
      "Prediction = 1\n",
      "int(Prediction) = 1 \n",
      "\n",
      "Overall Probability = -1.0525781814540367\n"
     ]
    },
    {
     "data": {
      "text/latex": [
       "$\\displaystyle \n",
       "$$ |\\psi\\rangle =\\begin{bmatrix}\n",
       "-0.99659 \\\\\n",
       "-0.08250\\end{bmatrix} $"
      ],
      "text/plain": [
       "<IPython.core.display.Math object>"
      ]
     },
     "metadata": {},
     "output_type": "display_data"
    },
    {
     "name": "stdout",
     "output_type": "stream",
     "text": [
      "Salida counts = {'0': 1}\n",
      "Given the former angle theta and quantum state, the new prediction is:\n",
      "Prediction = 0\n",
      "int(Prediction) = 0 \n",
      "\n",
      "Overall Probability = -1.0464757617381184\n"
     ]
    },
    {
     "data": {
      "text/latex": [
       "$\\displaystyle \n",
       "$$ |\\psi\\rangle =\\begin{bmatrix}\n",
       "-0.99734 \\\\\n",
       "-0.07294\\end{bmatrix} $"
      ],
      "text/plain": [
       "<IPython.core.display.Math object>"
      ]
     },
     "metadata": {},
     "output_type": "display_data"
    },
    {
     "name": "stdout",
     "output_type": "stream",
     "text": [
      "Salida counts = {'0': 1}\n",
      "Given the former angle theta and quantum state, the new prediction is:\n",
      "Prediction = 0\n",
      "int(Prediction) = 0 \n",
      "\n",
      "Overall Probability = -0.8656394095057022\n"
     ]
    },
    {
     "data": {
      "text/latex": [
       "$\\displaystyle \n",
       "$$ |\\psi\\rangle =\\begin{bmatrix}\n",
       "-0.97781 \\\\\n",
       "0.20949\\end{bmatrix} $"
      ],
      "text/plain": [
       "<IPython.core.display.Math object>"
      ]
     },
     "metadata": {},
     "output_type": "display_data"
    },
    {
     "name": "stdout",
     "output_type": "stream",
     "text": [
      "Salida counts = {'0': 1}\n",
      "Given the former angle theta and quantum state, the new prediction is:\n",
      "Prediction = 0\n",
      "int(Prediction) = 0 \n",
      "\n",
      "Overall Probability = -0.35609851490381195\n"
     ]
    },
    {
     "data": {
      "text/latex": [
       "$\\displaystyle \n",
       "$$ |\\psi\\rangle =\\begin{bmatrix}\n",
       "-0.53064 \\\\\n",
       "0.84760\\end{bmatrix} $"
      ],
      "text/plain": [
       "<IPython.core.display.Math object>"
      ]
     },
     "metadata": {},
     "output_type": "display_data"
    },
    {
     "name": "stdout",
     "output_type": "stream",
     "text": [
      "Salida counts = {'0': 1}\n",
      "Given the former angle theta and quantum state, the new prediction is:\n",
      "Prediction = 0\n",
      "int(Prediction) = 0 \n",
      "\n",
      "Overall Probability = -0.4873052826994737\n"
     ]
    },
    {
     "data": {
      "text/latex": [
       "$\\displaystyle \n",
       "$$ |\\psi\\rangle =\\begin{bmatrix}\n",
       "-0.69287 \\\\\n",
       "0.72107\\end{bmatrix} $"
      ],
      "text/plain": [
       "<IPython.core.display.Math object>"
      ]
     },
     "metadata": {},
     "output_type": "display_data"
    },
    {
     "name": "stdout",
     "output_type": "stream",
     "text": [
      "Salida counts = {'1': 1}\n",
      "Given the former angle theta and quantum state, the new prediction is:\n",
      "Prediction = 1\n",
      "int(Prediction) = 1 \n",
      "\n",
      "Overall Probability = -1.005332602987532\n"
     ]
    },
    {
     "data": {
      "text/latex": [
       "$\\displaystyle \n",
       "$$ |\\psi\\rangle =\\begin{bmatrix}\n",
       "-0.99996 \\\\\n",
       "-0.00838\\end{bmatrix} $"
      ],
      "text/plain": [
       "<IPython.core.display.Math object>"
      ]
     },
     "metadata": {},
     "output_type": "display_data"
    },
    {
     "name": "stdout",
     "output_type": "stream",
     "text": [
      "Salida counts = {'0': 1}\n",
      "Given the former angle theta and quantum state, the new prediction is:\n",
      "Prediction = 0\n",
      "int(Prediction) = 0 \n",
      "\n",
      "Overall Probability = -0.14288779387444386\n"
     ]
    },
    {
     "data": {
      "text/latex": [
       "$\\displaystyle \n",
       "$$ |\\psi\\rangle =\\begin{bmatrix}\n",
       "-0.22257 \\\\\n",
       "0.97492\\end{bmatrix} $"
      ],
      "text/plain": [
       "<IPython.core.display.Math object>"
      ]
     },
     "metadata": {},
     "output_type": "display_data"
    },
    {
     "name": "stdout",
     "output_type": "stream",
     "text": [
      "Salida counts = {'1': 1}\n",
      "Given the former angle theta and quantum state, the new prediction is:\n",
      "Prediction = 1\n",
      "int(Prediction) = 1 \n",
      "\n",
      "Overall Probability = -0.8833786079487341\n"
     ]
    },
    {
     "data": {
      "text/latex": [
       "$\\displaystyle \n",
       "$$ |\\psi\\rangle =\\begin{bmatrix}\n",
       "-0.98327 \\\\\n",
       "0.18217\\end{bmatrix} $"
      ],
      "text/plain": [
       "<IPython.core.display.Math object>"
      ]
     },
     "metadata": {},
     "output_type": "display_data"
    },
    {
     "name": "stdout",
     "output_type": "stream",
     "text": [
      "Salida counts = {'0': 1}\n",
      "Given the former angle theta and quantum state, the new prediction is:\n",
      "Prediction = 0\n",
      "int(Prediction) = 0 \n",
      "\n",
      "Overall Probability = -1.0487963166162224\n"
     ]
    },
    {
     "data": {
      "text/latex": [
       "$\\displaystyle \n",
       "$$ |\\psi\\rangle =\\begin{bmatrix}\n",
       "-0.99706 \\\\\n",
       "-0.07657\\end{bmatrix} $"
      ],
      "text/plain": [
       "<IPython.core.display.Math object>"
      ]
     },
     "metadata": {},
     "output_type": "display_data"
    },
    {
     "name": "stdout",
     "output_type": "stream",
     "text": [
      "Salida counts = {'0': 1}\n",
      "Given the former angle theta and quantum state, the new prediction is:\n",
      "Prediction = 0\n",
      "int(Prediction) = 0 \n",
      "\n",
      "Overall Probability = -0.44162980667636964\n"
     ]
    },
    {
     "data": {
      "text/latex": [
       "$\\displaystyle \n",
       "$$ |\\psi\\rangle =\\begin{bmatrix}\n",
       "-0.63939 \\\\\n",
       "0.76888\\end{bmatrix} $"
      ],
      "text/plain": [
       "<IPython.core.display.Math object>"
      ]
     },
     "metadata": {},
     "output_type": "display_data"
    },
    {
     "name": "stdout",
     "output_type": "stream",
     "text": [
      "Salida counts = {'0': 1}\n",
      "Given the former angle theta and quantum state, the new prediction is:\n",
      "Prediction = 0\n",
      "int(Prediction) = 0 \n",
      "\n",
      "Overall Probability = -0.9598151743109983\n"
     ]
    },
    {
     "data": {
      "text/latex": [
       "$\\displaystyle \n",
       "$$ |\\psi\\rangle =\\begin{bmatrix}\n",
       "-0.99801 \\\\\n",
       "0.06308\\end{bmatrix} $"
      ],
      "text/plain": [
       "<IPython.core.display.Math object>"
      ]
     },
     "metadata": {},
     "output_type": "display_data"
    },
    {
     "name": "stdout",
     "output_type": "stream",
     "text": [
      "Salida counts = {'0': 1}\n",
      "Given the former angle theta and quantum state, the new prediction is:\n",
      "Prediction = 0\n",
      "int(Prediction) = 0 \n",
      "\n",
      "Overall Probability = -0.32025951881871734\n"
     ]
    },
    {
     "data": {
      "text/latex": [
       "$\\displaystyle \n",
       "$$ |\\psi\\rangle =\\begin{bmatrix}\n",
       "-0.48211 \\\\\n",
       "0.87611\\end{bmatrix} $"
      ],
      "text/plain": [
       "<IPython.core.display.Math object>"
      ]
     },
     "metadata": {},
     "output_type": "display_data"
    },
    {
     "name": "stdout",
     "output_type": "stream",
     "text": [
      "Salida counts = {'1': 1}\n",
      "Given the former angle theta and quantum state, the new prediction is:\n",
      "Prediction = 1\n",
      "int(Prediction) = 1 \n",
      "\n",
      "Overall Probability = 0.03879153349388167\n"
     ]
    },
    {
     "data": {
      "text/latex": [
       "$\\displaystyle \n",
       "$$ |\\psi\\rangle =\\begin{bmatrix}\n",
       "0.06090 \\\\\n",
       "0.99814\\end{bmatrix} $"
      ],
      "text/plain": [
       "<IPython.core.display.Math object>"
      ]
     },
     "metadata": {},
     "output_type": "display_data"
    },
    {
     "name": "stdout",
     "output_type": "stream",
     "text": [
      "Salida counts = {'1': 1}\n",
      "Given the former angle theta and quantum state, the new prediction is:\n",
      "Prediction = 1\n",
      "int(Prediction) = 1 \n",
      "\n",
      "Overall Probability = -1.0490685464321672\n"
     ]
    },
    {
     "data": {
      "text/latex": [
       "$\\displaystyle \n",
       "$$ |\\psi\\rangle =\\begin{bmatrix}\n",
       "-0.99703 \\\\\n",
       "-0.07700\\end{bmatrix} $"
      ],
      "text/plain": [
       "<IPython.core.display.Math object>"
      ]
     },
     "metadata": {},
     "output_type": "display_data"
    },
    {
     "name": "stdout",
     "output_type": "stream",
     "text": [
      "Salida counts = {'0': 1}\n",
      "Given the former angle theta and quantum state, the new prediction is:\n",
      "Prediction = 0\n",
      "int(Prediction) = 0 \n",
      "\n",
      "Overall Probability = -0.9603558063182286\n"
     ]
    },
    {
     "data": {
      "text/latex": [
       "$\\displaystyle \n",
       "$$ |\\psi\\rangle =\\begin{bmatrix}\n",
       "-0.99806 \\\\\n",
       "0.06223\\end{bmatrix} $"
      ],
      "text/plain": [
       "<IPython.core.display.Math object>"
      ]
     },
     "metadata": {},
     "output_type": "display_data"
    },
    {
     "name": "stdout",
     "output_type": "stream",
     "text": [
      "Salida counts = {'0': 1}\n",
      "Given the former angle theta and quantum state, the new prediction is:\n",
      "Prediction = 0\n",
      "int(Prediction) = 0 \n",
      "\n",
      "Overall Probability = -1.050544519545654\n"
     ]
    },
    {
     "data": {
      "text/latex": [
       "$\\displaystyle \n",
       "$$ |\\psi\\rangle =\\begin{bmatrix}\n",
       "-0.99685 \\\\\n",
       "-0.07931\\end{bmatrix} $"
      ],
      "text/plain": [
       "<IPython.core.display.Math object>"
      ]
     },
     "metadata": {},
     "output_type": "display_data"
    },
    {
     "name": "stdout",
     "output_type": "stream",
     "text": [
      "Salida counts = {'0': 1}\n",
      "Given the former angle theta and quantum state, the new prediction is:\n",
      "Prediction = 0\n",
      "int(Prediction) = 0 \n",
      "\n",
      "Overall Probability = -1.0525352558668304\n"
     ]
    },
    {
     "data": {
      "text/latex": [
       "$\\displaystyle \n",
       "$$ |\\psi\\rangle =\\begin{bmatrix}\n",
       "-0.99660 \\\\\n",
       "-0.08243\\end{bmatrix} $"
      ],
      "text/plain": [
       "<IPython.core.display.Math object>"
      ]
     },
     "metadata": {},
     "output_type": "display_data"
    },
    {
     "name": "stdout",
     "output_type": "stream",
     "text": [
      "Salida counts = {'0': 1}\n",
      "Given the former angle theta and quantum state, the new prediction is:\n",
      "Prediction = 0\n",
      "int(Prediction) = 0 \n",
      "\n",
      "Overall Probability = -0.6880640176081733\n"
     ]
    },
    {
     "data": {
      "text/latex": [
       "$\\displaystyle \n",
       "$$ |\\psi\\rangle =\\begin{bmatrix}\n",
       "-0.88234 \\\\\n",
       "0.47062\\end{bmatrix} $"
      ],
      "text/plain": [
       "<IPython.core.display.Math object>"
      ]
     },
     "metadata": {},
     "output_type": "display_data"
    },
    {
     "name": "stdout",
     "output_type": "stream",
     "text": [
      "Salida counts = {'1': 1}\n",
      "Given the former angle theta and quantum state, the new prediction is:\n",
      "Prediction = 1\n",
      "int(Prediction) = 1 \n",
      "\n",
      "Overall Probability = -0.3573591365164167\n"
     ]
    },
    {
     "data": {
      "text/latex": [
       "$\\displaystyle \n",
       "$$ |\\psi\\rangle =\\begin{bmatrix}\n",
       "-0.53232 \\\\\n",
       "0.84654\\end{bmatrix} $"
      ],
      "text/plain": [
       "<IPython.core.display.Math object>"
      ]
     },
     "metadata": {},
     "output_type": "display_data"
    },
    {
     "name": "stdout",
     "output_type": "stream",
     "text": [
      "Salida counts = {'1': 1}\n",
      "Given the former angle theta and quantum state, the new prediction is:\n",
      "Prediction = 1\n",
      "int(Prediction) = 1 \n",
      "\n",
      "Overall Probability = -1.0507352674886146\n"
     ]
    },
    {
     "data": {
      "text/latex": [
       "$\\displaystyle \n",
       "$$ |\\psi\\rangle =\\begin{bmatrix}\n",
       "-0.99683 \\\\\n",
       "-0.07961\\end{bmatrix} $"
      ],
      "text/plain": [
       "<IPython.core.display.Math object>"
      ]
     },
     "metadata": {},
     "output_type": "display_data"
    },
    {
     "name": "stdout",
     "output_type": "stream",
     "text": [
      "Salida counts = {'0': 1}\n",
      "Given the former angle theta and quantum state, the new prediction is:\n",
      "Prediction = 0\n",
      "int(Prediction) = 0 \n",
      "\n",
      "Overall Probability = -0.4365756207531192\n"
     ]
    },
    {
     "data": {
      "text/latex": [
       "$\\displaystyle \n",
       "$$ |\\psi\\rangle =\\begin{bmatrix}\n",
       "-0.63327 \\\\\n",
       "0.77393\\end{bmatrix} $"
      ],
      "text/plain": [
       "<IPython.core.display.Math object>"
      ]
     },
     "metadata": {},
     "output_type": "display_data"
    },
    {
     "name": "stdout",
     "output_type": "stream",
     "text": [
      "Salida counts = {'1': 1}\n",
      "Given the former angle theta and quantum state, the new prediction is:\n",
      "Prediction = 1\n",
      "int(Prediction) = 1 \n",
      "\n",
      "Overall Probability = -0.1097664226877734\n"
     ]
    },
    {
     "data": {
      "text/latex": [
       "$\\displaystyle \n",
       "$$ |\\psi\\rangle =\\begin{bmatrix}\n",
       "-0.17157 \\\\\n",
       "0.98517\\end{bmatrix} $"
      ],
      "text/plain": [
       "<IPython.core.display.Math object>"
      ]
     },
     "metadata": {},
     "output_type": "display_data"
    },
    {
     "name": "stdout",
     "output_type": "stream",
     "text": [
      "Salida counts = {'1': 1}\n",
      "Given the former angle theta and quantum state, the new prediction is:\n",
      "Prediction = 1\n",
      "int(Prediction) = 1 \n",
      "\n",
      "Overall Probability = -0.31050451610354035\n"
     ]
    },
    {
     "data": {
      "text/latex": [
       "$\\displaystyle \n",
       "$$ |\\psi\\rangle =\\begin{bmatrix}\n",
       "-0.46863 \\\\\n",
       "0.88339\\end{bmatrix} $"
      ],
      "text/plain": [
       "<IPython.core.display.Math object>"
      ]
     },
     "metadata": {},
     "output_type": "display_data"
    },
    {
     "name": "stdout",
     "output_type": "stream",
     "text": [
      "Salida counts = {'1': 1}\n",
      "Given the former angle theta and quantum state, the new prediction is:\n",
      "Prediction = 1\n",
      "int(Prediction) = 1 \n",
      "\n",
      "Overall Probability = -1.0223439832292764\n"
     ]
    },
    {
     "data": {
      "text/latex": [
       "$\\displaystyle \n",
       "$$ |\\psi\\rangle =\\begin{bmatrix}\n",
       "-0.99938 \\\\\n",
       "-0.03509\\end{bmatrix} $"
      ],
      "text/plain": [
       "<IPython.core.display.Math object>"
      ]
     },
     "metadata": {},
     "output_type": "display_data"
    },
    {
     "name": "stdout",
     "output_type": "stream",
     "text": [
      "Salida counts = {'0': 1}\n",
      "Given the former angle theta and quantum state, the new prediction is:\n",
      "Prediction = 0\n",
      "int(Prediction) = 0 \n",
      "\n",
      "Overall Probability = -0.4413594325543094\n"
     ]
    },
    {
     "data": {
      "text/latex": [
       "$\\displaystyle \n",
       "$$ |\\psi\\rangle =\\begin{bmatrix}\n",
       "-0.63907 \\\\\n",
       "0.76915\\end{bmatrix} $"
      ],
      "text/plain": [
       "<IPython.core.display.Math object>"
      ]
     },
     "metadata": {},
     "output_type": "display_data"
    },
    {
     "name": "stdout",
     "output_type": "stream",
     "text": [
      "Salida counts = {'0': 1}\n",
      "Given the former angle theta and quantum state, the new prediction is:\n",
      "Prediction = 0\n",
      "int(Prediction) = 0 \n",
      "\n",
      "Overall Probability = 0.29972384357373016\n"
     ]
    },
    {
     "data": {
      "text/latex": [
       "$\\displaystyle \n",
       "$$ |\\psi\\rangle =\\begin{bmatrix}\n",
       "0.45360 \\\\\n",
       "0.89120\\end{bmatrix} $"
      ],
      "text/plain": [
       "<IPython.core.display.Math object>"
      ]
     },
     "metadata": {},
     "output_type": "display_data"
    },
    {
     "name": "stdout",
     "output_type": "stream",
     "text": [
      "Salida counts = {'1': 1}\n",
      "Given the former angle theta and quantum state, the new prediction is:\n",
      "Prediction = 1\n",
      "int(Prediction) = 1 \n",
      "\n",
      "Overall Probability = -1.049401405608573\n"
     ]
    },
    {
     "data": {
      "text/latex": [
       "$\\displaystyle \n",
       "$$ |\\psi\\rangle =\\begin{bmatrix}\n",
       "-0.99699 \\\\\n",
       "-0.07752\\end{bmatrix} $"
      ],
      "text/plain": [
       "<IPython.core.display.Math object>"
      ]
     },
     "metadata": {},
     "output_type": "display_data"
    },
    {
     "name": "stdout",
     "output_type": "stream",
     "text": [
      "Salida counts = {'0': 1}\n",
      "Given the former angle theta and quantum state, the new prediction is:\n",
      "Prediction = 0\n",
      "int(Prediction) = 0 \n",
      "\n",
      "Overall Probability = -0.42535836975921865\n"
     ]
    },
    {
     "data": {
      "text/latex": [
       "$\\displaystyle \n",
       "$$ |\\psi\\rangle =\\begin{bmatrix}\n",
       "-0.61954 \\\\\n",
       "0.78497\\end{bmatrix} $"
      ],
      "text/plain": [
       "<IPython.core.display.Math object>"
      ]
     },
     "metadata": {},
     "output_type": "display_data"
    },
    {
     "name": "stdout",
     "output_type": "stream",
     "text": [
      "Salida counts = {'1': 1}\n",
      "Given the former angle theta and quantum state, the new prediction is:\n",
      "Prediction = 1\n",
      "int(Prediction) = 1 \n",
      "\n",
      "Overall Probability = 0.0030724712853299734\n"
     ]
    },
    {
     "data": {
      "text/latex": [
       "$\\displaystyle \n",
       "$$ |\\psi\\rangle =\\begin{bmatrix}\n",
       "0.00483 \\\\\n",
       "0.99999\\end{bmatrix} $"
      ],
      "text/plain": [
       "<IPython.core.display.Math object>"
      ]
     },
     "metadata": {},
     "output_type": "display_data"
    },
    {
     "name": "stdout",
     "output_type": "stream",
     "text": [
      "Salida counts = {'1': 1}\n",
      "Given the former angle theta and quantum state, the new prediction is:\n",
      "Prediction = 1\n",
      "int(Prediction) = 1 \n",
      "\n",
      "Overall Probability = -0.49836762318783845\n"
     ]
    },
    {
     "data": {
      "text/latex": [
       "$\\displaystyle \n",
       "$$ |\\psi\\rangle =\\begin{bmatrix}\n",
       "-0.70529 \\\\\n",
       "0.70892\\end{bmatrix} $"
      ],
      "text/plain": [
       "<IPython.core.display.Math object>"
      ]
     },
     "metadata": {},
     "output_type": "display_data"
    },
    {
     "name": "stdout",
     "output_type": "stream",
     "text": [
      "Salida counts = {'0': 1}\n",
      "Given the former angle theta and quantum state, the new prediction is:\n",
      "Prediction = 0\n",
      "int(Prediction) = 0 \n",
      "\n",
      "Overall Probability = -0.6001390449050419\n"
     ]
    },
    {
     "data": {
      "text/latex": [
       "$\\displaystyle \n",
       "$$ |\\psi\\rangle =\\begin{bmatrix}\n",
       "-0.80915 \\\\\n",
       "0.58761\\end{bmatrix} $"
      ],
      "text/plain": [
       "<IPython.core.display.Math object>"
      ]
     },
     "metadata": {},
     "output_type": "display_data"
    },
    {
     "name": "stdout",
     "output_type": "stream",
     "text": [
      "Salida counts = {'0': 1}\n",
      "Given the former angle theta and quantum state, the new prediction is:\n",
      "Prediction = 0\n",
      "int(Prediction) = 0 \n",
      "\n",
      "Overall Probability = -0.5319643703287745\n"
     ]
    },
    {
     "data": {
      "text/latex": [
       "$\\displaystyle \n",
       "$$ |\\psi\\rangle =\\begin{bmatrix}\n",
       "-0.74170 \\\\\n",
       "0.67073\\end{bmatrix} $"
      ],
      "text/plain": [
       "<IPython.core.display.Math object>"
      ]
     },
     "metadata": {},
     "output_type": "display_data"
    },
    {
     "name": "stdout",
     "output_type": "stream",
     "text": [
      "Salida counts = {'1': 1}\n",
      "Given the former angle theta and quantum state, the new prediction is:\n",
      "Prediction = 1\n",
      "int(Prediction) = 1 \n",
      "\n",
      "Overall Probability = 0.043141782636116656\n"
     ]
    },
    {
     "data": {
      "text/latex": [
       "$\\displaystyle \n",
       "$$ |\\psi\\rangle =\\begin{bmatrix}\n",
       "0.06772 \\\\\n",
       "0.99770\\end{bmatrix} $"
      ],
      "text/plain": [
       "<IPython.core.display.Math object>"
      ]
     },
     "metadata": {},
     "output_type": "display_data"
    },
    {
     "name": "stdout",
     "output_type": "stream",
     "text": [
      "Salida counts = {'1': 1}\n",
      "Given the former angle theta and quantum state, the new prediction is:\n",
      "Prediction = 1\n",
      "int(Prediction) = 1 \n",
      "\n",
      "Overall Probability = -1.0480472935221374\n"
     ]
    },
    {
     "data": {
      "text/latex": [
       "$\\displaystyle \n",
       "$$ |\\psi\\rangle =\\begin{bmatrix}\n",
       "-0.99715 \\\\\n",
       "-0.07540\\end{bmatrix} $"
      ],
      "text/plain": [
       "<IPython.core.display.Math object>"
      ]
     },
     "metadata": {},
     "output_type": "display_data"
    },
    {
     "name": "stdout",
     "output_type": "stream",
     "text": [
      "Salida counts = {'0': 1}\n",
      "Given the former angle theta and quantum state, the new prediction is:\n",
      "Prediction = 0\n",
      "int(Prediction) = 0 \n",
      "\n",
      "Overall Probability = -1.0467096199673371\n"
     ]
    },
    {
     "data": {
      "text/latex": [
       "$\\displaystyle \n",
       "$$ |\\psi\\rangle =\\begin{bmatrix}\n",
       "-0.99731 \\\\\n",
       "-0.07331\\end{bmatrix} $"
      ],
      "text/plain": [
       "<IPython.core.display.Math object>"
      ]
     },
     "metadata": {},
     "output_type": "display_data"
    },
    {
     "name": "stdout",
     "output_type": "stream",
     "text": [
      "Salida counts = {'0': 1}\n",
      "Given the former angle theta and quantum state, the new prediction is:\n",
      "Prediction = 0\n",
      "int(Prediction) = 0 \n",
      "\n",
      "Overall Probability = -0.5006968401411092\n"
     ]
    },
    {
     "data": {
      "text/latex": [
       "$\\displaystyle \n",
       "$$ |\\psi\\rangle =\\begin{bmatrix}\n",
       "-0.70788 \\\\\n",
       "0.70633\\end{bmatrix} $"
      ],
      "text/plain": [
       "<IPython.core.display.Math object>"
      ]
     },
     "metadata": {},
     "output_type": "display_data"
    },
    {
     "name": "stdout",
     "output_type": "stream",
     "text": [
      "Salida counts = {'0': 1}\n",
      "Given the former angle theta and quantum state, the new prediction is:\n",
      "Prediction = 0\n",
      "int(Prediction) = 0 \n",
      "\n",
      "Overall Probability = -0.4891365701496331\n"
     ]
    },
    {
     "data": {
      "text/latex": [
       "$\\displaystyle \n",
       "$$ |\\psi\\rangle =\\begin{bmatrix}\n",
       "-0.69494 \\\\\n",
       "0.71907\\end{bmatrix} $"
      ],
      "text/plain": [
       "<IPython.core.display.Math object>"
      ]
     },
     "metadata": {},
     "output_type": "display_data"
    },
    {
     "name": "stdout",
     "output_type": "stream",
     "text": [
      "Salida counts = {'1': 1}\n",
      "Given the former angle theta and quantum state, the new prediction is:\n",
      "Prediction = 1\n",
      "int(Prediction) = 1 \n",
      "\n",
      "Overall Probability = -1.0581322664229755\n"
     ]
    },
    {
     "data": {
      "text/latex": [
       "$\\displaystyle \n",
       "$$ |\\psi\\rangle =\\begin{bmatrix}\n",
       "-0.99583 \\\\\n",
       "-0.09119\\end{bmatrix} $"
      ],
      "text/plain": [
       "<IPython.core.display.Math object>"
      ]
     },
     "metadata": {},
     "output_type": "display_data"
    },
    {
     "name": "stdout",
     "output_type": "stream",
     "text": [
      "Salida counts = {'0': 1}\n",
      "Given the former angle theta and quantum state, the new prediction is:\n",
      "Prediction = 0\n",
      "int(Prediction) = 0 \n",
      "\n",
      "Overall Probability = -0.8833514420077724\n"
     ]
    },
    {
     "data": {
      "text/latex": [
       "$\\displaystyle \n",
       "$$ |\\psi\\rangle =\\begin{bmatrix}\n",
       "-0.98326 \\\\\n",
       "0.18221\\end{bmatrix} $"
      ],
      "text/plain": [
       "<IPython.core.display.Math object>"
      ]
     },
     "metadata": {},
     "output_type": "display_data"
    },
    {
     "name": "stdout",
     "output_type": "stream",
     "text": [
      "Salida counts = {'0': 1}\n",
      "Given the former angle theta and quantum state, the new prediction is:\n",
      "Prediction = 0\n",
      "int(Prediction) = 0 \n",
      "\n",
      "Overall Probability = -1.051317559841432\n"
     ]
    },
    {
     "data": {
      "text/latex": [
       "$\\displaystyle \n",
       "$$ |\\psi\\rangle =\\begin{bmatrix}\n",
       "-0.99675 \\\\\n",
       "-0.08052\\end{bmatrix} $"
      ],
      "text/plain": [
       "<IPython.core.display.Math object>"
      ]
     },
     "metadata": {},
     "output_type": "display_data"
    },
    {
     "name": "stdout",
     "output_type": "stream",
     "text": [
      "Salida counts = {'0': 1}\n",
      "Given the former angle theta and quantum state, the new prediction is:\n",
      "Prediction = 0\n",
      "int(Prediction) = 0 \n",
      "\n",
      "Overall Probability = -0.8754997228699544\n"
     ]
    },
    {
     "data": {
      "text/latex": [
       "$\\displaystyle \n",
       "$$ |\\psi\\rangle =\\begin{bmatrix}\n",
       "-0.98094 \\\\\n",
       "0.19432\\end{bmatrix} $"
      ],
      "text/plain": [
       "<IPython.core.display.Math object>"
      ]
     },
     "metadata": {},
     "output_type": "display_data"
    },
    {
     "name": "stdout",
     "output_type": "stream",
     "text": [
      "Salida counts = {'0': 1}\n",
      "Given the former angle theta and quantum state, the new prediction is:\n",
      "Prediction = 0\n",
      "int(Prediction) = 0 \n",
      "\n",
      "Overall Probability = -1.0530897799725565\n"
     ]
    },
    {
     "data": {
      "text/latex": [
       "$\\displaystyle \n",
       "$$ |\\psi\\rangle =\\begin{bmatrix}\n",
       "-0.99652 \\\\\n",
       "-0.08330\\end{bmatrix} $"
      ],
      "text/plain": [
       "<IPython.core.display.Math object>"
      ]
     },
     "metadata": {},
     "output_type": "display_data"
    },
    {
     "name": "stdout",
     "output_type": "stream",
     "text": [
      "Salida counts = {'0': 1}\n",
      "Given the former angle theta and quantum state, the new prediction is:\n",
      "Prediction = 0\n",
      "int(Prediction) = 0 \n",
      "\n",
      "Overall Probability = -0.289360006138317\n"
     ]
    },
    {
     "data": {
      "text/latex": [
       "$\\displaystyle \n",
       "$$ |\\psi\\rangle =\\begin{bmatrix}\n",
       "-0.43904 \\\\\n",
       "0.89847\\end{bmatrix} $"
      ],
      "text/plain": [
       "<IPython.core.display.Math object>"
      ]
     },
     "metadata": {},
     "output_type": "display_data"
    },
    {
     "name": "stdout",
     "output_type": "stream",
     "text": [
      "Salida counts = {'0': 1}\n",
      "Given the former angle theta and quantum state, the new prediction is:\n",
      "Prediction = 0\n",
      "int(Prediction) = 0 \n",
      "\n",
      "Overall Probability = -0.4758994296076414\n"
     ]
    },
    {
     "data": {
      "text/latex": [
       "$\\displaystyle \n",
       "$$ |\\psi\\rangle =\\begin{bmatrix}\n",
       "-0.67984 \\\\\n",
       "0.73336\\end{bmatrix} $"
      ],
      "text/plain": [
       "<IPython.core.display.Math object>"
      ]
     },
     "metadata": {},
     "output_type": "display_data"
    },
    {
     "name": "stdout",
     "output_type": "stream",
     "text": [
      "Salida counts = {'1': 1}\n",
      "Given the former angle theta and quantum state, the new prediction is:\n",
      "Prediction = 1\n",
      "int(Prediction) = 1 \n",
      "\n",
      "Overall Probability = -0.3332667445936695\n"
     ]
    },
    {
     "data": {
      "text/latex": [
       "$\\displaystyle \n",
       "$$ |\\psi\\rangle =\\begin{bmatrix}\n",
       "-0.49991 \\\\\n",
       "0.86608\\end{bmatrix} $"
      ],
      "text/plain": [
       "<IPython.core.display.Math object>"
      ]
     },
     "metadata": {},
     "output_type": "display_data"
    },
    {
     "name": "stdout",
     "output_type": "stream",
     "text": [
      "Salida counts = {'1': 1}\n",
      "Given the former angle theta and quantum state, the new prediction is:\n",
      "Prediction = 1\n",
      "int(Prediction) = 1 \n",
      "\n",
      "Overall Probability = -0.874869412063652\n"
     ]
    },
    {
     "data": {
      "text/latex": [
       "$\\displaystyle \n",
       "$$ |\\psi\\rangle =\\begin{bmatrix}\n",
       "-0.98075 \\\\\n",
       "0.19529\\end{bmatrix} $"
      ],
      "text/plain": [
       "<IPython.core.display.Math object>"
      ]
     },
     "metadata": {},
     "output_type": "display_data"
    },
    {
     "name": "stdout",
     "output_type": "stream",
     "text": [
      "Salida counts = {'0': 1}\n",
      "Given the former angle theta and quantum state, the new prediction is:\n",
      "Prediction = 0\n",
      "int(Prediction) = 0 \n",
      "\n",
      "Overall Probability = -1.0483062494956166\n"
     ]
    },
    {
     "data": {
      "text/latex": [
       "$\\displaystyle \n",
       "$$ |\\psi\\rangle =\\begin{bmatrix}\n",
       "-0.99712 \\\\\n",
       "-0.07581\\end{bmatrix} $"
      ],
      "text/plain": [
       "<IPython.core.display.Math object>"
      ]
     },
     "metadata": {},
     "output_type": "display_data"
    },
    {
     "name": "stdout",
     "output_type": "stream",
     "text": [
      "Salida counts = {'0': 1}\n",
      "Given the former angle theta and quantum state, the new prediction is:\n",
      "Prediction = 0\n",
      "int(Prediction) = 0 \n",
      "\n",
      "Overall Probability = -1.0482291816035203\n"
     ]
    },
    {
     "data": {
      "text/latex": [
       "$\\displaystyle \n",
       "$$ |\\psi\\rangle =\\begin{bmatrix}\n",
       "-0.99713 \\\\\n",
       "-0.07569\\end{bmatrix} $"
      ],
      "text/plain": [
       "<IPython.core.display.Math object>"
      ]
     },
     "metadata": {},
     "output_type": "display_data"
    },
    {
     "name": "stdout",
     "output_type": "stream",
     "text": [
      "Salida counts = {'0': 1}\n",
      "Given the former angle theta and quantum state, the new prediction is:\n",
      "Prediction = 0\n",
      "int(Prediction) = 0 \n",
      "\n",
      "Overall Probability = -0.33190407686484125\n"
     ]
    },
    {
     "data": {
      "text/latex": [
       "$\\displaystyle \n",
       "$$ |\\psi\\rangle =\\begin{bmatrix}\n",
       "-0.49805 \\\\\n",
       "0.86715\\end{bmatrix} $"
      ],
      "text/plain": [
       "<IPython.core.display.Math object>"
      ]
     },
     "metadata": {},
     "output_type": "display_data"
    },
    {
     "name": "stdout",
     "output_type": "stream",
     "text": [
      "Salida counts = {'1': 1}\n",
      "Given the former angle theta and quantum state, the new prediction is:\n",
      "Prediction = 1\n",
      "int(Prediction) = 1 \n",
      "\n",
      "Overall Probability = -0.30045652614354174\n"
     ]
    },
    {
     "data": {
      "text/latex": [
       "$\\displaystyle \n",
       "$$ |\\psi\\rangle =\\begin{bmatrix}\n",
       "-0.45463 \\\\\n",
       "0.89068\\end{bmatrix} $"
      ],
      "text/plain": [
       "<IPython.core.display.Math object>"
      ]
     },
     "metadata": {},
     "output_type": "display_data"
    },
    {
     "name": "stdout",
     "output_type": "stream",
     "text": [
      "Salida counts = {'1': 1}\n",
      "Given the former angle theta and quantum state, the new prediction is:\n",
      "Prediction = 1\n",
      "int(Prediction) = 1 \n",
      "\n",
      "Overall Probability = -0.8777058106920127\n"
     ]
    },
    {
     "data": {
      "text/latex": [
       "$\\displaystyle \n",
       "$$ |\\psi\\rangle =\\begin{bmatrix}\n",
       "-0.98161 \\\\\n",
       "0.19092\\end{bmatrix} $"
      ],
      "text/plain": [
       "<IPython.core.display.Math object>"
      ]
     },
     "metadata": {},
     "output_type": "display_data"
    },
    {
     "name": "stdout",
     "output_type": "stream",
     "text": [
      "Salida counts = {'0': 1}\n",
      "Given the former angle theta and quantum state, the new prediction is:\n",
      "Prediction = 0\n",
      "int(Prediction) = 0 \n",
      "\n",
      "Overall Probability = -0.867617906010031\n"
     ]
    },
    {
     "data": {
      "text/latex": [
       "$\\displaystyle \n",
       "$$ |\\psi\\rangle =\\begin{bmatrix}\n",
       "-0.97846 \\\\\n",
       "0.20645\\end{bmatrix} $"
      ],
      "text/plain": [
       "<IPython.core.display.Math object>"
      ]
     },
     "metadata": {},
     "output_type": "display_data"
    },
    {
     "name": "stdout",
     "output_type": "stream",
     "text": [
      "Salida counts = {'0': 1}\n",
      "Given the former angle theta and quantum state, the new prediction is:\n",
      "Prediction = 0\n",
      "int(Prediction) = 0 \n",
      "\n",
      "Overall Probability = -1.0223439832292764\n"
     ]
    },
    {
     "data": {
      "text/latex": [
       "$\\displaystyle \n",
       "$$ |\\psi\\rangle =\\begin{bmatrix}\n",
       "-0.99938 \\\\\n",
       "-0.03509\\end{bmatrix} $"
      ],
      "text/plain": [
       "<IPython.core.display.Math object>"
      ]
     },
     "metadata": {},
     "output_type": "display_data"
    },
    {
     "name": "stdout",
     "output_type": "stream",
     "text": [
      "Salida counts = {'0': 1}\n",
      "Given the former angle theta and quantum state, the new prediction is:\n",
      "Prediction = 0\n",
      "int(Prediction) = 0 \n",
      "\n",
      "Overall Probability = -0.8130382300386425\n"
     ]
    },
    {
     "data": {
      "text/latex": [
       "$\\displaystyle \n",
       "$$ |\\psi\\rangle =\\begin{bmatrix}\n",
       "-0.95719 \\\\\n",
       "0.28948\\end{bmatrix} $"
      ],
      "text/plain": [
       "<IPython.core.display.Math object>"
      ]
     },
     "metadata": {},
     "output_type": "display_data"
    },
    {
     "name": "stdout",
     "output_type": "stream",
     "text": [
      "Salida counts = {'0': 1}\n",
      "Given the former angle theta and quantum state, the new prediction is:\n",
      "Prediction = 0\n",
      "int(Prediction) = 0 \n",
      "\n",
      "Overall Probability = -1.0525529596400849\n"
     ]
    },
    {
     "data": {
      "text/latex": [
       "$\\displaystyle \n",
       "$$ |\\psi\\rangle =\\begin{bmatrix}\n",
       "-0.99659 \\\\\n",
       "-0.08246\\end{bmatrix} $"
      ],
      "text/plain": [
       "<IPython.core.display.Math object>"
      ]
     },
     "metadata": {},
     "output_type": "display_data"
    },
    {
     "name": "stdout",
     "output_type": "stream",
     "text": [
      "Salida counts = {'0': 1}\n",
      "Given the former angle theta and quantum state, the new prediction is:\n",
      "Prediction = 0\n",
      "int(Prediction) = 0 \n",
      "\n",
      "Overall Probability = -0.4112432320001547\n"
     ]
    },
    {
     "data": {
      "text/latex": [
       "$\\displaystyle \n",
       "$$ |\\psi\\rangle =\\begin{bmatrix}\n",
       "-0.60198 \\\\\n",
       "0.79851\\end{bmatrix} $"
      ],
      "text/plain": [
       "<IPython.core.display.Math object>"
      ]
     },
     "metadata": {},
     "output_type": "display_data"
    },
    {
     "name": "stdout",
     "output_type": "stream",
     "text": [
      "Salida counts = {'1': 1}\n",
      "Given the former angle theta and quantum state, the new prediction is:\n",
      "Prediction = 1\n",
      "int(Prediction) = 1 \n",
      "\n",
      "Overall Probability = -1.0473607832861629\n"
     ]
    },
    {
     "data": {
      "text/latex": [
       "$\\displaystyle \n",
       "$$ |\\psi\\rangle =\\begin{bmatrix}\n",
       "-0.99723 \\\\\n",
       "-0.07433\\end{bmatrix} $"
      ],
      "text/plain": [
       "<IPython.core.display.Math object>"
      ]
     },
     "metadata": {},
     "output_type": "display_data"
    },
    {
     "name": "stdout",
     "output_type": "stream",
     "text": [
      "Salida counts = {'0': 1}\n",
      "Given the former angle theta and quantum state, the new prediction is:\n",
      "Prediction = 0\n",
      "int(Prediction) = 0 \n",
      "\n",
      "Overall Probability = -1.0658627268398717\n"
     ]
    },
    {
     "data": {
      "text/latex": [
       "$\\displaystyle \n",
       "$$ |\\psi\\rangle =\\begin{bmatrix}\n",
       "-0.99465 \\\\\n",
       "-0.10327\\end{bmatrix} $"
      ],
      "text/plain": [
       "<IPython.core.display.Math object>"
      ]
     },
     "metadata": {},
     "output_type": "display_data"
    },
    {
     "name": "stdout",
     "output_type": "stream",
     "text": [
      "Salida counts = {'0': 1}\n",
      "Given the former angle theta and quantum state, the new prediction is:\n",
      "Prediction = 0\n",
      "int(Prediction) = 0 \n",
      "\n",
      "Overall Probability = -0.8842142095188468\n"
     ]
    },
    {
     "data": {
      "text/latex": [
       "$\\displaystyle \n",
       "$$ |\\psi\\rangle =\\begin{bmatrix}\n",
       "-0.98351 \\\\\n",
       "0.18087\\end{bmatrix} $"
      ],
      "text/plain": [
       "<IPython.core.display.Math object>"
      ]
     },
     "metadata": {},
     "output_type": "display_data"
    },
    {
     "name": "stdout",
     "output_type": "stream",
     "text": [
      "Salida counts = {'0': 1}\n",
      "Given the former angle theta and quantum state, the new prediction is:\n",
      "Prediction = 0\n",
      "int(Prediction) = 0 \n",
      "\n",
      "Overall Probability = -0.8805902437237592\n"
     ]
    },
    {
     "data": {
      "text/latex": [
       "$\\displaystyle \n",
       "$$ |\\psi\\rangle =\\begin{bmatrix}\n",
       "-0.98246 \\\\\n",
       "0.18647\\end{bmatrix} $"
      ],
      "text/plain": [
       "<IPython.core.display.Math object>"
      ]
     },
     "metadata": {},
     "output_type": "display_data"
    },
    {
     "name": "stdout",
     "output_type": "stream",
     "text": [
      "Salida counts = {'0': 1}\n",
      "Given the former angle theta and quantum state, the new prediction is:\n",
      "Prediction = 0\n",
      "int(Prediction) = 0 \n",
      "\n",
      "Overall Probability = -0.36241363156768214\n"
     ]
    },
    {
     "data": {
      "text/latex": [
       "$\\displaystyle \n",
       "$$ |\\psi\\rangle =\\begin{bmatrix}\n",
       "-0.53902 \\\\\n",
       "0.84229\\end{bmatrix} $"
      ],
      "text/plain": [
       "<IPython.core.display.Math object>"
      ]
     },
     "metadata": {},
     "output_type": "display_data"
    },
    {
     "name": "stdout",
     "output_type": "stream",
     "text": [
      "Salida counts = {'0': 1}\n",
      "Given the former angle theta and quantum state, the new prediction is:\n",
      "Prediction = 0\n",
      "int(Prediction) = 0 \n",
      "\n",
      "Overall Probability = -0.30243755108136094\n"
     ]
    },
    {
     "data": {
      "text/latex": [
       "$\\displaystyle \n",
       "$$ |\\psi\\rangle =\\begin{bmatrix}\n",
       "-0.45740 \\\\\n",
       "0.88926\\end{bmatrix} $"
      ],
      "text/plain": [
       "<IPython.core.display.Math object>"
      ]
     },
     "metadata": {},
     "output_type": "display_data"
    },
    {
     "name": "stdout",
     "output_type": "stream",
     "text": [
      "Salida counts = {'1': 1}\n",
      "Given the former angle theta and quantum state, the new prediction is:\n",
      "Prediction = 1\n",
      "int(Prediction) = 1 \n",
      "\n",
      "Overall Probability = -1.0586007542959652\n"
     ]
    },
    {
     "data": {
      "text/latex": [
       "$\\displaystyle \n",
       "$$ |\\psi\\rangle =\\begin{bmatrix}\n",
       "-0.99577 \\\\\n",
       "-0.09192\\end{bmatrix} $"
      ],
      "text/plain": [
       "<IPython.core.display.Math object>"
      ]
     },
     "metadata": {},
     "output_type": "display_data"
    },
    {
     "name": "stdout",
     "output_type": "stream",
     "text": [
      "Salida counts = {'0': 1}\n",
      "Given the former angle theta and quantum state, the new prediction is:\n",
      "Prediction = 0\n",
      "int(Prediction) = 0 \n",
      "\n",
      "Overall Probability = -1.0491468795658827\n"
     ]
    },
    {
     "data": {
      "text/latex": [
       "$\\displaystyle \n",
       "$$ |\\psi\\rangle =\\begin{bmatrix}\n",
       "-0.99702 \\\\\n",
       "-0.07712\\end{bmatrix} $"
      ],
      "text/plain": [
       "<IPython.core.display.Math object>"
      ]
     },
     "metadata": {},
     "output_type": "display_data"
    },
    {
     "name": "stdout",
     "output_type": "stream",
     "text": [
      "Salida counts = {'0': 1}\n",
      "Given the former angle theta and quantum state, the new prediction is:\n",
      "Prediction = 0\n",
      "int(Prediction) = 0 \n",
      "\n",
      "Overall Probability = -0.09884918575117985\n"
     ]
    },
    {
     "data": {
      "text/latex": [
       "$\\displaystyle \n",
       "$$ |\\psi\\rangle =\\begin{bmatrix}\n",
       "-0.15465 \\\\\n",
       "0.98797\\end{bmatrix} $"
      ],
      "text/plain": [
       "<IPython.core.display.Math object>"
      ]
     },
     "metadata": {},
     "output_type": "display_data"
    },
    {
     "name": "stdout",
     "output_type": "stream",
     "text": [
      "Salida counts = {'1': 1}\n",
      "Given the former angle theta and quantum state, the new prediction is:\n",
      "Prediction = 1\n",
      "int(Prediction) = 1 \n",
      "\n",
      "Overall Probability = -0.6133263604750392\n"
     ]
    },
    {
     "data": {
      "text/latex": [
       "$\\displaystyle \n",
       "$$ |\\psi\\rangle =\\begin{bmatrix}\n",
       "-0.82114 \\\\\n",
       "0.57072\\end{bmatrix} $"
      ],
      "text/plain": [
       "<IPython.core.display.Math object>"
      ]
     },
     "metadata": {},
     "output_type": "display_data"
    },
    {
     "name": "stdout",
     "output_type": "stream",
     "text": [
      "Salida counts = {'1': 1}\n",
      "Given the former angle theta and quantum state, the new prediction is:\n",
      "Prediction = 1\n",
      "int(Prediction) = 1 \n",
      "\n",
      "Overall Probability = -0.6997881117082468\n"
     ]
    },
    {
     "data": {
      "text/latex": [
       "$\\displaystyle \n",
       "$$ |\\psi\\rangle =\\begin{bmatrix}\n",
       "-0.89086 \\\\\n",
       "0.45429\\end{bmatrix} $"
      ],
      "text/plain": [
       "<IPython.core.display.Math object>"
      ]
     },
     "metadata": {},
     "output_type": "display_data"
    },
    {
     "name": "stdout",
     "output_type": "stream",
     "text": [
      "Salida counts = {'0': 1}\n",
      "Given the former angle theta and quantum state, the new prediction is:\n",
      "Prediction = 0\n",
      "int(Prediction) = 0 \n",
      "\n",
      "Overall Probability = -1.055926178600917\n"
     ]
    },
    {
     "data": {
      "text/latex": [
       "$\\displaystyle \n",
       "$$ |\\psi\\rangle =\\begin{bmatrix}\n",
       "-0.99614 \\\\\n",
       "-0.08774\\end{bmatrix} $"
      ],
      "text/plain": [
       "<IPython.core.display.Math object>"
      ]
     },
     "metadata": {},
     "output_type": "display_data"
    },
    {
     "name": "stdout",
     "output_type": "stream",
     "text": [
      "Salida counts = {'0': 1}\n",
      "Given the former angle theta and quantum state, the new prediction is:\n",
      "Prediction = 0\n",
      "int(Prediction) = 0 \n",
      "\n",
      "Overall Probability = 0.10230059365440569\n"
     ]
    },
    {
     "data": {
      "text/latex": [
       "$\\displaystyle \n",
       "$$ |\\psi\\rangle =\\begin{bmatrix}\n",
       "0.16000 \\\\\n",
       "0.98712\\end{bmatrix} $"
      ],
      "text/plain": [
       "<IPython.core.display.Math object>"
      ]
     },
     "metadata": {},
     "output_type": "display_data"
    },
    {
     "name": "stdout",
     "output_type": "stream",
     "text": [
      "Salida counts = {'1': 1}\n",
      "Given the former angle theta and quantum state, the new prediction is:\n",
      "Prediction = 1\n",
      "int(Prediction) = 1 \n",
      "\n",
      "Overall Probability = -0.5106853302497906\n"
     ]
    },
    {
     "data": {
      "text/latex": [
       "$\\displaystyle \n",
       "$$ |\\psi\\rangle =\\begin{bmatrix}\n",
       "-0.71888 \\\\\n",
       "0.69514\\end{bmatrix} $"
      ],
      "text/plain": [
       "<IPython.core.display.Math object>"
      ]
     },
     "metadata": {},
     "output_type": "display_data"
    },
    {
     "name": "stdout",
     "output_type": "stream",
     "text": [
      "Salida counts = {'1': 1}\n",
      "Given the former angle theta and quantum state, the new prediction is:\n",
      "Prediction = 1\n",
      "int(Prediction) = 1 \n",
      "\n",
      "Overall Probability = -0.8588245613747777\n"
     ]
    },
    {
     "data": {
      "text/latex": [
       "$\\displaystyle \n",
       "$$ |\\psi\\rangle =\\begin{bmatrix}\n",
       "-0.97551 \\\\\n",
       "0.21994\\end{bmatrix} $"
      ],
      "text/plain": [
       "<IPython.core.display.Math object>"
      ]
     },
     "metadata": {},
     "output_type": "display_data"
    },
    {
     "name": "stdout",
     "output_type": "stream",
     "text": [
      "Salida counts = {'0': 1}\n",
      "Given the former angle theta and quantum state, the new prediction is:\n",
      "Prediction = 0\n",
      "int(Prediction) = 0 \n",
      "\n",
      "Overall Probability = -0.37427269549205827\n"
     ]
    },
    {
     "data": {
      "text/latex": [
       "$\\displaystyle \n",
       "$$ |\\psi\\rangle =\\begin{bmatrix}\n",
       "-0.55462 \\\\\n",
       "0.83210\\end{bmatrix} $"
      ],
      "text/plain": [
       "<IPython.core.display.Math object>"
      ]
     },
     "metadata": {},
     "output_type": "display_data"
    },
    {
     "name": "stdout",
     "output_type": "stream",
     "text": [
      "Salida counts = {'1': 1}\n",
      "Given the former angle theta and quantum state, the new prediction is:\n",
      "Prediction = 1\n",
      "int(Prediction) = 1 \n",
      "\n",
      "Overall Probability = -1.048753391029016\n"
     ]
    },
    {
     "data": {
      "text/latex": [
       "$\\displaystyle \n",
       "$$ |\\psi\\rangle =\\begin{bmatrix}\n",
       "-0.99707 \\\\\n",
       "-0.07651\\end{bmatrix} $"
      ],
      "text/plain": [
       "<IPython.core.display.Math object>"
      ]
     },
     "metadata": {},
     "output_type": "display_data"
    },
    {
     "name": "stdout",
     "output_type": "stream",
     "text": [
      "Salida counts = {'0': 1}\n",
      "Given the former angle theta and quantum state, the new prediction is:\n",
      "Prediction = 0\n",
      "int(Prediction) = 0 \n",
      "\n",
      "Overall Probability = -0.14563571545344964\n"
     ]
    },
    {
     "data": {
      "text/latex": [
       "$\\displaystyle \n",
       "$$ |\\psi\\rangle =\\begin{bmatrix}\n",
       "-0.22677 \\\\\n",
       "0.97395\\end{bmatrix} $"
      ],
      "text/plain": [
       "<IPython.core.display.Math object>"
      ]
     },
     "metadata": {},
     "output_type": "display_data"
    },
    {
     "name": "stdout",
     "output_type": "stream",
     "text": [
      "Salida counts = {'1': 1}\n",
      "Given the former angle theta and quantum state, the new prediction is:\n",
      "Prediction = 1\n",
      "int(Prediction) = 1 \n",
      "\n",
      "Overall Probability = -0.8149852962469604\n"
     ]
    },
    {
     "data": {
      "text/latex": [
       "$\\displaystyle \n",
       "$$ |\\psi\\rangle =\\begin{bmatrix}\n",
       "-0.95807 \\\\\n",
       "0.28655\\end{bmatrix} $"
      ],
      "text/plain": [
       "<IPython.core.display.Math object>"
      ]
     },
     "metadata": {},
     "output_type": "display_data"
    },
    {
     "name": "stdout",
     "output_type": "stream",
     "text": [
      "Salida counts = {'0': 1}\n",
      "Given the former angle theta and quantum state, the new prediction is:\n",
      "Prediction = 0\n",
      "int(Prediction) = 0 \n",
      "\n",
      "Overall Probability = -0.8680478563104271\n"
     ]
    },
    {
     "data": {
      "text/latex": [
       "$\\displaystyle \n",
       "$$ |\\psi\\rangle =\\begin{bmatrix}\n",
       "-0.97860 \\\\\n",
       "0.20579\\end{bmatrix} $"
      ],
      "text/plain": [
       "<IPython.core.display.Math object>"
      ]
     },
     "metadata": {},
     "output_type": "display_data"
    },
    {
     "name": "stdout",
     "output_type": "stream",
     "text": [
      "Salida counts = {'0': 1}\n",
      "Given the former angle theta and quantum state, the new prediction is:\n",
      "Prediction = 0\n",
      "int(Prediction) = 0 \n",
      "\n",
      "Overall Probability = -1.0503197218269655\n"
     ]
    },
    {
     "data": {
      "text/latex": [
       "$\\displaystyle \n",
       "$$ |\\psi\\rangle =\\begin{bmatrix}\n",
       "-0.99688 \\\\\n",
       "-0.07896\\end{bmatrix} $"
      ],
      "text/plain": [
       "<IPython.core.display.Math object>"
      ]
     },
     "metadata": {},
     "output_type": "display_data"
    },
    {
     "name": "stdout",
     "output_type": "stream",
     "text": [
      "Salida counts = {'0': 1}\n",
      "Given the former angle theta and quantum state, the new prediction is:\n",
      "Prediction = 0\n",
      "int(Prediction) = 0 \n",
      "\n",
      "Overall Probability = -0.8742391012573496\n"
     ]
    },
    {
     "data": {
      "text/latex": [
       "$\\displaystyle \n",
       "$$ |\\psi\\rangle =\\begin{bmatrix}\n",
       "-0.98055 \\\\\n",
       "0.19626\\end{bmatrix} $"
      ],
      "text/plain": [
       "<IPython.core.display.Math object>"
      ]
     },
     "metadata": {},
     "output_type": "display_data"
    },
    {
     "name": "stdout",
     "output_type": "stream",
     "text": [
      "Salida counts = {'0': 1}\n",
      "Given the former angle theta and quantum state, the new prediction is:\n",
      "Prediction = 0\n",
      "int(Prediction) = 0 \n",
      "\n",
      "Overall Probability = -0.8744942136562686\n"
     ]
    },
    {
     "data": {
      "text/latex": [
       "$\\displaystyle \n",
       "$$ |\\psi\\rangle =\\begin{bmatrix}\n",
       "-0.98063 \\\\\n",
       "0.19587\\end{bmatrix} $"
      ],
      "text/plain": [
       "<IPython.core.display.Math object>"
      ]
     },
     "metadata": {},
     "output_type": "display_data"
    },
    {
     "name": "stdout",
     "output_type": "stream",
     "text": [
      "Salida counts = {'0': 1}\n",
      "Given the former angle theta and quantum state, the new prediction is:\n",
      "Prediction = 0\n",
      "int(Prediction) = 0 \n",
      "\n",
      "Overall Probability = -1.032546444274652\n"
     ]
    },
    {
     "data": {
      "text/latex": [
       "$\\displaystyle \n",
       "$$ |\\psi\\rangle =\\begin{bmatrix}\n",
       "-0.99869 \\\\\n",
       "-0.05110\\end{bmatrix} $"
      ],
      "text/plain": [
       "<IPython.core.display.Math object>"
      ]
     },
     "metadata": {},
     "output_type": "display_data"
    },
    {
     "name": "stdout",
     "output_type": "stream",
     "text": [
      "Salida counts = {'0': 1}\n",
      "Given the former angle theta and quantum state, the new prediction is:\n",
      "Prediction = 0\n",
      "int(Prediction) = 0 \n",
      "\n",
      "Overall Probability = -0.8690814429532733\n"
     ]
    },
    {
     "data": {
      "text/latex": [
       "$\\displaystyle \n",
       "$$ |\\psi\\rangle =\\begin{bmatrix}\n",
       "-0.97893 \\\\\n",
       "0.20420\\end{bmatrix} $"
      ],
      "text/plain": [
       "<IPython.core.display.Math object>"
      ]
     },
     "metadata": {},
     "output_type": "display_data"
    },
    {
     "name": "stdout",
     "output_type": "stream",
     "text": [
      "Salida counts = {'0': 1}\n",
      "Given the former angle theta and quantum state, the new prediction is:\n",
      "Prediction = 0\n",
      "int(Prediction) = 0 \n",
      "\n",
      "Overall Probability = -0.4223282774541963\n"
     ]
    },
    {
     "data": {
      "text/latex": [
       "$\\displaystyle \n",
       "$$ |\\psi\\rangle =\\begin{bmatrix}\n",
       "-0.61579 \\\\\n",
       "0.78791\\end{bmatrix} $"
      ],
      "text/plain": [
       "<IPython.core.display.Math object>"
      ]
     },
     "metadata": {},
     "output_type": "display_data"
    },
    {
     "name": "stdout",
     "output_type": "stream",
     "text": [
      "Salida counts = {'1': 1}\n",
      "Given the former angle theta and quantum state, the new prediction is:\n",
      "Prediction = 1\n",
      "int(Prediction) = 1 \n",
      "\n",
      "Overall Probability = -0.3287687147037995\n"
     ]
    },
    {
     "data": {
      "text/latex": [
       "$\\displaystyle \n",
       "$$ |\\psi\\rangle =\\begin{bmatrix}\n",
       "-0.49378 \\\\\n",
       "0.86959\\end{bmatrix} $"
      ],
      "text/plain": [
       "<IPython.core.display.Math object>"
      ]
     },
     "metadata": {},
     "output_type": "display_data"
    },
    {
     "name": "stdout",
     "output_type": "stream",
     "text": [
      "Salida counts = {'1': 1}\n",
      "Given the former angle theta and quantum state, the new prediction is:\n",
      "Prediction = 1\n",
      "int(Prediction) = 1 \n",
      "\n",
      "Overall Probability = -0.8218843424094533\n"
     ]
    },
    {
     "data": {
      "text/latex": [
       "$\\displaystyle \n",
       "$$ |\\psi\\rangle =\\begin{bmatrix}\n",
       "-0.96112 \\\\\n",
       "0.27615\\end{bmatrix} $"
      ],
      "text/plain": [
       "<IPython.core.display.Math object>"
      ]
     },
     "metadata": {},
     "output_type": "display_data"
    },
    {
     "name": "stdout",
     "output_type": "stream",
     "text": [
      "Salida counts = {'0': 1}\n",
      "Given the former angle theta and quantum state, the new prediction is:\n",
      "Prediction = 0\n",
      "int(Prediction) = 0 \n",
      "\n",
      "Overall Probability = -1.0504958987860396\n"
     ]
    },
    {
     "data": {
      "text/latex": [
       "$\\displaystyle \n",
       "$$ |\\psi\\rangle =\\begin{bmatrix}\n",
       "-0.99686 \\\\\n",
       "-0.07924\\end{bmatrix} $"
      ],
      "text/plain": [
       "<IPython.core.display.Math object>"
      ]
     },
     "metadata": {},
     "output_type": "display_data"
    },
    {
     "name": "stdout",
     "output_type": "stream",
     "text": [
      "Salida counts = {'0': 1}\n",
      "Given the former angle theta and quantum state, the new prediction is:\n",
      "Prediction = 0\n",
      "int(Prediction) = 0 \n",
      "\n",
      "Overall Probability = -0.19776399756172214\n"
     ]
    },
    {
     "data": {
      "text/latex": [
       "$\\displaystyle \n",
       "$$ |\\psi\\rangle =\\begin{bmatrix}\n",
       "-0.30567 \\\\\n",
       "0.95214\\end{bmatrix} $"
      ],
      "text/plain": [
       "<IPython.core.display.Math object>"
      ]
     },
     "metadata": {},
     "output_type": "display_data"
    },
    {
     "name": "stdout",
     "output_type": "stream",
     "text": [
      "Salida counts = {'1': 1}\n",
      "Given the former angle theta and quantum state, the new prediction is:\n",
      "Prediction = 1\n",
      "int(Prediction) = 1 \n",
      "\n",
      "Overall Probability = -0.32849463226531067\n"
     ]
    },
    {
     "data": {
      "text/latex": [
       "$\\displaystyle \n",
       "$$ |\\psi\\rangle =\\begin{bmatrix}\n",
       "-0.49340 \\\\\n",
       "0.86980\\end{bmatrix} $"
      ],
      "text/plain": [
       "<IPython.core.display.Math object>"
      ]
     },
     "metadata": {},
     "output_type": "display_data"
    },
    {
     "name": "stdout",
     "output_type": "stream",
     "text": [
      "Salida counts = {'1': 1}\n",
      "Given the former angle theta and quantum state, the new prediction is:\n",
      "Prediction = 1\n",
      "int(Prediction) = 1 \n",
      "\n",
      "Overall Probability = -0.8767003014783269\n"
     ]
    },
    {
     "data": {
      "text/latex": [
       "$\\displaystyle \n",
       "$$ |\\psi\\rangle =\\begin{bmatrix}\n",
       "-0.98130 \\\\\n",
       "0.19247\\end{bmatrix} $"
      ],
      "text/plain": [
       "<IPython.core.display.Math object>"
      ]
     },
     "metadata": {},
     "output_type": "display_data"
    },
    {
     "name": "stdout",
     "output_type": "stream",
     "text": [
      "Salida counts = {'0': 1}\n",
      "Given the former angle theta and quantum state, the new prediction is:\n",
      "Prediction = 0\n",
      "int(Prediction) = 0 \n",
      "\n",
      "Overall Probability = -0.6909233393497703\n"
     ]
    },
    {
     "data": {
      "text/latex": [
       "$\\displaystyle \n",
       "$$ |\\psi\\rangle =\\begin{bmatrix}\n",
       "-0.88444 \\\\\n",
       "0.46665\\end{bmatrix} $"
      ],
      "text/plain": [
       "<IPython.core.display.Math object>"
      ]
     },
     "metadata": {},
     "output_type": "display_data"
    },
    {
     "name": "stdout",
     "output_type": "stream",
     "text": [
      "Salida counts = {'0': 1}\n",
      "Given the former angle theta and quantum state, the new prediction is:\n",
      "Prediction = 0\n",
      "int(Prediction) = 0 \n",
      "\n",
      "Overall Probability = -0.49566518671653736\n"
     ]
    },
    {
     "data": {
      "text/latex": [
       "$\\displaystyle \n",
       "$$ |\\psi\\rangle =\\begin{bmatrix}\n",
       "-0.70228 \\\\\n",
       "0.71191\\end{bmatrix} $"
      ],
      "text/plain": [
       "<IPython.core.display.Math object>"
      ]
     },
     "metadata": {},
     "output_type": "display_data"
    },
    {
     "name": "stdout",
     "output_type": "stream",
     "text": [
      "Salida counts = {'0': 1}\n",
      "Given the former angle theta and quantum state, the new prediction is:\n",
      "Prediction = 0\n",
      "int(Prediction) = 0 \n",
      "\n",
      "Overall Probability = -0.04816983779733455\n"
     ]
    },
    {
     "data": {
      "text/latex": [
       "$\\displaystyle \n",
       "$$ |\\psi\\rangle =\\begin{bmatrix}\n",
       "-0.07559 \\\\\n",
       "0.99714\\end{bmatrix} $"
      ],
      "text/plain": [
       "<IPython.core.display.Math object>"
      ]
     },
     "metadata": {},
     "output_type": "display_data"
    },
    {
     "name": "stdout",
     "output_type": "stream",
     "text": [
      "Salida counts = {'1': 1}\n",
      "Given the former angle theta and quantum state, the new prediction is:\n",
      "Prediction = 1\n",
      "int(Prediction) = 1 \n",
      "\n",
      "Overall Probability = -1.048992759731591\n"
     ]
    },
    {
     "data": {
      "text/latex": [
       "$\\displaystyle \n",
       "$$ |\\psi\\rangle =\\begin{bmatrix}\n",
       "-0.99704 \\\\\n",
       "-0.07688\\end{bmatrix} $"
      ],
      "text/plain": [
       "<IPython.core.display.Math object>"
      ]
     },
     "metadata": {},
     "output_type": "display_data"
    },
    {
     "name": "stdout",
     "output_type": "stream",
     "text": [
      "Salida counts = {'0': 1}\n",
      "Given the former angle theta and quantum state, the new prediction is:\n",
      "Prediction = 0\n",
      "int(Prediction) = 0 \n",
      "\n",
      "Overall Probability = -0.9544453870612859\n"
     ]
    },
    {
     "data": {
      "text/latex": [
       "$\\displaystyle \n",
       "$$ |\\psi\\rangle =\\begin{bmatrix}\n",
       "-0.99744 \\\\\n",
       "0.07150\\end{bmatrix} $"
      ],
      "text/plain": [
       "<IPython.core.display.Math object>"
      ]
     },
     "metadata": {},
     "output_type": "display_data"
    },
    {
     "name": "stdout",
     "output_type": "stream",
     "text": [
      "Salida counts = {'0': 1}\n",
      "Given the former angle theta and quantum state, the new prediction is:\n",
      "Prediction = 0\n",
      "int(Prediction) = 0 \n",
      "\n",
      "Overall Probability = 0.0706879758688212\n"
     ]
    },
    {
     "data": {
      "text/latex": [
       "$\\displaystyle \n",
       "$$ |\\psi\\rangle =\\begin{bmatrix}\n",
       "0.11081 \\\\\n",
       "0.99384\\end{bmatrix} $"
      ],
      "text/plain": [
       "<IPython.core.display.Math object>"
      ]
     },
     "metadata": {},
     "output_type": "display_data"
    },
    {
     "name": "stdout",
     "output_type": "stream",
     "text": [
      "Salida counts = {'1': 1}\n",
      "Given the former angle theta and quantum state, the new prediction is:\n",
      "Prediction = 1\n",
      "int(Prediction) = 1 \n",
      "\n",
      "Overall Probability = -0.31287872433744884\n"
     ]
    },
    {
     "data": {
      "text/latex": [
       "$\\displaystyle \n",
       "$$ |\\psi\\rangle =\\begin{bmatrix}\n",
       "-0.47192 \\\\\n",
       "0.88164\\end{bmatrix} $"
      ],
      "text/plain": [
       "<IPython.core.display.Math object>"
      ]
     },
     "metadata": {},
     "output_type": "display_data"
    },
    {
     "name": "stdout",
     "output_type": "stream",
     "text": [
      "Salida counts = {'1': 1}\n",
      "Given the former angle theta and quantum state, the new prediction is:\n",
      "Prediction = 1\n",
      "int(Prediction) = 1 \n",
      "\n",
      "Overall Probability = -1.0547413436888886\n"
     ]
    },
    {
     "data": {
      "text/latex": [
       "$\\displaystyle \n",
       "$$ |\\psi\\rangle =\\begin{bmatrix}\n",
       "-0.99631 \\\\\n",
       "-0.08588\\end{bmatrix} $"
      ],
      "text/plain": [
       "<IPython.core.display.Math object>"
      ]
     },
     "metadata": {},
     "output_type": "display_data"
    },
    {
     "name": "stdout",
     "output_type": "stream",
     "text": [
      "Salida counts = {'0': 1}\n",
      "Given the former angle theta and quantum state, the new prediction is:\n",
      "Prediction = 0\n",
      "int(Prediction) = 0 \n",
      "\n",
      "Overall Probability = -0.9632371024645703\n"
     ]
    },
    {
     "data": {
      "text/latex": [
       "$\\displaystyle \n",
       "$$ |\\psi\\rangle =\\begin{bmatrix}\n",
       "-0.99833 \\\\\n",
       "0.05771\\end{bmatrix} $"
      ],
      "text/plain": [
       "<IPython.core.display.Math object>"
      ]
     },
     "metadata": {},
     "output_type": "display_data"
    },
    {
     "name": "stdout",
     "output_type": "stream",
     "text": [
      "Salida counts = {'0': 1}\n",
      "Given the former angle theta and quantum state, the new prediction is:\n",
      "Prediction = 0\n",
      "int(Prediction) = 0 \n",
      "\n",
      "Overall Probability = -1.051809852413298\n"
     ]
    },
    {
     "data": {
      "text/latex": [
       "$\\displaystyle \n",
       "$$ |\\psi\\rangle =\\begin{bmatrix}\n",
       "-0.99669 \\\\\n",
       "-0.08129\\end{bmatrix} $"
      ],
      "text/plain": [
       "<IPython.core.display.Math object>"
      ]
     },
     "metadata": {},
     "output_type": "display_data"
    },
    {
     "name": "stdout",
     "output_type": "stream",
     "text": [
      "Salida counts = {'0': 1}\n",
      "Given the former angle theta and quantum state, the new prediction is:\n",
      "Prediction = 0\n",
      "int(Prediction) = 0 \n",
      "\n",
      "Overall Probability = -1.0345248587709301\n"
     ]
    },
    {
     "data": {
      "text/latex": [
       "$\\displaystyle \n",
       "$$ |\\psi\\rangle =\\begin{bmatrix}\n",
       "-0.99853 \\\\\n",
       "-0.05420\\end{bmatrix} $"
      ],
      "text/plain": [
       "<IPython.core.display.Math object>"
      ]
     },
     "metadata": {},
     "output_type": "display_data"
    },
    {
     "name": "stdout",
     "output_type": "stream",
     "text": [
      "Salida counts = {'0': 1}\n",
      "Given the former angle theta and quantum state, the new prediction is:\n",
      "Prediction = 0\n",
      "int(Prediction) = 0 \n",
      "\n",
      "Overall Probability = -1.0067922460484464\n"
     ]
    },
    {
     "data": {
      "text/latex": [
       "$\\displaystyle \n",
       "$$ |\\psi\\rangle =\\begin{bmatrix}\n",
       "-0.99994 \\\\\n",
       "-0.01067\\end{bmatrix} $"
      ],
      "text/plain": [
       "<IPython.core.display.Math object>"
      ]
     },
     "metadata": {},
     "output_type": "display_data"
    },
    {
     "name": "stdout",
     "output_type": "stream",
     "text": [
      "Salida counts = {'0': 1}\n",
      "Given the former angle theta and quantum state, the new prediction is:\n",
      "Prediction = 0\n",
      "int(Prediction) = 0 \n",
      "\n",
      "Overall Probability = -0.960243126134634\n"
     ]
    },
    {
     "data": {
      "text/latex": [
       "$\\displaystyle \n",
       "$$ |\\psi\\rangle =\\begin{bmatrix}\n",
       "-0.99805 \\\\\n",
       "0.06241\\end{bmatrix} $"
      ],
      "text/plain": [
       "<IPython.core.display.Math object>"
      ]
     },
     "metadata": {},
     "output_type": "display_data"
    },
    {
     "name": "stdout",
     "output_type": "stream",
     "text": [
      "Salida counts = {'0': 1}\n",
      "Given the former angle theta and quantum state, the new prediction is:\n",
      "Prediction = 0\n",
      "int(Prediction) = 0 \n",
      "\n",
      "Overall Probability = -0.35784826211639753\n"
     ]
    },
    {
     "data": {
      "text/latex": [
       "$\\displaystyle \n",
       "$$ |\\psi\\rangle =\\begin{bmatrix}\n",
       "-0.53297 \\\\\n",
       "0.84613\\end{bmatrix} $"
      ],
      "text/plain": [
       "<IPython.core.display.Math object>"
      ]
     },
     "metadata": {},
     "output_type": "display_data"
    },
    {
     "name": "stdout",
     "output_type": "stream",
     "text": [
      "Salida counts = {'1': 1}\n",
      "Given the former angle theta and quantum state, the new prediction is:\n",
      "Prediction = 1\n",
      "int(Prediction) = 1 \n",
      "\n",
      "Overall Probability = -0.5299275596811232\n"
     ]
    },
    {
     "data": {
      "text/latex": [
       "$\\displaystyle \n",
       "$$ |\\psi\\rangle =\\begin{bmatrix}\n",
       "-0.73955 \\\\\n",
       "0.67310\\end{bmatrix} $"
      ],
      "text/plain": [
       "<IPython.core.display.Math object>"
      ]
     },
     "metadata": {},
     "output_type": "display_data"
    },
    {
     "name": "stdout",
     "output_type": "stream",
     "text": [
      "Salida counts = {'1': 1}\n",
      "Given the former angle theta and quantum state, the new prediction is:\n",
      "Prediction = 1\n",
      "int(Prediction) = 1 \n",
      "\n",
      "Overall Probability = -0.8893065176043745\n"
     ]
    },
    {
     "data": {
      "text/latex": [
       "$\\displaystyle \n",
       "$$ |\\psi\\rangle =\\begin{bmatrix}\n",
       "-0.98492 \\\\\n",
       "0.17300\\end{bmatrix} $"
      ],
      "text/plain": [
       "<IPython.core.display.Math object>"
      ]
     },
     "metadata": {},
     "output_type": "display_data"
    },
    {
     "name": "stdout",
     "output_type": "stream",
     "text": [
      "Salida counts = {'0': 1}\n",
      "Given the former angle theta and quantum state, the new prediction is:\n",
      "Prediction = 0\n",
      "int(Prediction) = 0 \n",
      "\n",
      "Overall Probability = -0.43707017843387436\n"
     ]
    },
    {
     "data": {
      "text/latex": [
       "$\\displaystyle \n",
       "$$ |\\psi\\rangle =\\begin{bmatrix}\n",
       "-0.63387 \\\\\n",
       "0.77344\\end{bmatrix} $"
      ],
      "text/plain": [
       "<IPython.core.display.Math object>"
      ]
     },
     "metadata": {},
     "output_type": "display_data"
    },
    {
     "name": "stdout",
     "output_type": "stream",
     "text": [
      "Salida counts = {'0': 1}\n",
      "Given the former angle theta and quantum state, the new prediction is:\n",
      "Prediction = 0\n",
      "int(Prediction) = 0 \n",
      "\n",
      "Overall Probability = -0.44128109942059385\n"
     ]
    },
    {
     "data": {
      "text/latex": [
       "$\\displaystyle \n",
       "$$ |\\psi\\rangle =\\begin{bmatrix}\n",
       "-0.63897 \\\\\n",
       "0.76923\\end{bmatrix} $"
      ],
      "text/plain": [
       "<IPython.core.display.Math object>"
      ]
     },
     "metadata": {},
     "output_type": "display_data"
    },
    {
     "name": "stdout",
     "output_type": "stream",
     "text": [
      "Salida counts = {'1': 1}\n",
      "Given the former angle theta and quantum state, the new prediction is:\n",
      "Prediction = 1\n",
      "int(Prediction) = 1 \n",
      "\n",
      "Overall Probability = -1.0504889224221114\n"
     ]
    },
    {
     "data": {
      "text/latex": [
       "$\\displaystyle \n",
       "$$ |\\psi\\rangle =\\begin{bmatrix}\n",
       "-0.99686 \\\\\n",
       "-0.07922\\end{bmatrix} $"
      ],
      "text/plain": [
       "<IPython.core.display.Math object>"
      ]
     },
     "metadata": {},
     "output_type": "display_data"
    },
    {
     "name": "stdout",
     "output_type": "stream",
     "text": [
      "Salida counts = {'0': 1}\n",
      "Given the former angle theta and quantum state, the new prediction is:\n",
      "Prediction = 0\n",
      "int(Prediction) = 0 \n",
      "\n",
      "Overall Probability = -0.5309974493006682\n"
     ]
    },
    {
     "data": {
      "text/latex": [
       "$\\displaystyle \n",
       "$$ |\\psi\\rangle =\\begin{bmatrix}\n",
       "-0.74068 \\\\\n",
       "0.67185\\end{bmatrix} $"
      ],
      "text/plain": [
       "<IPython.core.display.Math object>"
      ]
     },
     "metadata": {},
     "output_type": "display_data"
    },
    {
     "name": "stdout",
     "output_type": "stream",
     "text": [
      "Salida counts = {'1': 1}\n",
      "Given the former angle theta and quantum state, the new prediction is:\n",
      "Prediction = 1\n",
      "int(Prediction) = 1 \n",
      "\n",
      "Overall Probability = -0.6936425854428352\n"
     ]
    },
    {
     "data": {
      "text/latex": [
       "$\\displaystyle \n",
       "$$ |\\psi\\rangle =\\begin{bmatrix}\n",
       "-0.88643 \\\\\n",
       "0.46287\\end{bmatrix} $"
      ],
      "text/plain": [
       "<IPython.core.display.Math object>"
      ]
     },
     "metadata": {},
     "output_type": "display_data"
    },
    {
     "name": "stdout",
     "output_type": "stream",
     "text": [
      "Salida counts = {'0': 1}\n",
      "Given the former angle theta and quantum state, the new prediction is:\n",
      "Prediction = 0\n",
      "int(Prediction) = 0 \n",
      "\n",
      "Overall Probability = -0.3449801263600944\n"
     ]
    },
    {
     "data": {
      "text/latex": [
       "$\\displaystyle \n",
       "$$ |\\psi\\rangle =\\begin{bmatrix}\n",
       "-0.51576 \\\\\n",
       "0.85673\\end{bmatrix} $"
      ],
      "text/plain": [
       "<IPython.core.display.Math object>"
      ]
     },
     "metadata": {},
     "output_type": "display_data"
    },
    {
     "name": "stdout",
     "output_type": "stream",
     "text": [
      "Salida counts = {'1': 1}\n",
      "Given the former angle theta and quantum state, the new prediction is:\n",
      "Prediction = 1\n",
      "int(Prediction) = 1 \n",
      "\n",
      "Overall Probability = -1.0378480513516646\n"
     ]
    },
    {
     "data": {
      "text/latex": [
       "$\\displaystyle \n",
       "$$ |\\psi\\rangle =\\begin{bmatrix}\n",
       "-0.99823 \\\\\n",
       "-0.05942\\end{bmatrix} $"
      ],
      "text/plain": [
       "<IPython.core.display.Math object>"
      ]
     },
     "metadata": {},
     "output_type": "display_data"
    },
    {
     "name": "stdout",
     "output_type": "stream",
     "text": [
      "Salida counts = {'0': 1}\n",
      "Given the former angle theta and quantum state, the new prediction is:\n",
      "Prediction = 0\n",
      "int(Prediction) = 0 \n",
      "\n",
      "Overall Probability = -0.9199960937783991\n"
     ]
    },
    {
     "data": {
      "text/latex": [
       "$\\displaystyle \n",
       "$$ |\\psi\\rangle =\\begin{bmatrix}\n",
       "-0.99211 \\\\\n",
       "0.12534\\end{bmatrix} $"
      ],
      "text/plain": [
       "<IPython.core.display.Math object>"
      ]
     },
     "metadata": {},
     "output_type": "display_data"
    },
    {
     "name": "stdout",
     "output_type": "stream",
     "text": [
      "Salida counts = {'0': 1}\n",
      "Given the former angle theta and quantum state, the new prediction is:\n",
      "Prediction = 0\n",
      "int(Prediction) = 0 \n",
      "\n",
      "Overall Probability = -1.051809852413298\n"
     ]
    },
    {
     "data": {
      "text/latex": [
       "$\\displaystyle \n",
       "$$ |\\psi\\rangle =\\begin{bmatrix}\n",
       "-0.99669 \\\\\n",
       "-0.08129\\end{bmatrix} $"
      ],
      "text/plain": [
       "<IPython.core.display.Math object>"
      ]
     },
     "metadata": {},
     "output_type": "display_data"
    },
    {
     "name": "stdout",
     "output_type": "stream",
     "text": [
      "Salida counts = {'0': 1}\n",
      "Given the former angle theta and quantum state, the new prediction is:\n",
      "Prediction = 0\n",
      "int(Prediction) = 0 \n",
      "\n",
      "Overall Probability = 0.034584782393132854\n"
     ]
    },
    {
     "data": {
      "text/latex": [
       "$\\displaystyle \n",
       "$$ |\\psi\\rangle =\\begin{bmatrix}\n",
       "0.05430 \\\\\n",
       "0.99852\\end{bmatrix} $"
      ],
      "text/plain": [
       "<IPython.core.display.Math object>"
      ]
     },
     "metadata": {},
     "output_type": "display_data"
    },
    {
     "name": "stdout",
     "output_type": "stream",
     "text": [
      "Salida counts = {'1': 1}\n",
      "Given the former angle theta and quantum state, the new prediction is:\n",
      "Prediction = 1\n",
      "int(Prediction) = 1 \n",
      "\n",
      "Overall Probability = -0.40311612903746613\n"
     ]
    },
    {
     "data": {
      "text/latex": [
       "$\\displaystyle \n",
       "$$ |\\psi\\rangle =\\begin{bmatrix}\n",
       "-0.59174 \\\\\n",
       "0.80613\\end{bmatrix} $"
      ],
      "text/plain": [
       "<IPython.core.display.Math object>"
      ]
     },
     "metadata": {},
     "output_type": "display_data"
    },
    {
     "name": "stdout",
     "output_type": "stream",
     "text": [
      "Salida counts = {'1': 1}\n",
      "Given the former angle theta and quantum state, the new prediction is:\n",
      "Prediction = 1\n",
      "int(Prediction) = 1 \n",
      "\n",
      "Overall Probability = -0.4413594325543094\n"
     ]
    },
    {
     "data": {
      "text/latex": [
       "$\\displaystyle \n",
       "$$ |\\psi\\rangle =\\begin{bmatrix}\n",
       "-0.63907 \\\\\n",
       "0.76915\\end{bmatrix} $"
      ],
      "text/plain": [
       "<IPython.core.display.Math object>"
      ]
     },
     "metadata": {},
     "output_type": "display_data"
    },
    {
     "name": "stdout",
     "output_type": "stream",
     "text": [
      "Salida counts = {'1': 1}\n",
      "Given the former angle theta and quantum state, the new prediction is:\n",
      "Prediction = 1\n",
      "int(Prediction) = 1 \n",
      "\n",
      "Overall Probability = -0.47498551392505456\n"
     ]
    },
    {
     "data": {
      "text/latex": [
       "$\\displaystyle \n",
       "$$ |\\psi\\rangle =\\begin{bmatrix}\n",
       "-0.67878 \\\\\n",
       "0.73434\\end{bmatrix} $"
      ],
      "text/plain": [
       "<IPython.core.display.Math object>"
      ]
     },
     "metadata": {},
     "output_type": "display_data"
    },
    {
     "name": "stdout",
     "output_type": "stream",
     "text": [
      "Salida counts = {'0': 1}\n",
      "Given the former angle theta and quantum state, the new prediction is:\n",
      "Prediction = 0\n",
      "int(Prediction) = 0 \n",
      "\n",
      "Overall Probability = -0.5109533910539876\n"
     ]
    },
    {
     "data": {
      "text/latex": [
       "$\\displaystyle \n",
       "$$ |\\psi\\rangle =\\begin{bmatrix}\n",
       "-0.71917 \\\\\n",
       "0.69484\\end{bmatrix} $"
      ],
      "text/plain": [
       "<IPython.core.display.Math object>"
      ]
     },
     "metadata": {},
     "output_type": "display_data"
    },
    {
     "name": "stdout",
     "output_type": "stream",
     "text": [
      "Salida counts = {'1': 1}\n",
      "Given the former angle theta and quantum state, the new prediction is:\n",
      "Prediction = 1\n",
      "int(Prediction) = 1 \n",
      "\n",
      "Overall Probability = -1.0517163619394672\n"
     ]
    },
    {
     "data": {
      "text/latex": [
       "$\\displaystyle \n",
       "$$ |\\psi\\rangle =\\begin{bmatrix}\n",
       "-0.99670 \\\\\n",
       "-0.08115\\end{bmatrix} $"
      ],
      "text/plain": [
       "<IPython.core.display.Math object>"
      ]
     },
     "metadata": {},
     "output_type": "display_data"
    },
    {
     "name": "stdout",
     "output_type": "stream",
     "text": [
      "Salida counts = {'0': 1}\n",
      "Given the former angle theta and quantum state, the new prediction is:\n",
      "Prediction = 0\n",
      "int(Prediction) = 0 \n",
      "\n",
      "Overall Probability = -0.33326425878989063\n"
     ]
    },
    {
     "data": {
      "text/latex": [
       "$\\displaystyle \n",
       "$$ |\\psi\\rangle =\\begin{bmatrix}\n",
       "-0.49991 \\\\\n",
       "0.86608\\end{bmatrix} $"
      ],
      "text/plain": [
       "<IPython.core.display.Math object>"
      ]
     },
     "metadata": {},
     "output_type": "display_data"
    },
    {
     "name": "stdout",
     "output_type": "stream",
     "text": [
      "Salida counts = {'1': 1}\n",
      "Given the former angle theta and quantum state, the new prediction is:\n",
      "Prediction = 1\n",
      "int(Prediction) = 1 \n",
      "\n",
      "Overall Probability = -0.5293566289435632\n"
     ]
    },
    {
     "data": {
      "text/latex": [
       "$\\displaystyle \n",
       "$$ |\\psi\\rangle =\\begin{bmatrix}\n",
       "-0.73895 \\\\\n",
       "0.67376\\end{bmatrix} $"
      ],
      "text/plain": [
       "<IPython.core.display.Math object>"
      ]
     },
     "metadata": {},
     "output_type": "display_data"
    },
    {
     "name": "stdout",
     "output_type": "stream",
     "text": [
      "Salida counts = {'0': 1}\n",
      "Given the former angle theta and quantum state, the new prediction is:\n",
      "Prediction = 0\n",
      "int(Prediction) = 0 \n",
      "\n",
      "Overall Probability = -0.9251527946361184\n"
     ]
    },
    {
     "data": {
      "text/latex": [
       "$\\displaystyle \n",
       "$$ |\\psi\\rangle =\\begin{bmatrix}\n",
       "-0.99310 \\\\\n",
       "0.11730\\end{bmatrix} $"
      ],
      "text/plain": [
       "<IPython.core.display.Math object>"
      ]
     },
     "metadata": {},
     "output_type": "display_data"
    },
    {
     "name": "stdout",
     "output_type": "stream",
     "text": [
      "Salida counts = {'0': 1}\n",
      "Given the former angle theta and quantum state, the new prediction is:\n",
      "Prediction = 0\n",
      "int(Prediction) = 0 \n",
      "\n",
      "Overall Probability = -1.049320216913703\n"
     ]
    },
    {
     "data": {
      "text/latex": [
       "$\\displaystyle \n",
       "$$ |\\psi\\rangle =\\begin{bmatrix}\n",
       "-0.99700 \\\\\n",
       "-0.07739\\end{bmatrix} $"
      ],
      "text/plain": [
       "<IPython.core.display.Math object>"
      ]
     },
     "metadata": {},
     "output_type": "display_data"
    },
    {
     "name": "stdout",
     "output_type": "stream",
     "text": [
      "Salida counts = {'0': 1}\n",
      "Given the former angle theta and quantum state, the new prediction is:\n",
      "Prediction = 0\n",
      "int(Prediction) = 0 \n",
      "\n",
      "Overall Probability = -1.0576206679044557\n"
     ]
    },
    {
     "data": {
      "text/latex": [
       "$\\displaystyle \n",
       "$$ |\\psi\\rangle =\\begin{bmatrix}\n",
       "-0.99591 \\\\\n",
       "-0.09039\\end{bmatrix} $"
      ],
      "text/plain": [
       "<IPython.core.display.Math object>"
      ]
     },
     "metadata": {},
     "output_type": "display_data"
    },
    {
     "name": "stdout",
     "output_type": "stream",
     "text": [
      "Salida counts = {'0': 1}\n",
      "Given the former angle theta and quantum state, the new prediction is:\n",
      "Prediction = 0\n",
      "int(Prediction) = 0 \n",
      "\n",
      "Overall Probability = -0.3362717993771233\n"
     ]
    },
    {
     "data": {
      "text/latex": [
       "$\\displaystyle \n",
       "$$ |\\psi\\rangle =\\begin{bmatrix}\n",
       "-0.50399 \\\\\n",
       "0.86371\\end{bmatrix} $"
      ],
      "text/plain": [
       "<IPython.core.display.Math object>"
      ]
     },
     "metadata": {},
     "output_type": "display_data"
    },
    {
     "name": "stdout",
     "output_type": "stream",
     "text": [
      "Salida counts = {'1': 1}\n",
      "Given the former angle theta and quantum state, the new prediction is:\n",
      "Prediction = 1\n",
      "int(Prediction) = 1 \n",
      "\n",
      "Overall Probability = -0.4706214545055737\n"
     ]
    },
    {
     "data": {
      "text/latex": [
       "$\\displaystyle \n",
       "$$ |\\psi\\rangle =\\begin{bmatrix}\n",
       "-0.67373 \\\\\n",
       "0.73897\\end{bmatrix} $"
      ],
      "text/plain": [
       "<IPython.core.display.Math object>"
      ]
     },
     "metadata": {},
     "output_type": "display_data"
    },
    {
     "name": "stdout",
     "output_type": "stream",
     "text": [
      "Salida counts = {'1': 1}\n",
      "Given the former angle theta and quantum state, the new prediction is:\n",
      "Prediction = 1\n",
      "int(Prediction) = 1 \n",
      "\n",
      "Overall Probability = -1.0517163619394672\n"
     ]
    },
    {
     "data": {
      "text/latex": [
       "$\\displaystyle \n",
       "$$ |\\psi\\rangle =\\begin{bmatrix}\n",
       "-0.99670 \\\\\n",
       "-0.08115\\end{bmatrix} $"
      ],
      "text/plain": [
       "<IPython.core.display.Math object>"
      ]
     },
     "metadata": {},
     "output_type": "display_data"
    },
    {
     "name": "stdout",
     "output_type": "stream",
     "text": [
      "Salida counts = {'0': 1}\n",
      "Given the former angle theta and quantum state, the new prediction is:\n",
      "Prediction = 0\n",
      "int(Prediction) = 0 \n",
      "\n",
      "Overall Probability = -1.0506348772301168\n"
     ]
    },
    {
     "data": {
      "text/latex": [
       "$\\displaystyle \n",
       "$$ |\\psi\\rangle =\\begin{bmatrix}\n",
       "-0.99684 \\\\\n",
       "-0.07945\\end{bmatrix} $"
      ],
      "text/plain": [
       "<IPython.core.display.Math object>"
      ]
     },
     "metadata": {},
     "output_type": "display_data"
    },
    {
     "name": "stdout",
     "output_type": "stream",
     "text": [
      "Salida counts = {'0': 1}\n",
      "Given the former angle theta and quantum state, the new prediction is:\n",
      "Prediction = 0\n",
      "int(Prediction) = 0 \n",
      "\n",
      "Overall Probability = -1.0086615842945326\n"
     ]
    },
    {
     "data": {
      "text/latex": [
       "$\\displaystyle \n",
       "$$ |\\psi\\rangle =\\begin{bmatrix}\n",
       "-0.99991 \\\\\n",
       "-0.01361\\end{bmatrix} $"
      ],
      "text/plain": [
       "<IPython.core.display.Math object>"
      ]
     },
     "metadata": {},
     "output_type": "display_data"
    },
    {
     "name": "stdout",
     "output_type": "stream",
     "text": [
      "Salida counts = {'0': 1}\n",
      "Given the former angle theta and quantum state, the new prediction is:\n",
      "Prediction = 0\n",
      "int(Prediction) = 0 \n",
      "\n",
      "Overall Probability = -0.14648599392026362\n"
     ]
    },
    {
     "data": {
      "text/latex": [
       "$\\displaystyle \n",
       "$$ |\\psi\\rangle =\\begin{bmatrix}\n",
       "-0.22807 \\\\\n",
       "0.97364\\end{bmatrix} $"
      ],
      "text/plain": [
       "<IPython.core.display.Math object>"
      ]
     },
     "metadata": {},
     "output_type": "display_data"
    },
    {
     "name": "stdout",
     "output_type": "stream",
     "text": [
      "Salida counts = {'1': 1}\n",
      "Given the former angle theta and quantum state, the new prediction is:\n",
      "Prediction = 1\n",
      "int(Prediction) = 1 \n",
      "\n",
      "Overall Probability = -0.3362321923030328\n"
     ]
    },
    {
     "data": {
      "text/latex": [
       "$\\displaystyle \n",
       "$$ |\\psi\\rangle =\\begin{bmatrix}\n",
       "-0.50394 \\\\\n",
       "0.86374\\end{bmatrix} $"
      ],
      "text/plain": [
       "<IPython.core.display.Math object>"
      ]
     },
     "metadata": {},
     "output_type": "display_data"
    },
    {
     "name": "stdout",
     "output_type": "stream",
     "text": [
      "Salida counts = {'1': 1}\n",
      "Given the former angle theta and quantum state, the new prediction is:\n",
      "Prediction = 1\n",
      "int(Prediction) = 1 \n",
      "\n",
      "Overall Probability = -0.15092513618914233\n"
     ]
    },
    {
     "data": {
      "text/latex": [
       "$\\displaystyle \n",
       "$$ |\\psi\\rangle =\\begin{bmatrix}\n",
       "-0.23486 \\\\\n",
       "0.97203\\end{bmatrix} $"
      ],
      "text/plain": [
       "<IPython.core.display.Math object>"
      ]
     },
     "metadata": {},
     "output_type": "display_data"
    },
    {
     "name": "stdout",
     "output_type": "stream",
     "text": [
      "Salida counts = {'1': 1}\n",
      "Given the former angle theta and quantum state, the new prediction is:\n",
      "Prediction = 1\n",
      "int(Prediction) = 1 \n",
      "\n",
      "Overall Probability = -1.0490685464321672\n"
     ]
    },
    {
     "data": {
      "text/latex": [
       "$\\displaystyle \n",
       "$$ |\\psi\\rangle =\\begin{bmatrix}\n",
       "-0.99703 \\\\\n",
       "-0.07700\\end{bmatrix} $"
      ],
      "text/plain": [
       "<IPython.core.display.Math object>"
      ]
     },
     "metadata": {},
     "output_type": "display_data"
    },
    {
     "name": "stdout",
     "output_type": "stream",
     "text": [
      "Salida counts = {'0': 1}\n",
      "Given the former angle theta and quantum state, the new prediction is:\n",
      "Prediction = 0\n",
      "int(Prediction) = 0 \n",
      "\n",
      "Overall Probability = -0.48689996802308766\n"
     ]
    },
    {
     "data": {
      "text/latex": [
       "$\\displaystyle \n",
       "$$ |\\psi\\rangle =\\begin{bmatrix}\n",
       "-0.69241 \\\\\n",
       "0.72151\\end{bmatrix} $"
      ],
      "text/plain": [
       "<IPython.core.display.Math object>"
      ]
     },
     "metadata": {},
     "output_type": "display_data"
    },
    {
     "name": "stdout",
     "output_type": "stream",
     "text": [
      "Salida counts = {'0': 1}\n",
      "Given the former angle theta and quantum state, the new prediction is:\n",
      "Prediction = 0\n",
      "int(Prediction) = 0 \n",
      "\n",
      "Overall Probability = -0.44143267282174625\n"
     ]
    },
    {
     "data": {
      "text/latex": [
       "$\\displaystyle \n",
       "$$ |\\psi\\rangle =\\begin{bmatrix}\n",
       "-0.63916 \\\\\n",
       "0.76908\\end{bmatrix} $"
      ],
      "text/plain": [
       "<IPython.core.display.Math object>"
      ]
     },
     "metadata": {},
     "output_type": "display_data"
    },
    {
     "name": "stdout",
     "output_type": "stream",
     "text": [
      "Salida counts = {'1': 1}\n",
      "Given the former angle theta and quantum state, the new prediction is:\n",
      "Prediction = 1\n",
      "int(Prediction) = 1 \n",
      "\n",
      "Overall Probability = -0.8312218502766684\n"
     ]
    },
    {
     "data": {
      "text/latex": [
       "$\\displaystyle \n",
       "$$ |\\psi\\rangle =\\begin{bmatrix}\n",
       "-0.96506 \\\\\n",
       "0.26202\\end{bmatrix} $"
      ],
      "text/plain": [
       "<IPython.core.display.Math object>"
      ]
     },
     "metadata": {},
     "output_type": "display_data"
    },
    {
     "name": "stdout",
     "output_type": "stream",
     "text": [
      "Salida counts = {'0': 1}\n",
      "Given the former angle theta and quantum state, the new prediction is:\n",
      "Prediction = 0\n",
      "int(Prediction) = 0 \n",
      "\n",
      "Overall Probability = -0.34664092102813254\n"
     ]
    },
    {
     "data": {
      "text/latex": [
       "$\\displaystyle \n",
       "$$ |\\psi\\rangle =\\begin{bmatrix}\n",
       "-0.51799 \\\\\n",
       "0.85539\\end{bmatrix} $"
      ],
      "text/plain": [
       "<IPython.core.display.Math object>"
      ]
     },
     "metadata": {},
     "output_type": "display_data"
    },
    {
     "name": "stdout",
     "output_type": "stream",
     "text": [
      "Salida counts = {'1': 1}\n",
      "Given the former angle theta and quantum state, the new prediction is:\n",
      "Prediction = 1\n",
      "int(Prediction) = 1 \n",
      "\n",
      "Overall Probability = -0.9598151743109983\n"
     ]
    },
    {
     "data": {
      "text/latex": [
       "$\\displaystyle \n",
       "$$ |\\psi\\rangle =\\begin{bmatrix}\n",
       "-0.99801 \\\\\n",
       "0.06308\\end{bmatrix} $"
      ],
      "text/plain": [
       "<IPython.core.display.Math object>"
      ]
     },
     "metadata": {},
     "output_type": "display_data"
    },
    {
     "name": "stdout",
     "output_type": "stream",
     "text": [
      "Salida counts = {'0': 1}\n",
      "Given the former angle theta and quantum state, the new prediction is:\n",
      "Prediction = 0\n",
      "int(Prediction) = 0 \n",
      "\n",
      "Overall Probability = -0.35757133927803\n"
     ]
    },
    {
     "data": {
      "text/latex": [
       "$\\displaystyle \n",
       "$$ |\\psi\\rangle =\\begin{bmatrix}\n",
       "-0.53260 \\\\\n",
       "0.84637\\end{bmatrix} $"
      ],
      "text/plain": [
       "<IPython.core.display.Math object>"
      ]
     },
     "metadata": {},
     "output_type": "display_data"
    },
    {
     "name": "stdout",
     "output_type": "stream",
     "text": [
      "Salida counts = {'0': 1}\n",
      "Given the former angle theta and quantum state, the new prediction is:\n",
      "Prediction = 0\n",
      "int(Prediction) = 0 \n",
      "\n",
      "Overall Probability = -0.8550426965369634\n"
     ]
    },
    {
     "data": {
      "text/latex": [
       "$\\displaystyle \n",
       "$$ |\\psi\\rangle =\\begin{bmatrix}\n",
       "-0.97419 \\\\\n",
       "0.22574\\end{bmatrix} $"
      ],
      "text/plain": [
       "<IPython.core.display.Math object>"
      ]
     },
     "metadata": {},
     "output_type": "display_data"
    },
    {
     "name": "stdout",
     "output_type": "stream",
     "text": [
      "Salida counts = {'0': 1}\n",
      "Given the former angle theta and quantum state, the new prediction is:\n",
      "Prediction = 0\n",
      "int(Prediction) = 0 \n",
      "\n",
      "Overall Probability = 0.07350659772575173\n"
     ]
    },
    {
     "data": {
      "text/latex": [
       "$\\displaystyle \n",
       "$$ |\\psi\\rangle =\\begin{bmatrix}\n",
       "0.11521 \\\\\n",
       "0.99334\\end{bmatrix} $"
      ],
      "text/plain": [
       "<IPython.core.display.Math object>"
      ]
     },
     "metadata": {},
     "output_type": "display_data"
    },
    {
     "name": "stdout",
     "output_type": "stream",
     "text": [
      "Salida counts = {'1': 1}\n",
      "Given the former angle theta and quantum state, the new prediction is:\n",
      "Prediction = 1\n",
      "int(Prediction) = 1 \n",
      "\n",
      "Overall Probability = 0.08829709488557584\n"
     ]
    },
    {
     "data": {
      "text/latex": [
       "$\\displaystyle \n",
       "$$ |\\psi\\rangle =\\begin{bmatrix}\n",
       "0.13825 \\\\\n",
       "0.99040\\end{bmatrix} $"
      ],
      "text/plain": [
       "<IPython.core.display.Math object>"
      ]
     },
     "metadata": {},
     "output_type": "display_data"
    },
    {
     "name": "stdout",
     "output_type": "stream",
     "text": [
      "Salida counts = {'1': 1}\n",
      "Given the former angle theta and quantum state, the new prediction is:\n",
      "Prediction = 1\n",
      "int(Prediction) = 1 \n",
      "\n",
      "Overall Probability = -0.3658082893972666\n"
     ]
    },
    {
     "data": {
      "text/latex": [
       "$\\displaystyle \n",
       "$$ |\\psi\\rangle =\\begin{bmatrix}\n",
       "-0.54351 \\\\\n",
       "0.83940\\end{bmatrix} $"
      ],
      "text/plain": [
       "<IPython.core.display.Math object>"
      ]
     },
     "metadata": {},
     "output_type": "display_data"
    },
    {
     "name": "stdout",
     "output_type": "stream",
     "text": [
      "Salida counts = {'1': 1}\n",
      "Given the former angle theta and quantum state, the new prediction is:\n",
      "Prediction = 1\n",
      "int(Prediction) = 1 \n",
      "\n",
      "Overall Probability = -0.67225388873296\n"
     ]
    },
    {
     "data": {
      "text/latex": [
       "$\\displaystyle \n",
       "$$ |\\psi\\rangle =\\begin{bmatrix}\n",
       "-0.87038 \\\\\n",
       "0.49238\\end{bmatrix} $"
      ],
      "text/plain": [
       "<IPython.core.display.Math object>"
      ]
     },
     "metadata": {},
     "output_type": "display_data"
    },
    {
     "name": "stdout",
     "output_type": "stream",
     "text": [
      "Salida counts = {'1': 1}\n",
      "Given the former angle theta and quantum state, the new prediction is:\n",
      "Prediction = 1\n",
      "int(Prediction) = 1 \n",
      "\n",
      "Overall Probability = -0.3617713121605334\n"
     ]
    },
    {
     "data": {
      "text/latex": [
       "$\\displaystyle \n",
       "$$ |\\psi\\rangle =\\begin{bmatrix}\n",
       "-0.53817 \\\\\n",
       "0.84283\\end{bmatrix} $"
      ],
      "text/plain": [
       "<IPython.core.display.Math object>"
      ]
     },
     "metadata": {},
     "output_type": "display_data"
    },
    {
     "name": "stdout",
     "output_type": "stream",
     "text": [
      "Salida counts = {'0': 1}\n",
      "Given the former angle theta and quantum state, the new prediction is:\n",
      "Prediction = 0\n",
      "int(Prediction) = 0 \n",
      "\n",
      "Overall Probability = -1.0211961580371562\n"
     ]
    },
    {
     "data": {
      "text/latex": [
       "$\\displaystyle \n",
       "$$ |\\psi\\rangle =\\begin{bmatrix}\n",
       "-0.99945 \\\\\n",
       "-0.03329\\end{bmatrix} $"
      ],
      "text/plain": [
       "<IPython.core.display.Math object>"
      ]
     },
     "metadata": {},
     "output_type": "display_data"
    },
    {
     "name": "stdout",
     "output_type": "stream",
     "text": [
      "Salida counts = {'0': 1}\n",
      "Given the former angle theta and quantum state, the new prediction is:\n",
      "Prediction = 0\n",
      "int(Prediction) = 0 \n",
      "\n",
      "Overall Probability = -0.5036560154188806\n"
     ]
    },
    {
     "data": {
      "text/latex": [
       "$\\displaystyle \n",
       "$$ |\\psi\\rangle =\\begin{bmatrix}\n",
       "-0.71116 \\\\\n",
       "0.70303\\end{bmatrix} $"
      ],
      "text/plain": [
       "<IPython.core.display.Math object>"
      ]
     },
     "metadata": {},
     "output_type": "display_data"
    },
    {
     "name": "stdout",
     "output_type": "stream",
     "text": [
      "Salida counts = {'1': 1}\n",
      "Given the former angle theta and quantum state, the new prediction is:\n",
      "Prediction = 1\n",
      "int(Prediction) = 1 \n",
      "\n",
      "Overall Probability = -0.5297582825067162\n"
     ]
    },
    {
     "data": {
      "text/latex": [
       "$\\displaystyle \n",
       "$$ |\\psi\\rangle =\\begin{bmatrix}\n",
       "-0.73938 \\\\\n",
       "0.67329\\end{bmatrix} $"
      ],
      "text/plain": [
       "<IPython.core.display.Math object>"
      ]
     },
     "metadata": {},
     "output_type": "display_data"
    },
    {
     "name": "stdout",
     "output_type": "stream",
     "text": [
      "Salida counts = {'1': 1}\n",
      "Given the former angle theta and quantum state, the new prediction is:\n",
      "Prediction = 1\n",
      "int(Prediction) = 1 \n",
      "\n",
      "Overall Probability = -1.0515354577754534\n"
     ]
    },
    {
     "data": {
      "text/latex": [
       "$\\displaystyle \n",
       "$$ |\\psi\\rangle =\\begin{bmatrix}\n",
       "-0.99673 \\\\\n",
       "-0.08086\\end{bmatrix} $"
      ],
      "text/plain": [
       "<IPython.core.display.Math object>"
      ]
     },
     "metadata": {},
     "output_type": "display_data"
    },
    {
     "name": "stdout",
     "output_type": "stream",
     "text": [
      "Salida counts = {'0': 1}\n",
      "Given the former angle theta and quantum state, the new prediction is:\n",
      "Prediction = 0\n",
      "int(Prediction) = 0 \n",
      "\n",
      "Overall Probability = -0.6657557112752495\n"
     ]
    },
    {
     "data": {
      "text/latex": [
       "$\\displaystyle \n",
       "$$ |\\psi\\rangle =\\begin{bmatrix}\n",
       "-0.86531 \\\\\n",
       "0.50124\\end{bmatrix} $"
      ],
      "text/plain": [
       "<IPython.core.display.Math object>"
      ]
     },
     "metadata": {},
     "output_type": "display_data"
    },
    {
     "name": "stdout",
     "output_type": "stream",
     "text": [
      "Salida counts = {'0': 1}\n",
      "Given the former angle theta and quantum state, the new prediction is:\n",
      "Prediction = 0\n",
      "int(Prediction) = 0 \n",
      "\n",
      "Overall Probability = 0.03880895308034429\n"
     ]
    },
    {
     "data": {
      "text/latex": [
       "$\\displaystyle \n",
       "$$ |\\psi\\rangle =\\begin{bmatrix}\n",
       "0.06092 \\\\\n",
       "0.99814\\end{bmatrix} $"
      ],
      "text/plain": [
       "<IPython.core.display.Math object>"
      ]
     },
     "metadata": {},
     "output_type": "display_data"
    },
    {
     "name": "stdout",
     "output_type": "stream",
     "text": [
      "Salida counts = {'1': 1}\n",
      "Given the former angle theta and quantum state, the new prediction is:\n",
      "Prediction = 1\n",
      "int(Prediction) = 1 \n",
      "\n",
      "Overall Probability = -0.31730440248554753\n"
     ]
    },
    {
     "data": {
      "text/latex": [
       "$\\displaystyle \n",
       "$$ |\\psi\\rangle =\\begin{bmatrix}\n",
       "-0.47804 \\\\\n",
       "0.87834\\end{bmatrix} $"
      ],
      "text/plain": [
       "<IPython.core.display.Math object>"
      ]
     },
     "metadata": {},
     "output_type": "display_data"
    },
    {
     "name": "stdout",
     "output_type": "stream",
     "text": [
      "Salida counts = {'1': 1}\n",
      "Given the former angle theta and quantum state, the new prediction is:\n",
      "Prediction = 1\n",
      "int(Prediction) = 1 \n",
      "\n",
      "Overall Probability = -0.533563766985083\n"
     ]
    },
    {
     "data": {
      "text/latex": [
       "$\\displaystyle \n",
       "$$ |\\psi\\rangle =\\begin{bmatrix}\n",
       "-0.74339 \\\\\n",
       "0.66886\\end{bmatrix} $"
      ],
      "text/plain": [
       "<IPython.core.display.Math object>"
      ]
     },
     "metadata": {},
     "output_type": "display_data"
    },
    {
     "name": "stdout",
     "output_type": "stream",
     "text": [
      "Salida counts = {'0': 1}\n",
      "Given the former angle theta and quantum state, the new prediction is:\n",
      "Prediction = 0\n",
      "int(Prediction) = 0 \n",
      "\n",
      "Overall Probability = -0.4943244569516302\n"
     ]
    },
    {
     "data": {
      "text/latex": [
       "$\\displaystyle \n",
       "$$ |\\psi\\rangle =\\begin{bmatrix}\n",
       "-0.70077 \\\\\n",
       "0.71338\\end{bmatrix} $"
      ],
      "text/plain": [
       "<IPython.core.display.Math object>"
      ]
     },
     "metadata": {},
     "output_type": "display_data"
    },
    {
     "name": "stdout",
     "output_type": "stream",
     "text": [
      "Salida counts = {'1': 1}\n",
      "Given the former angle theta and quantum state, the new prediction is:\n",
      "Prediction = 1\n",
      "int(Prediction) = 1 \n",
      "\n",
      "Overall Probability = -0.4481204294512515\n"
     ]
    },
    {
     "data": {
      "text/latex": [
       "$\\displaystyle \n",
       "$$ |\\psi\\rangle =\\begin{bmatrix}\n",
       "-0.64720 \\\\\n",
       "0.76232\\end{bmatrix} $"
      ],
      "text/plain": [
       "<IPython.core.display.Math object>"
      ]
     },
     "metadata": {},
     "output_type": "display_data"
    },
    {
     "name": "stdout",
     "output_type": "stream",
     "text": [
      "Salida counts = {'1': 1}\n",
      "Given the former angle theta and quantum state, the new prediction is:\n",
      "Prediction = 1\n",
      "int(Prediction) = 1 \n",
      "\n",
      "Overall Probability = -0.8676879196261849\n"
     ]
    },
    {
     "data": {
      "text/latex": [
       "$\\displaystyle \n",
       "$$ |\\psi\\rangle =\\begin{bmatrix}\n",
       "-0.97848 \\\\\n",
       "0.20634\\end{bmatrix} $"
      ],
      "text/plain": [
       "<IPython.core.display.Math object>"
      ]
     },
     "metadata": {},
     "output_type": "display_data"
    },
    {
     "name": "stdout",
     "output_type": "stream",
     "text": [
      "Salida counts = {'0': 1}\n",
      "Given the former angle theta and quantum state, the new prediction is:\n",
      "Prediction = 0\n",
      "int(Prediction) = 0 \n",
      "\n",
      "Overall Probability = -0.5310340614594362\n"
     ]
    },
    {
     "data": {
      "text/latex": [
       "$\\displaystyle \n",
       "$$ |\\psi\\rangle =\\begin{bmatrix}\n",
       "-0.74072 \\\\\n",
       "0.67181\\end{bmatrix} $"
      ],
      "text/plain": [
       "<IPython.core.display.Math object>"
      ]
     },
     "metadata": {},
     "output_type": "display_data"
    },
    {
     "name": "stdout",
     "output_type": "stream",
     "text": [
      "Salida counts = {'0': 1}\n",
      "Given the former angle theta and quantum state, the new prediction is:\n",
      "Prediction = 0\n",
      "int(Prediction) = 0 \n",
      "\n",
      "Overall Probability = -0.6957342983787379\n"
     ]
    },
    {
     "data": {
      "text/latex": [
       "$\\displaystyle \n",
       "$$ |\\psi\\rangle =\\begin{bmatrix}\n",
       "-0.88794 \\\\\n",
       "0.45995\\end{bmatrix} $"
      ],
      "text/plain": [
       "<IPython.core.display.Math object>"
      ]
     },
     "metadata": {},
     "output_type": "display_data"
    },
    {
     "name": "stdout",
     "output_type": "stream",
     "text": [
      "Salida counts = {'0': 1}\n",
      "Given the former angle theta and quantum state, the new prediction is:\n",
      "Prediction = 0\n",
      "int(Prediction) = 0 \n",
      "\n",
      "Overall Probability = -0.8852815489684877\n"
     ]
    },
    {
     "data": {
      "text/latex": [
       "$\\displaystyle \n",
       "$$ |\\psi\\rangle =\\begin{bmatrix}\n",
       "-0.98381 \\\\\n",
       "0.17923\\end{bmatrix} $"
      ],
      "text/plain": [
       "<IPython.core.display.Math object>"
      ]
     },
     "metadata": {},
     "output_type": "display_data"
    },
    {
     "name": "stdout",
     "output_type": "stream",
     "text": [
      "Salida counts = {'0': 1}\n",
      "Given the former angle theta and quantum state, the new prediction is:\n",
      "Prediction = 0\n",
      "int(Prediction) = 0 \n",
      "\n",
      "Overall Probability = -1.047416982715835\n"
     ]
    },
    {
     "data": {
      "text/latex": [
       "$\\displaystyle \n",
       "$$ |\\psi\\rangle =\\begin{bmatrix}\n",
       "-0.99723 \\\\\n",
       "-0.07441\\end{bmatrix} $"
      ],
      "text/plain": [
       "<IPython.core.display.Math object>"
      ]
     },
     "metadata": {},
     "output_type": "display_data"
    },
    {
     "name": "stdout",
     "output_type": "stream",
     "text": [
      "Salida counts = {'0': 1}\n",
      "Given the former angle theta and quantum state, the new prediction is:\n",
      "Prediction = 0\n",
      "int(Prediction) = 0 \n",
      "\n",
      "Overall Probability = -0.9593857365508534\n"
     ]
    },
    {
     "data": {
      "text/latex": [
       "$\\displaystyle \n",
       "$$ |\\psi\\rangle =\\begin{bmatrix}\n",
       "-0.99797 \\\\\n",
       "0.06375\\end{bmatrix} $"
      ],
      "text/plain": [
       "<IPython.core.display.Math object>"
      ]
     },
     "metadata": {},
     "output_type": "display_data"
    },
    {
     "name": "stdout",
     "output_type": "stream",
     "text": [
      "Salida counts = {'0': 1}\n",
      "Given the former angle theta and quantum state, the new prediction is:\n",
      "Prediction = 0\n",
      "int(Prediction) = 0 \n",
      "\n",
      "Overall Probability = 0.0710203731179615\n"
     ]
    },
    {
     "data": {
      "text/latex": [
       "$\\displaystyle \n",
       "$$ |\\psi\\rangle =\\begin{bmatrix}\n",
       "0.11133 \\\\\n",
       "0.99378\\end{bmatrix} $"
      ],
      "text/plain": [
       "<IPython.core.display.Math object>"
      ]
     },
     "metadata": {},
     "output_type": "display_data"
    },
    {
     "name": "stdout",
     "output_type": "stream",
     "text": [
      "Salida counts = {'1': 1}\n",
      "Given the former angle theta and quantum state, the new prediction is:\n",
      "Prediction = 1\n",
      "int(Prediction) = 1 \n",
      "\n",
      "Overall Probability = -1.0223439832292764\n"
     ]
    },
    {
     "data": {
      "text/latex": [
       "$\\displaystyle \n",
       "$$ |\\psi\\rangle =\\begin{bmatrix}\n",
       "-0.99938 \\\\\n",
       "-0.03509\\end{bmatrix} $"
      ],
      "text/plain": [
       "<IPython.core.display.Math object>"
      ]
     },
     "metadata": {},
     "output_type": "display_data"
    },
    {
     "name": "stdout",
     "output_type": "stream",
     "text": [
      "Salida counts = {'0': 1}\n",
      "Given the former angle theta and quantum state, the new prediction is:\n",
      "Prediction = 0\n",
      "int(Prediction) = 0 \n",
      "\n",
      "Overall Probability = -0.8305379630518301\n"
     ]
    },
    {
     "data": {
      "text/latex": [
       "$\\displaystyle \n",
       "$$ |\\psi\\rangle =\\begin{bmatrix}\n",
       "-0.96478 \\\\\n",
       "0.26306\\end{bmatrix} $"
      ],
      "text/plain": [
       "<IPython.core.display.Math object>"
      ]
     },
     "metadata": {},
     "output_type": "display_data"
    },
    {
     "name": "stdout",
     "output_type": "stream",
     "text": [
      "Salida counts = {'0': 1}\n",
      "Given the former angle theta and quantum state, the new prediction is:\n",
      "Prediction = 0\n",
      "int(Prediction) = 0 \n",
      "\n",
      "Overall Probability = -0.8755117314708007\n"
     ]
    },
    {
     "data": {
      "text/latex": [
       "$\\displaystyle \n",
       "$$ |\\psi\\rangle =\\begin{bmatrix}\n",
       "-0.98094 \\\\\n",
       "0.19430\\end{bmatrix} $"
      ],
      "text/plain": [
       "<IPython.core.display.Math object>"
      ]
     },
     "metadata": {},
     "output_type": "display_data"
    },
    {
     "name": "stdout",
     "output_type": "stream",
     "text": [
      "Salida counts = {'0': 1}\n",
      "Given the former angle theta and quantum state, the new prediction is:\n",
      "Prediction = 0\n",
      "int(Prediction) = 0 \n",
      "\n",
      "Overall Probability = -0.7059320677000606\n"
     ]
    },
    {
     "data": {
      "text/latex": [
       "$\\displaystyle \n",
       "$$ |\\psi\\rangle =\\begin{bmatrix}\n",
       "-0.89520 \\\\\n",
       "0.44567\\end{bmatrix} $"
      ],
      "text/plain": [
       "<IPython.core.display.Math object>"
      ]
     },
     "metadata": {},
     "output_type": "display_data"
    },
    {
     "name": "stdout",
     "output_type": "stream",
     "text": [
      "Salida counts = {'0': 1}\n",
      "Given the former angle theta and quantum state, the new prediction is:\n",
      "Prediction = 0\n",
      "int(Prediction) = 0 \n",
      "\n",
      "Overall Probability = -0.8367746968653772\n"
     ]
    },
    {
     "data": {
      "text/latex": [
       "$\\displaystyle \n",
       "$$ |\\psi\\rangle =\\begin{bmatrix}\n",
       "-0.96731 \\\\\n",
       "0.25359\\end{bmatrix} $"
      ],
      "text/plain": [
       "<IPython.core.display.Math object>"
      ]
     },
     "metadata": {},
     "output_type": "display_data"
    },
    {
     "name": "stdout",
     "output_type": "stream",
     "text": [
      "Salida counts = {'0': 1}\n",
      "Given the former angle theta and quantum state, the new prediction is:\n",
      "Prediction = 0\n",
      "int(Prediction) = 0 \n",
      "\n",
      "Overall Probability = -0.5175159481599552\n"
     ]
    },
    {
     "data": {
      "text/latex": [
       "$\\displaystyle \n",
       "$$ |\\psi\\rangle =\\begin{bmatrix}\n",
       "-0.72629 \\\\\n",
       "0.68739\\end{bmatrix} $"
      ],
      "text/plain": [
       "<IPython.core.display.Math object>"
      ]
     },
     "metadata": {},
     "output_type": "display_data"
    },
    {
     "name": "stdout",
     "output_type": "stream",
     "text": [
      "Salida counts = {'1': 1}\n",
      "Given the former angle theta and quantum state, the new prediction is:\n",
      "Prediction = 1\n",
      "int(Prediction) = 1 \n",
      "\n",
      "Overall Probability = -0.420122189632138\n"
     ]
    },
    {
     "data": {
      "text/latex": [
       "$\\displaystyle \n",
       "$$ |\\psi\\rangle =\\begin{bmatrix}\n",
       "-0.61306 \\\\\n",
       "0.79004\\end{bmatrix} $"
      ],
      "text/plain": [
       "<IPython.core.display.Math object>"
      ]
     },
     "metadata": {},
     "output_type": "display_data"
    },
    {
     "name": "stdout",
     "output_type": "stream",
     "text": [
      "Salida counts = {'1': 1}\n",
      "Given the former angle theta and quantum state, the new prediction is:\n",
      "Prediction = 1\n",
      "int(Prediction) = 1 \n",
      "\n",
      "Overall Probability = -1.0518291583599517\n"
     ]
    },
    {
     "data": {
      "text/latex": [
       "$\\displaystyle \n",
       "$$ |\\psi\\rangle =\\begin{bmatrix}\n",
       "-0.99669 \\\\\n",
       "-0.08132\\end{bmatrix} $"
      ],
      "text/plain": [
       "<IPython.core.display.Math object>"
      ]
     },
     "metadata": {},
     "output_type": "display_data"
    },
    {
     "name": "stdout",
     "output_type": "stream",
     "text": [
      "Salida counts = {'0': 1}\n",
      "Given the former angle theta and quantum state, the new prediction is:\n",
      "Prediction = 0\n",
      "int(Prediction) = 0 \n",
      "\n",
      "Overall Probability = -1.038475213418698\n"
     ]
    },
    {
     "data": {
      "text/latex": [
       "$\\displaystyle \n",
       "$$ |\\psi\\rangle =\\begin{bmatrix}\n",
       "-0.99817 \\\\\n",
       "-0.06040\\end{bmatrix} $"
      ],
      "text/plain": [
       "<IPython.core.display.Math object>"
      ]
     },
     "metadata": {},
     "output_type": "display_data"
    },
    {
     "name": "stdout",
     "output_type": "stream",
     "text": [
      "Salida counts = {'0': 1}\n",
      "Given the former angle theta and quantum state, the new prediction is:\n",
      "Prediction = 0\n",
      "int(Prediction) = 0 \n",
      "\n",
      "Overall Probability = -0.32493382168268836\n"
     ]
    },
    {
     "data": {
      "text/latex": [
       "$\\displaystyle \n",
       "$$ |\\psi\\rangle =\\begin{bmatrix}\n",
       "-0.48853 \\\\\n",
       "0.87255\\end{bmatrix} $"
      ],
      "text/plain": [
       "<IPython.core.display.Math object>"
      ]
     },
     "metadata": {},
     "output_type": "display_data"
    },
    {
     "name": "stdout",
     "output_type": "stream",
     "text": [
      "Salida counts = {'1': 1}\n",
      "Given the former angle theta and quantum state, the new prediction is:\n",
      "Prediction = 1\n",
      "int(Prediction) = 1 \n",
      "\n",
      "Overall Probability = -0.5053414401158522\n"
     ]
    },
    {
     "data": {
      "text/latex": [
       "$\\displaystyle \n",
       "$$ |\\psi\\rangle =\\begin{bmatrix}\n",
       "-0.71301 \\\\\n",
       "0.70115\\end{bmatrix} $"
      ],
      "text/plain": [
       "<IPython.core.display.Math object>"
      ]
     },
     "metadata": {},
     "output_type": "display_data"
    },
    {
     "name": "stdout",
     "output_type": "stream",
     "text": [
      "Salida counts = {'0': 1}\n",
      "Given the former angle theta and quantum state, the new prediction is:\n",
      "Prediction = 0\n",
      "int(Prediction) = 0 \n",
      "\n",
      "Overall Probability = 0.1557279291839773\n"
     ]
    },
    {
     "data": {
      "text/latex": [
       "$\\displaystyle \n",
       "$$ |\\psi\\rangle =\\begin{bmatrix}\n",
       "0.24218 \\\\\n",
       "0.97023\\end{bmatrix} $"
      ],
      "text/plain": [
       "<IPython.core.display.Math object>"
      ]
     },
     "metadata": {},
     "output_type": "display_data"
    },
    {
     "name": "stdout",
     "output_type": "stream",
     "text": [
      "Salida counts = {'1': 1}\n",
      "Given the former angle theta and quantum state, the new prediction is:\n",
      "Prediction = 1\n",
      "int(Prediction) = 1 \n",
      "\n",
      "Overall Probability = -0.8676437009935944\n"
     ]
    },
    {
     "data": {
      "text/latex": [
       "$\\displaystyle \n",
       "$$ |\\psi\\rangle =\\begin{bmatrix}\n",
       "-0.97847 \\\\\n",
       "0.20641\\end{bmatrix} $"
      ],
      "text/plain": [
       "<IPython.core.display.Math object>"
      ]
     },
     "metadata": {},
     "output_type": "display_data"
    },
    {
     "name": "stdout",
     "output_type": "stream",
     "text": [
      "Salida counts = {'0': 1}\n",
      "Given the former angle theta and quantum state, the new prediction is:\n",
      "Prediction = 0\n",
      "int(Prediction) = 0 \n",
      "\n",
      "Overall Probability = -0.5328365962707913\n"
     ]
    },
    {
     "data": {
      "text/latex": [
       "$\\displaystyle \n",
       "$$ |\\psi\\rangle =\\begin{bmatrix}\n",
       "-0.74262 \\\\\n",
       "0.66971\\end{bmatrix} $"
      ],
      "text/plain": [
       "<IPython.core.display.Math object>"
      ]
     },
     "metadata": {},
     "output_type": "display_data"
    },
    {
     "name": "stdout",
     "output_type": "stream",
     "text": [
      "Salida counts = {'0': 1}\n",
      "Given the former angle theta and quantum state, the new prediction is:\n",
      "Prediction = 0\n",
      "int(Prediction) = 0 \n",
      "\n",
      "Overall Probability = -0.45903662642643095\n"
     ]
    },
    {
     "data": {
      "text/latex": [
       "$\\displaystyle \n",
       "$$ |\\psi\\rangle =\\begin{bmatrix}\n",
       "-0.66018 \\\\\n",
       "0.75111\\end{bmatrix} $"
      ],
      "text/plain": [
       "<IPython.core.display.Math object>"
      ]
     },
     "metadata": {},
     "output_type": "display_data"
    },
    {
     "name": "stdout",
     "output_type": "stream",
     "text": [
      "Salida counts = {'1': 1}\n",
      "Given the former angle theta and quantum state, the new prediction is:\n",
      "Prediction = 1\n",
      "int(Prediction) = 1 \n",
      "\n",
      "Overall Probability = -0.8165049394733055\n"
     ]
    },
    {
     "data": {
      "text/latex": [
       "$\\displaystyle \n",
       "$$ |\\psi\\rangle =\\begin{bmatrix}\n",
       "-0.95875 \\\\\n",
       "0.28426\\end{bmatrix} $"
      ],
      "text/plain": [
       "<IPython.core.display.Math object>"
      ]
     },
     "metadata": {},
     "output_type": "display_data"
    },
    {
     "name": "stdout",
     "output_type": "stream",
     "text": [
      "Salida counts = {'0': 1}\n",
      "Given the former angle theta and quantum state, the new prediction is:\n",
      "Prediction = 0\n",
      "int(Prediction) = 0 \n",
      "\n",
      "Overall Probability = -1.0502742338567193\n"
     ]
    },
    {
     "data": {
      "text/latex": [
       "$\\displaystyle \n",
       "$$ |\\psi\\rangle =\\begin{bmatrix}\n",
       "-0.99688 \\\\\n",
       "-0.07889\\end{bmatrix} $"
      ],
      "text/plain": [
       "<IPython.core.display.Math object>"
      ]
     },
     "metadata": {},
     "output_type": "display_data"
    },
    {
     "name": "stdout",
     "output_type": "stream",
     "text": [
      "Salida counts = {'0': 1}\n",
      "Given the former angle theta and quantum state, the new prediction is:\n",
      "Prediction = 0\n",
      "int(Prediction) = 0 \n",
      "\n",
      "Overall Probability = -1.0072235354064392\n"
     ]
    },
    {
     "data": {
      "text/latex": [
       "$\\displaystyle \n",
       "$$ |\\psi\\rangle =\\begin{bmatrix}\n",
       "-0.99994 \\\\\n",
       "-0.01135\\end{bmatrix} $"
      ],
      "text/plain": [
       "<IPython.core.display.Math object>"
      ]
     },
     "metadata": {},
     "output_type": "display_data"
    },
    {
     "name": "stdout",
     "output_type": "stream",
     "text": [
      "Salida counts = {'0': 1}\n",
      "Given the former angle theta and quantum state, the new prediction is:\n",
      "Prediction = 0\n",
      "int(Prediction) = 0 \n",
      "\n",
      "Overall Probability = -1.048731936210363\n"
     ]
    },
    {
     "data": {
      "text/latex": [
       "$\\displaystyle \n",
       "$$ |\\psi\\rangle =\\begin{bmatrix}\n",
       "-0.99707 \\\\\n",
       "-0.07647\\end{bmatrix} $"
      ],
      "text/plain": [
       "<IPython.core.display.Math object>"
      ]
     },
     "metadata": {},
     "output_type": "display_data"
    },
    {
     "name": "stdout",
     "output_type": "stream",
     "text": [
      "Salida counts = {'0': 1}\n",
      "Given the former angle theta and quantum state, the new prediction is:\n",
      "Prediction = 0\n",
      "int(Prediction) = 0 \n",
      "\n",
      "Overall Probability = -0.6897904562316651\n"
     ]
    },
    {
     "data": {
      "text/latex": [
       "$\\displaystyle \n",
       "$$ |\\psi\\rangle =\\begin{bmatrix}\n",
       "-0.88361 \\\\\n",
       "0.46822\\end{bmatrix} $"
      ],
      "text/plain": [
       "<IPython.core.display.Math object>"
      ]
     },
     "metadata": {},
     "output_type": "display_data"
    },
    {
     "name": "stdout",
     "output_type": "stream",
     "text": [
      "Salida counts = {'1': 1}\n",
      "Given the former angle theta and quantum state, the new prediction is:\n",
      "Prediction = 1\n",
      "int(Prediction) = 1 \n",
      "\n",
      "Overall Probability = -1.0540560986945335\n"
     ]
    },
    {
     "data": {
      "text/latex": [
       "$\\displaystyle \n",
       "$$ |\\psi\\rangle =\\begin{bmatrix}\n",
       "-0.99640 \\\\\n",
       "-0.08481\\end{bmatrix} $"
      ],
      "text/plain": [
       "<IPython.core.display.Math object>"
      ]
     },
     "metadata": {},
     "output_type": "display_data"
    },
    {
     "name": "stdout",
     "output_type": "stream",
     "text": [
      "Salida counts = {'0': 1}\n",
      "Given the former angle theta and quantum state, the new prediction is:\n",
      "Prediction = 0\n",
      "int(Prediction) = 0 \n",
      "\n",
      "Overall Probability = -0.48064341476070177\n"
     ]
    },
    {
     "data": {
      "text/latex": [
       "$\\displaystyle \n",
       "$$ |\\psi\\rangle =\\begin{bmatrix}\n",
       "-0.68528 \\\\\n",
       "0.72828\\end{bmatrix} $"
      ],
      "text/plain": [
       "<IPython.core.display.Math object>"
      ]
     },
     "metadata": {},
     "output_type": "display_data"
    },
    {
     "name": "stdout",
     "output_type": "stream",
     "text": [
      "Salida counts = {'0': 1}\n",
      "Given the former angle theta and quantum state, the new prediction is:\n",
      "Prediction = 0\n",
      "int(Prediction) = 0 \n",
      "\n",
      "Overall Probability = -0.9478702756442331\n"
     ]
    },
    {
     "data": {
      "text/latex": [
       "$\\displaystyle \n",
       "$$ |\\psi\\rangle =\\begin{bmatrix}\n",
       "-0.99665 \\\\\n",
       "0.08179\\end{bmatrix} $"
      ],
      "text/plain": [
       "<IPython.core.display.Math object>"
      ]
     },
     "metadata": {},
     "output_type": "display_data"
    },
    {
     "name": "stdout",
     "output_type": "stream",
     "text": [
      "Salida counts = {'0': 1}\n",
      "Given the former angle theta and quantum state, the new prediction is:\n",
      "Prediction = 0\n",
      "int(Prediction) = 0 \n",
      "\n",
      "Overall Probability = -0.8268262216432496\n"
     ]
    },
    {
     "data": {
      "text/latex": [
       "$\\displaystyle \n",
       "$$ |\\psi\\rangle =\\begin{bmatrix}\n",
       "-0.96323 \\\\\n",
       "0.26868\\end{bmatrix} $"
      ],
      "text/plain": [
       "<IPython.core.display.Math object>"
      ]
     },
     "metadata": {},
     "output_type": "display_data"
    },
    {
     "name": "stdout",
     "output_type": "stream",
     "text": [
      "Salida counts = {'0': 1}\n",
      "Given the former angle theta and quantum state, the new prediction is:\n",
      "Prediction = 0\n",
      "int(Prediction) = 0 \n",
      "\n",
      "Overall Probability = -1.0491114720193735\n"
     ]
    },
    {
     "data": {
      "text/latex": [
       "$\\displaystyle \n",
       "$$ |\\psi\\rangle =\\begin{bmatrix}\n",
       "-0.99703 \\\\\n",
       "-0.07707\\end{bmatrix} $"
      ],
      "text/plain": [
       "<IPython.core.display.Math object>"
      ]
     },
     "metadata": {},
     "output_type": "display_data"
    },
    {
     "name": "stdout",
     "output_type": "stream",
     "text": [
      "Salida counts = {'0': 1}\n",
      "Given the former angle theta and quantum state, the new prediction is:\n",
      "Prediction = 0\n",
      "int(Prediction) = 0 \n",
      "\n",
      "Overall Probability = -0.35540816109327733\n"
     ]
    },
    {
     "data": {
      "text/latex": [
       "$\\displaystyle \n",
       "$$ |\\psi\\rangle =\\begin{bmatrix}\n",
       "-0.52972 \\\\\n",
       "0.84817\\end{bmatrix} $"
      ],
      "text/plain": [
       "<IPython.core.display.Math object>"
      ]
     },
     "metadata": {},
     "output_type": "display_data"
    },
    {
     "name": "stdout",
     "output_type": "stream",
     "text": [
      "Salida counts = {'1': 1}\n",
      "Given the former angle theta and quantum state, the new prediction is:\n",
      "Prediction = 1\n",
      "int(Prediction) = 1 \n",
      "\n",
      "Overall Probability = -1.0513529673879412\n"
     ]
    },
    {
     "data": {
      "text/latex": [
       "$\\displaystyle \n",
       "$$ |\\psi\\rangle =\\begin{bmatrix}\n",
       "-0.99675 \\\\\n",
       "-0.08058\\end{bmatrix} $"
      ],
      "text/plain": [
       "<IPython.core.display.Math object>"
      ]
     },
     "metadata": {},
     "output_type": "display_data"
    },
    {
     "name": "stdout",
     "output_type": "stream",
     "text": [
      "Salida counts = {'0': 1}\n",
      "Given the former angle theta and quantum state, the new prediction is:\n",
      "Prediction = 0\n",
      "int(Prediction) = 0 \n",
      "\n",
      "Overall Probability = -0.38971828977264145\n"
     ]
    },
    {
     "data": {
      "text/latex": [
       "$\\displaystyle \n",
       "$$ |\\psi\\rangle =\\begin{bmatrix}\n",
       "-0.57464 \\\\\n",
       "0.81840\\end{bmatrix} $"
      ],
      "text/plain": [
       "<IPython.core.display.Math object>"
      ]
     },
     "metadata": {},
     "output_type": "display_data"
    },
    {
     "name": "stdout",
     "output_type": "stream",
     "text": [
      "Salida counts = {'1': 1}\n",
      "Given the former angle theta and quantum state, the new prediction is:\n",
      "Prediction = 1\n",
      "int(Prediction) = 1 \n",
      "\n",
      "Overall Probability = -0.9709584098417745\n"
     ]
    },
    {
     "data": {
      "text/latex": [
       "$\\displaystyle \n",
       "$$ |\\psi\\rangle =\\begin{bmatrix}\n",
       "-0.99896 \\\\\n",
       "0.04560\\end{bmatrix} $"
      ],
      "text/plain": [
       "<IPython.core.display.Math object>"
      ]
     },
     "metadata": {},
     "output_type": "display_data"
    },
    {
     "name": "stdout",
     "output_type": "stream",
     "text": [
      "Salida counts = {'0': 1}\n",
      "Given the former angle theta and quantum state, the new prediction is:\n",
      "Prediction = 0\n",
      "int(Prediction) = 0 \n",
      "\n",
      "Overall Probability = -0.46142527150921486\n"
     ]
    },
    {
     "data": {
      "text/latex": [
       "$\\displaystyle \n",
       "$$ |\\psi\\rangle =\\begin{bmatrix}\n",
       "-0.66299 \\\\\n",
       "0.74863\\end{bmatrix} $"
      ],
      "text/plain": [
       "<IPython.core.display.Math object>"
      ]
     },
     "metadata": {},
     "output_type": "display_data"
    },
    {
     "name": "stdout",
     "output_type": "stream",
     "text": [
      "Salida counts = {'0': 1}\n",
      "Given the former angle theta and quantum state, the new prediction is:\n",
      "Prediction = 0\n",
      "int(Prediction) = 0 \n",
      "\n",
      "Overall Probability = -0.3126229624481223\n"
     ]
    },
    {
     "data": {
      "text/latex": [
       "$\\displaystyle \n",
       "$$ |\\psi\\rangle =\\begin{bmatrix}\n",
       "-0.47157 \\\\\n",
       "0.88183\\end{bmatrix} $"
      ],
      "text/plain": [
       "<IPython.core.display.Math object>"
      ]
     },
     "metadata": {},
     "output_type": "display_data"
    },
    {
     "name": "stdout",
     "output_type": "stream",
     "text": [
      "Salida counts = {'1': 1}\n",
      "Given the former angle theta and quantum state, the new prediction is:\n",
      "Prediction = 1\n",
      "int(Prediction) = 1 \n",
      "\n",
      "Overall Probability = -0.46558323433469284\n"
     ]
    },
    {
     "data": {
      "text/latex": [
       "$\\displaystyle \n",
       "$$ |\\psi\\rangle =\\begin{bmatrix}\n",
       "-0.66786 \\\\\n",
       "0.74428\\end{bmatrix} $"
      ],
      "text/plain": [
       "<IPython.core.display.Math object>"
      ]
     },
     "metadata": {},
     "output_type": "display_data"
    },
    {
     "name": "stdout",
     "output_type": "stream",
     "text": [
      "Salida counts = {'1': 1}\n",
      "Given the former angle theta and quantum state, the new prediction is:\n",
      "Prediction = 1\n",
      "int(Prediction) = 1 \n",
      "\n",
      "Overall Probability = -0.9585424073022515\n"
     ]
    },
    {
     "data": {
      "text/latex": [
       "$\\displaystyle \n",
       "$$ |\\psi\\rangle =\\begin{bmatrix}\n",
       "-0.99788 \\\\\n",
       "0.06508\\end{bmatrix} $"
      ],
      "text/plain": [
       "<IPython.core.display.Math object>"
      ]
     },
     "metadata": {},
     "output_type": "display_data"
    },
    {
     "name": "stdout",
     "output_type": "stream",
     "text": [
      "Salida counts = {'0': 1}\n",
      "Given the former angle theta and quantum state, the new prediction is:\n",
      "Prediction = 0\n",
      "int(Prediction) = 0 \n",
      "\n",
      "Overall Probability = -1.0273848369206953\n"
     ]
    },
    {
     "data": {
      "text/latex": [
       "$\\displaystyle \n",
       "$$ |\\psi\\rangle =\\begin{bmatrix}\n",
       "-0.99907 \\\\\n",
       "-0.04300\\end{bmatrix} $"
      ],
      "text/plain": [
       "<IPython.core.display.Math object>"
      ]
     },
     "metadata": {},
     "output_type": "display_data"
    },
    {
     "name": "stdout",
     "output_type": "stream",
     "text": [
      "Salida counts = {'0': 1}\n",
      "Given the former angle theta and quantum state, the new prediction is:\n",
      "Prediction = 0\n",
      "int(Prediction) = 0 \n",
      "\n",
      "Overall Probability = -0.2978533259314654\n"
     ]
    },
    {
     "data": {
      "text/latex": [
       "$\\displaystyle \n",
       "$$ |\\psi\\rangle =\\begin{bmatrix}\n",
       "-0.45098 \\\\\n",
       "0.89253\\end{bmatrix} $"
      ],
      "text/plain": [
       "<IPython.core.display.Math object>"
      ]
     },
     "metadata": {},
     "output_type": "display_data"
    },
    {
     "name": "stdout",
     "output_type": "stream",
     "text": [
      "Salida counts = {'1': 1}\n",
      "Given the former angle theta and quantum state, the new prediction is:\n",
      "Prediction = 1\n",
      "int(Prediction) = 1 \n",
      "\n",
      "Overall Probability = -1.0517163619394672\n"
     ]
    },
    {
     "data": {
      "text/latex": [
       "$\\displaystyle \n",
       "$$ |\\psi\\rangle =\\begin{bmatrix}\n",
       "-0.99670 \\\\\n",
       "-0.08115\\end{bmatrix} $"
      ],
      "text/plain": [
       "<IPython.core.display.Math object>"
      ]
     },
     "metadata": {},
     "output_type": "display_data"
    },
    {
     "name": "stdout",
     "output_type": "stream",
     "text": [
      "Salida counts = {'0': 1}\n",
      "Given the former angle theta and quantum state, the new prediction is:\n",
      "Prediction = 0\n",
      "int(Prediction) = 0 \n",
      "\n",
      "Overall Probability = -0.13874644754652127\n"
     ]
    },
    {
     "data": {
      "text/latex": [
       "$\\displaystyle \n",
       "$$ |\\psi\\rangle =\\begin{bmatrix}\n",
       "-0.21622 \\\\\n",
       "0.97634\\end{bmatrix} $"
      ],
      "text/plain": [
       "<IPython.core.display.Math object>"
      ]
     },
     "metadata": {},
     "output_type": "display_data"
    },
    {
     "name": "stdout",
     "output_type": "stream",
     "text": [
      "Salida counts = {'1': 1}\n",
      "Given the former angle theta and quantum state, the new prediction is:\n",
      "Prediction = 1\n",
      "int(Prediction) = 1 \n",
      "\n",
      "Overall Probability = -1.0510378119847898\n"
     ]
    },
    {
     "data": {
      "text/latex": [
       "$\\displaystyle \n",
       "$$ |\\psi\\rangle =\\begin{bmatrix}\n",
       "-0.99679 \\\\\n",
       "-0.08008\\end{bmatrix} $"
      ],
      "text/plain": [
       "<IPython.core.display.Math object>"
      ]
     },
     "metadata": {},
     "output_type": "display_data"
    },
    {
     "name": "stdout",
     "output_type": "stream",
     "text": [
      "Salida counts = {'0': 1}\n",
      "Given the former angle theta and quantum state, the new prediction is:\n",
      "Prediction = 0\n",
      "int(Prediction) = 0 \n",
      "\n",
      "Overall Probability = -1.0584474218261266\n"
     ]
    },
    {
     "data": {
      "text/latex": [
       "$\\displaystyle \n",
       "$$ |\\psi\\rangle =\\begin{bmatrix}\n",
       "-0.99579 \\\\\n",
       "-0.09168\\end{bmatrix} $"
      ],
      "text/plain": [
       "<IPython.core.display.Math object>"
      ]
     },
     "metadata": {},
     "output_type": "display_data"
    },
    {
     "name": "stdout",
     "output_type": "stream",
     "text": [
      "Salida counts = {'0': 1}\n",
      "Given the former angle theta and quantum state, the new prediction is:\n",
      "Prediction = 0\n",
      "int(Prediction) = 0 \n",
      "\n",
      "Overall Probability = -0.6933394386405305\n"
     ]
    },
    {
     "data": {
      "text/latex": [
       "$\\displaystyle \n",
       "$$ |\\psi\\rangle =\\begin{bmatrix}\n",
       "-0.88621 \\\\\n",
       "0.46329\\end{bmatrix} $"
      ],
      "text/plain": [
       "<IPython.core.display.Math object>"
      ]
     },
     "metadata": {},
     "output_type": "display_data"
    },
    {
     "name": "stdout",
     "output_type": "stream",
     "text": [
      "Salida counts = {'0': 1}\n",
      "Given the former angle theta and quantum state, the new prediction is:\n",
      "Prediction = 0\n",
      "int(Prediction) = 0 \n",
      "\n",
      "Overall Probability = -1.0487603673929442\n"
     ]
    },
    {
     "data": {
      "text/latex": [
       "$\\displaystyle \n",
       "$$ |\\psi\\rangle =\\begin{bmatrix}\n",
       "-0.99707 \\\\\n",
       "-0.07652\\end{bmatrix} $"
      ],
      "text/plain": [
       "<IPython.core.display.Math object>"
      ]
     },
     "metadata": {},
     "output_type": "display_data"
    },
    {
     "name": "stdout",
     "output_type": "stream",
     "text": [
      "Salida counts = {'0': 1}\n",
      "Given the former angle theta and quantum state, the new prediction is:\n",
      "Prediction = 0\n",
      "int(Prediction) = 0 \n",
      "\n",
      "Overall Probability = -1.049716561011724\n"
     ]
    },
    {
     "data": {
      "text/latex": [
       "$\\displaystyle \n",
       "$$ |\\psi\\rangle =\\begin{bmatrix}\n",
       "-0.99695 \\\\\n",
       "-0.07802\\end{bmatrix} $"
      ],
      "text/plain": [
       "<IPython.core.display.Math object>"
      ]
     },
     "metadata": {},
     "output_type": "display_data"
    },
    {
     "name": "stdout",
     "output_type": "stream",
     "text": [
      "Salida counts = {'0': 1}\n",
      "Given the former angle theta and quantum state, the new prediction is:\n",
      "Prediction = 0\n",
      "int(Prediction) = 0 \n",
      "\n",
      "Overall Probability = -0.35784826211639753\n"
     ]
    },
    {
     "data": {
      "text/latex": [
       "$\\displaystyle \n",
       "$$ |\\psi\\rangle =\\begin{bmatrix}\n",
       "-0.53297 \\\\\n",
       "0.84613\\end{bmatrix} $"
      ],
      "text/plain": [
       "<IPython.core.display.Math object>"
      ]
     },
     "metadata": {},
     "output_type": "display_data"
    },
    {
     "name": "stdout",
     "output_type": "stream",
     "text": [
      "Salida counts = {'1': 1}\n",
      "Given the former angle theta and quantum state, the new prediction is:\n",
      "Prediction = 1\n",
      "int(Prediction) = 1 \n",
      "\n",
      "Overall Probability = -1.0517163619394672\n"
     ]
    },
    {
     "data": {
      "text/latex": [
       "$\\displaystyle \n",
       "$$ |\\psi\\rangle =\\begin{bmatrix}\n",
       "-0.99670 \\\\\n",
       "-0.08115\\end{bmatrix} $"
      ],
      "text/plain": [
       "<IPython.core.display.Math object>"
      ]
     },
     "metadata": {},
     "output_type": "display_data"
    },
    {
     "name": "stdout",
     "output_type": "stream",
     "text": [
      "Salida counts = {'0': 1}\n",
      "Given the former angle theta and quantum state, the new prediction is:\n",
      "Prediction = 0\n",
      "int(Prediction) = 0 \n",
      "\n",
      "Overall Probability = -0.5333046062666149\n"
     ]
    },
    {
     "data": {
      "text/latex": [
       "$\\displaystyle \n",
       "$$ |\\psi\\rangle =\\begin{bmatrix}\n",
       "-0.74311 \\\\\n",
       "0.66916\\end{bmatrix} $"
      ],
      "text/plain": [
       "<IPython.core.display.Math object>"
      ]
     },
     "metadata": {},
     "output_type": "display_data"
    },
    {
     "name": "stdout",
     "output_type": "stream",
     "text": [
      "Salida counts = {'0': 1}\n",
      "Given the former angle theta and quantum state, the new prediction is:\n",
      "Prediction = 0\n",
      "int(Prediction) = 0 \n",
      "\n",
      "Overall Probability = -0.9583572259526452\n"
     ]
    },
    {
     "data": {
      "text/latex": [
       "$\\displaystyle \n",
       "$$ |\\psi\\rangle =\\begin{bmatrix}\n",
       "-0.99786 \\\\\n",
       "0.06537\\end{bmatrix} $"
      ],
      "text/plain": [
       "<IPython.core.display.Math object>"
      ]
     },
     "metadata": {},
     "output_type": "display_data"
    },
    {
     "name": "stdout",
     "output_type": "stream",
     "text": [
      "Salida counts = {'0': 1}\n",
      "Given the former angle theta and quantum state, the new prediction is:\n",
      "Prediction = 0\n",
      "int(Prediction) = 0 \n",
      "\n",
      "Overall Probability = -0.17183293067196778\n"
     ]
    },
    {
     "data": {
      "text/latex": [
       "$\\displaystyle \n",
       "$$ |\\psi\\rangle =\\begin{bmatrix}\n",
       "-0.26665 \\\\\n",
       "0.96379\\end{bmatrix} $"
      ],
      "text/plain": [
       "<IPython.core.display.Math object>"
      ]
     },
     "metadata": {},
     "output_type": "display_data"
    },
    {
     "name": "stdout",
     "output_type": "stream",
     "text": [
      "Salida counts = {'1': 1}\n",
      "Given the former angle theta and quantum state, the new prediction is:\n",
      "Prediction = 1\n",
      "int(Prediction) = 1 \n",
      "\n",
      "Overall Probability = -1.0508372362127834\n"
     ]
    },
    {
     "data": {
      "text/latex": [
       "$\\displaystyle \n",
       "$$ |\\psi\\rangle =\\begin{bmatrix}\n",
       "-0.99681 \\\\\n",
       "-0.07977\\end{bmatrix} $"
      ],
      "text/plain": [
       "<IPython.core.display.Math object>"
      ]
     },
     "metadata": {},
     "output_type": "display_data"
    },
    {
     "name": "stdout",
     "output_type": "stream",
     "text": [
      "Salida counts = {'0': 1}\n",
      "Given the former angle theta and quantum state, the new prediction is:\n",
      "Prediction = 0\n",
      "int(Prediction) = 0 \n",
      "\n",
      "Overall Probability = -0.35861975812902147\n"
     ]
    },
    {
     "data": {
      "text/latex": [
       "$\\displaystyle \n",
       "$$ |\\psi\\rangle =\\begin{bmatrix}\n",
       "-0.53399 \\\\\n",
       "0.84549\\end{bmatrix} $"
      ],
      "text/plain": [
       "<IPython.core.display.Math object>"
      ]
     },
     "metadata": {},
     "output_type": "display_data"
    },
    {
     "name": "stdout",
     "output_type": "stream",
     "text": [
      "Salida counts = {'1': 1}\n",
      "Given the former angle theta and quantum state, the new prediction is:\n",
      "Prediction = 1\n",
      "int(Prediction) = 1 \n",
      "\n",
      "Overall Probability = -0.5176506051523061\n"
     ]
    },
    {
     "data": {
      "text/latex": [
       "$\\displaystyle \n",
       "$$ |\\psi\\rangle =\\begin{bmatrix}\n",
       "-0.72644 \\\\\n",
       "0.68723\\end{bmatrix} $"
      ],
      "text/plain": [
       "<IPython.core.display.Math object>"
      ]
     },
     "metadata": {},
     "output_type": "display_data"
    },
    {
     "name": "stdout",
     "output_type": "stream",
     "text": [
      "Salida counts = {'0': 1}\n",
      "Given the former angle theta and quantum state, the new prediction is:\n",
      "Prediction = 0\n",
      "int(Prediction) = 0 \n",
      "\n",
      "Overall Probability = -0.6490590477771417\n"
     ]
    },
    {
     "data": {
      "text/latex": [
       "$\\displaystyle \n",
       "$$ |\\psi\\rangle =\\begin{bmatrix}\n",
       "-0.85187 \\\\\n",
       "0.52376\\end{bmatrix} $"
      ],
      "text/plain": [
       "<IPython.core.display.Math object>"
      ]
     },
     "metadata": {},
     "output_type": "display_data"
    },
    {
     "name": "stdout",
     "output_type": "stream",
     "text": [
      "Salida counts = {'1': 1}\n",
      "Given the former angle theta and quantum state, the new prediction is:\n",
      "Prediction = 1\n",
      "int(Prediction) = 1 \n",
      "\n",
      "Overall Probability = -0.8680504027435666\n"
     ]
    },
    {
     "data": {
      "text/latex": [
       "$\\displaystyle \n",
       "$$ |\\psi\\rangle =\\begin{bmatrix}\n",
       "-0.97860 \\\\\n",
       "0.20579\\end{bmatrix} $"
      ],
      "text/plain": [
       "<IPython.core.display.Math object>"
      ]
     },
     "metadata": {},
     "output_type": "display_data"
    },
    {
     "name": "stdout",
     "output_type": "stream",
     "text": [
      "Salida counts = {'0': 1}\n",
      "Given the former angle theta and quantum state, the new prediction is:\n",
      "Prediction = 0\n",
      "int(Prediction) = 0 \n",
      "\n",
      "Overall Probability = -0.4413594325543094\n"
     ]
    },
    {
     "data": {
      "text/latex": [
       "$\\displaystyle \n",
       "$$ |\\psi\\rangle =\\begin{bmatrix}\n",
       "-0.63907 \\\\\n",
       "0.76915\\end{bmatrix} $"
      ],
      "text/plain": [
       "<IPython.core.display.Math object>"
      ]
     },
     "metadata": {},
     "output_type": "display_data"
    },
    {
     "name": "stdout",
     "output_type": "stream",
     "text": [
      "Salida counts = {'1': 1}\n",
      "Given the former angle theta and quantum state, the new prediction is:\n",
      "Prediction = 1\n",
      "int(Prediction) = 1 \n",
      "\n",
      "Overall Probability = -0.9571016972063191\n"
     ]
    },
    {
     "data": {
      "text/latex": [
       "$\\displaystyle \n",
       "$$ |\\psi\\rangle =\\begin{bmatrix}\n",
       "-0.99773 \\\\\n",
       "0.06733\\end{bmatrix} $"
      ],
      "text/plain": [
       "<IPython.core.display.Math object>"
      ]
     },
     "metadata": {},
     "output_type": "display_data"
    },
    {
     "name": "stdout",
     "output_type": "stream",
     "text": [
      "Salida counts = {'0': 1}\n",
      "Given the former angle theta and quantum state, the new prediction is:\n",
      "Prediction = 0\n",
      "int(Prediction) = 0 \n",
      "\n",
      "Overall Probability = 0.0017828002341140625\n"
     ]
    },
    {
     "data": {
      "text/latex": [
       "$\\displaystyle \n",
       "$$ |\\psi\\rangle =\\begin{bmatrix}\n",
       "0.00280 \\\\\n",
       "1\\end{bmatrix} $"
      ],
      "text/plain": [
       "<IPython.core.display.Math object>"
      ]
     },
     "metadata": {},
     "output_type": "display_data"
    },
    {
     "name": "stdout",
     "output_type": "stream",
     "text": [
      "Salida counts = {'1': 1}\n",
      "Given the former angle theta and quantum state, the new prediction is:\n",
      "Prediction = 1\n",
      "int(Prediction) = 1 \n",
      "\n",
      "Overall Probability = -1.052868115043236\n"
     ]
    },
    {
     "data": {
      "text/latex": [
       "$\\displaystyle \n",
       "$$ |\\psi\\rangle =\\begin{bmatrix}\n",
       "-0.99655 \\\\\n",
       "-0.08295\\end{bmatrix} $"
      ],
      "text/plain": [
       "<IPython.core.display.Math object>"
      ]
     },
     "metadata": {},
     "output_type": "display_data"
    },
    {
     "name": "stdout",
     "output_type": "stream",
     "text": [
      "Salida counts = {'0': 1}\n",
      "Given the former angle theta and quantum state, the new prediction is:\n",
      "Prediction = 0\n",
      "int(Prediction) = 0 \n",
      "\n",
      "Overall Probability = -0.3640494515876703\n"
     ]
    },
    {
     "data": {
      "text/latex": [
       "$\\displaystyle \n",
       "$$ |\\psi\\rangle =\\begin{bmatrix}\n",
       "-0.54119 \\\\\n",
       "0.84090\\end{bmatrix} $"
      ],
      "text/plain": [
       "<IPython.core.display.Math object>"
      ]
     },
     "metadata": {},
     "output_type": "display_data"
    },
    {
     "name": "stdout",
     "output_type": "stream",
     "text": [
      "Salida counts = {'0': 1}\n",
      "Given the former angle theta and quantum state, the new prediction is:\n",
      "Prediction = 0\n",
      "int(Prediction) = 0 \n",
      "\n",
      "Overall Probability = -0.9597671558575133\n"
     ]
    },
    {
     "data": {
      "text/latex": [
       "$\\displaystyle \n",
       "$$ |\\psi\\rangle =\\begin{bmatrix}\n",
       "-0.99800 \\\\\n",
       "0.06316\\end{bmatrix} $"
      ],
      "text/plain": [
       "<IPython.core.display.Math object>"
      ]
     },
     "metadata": {},
     "output_type": "display_data"
    },
    {
     "name": "stdout",
     "output_type": "stream",
     "text": [
      "Salida counts = {'0': 1}\n",
      "Given the former angle theta and quantum state, the new prediction is:\n",
      "Prediction = 0\n",
      "int(Prediction) = 0 \n",
      "\n",
      "Overall Probability = -0.6971077164118272\n"
     ]
    },
    {
     "data": {
      "text/latex": [
       "$\\displaystyle \n",
       "$$ |\\psi\\rangle =\\begin{bmatrix}\n",
       "-0.88893 \\\\\n",
       "0.45803\\end{bmatrix} $"
      ],
      "text/plain": [
       "<IPython.core.display.Math object>"
      ]
     },
     "metadata": {},
     "output_type": "display_data"
    },
    {
     "name": "stdout",
     "output_type": "stream",
     "text": [
      "Salida counts = {'0': 1}\n",
      "Given the former angle theta and quantum state, the new prediction is:\n",
      "Prediction = 0\n",
      "int(Prediction) = 0 \n",
      "\n",
      "Overall Probability = -0.9884636986340726\n"
     ]
    },
    {
     "data": {
      "text/latex": [
       "$\\displaystyle \n",
       "$$ |\\psi\\rangle =\\begin{bmatrix}\n",
       "-0.99984 \\\\\n",
       "0.01812\\end{bmatrix} $"
      ],
      "text/plain": [
       "<IPython.core.display.Math object>"
      ]
     },
     "metadata": {},
     "output_type": "display_data"
    },
    {
     "name": "stdout",
     "output_type": "stream",
     "text": [
      "Salida counts = {'0': 1}\n",
      "Given the former angle theta and quantum state, the new prediction is:\n",
      "Prediction = 0\n",
      "int(Prediction) = 0 \n",
      "\n",
      "Overall Probability = -1.0518954988427216\n"
     ]
    },
    {
     "data": {
      "text/latex": [
       "$\\displaystyle \n",
       "$$ |\\psi\\rangle =\\begin{bmatrix}\n",
       "-0.99668 \\\\\n",
       "-0.08143\\end{bmatrix} $"
      ],
      "text/plain": [
       "<IPython.core.display.Math object>"
      ]
     },
     "metadata": {},
     "output_type": "display_data"
    },
    {
     "name": "stdout",
     "output_type": "stream",
     "text": [
      "Salida counts = {'0': 1}\n",
      "Given the former angle theta and quantum state, the new prediction is:\n",
      "Prediction = 0\n",
      "int(Prediction) = 0 \n",
      "\n",
      "Overall Probability = -0.3545337720907806\n"
     ]
    },
    {
     "data": {
      "text/latex": [
       "$\\displaystyle \n",
       "$$ |\\psi\\rangle =\\begin{bmatrix}\n",
       "-0.52856 \\\\\n",
       "0.84890\\end{bmatrix} $"
      ],
      "text/plain": [
       "<IPython.core.display.Math object>"
      ]
     },
     "metadata": {},
     "output_type": "display_data"
    },
    {
     "name": "stdout",
     "output_type": "stream",
     "text": [
      "Salida counts = {'1': 1}\n",
      "Given the former angle theta and quantum state, the new prediction is:\n",
      "Prediction = 1\n",
      "int(Prediction) = 1 \n",
      "\n",
      "Overall Probability = 0.025193513050322587\n"
     ]
    },
    {
     "data": {
      "text/latex": [
       "$\\displaystyle \n",
       "$$ |\\psi\\rangle =\\begin{bmatrix}\n",
       "0.03956 \\\\\n",
       "0.99922\\end{bmatrix} $"
      ],
      "text/plain": [
       "<IPython.core.display.Math object>"
      ]
     },
     "metadata": {},
     "output_type": "display_data"
    },
    {
     "name": "stdout",
     "output_type": "stream",
     "text": [
      "Salida counts = {'1': 1}\n",
      "Given the former angle theta and quantum state, the new prediction is:\n",
      "Prediction = 1\n",
      "int(Prediction) = 1 \n",
      "\n",
      "Overall Probability = -0.420999447811073\n"
     ]
    },
    {
     "data": {
      "text/latex": [
       "$\\displaystyle \n",
       "$$ |\\psi\\rangle =\\begin{bmatrix}\n",
       "-0.61415 \\\\\n",
       "0.78919\\end{bmatrix} $"
      ],
      "text/plain": [
       "<IPython.core.display.Math object>"
      ]
     },
     "metadata": {},
     "output_type": "display_data"
    },
    {
     "name": "stdout",
     "output_type": "stream",
     "text": [
      "Salida counts = {'1': 1}\n",
      "Given the former angle theta and quantum state, the new prediction is:\n",
      "Prediction = 1\n",
      "int(Prediction) = 1 \n",
      "\n",
      "Overall Probability = -0.5152872328067866\n"
     ]
    },
    {
     "data": {
      "text/latex": [
       "$\\displaystyle \n",
       "$$ |\\psi\\rangle =\\begin{bmatrix}\n",
       "-0.72388 \\\\\n",
       "0.68992\\end{bmatrix} $"
      ],
      "text/plain": [
       "<IPython.core.display.Math object>"
      ]
     },
     "metadata": {},
     "output_type": "display_data"
    },
    {
     "name": "stdout",
     "output_type": "stream",
     "text": [
      "Salida counts = {'1': 1}\n",
      "Given the former angle theta and quantum state, the new prediction is:\n",
      "Prediction = 1\n",
      "int(Prediction) = 1 \n",
      "\n",
      "Overall Probability = -0.5284496424406264\n"
     ]
    },
    {
     "data": {
      "text/latex": [
       "$\\displaystyle \n",
       "$$ |\\psi\\rangle =\\begin{bmatrix}\n",
       "-0.73799 \\\\\n",
       "0.67481\\end{bmatrix} $"
      ],
      "text/plain": [
       "<IPython.core.display.Math object>"
      ]
     },
     "metadata": {},
     "output_type": "display_data"
    },
    {
     "name": "stdout",
     "output_type": "stream",
     "text": [
      "Salida counts = {'0': 1}\n",
      "Given the former angle theta and quantum state, the new prediction is:\n",
      "Prediction = 0\n",
      "int(Prediction) = 0 \n",
      "\n",
      "Overall Probability = -1.0506450023333138\n"
     ]
    },
    {
     "data": {
      "text/latex": [
       "$\\displaystyle \n",
       "$$ |\\psi\\rangle =\\begin{bmatrix}\n",
       "-0.99684 \\\\\n",
       "-0.07947\\end{bmatrix} $"
      ],
      "text/plain": [
       "<IPython.core.display.Math object>"
      ]
     },
     "metadata": {},
     "output_type": "display_data"
    },
    {
     "name": "stdout",
     "output_type": "stream",
     "text": [
      "Salida counts = {'0': 1}\n",
      "Given the former angle theta and quantum state, the new prediction is:\n",
      "Prediction = 0\n",
      "int(Prediction) = 0 \n",
      "\n",
      "Overall Probability = -0.5346473280082341\n"
     ]
    },
    {
     "data": {
      "text/latex": [
       "$\\displaystyle \n",
       "$$ |\\psi\\rangle =\\begin{bmatrix}\n",
       "-0.74452 \\\\\n",
       "0.66760\\end{bmatrix} $"
      ],
      "text/plain": [
       "<IPython.core.display.Math object>"
      ]
     },
     "metadata": {},
     "output_type": "display_data"
    },
    {
     "name": "stdout",
     "output_type": "stream",
     "text": [
      "Salida counts = {'0': 1}\n",
      "Given the former angle theta and quantum state, the new prediction is:\n",
      "Prediction = 0\n",
      "int(Prediction) = 0 \n",
      "\n",
      "Overall Probability = -1.05009580364262\n"
     ]
    },
    {
     "data": {
      "text/latex": [
       "$\\displaystyle \n",
       "$$ |\\psi\\rangle =\\begin{bmatrix}\n",
       "-0.99691 \\\\\n",
       "-0.07861\\end{bmatrix} $"
      ],
      "text/plain": [
       "<IPython.core.display.Math object>"
      ]
     },
     "metadata": {},
     "output_type": "display_data"
    },
    {
     "name": "stdout",
     "output_type": "stream",
     "text": [
      "Salida counts = {'0': 1}\n",
      "Given the former angle theta and quantum state, the new prediction is:\n",
      "Prediction = 0\n",
      "int(Prediction) = 0 \n",
      "\n",
      "Overall Probability = -1.0496287657103016\n"
     ]
    },
    {
     "data": {
      "text/latex": [
       "$\\displaystyle \n",
       "$$ |\\psi\\rangle =\\begin{bmatrix}\n",
       "-0.99696 \\\\\n",
       "-0.07788\\end{bmatrix} $"
      ],
      "text/plain": [
       "<IPython.core.display.Math object>"
      ]
     },
     "metadata": {},
     "output_type": "display_data"
    },
    {
     "name": "stdout",
     "output_type": "stream",
     "text": [
      "Salida counts = {'0': 1}\n",
      "Given the former angle theta and quantum state, the new prediction is:\n",
      "Prediction = 0\n",
      "int(Prediction) = 0 \n",
      "\n",
      "Overall Probability = -1.0483624489252885\n"
     ]
    },
    {
     "data": {
      "text/latex": [
       "$\\displaystyle \n",
       "$$ |\\psi\\rangle =\\begin{bmatrix}\n",
       "-0.99712 \\\\\n",
       "-0.07589\\end{bmatrix} $"
      ],
      "text/plain": [
       "<IPython.core.display.Math object>"
      ]
     },
     "metadata": {},
     "output_type": "display_data"
    },
    {
     "name": "stdout",
     "output_type": "stream",
     "text": [
      "Salida counts = {'0': 1}\n",
      "Given the former angle theta and quantum state, the new prediction is:\n",
      "Prediction = 0\n",
      "int(Prediction) = 0 \n",
      "\n",
      "Overall Probability = -0.46558323433469284\n"
     ]
    },
    {
     "data": {
      "text/latex": [
       "$\\displaystyle \n",
       "$$ |\\psi\\rangle =\\begin{bmatrix}\n",
       "-0.66786 \\\\\n",
       "0.74428\\end{bmatrix} $"
      ],
      "text/plain": [
       "<IPython.core.display.Math object>"
      ]
     },
     "metadata": {},
     "output_type": "display_data"
    },
    {
     "name": "stdout",
     "output_type": "stream",
     "text": [
      "Salida counts = {'0': 1}\n",
      "Given the former angle theta and quantum state, the new prediction is:\n",
      "Prediction = 0\n",
      "int(Prediction) = 0 \n",
      "\n",
      "Overall Probability = -0.4413695576575064\n"
     ]
    },
    {
     "data": {
      "text/latex": [
       "$\\displaystyle \n",
       "$$ |\\psi\\rangle =\\begin{bmatrix}\n",
       "-0.63908 \\\\\n",
       "0.76914\\end{bmatrix} $"
      ],
      "text/plain": [
       "<IPython.core.display.Math object>"
      ]
     },
     "metadata": {},
     "output_type": "display_data"
    },
    {
     "name": "stdout",
     "output_type": "stream",
     "text": [
      "Salida counts = {'0': 1}\n",
      "Given the former angle theta and quantum state, the new prediction is:\n",
      "Prediction = 0\n",
      "int(Prediction) = 0 \n",
      "\n",
      "Overall Probability = -1.047895720120985\n"
     ]
    },
    {
     "data": {
      "text/latex": [
       "$\\displaystyle \n",
       "$$ |\\psi\\rangle =\\begin{bmatrix}\n",
       "-0.99717 \\\\\n",
       "-0.07516\\end{bmatrix} $"
      ],
      "text/plain": [
       "<IPython.core.display.Math object>"
      ]
     },
     "metadata": {},
     "output_type": "display_data"
    },
    {
     "name": "stdout",
     "output_type": "stream",
     "text": [
      "Salida counts = {'0': 1}\n",
      "Given the former angle theta and quantum state, the new prediction is:\n",
      "Prediction = 0\n",
      "int(Prediction) = 0 \n",
      "\n",
      "Overall Probability = -0.6960677598612732\n"
     ]
    },
    {
     "data": {
      "text/latex": [
       "$\\displaystyle \n",
       "$$ |\\psi\\rangle =\\begin{bmatrix}\n",
       "-0.88819 \\\\\n",
       "0.45949\\end{bmatrix} $"
      ],
      "text/plain": [
       "<IPython.core.display.Math object>"
      ]
     },
     "metadata": {},
     "output_type": "display_data"
    },
    {
     "name": "stdout",
     "output_type": "stream",
     "text": [
      "Salida counts = {'1': 1}\n",
      "Given the former angle theta and quantum state, the new prediction is:\n",
      "Prediction = 1\n",
      "int(Prediction) = 1 \n",
      "\n",
      "Overall Probability = -0.7024653582653975\n"
     ]
    },
    {
     "data": {
      "text/latex": [
       "$\\displaystyle \n",
       "$$ |\\psi\\rangle =\\begin{bmatrix}\n",
       "-0.89276 \\\\\n",
       "0.45054\\end{bmatrix} $"
      ],
      "text/plain": [
       "<IPython.core.display.Math object>"
      ]
     },
     "metadata": {},
     "output_type": "display_data"
    },
    {
     "name": "stdout",
     "output_type": "stream",
     "text": [
      "Salida counts = {'1': 1}\n",
      "Given the former angle theta and quantum state, the new prediction is:\n",
      "Prediction = 1\n",
      "int(Prediction) = 1 \n",
      "\n",
      "Overall Probability = -1.0534049353757076\n"
     ]
    },
    {
     "data": {
      "text/latex": [
       "$\\displaystyle \n",
       "$$ |\\psi\\rangle =\\begin{bmatrix}\n",
       "-0.99648 \\\\\n",
       "-0.08379\\end{bmatrix} $"
      ],
      "text/plain": [
       "<IPython.core.display.Math object>"
      ]
     },
     "metadata": {},
     "output_type": "display_data"
    },
    {
     "name": "stdout",
     "output_type": "stream",
     "text": [
      "Salida counts = {'0': 1}\n",
      "Given the former angle theta and quantum state, the new prediction is:\n",
      "Prediction = 0\n",
      "int(Prediction) = 0 \n",
      "\n",
      "Overall Probability = -1.0489106755524773\n"
     ]
    },
    {
     "data": {
      "text/latex": [
       "$\\displaystyle \n",
       "$$ |\\psi\\rangle =\\begin{bmatrix}\n",
       "-0.99705 \\\\\n",
       "-0.07675\\end{bmatrix} $"
      ],
      "text/plain": [
       "<IPython.core.display.Math object>"
      ]
     },
     "metadata": {},
     "output_type": "display_data"
    },
    {
     "name": "stdout",
     "output_type": "stream",
     "text": [
      "Salida counts = {'0': 1}\n",
      "Given the former angle theta and quantum state, the new prediction is:\n",
      "Prediction = 0\n",
      "int(Prediction) = 0 \n",
      "\n",
      "Overall Probability = -0.5338072842941967\n"
     ]
    },
    {
     "data": {
      "text/latex": [
       "$\\displaystyle \n",
       "$$ |\\psi\\rangle =\\begin{bmatrix}\n",
       "-0.74364 \\\\\n",
       "0.66858\\end{bmatrix} $"
      ],
      "text/plain": [
       "<IPython.core.display.Math object>"
      ]
     },
     "metadata": {},
     "output_type": "display_data"
    },
    {
     "name": "stdout",
     "output_type": "stream",
     "text": [
      "Salida counts = {'1': 1}\n",
      "Given the former angle theta and quantum state, the new prediction is:\n",
      "Prediction = 1\n",
      "int(Prediction) = 1 \n",
      "\n",
      "Overall Probability = -0.3566687827058821\n"
     ]
    },
    {
     "data": {
      "text/latex": [
       "$\\displaystyle \n",
       "$$ |\\psi\\rangle =\\begin{bmatrix}\n",
       "-0.53140 \\\\\n",
       "0.84712\\end{bmatrix} $"
      ],
      "text/plain": [
       "<IPython.core.display.Math object>"
      ]
     },
     "metadata": {},
     "output_type": "display_data"
    },
    {
     "name": "stdout",
     "output_type": "stream",
     "text": [
      "Salida counts = {'1': 1}\n",
      "Given the former angle theta and quantum state, the new prediction is:\n",
      "Prediction = 1\n",
      "int(Prediction) = 1 \n",
      "\n",
      "Overall Probability = -0.5108582984067577\n"
     ]
    },
    {
     "data": {
      "text/latex": [
       "$\\displaystyle \n",
       "$$ |\\psi\\rangle =\\begin{bmatrix}\n",
       "-0.71906 \\\\\n",
       "0.69494\\end{bmatrix} $"
      ],
      "text/plain": [
       "<IPython.core.display.Math object>"
      ]
     },
     "metadata": {},
     "output_type": "display_data"
    },
    {
     "name": "stdout",
     "output_type": "stream",
     "text": [
      "Salida counts = {'1': 1}\n",
      "Given the former angle theta and quantum state, the new prediction is:\n",
      "Prediction = 1\n",
      "int(Prediction) = 1 \n",
      "\n",
      "Overall Probability = -0.7147805886299653\n"
     ]
    },
    {
     "data": {
      "text/latex": [
       "$\\displaystyle \n",
       "$$ |\\psi\\rangle =\\begin{bmatrix}\n",
       "-0.90131 \\\\\n",
       "0.43318\\end{bmatrix} $"
      ],
      "text/plain": [
       "<IPython.core.display.Math object>"
      ]
     },
     "metadata": {},
     "output_type": "display_data"
    },
    {
     "name": "stdout",
     "output_type": "stream",
     "text": [
      "Salida counts = {'0': 1}\n",
      "Given the former angle theta and quantum state, the new prediction is:\n",
      "Prediction = 0\n",
      "int(Prediction) = 0 \n",
      "\n",
      "Overall Probability = -0.061179718525816815\n"
     ]
    },
    {
     "data": {
      "text/latex": [
       "$\\displaystyle \n",
       "$$ |\\psi\\rangle =\\begin{bmatrix}\n",
       "-0.09595 \\\\\n",
       "0.99539\\end{bmatrix} $"
      ],
      "text/plain": [
       "<IPython.core.display.Math object>"
      ]
     },
     "metadata": {},
     "output_type": "display_data"
    },
    {
     "name": "stdout",
     "output_type": "stream",
     "text": [
      "Salida counts = {'1': 1}\n",
      "Given the former angle theta and quantum state, the new prediction is:\n",
      "Prediction = 1\n",
      "int(Prediction) = 1 \n",
      "\n",
      "Overall Probability = -0.813983696248096\n"
     ]
    },
    {
     "data": {
      "text/latex": [
       "$\\displaystyle \n",
       "$$ |\\psi\\rangle =\\begin{bmatrix}\n",
       "-0.95761 \\\\\n",
       "0.28805\\end{bmatrix} $"
      ],
      "text/plain": [
       "<IPython.core.display.Math object>"
      ]
     },
     "metadata": {},
     "output_type": "display_data"
    },
    {
     "name": "stdout",
     "output_type": "stream",
     "text": [
      "Salida counts = {'0': 1}\n",
      "Given the former angle theta and quantum state, the new prediction is:\n",
      "Prediction = 0\n",
      "int(Prediction) = 0 \n",
      "\n",
      "Overall Probability = -0.6710938566950526\n"
     ]
    },
    {
     "data": {
      "text/latex": [
       "$\\displaystyle \n",
       "$$ |\\psi\\rangle =\\begin{bmatrix}\n",
       "-0.86948 \\\\\n",
       "0.49397\\end{bmatrix} $"
      ],
      "text/plain": [
       "<IPython.core.display.Math object>"
      ]
     },
     "metadata": {},
     "output_type": "display_data"
    },
    {
     "name": "stdout",
     "output_type": "stream",
     "text": [
      "Salida counts = {'0': 1}\n",
      "Given the former angle theta and quantum state, the new prediction is:\n",
      "Prediction = 0\n",
      "int(Prediction) = 0 \n",
      "\n",
      "Overall Probability = -0.878591233897234\n"
     ]
    },
    {
     "data": {
      "text/latex": [
       "$\\displaystyle \n",
       "$$ |\\psi\\rangle =\\begin{bmatrix}\n",
       "-0.98187 \\\\\n",
       "0.18955\\end{bmatrix} $"
      ],
      "text/plain": [
       "<IPython.core.display.Math object>"
      ]
     },
     "metadata": {},
     "output_type": "display_data"
    },
    {
     "name": "stdout",
     "output_type": "stream",
     "text": [
      "Salida counts = {'0': 1}\n",
      "Given the former angle theta and quantum state, the new prediction is:\n",
      "Prediction = 0\n",
      "int(Prediction) = 0 \n",
      "\n",
      "Overall Probability = -0.28885891976302325\n"
     ]
    },
    {
     "data": {
      "text/latex": [
       "$\\displaystyle \n",
       "$$ |\\psi\\rangle =\\begin{bmatrix}\n",
       "-0.43833 \\\\\n",
       "0.89881\\end{bmatrix} $"
      ],
      "text/plain": [
       "<IPython.core.display.Math object>"
      ]
     },
     "metadata": {},
     "output_type": "display_data"
    },
    {
     "name": "stdout",
     "output_type": "stream",
     "text": [
      "Salida counts = {'1': 1}\n",
      "Given the former angle theta and quantum state, the new prediction is:\n",
      "Prediction = 1\n",
      "int(Prediction) = 1 \n",
      "\n",
      "Overall Probability = -0.8578790951653241\n"
     ]
    },
    {
     "data": {
      "text/latex": [
       "$\\displaystyle \n",
       "$$ |\\psi\\rangle =\\begin{bmatrix}\n",
       "-0.97518 \\\\\n",
       "0.22139\\end{bmatrix} $"
      ],
      "text/plain": [
       "<IPython.core.display.Math object>"
      ]
     },
     "metadata": {},
     "output_type": "display_data"
    },
    {
     "name": "stdout",
     "output_type": "stream",
     "text": [
      "Salida counts = {'0': 1}\n",
      "Given the former angle theta and quantum state, the new prediction is:\n",
      "Prediction = 0\n",
      "int(Prediction) = 0 \n",
      "\n",
      "Overall Probability = -0.43631941703651855\n"
     ]
    },
    {
     "data": {
      "text/latex": [
       "$\\displaystyle \n",
       "$$ |\\psi\\rangle =\\begin{bmatrix}\n",
       "-0.63296 \\\\\n",
       "0.77419\\end{bmatrix} $"
      ],
      "text/plain": [
       "<IPython.core.display.Math object>"
      ]
     },
     "metadata": {},
     "output_type": "display_data"
    },
    {
     "name": "stdout",
     "output_type": "stream",
     "text": [
      "Salida counts = {'1': 1}\n",
      "Given the former angle theta and quantum state, the new prediction is:\n",
      "Prediction = 1\n",
      "int(Prediction) = 1 \n",
      "\n",
      "Overall Probability = -0.6975820238861885\n"
     ]
    },
    {
     "data": {
      "text/latex": [
       "$\\displaystyle \n",
       "$$ |\\psi\\rangle =\\begin{bmatrix}\n",
       "-0.88928 \\\\\n",
       "0.45737\\end{bmatrix} $"
      ],
      "text/plain": [
       "<IPython.core.display.Math object>"
      ]
     },
     "metadata": {},
     "output_type": "display_data"
    },
    {
     "name": "stdout",
     "output_type": "stream",
     "text": [
      "Salida counts = {'0': 1}\n",
      "Given the former angle theta and quantum state, the new prediction is:\n",
      "Prediction = 0\n",
      "int(Prediction) = 0 \n",
      "\n",
      "Overall Probability = -1.0497417828256759\n"
     ]
    },
    {
     "data": {
      "text/latex": [
       "$\\displaystyle \n",
       "$$ |\\psi\\rangle =\\begin{bmatrix}\n",
       "-0.99695 \\\\\n",
       "-0.07805\\end{bmatrix} $"
      ],
      "text/plain": [
       "<IPython.core.display.Math object>"
      ]
     },
     "metadata": {},
     "output_type": "display_data"
    },
    {
     "name": "stdout",
     "output_type": "stream",
     "text": [
      "Salida counts = {'0': 1}\n",
      "Given the former angle theta and quantum state, the new prediction is:\n",
      "Prediction = 0\n",
      "int(Prediction) = 0 \n",
      "\n",
      "Overall Probability = -0.28802059567492444\n"
     ]
    },
    {
     "data": {
      "text/latex": [
       "$\\displaystyle \n",
       "$$ |\\psi\\rangle =\\begin{bmatrix}\n",
       "-0.43714 \\\\\n",
       "0.89939\\end{bmatrix} $"
      ],
      "text/plain": [
       "<IPython.core.display.Math object>"
      ]
     },
     "metadata": {},
     "output_type": "display_data"
    },
    {
     "name": "stdout",
     "output_type": "stream",
     "text": [
      "Salida counts = {'1': 1}\n",
      "Given the former angle theta and quantum state, the new prediction is:\n",
      "Prediction = 1\n",
      "int(Prediction) = 1 \n",
      "\n",
      "Overall Probability = -0.6916433130052442\n"
     ]
    },
    {
     "data": {
      "text/latex": [
       "$\\displaystyle \n",
       "$$ |\\psi\\rangle =\\begin{bmatrix}\n",
       "-0.88497 \\\\\n",
       "0.46565\\end{bmatrix} $"
      ],
      "text/plain": [
       "<IPython.core.display.Math object>"
      ]
     },
     "metadata": {},
     "output_type": "display_data"
    },
    {
     "name": "stdout",
     "output_type": "stream",
     "text": [
      "Salida counts = {'0': 1}\n",
      "Given the former angle theta and quantum state, the new prediction is:\n",
      "Prediction = 0\n",
      "int(Prediction) = 0 \n",
      "\n",
      "Overall Probability = -0.8767603444825591\n"
     ]
    },
    {
     "data": {
      "text/latex": [
       "$\\displaystyle \n",
       "$$ |\\psi\\rangle =\\begin{bmatrix}\n",
       "-0.98132 \\\\\n",
       "0.19238\\end{bmatrix} $"
      ],
      "text/plain": [
       "<IPython.core.display.Math object>"
      ]
     },
     "metadata": {},
     "output_type": "display_data"
    },
    {
     "name": "stdout",
     "output_type": "stream",
     "text": [
      "Salida counts = {'0': 1}\n",
      "Given the former angle theta and quantum state, the new prediction is:\n",
      "Prediction = 0\n",
      "int(Prediction) = 0 \n",
      "\n",
      "Overall Probability = -0.3121494129432313\n"
     ]
    },
    {
     "data": {
      "text/latex": [
       "$\\displaystyle \n",
       "$$ |\\psi\\rangle =\\begin{bmatrix}\n",
       "-0.47091 \\\\\n",
       "0.88218\\end{bmatrix} $"
      ],
      "text/plain": [
       "<IPython.core.display.Math object>"
      ]
     },
     "metadata": {},
     "output_type": "display_data"
    },
    {
     "name": "stdout",
     "output_type": "stream",
     "text": [
      "Salida counts = {'1': 1}\n",
      "Given the former angle theta and quantum state, the new prediction is:\n",
      "Prediction = 1\n",
      "int(Prediction) = 1 \n",
      "\n",
      "Overall Probability = -1.0562413340040684\n"
     ]
    },
    {
     "data": {
      "text/latex": [
       "$\\displaystyle \n",
       "$$ |\\psi\\rangle =\\begin{bmatrix}\n",
       "-0.99610 \\\\\n",
       "-0.08823\\end{bmatrix} $"
      ],
      "text/plain": [
       "<IPython.core.display.Math object>"
      ]
     },
     "metadata": {},
     "output_type": "display_data"
    },
    {
     "name": "stdout",
     "output_type": "stream",
     "text": [
      "Salida counts = {'0': 1}\n",
      "Given the former angle theta and quantum state, the new prediction is:\n",
      "Prediction = 0\n",
      "int(Prediction) = 0 \n",
      "\n",
      "Overall Probability = -0.9598252994141953\n"
     ]
    },
    {
     "data": {
      "text/latex": [
       "$\\displaystyle \n",
       "$$ |\\psi\\rangle =\\begin{bmatrix}\n",
       "-0.99801 \\\\\n",
       "0.06306\\end{bmatrix} $"
      ],
      "text/plain": [
       "<IPython.core.display.Math object>"
      ]
     },
     "metadata": {},
     "output_type": "display_data"
    },
    {
     "name": "stdout",
     "output_type": "stream",
     "text": [
      "Salida counts = {'0': 1}\n",
      "Given the former angle theta and quantum state, the new prediction is:\n",
      "Prediction = 0\n",
      "int(Prediction) = 0 \n",
      "\n",
      "Overall Probability = -1.05585354063961\n"
     ]
    },
    {
     "data": {
      "text/latex": [
       "$\\displaystyle \n",
       "$$ |\\psi\\rangle =\\begin{bmatrix}\n",
       "-0.99615 \\\\\n",
       "-0.08762\\end{bmatrix} $"
      ],
      "text/plain": [
       "<IPython.core.display.Math object>"
      ]
     },
     "metadata": {},
     "output_type": "display_data"
    },
    {
     "name": "stdout",
     "output_type": "stream",
     "text": [
      "Salida counts = {'0': 1}\n",
      "Given the former angle theta and quantum state, the new prediction is:\n",
      "Prediction = 0\n",
      "int(Prediction) = 0 \n",
      "\n",
      "Overall Probability = -0.6736649093422348\n"
     ]
    },
    {
     "data": {
      "text/latex": [
       "$\\displaystyle \n",
       "$$ |\\psi\\rangle =\\begin{bmatrix}\n",
       "-0.87147 \\\\\n",
       "0.49045\\end{bmatrix} $"
      ],
      "text/plain": [
       "<IPython.core.display.Math object>"
      ]
     },
     "metadata": {},
     "output_type": "display_data"
    },
    {
     "name": "stdout",
     "output_type": "stream",
     "text": [
      "Salida counts = {'0': 1}\n",
      "Given the former angle theta and quantum state, the new prediction is:\n",
      "Prediction = 0\n",
      "int(Prediction) = 0 \n",
      "\n",
      "Overall Probability = -0.8763040038730865\n"
     ]
    },
    {
     "data": {
      "text/latex": [
       "$\\displaystyle \n",
       "$$ |\\psi\\rangle =\\begin{bmatrix}\n",
       "-0.98118 \\\\\n",
       "0.19308\\end{bmatrix} $"
      ],
      "text/plain": [
       "<IPython.core.display.Math object>"
      ]
     },
     "metadata": {},
     "output_type": "display_data"
    },
    {
     "name": "stdout",
     "output_type": "stream",
     "text": [
      "Salida counts = {'0': 1}\n",
      "Given the former angle theta and quantum state, the new prediction is:\n",
      "Prediction = 0\n",
      "int(Prediction) = 0 \n",
      "\n",
      "Overall Probability = -1.0525352558668304\n"
     ]
    },
    {
     "data": {
      "text/latex": [
       "$\\displaystyle \n",
       "$$ |\\psi\\rangle =\\begin{bmatrix}\n",
       "-0.99660 \\\\\n",
       "-0.08243\\end{bmatrix} $"
      ],
      "text/plain": [
       "<IPython.core.display.Math object>"
      ]
     },
     "metadata": {},
     "output_type": "display_data"
    },
    {
     "name": "stdout",
     "output_type": "stream",
     "text": [
      "Salida counts = {'0': 1}\n",
      "Given the former angle theta and quantum state, the new prediction is:\n",
      "Prediction = 0\n",
      "int(Prediction) = 0 \n",
      "\n",
      "Overall Probability = -0.4413594325543094\n"
     ]
    },
    {
     "data": {
      "text/latex": [
       "$\\displaystyle \n",
       "$$ |\\psi\\rangle =\\begin{bmatrix}\n",
       "-0.63907 \\\\\n",
       "0.76915\\end{bmatrix} $"
      ],
      "text/plain": [
       "<IPython.core.display.Math object>"
      ]
     },
     "metadata": {},
     "output_type": "display_data"
    },
    {
     "name": "stdout",
     "output_type": "stream",
     "text": [
      "Salida counts = {'1': 1}\n",
      "Given the former angle theta and quantum state, the new prediction is:\n",
      "Prediction = 1\n",
      "int(Prediction) = 1 \n",
      "\n",
      "Overall Probability = -1.0500923457753364\n"
     ]
    },
    {
     "data": {
      "text/latex": [
       "$\\displaystyle \n",
       "$$ |\\psi\\rangle =\\begin{bmatrix}\n",
       "-0.99691 \\\\\n",
       "-0.07860\\end{bmatrix} $"
      ],
      "text/plain": [
       "<IPython.core.display.Math object>"
      ]
     },
     "metadata": {},
     "output_type": "display_data"
    },
    {
     "name": "stdout",
     "output_type": "stream",
     "text": [
      "Salida counts = {'0': 1}\n",
      "Given the former angle theta and quantum state, the new prediction is:\n",
      "Prediction = 0\n",
      "int(Prediction) = 0 \n",
      "\n",
      "Overall Probability = -0.13250896794912895\n"
     ]
    },
    {
     "data": {
      "text/latex": [
       "$\\displaystyle \n",
       "$$ |\\psi\\rangle =\\begin{bmatrix}\n",
       "-0.20664 \\\\\n",
       "0.97842\\end{bmatrix} $"
      ],
      "text/plain": [
       "<IPython.core.display.Math object>"
      ]
     },
     "metadata": {},
     "output_type": "display_data"
    },
    {
     "name": "stdout",
     "output_type": "stream",
     "text": [
      "Salida counts = {'1': 1}\n",
      "Given the former angle theta and quantum state, the new prediction is:\n",
      "Prediction = 1\n",
      "int(Prediction) = 1 \n",
      "\n",
      "Overall Probability = -0.4390064763470375\n"
     ]
    },
    {
     "data": {
      "text/latex": [
       "$\\displaystyle \n",
       "$$ |\\psi\\rangle =\\begin{bmatrix}\n",
       "-0.63622 \\\\\n",
       "0.77151\\end{bmatrix} $"
      ],
      "text/plain": [
       "<IPython.core.display.Math object>"
      ]
     },
     "metadata": {},
     "output_type": "display_data"
    },
    {
     "name": "stdout",
     "output_type": "stream",
     "text": [
      "Salida counts = {'1': 1}\n",
      "Given the former angle theta and quantum state, the new prediction is:\n",
      "Prediction = 1\n",
      "int(Prediction) = 1 \n",
      "\n",
      "Overall Probability = -0.514448656100195\n"
     ]
    },
    {
     "data": {
      "text/latex": [
       "$\\displaystyle \n",
       "$$ |\\psi\\rangle =\\begin{bmatrix}\n",
       "-0.72297 \\\\\n",
       "0.69088\\end{bmatrix} $"
      ],
      "text/plain": [
       "<IPython.core.display.Math object>"
      ]
     },
     "metadata": {},
     "output_type": "display_data"
    },
    {
     "name": "stdout",
     "output_type": "stream",
     "text": [
      "Salida counts = {'1': 1}\n",
      "Given the former angle theta and quantum state, the new prediction is:\n",
      "Prediction = 1\n",
      "int(Prediction) = 1 \n",
      "\n",
      "Overall Probability = -0.8681631991640512\n"
     ]
    },
    {
     "data": {
      "text/latex": [
       "$\\displaystyle \n",
       "$$ |\\psi\\rangle =\\begin{bmatrix}\n",
       "-0.97863 \\\\\n",
       "0.20561\\end{bmatrix} $"
      ],
      "text/plain": [
       "<IPython.core.display.Math object>"
      ]
     },
     "metadata": {},
     "output_type": "display_data"
    },
    {
     "name": "stdout",
     "output_type": "stream",
     "text": [
      "Salida counts = {'0': 1}\n",
      "Given the former angle theta and quantum state, the new prediction is:\n",
      "Prediction = 0\n",
      "int(Prediction) = 0 \n",
      "\n",
      "Overall Probability = -1.0479652093430236\n"
     ]
    },
    {
     "data": {
      "text/latex": [
       "$\\displaystyle \n",
       "$$ |\\psi\\rangle =\\begin{bmatrix}\n",
       "-0.99716 \\\\\n",
       "-0.07527\\end{bmatrix} $"
      ],
      "text/plain": [
       "<IPython.core.display.Math object>"
      ]
     },
     "metadata": {},
     "output_type": "display_data"
    },
    {
     "name": "stdout",
     "output_type": "stream",
     "text": [
      "Salida counts = {'0': 1}\n",
      "Given the former angle theta and quantum state, the new prediction is:\n",
      "Prediction = 0\n",
      "int(Prediction) = 0 \n",
      "\n",
      "Overall Probability = -0.8680478563104271\n"
     ]
    },
    {
     "data": {
      "text/latex": [
       "$\\displaystyle \n",
       "$$ |\\psi\\rangle =\\begin{bmatrix}\n",
       "-0.97860 \\\\\n",
       "0.20579\\end{bmatrix} $"
      ],
      "text/plain": [
       "<IPython.core.display.Math object>"
      ]
     },
     "metadata": {},
     "output_type": "display_data"
    },
    {
     "name": "stdout",
     "output_type": "stream",
     "text": [
      "Salida counts = {'0': 1}\n",
      "Given the former angle theta and quantum state, the new prediction is:\n",
      "Prediction = 0\n",
      "int(Prediction) = 0 \n",
      "\n",
      "Overall Probability = -0.35988037974162623\n"
     ]
    },
    {
     "data": {
      "text/latex": [
       "$\\displaystyle \n",
       "$$ |\\psi\\rangle =\\begin{bmatrix}\n",
       "-0.53567 \\\\\n",
       "0.84443\\end{bmatrix} $"
      ],
      "text/plain": [
       "<IPython.core.display.Math object>"
      ]
     },
     "metadata": {},
     "output_type": "display_data"
    },
    {
     "name": "stdout",
     "output_type": "stream",
     "text": [
      "Salida counts = {'1': 1}\n",
      "Given the former angle theta and quantum state, the new prediction is:\n",
      "Prediction = 1\n",
      "int(Prediction) = 1 \n",
      "\n",
      "Overall Probability = -0.3594736939415549\n"
     ]
    },
    {
     "data": {
      "text/latex": [
       "$\\displaystyle \n",
       "$$ |\\psi\\rangle =\\begin{bmatrix}\n",
       "-0.53513 \\\\\n",
       "0.84477\\end{bmatrix} $"
      ],
      "text/plain": [
       "<IPython.core.display.Math object>"
      ]
     },
     "metadata": {},
     "output_type": "display_data"
    },
    {
     "name": "stdout",
     "output_type": "stream",
     "text": [
      "Salida counts = {'1': 1}\n",
      "Given the former angle theta and quantum state, the new prediction is:\n",
      "Prediction = 1\n",
      "int(Prediction) = 1 \n",
      "\n",
      "Overall Probability = -0.46558323433469284\n"
     ]
    },
    {
     "data": {
      "text/latex": [
       "$\\displaystyle \n",
       "$$ |\\psi\\rangle =\\begin{bmatrix}\n",
       "-0.66786 \\\\\n",
       "0.74428\\end{bmatrix} $"
      ],
      "text/plain": [
       "<IPython.core.display.Math object>"
      ]
     },
     "metadata": {},
     "output_type": "display_data"
    },
    {
     "name": "stdout",
     "output_type": "stream",
     "text": [
      "Salida counts = {'0': 1}\n",
      "Given the former angle theta and quantum state, the new prediction is:\n",
      "Prediction = 0\n",
      "int(Prediction) = 0 \n",
      "\n",
      "Overall Probability = -0.433310200902625\n"
     ]
    },
    {
     "data": {
      "text/latex": [
       "$\\displaystyle \n",
       "$$ |\\psi\\rangle =\\begin{bmatrix}\n",
       "-0.62929 \\\\\n",
       "0.77717\\end{bmatrix} $"
      ],
      "text/plain": [
       "<IPython.core.display.Math object>"
      ]
     },
     "metadata": {},
     "output_type": "display_data"
    },
    {
     "name": "stdout",
     "output_type": "stream",
     "text": [
      "Salida counts = {'0': 1}\n",
      "Given the former angle theta and quantum state, the new prediction is:\n",
      "Prediction = 0\n",
      "int(Prediction) = 0 \n",
      "\n",
      "Overall Probability = -0.8299756883063458\n"
     ]
    },
    {
     "data": {
      "text/latex": [
       "$\\displaystyle \n",
       "$$ |\\psi\\rangle =\\begin{bmatrix}\n",
       "-0.96455 \\\\\n",
       "0.26391\\end{bmatrix} $"
      ],
      "text/plain": [
       "<IPython.core.display.Math object>"
      ]
     },
     "metadata": {},
     "output_type": "display_data"
    },
    {
     "name": "stdout",
     "output_type": "stream",
     "text": [
      "Salida counts = {'0': 1}\n",
      "Given the former angle theta and quantum state, the new prediction is:\n",
      "Prediction = 0\n",
      "int(Prediction) = 0 \n",
      "\n",
      "Overall Probability = -0.4413594325543094\n"
     ]
    },
    {
     "data": {
      "text/latex": [
       "$\\displaystyle \n",
       "$$ |\\psi\\rangle =\\begin{bmatrix}\n",
       "-0.63907 \\\\\n",
       "0.76915\\end{bmatrix} $"
      ],
      "text/plain": [
       "<IPython.core.display.Math object>"
      ]
     },
     "metadata": {},
     "output_type": "display_data"
    },
    {
     "name": "stdout",
     "output_type": "stream",
     "text": [
      "Salida counts = {'1': 1}\n",
      "Given the former angle theta and quantum state, the new prediction is:\n",
      "Prediction = 1\n",
      "int(Prediction) = 1 \n",
      "\n",
      "Overall Probability = -1.0107308090534932\n"
     ]
    },
    {
     "data": {
      "text/latex": [
       "$\\displaystyle \n",
       "$$ |\\psi\\rangle =\\begin{bmatrix}\n",
       "-0.99986 \\\\\n",
       "-0.01686\\end{bmatrix} $"
      ],
      "text/plain": [
       "<IPython.core.display.Math object>"
      ]
     },
     "metadata": {},
     "output_type": "display_data"
    },
    {
     "name": "stdout",
     "output_type": "stream",
     "text": [
      "Salida counts = {'0': 1}\n",
      "Given the former angle theta and quantum state, the new prediction is:\n",
      "Prediction = 0\n",
      "int(Prediction) = 0 \n",
      "\n",
      "Overall Probability = -0.5018033259695215\n"
     ]
    },
    {
     "data": {
      "text/latex": [
       "$\\displaystyle \n",
       "$$ |\\psi\\rangle =\\begin{bmatrix}\n",
       "-0.70911 \\\\\n",
       "0.70510\\end{bmatrix} $"
      ],
      "text/plain": [
       "<IPython.core.display.Math object>"
      ]
     },
     "metadata": {},
     "output_type": "display_data"
    },
    {
     "name": "stdout",
     "output_type": "stream",
     "text": [
      "Salida counts = {'0': 1}\n",
      "Given the former angle theta and quantum state, the new prediction is:\n",
      "Prediction = 0\n",
      "int(Prediction) = 0 \n",
      "\n",
      "Overall Probability = -1.0547413436888886\n"
     ]
    },
    {
     "data": {
      "text/latex": [
       "$\\displaystyle \n",
       "$$ |\\psi\\rangle =\\begin{bmatrix}\n",
       "-0.99631 \\\\\n",
       "-0.08588\\end{bmatrix} $"
      ],
      "text/plain": [
       "<IPython.core.display.Math object>"
      ]
     },
     "metadata": {},
     "output_type": "display_data"
    },
    {
     "name": "stdout",
     "output_type": "stream",
     "text": [
      "Salida counts = {'1': 1}\n",
      "Given the former angle theta and quantum state, the new prediction is:\n",
      "Prediction = 1\n",
      "int(Prediction) = 1 \n",
      "\n",
      "Overall Probability = -0.6857745644154811\n"
     ]
    },
    {
     "data": {
      "text/latex": [
       "$\\displaystyle \n",
       "$$ |\\psi\\rangle =\\begin{bmatrix}\n",
       "-0.88064 \\\\\n",
       "0.47379\\end{bmatrix} $"
      ],
      "text/plain": [
       "<IPython.core.display.Math object>"
      ]
     },
     "metadata": {},
     "output_type": "display_data"
    },
    {
     "name": "stdout",
     "output_type": "stream",
     "text": [
      "Salida counts = {'0': 1}\n",
      "Given the former angle theta and quantum state, the new prediction is:\n",
      "Prediction = 0\n",
      "int(Prediction) = 0 \n",
      "\n",
      "Overall Probability = -0.8726633242415937\n"
     ]
    },
    {
     "data": {
      "text/latex": [
       "$\\displaystyle \n",
       "$$ |\\psi\\rangle =\\begin{bmatrix}\n",
       "-0.98006 \\\\\n",
       "0.19869\\end{bmatrix} $"
      ],
      "text/plain": [
       "<IPython.core.display.Math object>"
      ]
     },
     "metadata": {},
     "output_type": "display_data"
    },
    {
     "name": "stdout",
     "output_type": "stream",
     "text": [
      "Salida counts = {'0': 1}\n",
      "Given the former angle theta and quantum state, the new prediction is:\n",
      "Prediction = 0\n",
      "int(Prediction) = 0 \n",
      "\n",
      "Overall Probability = -1.0350035961760802\n"
     ]
    },
    {
     "data": {
      "text/latex": [
       "$\\displaystyle \n",
       "$$ |\\psi\\rangle =\\begin{bmatrix}\n",
       "-0.99849 \\\\\n",
       "-0.05496\\end{bmatrix} $"
      ],
      "text/plain": [
       "<IPython.core.display.Math object>"
      ]
     },
     "metadata": {},
     "output_type": "display_data"
    },
    {
     "name": "stdout",
     "output_type": "stream",
     "text": [
      "Salida counts = {'0': 1}\n",
      "Given the former angle theta and quantum state, the new prediction is:\n",
      "Prediction = 0\n",
      "int(Prediction) = 0 \n",
      "\n",
      "Overall Probability = -1.049462034969034\n"
     ]
    },
    {
     "data": {
      "text/latex": [
       "$\\displaystyle \n",
       "$$ |\\psi\\rangle =\\begin{bmatrix}\n",
       "-0.99698 \\\\\n",
       "-0.07762\\end{bmatrix} $"
      ],
      "text/plain": [
       "<IPython.core.display.Math object>"
      ]
     },
     "metadata": {},
     "output_type": "display_data"
    },
    {
     "name": "stdout",
     "output_type": "stream",
     "text": [
      "Salida counts = {'0': 1}\n",
      "Given the former angle theta and quantum state, the new prediction is:\n",
      "Prediction = 0\n",
      "int(Prediction) = 0 \n",
      "\n",
      "Overall Probability = -0.5228755660403367\n"
     ]
    },
    {
     "data": {
      "text/latex": [
       "$\\displaystyle \n",
       "$$ |\\psi\\rangle =\\begin{bmatrix}\n",
       "-0.73205 \\\\\n",
       "0.68125\\end{bmatrix} $"
      ],
      "text/plain": [
       "<IPython.core.display.Math object>"
      ]
     },
     "metadata": {},
     "output_type": "display_data"
    },
    {
     "name": "stdout",
     "output_type": "stream",
     "text": [
      "Salida counts = {'0': 1}\n",
      "Given the former angle theta and quantum state, the new prediction is:\n",
      "Prediction = 0\n",
      "int(Prediction) = 0 \n",
      "\n",
      "Overall Probability = -1.0506620272211777\n"
     ]
    },
    {
     "data": {
      "text/latex": [
       "$\\displaystyle \n",
       "$$ |\\psi\\rangle =\\begin{bmatrix}\n",
       "-0.99684 \\\\\n",
       "-0.07950\\end{bmatrix} $"
      ],
      "text/plain": [
       "<IPython.core.display.Math object>"
      ]
     },
     "metadata": {},
     "output_type": "display_data"
    },
    {
     "name": "stdout",
     "output_type": "stream",
     "text": [
      "Salida counts = {'0': 1}\n",
      "Given the former angle theta and quantum state, the new prediction is:\n",
      "Prediction = 0\n",
      "int(Prediction) = 0 \n",
      "\n",
      "Overall Probability = -0.128552902179052\n"
     ]
    },
    {
     "data": {
      "text/latex": [
       "$\\displaystyle \n",
       "$$ |\\psi\\rangle =\\begin{bmatrix}\n",
       "-0.20056 \\\\\n",
       "0.97968\\end{bmatrix} $"
      ],
      "text/plain": [
       "<IPython.core.display.Math object>"
      ]
     },
     "metadata": {},
     "output_type": "display_data"
    },
    {
     "name": "stdout",
     "output_type": "stream",
     "text": [
      "Salida counts = {'1': 1}\n",
      "Given the former angle theta and quantum state, the new prediction is:\n",
      "Prediction = 1\n",
      "int(Prediction) = 1 \n",
      "\n",
      "Overall Probability = -0.4389509857495845\n"
     ]
    },
    {
     "data": {
      "text/latex": [
       "$\\displaystyle \n",
       "$$ |\\psi\\rangle =\\begin{bmatrix}\n",
       "-0.63615 \\\\\n",
       "0.77156\\end{bmatrix} $"
      ],
      "text/plain": [
       "<IPython.core.display.Math object>"
      ]
     },
     "metadata": {},
     "output_type": "display_data"
    },
    {
     "name": "stdout",
     "output_type": "stream",
     "text": [
      "Salida counts = {'0': 1}\n",
      "Given the former angle theta and quantum state, the new prediction is:\n",
      "Prediction = 0\n",
      "int(Prediction) = 0 \n",
      "\n",
      "Overall Probability = -1.0506620272211777\n"
     ]
    },
    {
     "data": {
      "text/latex": [
       "$\\displaystyle \n",
       "$$ |\\psi\\rangle =\\begin{bmatrix}\n",
       "-0.99684 \\\\\n",
       "-0.07950\\end{bmatrix} $"
      ],
      "text/plain": [
       "<IPython.core.display.Math object>"
      ]
     },
     "metadata": {},
     "output_type": "display_data"
    },
    {
     "name": "stdout",
     "output_type": "stream",
     "text": [
      "Salida counts = {'0': 1}\n",
      "Given the former angle theta and quantum state, the new prediction is:\n",
      "Prediction = 0\n",
      "int(Prediction) = 0 \n",
      "\n",
      "Overall Probability = -0.4229585882604987\n"
     ]
    },
    {
     "data": {
      "text/latex": [
       "$\\displaystyle \n",
       "$$ |\\psi\\rangle =\\begin{bmatrix}\n",
       "-0.61657 \\\\\n",
       "0.78730\\end{bmatrix} $"
      ],
      "text/plain": [
       "<IPython.core.display.Math object>"
      ]
     },
     "metadata": {},
     "output_type": "display_data"
    },
    {
     "name": "stdout",
     "output_type": "stream",
     "text": [
      "Salida counts = {'1': 1}\n",
      "Given the former angle theta and quantum state, the new prediction is:\n",
      "Prediction = 1\n",
      "int(Prediction) = 1 \n",
      "\n",
      "Overall Probability = -1.0486776043284398\n"
     ]
    },
    {
     "data": {
      "text/latex": [
       "$\\displaystyle \n",
       "$$ |\\psi\\rangle =\\begin{bmatrix}\n",
       "-0.99708 \\\\\n",
       "-0.07639\\end{bmatrix} $"
      ],
      "text/plain": [
       "<IPython.core.display.Math object>"
      ]
     },
     "metadata": {},
     "output_type": "display_data"
    },
    {
     "name": "stdout",
     "output_type": "stream",
     "text": [
      "Salida counts = {'0': 1}\n",
      "Given the former angle theta and quantum state, the new prediction is:\n",
      "Prediction = 0\n",
      "int(Prediction) = 0 \n",
      "\n",
      "Overall Probability = -1.051809852413298\n"
     ]
    },
    {
     "data": {
      "text/latex": [
       "$\\displaystyle \n",
       "$$ |\\psi\\rangle =\\begin{bmatrix}\n",
       "-0.99669 \\\\\n",
       "-0.08129\\end{bmatrix} $"
      ],
      "text/plain": [
       "<IPython.core.display.Math object>"
      ]
     },
     "metadata": {},
     "output_type": "display_data"
    },
    {
     "name": "stdout",
     "output_type": "stream",
     "text": [
      "Salida counts = {'0': 1}\n",
      "Given the former angle theta and quantum state, the new prediction is:\n",
      "Prediction = 0\n",
      "int(Prediction) = 0 \n",
      "\n",
      "Overall Probability = -0.9556622368345619\n"
     ]
    },
    {
     "data": {
      "text/latex": [
       "$\\displaystyle \n",
       "$$ |\\psi\\rangle =\\begin{bmatrix}\n",
       "-0.99758 \\\\\n",
       "0.06959\\end{bmatrix} $"
      ],
      "text/plain": [
       "<IPython.core.display.Math object>"
      ]
     },
     "metadata": {},
     "output_type": "display_data"
    },
    {
     "name": "stdout",
     "output_type": "stream",
     "text": [
      "Salida counts = {'0': 1}\n",
      "Given the former angle theta and quantum state, the new prediction is:\n",
      "Prediction = 0\n",
      "int(Prediction) = 0 \n",
      "\n",
      "Overall Probability = -0.8680478563104271\n"
     ]
    },
    {
     "data": {
      "text/latex": [
       "$\\displaystyle \n",
       "$$ |\\psi\\rangle =\\begin{bmatrix}\n",
       "-0.97860 \\\\\n",
       "0.20579\\end{bmatrix} $"
      ],
      "text/plain": [
       "<IPython.core.display.Math object>"
      ]
     },
     "metadata": {},
     "output_type": "display_data"
    },
    {
     "name": "stdout",
     "output_type": "stream",
     "text": [
      "Salida counts = {'0': 1}\n",
      "Given the former angle theta and quantum state, the new prediction is:\n",
      "Prediction = 0\n",
      "int(Prediction) = 0 \n",
      "\n",
      "Overall Probability = -0.35603536294876414\n"
     ]
    },
    {
     "data": {
      "text/latex": [
       "$\\displaystyle \n",
       "$$ |\\psi\\rangle =\\begin{bmatrix}\n",
       "-0.53056 \\\\\n",
       "0.84765\\end{bmatrix} $"
      ],
      "text/plain": [
       "<IPython.core.display.Math object>"
      ]
     },
     "metadata": {},
     "output_type": "display_data"
    },
    {
     "name": "stdout",
     "output_type": "stream",
     "text": [
      "Salida counts = {'1': 1}\n",
      "Given the former angle theta and quantum state, the new prediction is:\n",
      "Prediction = 1\n",
      "int(Prediction) = 1 \n",
      "\n",
      "Overall Probability = -1.0562413340040684\n"
     ]
    },
    {
     "data": {
      "text/latex": [
       "$\\displaystyle \n",
       "$$ |\\psi\\rangle =\\begin{bmatrix}\n",
       "-0.99610 \\\\\n",
       "-0.08823\\end{bmatrix} $"
      ],
      "text/plain": [
       "<IPython.core.display.Math object>"
      ]
     },
     "metadata": {},
     "output_type": "display_data"
    },
    {
     "name": "stdout",
     "output_type": "stream",
     "text": [
      "Salida counts = {'0': 1}\n",
      "Given the former angle theta and quantum state, the new prediction is:\n",
      "Prediction = 0\n",
      "int(Prediction) = 0 \n",
      "\n",
      "Overall Probability = -0.36801437721932495\n"
     ]
    },
    {
     "data": {
      "text/latex": [
       "$\\displaystyle \n",
       "$$ |\\psi\\rangle =\\begin{bmatrix}\n",
       "-0.54641 \\\\\n",
       "0.83752\\end{bmatrix} $"
      ],
      "text/plain": [
       "<IPython.core.display.Math object>"
      ]
     },
     "metadata": {},
     "output_type": "display_data"
    },
    {
     "name": "stdout",
     "output_type": "stream",
     "text": [
      "Salida counts = {'0': 1}\n",
      "Given the former angle theta and quantum state, the new prediction is:\n",
      "Prediction = 0\n",
      "int(Prediction) = 0 \n",
      "\n",
      "Overall Probability = -0.6741448211518671\n"
     ]
    },
    {
     "data": {
      "text/latex": [
       "$\\displaystyle \n",
       "$$ |\\psi\\rangle =\\begin{bmatrix}\n",
       "-0.87184 \\\\\n",
       "0.48979\\end{bmatrix} $"
      ],
      "text/plain": [
       "<IPython.core.display.Math object>"
      ]
     },
     "metadata": {},
     "output_type": "display_data"
    },
    {
     "name": "stdout",
     "output_type": "stream",
     "text": [
      "Salida counts = {'0': 1}\n",
      "Given the former angle theta and quantum state, the new prediction is:\n",
      "Prediction = 0\n",
      "int(Prediction) = 0 \n",
      "\n",
      "Overall Probability = -0.8742391012573496\n"
     ]
    },
    {
     "data": {
      "text/latex": [
       "$\\displaystyle \n",
       "$$ |\\psi\\rangle =\\begin{bmatrix}\n",
       "-0.98055 \\\\\n",
       "0.19626\\end{bmatrix} $"
      ],
      "text/plain": [
       "<IPython.core.display.Math object>"
      ]
     },
     "metadata": {},
     "output_type": "display_data"
    },
    {
     "name": "stdout",
     "output_type": "stream",
     "text": [
      "Salida counts = {'0': 1}\n",
      "Given the former angle theta and quantum state, the new prediction is:\n",
      "Prediction = 0\n",
      "int(Prediction) = 0 \n",
      "\n",
      "Overall Probability = -0.8680478563104271\n"
     ]
    },
    {
     "data": {
      "text/latex": [
       "$\\displaystyle \n",
       "$$ |\\psi\\rangle =\\begin{bmatrix}\n",
       "-0.97860 \\\\\n",
       "0.20579\\end{bmatrix} $"
      ],
      "text/plain": [
       "<IPython.core.display.Math object>"
      ]
     },
     "metadata": {},
     "output_type": "display_data"
    },
    {
     "name": "stdout",
     "output_type": "stream",
     "text": [
      "Salida counts = {'0': 1}\n",
      "Given the former angle theta and quantum state, the new prediction is:\n",
      "Prediction = 0\n",
      "int(Prediction) = 0 \n",
      "\n",
      "Overall Probability = -0.34194459663384474\n"
     ]
    },
    {
     "data": {
      "text/latex": [
       "$\\displaystyle \n",
       "$$ |\\psi\\rangle =\\begin{bmatrix}\n",
       "-0.51167 \\\\\n",
       "0.85918\\end{bmatrix} $"
      ],
      "text/plain": [
       "<IPython.core.display.Math object>"
      ]
     },
     "metadata": {},
     "output_type": "display_data"
    },
    {
     "name": "stdout",
     "output_type": "stream",
     "text": [
      "Salida counts = {'1': 1}\n",
      "Given the former angle theta and quantum state, the new prediction is:\n",
      "Prediction = 1\n",
      "int(Prediction) = 1 \n",
      "\n",
      "Overall Probability = -0.874869412063652\n"
     ]
    },
    {
     "data": {
      "text/latex": [
       "$\\displaystyle \n",
       "$$ |\\psi\\rangle =\\begin{bmatrix}\n",
       "-0.98075 \\\\\n",
       "0.19529\\end{bmatrix} $"
      ],
      "text/plain": [
       "<IPython.core.display.Math object>"
      ]
     },
     "metadata": {},
     "output_type": "display_data"
    },
    {
     "name": "stdout",
     "output_type": "stream",
     "text": [
      "Salida counts = {'0': 1}\n",
      "Given the former angle theta and quantum state, the new prediction is:\n",
      "Prediction = 0\n",
      "int(Prediction) = 0 \n",
      "\n",
      "Overall Probability = -1.033112663757173\n"
     ]
    },
    {
     "data": {
      "text/latex": [
       "$\\displaystyle \n",
       "$$ |\\psi\\rangle =\\begin{bmatrix}\n",
       "-0.99865 \\\\\n",
       "-0.05199\\end{bmatrix} $"
      ],
      "text/plain": [
       "<IPython.core.display.Math object>"
      ]
     },
     "metadata": {},
     "output_type": "display_data"
    },
    {
     "name": "stdout",
     "output_type": "stream",
     "text": [
      "Salida counts = {'0': 1}\n",
      "Given the former angle theta and quantum state, the new prediction is:\n",
      "Prediction = 0\n",
      "int(Prediction) = 0 \n",
      "\n",
      "Overall Probability = -0.8593347861726156\n"
     ]
    },
    {
     "data": {
      "text/latex": [
       "$\\displaystyle \n",
       "$$ |\\psi\\rangle =\\begin{bmatrix}\n",
       "-0.97569 \\\\\n",
       "0.21916\\end{bmatrix} $"
      ],
      "text/plain": [
       "<IPython.core.display.Math object>"
      ]
     },
     "metadata": {},
     "output_type": "display_data"
    },
    {
     "name": "stdout",
     "output_type": "stream",
     "text": [
      "Salida counts = {'0': 1}\n",
      "Given the former angle theta and quantum state, the new prediction is:\n",
      "Prediction = 0\n",
      "int(Prediction) = 0 \n",
      "\n",
      "Overall Probability = -0.7068775339095141\n"
     ]
    },
    {
     "data": {
      "text/latex": [
       "$\\displaystyle \n",
       "$$ |\\psi\\rangle =\\begin{bmatrix}\n",
       "-0.89586 \\\\\n",
       "0.44434\\end{bmatrix} $"
      ],
      "text/plain": [
       "<IPython.core.display.Math object>"
      ]
     },
     "metadata": {},
     "output_type": "display_data"
    },
    {
     "name": "stdout",
     "output_type": "stream",
     "text": [
      "Salida counts = {'0': 1}\n",
      "Given the former angle theta and quantum state, the new prediction is:\n",
      "Prediction = 0\n",
      "int(Prediction) = 0 \n",
      "\n",
      "Overall Probability = -1.0492838979330492\n"
     ]
    },
    {
     "data": {
      "text/latex": [
       "$\\displaystyle \n",
       "$$ |\\psi\\rangle =\\begin{bmatrix}\n",
       "-0.99700 \\\\\n",
       "-0.07734\\end{bmatrix} $"
      ],
      "text/plain": [
       "<IPython.core.display.Math object>"
      ]
     },
     "metadata": {},
     "output_type": "display_data"
    },
    {
     "name": "stdout",
     "output_type": "stream",
     "text": [
      "Salida counts = {'0': 1}\n",
      "Given the former angle theta and quantum state, the new prediction is:\n",
      "Prediction = 0\n",
      "int(Prediction) = 0 \n",
      "\n",
      "Overall Probability = 0.05255502878768335\n"
     ]
    },
    {
     "data": {
      "text/latex": [
       "$\\displaystyle \n",
       "$$ |\\psi\\rangle =\\begin{bmatrix}\n",
       "0.08246 \\\\\n",
       "0.99659\\end{bmatrix} $"
      ],
      "text/plain": [
       "<IPython.core.display.Math object>"
      ]
     },
     "metadata": {},
     "output_type": "display_data"
    },
    {
     "name": "stdout",
     "output_type": "stream",
     "text": [
      "Salida counts = {'1': 1}\n",
      "Given the former angle theta and quantum state, the new prediction is:\n",
      "Prediction = 1\n",
      "int(Prediction) = 1 \n",
      "\n",
      "Overall Probability = -0.6952167839929201\n"
     ]
    },
    {
     "data": {
      "text/latex": [
       "$\\displaystyle \n",
       "$$ |\\psi\\rangle =\\begin{bmatrix}\n",
       "-0.88757 \\\\\n",
       "0.46067\\end{bmatrix} $"
      ],
      "text/plain": [
       "<IPython.core.display.Math object>"
      ]
     },
     "metadata": {},
     "output_type": "display_data"
    },
    {
     "name": "stdout",
     "output_type": "stream",
     "text": [
      "Salida counts = {'0': 1}\n",
      "Given the former angle theta and quantum state, the new prediction is:\n",
      "Prediction = 0\n",
      "int(Prediction) = 0 \n",
      "\n",
      "Overall Probability = -0.6479541101451944\n"
     ]
    },
    {
     "data": {
      "text/latex": [
       "$\\displaystyle \n",
       "$$ |\\psi\\rangle =\\begin{bmatrix}\n",
       "-0.85096 \\\\\n",
       "0.52524\\end{bmatrix} $"
      ],
      "text/plain": [
       "<IPython.core.display.Math object>"
      ]
     },
     "metadata": {},
     "output_type": "display_data"
    },
    {
     "name": "stdout",
     "output_type": "stream",
     "text": [
      "Salida counts = {'0': 1}\n",
      "Given the former angle theta and quantum state, the new prediction is:\n",
      "Prediction = 0\n",
      "int(Prediction) = 0 \n",
      "\n",
      "Overall Probability = -0.30848698462347385\n"
     ]
    },
    {
     "data": {
      "text/latex": [
       "$\\displaystyle \n",
       "$$ |\\psi\\rangle =\\begin{bmatrix}\n",
       "-0.46583 \\\\\n",
       "0.88488\\end{bmatrix} $"
      ],
      "text/plain": [
       "<IPython.core.display.Math object>"
      ]
     },
     "metadata": {},
     "output_type": "display_data"
    },
    {
     "name": "stdout",
     "output_type": "stream",
     "text": [
      "Salida counts = {'1': 1}\n",
      "Given the former angle theta and quantum state, the new prediction is:\n",
      "Prediction = 1\n",
      "int(Prediction) = 1 \n",
      "\n",
      "Overall Probability = -0.8505746611582382\n"
     ]
    },
    {
     "data": {
      "text/latex": [
       "$\\displaystyle \n",
       "$$ |\\psi\\rangle =\\begin{bmatrix}\n",
       "-0.97258 \\\\\n",
       "0.23257\\end{bmatrix} $"
      ],
      "text/plain": [
       "<IPython.core.display.Math object>"
      ]
     },
     "metadata": {},
     "output_type": "display_data"
    },
    {
     "name": "stdout",
     "output_type": "stream",
     "text": [
      "Salida counts = {'0': 1}\n",
      "Given the former angle theta and quantum state, the new prediction is:\n",
      "Prediction = 0\n",
      "int(Prediction) = 0 \n",
      "\n",
      "Overall Probability = -0.44433856461343724\n"
     ]
    },
    {
     "data": {
      "text/latex": [
       "$\\displaystyle \n",
       "$$ |\\psi\\rangle =\\begin{bmatrix}\n",
       "-0.64266 \\\\\n",
       "0.76615\\end{bmatrix} $"
      ],
      "text/plain": [
       "<IPython.core.display.Math object>"
      ]
     },
     "metadata": {},
     "output_type": "display_data"
    },
    {
     "name": "stdout",
     "output_type": "stream",
     "text": [
      "Salida counts = {'1': 1}\n",
      "Given the former angle theta and quantum state, the new prediction is:\n",
      "Prediction = 1\n",
      "int(Prediction) = 1 \n",
      "\n",
      "Overall Probability = -0.9498719591954026\n"
     ]
    },
    {
     "data": {
      "text/latex": [
       "$\\displaystyle \n",
       "$$ |\\psi\\rangle =\\begin{bmatrix}\n",
       "-0.99690 \\\\\n",
       "0.07866\\end{bmatrix} $"
      ],
      "text/plain": [
       "<IPython.core.display.Math object>"
      ]
     },
     "metadata": {},
     "output_type": "display_data"
    },
    {
     "name": "stdout",
     "output_type": "stream",
     "text": [
      "Salida counts = {'0': 1}\n",
      "Given the former angle theta and quantum state, the new prediction is:\n",
      "Prediction = 0\n",
      "int(Prediction) = 0 \n",
      "\n",
      "Overall Probability = -0.4413114141008243\n"
     ]
    },
    {
     "data": {
      "text/latex": [
       "$\\displaystyle \n",
       "$$ |\\psi\\rangle =\\begin{bmatrix}\n",
       "-0.63901 \\\\\n",
       "0.76920\\end{bmatrix} $"
      ],
      "text/plain": [
       "<IPython.core.display.Math object>"
      ]
     },
     "metadata": {},
     "output_type": "display_data"
    },
    {
     "name": "stdout",
     "output_type": "stream",
     "text": [
      "Salida counts = {'0': 1}\n",
      "Given the former angle theta and quantum state, the new prediction is:\n",
      "Prediction = 0\n",
      "int(Prediction) = 0 \n",
      "\n",
      "Overall Probability = -0.6707721106352494\n"
     ]
    },
    {
     "data": {
      "text/latex": [
       "$\\displaystyle \n",
       "$$ |\\psi\\rangle =\\begin{bmatrix}\n",
       "-0.86923 \\\\\n",
       "0.49440\\end{bmatrix} $"
      ],
      "text/plain": [
       "<IPython.core.display.Math object>"
      ]
     },
     "metadata": {},
     "output_type": "display_data"
    },
    {
     "name": "stdout",
     "output_type": "stream",
     "text": [
      "Salida counts = {'0': 1}\n",
      "Given the former angle theta and quantum state, the new prediction is:\n",
      "Prediction = 0\n",
      "int(Prediction) = 0 \n",
      "\n",
      "Overall Probability = -1.0218264688434586\n"
     ]
    },
    {
     "data": {
      "text/latex": [
       "$\\displaystyle \n",
       "$$ |\\psi\\rangle =\\begin{bmatrix}\n",
       "-0.99941 \\\\\n",
       "-0.03428\\end{bmatrix} $"
      ],
      "text/plain": [
       "<IPython.core.display.Math object>"
      ]
     },
     "metadata": {},
     "output_type": "display_data"
    },
    {
     "name": "stdout",
     "output_type": "stream",
     "text": [
      "Salida counts = {'0': 1}\n",
      "Given the former angle theta and quantum state, the new prediction is:\n",
      "Prediction = 0\n",
      "int(Prediction) = 0 \n",
      "\n",
      "Overall Probability = -1.0491443331327435\n"
     ]
    },
    {
     "data": {
      "text/latex": [
       "$\\displaystyle \n",
       "$$ |\\psi\\rangle =\\begin{bmatrix}\n",
       "-0.99702 \\\\\n",
       "-0.07712\\end{bmatrix} $"
      ],
      "text/plain": [
       "<IPython.core.display.Math object>"
      ]
     },
     "metadata": {},
     "output_type": "display_data"
    },
    {
     "name": "stdout",
     "output_type": "stream",
     "text": [
      "Salida counts = {'0': 1}\n",
      "Given the former angle theta and quantum state, the new prediction is:\n",
      "Prediction = 0\n",
      "int(Prediction) = 0 \n",
      "\n",
      "Overall Probability = -0.8713147531955631\n"
     ]
    },
    {
     "data": {
      "text/latex": [
       "$\\displaystyle \n",
       "$$ |\\psi\\rangle =\\begin{bmatrix}\n",
       "-0.97964 \\\\\n",
       "0.20076\\end{bmatrix} $"
      ],
      "text/plain": [
       "<IPython.core.display.Math object>"
      ]
     },
     "metadata": {},
     "output_type": "display_data"
    },
    {
     "name": "stdout",
     "output_type": "stream",
     "text": [
      "Salida counts = {'0': 1}\n",
      "Given the former angle theta and quantum state, the new prediction is:\n",
      "Prediction = 0\n",
      "int(Prediction) = 0 \n",
      "\n",
      "Overall Probability = -0.6978971792893397\n"
     ]
    },
    {
     "data": {
      "text/latex": [
       "$\\displaystyle \n",
       "$$ |\\psi\\rangle =\\begin{bmatrix}\n",
       "-0.88950 \\\\\n",
       "0.45693\\end{bmatrix} $"
      ],
      "text/plain": [
       "<IPython.core.display.Math object>"
      ]
     },
     "metadata": {},
     "output_type": "display_data"
    },
    {
     "name": "stdout",
     "output_type": "stream",
     "text": [
      "Salida counts = {'0': 1}\n",
      "Given the former angle theta and quantum state, the new prediction is:\n",
      "Prediction = 0\n",
      "int(Prediction) = 0 \n",
      "\n",
      "Overall Probability = -1.051809852413298\n"
     ]
    },
    {
     "data": {
      "text/latex": [
       "$\\displaystyle \n",
       "$$ |\\psi\\rangle =\\begin{bmatrix}\n",
       "-0.99669 \\\\\n",
       "-0.08129\\end{bmatrix} $"
      ],
      "text/plain": [
       "<IPython.core.display.Math object>"
      ]
     },
     "metadata": {},
     "output_type": "display_data"
    },
    {
     "name": "stdout",
     "output_type": "stream",
     "text": [
      "Salida counts = {'0': 1}\n",
      "Given the former angle theta and quantum state, the new prediction is:\n",
      "Prediction = 0\n",
      "int(Prediction) = 0 \n",
      "\n",
      "Overall Probability = -0.8551649767008812\n"
     ]
    },
    {
     "data": {
      "text/latex": [
       "$\\displaystyle \n",
       "$$ |\\psi\\rangle =\\begin{bmatrix}\n",
       "-0.97423 \\\\\n",
       "0.22555\\end{bmatrix} $"
      ],
      "text/plain": [
       "<IPython.core.display.Math object>"
      ]
     },
     "metadata": {},
     "output_type": "display_data"
    },
    {
     "name": "stdout",
     "output_type": "stream",
     "text": [
      "Salida counts = {'0': 1}\n",
      "Given the former angle theta and quantum state, the new prediction is:\n",
      "Prediction = 0\n",
      "int(Prediction) = 0 \n",
      "\n",
      "Overall Probability = -1.0465378569891512\n"
     ]
    },
    {
     "data": {
      "text/latex": [
       "$\\displaystyle \n",
       "$$ |\\psi\\rangle =\\begin{bmatrix}\n",
       "-0.99733 \\\\\n",
       "-0.07304\\end{bmatrix} $"
      ],
      "text/plain": [
       "<IPython.core.display.Math object>"
      ]
     },
     "metadata": {},
     "output_type": "display_data"
    },
    {
     "name": "stdout",
     "output_type": "stream",
     "text": [
      "Salida counts = {'0': 1}\n",
      "Given the former angle theta and quantum state, the new prediction is:\n",
      "Prediction = 0\n",
      "int(Prediction) = 0 \n",
      "\n",
      "Overall Probability = -1.0372279900775225\n"
     ]
    },
    {
     "data": {
      "text/latex": [
       "$\\displaystyle \n",
       "$$ |\\psi\\rangle =\\begin{bmatrix}\n",
       "-0.99829 \\\\\n",
       "-0.05844\\end{bmatrix} $"
      ],
      "text/plain": [
       "<IPython.core.display.Math object>"
      ]
     },
     "metadata": {},
     "output_type": "display_data"
    },
    {
     "name": "stdout",
     "output_type": "stream",
     "text": [
      "Salida counts = {'0': 1}\n",
      "Given the former angle theta and quantum state, the new prediction is:\n",
      "Prediction = 0\n",
      "int(Prediction) = 0 \n",
      "\n",
      "Overall Probability = -0.09908340924113733\n"
     ]
    },
    {
     "data": {
      "text/latex": [
       "$\\displaystyle \n",
       "$$ |\\psi\\rangle =\\begin{bmatrix}\n",
       "-0.15501 \\\\\n",
       "0.98791\\end{bmatrix} $"
      ],
      "text/plain": [
       "<IPython.core.display.Math object>"
      ]
     },
     "metadata": {},
     "output_type": "display_data"
    },
    {
     "name": "stdout",
     "output_type": "stream",
     "text": [
      "Salida counts = {'1': 1}\n",
      "Given the former angle theta and quantum state, the new prediction is:\n",
      "Prediction = 1\n",
      "int(Prediction) = 1 \n",
      "\n",
      "Overall Probability = -0.8842142095188468\n"
     ]
    },
    {
     "data": {
      "text/latex": [
       "$\\displaystyle \n",
       "$$ |\\psi\\rangle =\\begin{bmatrix}\n",
       "-0.98351 \\\\\n",
       "0.18087\\end{bmatrix} $"
      ],
      "text/plain": [
       "<IPython.core.display.Math object>"
      ]
     },
     "metadata": {},
     "output_type": "display_data"
    },
    {
     "name": "stdout",
     "output_type": "stream",
     "text": [
      "Salida counts = {'0': 1}\n",
      "Given the former angle theta and quantum state, the new prediction is:\n",
      "Prediction = 0\n",
      "int(Prediction) = 0 \n",
      "\n",
      "Overall Probability = 0.04331996752180338\n"
     ]
    },
    {
     "data": {
      "text/latex": [
       "$\\displaystyle \n",
       "$$ |\\psi\\rangle =\\begin{bmatrix}\n",
       "0.06799 \\\\\n",
       "0.99769\\end{bmatrix} $"
      ],
      "text/plain": [
       "<IPython.core.display.Math object>"
      ]
     },
     "metadata": {},
     "output_type": "display_data"
    },
    {
     "name": "stdout",
     "output_type": "stream",
     "text": [
      "Salida counts = {'1': 1}\n",
      "Given the former angle theta and quantum state, the new prediction is:\n",
      "Prediction = 1\n",
      "int(Prediction) = 1 \n",
      "\n",
      "Overall Probability = -0.4411244937825232\n"
     ]
    },
    {
     "data": {
      "text/latex": [
       "$\\displaystyle \n",
       "$$ |\\psi\\rangle =\\begin{bmatrix}\n",
       "-0.63878 \\\\\n",
       "0.76939\\end{bmatrix} $"
      ],
      "text/plain": [
       "<IPython.core.display.Math object>"
      ]
     },
     "metadata": {},
     "output_type": "display_data"
    },
    {
     "name": "stdout",
     "output_type": "stream",
     "text": [
      "Salida counts = {'1': 1}\n",
      "Given the former angle theta and quantum state, the new prediction is:\n",
      "Prediction = 1\n",
      "int(Prediction) = 1 \n",
      "\n",
      "Overall Probability = -0.30216558919425046\n"
     ]
    },
    {
     "data": {
      "text/latex": [
       "$\\displaystyle \n",
       "$$ |\\psi\\rangle =\\begin{bmatrix}\n",
       "-0.45702 \\\\\n",
       "0.88946\\end{bmatrix} $"
      ],
      "text/plain": [
       "<IPython.core.display.Math object>"
      ]
     },
     "metadata": {},
     "output_type": "display_data"
    },
    {
     "name": "stdout",
     "output_type": "stream",
     "text": [
      "Salida counts = {'1': 1}\n",
      "Given the former angle theta and quantum state, the new prediction is:\n",
      "Prediction = 1\n",
      "int(Prediction) = 1 \n",
      "\n",
      "Overall Probability = -0.8308356777987933\n"
     ]
    },
    {
     "data": {
      "text/latex": [
       "$\\displaystyle \n",
       "$$ |\\psi\\rangle =\\begin{bmatrix}\n",
       "-0.96490 \\\\\n",
       "0.26261\\end{bmatrix} $"
      ],
      "text/plain": [
       "<IPython.core.display.Math object>"
      ]
     },
     "metadata": {},
     "output_type": "display_data"
    },
    {
     "name": "stdout",
     "output_type": "stream",
     "text": [
      "Salida counts = {'0': 1}\n",
      "Given the former angle theta and quantum state, the new prediction is:\n",
      "Prediction = 0\n",
      "int(Prediction) = 0 \n",
      "\n",
      "Overall Probability = -0.8359825611627192\n"
     ]
    },
    {
     "data": {
      "text/latex": [
       "$\\displaystyle \n",
       "$$ |\\psi\\rangle =\\begin{bmatrix}\n",
       "-0.96699 \\\\\n",
       "0.25480\\end{bmatrix} $"
      ],
      "text/plain": [
       "<IPython.core.display.Math object>"
      ]
     },
     "metadata": {},
     "output_type": "display_data"
    },
    {
     "name": "stdout",
     "output_type": "stream",
     "text": [
      "Salida counts = {'0': 1}\n",
      "Given the former angle theta and quantum state, the new prediction is:\n",
      "Prediction = 0\n",
      "int(Prediction) = 0 \n",
      "\n",
      "Overall Probability = -1.048992759731591\n"
     ]
    },
    {
     "data": {
      "text/latex": [
       "$\\displaystyle \n",
       "$$ |\\psi\\rangle =\\begin{bmatrix}\n",
       "-0.99704 \\\\\n",
       "-0.07688\\end{bmatrix} $"
      ],
      "text/plain": [
       "<IPython.core.display.Math object>"
      ]
     },
     "metadata": {},
     "output_type": "display_data"
    },
    {
     "name": "stdout",
     "output_type": "stream",
     "text": [
      "Salida counts = {'0': 1}\n",
      "Given the former angle theta and quantum state, the new prediction is:\n",
      "Prediction = 0\n",
      "int(Prediction) = 0 \n",
      "\n",
      "Overall Probability = -0.8802270539172222\n"
     ]
    },
    {
     "data": {
      "text/latex": [
       "$\\displaystyle \n",
       "$$ |\\psi\\rangle =\\begin{bmatrix}\n",
       "-0.98235 \\\\\n",
       "0.18703\\end{bmatrix} $"
      ],
      "text/plain": [
       "<IPython.core.display.Math object>"
      ]
     },
     "metadata": {},
     "output_type": "display_data"
    },
    {
     "name": "stdout",
     "output_type": "stream",
     "text": [
      "Salida counts = {'0': 1}\n",
      "Given the former angle theta and quantum state, the new prediction is:\n",
      "Prediction = 0\n",
      "int(Prediction) = 0 \n",
      "\n",
      "Overall Probability = -0.8798518555098388\n"
     ]
    },
    {
     "data": {
      "text/latex": [
       "$\\displaystyle \n",
       "$$ |\\psi\\rangle =\\begin{bmatrix}\n",
       "-0.98224 \\\\\n",
       "0.18761\\end{bmatrix} $"
      ],
      "text/plain": [
       "<IPython.core.display.Math object>"
      ]
     },
     "metadata": {},
     "output_type": "display_data"
    },
    {
     "name": "stdout",
     "output_type": "stream",
     "text": [
      "Salida counts = {'0': 1}\n",
      "Given the former angle theta and quantum state, the new prediction is:\n",
      "Prediction = 0\n",
      "int(Prediction) = 0 \n",
      "\n",
      "Overall Probability = -0.9570675549014293\n"
     ]
    },
    {
     "data": {
      "text/latex": [
       "$\\displaystyle \n",
       "$$ |\\psi\\rangle =\\begin{bmatrix}\n",
       "-0.99773 \\\\\n",
       "0.06739\\end{bmatrix} $"
      ],
      "text/plain": [
       "<IPython.core.display.Math object>"
      ]
     },
     "metadata": {},
     "output_type": "display_data"
    },
    {
     "name": "stdout",
     "output_type": "stream",
     "text": [
      "Salida counts = {'0': 1}\n",
      "Given the former angle theta and quantum state, the new prediction is:\n",
      "Prediction = 0\n",
      "int(Prediction) = 0 \n",
      "\n",
      "Overall Probability = -0.3547148755015991\n"
     ]
    },
    {
     "data": {
      "text/latex": [
       "$\\displaystyle \n",
       "$$ |\\psi\\rangle =\\begin{bmatrix}\n",
       "-0.52880 \\\\\n",
       "0.84875\\end{bmatrix} $"
      ],
      "text/plain": [
       "<IPython.core.display.Math object>"
      ]
     },
     "metadata": {},
     "output_type": "display_data"
    },
    {
     "name": "stdout",
     "output_type": "stream",
     "text": [
      "Salida counts = {'1': 1}\n",
      "Given the former angle theta and quantum state, the new prediction is:\n",
      "Prediction = 1\n",
      "int(Prediction) = 1 \n",
      "\n",
      "Overall Probability = -0.4903841348778972\n"
     ]
    },
    {
     "data": {
      "text/latex": [
       "$\\displaystyle \n",
       "$$ |\\psi\\rangle =\\begin{bmatrix}\n",
       "-0.69635 \\\\\n",
       "0.71771\\end{bmatrix} $"
      ],
      "text/plain": [
       "<IPython.core.display.Math object>"
      ]
     },
     "metadata": {},
     "output_type": "display_data"
    },
    {
     "name": "stdout",
     "output_type": "stream",
     "text": [
      "Salida counts = {'1': 1}\n",
      "Given the former angle theta and quantum state, the new prediction is:\n",
      "Prediction = 1\n",
      "int(Prediction) = 1 \n",
      "\n",
      "Overall Probability = -1.050667059458096\n"
     ]
    },
    {
     "data": {
      "text/latex": [
       "$\\displaystyle \n",
       "$$ |\\psi\\rangle =\\begin{bmatrix}\n",
       "-0.99683 \\\\\n",
       "-0.07950\\end{bmatrix} $"
      ],
      "text/plain": [
       "<IPython.core.display.Math object>"
      ]
     },
     "metadata": {},
     "output_type": "display_data"
    },
    {
     "name": "stdout",
     "output_type": "stream",
     "text": [
      "Salida counts = {'0': 1}\n",
      "Given the former angle theta and quantum state, the new prediction is:\n",
      "Prediction = 0\n",
      "int(Prediction) = 0 \n",
      "\n",
      "Overall Probability = -0.8761271018951131\n"
     ]
    },
    {
     "data": {
      "text/latex": [
       "$\\displaystyle \n",
       "$$ |\\psi\\rangle =\\begin{bmatrix}\n",
       "-0.98113 \\\\\n",
       "0.19335\\end{bmatrix} $"
      ],
      "text/plain": [
       "<IPython.core.display.Math object>"
      ]
     },
     "metadata": {},
     "output_type": "display_data"
    },
    {
     "name": "stdout",
     "output_type": "stream",
     "text": [
      "Salida counts = {'0': 1}\n",
      "Given the former angle theta and quantum state, the new prediction is:\n",
      "Prediction = 0\n",
      "int(Prediction) = 0 \n",
      "\n",
      "Overall Probability = -0.9805848135552928\n"
     ]
    },
    {
     "data": {
      "text/latex": [
       "$\\displaystyle \n",
       "$$ |\\psi\\rangle =\\begin{bmatrix}\n",
       "-0.99953 \\\\\n",
       "0.03049\\end{bmatrix} $"
      ],
      "text/plain": [
       "<IPython.core.display.Math object>"
      ]
     },
     "metadata": {},
     "output_type": "display_data"
    },
    {
     "name": "stdout",
     "output_type": "stream",
     "text": [
      "Salida counts = {'0': 1}\n",
      "Given the former angle theta and quantum state, the new prediction is:\n",
      "Prediction = 0\n",
      "int(Prediction) = 0 \n",
      "\n",
      "Overall Probability = -0.3125395517326048\n"
     ]
    },
    {
     "data": {
      "text/latex": [
       "$\\displaystyle \n",
       "$$ |\\psi\\rangle =\\begin{bmatrix}\n",
       "-0.47145 \\\\\n",
       "0.88189\\end{bmatrix} $"
      ],
      "text/plain": [
       "<IPython.core.display.Math object>"
      ]
     },
     "metadata": {},
     "output_type": "display_data"
    },
    {
     "name": "stdout",
     "output_type": "stream",
     "text": [
      "Salida counts = {'1': 1}\n",
      "Given the former angle theta and quantum state, the new prediction is:\n",
      "Prediction = 1\n",
      "int(Prediction) = 1 \n",
      "\n",
      "Overall Probability = -0.5099163944476139\n"
     ]
    },
    {
     "data": {
      "text/latex": [
       "$\\displaystyle \n",
       "$$ |\\psi\\rangle =\\begin{bmatrix}\n",
       "-0.71803 \\\\\n",
       "0.69601\\end{bmatrix} $"
      ],
      "text/plain": [
       "<IPython.core.display.Math object>"
      ]
     },
     "metadata": {},
     "output_type": "display_data"
    },
    {
     "name": "stdout",
     "output_type": "stream",
     "text": [
      "Salida counts = {'0': 1}\n",
      "Given the former angle theta and quantum state, the new prediction is:\n",
      "Prediction = 0\n",
      "int(Prediction) = 0 \n",
      "\n",
      "Overall Probability = -1.0505123373176748\n"
     ]
    },
    {
     "data": {
      "text/latex": [
       "$\\displaystyle \n",
       "$$ |\\psi\\rangle =\\begin{bmatrix}\n",
       "-0.99685 \\\\\n",
       "-0.07926\\end{bmatrix} $"
      ],
      "text/plain": [
       "<IPython.core.display.Math object>"
      ]
     },
     "metadata": {},
     "output_type": "display_data"
    },
    {
     "name": "stdout",
     "output_type": "stream",
     "text": [
      "Salida counts = {'0': 1}\n",
      "Given the former angle theta and quantum state, the new prediction is:\n",
      "Prediction = 0\n",
      "int(Prediction) = 0 \n",
      "\n",
      "Overall Probability = -0.8706572199690291\n"
     ]
    },
    {
     "data": {
      "text/latex": [
       "$\\displaystyle \n",
       "$$ |\\psi\\rangle =\\begin{bmatrix}\n",
       "-0.97943 \\\\\n",
       "0.20178\\end{bmatrix} $"
      ],
      "text/plain": [
       "<IPython.core.display.Math object>"
      ]
     },
     "metadata": {},
     "output_type": "display_data"
    },
    {
     "name": "stdout",
     "output_type": "stream",
     "text": [
      "Salida counts = {'0': 1}\n",
      "Given the former angle theta and quantum state, the new prediction is:\n",
      "Prediction = 0\n",
      "int(Prediction) = 0 \n",
      "\n",
      "Overall Probability = -0.8842142095188468\n"
     ]
    },
    {
     "data": {
      "text/latex": [
       "$\\displaystyle \n",
       "$$ |\\psi\\rangle =\\begin{bmatrix}\n",
       "-0.98351 \\\\\n",
       "0.18087\\end{bmatrix} $"
      ],
      "text/plain": [
       "<IPython.core.display.Math object>"
      ]
     },
     "metadata": {},
     "output_type": "display_data"
    },
    {
     "name": "stdout",
     "output_type": "stream",
     "text": [
      "Salida counts = {'0': 1}\n",
      "Given the former angle theta and quantum state, the new prediction is:\n",
      "Prediction = 0\n",
      "int(Prediction) = 0 \n",
      "\n",
      "Overall Probability = -0.14990348571797224\n"
     ]
    },
    {
     "data": {
      "text/latex": [
       "$\\displaystyle \n",
       "$$ |\\psi\\rangle =\\begin{bmatrix}\n",
       "-0.23330 \\\\\n",
       "0.97241\\end{bmatrix} $"
      ],
      "text/plain": [
       "<IPython.core.display.Math object>"
      ]
     },
     "metadata": {},
     "output_type": "display_data"
    },
    {
     "name": "stdout",
     "output_type": "stream",
     "text": [
      "Salida counts = {'1': 1}\n",
      "Given the former angle theta and quantum state, the new prediction is:\n",
      "Prediction = 1\n",
      "int(Prediction) = 1 \n",
      "\n",
      "Overall Probability = -0.8842142095188468\n"
     ]
    },
    {
     "data": {
      "text/latex": [
       "$\\displaystyle \n",
       "$$ |\\psi\\rangle =\\begin{bmatrix}\n",
       "-0.98351 \\\\\n",
       "0.18087\\end{bmatrix} $"
      ],
      "text/plain": [
       "<IPython.core.display.Math object>"
      ]
     },
     "metadata": {},
     "output_type": "display_data"
    },
    {
     "name": "stdout",
     "output_type": "stream",
     "text": [
      "Salida counts = {'0': 1}\n",
      "Given the former angle theta and quantum state, the new prediction is:\n",
      "Prediction = 0\n",
      "int(Prediction) = 0 \n",
      "\n",
      "Overall Probability = -1.0503468718180264\n"
     ]
    },
    {
     "data": {
      "text/latex": [
       "$\\displaystyle \n",
       "$$ |\\psi\\rangle =\\begin{bmatrix}\n",
       "-0.99687 \\\\\n",
       "-0.07900\\end{bmatrix} $"
      ],
      "text/plain": [
       "<IPython.core.display.Math object>"
      ]
     },
     "metadata": {},
     "output_type": "display_data"
    },
    {
     "name": "stdout",
     "output_type": "stream",
     "text": [
      "Salida counts = {'0': 1}\n",
      "Given the former angle theta and quantum state, the new prediction is:\n",
      "Prediction = 0\n",
      "int(Prediction) = 0 \n",
      "\n",
      "Overall Probability = -0.9193657829720967\n"
     ]
    },
    {
     "data": {
      "text/latex": [
       "$\\displaystyle \n",
       "$$ |\\psi\\rangle =\\begin{bmatrix}\n",
       "-0.99199 \\\\\n",
       "0.12632\\end{bmatrix} $"
      ],
      "text/plain": [
       "<IPython.core.display.Math object>"
      ]
     },
     "metadata": {},
     "output_type": "display_data"
    },
    {
     "name": "stdout",
     "output_type": "stream",
     "text": [
      "Salida counts = {'0': 1}\n",
      "Given the former angle theta and quantum state, the new prediction is:\n",
      "Prediction = 0\n",
      "int(Prediction) = 0 \n",
      "\n",
      "Overall Probability = -0.33784757639287927\n"
     ]
    },
    {
     "data": {
      "text/latex": [
       "$\\displaystyle \n",
       "$$ |\\psi\\rangle =\\begin{bmatrix}\n",
       "-0.50613 \\\\\n",
       "0.86246\\end{bmatrix} $"
      ],
      "text/plain": [
       "<IPython.core.display.Math object>"
      ]
     },
     "metadata": {},
     "output_type": "display_data"
    },
    {
     "name": "stdout",
     "output_type": "stream",
     "text": [
      "Salida counts = {'1': 1}\n",
      "Given the former angle theta and quantum state, the new prediction is:\n",
      "Prediction = 1\n",
      "int(Prediction) = 1 \n",
      "\n",
      "Overall Probability = 0.031072712279728326\n"
     ]
    },
    {
     "data": {
      "text/latex": [
       "$\\displaystyle \n",
       "$$ |\\psi\\rangle =\\begin{bmatrix}\n",
       "0.04879 \\\\\n",
       "0.99881\\end{bmatrix} $"
      ],
      "text/plain": [
       "<IPython.core.display.Math object>"
      ]
     },
     "metadata": {},
     "output_type": "display_data"
    },
    {
     "name": "stdout",
     "output_type": "stream",
     "text": [
      "Salida counts = {'1': 1}\n",
      "Given the former angle theta and quantum state, the new prediction is:\n",
      "Prediction = 1\n",
      "int(Prediction) = 1 \n",
      "\n",
      "Overall Probability = -0.8773306122846293\n"
     ]
    },
    {
     "data": {
      "text/latex": [
       "$\\displaystyle \n",
       "$$ |\\psi\\rangle =\\begin{bmatrix}\n",
       "-0.98149 \\\\\n",
       "0.19150\\end{bmatrix} $"
      ],
      "text/plain": [
       "<IPython.core.display.Math object>"
      ]
     },
     "metadata": {},
     "output_type": "display_data"
    },
    {
     "name": "stdout",
     "output_type": "stream",
     "text": [
      "Salida counts = {'0': 1}\n",
      "Given the former angle theta and quantum state, the new prediction is:\n",
      "Prediction = 0\n",
      "int(Prediction) = 0 \n",
      "\n",
      "Overall Probability = -0.7014031717448734\n"
     ]
    },
    {
     "data": {
      "text/latex": [
       "$\\displaystyle \n",
       "$$ |\\psi\\rangle =\\begin{bmatrix}\n",
       "-0.89200 \\\\\n",
       "0.45203\\end{bmatrix} $"
      ],
      "text/plain": [
       "<IPython.core.display.Math object>"
      ]
     },
     "metadata": {},
     "output_type": "display_data"
    },
    {
     "name": "stdout",
     "output_type": "stream",
     "text": [
      "Salida counts = {'0': 1}\n",
      "Given the former angle theta and quantum state, the new prediction is:\n",
      "Prediction = 0\n",
      "int(Prediction) = 0 \n",
      "\n",
      "Overall Probability = -1.051680733698068\n"
     ]
    },
    {
     "data": {
      "text/latex": [
       "$\\displaystyle \n",
       "$$ |\\psi\\rangle =\\begin{bmatrix}\n",
       "-0.99671 \\\\\n",
       "-0.08109\\end{bmatrix} $"
      ],
      "text/plain": [
       "<IPython.core.display.Math object>"
      ]
     },
     "metadata": {},
     "output_type": "display_data"
    },
    {
     "name": "stdout",
     "output_type": "stream",
     "text": [
      "Salida counts = {'0': 1}\n",
      "Given the former angle theta and quantum state, the new prediction is:\n",
      "Prediction = 0\n",
      "int(Prediction) = 0 \n",
      "\n",
      "Overall Probability = -0.4598494944934589\n"
     ]
    },
    {
     "data": {
      "text/latex": [
       "$\\displaystyle \n",
       "$$ |\\psi\\rangle =\\begin{bmatrix}\n",
       "-0.66113 \\\\\n",
       "0.75027\\end{bmatrix} $"
      ],
      "text/plain": [
       "<IPython.core.display.Math object>"
      ]
     },
     "metadata": {},
     "output_type": "display_data"
    },
    {
     "name": "stdout",
     "output_type": "stream",
     "text": [
      "Salida counts = {'0': 1}\n",
      "Given the former angle theta and quantum state, the new prediction is:\n",
      "Prediction = 0\n",
      "int(Prediction) = 0 \n",
      "\n",
      "Overall Probability = -1.0494777946152787\n"
     ]
    },
    {
     "data": {
      "text/latex": [
       "$\\displaystyle \n",
       "$$ |\\psi\\rangle =\\begin{bmatrix}\n",
       "-0.99698 \\\\\n",
       "-0.07764\\end{bmatrix} $"
      ],
      "text/plain": [
       "<IPython.core.display.Math object>"
      ]
     },
     "metadata": {},
     "output_type": "display_data"
    },
    {
     "name": "stdout",
     "output_type": "stream",
     "text": [
      "Salida counts = {'0': 1}\n",
      "Given the former angle theta and quantum state, the new prediction is:\n",
      "Prediction = 0\n",
      "int(Prediction) = 0 \n",
      "\n",
      "Overall Probability = -0.7005744258464903\n"
     ]
    },
    {
     "data": {
      "text/latex": [
       "$\\displaystyle \n",
       "$$ |\\psi\\rangle =\\begin{bmatrix}\n",
       "-0.89142 \\\\\n",
       "0.45319\\end{bmatrix} $"
      ],
      "text/plain": [
       "<IPython.core.display.Math object>"
      ]
     },
     "metadata": {},
     "output_type": "display_data"
    },
    {
     "name": "stdout",
     "output_type": "stream",
     "text": [
      "Salida counts = {'0': 1}\n",
      "Given the former angle theta and quantum state, the new prediction is:\n",
      "Prediction = 0\n",
      "int(Prediction) = 0 \n",
      "\n",
      "Overall Probability = -0.43863583034643333\n"
     ]
    },
    {
     "data": {
      "text/latex": [
       "$\\displaystyle \n",
       "$$ |\\psi\\rangle =\\begin{bmatrix}\n",
       "-0.63577 \\\\\n",
       "0.77188\\end{bmatrix} $"
      ],
      "text/plain": [
       "<IPython.core.display.Math object>"
      ]
     },
     "metadata": {},
     "output_type": "display_data"
    },
    {
     "name": "stdout",
     "output_type": "stream",
     "text": [
      "Salida counts = {'1': 1}\n",
      "Given the former angle theta and quantum state, the new prediction is:\n",
      "Prediction = 1\n",
      "int(Prediction) = 1 \n",
      "\n",
      "Overall Probability = 0.058018335243268264\n"
     ]
    },
    {
     "data": {
      "text/latex": [
       "$\\displaystyle \n",
       "$$ |\\psi\\rangle =\\begin{bmatrix}\n",
       "0.09101 \\\\\n",
       "0.99585\\end{bmatrix} $"
      ],
      "text/plain": [
       "<IPython.core.display.Math object>"
      ]
     },
     "metadata": {},
     "output_type": "display_data"
    },
    {
     "name": "stdout",
     "output_type": "stream",
     "text": [
      "Salida counts = {'1': 1}\n",
      "Given the former angle theta and quantum state, the new prediction is:\n",
      "Prediction = 1\n",
      "int(Prediction) = 1 \n",
      "\n",
      "Overall Probability = -0.9605582815377852\n"
     ]
    },
    {
     "data": {
      "text/latex": [
       "$\\displaystyle \n",
       "$$ |\\psi\\rangle =\\begin{bmatrix}\n",
       "-0.99808 \\\\\n",
       "0.06192\\end{bmatrix} $"
      ],
      "text/plain": [
       "<IPython.core.display.Math object>"
      ]
     },
     "metadata": {},
     "output_type": "display_data"
    },
    {
     "name": "stdout",
     "output_type": "stream",
     "text": [
      "Salida counts = {'0': 1}\n",
      "Given the former angle theta and quantum state, the new prediction is:\n",
      "Prediction = 0\n",
      "int(Prediction) = 0 \n",
      "\n",
      "Overall Probability = -0.8736058586699036\n"
     ]
    },
    {
     "data": {
      "text/latex": [
       "$\\displaystyle \n",
       "$$ |\\psi\\rangle =\\begin{bmatrix}\n",
       "-0.98036 \\\\\n",
       "0.19724\\end{bmatrix} $"
      ],
      "text/plain": [
       "<IPython.core.display.Math object>"
      ]
     },
     "metadata": {},
     "output_type": "display_data"
    },
    {
     "name": "stdout",
     "output_type": "stream",
     "text": [
      "Salida counts = {'0': 1}\n",
      "Given the former angle theta and quantum state, the new prediction is:\n",
      "Prediction = 0\n",
      "int(Prediction) = 0 \n",
      "\n",
      "Overall Probability = -0.9840389760913819\n"
     ]
    },
    {
     "data": {
      "text/latex": [
       "$\\displaystyle \n",
       "$$ |\\psi\\rangle =\\begin{bmatrix}\n",
       "-0.99969 \\\\\n",
       "0.02507\\end{bmatrix} $"
      ],
      "text/plain": [
       "<IPython.core.display.Math object>"
      ]
     },
     "metadata": {},
     "output_type": "display_data"
    },
    {
     "name": "stdout",
     "output_type": "stream",
     "text": [
      "Salida counts = {'0': 1}\n",
      "Given the former angle theta and quantum state, the new prediction is:\n",
      "Prediction = 0\n",
      "int(Prediction) = 0 \n",
      "\n",
      "Overall Probability = -0.3049982795061826\n"
     ]
    },
    {
     "data": {
      "text/latex": [
       "$\\displaystyle \n",
       "$$ |\\psi\\rangle =\\begin{bmatrix}\n",
       "-0.46097 \\\\\n",
       "0.88741\\end{bmatrix} $"
      ],
      "text/plain": [
       "<IPython.core.display.Math object>"
      ]
     },
     "metadata": {},
     "output_type": "display_data"
    },
    {
     "name": "stdout",
     "output_type": "stream",
     "text": [
      "Salida counts = {'1': 1}\n",
      "Given the former angle theta and quantum state, the new prediction is:\n",
      "Prediction = 1\n",
      "int(Prediction) = 1 \n",
      "\n",
      "Overall Probability = -0.4658751626465254\n"
     ]
    },
    {
     "data": {
      "text/latex": [
       "$\\displaystyle \n",
       "$$ |\\psi\\rangle =\\begin{bmatrix}\n",
       "-0.66821 \\\\\n",
       "0.74398\\end{bmatrix} $"
      ],
      "text/plain": [
       "<IPython.core.display.Math object>"
      ]
     },
     "metadata": {},
     "output_type": "display_data"
    },
    {
     "name": "stdout",
     "output_type": "stream",
     "text": [
      "Salida counts = {'1': 1}\n",
      "Given the former angle theta and quantum state, the new prediction is:\n",
      "Prediction = 1\n",
      "int(Prediction) = 1 \n",
      "\n",
      "Overall Probability = -0.9209415599878527\n"
     ]
    },
    {
     "data": {
      "text/latex": [
       "$\\displaystyle \n",
       "$$ |\\psi\\rangle =\\begin{bmatrix}\n",
       "-0.99230 \\\\\n",
       "0.12387\\end{bmatrix} $"
      ],
      "text/plain": [
       "<IPython.core.display.Math object>"
      ]
     },
     "metadata": {},
     "output_type": "display_data"
    },
    {
     "name": "stdout",
     "output_type": "stream",
     "text": [
      "Salida counts = {'0': 1}\n",
      "Given the former angle theta and quantum state, the new prediction is:\n",
      "Prediction = 0\n",
      "int(Prediction) = 0 \n",
      "\n",
      "Overall Probability = -0.3495921145537383\n"
     ]
    },
    {
     "data": {
      "text/latex": [
       "$\\displaystyle \n",
       "$$ |\\psi\\rangle =\\begin{bmatrix}\n",
       "-0.52195 \\\\\n",
       "0.85297\\end{bmatrix} $"
      ],
      "text/plain": [
       "<IPython.core.display.Math object>"
      ]
     },
     "metadata": {},
     "output_type": "display_data"
    },
    {
     "name": "stdout",
     "output_type": "stream",
     "text": [
      "Salida counts = {'1': 1}\n",
      "Given the former angle theta and quantum state, the new prediction is:\n",
      "Prediction = 1\n",
      "int(Prediction) = 1 \n",
      "\n",
      "Overall Probability = -0.7932654000976345\n"
     ]
    },
    {
     "data": {
      "text/latex": [
       "$\\displaystyle \n",
       "$$ |\\psi\\rangle =\\begin{bmatrix}\n",
       "-0.94773 \\\\\n",
       "0.31906\\end{bmatrix} $"
      ],
      "text/plain": [
       "<IPython.core.display.Math object>"
      ]
     },
     "metadata": {},
     "output_type": "display_data"
    },
    {
     "name": "stdout",
     "output_type": "stream",
     "text": [
      "Salida counts = {'0': 1}\n",
      "Given the former angle theta and quantum state, the new prediction is:\n",
      "Prediction = 0\n",
      "int(Prediction) = 0 \n",
      "\n",
      "Overall Probability = -0.8795367001066876\n"
     ]
    },
    {
     "data": {
      "text/latex": [
       "$\\displaystyle \n",
       "$$ |\\psi\\rangle =\\begin{bmatrix}\n",
       "-0.98215 \\\\\n",
       "0.18810\\end{bmatrix} $"
      ],
      "text/plain": [
       "<IPython.core.display.Math object>"
      ]
     },
     "metadata": {},
     "output_type": "display_data"
    },
    {
     "name": "stdout",
     "output_type": "stream",
     "text": [
      "Salida counts = {'0': 1}\n",
      "Given the former angle theta and quantum state, the new prediction is:\n",
      "Prediction = 0\n",
      "int(Prediction) = 0 \n",
      "\n",
      "Overall Probability = -0.9598151743109983\n"
     ]
    },
    {
     "data": {
      "text/latex": [
       "$\\displaystyle \n",
       "$$ |\\psi\\rangle =\\begin{bmatrix}\n",
       "-0.99801 \\\\\n",
       "0.06308\\end{bmatrix} $"
      ],
      "text/plain": [
       "<IPython.core.display.Math object>"
      ]
     },
     "metadata": {},
     "output_type": "display_data"
    },
    {
     "name": "stdout",
     "output_type": "stream",
     "text": [
      "Salida counts = {'0': 1}\n",
      "Given the former angle theta and quantum state, the new prediction is:\n",
      "Prediction = 0\n",
      "int(Prediction) = 0 \n",
      "\n",
      "Overall Probability = -0.045517864735050345\n"
     ]
    },
    {
     "data": {
      "text/latex": [
       "$\\displaystyle \n",
       "$$ |\\psi\\rangle =\\begin{bmatrix}\n",
       "-0.07144 \\\\\n",
       "0.99745\\end{bmatrix} $"
      ],
      "text/plain": [
       "<IPython.core.display.Math object>"
      ]
     },
     "metadata": {},
     "output_type": "display_data"
    },
    {
     "name": "stdout",
     "output_type": "stream",
     "text": [
      "Salida counts = {'1': 1}\n",
      "Given the former angle theta and quantum state, the new prediction is:\n",
      "Prediction = 1\n",
      "int(Prediction) = 1 \n",
      "\n",
      "Overall Probability = -1.0568962483682924\n"
     ]
    },
    {
     "data": {
      "text/latex": [
       "$\\displaystyle \n",
       "$$ |\\psi\\rangle =\\begin{bmatrix}\n",
       "-0.99601 \\\\\n",
       "-0.08925\\end{bmatrix} $"
      ],
      "text/plain": [
       "<IPython.core.display.Math object>"
      ]
     },
     "metadata": {},
     "output_type": "display_data"
    },
    {
     "name": "stdout",
     "output_type": "stream",
     "text": [
      "Salida counts = {'0': 1}\n",
      "Given the former angle theta and quantum state, the new prediction is:\n",
      "Prediction = 0\n",
      "int(Prediction) = 0 \n",
      "\n",
      "Overall Probability = -0.4382966577415892\n"
     ]
    },
    {
     "data": {
      "text/latex": [
       "$\\displaystyle \n",
       "$$ |\\psi\\rangle =\\begin{bmatrix}\n",
       "-0.63536 \\\\\n",
       "0.77222\\end{bmatrix} $"
      ],
      "text/plain": [
       "<IPython.core.display.Math object>"
      ]
     },
     "metadata": {},
     "output_type": "display_data"
    },
    {
     "name": "stdout",
     "output_type": "stream",
     "text": [
      "Salida counts = {'0': 1}\n",
      "Given the former angle theta and quantum state, the new prediction is:\n",
      "Prediction = 0\n",
      "int(Prediction) = 0 \n",
      "\n",
      "Overall Probability = -0.5330020617704396\n"
     ]
    },
    {
     "data": {
      "text/latex": [
       "$\\displaystyle \n",
       "$$ |\\psi\\rangle =\\begin{bmatrix}\n",
       "-0.74280 \\\\\n",
       "0.66952\\end{bmatrix} $"
      ],
      "text/plain": [
       "<IPython.core.display.Math object>"
      ]
     },
     "metadata": {},
     "output_type": "display_data"
    },
    {
     "name": "stdout",
     "output_type": "stream",
     "text": [
      "Salida counts = {'0': 1}\n",
      "Given the former angle theta and quantum state, the new prediction is:\n",
      "Prediction = 0\n",
      "int(Prediction) = 0 \n",
      "\n",
      "Overall Probability = -0.9598151743109983\n"
     ]
    },
    {
     "data": {
      "text/latex": [
       "$\\displaystyle \n",
       "$$ |\\psi\\rangle =\\begin{bmatrix}\n",
       "-0.99801 \\\\\n",
       "0.06308\\end{bmatrix} $"
      ],
      "text/plain": [
       "<IPython.core.display.Math object>"
      ]
     },
     "metadata": {},
     "output_type": "display_data"
    },
    {
     "name": "stdout",
     "output_type": "stream",
     "text": [
      "Salida counts = {'0': 1}\n",
      "Given the former angle theta and quantum state, the new prediction is:\n",
      "Prediction = 0\n",
      "int(Prediction) = 0 \n",
      "\n",
      "Overall Probability = -0.8735727646485079\n"
     ]
    },
    {
     "data": {
      "text/latex": [
       "$\\displaystyle \n",
       "$$ |\\psi\\rangle =\\begin{bmatrix}\n",
       "-0.98035 \\\\\n",
       "0.19729\\end{bmatrix} $"
      ],
      "text/plain": [
       "<IPython.core.display.Math object>"
      ]
     },
     "metadata": {},
     "output_type": "display_data"
    },
    {
     "name": "stdout",
     "output_type": "stream",
     "text": [
      "Salida counts = {'0': 1}\n",
      "Given the former angle theta and quantum state, the new prediction is:\n",
      "Prediction = 0\n",
      "int(Prediction) = 0 \n",
      "\n",
      "Overall Probability = -1.0370446963756563\n"
     ]
    },
    {
     "data": {
      "text/latex": [
       "$\\displaystyle \n",
       "$$ |\\psi\\rangle =\\begin{bmatrix}\n",
       "-0.99831 \\\\\n",
       "-0.05816\\end{bmatrix} $"
      ],
      "text/plain": [
       "<IPython.core.display.Math object>"
      ]
     },
     "metadata": {},
     "output_type": "display_data"
    },
    {
     "name": "stdout",
     "output_type": "stream",
     "text": [
      "Salida counts = {'0': 1}\n",
      "Given the former angle theta and quantum state, the new prediction is:\n",
      "Prediction = 0\n",
      "int(Prediction) = 0 \n",
      "\n",
      "Overall Probability = -0.9598151743109983\n"
     ]
    },
    {
     "data": {
      "text/latex": [
       "$\\displaystyle \n",
       "$$ |\\psi\\rangle =\\begin{bmatrix}\n",
       "-0.99801 \\\\\n",
       "0.06308\\end{bmatrix} $"
      ],
      "text/plain": [
       "<IPython.core.display.Math object>"
      ]
     },
     "metadata": {},
     "output_type": "display_data"
    },
    {
     "name": "stdout",
     "output_type": "stream",
     "text": [
      "Salida counts = {'0': 1}\n",
      "Given the former angle theta and quantum state, the new prediction is:\n",
      "Prediction = 0\n",
      "int(Prediction) = 0 \n",
      "\n",
      "Overall Probability = -0.7013311201397948\n"
     ]
    },
    {
     "data": {
      "text/latex": [
       "$\\displaystyle \n",
       "$$ |\\psi\\rangle =\\begin{bmatrix}\n",
       "-0.89195 \\\\\n",
       "0.45213\\end{bmatrix} $"
      ],
      "text/plain": [
       "<IPython.core.display.Math object>"
      ]
     },
     "metadata": {},
     "output_type": "display_data"
    },
    {
     "name": "stdout",
     "output_type": "stream",
     "text": [
      "Salida counts = {'0': 1}\n",
      "Given the former angle theta and quantum state, the new prediction is:\n",
      "Prediction = 0\n",
      "int(Prediction) = 0 \n",
      "\n",
      "Overall Probability = -1.0529413553106728\n"
     ]
    },
    {
     "data": {
      "text/latex": [
       "$\\displaystyle \n",
       "$$ |\\psi\\rangle =\\begin{bmatrix}\n",
       "-0.99654 \\\\\n",
       "-0.08306\\end{bmatrix} $"
      ],
      "text/plain": [
       "<IPython.core.display.Math object>"
      ]
     },
     "metadata": {},
     "output_type": "display_data"
    },
    {
     "name": "stdout",
     "output_type": "stream",
     "text": [
      "Salida counts = {'0': 1}\n",
      "Given the former angle theta and quantum state, the new prediction is:\n",
      "Prediction = 0\n",
      "int(Prediction) = 0 \n",
      "\n",
      "Overall Probability = -1.0549566951897706\n"
     ]
    },
    {
     "data": {
      "text/latex": [
       "$\\displaystyle \n",
       "$$ |\\psi\\rangle =\\begin{bmatrix}\n",
       "-0.99628 \\\\\n",
       "-0.08622\\end{bmatrix} $"
      ],
      "text/plain": [
       "<IPython.core.display.Math object>"
      ]
     },
     "metadata": {},
     "output_type": "display_data"
    },
    {
     "name": "stdout",
     "output_type": "stream",
     "text": [
      "Salida counts = {'0': 1}\n",
      "Given the former angle theta and quantum state, the new prediction is:\n",
      "Prediction = 0\n",
      "int(Prediction) = 0 \n",
      "\n",
      "Overall Probability = -0.8827482971424317\n"
     ]
    },
    {
     "data": {
      "text/latex": [
       "$\\displaystyle \n",
       "$$ |\\psi\\rangle =\\begin{bmatrix}\n",
       "-0.98309 \\\\\n",
       "0.18314\\end{bmatrix} $"
      ],
      "text/plain": [
       "<IPython.core.display.Math object>"
      ]
     },
     "metadata": {},
     "output_type": "display_data"
    },
    {
     "name": "stdout",
     "output_type": "stream",
     "text": [
      "Salida counts = {'0': 1}\n",
      "Given the former angle theta and quantum state, the new prediction is:\n",
      "Prediction = 0\n",
      "int(Prediction) = 0 \n",
      "\n",
      "Overall Probability = -0.8572487843590217\n"
     ]
    },
    {
     "data": {
      "text/latex": [
       "$\\displaystyle \n",
       "$$ |\\psi\\rangle =\\begin{bmatrix}\n",
       "-0.97496 \\\\\n",
       "0.22236\\end{bmatrix} $"
      ],
      "text/plain": [
       "<IPython.core.display.Math object>"
      ]
     },
     "metadata": {},
     "output_type": "display_data"
    },
    {
     "name": "stdout",
     "output_type": "stream",
     "text": [
      "Salida counts = {'0': 1}\n",
      "Given the former angle theta and quantum state, the new prediction is:\n",
      "Prediction = 0\n",
      "int(Prediction) = 0 \n",
      "\n",
      "Overall Probability = -1.0522013968231547\n"
     ]
    },
    {
     "data": {
      "text/latex": [
       "$\\displaystyle \n",
       "$$ |\\psi\\rangle =\\begin{bmatrix}\n",
       "-0.99664 \\\\\n",
       "-0.08191\\end{bmatrix} $"
      ],
      "text/plain": [
       "<IPython.core.display.Math object>"
      ]
     },
     "metadata": {},
     "output_type": "display_data"
    },
    {
     "name": "stdout",
     "output_type": "stream",
     "text": [
      "Salida counts = {'0': 1}\n",
      "Given the former angle theta and quantum state, the new prediction is:\n",
      "Prediction = 0\n",
      "int(Prediction) = 0 \n",
      "\n",
      "Overall Probability = -1.0509771826243288\n"
     ]
    },
    {
     "data": {
      "text/latex": [
       "$\\displaystyle \n",
       "$$ |\\psi\\rangle =\\begin{bmatrix}\n",
       "-0.99680 \\\\\n",
       "-0.07999\\end{bmatrix} $"
      ],
      "text/plain": [
       "<IPython.core.display.Math object>"
      ]
     },
     "metadata": {},
     "output_type": "display_data"
    },
    {
     "name": "stdout",
     "output_type": "stream",
     "text": [
      "Salida counts = {'0': 1}\n",
      "Given the former angle theta and quantum state, the new prediction is:\n",
      "Prediction = 0\n",
      "int(Prediction) = 0 \n",
      "\n",
      "Overall Probability = -0.31701678953051293\n"
     ]
    },
    {
     "data": {
      "text/latex": [
       "$\\displaystyle \n",
       "$$ |\\psi\\rangle =\\begin{bmatrix}\n",
       "-0.47764 \\\\\n",
       "0.87855\\end{bmatrix} $"
      ],
      "text/plain": [
       "<IPython.core.display.Math object>"
      ]
     },
     "metadata": {},
     "output_type": "display_data"
    },
    {
     "name": "stdout",
     "output_type": "stream",
     "text": [
      "Salida counts = {'1': 1}\n",
      "Given the former angle theta and quantum state, the new prediction is:\n",
      "Prediction = 1\n",
      "int(Prediction) = 1 \n",
      "\n",
      "Overall Probability = -0.8730481079128946\n"
     ]
    },
    {
     "data": {
      "text/latex": [
       "$\\displaystyle \n",
       "$$ |\\psi\\rangle =\\begin{bmatrix}\n",
       "-0.98018 \\\\\n",
       "0.19810\\end{bmatrix} $"
      ],
      "text/plain": [
       "<IPython.core.display.Math object>"
      ]
     },
     "metadata": {},
     "output_type": "display_data"
    },
    {
     "name": "stdout",
     "output_type": "stream",
     "text": [
      "Salida counts = {'0': 1}\n",
      "Given the former angle theta and quantum state, the new prediction is:\n",
      "Prediction = 0\n",
      "int(Prediction) = 0 \n",
      "\n",
      "Overall Probability = -0.45598629250021194\n"
     ]
    },
    {
     "data": {
      "text/latex": [
       "$\\displaystyle \n",
       "$$ |\\psi\\rangle =\\begin{bmatrix}\n",
       "-0.65657 \\\\\n",
       "0.75427\\end{bmatrix} $"
      ],
      "text/plain": [
       "<IPython.core.display.Math object>"
      ]
     },
     "metadata": {},
     "output_type": "display_data"
    },
    {
     "name": "stdout",
     "output_type": "stream",
     "text": [
      "Salida counts = {'0': 1}\n",
      "Given the former angle theta and quantum state, the new prediction is:\n",
      "Prediction = 0\n",
      "int(Prediction) = 0 \n",
      "\n",
      "Overall Probability = -1.0483624489252885\n"
     ]
    },
    {
     "data": {
      "text/latex": [
       "$\\displaystyle \n",
       "$$ |\\psi\\rangle =\\begin{bmatrix}\n",
       "-0.99712 \\\\\n",
       "-0.07589\\end{bmatrix} $"
      ],
      "text/plain": [
       "<IPython.core.display.Math object>"
      ]
     },
     "metadata": {},
     "output_type": "display_data"
    },
    {
     "name": "stdout",
     "output_type": "stream",
     "text": [
      "Salida counts = {'0': 1}\n",
      "Given the former angle theta and quantum state, the new prediction is:\n",
      "Prediction = 0\n",
      "int(Prediction) = 0 \n",
      "\n",
      "Overall Probability = -0.6939595280777093\n"
     ]
    },
    {
     "data": {
      "text/latex": [
       "$\\displaystyle \n",
       "$$ |\\psi\\rangle =\\begin{bmatrix}\n",
       "-0.88666 \\\\\n",
       "0.46242\\end{bmatrix} $"
      ],
      "text/plain": [
       "<IPython.core.display.Math object>"
      ]
     },
     "metadata": {},
     "output_type": "display_data"
    },
    {
     "name": "stdout",
     "output_type": "stream",
     "text": [
      "Salida counts = {'1': 1}\n",
      "Given the former angle theta and quantum state, the new prediction is:\n",
      "Prediction = 1\n",
      "int(Prediction) = 1 \n",
      "\n",
      "Overall Probability = -0.8792815877077687\n"
     ]
    },
    {
     "data": {
      "text/latex": [
       "$\\displaystyle \n",
       "$$ |\\psi\\rangle =\\begin{bmatrix}\n",
       "-0.98208 \\\\\n",
       "0.18849\\end{bmatrix} $"
      ],
      "text/plain": [
       "<IPython.core.display.Math object>"
      ]
     },
     "metadata": {},
     "output_type": "display_data"
    },
    {
     "name": "stdout",
     "output_type": "stream",
     "text": [
      "Salida counts = {'0': 1}\n",
      "Given the former angle theta and quantum state, the new prediction is:\n",
      "Prediction = 0\n",
      "int(Prediction) = 0 \n",
      "\n",
      "Overall Probability = -0.1408961943280972\n"
     ]
    },
    {
     "data": {
      "text/latex": [
       "$\\displaystyle \n",
       "$$ |\\psi\\rangle =\\begin{bmatrix}\n",
       "-0.21952 \\\\\n",
       "0.97561\\end{bmatrix} $"
      ],
      "text/plain": [
       "<IPython.core.display.Math object>"
      ]
     },
     "metadata": {},
     "output_type": "display_data"
    },
    {
     "name": "stdout",
     "output_type": "stream",
     "text": [
      "Salida counts = {'1': 1}\n",
      "Given the former angle theta and quantum state, the new prediction is:\n",
      "Prediction = 1\n",
      "int(Prediction) = 1 \n",
      "\n",
      "Overall Probability = -0.8656419559388416\n"
     ]
    },
    {
     "data": {
      "text/latex": [
       "$\\displaystyle \n",
       "$$ |\\psi\\rangle =\\begin{bmatrix}\n",
       "-0.97781 \\\\\n",
       "0.20949\\end{bmatrix} $"
      ],
      "text/plain": [
       "<IPython.core.display.Math object>"
      ]
     },
     "metadata": {},
     "output_type": "display_data"
    },
    {
     "name": "stdout",
     "output_type": "stream",
     "text": [
      "Salida counts = {'0': 1}\n",
      "Given the former angle theta and quantum state, the new prediction is:\n",
      "Prediction = 0\n",
      "int(Prediction) = 0 \n",
      "\n",
      "Overall Probability = -0.688832594381336\n"
     ]
    },
    {
     "data": {
      "text/latex": [
       "$\\displaystyle \n",
       "$$ |\\psi\\rangle =\\begin{bmatrix}\n",
       "-0.88291 \\\\\n",
       "0.46955\\end{bmatrix} $"
      ],
      "text/plain": [
       "<IPython.core.display.Math object>"
      ]
     },
     "metadata": {},
     "output_type": "display_data"
    },
    {
     "name": "stdout",
     "output_type": "stream",
     "text": [
      "Salida counts = {'0': 1}\n",
      "Given the former angle theta and quantum state, the new prediction is:\n",
      "Prediction = 0\n",
      "int(Prediction) = 0 \n",
      "\n",
      "Overall Probability = -0.316476372789383\n"
     ]
    },
    {
     "data": {
      "text/latex": [
       "$\\displaystyle \n",
       "$$ |\\psi\\rangle =\\begin{bmatrix}\n",
       "-0.47690 \\\\\n",
       "0.87896\\end{bmatrix} $"
      ],
      "text/plain": [
       "<IPython.core.display.Math object>"
      ]
     },
     "metadata": {},
     "output_type": "display_data"
    },
    {
     "name": "stdout",
     "output_type": "stream",
     "text": [
      "Salida counts = {'1': 1}\n",
      "Given the former angle theta and quantum state, the new prediction is:\n",
      "Prediction = 1\n",
      "int(Prediction) = 1 \n",
      "\n",
      "Overall Probability = -1.051809852413298\n"
     ]
    },
    {
     "data": {
      "text/latex": [
       "$\\displaystyle \n",
       "$$ |\\psi\\rangle =\\begin{bmatrix}\n",
       "-0.99669 \\\\\n",
       "-0.08129\\end{bmatrix} $"
      ],
      "text/plain": [
       "<IPython.core.display.Math object>"
      ]
     },
     "metadata": {},
     "output_type": "display_data"
    },
    {
     "name": "stdout",
     "output_type": "stream",
     "text": [
      "Salida counts = {'0': 1}\n",
      "Given the former angle theta and quantum state, the new prediction is:\n",
      "Prediction = 0\n",
      "int(Prediction) = 0 \n",
      "\n",
      "Overall Probability = -0.4460259015353477\n"
     ]
    },
    {
     "data": {
      "text/latex": [
       "$\\displaystyle \n",
       "$$ |\\psi\\rangle =\\begin{bmatrix}\n",
       "-0.64469 \\\\\n",
       "0.76445\\end{bmatrix} $"
      ],
      "text/plain": [
       "<IPython.core.display.Math object>"
      ]
     },
     "metadata": {},
     "output_type": "display_data"
    },
    {
     "name": "stdout",
     "output_type": "stream",
     "text": [
      "Salida counts = {'1': 1}\n",
      "Given the former angle theta and quantum state, the new prediction is:\n",
      "Prediction = 1\n",
      "int(Prediction) = 1 \n",
      "\n",
      "Overall Probability = -0.6593049818646959\n"
     ]
    },
    {
     "data": {
      "text/latex": [
       "$\\displaystyle \n",
       "$$ |\\psi\\rangle =\\begin{bmatrix}\n",
       "-0.86019 \\\\\n",
       "0.50998\\end{bmatrix} $"
      ],
      "text/plain": [
       "<IPython.core.display.Math object>"
      ]
     },
     "metadata": {},
     "output_type": "display_data"
    },
    {
     "name": "stdout",
     "output_type": "stream",
     "text": [
      "Salida counts = {'0': 1}\n",
      "Given the former angle theta and quantum state, the new prediction is:\n",
      "Prediction = 0\n",
      "int(Prediction) = 0 \n",
      "\n",
      "Overall Probability = -0.8745542566605008\n"
     ]
    },
    {
     "data": {
      "text/latex": [
       "$\\displaystyle \n",
       "$$ |\\psi\\rangle =\\begin{bmatrix}\n",
       "-0.98065 \\\\\n",
       "0.19578\\end{bmatrix} $"
      ],
      "text/plain": [
       "<IPython.core.display.Math object>"
      ]
     },
     "metadata": {},
     "output_type": "display_data"
    },
    {
     "name": "stdout",
     "output_type": "stream",
     "text": [
      "Salida counts = {'0': 1}\n",
      "Given the former angle theta and quantum state, the new prediction is:\n",
      "Prediction = 0\n",
      "int(Prediction) = 0 \n",
      "\n",
      "Overall Probability = -0.8641822032283479\n"
     ]
    },
    {
     "data": {
      "text/latex": [
       "$\\displaystyle \n",
       "$$ |\\psi\\rangle =\\begin{bmatrix}\n",
       "-0.97733 \\\\\n",
       "0.21173\\end{bmatrix} $"
      ],
      "text/plain": [
       "<IPython.core.display.Math object>"
      ]
     },
     "metadata": {},
     "output_type": "display_data"
    },
    {
     "name": "stdout",
     "output_type": "stream",
     "text": [
      "Salida counts = {'0': 1}\n",
      "Given the former angle theta and quantum state, the new prediction is:\n",
      "Prediction = 0\n",
      "int(Prediction) = 0 \n",
      "\n",
      "Overall Probability = -0.40338510404219474\n"
     ]
    },
    {
     "data": {
      "text/latex": [
       "$\\displaystyle \n",
       "$$ |\\psi\\rangle =\\begin{bmatrix}\n",
       "-0.59208 \\\\\n",
       "0.80588\\end{bmatrix} $"
      ],
      "text/plain": [
       "<IPython.core.display.Math object>"
      ]
     },
     "metadata": {},
     "output_type": "display_data"
    },
    {
     "name": "stdout",
     "output_type": "stream",
     "text": [
      "Salida counts = {'0': 1}\n",
      "Given the former angle theta and quantum state, the new prediction is:\n",
      "Prediction = 0\n",
      "int(Prediction) = 0 \n",
      "\n",
      "Overall Probability = -1.051809852413298\n"
     ]
    },
    {
     "data": {
      "text/latex": [
       "$\\displaystyle \n",
       "$$ |\\psi\\rangle =\\begin{bmatrix}\n",
       "-0.99669 \\\\\n",
       "-0.08129\\end{bmatrix} $"
      ],
      "text/plain": [
       "<IPython.core.display.Math object>"
      ]
     },
     "metadata": {},
     "output_type": "display_data"
    },
    {
     "name": "stdout",
     "output_type": "stream",
     "text": [
      "Salida counts = {'0': 1}\n",
      "Given the former angle theta and quantum state, the new prediction is:\n",
      "Prediction = 0\n",
      "int(Prediction) = 0 \n",
      "\n",
      "Overall Probability = -0.33028477276854307\n"
     ]
    },
    {
     "data": {
      "text/latex": [
       "$\\displaystyle \n",
       "$$ |\\psi\\rangle =\\begin{bmatrix}\n",
       "-0.49585 \\\\\n",
       "0.86841\\end{bmatrix} $"
      ],
      "text/plain": [
       "<IPython.core.display.Math object>"
      ]
     },
     "metadata": {},
     "output_type": "display_data"
    },
    {
     "name": "stdout",
     "output_type": "stream",
     "text": [
      "Salida counts = {'1': 1}\n",
      "Given the former angle theta and quantum state, the new prediction is:\n",
      "Prediction = 1\n",
      "int(Prediction) = 1 \n",
      "\n",
      "Overall Probability = -0.49069415032266983\n"
     ]
    },
    {
     "data": {
      "text/latex": [
       "$\\displaystyle \n",
       "$$ |\\psi\\rangle =\\begin{bmatrix}\n",
       "-0.69670 \\\\\n",
       "0.71737\\end{bmatrix} $"
      ],
      "text/plain": [
       "<IPython.core.display.Math object>"
      ]
     },
     "metadata": {},
     "output_type": "display_data"
    },
    {
     "name": "stdout",
     "output_type": "stream",
     "text": [
      "Salida counts = {'1': 1}\n",
      "Given the former angle theta and quantum state, the new prediction is:\n",
      "Prediction = 1\n",
      "int(Prediction) = 1 \n",
      "\n",
      "Overall Probability = -0.8650090986993998\n"
     ]
    },
    {
     "data": {
      "text/latex": [
       "$\\displaystyle \n",
       "$$ |\\psi\\rangle =\\begin{bmatrix}\n",
       "-0.97760 \\\\\n",
       "0.21046\\end{bmatrix} $"
      ],
      "text/plain": [
       "<IPython.core.display.Math object>"
      ]
     },
     "metadata": {},
     "output_type": "display_data"
    },
    {
     "name": "stdout",
     "output_type": "stream",
     "text": [
      "Salida counts = {'0': 1}\n",
      "Given the former angle theta and quantum state, the new prediction is:\n",
      "Prediction = 0\n",
      "int(Prediction) = 0 \n",
      "\n",
      "Overall Probability = -0.8669593633373472\n"
     ]
    },
    {
     "data": {
      "text/latex": [
       "$\\displaystyle \n",
       "$$ |\\psi\\rangle =\\begin{bmatrix}\n",
       "-0.97824 \\\\\n",
       "0.20746\\end{bmatrix} $"
      ],
      "text/plain": [
       "<IPython.core.display.Math object>"
      ]
     },
     "metadata": {},
     "output_type": "display_data"
    },
    {
     "name": "stdout",
     "output_type": "stream",
     "text": [
      "Salida counts = {'0': 1}\n",
      "Given the former angle theta and quantum state, the new prediction is:\n",
      "Prediction = 0\n",
      "int(Prediction) = 0 \n",
      "\n",
      "Overall Probability = -0.40376846747586453\n"
     ]
    },
    {
     "data": {
      "text/latex": [
       "$\\displaystyle \n",
       "$$ |\\psi\\rangle =\\begin{bmatrix}\n",
       "-0.59256 \\\\\n",
       "0.80552\\end{bmatrix} $"
      ],
      "text/plain": [
       "<IPython.core.display.Math object>"
      ]
     },
     "metadata": {},
     "output_type": "display_data"
    },
    {
     "name": "stdout",
     "output_type": "stream",
     "text": [
      "Salida counts = {'1': 1}\n",
      "Given the former angle theta and quantum state, the new prediction is:\n",
      "Prediction = 1\n",
      "int(Prediction) = 1 \n",
      "\n",
      "Overall Probability = -0.8764451890794079\n"
     ]
    },
    {
     "data": {
      "text/latex": [
       "$\\displaystyle \n",
       "$$ |\\psi\\rangle =\\begin{bmatrix}\n",
       "-0.98123 \\\\\n",
       "0.19286\\end{bmatrix} $"
      ],
      "text/plain": [
       "<IPython.core.display.Math object>"
      ]
     },
     "metadata": {},
     "output_type": "display_data"
    },
    {
     "name": "stdout",
     "output_type": "stream",
     "text": [
      "Salida counts = {'0': 1}\n",
      "Given the former angle theta and quantum state, the new prediction is:\n",
      "Prediction = 0\n",
      "int(Prediction) = 0 \n",
      "\n",
      "Overall Probability = -0.3425749074401471\n"
     ]
    },
    {
     "data": {
      "text/latex": [
       "$\\displaystyle \n",
       "$$ |\\psi\\rangle =\\begin{bmatrix}\n",
       "-0.51252 \\\\\n",
       "0.85868\\end{bmatrix} $"
      ],
      "text/plain": [
       "<IPython.core.display.Math object>"
      ]
     },
     "metadata": {},
     "output_type": "display_data"
    },
    {
     "name": "stdout",
     "output_type": "stream",
     "text": [
      "Salida counts = {'1': 1}\n",
      "Given the former angle theta and quantum state, the new prediction is:\n",
      "Prediction = 1\n",
      "int(Prediction) = 1 \n",
      "\n",
      "Overall Probability = -0.48031214912564474\n"
     ]
    },
    {
     "data": {
      "text/latex": [
       "$\\displaystyle \n",
       "$$ |\\psi\\rangle =\\begin{bmatrix}\n",
       "-0.68490 \\\\\n",
       "0.72863\\end{bmatrix} $"
      ],
      "text/plain": [
       "<IPython.core.display.Math object>"
      ]
     },
     "metadata": {},
     "output_type": "display_data"
    },
    {
     "name": "stdout",
     "output_type": "stream",
     "text": [
      "Salida counts = {'1': 1}\n",
      "Given the former angle theta and quantum state, the new prediction is:\n",
      "Prediction = 1\n",
      "int(Prediction) = 1 \n",
      "\n",
      "Overall Probability = -1.0449042299540996\n"
     ]
    },
    {
     "data": {
      "text/latex": [
       "$\\displaystyle \n",
       "$$ |\\psi\\rangle =\\begin{bmatrix}\n",
       "-0.99751 \\\\\n",
       "-0.07048\\end{bmatrix} $"
      ],
      "text/plain": [
       "<IPython.core.display.Math object>"
      ]
     },
     "metadata": {},
     "output_type": "display_data"
    },
    {
     "name": "stdout",
     "output_type": "stream",
     "text": [
      "Salida counts = {'0': 1}\n",
      "Given the former angle theta and quantum state, the new prediction is:\n",
      "Prediction = 0\n",
      "int(Prediction) = 0 \n",
      "\n",
      "Overall Probability = -1.051809852413298\n"
     ]
    },
    {
     "data": {
      "text/latex": [
       "$\\displaystyle \n",
       "$$ |\\psi\\rangle =\\begin{bmatrix}\n",
       "-0.99669 \\\\\n",
       "-0.08129\\end{bmatrix} $"
      ],
      "text/plain": [
       "<IPython.core.display.Math object>"
      ]
     },
     "metadata": {},
     "output_type": "display_data"
    },
    {
     "name": "stdout",
     "output_type": "stream",
     "text": [
      "Salida counts = {'0': 1}\n",
      "Given the former angle theta and quantum state, the new prediction is:\n",
      "Prediction = 0\n",
      "int(Prediction) = 0 \n",
      "\n",
      "Overall Probability = -0.17033256926665963\n"
     ]
    },
    {
     "data": {
      "text/latex": [
       "$\\displaystyle \n",
       "$$ |\\psi\\rangle =\\begin{bmatrix}\n",
       "-0.26438 \\\\\n",
       "0.96442\\end{bmatrix} $"
      ],
      "text/plain": [
       "<IPython.core.display.Math object>"
      ]
     },
     "metadata": {},
     "output_type": "display_data"
    },
    {
     "name": "stdout",
     "output_type": "stream",
     "text": [
      "Salida counts = {'1': 1}\n",
      "Given the former angle theta and quantum state, the new prediction is:\n",
      "Prediction = 1\n",
      "int(Prediction) = 1 \n",
      "\n",
      "Overall Probability = -0.6942457567791878\n"
     ]
    },
    {
     "data": {
      "text/latex": [
       "$\\displaystyle \n",
       "$$ |\\psi\\rangle =\\begin{bmatrix}\n",
       "-0.88687 \\\\\n",
       "0.46203\\end{bmatrix} $"
      ],
      "text/plain": [
       "<IPython.core.display.Math object>"
      ]
     },
     "metadata": {},
     "output_type": "display_data"
    },
    {
     "name": "stdout",
     "output_type": "stream",
     "text": [
      "Salida counts = {'1': 1}\n",
      "Given the former angle theta and quantum state, the new prediction is:\n",
      "Prediction = 1\n",
      "int(Prediction) = 1 \n",
      "\n",
      "Overall Probability = -1.0534049353757076\n"
     ]
    },
    {
     "data": {
      "text/latex": [
       "$\\displaystyle \n",
       "$$ |\\psi\\rangle =\\begin{bmatrix}\n",
       "-0.99648 \\\\\n",
       "-0.08379\\end{bmatrix} $"
      ],
      "text/plain": [
       "<IPython.core.display.Math object>"
      ]
     },
     "metadata": {},
     "output_type": "display_data"
    },
    {
     "name": "stdout",
     "output_type": "stream",
     "text": [
      "Salida counts = {'0': 1}\n",
      "Given the former angle theta and quantum state, the new prediction is:\n",
      "Prediction = 0\n",
      "int(Prediction) = 0 \n",
      "\n",
      "Overall Probability = -0.441367011224367\n"
     ]
    },
    {
     "data": {
      "text/latex": [
       "$\\displaystyle \n",
       "$$ |\\psi\\rangle =\\begin{bmatrix}\n",
       "-0.63908 \\\\\n",
       "0.76914\\end{bmatrix} $"
      ],
      "text/plain": [
       "<IPython.core.display.Math object>"
      ]
     },
     "metadata": {},
     "output_type": "display_data"
    },
    {
     "name": "stdout",
     "output_type": "stream",
     "text": [
      "Salida counts = {'1': 1}\n",
      "Given the former angle theta and quantum state, the new prediction is:\n",
      "Prediction = 1\n",
      "int(Prediction) = 1 \n",
      "\n",
      "Overall Probability = -1.0277329619162787\n"
     ]
    },
    {
     "data": {
      "text/latex": [
       "$\\displaystyle \n",
       "$$ |\\psi\\rangle =\\begin{bmatrix}\n",
       "-0.99905 \\\\\n",
       "-0.04355\\end{bmatrix} $"
      ],
      "text/plain": [
       "<IPython.core.display.Math object>"
      ]
     },
     "metadata": {},
     "output_type": "display_data"
    },
    {
     "name": "stdout",
     "output_type": "stream",
     "text": [
      "Salida counts = {'0': 1}\n",
      "Given the former angle theta and quantum state, the new prediction is:\n",
      "Prediction = 0\n",
      "int(Prediction) = 0 \n",
      "\n",
      "Overall Probability = -0.8299594883085619\n"
     ]
    },
    {
     "data": {
      "text/latex": [
       "$\\displaystyle \n",
       "$$ |\\psi\\rangle =\\begin{bmatrix}\n",
       "-0.96454 \\\\\n",
       "0.26393\\end{bmatrix} $"
      ],
      "text/plain": [
       "<IPython.core.display.Math object>"
      ]
     },
     "metadata": {},
     "output_type": "display_data"
    },
    {
     "name": "stdout",
     "output_type": "stream",
     "text": [
      "Salida counts = {'0': 1}\n",
      "Given the former angle theta and quantum state, the new prediction is:\n",
      "Prediction = 0\n",
      "int(Prediction) = 0 \n",
      "\n",
      "Overall Probability = -0.8742391012573496\n"
     ]
    },
    {
     "data": {
      "text/latex": [
       "$\\displaystyle \n",
       "$$ |\\psi\\rangle =\\begin{bmatrix}\n",
       "-0.98055 \\\\\n",
       "0.19626\\end{bmatrix} $"
      ],
      "text/plain": [
       "<IPython.core.display.Math object>"
      ]
     },
     "metadata": {},
     "output_type": "display_data"
    },
    {
     "name": "stdout",
     "output_type": "stream",
     "text": [
      "Salida counts = {'0': 1}\n",
      "Given the former angle theta and quantum state, the new prediction is:\n",
      "Prediction = 0\n",
      "int(Prediction) = 0 \n",
      "\n",
      "Overall Probability = -1.0162871015733013\n"
     ]
    },
    {
     "data": {
      "text/latex": [
       "$\\displaystyle \n",
       "$$ |\\psi\\rangle =\\begin{bmatrix}\n",
       "-0.99967 \\\\\n",
       "-0.02558\\end{bmatrix} $"
      ],
      "text/plain": [
       "<IPython.core.display.Math object>"
      ]
     },
     "metadata": {},
     "output_type": "display_data"
    },
    {
     "name": "stdout",
     "output_type": "stream",
     "text": [
      "Salida counts = {'0': 1}\n",
      "Given the former angle theta and quantum state, the new prediction is:\n",
      "Prediction = 0\n",
      "int(Prediction) = 0 \n",
      "\n",
      "Overall Probability = -1.0517163619394672\n"
     ]
    },
    {
     "data": {
      "text/latex": [
       "$\\displaystyle \n",
       "$$ |\\psi\\rangle =\\begin{bmatrix}\n",
       "-0.99670 \\\\\n",
       "-0.08115\\end{bmatrix} $"
      ],
      "text/plain": [
       "<IPython.core.display.Math object>"
      ]
     },
     "metadata": {},
     "output_type": "display_data"
    },
    {
     "name": "stdout",
     "output_type": "stream",
     "text": [
      "Salida counts = {'0': 1}\n",
      "Given the former angle theta and quantum state, the new prediction is:\n",
      "Prediction = 0\n",
      "int(Prediction) = 0 \n",
      "\n",
      "Overall Probability = -0.8636648992133447\n"
     ]
    },
    {
     "data": {
      "text/latex": [
       "$\\displaystyle \n",
       "$$ |\\psi\\rangle =\\begin{bmatrix}\n",
       "-0.97716 \\\\\n",
       "0.21252\\end{bmatrix} $"
      ],
      "text/plain": [
       "<IPython.core.display.Math object>"
      ]
     },
     "metadata": {},
     "output_type": "display_data"
    },
    {
     "name": "stdout",
     "output_type": "stream",
     "text": [
      "Salida counts = {'0': 1}\n",
      "Given the former angle theta and quantum state, the new prediction is:\n",
      "Prediction = 0\n",
      "int(Prediction) = 0 \n",
      "\n",
      "Overall Probability = -0.8481102037189295\n"
     ]
    },
    {
     "data": {
      "text/latex": [
       "$\\displaystyle \n",
       "$$ |\\psi\\rangle =\\begin{bmatrix}\n",
       "-0.97167 \\\\\n",
       "0.23633\\end{bmatrix} $"
      ],
      "text/plain": [
       "<IPython.core.display.Math object>"
      ]
     },
     "metadata": {},
     "output_type": "display_data"
    },
    {
     "name": "stdout",
     "output_type": "stream",
     "text": [
      "Salida counts = {'0': 1}\n",
      "Given the former angle theta and quantum state, the new prediction is:\n",
      "Prediction = 0\n",
      "int(Prediction) = 0 \n",
      "\n",
      "Overall Probability = -0.358777335830597\n"
     ]
    },
    {
     "data": {
      "text/latex": [
       "$\\displaystyle \n",
       "$$ |\\psi\\rangle =\\begin{bmatrix}\n",
       "-0.53420 \\\\\n",
       "0.84536\\end{bmatrix} $"
      ],
      "text/plain": [
       "<IPython.core.display.Math object>"
      ]
     },
     "metadata": {},
     "output_type": "display_data"
    },
    {
     "name": "stdout",
     "output_type": "stream",
     "text": [
      "Salida counts = {'0': 1}\n",
      "Given the former angle theta and quantum state, the new prediction is:\n",
      "Prediction = 0\n",
      "int(Prediction) = 0 \n",
      "\n",
      "Overall Probability = -0.8802270539172222\n"
     ]
    },
    {
     "data": {
      "text/latex": [
       "$\\displaystyle \n",
       "$$ |\\psi\\rangle =\\begin{bmatrix}\n",
       "-0.98235 \\\\\n",
       "0.18703\\end{bmatrix} $"
      ],
      "text/plain": [
       "<IPython.core.display.Math object>"
      ]
     },
     "metadata": {},
     "output_type": "display_data"
    },
    {
     "name": "stdout",
     "output_type": "stream",
     "text": [
      "Salida counts = {'0': 1}\n",
      "Given the former angle theta and quantum state, the new prediction is:\n",
      "Prediction = 0\n",
      "int(Prediction) = 0 \n",
      "\n",
      "Overall Probability = -0.6482756055092251\n"
     ]
    },
    {
     "data": {
      "text/latex": [
       "$\\displaystyle \n",
       "$$ |\\psi\\rangle =\\begin{bmatrix}\n",
       "-0.85122 \\\\\n",
       "0.52481\\end{bmatrix} $"
      ],
      "text/plain": [
       "<IPython.core.display.Math object>"
      ]
     },
     "metadata": {},
     "output_type": "display_data"
    },
    {
     "name": "stdout",
     "output_type": "stream",
     "text": [
      "Salida counts = {'0': 1}\n",
      "Given the former angle theta and quantum state, the new prediction is:\n",
      "Prediction = 0\n",
      "int(Prediction) = 0 \n",
      "\n",
      "Overall Probability = -0.28802059567492444\n"
     ]
    },
    {
     "data": {
      "text/latex": [
       "$\\displaystyle \n",
       "$$ |\\psi\\rangle =\\begin{bmatrix}\n",
       "-0.43714 \\\\\n",
       "0.89939\\end{bmatrix} $"
      ],
      "text/plain": [
       "<IPython.core.display.Math object>"
      ]
     },
     "metadata": {},
     "output_type": "display_data"
    },
    {
     "name": "stdout",
     "output_type": "stream",
     "text": [
      "Salida counts = {'0': 1}\n",
      "Given the former angle theta and quantum state, the new prediction is:\n",
      "Prediction = 0\n",
      "int(Prediction) = 0 \n",
      "\n",
      "Overall Probability = -0.038269290462572964\n"
     ]
    },
    {
     "data": {
      "text/latex": [
       "$\\displaystyle \n",
       "$$ |\\psi\\rangle =\\begin{bmatrix}\n",
       "-0.06008 \\\\\n",
       "0.99819\\end{bmatrix} $"
      ],
      "text/plain": [
       "<IPython.core.display.Math object>"
      ]
     },
     "metadata": {},
     "output_type": "display_data"
    },
    {
     "name": "stdout",
     "output_type": "stream",
     "text": [
      "Salida counts = {'1': 1}\n",
      "Given the former angle theta and quantum state, the new prediction is:\n",
      "Prediction = 1\n",
      "int(Prediction) = 1 \n",
      "\n",
      "Overall Probability = -1.0348907997555956\n"
     ]
    },
    {
     "data": {
      "text/latex": [
       "$\\displaystyle \n",
       "$$ |\\psi\\rangle =\\begin{bmatrix}\n",
       "-0.99850 \\\\\n",
       "-0.05478\\end{bmatrix} $"
      ],
      "text/plain": [
       "<IPython.core.display.Math object>"
      ]
     },
     "metadata": {},
     "output_type": "display_data"
    },
    {
     "name": "stdout",
     "output_type": "stream",
     "text": [
      "Salida counts = {'0': 1}\n",
      "Given the former angle theta and quantum state, the new prediction is:\n",
      "Prediction = 0\n",
      "int(Prediction) = 0 \n",
      "\n",
      "Overall Probability = -0.8905671392169793\n"
     ]
    },
    {
     "data": {
      "text/latex": [
       "$\\displaystyle \n",
       "$$ |\\psi\\rangle =\\begin{bmatrix}\n",
       "-0.98526 \\\\\n",
       "0.17105\\end{bmatrix} $"
      ],
      "text/plain": [
       "<IPython.core.display.Math object>"
      ]
     },
     "metadata": {},
     "output_type": "display_data"
    },
    {
     "name": "stdout",
     "output_type": "stream",
     "text": [
      "Salida counts = {'0': 1}\n",
      "Given the former angle theta and quantum state, the new prediction is:\n",
      "Prediction = 0\n",
      "int(Prediction) = 0 \n",
      "\n",
      "Overall Probability = -0.31164147043612944\n"
     ]
    },
    {
     "data": {
      "text/latex": [
       "$\\displaystyle \n",
       "$$ |\\psi\\rangle =\\begin{bmatrix}\n",
       "-0.47021 \\\\\n",
       "0.88256\\end{bmatrix} $"
      ],
      "text/plain": [
       "<IPython.core.display.Math object>"
      ]
     },
     "metadata": {},
     "output_type": "display_data"
    },
    {
     "name": "stdout",
     "output_type": "stream",
     "text": [
      "Salida counts = {'0': 1}\n",
      "Given the former angle theta and quantum state, the new prediction is:\n",
      "Prediction = 0\n",
      "int(Prediction) = 0 \n",
      "\n",
      "Overall Probability = -0.03583951566289788\n"
     ]
    },
    {
     "data": {
      "text/latex": [
       "$\\displaystyle \n",
       "$$ |\\psi\\rangle =\\begin{bmatrix}\n",
       "-0.05627 \\\\\n",
       "0.99842\\end{bmatrix} $"
      ],
      "text/plain": [
       "<IPython.core.display.Math object>"
      ]
     },
     "metadata": {},
     "output_type": "display_data"
    },
    {
     "name": "stdout",
     "output_type": "stream",
     "text": [
      "Salida counts = {'1': 1}\n",
      "Given the former angle theta and quantum state, the new prediction is:\n",
      "Prediction = 1\n",
      "int(Prediction) = 1 \n",
      "\n",
      "Overall Probability = -1.011983157160749\n"
     ]
    },
    {
     "data": {
      "text/latex": [
       "$\\displaystyle \n",
       "$$ |\\psi\\rangle =\\begin{bmatrix}\n",
       "-0.99982 \\\\\n",
       "-0.01882\\end{bmatrix} $"
      ],
      "text/plain": [
       "<IPython.core.display.Math object>"
      ]
     },
     "metadata": {},
     "output_type": "display_data"
    },
    {
     "name": "stdout",
     "output_type": "stream",
     "text": [
      "Salida counts = {'0': 1}\n",
      "Given the former angle theta and quantum state, the new prediction is:\n",
      "Prediction = 0\n",
      "int(Prediction) = 0 \n",
      "\n",
      "Overall Probability = -0.71183139358112\n"
     ]
    },
    {
     "data": {
      "text/latex": [
       "$\\displaystyle \n",
       "$$ |\\psi\\rangle =\\begin{bmatrix}\n",
       "-0.89929 \\\\\n",
       "0.43735\\end{bmatrix} $"
      ],
      "text/plain": [
       "<IPython.core.display.Math object>"
      ]
     },
     "metadata": {},
     "output_type": "display_data"
    },
    {
     "name": "stdout",
     "output_type": "stream",
     "text": [
      "Salida counts = {'0': 1}\n",
      "Given the former angle theta and quantum state, the new prediction is:\n",
      "Prediction = 0\n",
      "int(Prediction) = 0 \n",
      "\n",
      "Overall Probability = -0.8674413420109278\n"
     ]
    },
    {
     "data": {
      "text/latex": [
       "$\\displaystyle \n",
       "$$ |\\psi\\rangle =\\begin{bmatrix}\n",
       "-0.97840 \\\\\n",
       "0.20672\\end{bmatrix} $"
      ],
      "text/plain": [
       "<IPython.core.display.Math object>"
      ]
     },
     "metadata": {},
     "output_type": "display_data"
    },
    {
     "name": "stdout",
     "output_type": "stream",
     "text": [
      "Salida counts = {'0': 1}\n",
      "Given the former angle theta and quantum state, the new prediction is:\n",
      "Prediction = 0\n",
      "int(Prediction) = 0 \n",
      "\n",
      "Overall Probability = -0.8709723753721804\n"
     ]
    },
    {
     "data": {
      "text/latex": [
       "$\\displaystyle \n",
       "$$ |\\psi\\rangle =\\begin{bmatrix}\n",
       "-0.97953 \\\\\n",
       "0.20129\\end{bmatrix} $"
      ],
      "text/plain": [
       "<IPython.core.display.Math object>"
      ]
     },
     "metadata": {},
     "output_type": "display_data"
    },
    {
     "name": "stdout",
     "output_type": "stream",
     "text": [
      "Salida counts = {'0': 1}\n",
      "Given the former angle theta and quantum state, the new prediction is:\n",
      "Prediction = 0\n",
      "int(Prediction) = 0 \n",
      "\n",
      "Overall Probability = -0.18621570433076695\n"
     ]
    },
    {
     "data": {
      "text/latex": [
       "$\\displaystyle \n",
       "$$ |\\psi\\rangle =\\begin{bmatrix}\n",
       "-0.28835 \\\\\n",
       "0.95752\\end{bmatrix} $"
      ],
      "text/plain": [
       "<IPython.core.display.Math object>"
      ]
     },
     "metadata": {},
     "output_type": "display_data"
    },
    {
     "name": "stdout",
     "output_type": "stream",
     "text": [
      "Salida counts = {'1': 1}\n",
      "Given the former angle theta and quantum state, the new prediction is:\n",
      "Prediction = 1\n",
      "int(Prediction) = 1 \n",
      "\n",
      "Overall Probability = -1.0160118608921334\n"
     ]
    },
    {
     "data": {
      "text/latex": [
       "$\\displaystyle \n",
       "$$ |\\psi\\rangle =\\begin{bmatrix}\n",
       "-0.99968 \\\\\n",
       "-0.02515\\end{bmatrix} $"
      ],
      "text/plain": [
       "<IPython.core.display.Math object>"
      ]
     },
     "metadata": {},
     "output_type": "display_data"
    },
    {
     "name": "stdout",
     "output_type": "stream",
     "text": [
      "Salida counts = {'0': 1}\n",
      "Given the former angle theta and quantum state, the new prediction is:\n",
      "Prediction = 0\n",
      "int(Prediction) = 0 \n",
      "\n",
      "Overall Probability = -0.8369280273721729\n"
     ]
    },
    {
     "data": {
      "text/latex": [
       "$\\displaystyle \n",
       "$$ |\\psi\\rangle =\\begin{bmatrix}\n",
       "-0.96737 \\\\\n",
       "0.25336\\end{bmatrix} $"
      ],
      "text/plain": [
       "<IPython.core.display.Math object>"
      ]
     },
     "metadata": {},
     "output_type": "display_data"
    },
    {
     "name": "stdout",
     "output_type": "stream",
     "text": [
      "Salida counts = {'0': 1}\n",
      "Given the former angle theta and quantum state, the new prediction is:\n",
      "Prediction = 0\n",
      "int(Prediction) = 0 \n",
      "\n",
      "Overall Probability = -1.0522700024148137\n"
     ]
    },
    {
     "data": {
      "text/latex": [
       "$\\displaystyle \n",
       "$$ |\\psi\\rangle =\\begin{bmatrix}\n",
       "-0.99663 \\\\\n",
       "-0.08201\\end{bmatrix} $"
      ],
      "text/plain": [
       "<IPython.core.display.Math object>"
      ]
     },
     "metadata": {},
     "output_type": "display_data"
    },
    {
     "name": "stdout",
     "output_type": "stream",
     "text": [
      "Salida counts = {'0': 1}\n",
      "Given the former angle theta and quantum state, the new prediction is:\n",
      "Prediction = 0\n",
      "int(Prediction) = 0 \n",
      "\n",
      "Overall Probability = -0.7098581881880107\n"
     ]
    },
    {
     "data": {
      "text/latex": [
       "$\\displaystyle \n",
       "$$ |\\psi\\rangle =\\begin{bmatrix}\n",
       "-0.89793 \\\\\n",
       "0.44014\\end{bmatrix} $"
      ],
      "text/plain": [
       "<IPython.core.display.Math object>"
      ]
     },
     "metadata": {},
     "output_type": "display_data"
    },
    {
     "name": "stdout",
     "output_type": "stream",
     "text": [
      "Salida counts = {'0': 1}\n",
      "Given the former angle theta and quantum state, the new prediction is:\n",
      "Prediction = 0\n",
      "int(Prediction) = 0 \n",
      "\n",
      "Overall Probability = -1.051809852413298\n"
     ]
    },
    {
     "data": {
      "text/latex": [
       "$\\displaystyle \n",
       "$$ |\\psi\\rangle =\\begin{bmatrix}\n",
       "-0.99669 \\\\\n",
       "-0.08129\\end{bmatrix} $"
      ],
      "text/plain": [
       "<IPython.core.display.Math object>"
      ]
     },
     "metadata": {},
     "output_type": "display_data"
    },
    {
     "name": "stdout",
     "output_type": "stream",
     "text": [
      "Salida counts = {'0': 1}\n",
      "Given the former angle theta and quantum state, the new prediction is:\n",
      "Prediction = 0\n",
      "int(Prediction) = 0 \n",
      "\n",
      "Overall Probability = -0.10039961290160705\n"
     ]
    },
    {
     "data": {
      "text/latex": [
       "$\\displaystyle \n",
       "$$ |\\psi\\rangle =\\begin{bmatrix}\n",
       "-0.15705 \\\\\n",
       "0.98759\\end{bmatrix} $"
      ],
      "text/plain": [
       "<IPython.core.display.Math object>"
      ]
     },
     "metadata": {},
     "output_type": "display_data"
    },
    {
     "name": "stdout",
     "output_type": "stream",
     "text": [
      "Salida counts = {'1': 1}\n",
      "Given the former angle theta and quantum state, the new prediction is:\n",
      "Prediction = 1\n",
      "int(Prediction) = 1 \n",
      "\n",
      "Overall Probability = -0.18375569277214782\n"
     ]
    },
    {
     "data": {
      "text/latex": [
       "$\\displaystyle \n",
       "$$ |\\psi\\rangle =\\begin{bmatrix}\n",
       "-0.28465 \\\\\n",
       "0.95863\\end{bmatrix} $"
      ],
      "text/plain": [
       "<IPython.core.display.Math object>"
      ]
     },
     "metadata": {},
     "output_type": "display_data"
    },
    {
     "name": "stdout",
     "output_type": "stream",
     "text": [
      "Salida counts = {'1': 1}\n",
      "Given the former angle theta and quantum state, the new prediction is:\n",
      "Prediction = 1\n",
      "int(Prediction) = 1 \n",
      "\n",
      "Overall Probability = -0.11480560657497733\n"
     ]
    },
    {
     "data": {
      "text/latex": [
       "$\\displaystyle \n",
       "$$ |\\psi\\rangle =\\begin{bmatrix}\n",
       "-0.17936 \\\\\n",
       "0.98378\\end{bmatrix} $"
      ],
      "text/plain": [
       "<IPython.core.display.Math object>"
      ]
     },
     "metadata": {},
     "output_type": "display_data"
    },
    {
     "name": "stdout",
     "output_type": "stream",
     "text": [
      "Salida counts = {'1': 1}\n",
      "Given the former angle theta and quantum state, the new prediction is:\n",
      "Prediction = 1\n",
      "int(Prediction) = 1 \n",
      "\n",
      "Overall Probability = -1.0522013968231547\n"
     ]
    },
    {
     "data": {
      "text/latex": [
       "$\\displaystyle \n",
       "$$ |\\psi\\rangle =\\begin{bmatrix}\n",
       "-0.99664 \\\\\n",
       "-0.08191\\end{bmatrix} $"
      ],
      "text/plain": [
       "<IPython.core.display.Math object>"
      ]
     },
     "metadata": {},
     "output_type": "display_data"
    },
    {
     "name": "stdout",
     "output_type": "stream",
     "text": [
      "Salida counts = {'0': 1}\n",
      "Given the former angle theta and quantum state, the new prediction is:\n",
      "Prediction = 0\n",
      "int(Prediction) = 0 \n",
      "\n",
      "Overall Probability = -0.8609105631883716\n"
     ]
    },
    {
     "data": {
      "text/latex": [
       "$\\displaystyle \n",
       "$$ |\\psi\\rangle =\\begin{bmatrix}\n",
       "-0.97623 \\\\\n",
       "0.21675\\end{bmatrix} $"
      ],
      "text/plain": [
       "<IPython.core.display.Math object>"
      ]
     },
     "metadata": {},
     "output_type": "display_data"
    },
    {
     "name": "stdout",
     "output_type": "stream",
     "text": [
      "Salida counts = {'0': 1}\n",
      "Given the former angle theta and quantum state, the new prediction is:\n",
      "Prediction = 0\n",
      "int(Prediction) = 0 \n",
      "\n",
      "Overall Probability = -1.0516201043376072\n"
     ]
    },
    {
     "data": {
      "text/latex": [
       "$\\displaystyle \n",
       "$$ |\\psi\\rangle =\\begin{bmatrix}\n",
       "-0.99671 \\\\\n",
       "-0.08100\\end{bmatrix} $"
      ],
      "text/plain": [
       "<IPython.core.display.Math object>"
      ]
     },
     "metadata": {},
     "output_type": "display_data"
    },
    {
     "name": "stdout",
     "output_type": "stream",
     "text": [
      "Salida counts = {'0': 1}\n",
      "Given the former angle theta and quantum state, the new prediction is:\n",
      "Prediction = 0\n",
      "int(Prediction) = 0 \n",
      "\n",
      "Overall Probability = -1.035785480383535\n"
     ]
    },
    {
     "data": {
      "text/latex": [
       "$\\displaystyle \n",
       "$$ |\\psi\\rangle =\\begin{bmatrix}\n",
       "-0.99842 \\\\\n",
       "-0.05618\\end{bmatrix} $"
      ],
      "text/plain": [
       "<IPython.core.display.Math object>"
      ]
     },
     "metadata": {},
     "output_type": "display_data"
    },
    {
     "name": "stdout",
     "output_type": "stream",
     "text": [
      "Salida counts = {'0': 1}\n",
      "Given the former angle theta and quantum state, the new prediction is:\n",
      "Prediction = 0\n",
      "int(Prediction) = 0 \n",
      "\n",
      "Overall Probability = -0.8302053669924909\n"
     ]
    },
    {
     "data": {
      "text/latex": [
       "$\\displaystyle \n",
       "$$ |\\psi\\rangle =\\begin{bmatrix}\n",
       "-0.96464 \\\\\n",
       "0.26356\\end{bmatrix} $"
      ],
      "text/plain": [
       "<IPython.core.display.Math object>"
      ]
     },
     "metadata": {},
     "output_type": "display_data"
    },
    {
     "name": "stdout",
     "output_type": "stream",
     "text": [
      "Salida counts = {'0': 1}\n",
      "Given the former angle theta and quantum state, the new prediction is:\n",
      "Prediction = 0\n",
      "int(Prediction) = 0 \n",
      "\n",
      "Overall Probability = -0.3605106905479286\n"
     ]
    },
    {
     "data": {
      "text/latex": [
       "$\\displaystyle \n",
       "$$ |\\psi\\rangle =\\begin{bmatrix}\n",
       "-0.53650 \\\\\n",
       "0.84390\\end{bmatrix} $"
      ],
      "text/plain": [
       "<IPython.core.display.Math object>"
      ]
     },
     "metadata": {},
     "output_type": "display_data"
    },
    {
     "name": "stdout",
     "output_type": "stream",
     "text": [
      "Salida counts = {'1': 1}\n",
      "Given the former angle theta and quantum state, the new prediction is:\n",
      "Prediction = 1\n",
      "int(Prediction) = 1 \n",
      "\n",
      "Overall Probability = -0.7068958399888983\n"
     ]
    },
    {
     "data": {
      "text/latex": [
       "$\\displaystyle \n",
       "$$ |\\psi\\rangle =\\begin{bmatrix}\n",
       "-0.89587 \\\\\n",
       "0.44431\\end{bmatrix} $"
      ],
      "text/plain": [
       "<IPython.core.display.Math object>"
      ]
     },
     "metadata": {},
     "output_type": "display_data"
    },
    {
     "name": "stdout",
     "output_type": "stream",
     "text": [
      "Salida counts = {'1': 1}\n",
      "Given the former angle theta and quantum state, the new prediction is:\n",
      "Prediction = 1\n",
      "int(Prediction) = 1 \n",
      "\n",
      "Overall Probability = -0.32865220996688627\n"
     ]
    },
    {
     "data": {
      "text/latex": [
       "$\\displaystyle \n",
       "$$ |\\psi\\rangle =\\begin{bmatrix}\n",
       "-0.49362 \\\\\n",
       "0.86968\\end{bmatrix} $"
      ],
      "text/plain": [
       "<IPython.core.display.Math object>"
      ]
     },
     "metadata": {},
     "output_type": "display_data"
    },
    {
     "name": "stdout",
     "output_type": "stream",
     "text": [
      "Salida counts = {'1': 1}\n",
      "Given the former angle theta and quantum state, the new prediction is:\n",
      "Prediction = 1\n",
      "int(Prediction) = 1 \n",
      "\n",
      "Overall Probability = -0.46612713293213226\n"
     ]
    },
    {
     "data": {
      "text/latex": [
       "$\\displaystyle \n",
       "$$ |\\psi\\rangle =\\begin{bmatrix}\n",
       "-0.66850 \\\\\n",
       "0.74371\\end{bmatrix} $"
      ],
      "text/plain": [
       "<IPython.core.display.Math object>"
      ]
     },
     "metadata": {},
     "output_type": "display_data"
    },
    {
     "name": "stdout",
     "output_type": "stream",
     "text": [
      "Salida counts = {'0': 1}\n",
      "Given the former angle theta and quantum state, the new prediction is:\n",
      "Prediction = 0\n",
      "int(Prediction) = 0 \n",
      "\n",
      "Overall Probability = -0.8842142095188468\n"
     ]
    },
    {
     "data": {
      "text/latex": [
       "$\\displaystyle \n",
       "$$ |\\psi\\rangle =\\begin{bmatrix}\n",
       "-0.98351 \\\\\n",
       "0.18087\\end{bmatrix} $"
      ],
      "text/plain": [
       "<IPython.core.display.Math object>"
      ]
     },
     "metadata": {},
     "output_type": "display_data"
    },
    {
     "name": "stdout",
     "output_type": "stream",
     "text": [
      "Salida counts = {'0': 1}\n",
      "Given the former angle theta and quantum state, the new prediction is:\n",
      "Prediction = 0\n",
      "int(Prediction) = 0 \n",
      "\n",
      "Overall Probability = -0.8687019636235326\n"
     ]
    },
    {
     "data": {
      "text/latex": [
       "$\\displaystyle \n",
       "$$ |\\psi\\rangle =\\begin{bmatrix}\n",
       "-0.97881 \\\\\n",
       "0.20478\\end{bmatrix} $"
      ],
      "text/plain": [
       "<IPython.core.display.Math object>"
      ]
     },
     "metadata": {},
     "output_type": "display_data"
    },
    {
     "name": "stdout",
     "output_type": "stream",
     "text": [
      "Salida counts = {'0': 1}\n",
      "Given the former angle theta and quantum state, the new prediction is:\n",
      "Prediction = 0\n",
      "int(Prediction) = 0 \n",
      "\n",
      "Overall Probability = 0.14435141906814236\n"
     ]
    },
    {
     "data": {
      "text/latex": [
       "$\\displaystyle \n",
       "$$ |\\psi\\rangle =\\begin{bmatrix}\n",
       "0.22481 \\\\\n",
       "0.97440\\end{bmatrix} $"
      ],
      "text/plain": [
       "<IPython.core.display.Math object>"
      ]
     },
     "metadata": {},
     "output_type": "display_data"
    },
    {
     "name": "stdout",
     "output_type": "stream",
     "text": [
      "Salida counts = {'0': 1}\n",
      "Given the former angle theta and quantum state, the new prediction is:\n",
      "Prediction = 0\n",
      "int(Prediction) = 0 \n",
      "\n",
      "Overall Probability = -1.0521635034728667\n"
     ]
    },
    {
     "data": {
      "text/latex": [
       "$\\displaystyle \n",
       "$$ |\\psi\\rangle =\\begin{bmatrix}\n",
       "-0.99664 \\\\\n",
       "-0.08185\\end{bmatrix} $"
      ],
      "text/plain": [
       "<IPython.core.display.Math object>"
      ]
     },
     "metadata": {},
     "output_type": "display_data"
    },
    {
     "name": "stdout",
     "output_type": "stream",
     "text": [
      "Salida counts = {'0': 1}\n",
      "Given the former angle theta and quantum state, the new prediction is:\n",
      "Prediction = 0\n",
      "int(Prediction) = 0 \n",
      "\n",
      "Overall Probability = -1.0522013968231547\n"
     ]
    },
    {
     "data": {
      "text/latex": [
       "$\\displaystyle \n",
       "$$ |\\psi\\rangle =\\begin{bmatrix}\n",
       "-0.99664 \\\\\n",
       "-0.08191\\end{bmatrix} $"
      ],
      "text/plain": [
       "<IPython.core.display.Math object>"
      ]
     },
     "metadata": {},
     "output_type": "display_data"
    },
    {
     "name": "stdout",
     "output_type": "stream",
     "text": [
      "Salida counts = {'0': 1}\n",
      "Given the former angle theta and quantum state, the new prediction is:\n",
      "Prediction = 0\n",
      "int(Prediction) = 0 \n",
      "\n",
      "Overall Probability = -0.6816440648051156\n"
     ]
    },
    {
     "data": {
      "text/latex": [
       "$\\displaystyle \n",
       "$$ |\\psi\\rangle =\\begin{bmatrix}\n",
       "-0.87755 \\\\\n",
       "0.47949\\end{bmatrix} $"
      ],
      "text/plain": [
       "<IPython.core.display.Math object>"
      ]
     },
     "metadata": {},
     "output_type": "display_data"
    },
    {
     "name": "stdout",
     "output_type": "stream",
     "text": [
      "Salida counts = {'0': 1}\n",
      "Given the former angle theta and quantum state, the new prediction is:\n",
      "Prediction = 0\n",
      "int(Prediction) = 0 \n",
      "\n",
      "Overall Probability = -0.3019632302115839\n"
     ]
    },
    {
     "data": {
      "text/latex": [
       "$\\displaystyle \n",
       "$$ |\\psi\\rangle =\\begin{bmatrix}\n",
       "-0.45674 \\\\\n",
       "0.88960\\end{bmatrix} $"
      ],
      "text/plain": [
       "<IPython.core.display.Math object>"
      ]
     },
     "metadata": {},
     "output_type": "display_data"
    },
    {
     "name": "stdout",
     "output_type": "stream",
     "text": [
      "Salida counts = {'1': 1}\n",
      "Given the former angle theta and quantum state, the new prediction is:\n",
      "Prediction = 1\n",
      "int(Prediction) = 1 \n",
      "\n",
      "Overall Probability = -1.0523110445043704\n"
     ]
    },
    {
     "data": {
      "text/latex": [
       "$\\displaystyle \n",
       "$$ |\\psi\\rangle =\\begin{bmatrix}\n",
       "-0.99663 \\\\\n",
       "-0.08208\\end{bmatrix} $"
      ],
      "text/plain": [
       "<IPython.core.display.Math object>"
      ]
     },
     "metadata": {},
     "output_type": "display_data"
    },
    {
     "name": "stdout",
     "output_type": "stream",
     "text": [
      "Salida counts = {'0': 1}\n",
      "Given the former angle theta and quantum state, the new prediction is:\n",
      "Prediction = 0\n",
      "int(Prediction) = 0 \n",
      "\n",
      "Overall Probability = -0.8392808643681448\n"
     ]
    },
    {
     "data": {
      "text/latex": [
       "$\\displaystyle \n",
       "$$ |\\psi\\rangle =\\begin{bmatrix}\n",
       "-0.96830 \\\\\n",
       "0.24978\\end{bmatrix} $"
      ],
      "text/plain": [
       "<IPython.core.display.Math object>"
      ]
     },
     "metadata": {},
     "output_type": "display_data"
    },
    {
     "name": "stdout",
     "output_type": "stream",
     "text": [
      "Salida counts = {'0': 1}\n",
      "Given the former angle theta and quantum state, the new prediction is:\n",
      "Prediction = 0\n",
      "int(Prediction) = 0 \n",
      "\n",
      "Overall Probability = -0.8680478563104271\n"
     ]
    },
    {
     "data": {
      "text/latex": [
       "$\\displaystyle \n",
       "$$ |\\psi\\rangle =\\begin{bmatrix}\n",
       "-0.97860 \\\\\n",
       "0.20579\\end{bmatrix} $"
      ],
      "text/plain": [
       "<IPython.core.display.Math object>"
      ]
     },
     "metadata": {},
     "output_type": "display_data"
    },
    {
     "name": "stdout",
     "output_type": "stream",
     "text": [
      "Salida counts = {'1': 1}\n",
      "Given the former angle theta and quantum state, the new prediction is:\n",
      "Prediction = 1\n",
      "int(Prediction) = 1 \n",
      "\n",
      "Overall Probability = -0.6373583685726316\n"
     ]
    },
    {
     "data": {
      "text/latex": [
       "$\\displaystyle \n",
       "$$ |\\psi\\rangle =\\begin{bmatrix}\n",
       "-0.84210 \\\\\n",
       "0.53933\\end{bmatrix} $"
      ],
      "text/plain": [
       "<IPython.core.display.Math object>"
      ]
     },
     "metadata": {},
     "output_type": "display_data"
    },
    {
     "name": "stdout",
     "output_type": "stream",
     "text": [
      "Salida counts = {'0': 1}\n",
      "Given the former angle theta and quantum state, the new prediction is:\n",
      "Prediction = 0\n",
      "int(Prediction) = 0 \n",
      "\n",
      "Overall Probability = -0.9431715002085096\n"
     ]
    },
    {
     "data": {
      "text/latex": [
       "$\\displaystyle \n",
       "$$ |\\psi\\rangle =\\begin{bmatrix}\n",
       "-0.99602 \\\\\n",
       "0.08915\\end{bmatrix} $"
      ],
      "text/plain": [
       "<IPython.core.display.Math object>"
      ]
     },
     "metadata": {},
     "output_type": "display_data"
    },
    {
     "name": "stdout",
     "output_type": "stream",
     "text": [
      "Salida counts = {'0': 1}\n",
      "Given the former angle theta and quantum state, the new prediction is:\n",
      "Prediction = 0\n",
      "int(Prediction) = 0 \n",
      "\n",
      "Overall Probability = -1.0444518551755573\n"
     ]
    },
    {
     "data": {
      "text/latex": [
       "$\\displaystyle \n",
       "$$ |\\psi\\rangle =\\begin{bmatrix}\n",
       "-0.99756 \\\\\n",
       "-0.06977\\end{bmatrix} $"
      ],
      "text/plain": [
       "<IPython.core.display.Math object>"
      ]
     },
     "metadata": {},
     "output_type": "display_data"
    },
    {
     "name": "stdout",
     "output_type": "stream",
     "text": [
      "Salida counts = {'0': 1}\n",
      "Given the former angle theta and quantum state, the new prediction is:\n",
      "Prediction = 0\n",
      "int(Prediction) = 0 \n",
      "\n",
      "Overall Probability = -1.0508596749488053\n"
     ]
    },
    {
     "data": {
      "text/latex": [
       "$\\displaystyle \n",
       "$$ |\\psi\\rangle =\\begin{bmatrix}\n",
       "-0.99681 \\\\\n",
       "-0.07981\\end{bmatrix} $"
      ],
      "text/plain": [
       "<IPython.core.display.Math object>"
      ]
     },
     "metadata": {},
     "output_type": "display_data"
    },
    {
     "name": "stdout",
     "output_type": "stream",
     "text": [
      "Salida counts = {'0': 1}\n",
      "Given the former angle theta and quantum state, the new prediction is:\n",
      "Prediction = 0\n",
      "int(Prediction) = 0 \n",
      "\n",
      "Overall Probability = -0.9878684297129404\n"
     ]
    },
    {
     "data": {
      "text/latex": [
       "$\\displaystyle \n",
       "$$ |\\psi\\rangle =\\begin{bmatrix}\n",
       "-0.99982 \\\\\n",
       "0.01906\\end{bmatrix} $"
      ],
      "text/plain": [
       "<IPython.core.display.Math object>"
      ]
     },
     "metadata": {},
     "output_type": "display_data"
    },
    {
     "name": "stdout",
     "output_type": "stream",
     "text": [
      "Salida counts = {'0': 1}\n",
      "Given the former angle theta and quantum state, the new prediction is:\n",
      "Prediction = 0\n",
      "int(Prediction) = 0 \n",
      "\n",
      "Overall Probability = -1.051809852413298\n"
     ]
    },
    {
     "data": {
      "text/latex": [
       "$\\displaystyle \n",
       "$$ |\\psi\\rangle =\\begin{bmatrix}\n",
       "-0.99669 \\\\\n",
       "-0.08129\\end{bmatrix} $"
      ],
      "text/plain": [
       "<IPython.core.display.Math object>"
      ]
     },
     "metadata": {},
     "output_type": "display_data"
    },
    {
     "name": "stdout",
     "output_type": "stream",
     "text": [
      "Salida counts = {'0': 1}\n",
      "Given the former angle theta and quantum state, the new prediction is:\n",
      "Prediction = 0\n",
      "int(Prediction) = 0 \n",
      "\n",
      "Overall Probability = -0.6961132318816189\n"
     ]
    },
    {
     "data": {
      "text/latex": [
       "$\\displaystyle \n",
       "$$ |\\psi\\rangle =\\begin{bmatrix}\n",
       "-0.88822 \\\\\n",
       "0.45942\\end{bmatrix} $"
      ],
      "text/plain": [
       "<IPython.core.display.Math object>"
      ]
     },
     "metadata": {},
     "output_type": "display_data"
    },
    {
     "name": "stdout",
     "output_type": "stream",
     "text": [
      "Salida counts = {'0': 1}\n",
      "Given the former angle theta and quantum state, the new prediction is:\n",
      "Prediction = 0\n",
      "int(Prediction) = 0 \n",
      "\n",
      "Overall Probability = -0.33469602236136736\n"
     ]
    },
    {
     "data": {
      "text/latex": [
       "$\\displaystyle \n",
       "$$ |\\psi\\rangle =\\begin{bmatrix}\n",
       "-0.50185 \\\\\n",
       "0.86495\\end{bmatrix} $"
      ],
      "text/plain": [
       "<IPython.core.display.Math object>"
      ]
     },
     "metadata": {},
     "output_type": "display_data"
    },
    {
     "name": "stdout",
     "output_type": "stream",
     "text": [
      "Salida counts = {'1': 1}\n",
      "Given the former angle theta and quantum state, the new prediction is:\n",
      "Prediction = 1\n",
      "int(Prediction) = 1 \n",
      "\n",
      "Overall Probability = -0.4413594325543094\n"
     ]
    },
    {
     "data": {
      "text/latex": [
       "$\\displaystyle \n",
       "$$ |\\psi\\rangle =\\begin{bmatrix}\n",
       "-0.63907 \\\\\n",
       "0.76915\\end{bmatrix} $"
      ],
      "text/plain": [
       "<IPython.core.display.Math object>"
      ]
     },
     "metadata": {},
     "output_type": "display_data"
    },
    {
     "name": "stdout",
     "output_type": "stream",
     "text": [
      "Salida counts = {'1': 1}\n",
      "Given the former angle theta and quantum state, the new prediction is:\n",
      "Prediction = 1\n",
      "int(Prediction) = 1 \n",
      "\n",
      "Overall Probability = -1.050568536747347\n"
     ]
    },
    {
     "data": {
      "text/latex": [
       "$\\displaystyle \n",
       "$$ |\\psi\\rangle =\\begin{bmatrix}\n",
       "-0.99685 \\\\\n",
       "-0.07935\\end{bmatrix} $"
      ],
      "text/plain": [
       "<IPython.core.display.Math object>"
      ]
     },
     "metadata": {},
     "output_type": "display_data"
    },
    {
     "name": "stdout",
     "output_type": "stream",
     "text": [
      "Salida counts = {'0': 1}\n",
      "Given the former angle theta and quantum state, the new prediction is:\n",
      "Prediction = 0\n",
      "int(Prediction) = 0 \n",
      "\n",
      "Overall Probability = -0.1337548600519648\n"
     ]
    },
    {
     "data": {
      "text/latex": [
       "$\\displaystyle \n",
       "$$ |\\psi\\rangle =\\begin{bmatrix}\n",
       "-0.20856 \\\\\n",
       "0.97801\\end{bmatrix} $"
      ],
      "text/plain": [
       "<IPython.core.display.Math object>"
      ]
     },
     "metadata": {},
     "output_type": "display_data"
    },
    {
     "name": "stdout",
     "output_type": "stream",
     "text": [
      "Salida counts = {'0': 1}\n",
      "Given the former angle theta and quantum state, the new prediction is:\n",
      "Prediction = 0\n",
      "int(Prediction) = 0 \n",
      "\n",
      "Overall Probability = -0.15029482538283995\n"
     ]
    },
    {
     "data": {
      "text/latex": [
       "$\\displaystyle \n",
       "$$ |\\psi\\rangle =\\begin{bmatrix}\n",
       "-0.23390 \\\\\n",
       "0.97226\\end{bmatrix} $"
      ],
      "text/plain": [
       "<IPython.core.display.Math object>"
      ]
     },
     "metadata": {},
     "output_type": "display_data"
    },
    {
     "name": "stdout",
     "output_type": "stream",
     "text": [
      "Salida counts = {'1': 1}\n",
      "Given the former angle theta and quantum state, the new prediction is:\n",
      "Prediction = 1\n",
      "int(Prediction) = 1 \n",
      "\n",
      "Overall Probability = -1.0302212355490559\n"
     ]
    },
    {
     "data": {
      "text/latex": [
       "$\\displaystyle \n",
       "$$ |\\psi\\rangle =\\begin{bmatrix}\n",
       "-0.99887 \\\\\n",
       "-0.04745\\end{bmatrix} $"
      ],
      "text/plain": [
       "<IPython.core.display.Math object>"
      ]
     },
     "metadata": {},
     "output_type": "display_data"
    },
    {
     "name": "stdout",
     "output_type": "stream",
     "text": [
      "Salida counts = {'0': 1}\n",
      "Given the former angle theta and quantum state, the new prediction is:\n",
      "Prediction = 0\n",
      "int(Prediction) = 0 \n",
      "\n",
      "Overall Probability = -0.4472914679787112\n"
     ]
    },
    {
     "data": {
      "text/latex": [
       "$\\displaystyle \n",
       "$$ |\\psi\\rangle =\\begin{bmatrix}\n",
       "-0.64621 \\\\\n",
       "0.76316\\end{bmatrix} $"
      ],
      "text/plain": [
       "<IPython.core.display.Math object>"
      ]
     },
     "metadata": {},
     "output_type": "display_data"
    },
    {
     "name": "stdout",
     "output_type": "stream",
     "text": [
      "Salida counts = {'1': 1}\n",
      "Given the former angle theta and quantum state, the new prediction is:\n",
      "Prediction = 1\n",
      "int(Prediction) = 1 \n",
      "\n",
      "Overall Probability = -0.4677977859711633\n"
     ]
    },
    {
     "data": {
      "text/latex": [
       "$\\displaystyle \n",
       "$$ |\\psi\\rangle =\\begin{bmatrix}\n",
       "-0.67045 \\\\\n",
       "0.74195\\end{bmatrix} $"
      ],
      "text/plain": [
       "<IPython.core.display.Math object>"
      ]
     },
     "metadata": {},
     "output_type": "display_data"
    },
    {
     "name": "stdout",
     "output_type": "stream",
     "text": [
      "Salida counts = {'0': 1}\n",
      "Given the former angle theta and quantum state, the new prediction is:\n",
      "Prediction = 0\n",
      "int(Prediction) = 0 \n",
      "\n",
      "Overall Probability = -0.6995497310190774\n"
     ]
    },
    {
     "data": {
      "text/latex": [
       "$\\displaystyle \n",
       "$$ |\\psi\\rangle =\\begin{bmatrix}\n",
       "-0.89069 \\\\\n",
       "0.45462\\end{bmatrix} $"
      ],
      "text/plain": [
       "<IPython.core.display.Math object>"
      ]
     },
     "metadata": {},
     "output_type": "display_data"
    },
    {
     "name": "stdout",
     "output_type": "stream",
     "text": [
      "Salida counts = {'0': 1}\n",
      "Given the former angle theta and quantum state, the new prediction is:\n",
      "Prediction = 0\n",
      "int(Prediction) = 0 \n",
      "\n",
      "Overall Probability = -1.0486049663671324\n"
     ]
    },
    {
     "data": {
      "text/latex": [
       "$\\displaystyle \n",
       "$$ |\\psi\\rangle =\\begin{bmatrix}\n",
       "-0.99709 \\\\\n",
       "-0.07627\\end{bmatrix} $"
      ],
      "text/plain": [
       "<IPython.core.display.Math object>"
      ]
     },
     "metadata": {},
     "output_type": "display_data"
    },
    {
     "name": "stdout",
     "output_type": "stream",
     "text": [
      "Salida counts = {'0': 1}\n",
      "Given the former angle theta and quantum state, the new prediction is:\n",
      "Prediction = 0\n",
      "int(Prediction) = 0 \n",
      "\n",
      "Overall Probability = -0.03934548650910122\n"
     ]
    },
    {
     "data": {
      "text/latex": [
       "$\\displaystyle \n",
       "$$ |\\psi\\rangle =\\begin{bmatrix}\n",
       "-0.06176 \\\\\n",
       "0.99809\\end{bmatrix} $"
      ],
      "text/plain": [
       "<IPython.core.display.Math object>"
      ]
     },
     "metadata": {},
     "output_type": "display_data"
    },
    {
     "name": "stdout",
     "output_type": "stream",
     "text": [
      "Salida counts = {'1': 1}\n",
      "Given the former angle theta and quantum state, the new prediction is:\n",
      "Prediction = 1\n",
      "int(Prediction) = 1 \n",
      "\n",
      "Overall Probability = -0.7059320677000606\n"
     ]
    },
    {
     "data": {
      "text/latex": [
       "$\\displaystyle \n",
       "$$ |\\psi\\rangle =\\begin{bmatrix}\n",
       "-0.89520 \\\\\n",
       "0.44567\\end{bmatrix} $"
      ],
      "text/plain": [
       "<IPython.core.display.Math object>"
      ]
     },
     "metadata": {},
     "output_type": "display_data"
    },
    {
     "name": "stdout",
     "output_type": "stream",
     "text": [
      "Salida counts = {'1': 1}\n",
      "Given the former angle theta and quantum state, the new prediction is:\n",
      "Prediction = 1\n",
      "int(Prediction) = 1 \n",
      "\n",
      "Overall Probability = -0.9598303316511135\n"
     ]
    },
    {
     "data": {
      "text/latex": [
       "$\\displaystyle \n",
       "$$ |\\psi\\rangle =\\begin{bmatrix}\n",
       "-0.99801 \\\\\n",
       "0.06306\\end{bmatrix} $"
      ],
      "text/plain": [
       "<IPython.core.display.Math object>"
      ]
     },
     "metadata": {},
     "output_type": "display_data"
    },
    {
     "name": "stdout",
     "output_type": "stream",
     "text": [
      "Salida counts = {'0': 1}\n",
      "Given the former angle theta and quantum state, the new prediction is:\n",
      "Prediction = 0\n",
      "int(Prediction) = 0 \n",
      "\n",
      "Overall Probability = -1.0482967873279094\n"
     ]
    },
    {
     "data": {
      "text/latex": [
       "$\\displaystyle \n",
       "$$ |\\psi\\rangle =\\begin{bmatrix}\n",
       "-0.99712 \\\\\n",
       "-0.07579\\end{bmatrix} $"
      ],
      "text/plain": [
       "<IPython.core.display.Math object>"
      ]
     },
     "metadata": {},
     "output_type": "display_data"
    },
    {
     "name": "stdout",
     "output_type": "stream",
     "text": [
      "Salida counts = {'0': 1}\n",
      "Given the former angle theta and quantum state, the new prediction is:\n",
      "Prediction = 0\n",
      "int(Prediction) = 0 \n",
      "\n",
      "Overall Probability = -0.8671485410067099\n"
     ]
    },
    {
     "data": {
      "text/latex": [
       "$\\displaystyle \n",
       "$$ |\\psi\\rangle =\\begin{bmatrix}\n",
       "-0.97830 \\\\\n",
       "0.20717\\end{bmatrix} $"
      ],
      "text/plain": [
       "<IPython.core.display.Math object>"
      ]
     },
     "metadata": {},
     "output_type": "display_data"
    },
    {
     "name": "stdout",
     "output_type": "stream",
     "text": [
      "Salida counts = {'0': 1}\n",
      "Given the former angle theta and quantum state, the new prediction is:\n",
      "Prediction = 0\n",
      "int(Prediction) = 0 \n",
      "\n",
      "Overall Probability = -0.5090545749330444\n"
     ]
    },
    {
     "data": {
      "text/latex": [
       "$\\displaystyle \n",
       "$$ |\\psi\\rangle =\\begin{bmatrix}\n",
       "-0.71709 \\\\\n",
       "0.69698\\end{bmatrix} $"
      ],
      "text/plain": [
       "<IPython.core.display.Math object>"
      ]
     },
     "metadata": {},
     "output_type": "display_data"
    },
    {
     "name": "stdout",
     "output_type": "stream",
     "text": [
      "Salida counts = {'1': 1}\n",
      "Given the former angle theta and quantum state, the new prediction is:\n",
      "Prediction = 1\n",
      "int(Prediction) = 1 \n",
      "\n",
      "Overall Probability = -0.6724105869001925\n"
     ]
    },
    {
     "data": {
      "text/latex": [
       "$\\displaystyle \n",
       "$$ |\\psi\\rangle =\\begin{bmatrix}\n",
       "-0.87050 \\\\\n",
       "0.49217\\end{bmatrix} $"
      ],
      "text/plain": [
       "<IPython.core.display.Math object>"
      ]
     },
     "metadata": {},
     "output_type": "display_data"
    },
    {
     "name": "stdout",
     "output_type": "stream",
     "text": [
      "Salida counts = {'0': 1}\n",
      "Given the former angle theta and quantum state, the new prediction is:\n",
      "Prediction = 0\n",
      "int(Prediction) = 0 \n",
      "\n",
      "Overall Probability = 0.2190462956948702\n"
     ]
    },
    {
     "data": {
      "text/latex": [
       "$\\displaystyle \n",
       "$$ |\\psi\\rangle =\\begin{bmatrix}\n",
       "0.33733 \\\\\n",
       "0.94139\\end{bmatrix} $"
      ],
      "text/plain": [
       "<IPython.core.display.Math object>"
      ]
     },
     "metadata": {},
     "output_type": "display_data"
    },
    {
     "name": "stdout",
     "output_type": "stream",
     "text": [
      "Salida counts = {'1': 1}\n",
      "Given the former angle theta and quantum state, the new prediction is:\n",
      "Prediction = 1\n",
      "int(Prediction) = 1 \n",
      "\n",
      "Overall Probability = -0.8880458959917698\n"
     ]
    },
    {
     "data": {
      "text/latex": [
       "$\\displaystyle \n",
       "$$ |\\psi\\rangle =\\begin{bmatrix}\n",
       "-0.98458 \\\\\n",
       "0.17495\\end{bmatrix} $"
      ],
      "text/plain": [
       "<IPython.core.display.Math object>"
      ]
     },
     "metadata": {},
     "output_type": "display_data"
    },
    {
     "name": "stdout",
     "output_type": "stream",
     "text": [
      "Salida counts = {'0': 1}\n",
      "Given the former angle theta and quantum state, the new prediction is:\n",
      "Prediction = 0\n",
      "int(Prediction) = 0 \n",
      "\n",
      "Overall Probability = 0.04315507242848313\n"
     ]
    },
    {
     "data": {
      "text/latex": [
       "$\\displaystyle \n",
       "$$ |\\psi\\rangle =\\begin{bmatrix}\n",
       "0.06774 \\\\\n",
       "0.99770\\end{bmatrix} $"
      ],
      "text/plain": [
       "<IPython.core.display.Math object>"
      ]
     },
     "metadata": {},
     "output_type": "display_data"
    },
    {
     "name": "stdout",
     "output_type": "stream",
     "text": [
      "Salida counts = {'1': 1}\n",
      "Given the former angle theta and quantum state, the new prediction is:\n",
      "Prediction = 1\n",
      "int(Prediction) = 1 \n",
      "\n",
      "Overall Probability = -1.0484559393991193\n"
     ]
    },
    {
     "data": {
      "text/latex": [
       "$\\displaystyle \n",
       "$$ |\\psi\\rangle =\\begin{bmatrix}\n",
       "-0.99710 \\\\\n",
       "-0.07604\\end{bmatrix} $"
      ],
      "text/plain": [
       "<IPython.core.display.Math object>"
      ]
     },
     "metadata": {},
     "output_type": "display_data"
    },
    {
     "name": "stdout",
     "output_type": "stream",
     "text": [
      "Salida counts = {'0': 1}\n",
      "Given the former angle theta and quantum state, the new prediction is:\n",
      "Prediction = 0\n",
      "int(Prediction) = 0 \n",
      "\n",
      "Overall Probability = -1.0518291583599517\n"
     ]
    },
    {
     "data": {
      "text/latex": [
       "$\\displaystyle \n",
       "$$ |\\psi\\rangle =\\begin{bmatrix}\n",
       "-0.99669 \\\\\n",
       "-0.08132\\end{bmatrix} $"
      ],
      "text/plain": [
       "<IPython.core.display.Math object>"
      ]
     },
     "metadata": {},
     "output_type": "display_data"
    },
    {
     "name": "stdout",
     "output_type": "stream",
     "text": [
      "Salida counts = {'0': 1}\n",
      "Given the former angle theta and quantum state, the new prediction is:\n",
      "Prediction = 0\n",
      "int(Prediction) = 0 \n",
      "\n",
      "Overall Probability = -0.9598277852179742\n"
     ]
    },
    {
     "data": {
      "text/latex": [
       "$\\displaystyle \n",
       "$$ |\\psi\\rangle =\\begin{bmatrix}\n",
       "-0.99801 \\\\\n",
       "0.06306\\end{bmatrix} $"
      ],
      "text/plain": [
       "<IPython.core.display.Math object>"
      ]
     },
     "metadata": {},
     "output_type": "display_data"
    },
    {
     "name": "stdout",
     "output_type": "stream",
     "text": [
      "Salida counts = {'0': 1}\n",
      "Given the former angle theta and quantum state, the new prediction is:\n",
      "Prediction = 0\n",
      "int(Prediction) = 0 \n",
      "\n",
      "Overall Probability = -0.14104405144619445\n"
     ]
    },
    {
     "data": {
      "text/latex": [
       "$\\displaystyle \n",
       "$$ |\\psi\\rangle =\\begin{bmatrix}\n",
       "-0.21974 \\\\\n",
       "0.97556\\end{bmatrix} $"
      ],
      "text/plain": [
       "<IPython.core.display.Math object>"
      ]
     },
     "metadata": {},
     "output_type": "display_data"
    },
    {
     "name": "stdout",
     "output_type": "stream",
     "text": [
      "Salida counts = {'1': 1}\n",
      "Given the former angle theta and quantum state, the new prediction is:\n",
      "Prediction = 1\n",
      "int(Prediction) = 1 \n",
      "\n",
      "Overall Probability = -0.3400536642149376\n"
     ]
    },
    {
     "data": {
      "text/latex": [
       "$\\displaystyle \n",
       "$$ |\\psi\\rangle =\\begin{bmatrix}\n",
       "-0.50911 \\\\\n",
       "0.86070\\end{bmatrix} $"
      ],
      "text/plain": [
       "<IPython.core.display.Math object>"
      ]
     },
     "metadata": {},
     "output_type": "display_data"
    },
    {
     "name": "stdout",
     "output_type": "stream",
     "text": [
      "Salida counts = {'1': 1}\n",
      "Given the former angle theta and quantum state, the new prediction is:\n",
      "Prediction = 1\n",
      "int(Prediction) = 1 \n",
      "\n",
      "Overall Probability = -0.42471575845182064\n"
     ]
    },
    {
     "data": {
      "text/latex": [
       "$\\displaystyle \n",
       "$$ |\\psi\\rangle =\\begin{bmatrix}\n",
       "-0.61874 \\\\\n",
       "0.78559\\end{bmatrix} $"
      ],
      "text/plain": [
       "<IPython.core.display.Math object>"
      ]
     },
     "metadata": {},
     "output_type": "display_data"
    },
    {
     "name": "stdout",
     "output_type": "stream",
     "text": [
      "Salida counts = {'1': 1}\n",
      "Given the former angle theta and quantum state, the new prediction is:\n",
      "Prediction = 1\n",
      "int(Prediction) = 1 \n",
      "\n",
      "Overall Probability = -0.8782760784940828\n"
     ]
    },
    {
     "data": {
      "text/latex": [
       "$\\displaystyle \n",
       "$$ |\\psi\\rangle =\\begin{bmatrix}\n",
       "-0.98178 \\\\\n",
       "0.19004\\end{bmatrix} $"
      ],
      "text/plain": [
       "<IPython.core.display.Math object>"
      ]
     },
     "metadata": {},
     "output_type": "display_data"
    },
    {
     "name": "stdout",
     "output_type": "stream",
     "text": [
      "Salida counts = {'0': 1}\n",
      "Given the former angle theta and quantum state, the new prediction is:\n",
      "Prediction = 0\n",
      "int(Prediction) = 0 \n",
      "\n",
      "Overall Probability = -1.052459469166254\n"
     ]
    },
    {
     "data": {
      "text/latex": [
       "$\\displaystyle \n",
       "$$ |\\psi\\rangle =\\begin{bmatrix}\n",
       "-0.99661 \\\\\n",
       "-0.08231\\end{bmatrix} $"
      ],
      "text/plain": [
       "<IPython.core.display.Math object>"
      ]
     },
     "metadata": {},
     "output_type": "display_data"
    },
    {
     "name": "stdout",
     "output_type": "stream",
     "text": [
      "Salida counts = {'0': 1}\n",
      "Given the former angle theta and quantum state, the new prediction is:\n",
      "Prediction = 0\n",
      "int(Prediction) = 0 \n",
      "\n",
      "Overall Probability = -1.0520195087417719\n"
     ]
    },
    {
     "data": {
      "text/latex": [
       "$\\displaystyle \n",
       "$$ |\\psi\\rangle =\\begin{bmatrix}\n",
       "-0.99666 \\\\\n",
       "-0.08162\\end{bmatrix} $"
      ],
      "text/plain": [
       "<IPython.core.display.Math object>"
      ]
     },
     "metadata": {},
     "output_type": "display_data"
    },
    {
     "name": "stdout",
     "output_type": "stream",
     "text": [
      "Salida counts = {'0': 1}\n",
      "Given the former angle theta and quantum state, the new prediction is:\n",
      "Prediction = 0\n",
      "int(Prediction) = 0 \n",
      "\n",
      "Overall Probability = -1.0512923380274801\n"
     ]
    },
    {
     "data": {
      "text/latex": [
       "$\\displaystyle \n",
       "$$ |\\psi\\rangle =\\begin{bmatrix}\n",
       "-0.99676 \\\\\n",
       "-0.08048\\end{bmatrix} $"
      ],
      "text/plain": [
       "<IPython.core.display.Math object>"
      ]
     },
     "metadata": {},
     "output_type": "display_data"
    },
    {
     "name": "stdout",
     "output_type": "stream",
     "text": [
      "Salida counts = {'0': 1}\n",
      "Given the former angle theta and quantum state, the new prediction is:\n",
      "Prediction = 0\n",
      "int(Prediction) = 0 \n",
      "\n",
      "Overall Probability = -1.0518830926807348\n"
     ]
    },
    {
     "data": {
      "text/latex": [
       "$\\displaystyle \n",
       "$$ |\\psi\\rangle =\\begin{bmatrix}\n",
       "-0.99668 \\\\\n",
       "-0.08141\\end{bmatrix} $"
      ],
      "text/plain": [
       "<IPython.core.display.Math object>"
      ]
     },
     "metadata": {},
     "output_type": "display_data"
    },
    {
     "name": "stdout",
     "output_type": "stream",
     "text": [
      "Salida counts = {'0': 1}\n",
      "Given the former angle theta and quantum state, the new prediction is:\n",
      "Prediction = 0\n",
      "int(Prediction) = 0 \n",
      "\n",
      "Overall Probability = -1.0519867360615272\n"
     ]
    },
    {
     "data": {
      "text/latex": [
       "$\\displaystyle \n",
       "$$ |\\psi\\rangle =\\begin{bmatrix}\n",
       "-0.99667 \\\\\n",
       "-0.08157\\end{bmatrix} $"
      ],
      "text/plain": [
       "<IPython.core.display.Math object>"
      ]
     },
     "metadata": {},
     "output_type": "display_data"
    },
    {
     "name": "stdout",
     "output_type": "stream",
     "text": [
      "Salida counts = {'0': 1}\n",
      "Given the former angle theta and quantum state, the new prediction is:\n",
      "Prediction = 0\n",
      "int(Prediction) = 0 \n",
      "\n",
      "Overall Probability = -0.7040411352811534\n"
     ]
    },
    {
     "data": {
      "text/latex": [
       "$\\displaystyle \n",
       "$$ |\\psi\\rangle =\\begin{bmatrix}\n",
       "-0.89387 \\\\\n",
       "0.44833\\end{bmatrix} $"
      ],
      "text/plain": [
       "<IPython.core.display.Math object>"
      ]
     },
     "metadata": {},
     "output_type": "display_data"
    },
    {
     "name": "stdout",
     "output_type": "stream",
     "text": [
      "Salida counts = {'0': 1}\n",
      "Given the former angle theta and quantum state, the new prediction is:\n",
      "Prediction = 0\n",
      "int(Prediction) = 0 \n",
      "\n",
      "Overall Probability = -0.8280457702911919\n"
     ]
    },
    {
     "data": {
      "text/latex": [
       "$\\displaystyle \n",
       "$$ |\\psi\\rangle =\\begin{bmatrix}\n",
       "-0.96374 \\\\\n",
       "0.26683\\end{bmatrix} $"
      ],
      "text/plain": [
       "<IPython.core.display.Math object>"
      ]
     },
     "metadata": {},
     "output_type": "display_data"
    },
    {
     "name": "stdout",
     "output_type": "stream",
     "text": [
      "Salida counts = {'0': 1}\n",
      "Given the former angle theta and quantum state, the new prediction is:\n",
      "Prediction = 0\n",
      "int(Prediction) = 0 \n",
      "\n",
      "Overall Probability = -1.04851973344875\n"
     ]
    },
    {
     "data": {
      "text/latex": [
       "$\\displaystyle \n",
       "$$ |\\psi\\rangle =\\begin{bmatrix}\n",
       "-0.99710 \\\\\n",
       "-0.07614\\end{bmatrix} $"
      ],
      "text/plain": [
       "<IPython.core.display.Math object>"
      ]
     },
     "metadata": {},
     "output_type": "display_data"
    },
    {
     "name": "stdout",
     "output_type": "stream",
     "text": [
      "Salida counts = {'0': 1}\n",
      "Given the former angle theta and quantum state, the new prediction is:\n",
      "Prediction = 0\n",
      "int(Prediction) = 0 \n",
      "\n",
      "Overall Probability = -0.9598151743109983\n"
     ]
    },
    {
     "data": {
      "text/latex": [
       "$\\displaystyle \n",
       "$$ |\\psi\\rangle =\\begin{bmatrix}\n",
       "-0.99801 \\\\\n",
       "0.06308\\end{bmatrix} $"
      ],
      "text/plain": [
       "<IPython.core.display.Math object>"
      ]
     },
     "metadata": {},
     "output_type": "display_data"
    },
    {
     "name": "stdout",
     "output_type": "stream",
     "text": [
      "Salida counts = {'0': 1}\n",
      "Given the former angle theta and quantum state, the new prediction is:\n",
      "Prediction = 0\n",
      "int(Prediction) = 0 \n",
      "\n",
      "Overall Probability = -0.8625733321911963\n"
     ]
    },
    {
     "data": {
      "text/latex": [
       "$\\displaystyle \n",
       "$$ |\\psi\\rangle =\\begin{bmatrix}\n",
       "-0.97679 \\\\\n",
       "0.21420\\end{bmatrix} $"
      ],
      "text/plain": [
       "<IPython.core.display.Math object>"
      ]
     },
     "metadata": {},
     "output_type": "display_data"
    },
    {
     "name": "stdout",
     "output_type": "stream",
     "text": [
      "Salida counts = {'0': 1}\n",
      "Given the former angle theta and quantum state, the new prediction is:\n",
      "Prediction = 0\n",
      "int(Prediction) = 0 \n",
      "\n",
      "Overall Probability = -0.26630046245586353\n"
     ]
    },
    {
     "data": {
      "text/latex": [
       "$\\displaystyle \n",
       "$$ |\\psi\\rangle =\\begin{bmatrix}\n",
       "-0.40621 \\\\\n",
       "0.91378\\end{bmatrix} $"
      ],
      "text/plain": [
       "<IPython.core.display.Math object>"
      ]
     },
     "metadata": {},
     "output_type": "display_data"
    },
    {
     "name": "stdout",
     "output_type": "stream",
     "text": [
      "Salida counts = {'1': 1}\n",
      "Given the former angle theta and quantum state, the new prediction is:\n",
      "Prediction = 1\n",
      "int(Prediction) = 1 \n",
      "\n",
      "Overall Probability = -1.0517163619394672\n"
     ]
    },
    {
     "data": {
      "text/latex": [
       "$\\displaystyle \n",
       "$$ |\\psi\\rangle =\\begin{bmatrix}\n",
       "-0.99670 \\\\\n",
       "-0.08115\\end{bmatrix} $"
      ],
      "text/plain": [
       "<IPython.core.display.Math object>"
      ]
     },
     "metadata": {},
     "output_type": "display_data"
    },
    {
     "name": "stdout",
     "output_type": "stream",
     "text": [
      "Salida counts = {'0': 1}\n",
      "Given the former angle theta and quantum state, the new prediction is:\n",
      "Prediction = 0\n",
      "int(Prediction) = 0 \n",
      "\n",
      "Overall Probability = -0.6906111174197878\n"
     ]
    },
    {
     "data": {
      "text/latex": [
       "$\\displaystyle \n",
       "$$ |\\psi\\rangle =\\begin{bmatrix}\n",
       "-0.88421 \\\\\n",
       "0.46708\\end{bmatrix} $"
      ],
      "text/plain": [
       "<IPython.core.display.Math object>"
      ]
     },
     "metadata": {},
     "output_type": "display_data"
    },
    {
     "name": "stdout",
     "output_type": "stream",
     "text": [
      "Salida counts = {'0': 1}\n",
      "Given the former angle theta and quantum state, the new prediction is:\n",
      "Prediction = 0\n",
      "int(Prediction) = 0 \n",
      "\n",
      "Overall Probability = -0.06504071817760557\n"
     ]
    },
    {
     "data": {
      "text/latex": [
       "$\\displaystyle \n",
       "$$ |\\psi\\rangle =\\begin{bmatrix}\n",
       "-0.10199 \\\\\n",
       "0.99479\\end{bmatrix} $"
      ],
      "text/plain": [
       "<IPython.core.display.Math object>"
      ]
     },
     "metadata": {},
     "output_type": "display_data"
    },
    {
     "name": "stdout",
     "output_type": "stream",
     "text": [
      "Salida counts = {'1': 1}\n",
      "Given the former angle theta and quantum state, the new prediction is:\n",
      "Prediction = 1\n",
      "int(Prediction) = 1 \n",
      "\n",
      "Overall Probability = -0.5307795354167459\n"
     ]
    },
    {
     "data": {
      "text/latex": [
       "$\\displaystyle \n",
       "$$ |\\psi\\rangle =\\begin{bmatrix}\n",
       "-0.74045 \\\\\n",
       "0.67211\\end{bmatrix} $"
      ],
      "text/plain": [
       "<IPython.core.display.Math object>"
      ]
     },
     "metadata": {},
     "output_type": "display_data"
    },
    {
     "name": "stdout",
     "output_type": "stream",
     "text": [
      "Salida counts = {'1': 1}\n",
      "Given the former angle theta and quantum state, the new prediction is:\n",
      "Prediction = 1\n",
      "int(Prediction) = 1 \n",
      "\n",
      "Overall Probability = -1.0515140029568004\n"
     ]
    },
    {
     "data": {
      "text/latex": [
       "$\\displaystyle \n",
       "$$ |\\psi\\rangle =\\begin{bmatrix}\n",
       "-0.99673 \\\\\n",
       "-0.08083\\end{bmatrix} $"
      ],
      "text/plain": [
       "<IPython.core.display.Math object>"
      ]
     },
     "metadata": {},
     "output_type": "display_data"
    },
    {
     "name": "stdout",
     "output_type": "stream",
     "text": [
      "Salida counts = {'0': 1}\n",
      "Given the former angle theta and quantum state, the new prediction is:\n",
      "Prediction = 0\n",
      "int(Prediction) = 0 \n",
      "\n",
      "Overall Probability = -0.5322315072784407\n"
     ]
    },
    {
     "data": {
      "text/latex": [
       "$\\displaystyle \n",
       "$$ |\\psi\\rangle =\\begin{bmatrix}\n",
       "-0.74199 \\\\\n",
       "0.67042\\end{bmatrix} $"
      ],
      "text/plain": [
       "<IPython.core.display.Math object>"
      ]
     },
     "metadata": {},
     "output_type": "display_data"
    },
    {
     "name": "stdout",
     "output_type": "stream",
     "text": [
      "Salida counts = {'1': 1}\n",
      "Given the former angle theta and quantum state, the new prediction is:\n",
      "Prediction = 1\n",
      "int(Prediction) = 1 \n",
      "\n",
      "Overall Probability = -0.6719178808172854\n"
     ]
    },
    {
     "data": {
      "text/latex": [
       "$\\displaystyle \n",
       "$$ |\\psi\\rangle =\\begin{bmatrix}\n",
       "-0.87012 \\\\\n",
       "0.49284\\end{bmatrix} $"
      ],
      "text/plain": [
       "<IPython.core.display.Math object>"
      ]
     },
     "metadata": {},
     "output_type": "display_data"
    },
    {
     "name": "stdout",
     "output_type": "stream",
     "text": [
      "Salida counts = {'1': 1}\n",
      "Given the former angle theta and quantum state, the new prediction is:\n",
      "Prediction = 1\n",
      "int(Prediction) = 1 \n",
      "\n",
      "Overall Probability = -0.861030649196836\n"
     ]
    },
    {
     "data": {
      "text/latex": [
       "$\\displaystyle \n",
       "$$ |\\psi\\rangle =\\begin{bmatrix}\n",
       "-0.97627 \\\\\n",
       "0.21656\\end{bmatrix} $"
      ],
      "text/plain": [
       "<IPython.core.display.Math object>"
      ]
     },
     "metadata": {},
     "output_type": "display_data"
    },
    {
     "name": "stdout",
     "output_type": "stream",
     "text": [
      "Salida counts = {'0': 1}\n",
      "Given the former angle theta and quantum state, the new prediction is:\n",
      "Prediction = 0\n",
      "int(Prediction) = 0 \n",
      "\n",
      "Overall Probability = -0.17113720543418792\n"
     ]
    },
    {
     "data": {
      "text/latex": [
       "$\\displaystyle \n",
       "$$ |\\psi\\rangle =\\begin{bmatrix}\n",
       "-0.26560 \\\\\n",
       "0.96408\\end{bmatrix} $"
      ],
      "text/plain": [
       "<IPython.core.display.Math object>"
      ]
     },
     "metadata": {},
     "output_type": "display_data"
    },
    {
     "name": "stdout",
     "output_type": "stream",
     "text": [
      "Salida counts = {'1': 1}\n",
      "Given the former angle theta and quantum state, the new prediction is:\n",
      "Prediction = 1\n",
      "int(Prediction) = 1 \n",
      "\n",
      "Overall Probability = 0.051525353003666896\n"
     ]
    },
    {
     "data": {
      "text/latex": [
       "$\\displaystyle \n",
       "$$ |\\psi\\rangle =\\begin{bmatrix}\n",
       "0.08085 \\\\\n",
       "0.99673\\end{bmatrix} $"
      ],
      "text/plain": [
       "<IPython.core.display.Math object>"
      ]
     },
     "metadata": {},
     "output_type": "display_data"
    },
    {
     "name": "stdout",
     "output_type": "stream",
     "text": [
      "Salida counts = {'1': 1}\n",
      "Given the former angle theta and quantum state, the new prediction is:\n",
      "Prediction = 1\n",
      "int(Prediction) = 1 \n",
      "\n",
      "Overall Probability = -0.8680504027435666\n"
     ]
    },
    {
     "data": {
      "text/latex": [
       "$\\displaystyle \n",
       "$$ |\\psi\\rangle =\\begin{bmatrix}\n",
       "-0.97860 \\\\\n",
       "0.20579\\end{bmatrix} $"
      ],
      "text/plain": [
       "<IPython.core.display.Math object>"
      ]
     },
     "metadata": {},
     "output_type": "display_data"
    },
    {
     "name": "stdout",
     "output_type": "stream",
     "text": [
      "Salida counts = {'0': 1}\n",
      "Given the former angle theta and quantum state, the new prediction is:\n",
      "Prediction = 0\n",
      "int(Prediction) = 0 \n",
      "\n",
      "Overall Probability = -1.0497929500184298\n"
     ]
    },
    {
     "data": {
      "text/latex": [
       "$\\displaystyle \n",
       "$$ |\\psi\\rangle =\\begin{bmatrix}\n",
       "-0.99694 \\\\\n",
       "-0.07813\\end{bmatrix} $"
      ],
      "text/plain": [
       "<IPython.core.display.Math object>"
      ]
     },
     "metadata": {},
     "output_type": "display_data"
    },
    {
     "name": "stdout",
     "output_type": "stream",
     "text": [
      "Salida counts = {'0': 1}\n",
      "Given the former angle theta and quantum state, the new prediction is:\n",
      "Prediction = 0\n",
      "int(Prediction) = 0 \n",
      "\n",
      "Overall Probability = -0.44128109942059385\n"
     ]
    },
    {
     "data": {
      "text/latex": [
       "$\\displaystyle \n",
       "$$ |\\psi\\rangle =\\begin{bmatrix}\n",
       "-0.63897 \\\\\n",
       "0.76923\\end{bmatrix} $"
      ],
      "text/plain": [
       "<IPython.core.display.Math object>"
      ]
     },
     "metadata": {},
     "output_type": "display_data"
    },
    {
     "name": "stdout",
     "output_type": "stream",
     "text": [
      "Salida counts = {'1': 1}\n",
      "Given the former angle theta and quantum state, the new prediction is:\n",
      "Prediction = 1\n",
      "int(Prediction) = 1 \n",
      "\n",
      "Overall Probability = -0.972691764559106\n"
     ]
    },
    {
     "data": {
      "text/latex": [
       "$\\displaystyle \n",
       "$$ |\\psi\\rangle =\\begin{bmatrix}\n",
       "-0.99908 \\\\\n",
       "0.04288\\end{bmatrix} $"
      ],
      "text/plain": [
       "<IPython.core.display.Math object>"
      ]
     },
     "metadata": {},
     "output_type": "display_data"
    },
    {
     "name": "stdout",
     "output_type": "stream",
     "text": [
      "Salida counts = {'0': 1}\n",
      "Given the former angle theta and quantum state, the new prediction is:\n",
      "Prediction = 0\n",
      "int(Prediction) = 0 \n",
      "\n",
      "Overall Probability = -0.5199285276213179\n"
     ]
    },
    {
     "data": {
      "text/latex": [
       "$\\displaystyle \n",
       "$$ |\\psi\\rangle =\\begin{bmatrix}\n",
       "-0.72889 \\\\\n",
       "0.68463\\end{bmatrix} $"
      ],
      "text/plain": [
       "<IPython.core.display.Math object>"
      ]
     },
     "metadata": {},
     "output_type": "display_data"
    },
    {
     "name": "stdout",
     "output_type": "stream",
     "text": [
      "Salida counts = {'0': 1}\n",
      "Given the former angle theta and quantum state, the new prediction is:\n",
      "Prediction = 0\n",
      "int(Prediction) = 0 \n",
      "\n",
      "Overall Probability = -0.8763040038730865\n"
     ]
    },
    {
     "data": {
      "text/latex": [
       "$\\displaystyle \n",
       "$$ |\\psi\\rangle =\\begin{bmatrix}\n",
       "-0.98118 \\\\\n",
       "0.19308\\end{bmatrix} $"
      ],
      "text/plain": [
       "<IPython.core.display.Math object>"
      ]
     },
     "metadata": {},
     "output_type": "display_data"
    },
    {
     "name": "stdout",
     "output_type": "stream",
     "text": [
      "Salida counts = {'0': 1}\n",
      "Given the former angle theta and quantum state, the new prediction is:\n",
      "Prediction = 0\n",
      "int(Prediction) = 0 \n",
      "\n",
      "Overall Probability = -0.8763323926589234\n"
     ]
    },
    {
     "data": {
      "text/latex": [
       "$\\displaystyle \n",
       "$$ |\\psi\\rangle =\\begin{bmatrix}\n",
       "-0.98119 \\\\\n",
       "0.19304\\end{bmatrix} $"
      ],
      "text/plain": [
       "<IPython.core.display.Math object>"
      ]
     },
     "metadata": {},
     "output_type": "display_data"
    },
    {
     "name": "stdout",
     "output_type": "stream",
     "text": [
      "Salida counts = {'0': 1}\n",
      "Given the former angle theta and quantum state, the new prediction is:\n",
      "Prediction = 0\n",
      "int(Prediction) = 0 \n",
      "\n",
      "Overall Probability = -1.0538135812526896\n"
     ]
    },
    {
     "data": {
      "text/latex": [
       "$\\displaystyle \n",
       "$$ |\\psi\\rangle =\\begin{bmatrix}\n",
       "-0.99643 \\\\\n",
       "-0.08443\\end{bmatrix} $"
      ],
      "text/plain": [
       "<IPython.core.display.Math object>"
      ]
     },
     "metadata": {},
     "output_type": "display_data"
    },
    {
     "name": "stdout",
     "output_type": "stream",
     "text": [
      "Salida counts = {'0': 1}\n",
      "Given the former angle theta and quantum state, the new prediction is:\n",
      "Prediction = 0\n",
      "int(Prediction) = 0 \n",
      "\n",
      "Overall Probability = -0.842405950156528\n"
     ]
    },
    {
     "data": {
      "text/latex": [
       "$\\displaystyle \n",
       "$$ |\\psi\\rangle =\\begin{bmatrix}\n",
       "-0.96952 \\\\\n",
       "0.24503\\end{bmatrix} $"
      ],
      "text/plain": [
       "<IPython.core.display.Math object>"
      ]
     },
     "metadata": {},
     "output_type": "display_data"
    },
    {
     "name": "stdout",
     "output_type": "stream",
     "text": [
      "Salida counts = {'0': 1}\n",
      "Given the former angle theta and quantum state, the new prediction is:\n",
      "Prediction = 0\n",
      "int(Prediction) = 0 \n",
      "\n",
      "Overall Probability = -1.0474419920269702\n"
     ]
    },
    {
     "data": {
      "text/latex": [
       "$\\displaystyle \n",
       "$$ |\\psi\\rangle =\\begin{bmatrix}\n",
       "-0.99722 \\\\\n",
       "-0.07445\\end{bmatrix} $"
      ],
      "text/plain": [
       "<IPython.core.display.Math object>"
      ]
     },
     "metadata": {},
     "output_type": "display_data"
    },
    {
     "name": "stdout",
     "output_type": "stream",
     "text": [
      "Salida counts = {'0': 1}\n",
      "Given the former angle theta and quantum state, the new prediction is:\n",
      "Prediction = 0\n",
      "int(Prediction) = 0 \n",
      "\n",
      "Overall Probability = -0.8777058106920127\n"
     ]
    },
    {
     "data": {
      "text/latex": [
       "$\\displaystyle \n",
       "$$ |\\psi\\rangle =\\begin{bmatrix}\n",
       "-0.98161 \\\\\n",
       "0.19092\\end{bmatrix} $"
      ],
      "text/plain": [
       "<IPython.core.display.Math object>"
      ]
     },
     "metadata": {},
     "output_type": "display_data"
    },
    {
     "name": "stdout",
     "output_type": "stream",
     "text": [
      "Salida counts = {'0': 1}\n",
      "Given the former angle theta and quantum state, the new prediction is:\n",
      "Prediction = 0\n",
      "int(Prediction) = 0 \n",
      "\n",
      "Overall Probability = -0.3591900259310916\n"
     ]
    },
    {
     "data": {
      "text/latex": [
       "$\\displaystyle \n",
       "$$ |\\psi\\rangle =\\begin{bmatrix}\n",
       "-0.53475 \\\\\n",
       "0.84501\\end{bmatrix} $"
      ],
      "text/plain": [
       "<IPython.core.display.Math object>"
      ]
     },
     "metadata": {},
     "output_type": "display_data"
    },
    {
     "name": "stdout",
     "output_type": "stream",
     "text": [
      "Salida counts = {'1': 1}\n",
      "Given the former angle theta and quantum state, the new prediction is:\n",
      "Prediction = 1\n",
      "int(Prediction) = 1 \n",
      "\n",
      "Overall Probability = -0.6513659466865891\n"
     ]
    },
    {
     "data": {
      "text/latex": [
       "$\\displaystyle \n",
       "$$ |\\psi\\rangle =\\begin{bmatrix}\n",
       "-0.85376 \\\\\n",
       "0.52067\\end{bmatrix} $"
      ],
      "text/plain": [
       "<IPython.core.display.Math object>"
      ]
     },
     "metadata": {},
     "output_type": "display_data"
    },
    {
     "name": "stdout",
     "output_type": "stream",
     "text": [
      "Salida counts = {'0': 1}\n",
      "Given the former angle theta and quantum state, the new prediction is:\n",
      "Prediction = 0\n",
      "int(Prediction) = 0 \n",
      "\n",
      "Overall Probability = -1.0523226555440766\n"
     ]
    },
    {
     "data": {
      "text/latex": [
       "$\\displaystyle \n",
       "$$ |\\psi\\rangle =\\begin{bmatrix}\n",
       "-0.99662 \\\\\n",
       "-0.08210\\end{bmatrix} $"
      ],
      "text/plain": [
       "<IPython.core.display.Math object>"
      ]
     },
     "metadata": {},
     "output_type": "display_data"
    },
    {
     "name": "stdout",
     "output_type": "stream",
     "text": [
      "Salida counts = {'0': 1}\n",
      "Given the former angle theta and quantum state, the new prediction is:\n",
      "Prediction = 0\n",
      "int(Prediction) = 0 \n",
      "\n",
      "Overall Probability = -0.9547605424644372\n"
     ]
    },
    {
     "data": {
      "text/latex": [
       "$\\displaystyle \n",
       "$$ |\\psi\\rangle =\\begin{bmatrix}\n",
       "-0.99748 \\\\\n",
       "0.07100\\end{bmatrix} $"
      ],
      "text/plain": [
       "<IPython.core.display.Math object>"
      ]
     },
     "metadata": {},
     "output_type": "display_data"
    },
    {
     "name": "stdout",
     "output_type": "stream",
     "text": [
      "Salida counts = {'1': 1}\n",
      "Given the former angle theta and quantum state, the new prediction is:\n",
      "Prediction = 1\n",
      "int(Prediction) = 1 \n",
      "\n",
      "Overall Probability = -0.5185954698132325\n"
     ]
    },
    {
     "data": {
      "text/latex": [
       "$\\displaystyle \n",
       "$$ |\\psi\\rangle =\\begin{bmatrix}\n",
       "-0.72746 \\\\\n",
       "0.68615\\end{bmatrix} $"
      ],
      "text/plain": [
       "<IPython.core.display.Math object>"
      ]
     },
     "metadata": {},
     "output_type": "display_data"
    },
    {
     "name": "stdout",
     "output_type": "stream",
     "text": [
      "Salida counts = {'0': 1}\n",
      "Given the former angle theta and quantum state, the new prediction is:\n",
      "Prediction = 0\n",
      "int(Prediction) = 0 \n",
      "\n",
      "Overall Probability = -0.8763040038730865\n"
     ]
    },
    {
     "data": {
      "text/latex": [
       "$\\displaystyle \n",
       "$$ |\\psi\\rangle =\\begin{bmatrix}\n",
       "-0.98118 \\\\\n",
       "0.19308\\end{bmatrix} $"
      ],
      "text/plain": [
       "<IPython.core.display.Math object>"
      ]
     },
     "metadata": {},
     "output_type": "display_data"
    },
    {
     "name": "stdout",
     "output_type": "stream",
     "text": [
      "Salida counts = {'0': 1}\n",
      "Given the former angle theta and quantum state, the new prediction is:\n",
      "Prediction = 0\n",
      "int(Prediction) = 0 \n",
      "\n",
      "Overall Probability = -1.0559141700000707\n"
     ]
    },
    {
     "data": {
      "text/latex": [
       "$\\displaystyle \n",
       "$$ |\\psi\\rangle =\\begin{bmatrix}\n",
       "-0.99615 \\\\\n",
       "-0.08772\\end{bmatrix} $"
      ],
      "text/plain": [
       "<IPython.core.display.Math object>"
      ]
     },
     "metadata": {},
     "output_type": "display_data"
    },
    {
     "name": "stdout",
     "output_type": "stream",
     "text": [
      "Salida counts = {'0': 1}\n",
      "Given the former angle theta and quantum state, the new prediction is:\n",
      "Prediction = 0\n",
      "int(Prediction) = 0 \n",
      "\n",
      "Overall Probability = -0.26618766603537897\n"
     ]
    },
    {
     "data": {
      "text/latex": [
       "$\\displaystyle \n",
       "$$ |\\psi\\rangle =\\begin{bmatrix}\n",
       "-0.40605 \\\\\n",
       "0.91385\\end{bmatrix} $"
      ],
      "text/plain": [
       "<IPython.core.display.Math object>"
      ]
     },
     "metadata": {},
     "output_type": "display_data"
    },
    {
     "name": "stdout",
     "output_type": "stream",
     "text": [
      "Salida counts = {'1': 1}\n",
      "Given the former angle theta and quantum state, the new prediction is:\n",
      "Prediction = 1\n",
      "int(Prediction) = 1 \n",
      "\n",
      "Overall Probability = 0.0709853545005422\n"
     ]
    },
    {
     "data": {
      "text/latex": [
       "$\\displaystyle \n",
       "$$ |\\psi\\rangle =\\begin{bmatrix}\n",
       "0.11127 \\\\\n",
       "0.99379\\end{bmatrix} $"
      ],
      "text/plain": [
       "<IPython.core.display.Math object>"
      ]
     },
     "metadata": {},
     "output_type": "display_data"
    },
    {
     "name": "stdout",
     "output_type": "stream",
     "text": [
      "Salida counts = {'1': 1}\n",
      "Given the former angle theta and quantum state, the new prediction is:\n",
      "Prediction = 1\n",
      "int(Prediction) = 1 \n",
      "\n",
      "Overall Probability = 0.06577659187694262\n"
     ]
    },
    {
     "data": {
      "text/latex": [
       "$\\displaystyle \n",
       "$$ |\\psi\\rangle =\\begin{bmatrix}\n",
       "0.10314 \\\\\n",
       "0.99467\\end{bmatrix} $"
      ],
      "text/plain": [
       "<IPython.core.display.Math object>"
      ]
     },
     "metadata": {},
     "output_type": "display_data"
    },
    {
     "name": "stdout",
     "output_type": "stream",
     "text": [
      "Salida counts = {'1': 1}\n",
      "Given the former angle theta and quantum state, the new prediction is:\n",
      "Prediction = 1\n",
      "int(Prediction) = 1 \n",
      "\n",
      "Overall Probability = -1.0572082550321749\n"
     ]
    },
    {
     "data": {
      "text/latex": [
       "$\\displaystyle \n",
       "$$ |\\psi\\rangle =\\begin{bmatrix}\n",
       "-0.99597 \\\\\n",
       "-0.08974\\end{bmatrix} $"
      ],
      "text/plain": [
       "<IPython.core.display.Math object>"
      ]
     },
     "metadata": {},
     "output_type": "display_data"
    },
    {
     "name": "stdout",
     "output_type": "stream",
     "text": [
      "Salida counts = {'0': 1}\n",
      "Given the former angle theta and quantum state, the new prediction is:\n",
      "Prediction = 0\n",
      "int(Prediction) = 0 \n",
      "\n",
      "Overall Probability = -0.517200792756804\n"
     ]
    },
    {
     "data": {
      "text/latex": [
       "$\\displaystyle \n",
       "$$ |\\psi\\rangle =\\begin{bmatrix}\n",
       "-0.72595 \\\\\n",
       "0.68775\\end{bmatrix} $"
      ],
      "text/plain": [
       "<IPython.core.display.Math object>"
      ]
     },
     "metadata": {},
     "output_type": "display_data"
    },
    {
     "name": "stdout",
     "output_type": "stream",
     "text": [
      "Salida counts = {'0': 1}\n",
      "Given the former angle theta and quantum state, the new prediction is:\n",
      "Prediction = 0\n",
      "int(Prediction) = 0 \n",
      "\n",
      "Overall Probability = -0.44128109942059385\n"
     ]
    },
    {
     "data": {
      "text/latex": [
       "$\\displaystyle \n",
       "$$ |\\psi\\rangle =\\begin{bmatrix}\n",
       "-0.63897 \\\\\n",
       "0.76923\\end{bmatrix} $"
      ],
      "text/plain": [
       "<IPython.core.display.Math object>"
      ]
     },
     "metadata": {},
     "output_type": "display_data"
    },
    {
     "name": "stdout",
     "output_type": "stream",
     "text": [
      "Salida counts = {'1': 1}\n",
      "Given the former angle theta and quantum state, the new prediction is:\n",
      "Prediction = 1\n",
      "int(Prediction) = 1 \n",
      "\n",
      "Overall Probability = -0.8713997708478453\n"
     ]
    },
    {
     "data": {
      "text/latex": [
       "$\\displaystyle \n",
       "$$ |\\psi\\rangle =\\begin{bmatrix}\n",
       "-0.97967 \\\\\n",
       "0.20063\\end{bmatrix} $"
      ],
      "text/plain": [
       "<IPython.core.display.Math object>"
      ]
     },
     "metadata": {},
     "output_type": "display_data"
    },
    {
     "name": "stdout",
     "output_type": "stream",
     "text": [
      "Salida counts = {'0': 1}\n",
      "Given the former angle theta and quantum state, the new prediction is:\n",
      "Prediction = 0\n",
      "int(Prediction) = 0 \n",
      "\n",
      "Overall Probability = -0.9779900808469966\n"
     ]
    },
    {
     "data": {
      "text/latex": [
       "$\\displaystyle \n",
       "$$ |\\psi\\rangle =\\begin{bmatrix}\n",
       "-0.99940 \\\\\n",
       "0.03457\\end{bmatrix} $"
      ],
      "text/plain": [
       "<IPython.core.display.Math object>"
      ]
     },
     "metadata": {},
     "output_type": "display_data"
    },
    {
     "name": "stdout",
     "output_type": "stream",
     "text": [
      "Salida counts = {'0': 1}\n",
      "Given the former angle theta and quantum state, the new prediction is:\n",
      "Prediction = 0\n",
      "int(Prediction) = 0 \n",
      "\n",
      "Overall Probability = -1.0516784685891791\n"
     ]
    },
    {
     "data": {
      "text/latex": [
       "$\\displaystyle \n",
       "$$ |\\psi\\rangle =\\begin{bmatrix}\n",
       "-0.99671 \\\\\n",
       "-0.08109\\end{bmatrix} $"
      ],
      "text/plain": [
       "<IPython.core.display.Math object>"
      ]
     },
     "metadata": {},
     "output_type": "display_data"
    },
    {
     "name": "stdout",
     "output_type": "stream",
     "text": [
      "Salida counts = {'0': 1}\n",
      "Given the former angle theta and quantum state, the new prediction is:\n",
      "Prediction = 0\n",
      "int(Prediction) = 0 \n",
      "\n",
      "Overall Probability = -1.0503197218269655\n"
     ]
    },
    {
     "data": {
      "text/latex": [
       "$\\displaystyle \n",
       "$$ |\\psi\\rangle =\\begin{bmatrix}\n",
       "-0.99688 \\\\\n",
       "-0.07896\\end{bmatrix} $"
      ],
      "text/plain": [
       "<IPython.core.display.Math object>"
      ]
     },
     "metadata": {},
     "output_type": "display_data"
    },
    {
     "name": "stdout",
     "output_type": "stream",
     "text": [
      "Salida counts = {'0': 1}\n",
      "Given the former angle theta and quantum state, the new prediction is:\n",
      "Prediction = 0\n",
      "int(Prediction) = 0 \n",
      "\n",
      "Overall Probability = -0.8764451890794079\n"
     ]
    },
    {
     "data": {
      "text/latex": [
       "$\\displaystyle \n",
       "$$ |\\psi\\rangle =\\begin{bmatrix}\n",
       "-0.98123 \\\\\n",
       "0.19286\\end{bmatrix} $"
      ],
      "text/plain": [
       "<IPython.core.display.Math object>"
      ]
     },
     "metadata": {},
     "output_type": "display_data"
    },
    {
     "name": "stdout",
     "output_type": "stream",
     "text": [
      "Salida counts = {'1': 1}\n",
      "Given the former angle theta and quantum state, the new prediction is:\n",
      "Prediction = 1\n",
      "int(Prediction) = 1 \n",
      "\n",
      "Overall Probability = -1.049868736719006\n"
     ]
    },
    {
     "data": {
      "text/latex": [
       "$\\displaystyle \n",
       "$$ |\\psi\\rangle =\\begin{bmatrix}\n",
       "-0.99693 \\\\\n",
       "-0.07825\\end{bmatrix} $"
      ],
      "text/plain": [
       "<IPython.core.display.Math object>"
      ]
     },
     "metadata": {},
     "output_type": "display_data"
    },
    {
     "name": "stdout",
     "output_type": "stream",
     "text": [
      "Salida counts = {'0': 1}\n",
      "Given the former angle theta and quantum state, the new prediction is:\n",
      "Prediction = 0\n",
      "int(Prediction) = 0 \n",
      "\n",
      "Overall Probability = -0.960300209194686\n"
     ]
    },
    {
     "data": {
      "text/latex": [
       "$\\displaystyle \n",
       "$$ |\\psi\\rangle =\\begin{bmatrix}\n",
       "-0.99806 \\\\\n",
       "0.06232\\end{bmatrix} $"
      ],
      "text/plain": [
       "<IPython.core.display.Math object>"
      ]
     },
     "metadata": {},
     "output_type": "display_data"
    },
    {
     "name": "stdout",
     "output_type": "stream",
     "text": [
      "Salida counts = {'0': 1}\n",
      "Given the former angle theta and quantum state, the new prediction is:\n",
      "Prediction = 0\n",
      "int(Prediction) = 0 \n",
      "\n",
      "Overall Probability = -0.5141226488587541\n"
     ]
    },
    {
     "data": {
      "text/latex": [
       "$\\displaystyle \n",
       "$$ |\\psi\\rangle =\\begin{bmatrix}\n",
       "-0.72262 \\\\\n",
       "0.69125\\end{bmatrix} $"
      ],
      "text/plain": [
       "<IPython.core.display.Math object>"
      ]
     },
     "metadata": {},
     "output_type": "display_data"
    },
    {
     "name": "stdout",
     "output_type": "stream",
     "text": [
      "Salida counts = {'1': 1}\n",
      "Given the former angle theta and quantum state, the new prediction is:\n",
      "Prediction = 1\n",
      "int(Prediction) = 1 \n",
      "\n",
      "Overall Probability = -1.0518830926807348\n"
     ]
    },
    {
     "data": {
      "text/latex": [
       "$\\displaystyle \n",
       "$$ |\\psi\\rangle =\\begin{bmatrix}\n",
       "-0.99668 \\\\\n",
       "-0.08141\\end{bmatrix} $"
      ],
      "text/plain": [
       "<IPython.core.display.Math object>"
      ]
     },
     "metadata": {},
     "output_type": "display_data"
    },
    {
     "name": "stdout",
     "output_type": "stream",
     "text": [
      "Salida counts = {'0': 1}\n",
      "Given the former angle theta and quantum state, the new prediction is:\n",
      "Prediction = 0\n",
      "int(Prediction) = 0 \n",
      "\n",
      "Overall Probability = -1.0565564894072195\n"
     ]
    },
    {
     "data": {
      "text/latex": [
       "$\\displaystyle \n",
       "$$ |\\psi\\rangle =\\begin{bmatrix}\n",
       "-0.99606 \\\\\n",
       "-0.08872\\end{bmatrix} $"
      ],
      "text/plain": [
       "<IPython.core.display.Math object>"
      ]
     },
     "metadata": {},
     "output_type": "display_data"
    },
    {
     "name": "stdout",
     "output_type": "stream",
     "text": [
      "Salida counts = {'0': 1}\n",
      "Given the former angle theta and quantum state, the new prediction is:\n",
      "Prediction = 0\n",
      "int(Prediction) = 0 \n",
      "\n",
      "Overall Probability = -0.6966752383914762\n"
     ]
    },
    {
     "data": {
      "text/latex": [
       "$\\displaystyle \n",
       "$$ |\\psi\\rangle =\\begin{bmatrix}\n",
       "-0.88862 \\\\\n",
       "0.45864\\end{bmatrix} $"
      ],
      "text/plain": [
       "<IPython.core.display.Math object>"
      ]
     },
     "metadata": {},
     "output_type": "display_data"
    },
    {
     "name": "stdout",
     "output_type": "stream",
     "text": [
      "Salida counts = {'0': 1}\n",
      "Given the former angle theta and quantum state, the new prediction is:\n",
      "Prediction = 0\n",
      "int(Prediction) = 0 \n",
      "\n",
      "Overall Probability = -1.0507384162278834\n"
     ]
    },
    {
     "data": {
      "text/latex": [
       "$\\displaystyle \n",
       "$$ |\\psi\\rangle =\\begin{bmatrix}\n",
       "-0.99683 \\\\\n",
       "-0.07962\\end{bmatrix} $"
      ],
      "text/plain": [
       "<IPython.core.display.Math object>"
      ]
     },
     "metadata": {},
     "output_type": "display_data"
    },
    {
     "name": "stdout",
     "output_type": "stream",
     "text": [
      "Salida counts = {'0': 1}\n",
      "Given the former angle theta and quantum state, the new prediction is:\n",
      "Prediction = 0\n",
      "int(Prediction) = 0 \n",
      "\n",
      "Overall Probability = -0.7150957440331165\n"
     ]
    },
    {
     "data": {
      "text/latex": [
       "$\\displaystyle \n",
       "$$ |\\psi\\rangle =\\begin{bmatrix}\n",
       "-0.90152 \\\\\n",
       "0.43274\\end{bmatrix} $"
      ],
      "text/plain": [
       "<IPython.core.display.Math object>"
      ]
     },
     "metadata": {},
     "output_type": "display_data"
    },
    {
     "name": "stdout",
     "output_type": "stream",
     "text": [
      "Salida counts = {'0': 1}\n",
      "Given the former angle theta and quantum state, the new prediction is:\n",
      "Prediction = 0\n",
      "int(Prediction) = 0 \n",
      "\n",
      "Overall Probability = -0.2776239664242063\n"
     ]
    },
    {
     "data": {
      "text/latex": [
       "$\\displaystyle \n",
       "$$ |\\psi\\rangle =\\begin{bmatrix}\n",
       "-0.42240 \\\\\n",
       "0.90641\\end{bmatrix} $"
      ],
      "text/plain": [
       "<IPython.core.display.Math object>"
      ]
     },
     "metadata": {},
     "output_type": "display_data"
    },
    {
     "name": "stdout",
     "output_type": "stream",
     "text": [
      "Salida counts = {'1': 1}\n",
      "Given the former angle theta and quantum state, the new prediction is:\n",
      "Prediction = 1\n",
      "int(Prediction) = 1 \n",
      "\n",
      "Overall Probability = 0.04625851023535929\n"
     ]
    },
    {
     "data": {
      "text/latex": [
       "$\\displaystyle \n",
       "$$ |\\psi\\rangle =\\begin{bmatrix}\n",
       "0.07260 \\\\\n",
       "0.99736\\end{bmatrix} $"
      ],
      "text/plain": [
       "<IPython.core.display.Math object>"
      ]
     },
     "metadata": {},
     "output_type": "display_data"
    },
    {
     "name": "stdout",
     "output_type": "stream",
     "text": [
      "Salida counts = {'1': 1}\n",
      "Given the former angle theta and quantum state, the new prediction is:\n",
      "Prediction = 1\n",
      "int(Prediction) = 1 \n",
      "\n",
      "Overall Probability = -0.30014137074039055\n"
     ]
    },
    {
     "data": {
      "text/latex": [
       "$\\displaystyle \n",
       "$$ |\\psi\\rangle =\\begin{bmatrix}\n",
       "-0.45419 \\\\\n",
       "0.89091\\end{bmatrix} $"
      ],
      "text/plain": [
       "<IPython.core.display.Math object>"
      ]
     },
     "metadata": {},
     "output_type": "display_data"
    },
    {
     "name": "stdout",
     "output_type": "stream",
     "text": [
      "Salida counts = {'1': 1}\n",
      "Given the former angle theta and quantum state, the new prediction is:\n",
      "Prediction = 1\n",
      "int(Prediction) = 1 \n",
      "\n",
      "Overall Probability = -0.4341133292144602\n"
     ]
    },
    {
     "data": {
      "text/latex": [
       "$\\displaystyle \n",
       "$$ |\\psi\\rangle =\\begin{bmatrix}\n",
       "-0.63027 \\\\\n",
       "0.77637\\end{bmatrix} $"
      ],
      "text/plain": [
       "<IPython.core.display.Math object>"
      ]
     },
     "metadata": {},
     "output_type": "display_data"
    },
    {
     "name": "stdout",
     "output_type": "stream",
     "text": [
      "Salida counts = {'0': 1}\n",
      "Given the former angle theta and quantum state, the new prediction is:\n",
      "Prediction = 0\n",
      "int(Prediction) = 0 \n",
      "\n",
      "Overall Probability = -1.0263073845809934\n"
     ]
    },
    {
     "data": {
      "text/latex": [
       "$\\displaystyle \n",
       "$$ |\\psi\\rangle =\\begin{bmatrix}\n",
       "-0.99915 \\\\\n",
       "-0.04131\\end{bmatrix} $"
      ],
      "text/plain": [
       "<IPython.core.display.Math object>"
      ]
     },
     "metadata": {},
     "output_type": "display_data"
    },
    {
     "name": "stdout",
     "output_type": "stream",
     "text": [
      "Salida counts = {'0': 1}\n",
      "Given the former angle theta and quantum state, the new prediction is:\n",
      "Prediction = 0\n",
      "int(Prediction) = 0 \n",
      "\n",
      "Overall Probability = 0.04270100171543356\n"
     ]
    },
    {
     "data": {
      "text/latex": [
       "$\\displaystyle \n",
       "$$ |\\psi\\rangle =\\begin{bmatrix}\n",
       "0.06702 \\\\\n",
       "0.99775\\end{bmatrix} $"
      ],
      "text/plain": [
       "<IPython.core.display.Math object>"
      ]
     },
     "metadata": {},
     "output_type": "display_data"
    },
    {
     "name": "stdout",
     "output_type": "stream",
     "text": [
      "Salida counts = {'1': 1}\n",
      "Given the former angle theta and quantum state, the new prediction is:\n",
      "Prediction = 1\n",
      "int(Prediction) = 1 \n",
      "\n",
      "Overall Probability = -0.9596128153283316\n"
     ]
    },
    {
     "data": {
      "text/latex": [
       "$\\displaystyle \n",
       "$$ |\\psi\\rangle =\\begin{bmatrix}\n",
       "-0.99799 \\\\\n",
       "0.06340\\end{bmatrix} $"
      ],
      "text/plain": [
       "<IPython.core.display.Math object>"
      ]
     },
     "metadata": {},
     "output_type": "display_data"
    },
    {
     "name": "stdout",
     "output_type": "stream",
     "text": [
      "Salida counts = {'0': 1}\n",
      "Given the former angle theta and quantum state, the new prediction is:\n",
      "Prediction = 0\n",
      "int(Prediction) = 0 \n",
      "\n",
      "Overall Probability = -0.08798641121137687\n"
     ]
    },
    {
     "data": {
      "text/latex": [
       "$\\displaystyle \n",
       "$$ |\\psi\\rangle =\\begin{bmatrix}\n",
       "-0.13777 \\\\\n",
       "0.99046\\end{bmatrix} $"
      ],
      "text/plain": [
       "<IPython.core.display.Math object>"
      ]
     },
     "metadata": {},
     "output_type": "display_data"
    },
    {
     "name": "stdout",
     "output_type": "stream",
     "text": [
      "Salida counts = {'1': 1}\n",
      "Given the former angle theta and quantum state, the new prediction is:\n",
      "Prediction = 1\n",
      "int(Prediction) = 1 \n",
      "\n",
      "Overall Probability = -0.6815167133506453\n"
     ]
    },
    {
     "data": {
      "text/latex": [
       "$\\displaystyle \n",
       "$$ |\\psi\\rangle =\\begin{bmatrix}\n",
       "-0.87745 \\\\\n",
       "0.47966\\end{bmatrix} $"
      ],
      "text/plain": [
       "<IPython.core.display.Math object>"
      ]
     },
     "metadata": {},
     "output_type": "display_data"
    },
    {
     "name": "stdout",
     "output_type": "stream",
     "text": [
      "Salida counts = {'0': 1}\n",
      "Given the former angle theta and quantum state, the new prediction is:\n",
      "Prediction = 0\n",
      "int(Prediction) = 0 \n",
      "\n",
      "Overall Probability = -1.0493079151347422\n"
     ]
    },
    {
     "data": {
      "text/latex": [
       "$\\displaystyle \n",
       "$$ |\\psi\\rangle =\\begin{bmatrix}\n",
       "-0.99700 \\\\\n",
       "-0.07738\\end{bmatrix} $"
      ],
      "text/plain": [
       "<IPython.core.display.Math object>"
      ]
     },
     "metadata": {},
     "output_type": "display_data"
    },
    {
     "name": "stdout",
     "output_type": "stream",
     "text": [
      "Salida counts = {'0': 1}\n",
      "Given the former angle theta and quantum state, the new prediction is:\n",
      "Prediction = 0\n",
      "int(Prediction) = 0 \n",
      "\n",
      "Overall Probability = 0.042986981053892606\n"
     ]
    },
    {
     "data": {
      "text/latex": [
       "$\\displaystyle \n",
       "$$ |\\psi\\rangle =\\begin{bmatrix}\n",
       "0.06747 \\\\\n",
       "0.99772\\end{bmatrix} $"
      ],
      "text/plain": [
       "<IPython.core.display.Math object>"
      ]
     },
     "metadata": {},
     "output_type": "display_data"
    },
    {
     "name": "stdout",
     "output_type": "stream",
     "text": [
      "Salida counts = {'1': 1}\n",
      "Given the former angle theta and quantum state, the new prediction is:\n",
      "Prediction = 1\n",
      "int(Prediction) = 1 \n",
      "\n",
      "Overall Probability = -0.8680478563104271\n"
     ]
    },
    {
     "data": {
      "text/latex": [
       "$\\displaystyle \n",
       "$$ |\\psi\\rangle =\\begin{bmatrix}\n",
       "-0.97860 \\\\\n",
       "0.20579\\end{bmatrix} $"
      ],
      "text/plain": [
       "<IPython.core.display.Math object>"
      ]
     },
     "metadata": {},
     "output_type": "display_data"
    },
    {
     "name": "stdout",
     "output_type": "stream",
     "text": [
      "Salida counts = {'0': 1}\n",
      "Given the former angle theta and quantum state, the new prediction is:\n",
      "Prediction = 0\n",
      "int(Prediction) = 0 \n",
      "\n",
      "Overall Probability = -1.0487963166162224\n"
     ]
    },
    {
     "data": {
      "text/latex": [
       "$\\displaystyle \n",
       "$$ |\\psi\\rangle =\\begin{bmatrix}\n",
       "-0.99706 \\\\\n",
       "-0.07657\\end{bmatrix} $"
      ],
      "text/plain": [
       "<IPython.core.display.Math object>"
      ]
     },
     "metadata": {},
     "output_type": "display_data"
    },
    {
     "name": "stdout",
     "output_type": "stream",
     "text": [
      "Salida counts = {'0': 1}\n",
      "Given the former angle theta and quantum state, the new prediction is:\n",
      "Prediction = 0\n",
      "int(Prediction) = 0 \n",
      "\n",
      "Overall Probability = -0.136799996213928\n"
     ]
    },
    {
     "data": {
      "text/latex": [
       "$\\displaystyle \n",
       "$$ |\\psi\\rangle =\\begin{bmatrix}\n",
       "-0.21324 \\\\\n",
       "0.97700\\end{bmatrix} $"
      ],
      "text/plain": [
       "<IPython.core.display.Math object>"
      ]
     },
     "metadata": {},
     "output_type": "display_data"
    },
    {
     "name": "stdout",
     "output_type": "stream",
     "text": [
      "Salida counts = {'1': 1}\n",
      "Given the former angle theta and quantum state, the new prediction is:\n",
      "Prediction = 1\n",
      "int(Prediction) = 1 \n",
      "\n",
      "Overall Probability = -0.361141001354231\n"
     ]
    },
    {
     "data": {
      "text/latex": [
       "$\\displaystyle \n",
       "$$ |\\psi\\rangle =\\begin{bmatrix}\n",
       "-0.53734 \\\\\n",
       "0.84337\\end{bmatrix} $"
      ],
      "text/plain": [
       "<IPython.core.display.Math object>"
      ]
     },
     "metadata": {},
     "output_type": "display_data"
    },
    {
     "name": "stdout",
     "output_type": "stream",
     "text": [
      "Salida counts = {'1': 1}\n",
      "Given the former angle theta and quantum state, the new prediction is:\n",
      "Prediction = 1\n",
      "int(Prediction) = 1 \n",
      "\n",
      "Overall Probability = -0.49966913306605376\n"
     ]
    },
    {
     "data": {
      "text/latex": [
       "$\\displaystyle \n",
       "$$ |\\psi\\rangle =\\begin{bmatrix}\n",
       "-0.70674 \\\\\n",
       "0.70747\\end{bmatrix} $"
      ],
      "text/plain": [
       "<IPython.core.display.Math object>"
      ]
     },
     "metadata": {},
     "output_type": "display_data"
    },
    {
     "name": "stdout",
     "output_type": "stream",
     "text": [
      "Salida counts = {'1': 1}\n",
      "Given the former angle theta and quantum state, the new prediction is:\n",
      "Prediction = 1\n",
      "int(Prediction) = 1 \n",
      "\n",
      "Overall Probability = -0.5786899940730521\n"
     ]
    },
    {
     "data": {
      "text/latex": [
       "$\\displaystyle \n",
       "$$ |\\psi\\rangle =\\begin{bmatrix}\n",
       "-0.78889 \\\\\n",
       "0.61453\\end{bmatrix} $"
      ],
      "text/plain": [
       "<IPython.core.display.Math object>"
      ]
     },
     "metadata": {},
     "output_type": "display_data"
    },
    {
     "name": "stdout",
     "output_type": "stream",
     "text": [
      "Salida counts = {'1': 1}\n",
      "Given the former angle theta and quantum state, the new prediction is:\n",
      "Prediction = 1\n",
      "int(Prediction) = 1 \n",
      "\n",
      "Overall Probability = -1.056610821289143\n"
     ]
    },
    {
     "data": {
      "text/latex": [
       "$\\displaystyle \n",
       "$$ |\\psi\\rangle =\\begin{bmatrix}\n",
       "-0.99605 \\\\\n",
       "-0.08881\\end{bmatrix} $"
      ],
      "text/plain": [
       "<IPython.core.display.Math object>"
      ]
     },
     "metadata": {},
     "output_type": "display_data"
    },
    {
     "name": "stdout",
     "output_type": "stream",
     "text": [
      "Salida counts = {'0': 1}\n",
      "Given the former angle theta and quantum state, the new prediction is:\n",
      "Prediction = 0\n",
      "int(Prediction) = 0 \n",
      "\n",
      "Overall Probability = -0.14390524855479728\n"
     ]
    },
    {
     "data": {
      "text/latex": [
       "$\\displaystyle \n",
       "$$ |\\psi\\rangle =\\begin{bmatrix}\n",
       "-0.22413 \\\\\n",
       "0.97456\\end{bmatrix} $"
      ],
      "text/plain": [
       "<IPython.core.display.Math object>"
      ]
     },
     "metadata": {},
     "output_type": "display_data"
    },
    {
     "name": "stdout",
     "output_type": "stream",
     "text": [
      "Salida counts = {'1': 1}\n",
      "Given the former angle theta and quantum state, the new prediction is:\n",
      "Prediction = 1\n",
      "int(Prediction) = 1 \n",
      "\n",
      "Overall Probability = -0.9598227529810559\n"
     ]
    },
    {
     "data": {
      "text/latex": [
       "$\\displaystyle \n",
       "$$ |\\psi\\rangle =\\begin{bmatrix}\n",
       "-0.99801 \\\\\n",
       "0.06307\\end{bmatrix} $"
      ],
      "text/plain": [
       "<IPython.core.display.Math object>"
      ]
     },
     "metadata": {},
     "output_type": "display_data"
    },
    {
     "name": "stdout",
     "output_type": "stream",
     "text": [
      "Salida counts = {'0': 1}\n",
      "Given the former angle theta and quantum state, the new prediction is:\n",
      "Prediction = 0\n",
      "int(Prediction) = 0 \n",
      "\n",
      "Overall Probability = -0.5332606201827783\n"
     ]
    },
    {
     "data": {
      "text/latex": [
       "$\\displaystyle \n",
       "$$ |\\psi\\rangle =\\begin{bmatrix}\n",
       "-0.74307 \\\\\n",
       "0.66922\\end{bmatrix} $"
      ],
      "text/plain": [
       "<IPython.core.display.Math object>"
      ]
     },
     "metadata": {},
     "output_type": "display_data"
    },
    {
     "name": "stdout",
     "output_type": "stream",
     "text": [
      "Salida counts = {'1': 1}\n",
      "Given the former angle theta and quantum state, the new prediction is:\n",
      "Prediction = 1\n",
      "int(Prediction) = 1 \n",
      "\n",
      "Overall Probability = -1.0484559393991193\n"
     ]
    },
    {
     "data": {
      "text/latex": [
       "$\\displaystyle \n",
       "$$ |\\psi\\rangle =\\begin{bmatrix}\n",
       "-0.99710 \\\\\n",
       "-0.07604\\end{bmatrix} $"
      ],
      "text/plain": [
       "<IPython.core.display.Math object>"
      ]
     },
     "metadata": {},
     "output_type": "display_data"
    },
    {
     "name": "stdout",
     "output_type": "stream",
     "text": [
      "Salida counts = {'0': 1}\n",
      "Given the former angle theta and quantum state, the new prediction is:\n",
      "Prediction = 0\n",
      "int(Prediction) = 0 \n",
      "\n",
      "Overall Probability = 0.04657366563851048\n"
     ]
    },
    {
     "data": {
      "text/latex": [
       "$\\displaystyle \n",
       "$$ |\\psi\\rangle =\\begin{bmatrix}\n",
       "0.07309 \\\\\n",
       "0.99733\\end{bmatrix} $"
      ],
      "text/plain": [
       "<IPython.core.display.Math object>"
      ]
     },
     "metadata": {},
     "output_type": "display_data"
    },
    {
     "name": "stdout",
     "output_type": "stream",
     "text": [
      "Salida counts = {'1': 1}\n",
      "Given the former angle theta and quantum state, the new prediction is:\n",
      "Prediction = 1\n",
      "int(Prediction) = 1 \n",
      "\n",
      "Overall Probability = -0.3375324209897281\n"
     ]
    },
    {
     "data": {
      "text/latex": [
       "$\\displaystyle \n",
       "$$ |\\psi\\rangle =\\begin{bmatrix}\n",
       "-0.50570 \\\\\n",
       "0.86271\\end{bmatrix} $"
      ],
      "text/plain": [
       "<IPython.core.display.Math object>"
      ]
     },
     "metadata": {},
     "output_type": "display_data"
    },
    {
     "name": "stdout",
     "output_type": "stream",
     "text": [
      "Salida counts = {'1': 1}\n",
      "Given the former angle theta and quantum state, the new prediction is:\n",
      "Prediction = 1\n",
      "int(Prediction) = 1 \n",
      "\n",
      "Overall Probability = -1.0558566893788786\n"
     ]
    },
    {
     "data": {
      "text/latex": [
       "$\\displaystyle \n",
       "$$ |\\psi\\rangle =\\begin{bmatrix}\n",
       "-0.99615 \\\\\n",
       "-0.08763\\end{bmatrix} $"
      ],
      "text/plain": [
       "<IPython.core.display.Math object>"
      ]
     },
     "metadata": {},
     "output_type": "display_data"
    },
    {
     "name": "stdout",
     "output_type": "stream",
     "text": [
      "Salida counts = {'0': 1}\n",
      "Given the former angle theta and quantum state, the new prediction is:\n",
      "Prediction = 0\n",
      "int(Prediction) = 0 \n",
      "\n",
      "Overall Probability = -0.4867069817503069\n"
     ]
    },
    {
     "data": {
      "text/latex": [
       "$\\displaystyle \n",
       "$$ |\\psi\\rangle =\\begin{bmatrix}\n",
       "-0.69219 \\\\\n",
       "0.72172\\end{bmatrix} $"
      ],
      "text/plain": [
       "<IPython.core.display.Math object>"
      ]
     },
     "metadata": {},
     "output_type": "display_data"
    },
    {
     "name": "stdout",
     "output_type": "stream",
     "text": [
      "Salida counts = {'0': 1}\n",
      "Given the former angle theta and quantum state, the new prediction is:\n",
      "Prediction = 0\n",
      "int(Prediction) = 0 \n",
      "\n",
      "Overall Probability = -1.0517163619394672\n"
     ]
    },
    {
     "data": {
      "text/latex": [
       "$\\displaystyle \n",
       "$$ |\\psi\\rangle =\\begin{bmatrix}\n",
       "-0.99670 \\\\\n",
       "-0.08115\\end{bmatrix} $"
      ],
      "text/plain": [
       "<IPython.core.display.Math object>"
      ]
     },
     "metadata": {},
     "output_type": "display_data"
    },
    {
     "name": "stdout",
     "output_type": "stream",
     "text": [
      "Salida counts = {'0': 1}\n",
      "Given the former angle theta and quantum state, the new prediction is:\n",
      "Prediction = 0\n",
      "int(Prediction) = 0 \n",
      "\n",
      "Overall Probability = -1.047416982715835\n"
     ]
    },
    {
     "data": {
      "text/latex": [
       "$\\displaystyle \n",
       "$$ |\\psi\\rangle =\\begin{bmatrix}\n",
       "-0.99723 \\\\\n",
       "-0.07441\\end{bmatrix} $"
      ],
      "text/plain": [
       "<IPython.core.display.Math object>"
      ]
     },
     "metadata": {},
     "output_type": "display_data"
    },
    {
     "name": "stdout",
     "output_type": "stream",
     "text": [
      "Salida counts = {'0': 1}\n",
      "Given the former angle theta and quantum state, the new prediction is:\n",
      "Prediction = 0\n",
      "int(Prediction) = 0 \n",
      "\n",
      "Overall Probability = -0.6679517665232726\n"
     ]
    },
    {
     "data": {
      "text/latex": [
       "$\\displaystyle \n",
       "$$ |\\psi\\rangle =\\begin{bmatrix}\n",
       "-0.86703 \\\\\n",
       "0.49825\\end{bmatrix} $"
      ],
      "text/plain": [
       "<IPython.core.display.Math object>"
      ]
     },
     "metadata": {},
     "output_type": "display_data"
    },
    {
     "name": "stdout",
     "output_type": "stream",
     "text": [
      "Salida counts = {'0': 1}\n",
      "Given the former angle theta and quantum state, the new prediction is:\n",
      "Prediction = 0\n",
      "int(Prediction) = 0 \n",
      "\n",
      "Overall Probability = -0.3658082893972666\n"
     ]
    },
    {
     "data": {
      "text/latex": [
       "$\\displaystyle \n",
       "$$ |\\psi\\rangle =\\begin{bmatrix}\n",
       "-0.54351 \\\\\n",
       "0.83940\\end{bmatrix} $"
      ],
      "text/plain": [
       "<IPython.core.display.Math object>"
      ]
     },
     "metadata": {},
     "output_type": "display_data"
    },
    {
     "name": "stdout",
     "output_type": "stream",
     "text": [
      "Salida counts = {'1': 1}\n",
      "Given the former angle theta and quantum state, the new prediction is:\n",
      "Prediction = 1\n",
      "int(Prediction) = 1 \n",
      "\n",
      "Overall Probability = -0.18344053736899663\n"
     ]
    },
    {
     "data": {
      "text/latex": [
       "$\\displaystyle \n",
       "$$ |\\psi\\rangle =\\begin{bmatrix}\n",
       "-0.28418 \\\\\n",
       "0.95877\\end{bmatrix} $"
      ],
      "text/plain": [
       "<IPython.core.display.Math object>"
      ]
     },
     "metadata": {},
     "output_type": "display_data"
    },
    {
     "name": "stdout",
     "output_type": "stream",
     "text": [
      "Salida counts = {'1': 1}\n",
      "Given the former angle theta and quantum state, the new prediction is:\n",
      "Prediction = 1\n",
      "int(Prediction) = 1 \n",
      "\n",
      "Overall Probability = -0.3402487336096244\n"
     ]
    },
    {
     "data": {
      "text/latex": [
       "$\\displaystyle \n",
       "$$ |\\psi\\rangle =\\begin{bmatrix}\n",
       "-0.50938 \\\\\n",
       "0.86054\\end{bmatrix} $"
      ],
      "text/plain": [
       "<IPython.core.display.Math object>"
      ]
     },
     "metadata": {},
     "output_type": "display_data"
    },
    {
     "name": "stdout",
     "output_type": "stream",
     "text": [
      "Salida counts = {'1': 1}\n",
      "Given the former angle theta and quantum state, the new prediction is:\n",
      "Prediction = 1\n",
      "int(Prediction) = 1 \n",
      "\n",
      "Overall Probability = -1.049401405608573\n"
     ]
    },
    {
     "data": {
      "text/latex": [
       "$\\displaystyle \n",
       "$$ |\\psi\\rangle =\\begin{bmatrix}\n",
       "-0.99699 \\\\\n",
       "-0.07752\\end{bmatrix} $"
      ],
      "text/plain": [
       "<IPython.core.display.Math object>"
      ]
     },
     "metadata": {},
     "output_type": "display_data"
    },
    {
     "name": "stdout",
     "output_type": "stream",
     "text": [
      "Salida counts = {'0': 1}\n",
      "Given the former angle theta and quantum state, the new prediction is:\n",
      "Prediction = 0\n",
      "int(Prediction) = 0 \n",
      "\n",
      "Overall Probability = -1.0363909866236911\n"
     ]
    },
    {
     "data": {
      "text/latex": [
       "$\\displaystyle \n",
       "$$ |\\psi\\rangle =\\begin{bmatrix}\n",
       "-0.99837 \\\\\n",
       "-0.05713\\end{bmatrix} $"
      ],
      "text/plain": [
       "<IPython.core.display.Math object>"
      ]
     },
     "metadata": {},
     "output_type": "display_data"
    },
    {
     "name": "stdout",
     "output_type": "stream",
     "text": [
      "Salida counts = {'0': 1}\n",
      "Given the former angle theta and quantum state, the new prediction is:\n",
      "Prediction = 0\n",
      "int(Prediction) = 0 \n",
      "\n",
      "Overall Probability = -0.8508898165613894\n"
     ]
    },
    {
     "data": {
      "text/latex": [
       "$\\displaystyle \n",
       "$$ |\\psi\\rangle =\\begin{bmatrix}\n",
       "-0.97270 \\\\\n",
       "0.23209\\end{bmatrix} $"
      ],
      "text/plain": [
       "<IPython.core.display.Math object>"
      ]
     },
     "metadata": {},
     "output_type": "display_data"
    },
    {
     "name": "stdout",
     "output_type": "stream",
     "text": [
      "Salida counts = {'0': 1}\n",
      "Given the former angle theta and quantum state, the new prediction is:\n",
      "Prediction = 0\n",
      "int(Prediction) = 0 \n",
      "\n",
      "Overall Probability = -0.06503019877795863\n"
     ]
    },
    {
     "data": {
      "text/latex": [
       "$\\displaystyle \n",
       "$$ |\\psi\\rangle =\\begin{bmatrix}\n",
       "-0.10197 \\\\\n",
       "0.99479\\end{bmatrix} $"
      ],
      "text/plain": [
       "<IPython.core.display.Math object>"
      ]
     },
     "metadata": {},
     "output_type": "display_data"
    },
    {
     "name": "stdout",
     "output_type": "stream",
     "text": [
      "Salida counts = {'1': 1}\n",
      "Given the former angle theta and quantum state, the new prediction is:\n",
      "Prediction = 1\n",
      "int(Prediction) = 1 \n",
      "\n",
      "Overall Probability = -0.5164350579989067\n"
     ]
    },
    {
     "data": {
      "text/latex": [
       "$\\displaystyle \n",
       "$$ |\\psi\\rangle =\\begin{bmatrix}\n",
       "-0.72512 \\\\\n",
       "0.68862\\end{bmatrix} $"
      ],
      "text/plain": [
       "<IPython.core.display.Math object>"
      ]
     },
     "metadata": {},
     "output_type": "display_data"
    },
    {
     "name": "stdout",
     "output_type": "stream",
     "text": [
      "Salida counts = {'0': 1}\n",
      "Given the former angle theta and quantum state, the new prediction is:\n",
      "Prediction = 0\n",
      "int(Prediction) = 0 \n",
      "\n",
      "Overall Probability = -0.9379270605286374\n"
     ]
    },
    {
     "data": {
      "text/latex": [
       "$\\displaystyle \n",
       "$$ |\\psi\\rangle =\\begin{bmatrix}\n",
       "-0.99525 \\\\\n",
       "0.09735\\end{bmatrix} $"
      ],
      "text/plain": [
       "<IPython.core.display.Math object>"
      ]
     },
     "metadata": {},
     "output_type": "display_data"
    },
    {
     "name": "stdout",
     "output_type": "stream",
     "text": [
      "Salida counts = {'0': 1}\n",
      "Given the former angle theta and quantum state, the new prediction is:\n",
      "Prediction = 0\n",
      "int(Prediction) = 0 \n",
      "\n",
      "Overall Probability = -0.4400290629025223\n"
     ]
    },
    {
     "data": {
      "text/latex": [
       "$\\displaystyle \n",
       "$$ |\\psi\\rangle =\\begin{bmatrix}\n",
       "-0.63746 \\\\\n",
       "0.77048\\end{bmatrix} $"
      ],
      "text/plain": [
       "<IPython.core.display.Math object>"
      ]
     },
     "metadata": {},
     "output_type": "display_data"
    },
    {
     "name": "stdout",
     "output_type": "stream",
     "text": [
      "Salida counts = {'0': 1}\n",
      "Given the former angle theta and quantum state, the new prediction is:\n",
      "Prediction = 0\n",
      "int(Prediction) = 0 \n",
      "\n",
      "Overall Probability = -0.28369617421232446\n"
     ]
    },
    {
     "data": {
      "text/latex": [
       "$\\displaystyle \n",
       "$$ |\\psi\\rangle =\\begin{bmatrix}\n",
       "-0.43103 \\\\\n",
       "0.90234\\end{bmatrix} $"
      ],
      "text/plain": [
       "<IPython.core.display.Math object>"
      ]
     },
     "metadata": {},
     "output_type": "display_data"
    },
    {
     "name": "stdout",
     "output_type": "stream",
     "text": [
      "Salida counts = {'1': 1}\n",
      "Given the former angle theta and quantum state, the new prediction is:\n",
      "Prediction = 1\n",
      "int(Prediction) = 1 \n",
      "\n",
      "Overall Probability = -1.047805768189736\n"
     ]
    },
    {
     "data": {
      "text/latex": [
       "$\\displaystyle \n",
       "$$ |\\psi\\rangle =\\begin{bmatrix}\n",
       "-0.99718 \\\\\n",
       "-0.07502\\end{bmatrix} $"
      ],
      "text/plain": [
       "<IPython.core.display.Math object>"
      ]
     },
     "metadata": {},
     "output_type": "display_data"
    },
    {
     "name": "stdout",
     "output_type": "stream",
     "text": [
      "Salida counts = {'0': 1}\n",
      "Given the former angle theta and quantum state, the new prediction is:\n",
      "Prediction = 0\n",
      "int(Prediction) = 0 \n",
      "\n",
      "Overall Probability = -0.5117352904537409\n"
     ]
    },
    {
     "data": {
      "text/latex": [
       "$\\displaystyle \n",
       "$$ |\\psi\\rangle =\\begin{bmatrix}\n",
       "-0.72002 \\\\\n",
       "0.69395\\end{bmatrix} $"
      ],
      "text/plain": [
       "<IPython.core.display.Math object>"
      ]
     },
     "metadata": {},
     "output_type": "display_data"
    },
    {
     "name": "stdout",
     "output_type": "stream",
     "text": [
      "Salida counts = {'1': 1}\n",
      "Given the former angle theta and quantum state, the new prediction is:\n",
      "Prediction = 1\n",
      "int(Prediction) = 1 \n",
      "\n",
      "Overall Probability = -0.8697117537595757\n"
     ]
    },
    {
     "data": {
      "text/latex": [
       "$\\displaystyle \n",
       "$$ |\\psi\\rangle =\\begin{bmatrix}\n",
       "-0.97913 \\\\\n",
       "0.20323\\end{bmatrix} $"
      ],
      "text/plain": [
       "<IPython.core.display.Math object>"
      ]
     },
     "metadata": {},
     "output_type": "display_data"
    },
    {
     "name": "stdout",
     "output_type": "stream",
     "text": [
      "Salida counts = {'0': 1}\n",
      "Given the former angle theta and quantum state, the new prediction is:\n",
      "Prediction = 0\n",
      "int(Prediction) = 0 \n",
      "\n",
      "Overall Probability = -0.09946365577740988\n"
     ]
    },
    {
     "data": {
      "text/latex": [
       "$\\displaystyle \n",
       "$$ |\\psi\\rangle =\\begin{bmatrix}\n",
       "-0.15560 \\\\\n",
       "0.98782\\end{bmatrix} $"
      ],
      "text/plain": [
       "<IPython.core.display.Math object>"
      ]
     },
     "metadata": {},
     "output_type": "display_data"
    },
    {
     "name": "stdout",
     "output_type": "stream",
     "text": [
      "Salida counts = {'1': 1}\n",
      "Given the former angle theta and quantum state, the new prediction is:\n",
      "Prediction = 1\n",
      "int(Prediction) = 1 \n",
      "\n",
      "Overall Probability = -0.5297684235598139\n"
     ]
    },
    {
     "data": {
      "text/latex": [
       "$\\displaystyle \n",
       "$$ |\\psi\\rangle =\\begin{bmatrix}\n",
       "-0.73939 \\\\\n",
       "0.67328\\end{bmatrix} $"
      ],
      "text/plain": [
       "<IPython.core.display.Math object>"
      ]
     },
     "metadata": {},
     "output_type": "display_data"
    },
    {
     "name": "stdout",
     "output_type": "stream",
     "text": [
      "Salida counts = {'0': 1}\n",
      "Given the former angle theta and quantum state, the new prediction is:\n",
      "Prediction = 0\n",
      "int(Prediction) = 0 \n",
      "\n",
      "Overall Probability = -0.3071914832890879\n"
     ]
    },
    {
     "data": {
      "text/latex": [
       "$\\displaystyle \n",
       "$$ |\\psi\\rangle =\\begin{bmatrix}\n",
       "-0.46403 \\\\\n",
       "0.88582\\end{bmatrix} $"
      ],
      "text/plain": [
       "<IPython.core.display.Math object>"
      ]
     },
     "metadata": {},
     "output_type": "display_data"
    },
    {
     "name": "stdout",
     "output_type": "stream",
     "text": [
      "Salida counts = {'0': 1}\n",
      "Given the former angle theta and quantum state, the new prediction is:\n",
      "Prediction = 0\n",
      "int(Prediction) = 0 \n",
      "\n",
      "Overall Probability = -0.5298505077389277\n"
     ]
    },
    {
     "data": {
      "text/latex": [
       "$\\displaystyle \n",
       "$$ |\\psi\\rangle =\\begin{bmatrix}\n",
       "-0.73947 \\\\\n",
       "0.67319\\end{bmatrix} $"
      ],
      "text/plain": [
       "<IPython.core.display.Math object>"
      ]
     },
     "metadata": {},
     "output_type": "display_data"
    },
    {
     "name": "stdout",
     "output_type": "stream",
     "text": [
      "Salida counts = {'0': 1}\n",
      "Given the former angle theta and quantum state, the new prediction is:\n",
      "Prediction = 0\n",
      "int(Prediction) = 0 \n",
      "\n",
      "Overall Probability = -0.5285052555140698\n"
     ]
    },
    {
     "data": {
      "text/latex": [
       "$\\displaystyle \n",
       "$$ |\\psi\\rangle =\\begin{bmatrix}\n",
       "-0.73805 \\\\\n",
       "0.67475\\end{bmatrix} $"
      ],
      "text/plain": [
       "<IPython.core.display.Math object>"
      ]
     },
     "metadata": {},
     "output_type": "display_data"
    },
    {
     "name": "stdout",
     "output_type": "stream",
     "text": [
      "Salida counts = {'1': 1}\n",
      "Given the former angle theta and quantum state, the new prediction is:\n",
      "Prediction = 1\n",
      "int(Prediction) = 1 \n",
      "\n",
      "Overall Probability = -0.9265278261060208\n"
     ]
    },
    {
     "data": {
      "text/latex": [
       "$\\displaystyle \n",
       "$$ |\\psi\\rangle =\\begin{bmatrix}\n",
       "-0.99335 \\\\\n",
       "0.11515\\end{bmatrix} $"
      ],
      "text/plain": [
       "<IPython.core.display.Math object>"
      ]
     },
     "metadata": {},
     "output_type": "display_data"
    },
    {
     "name": "stdout",
     "output_type": "stream",
     "text": [
      "Salida counts = {'0': 1}\n",
      "Given the former angle theta and quantum state, the new prediction is:\n",
      "Prediction = 0\n",
      "int(Prediction) = 0 \n",
      "\n",
      "Overall Probability = -1.051809852413298\n"
     ]
    },
    {
     "data": {
      "text/latex": [
       "$\\displaystyle \n",
       "$$ |\\psi\\rangle =\\begin{bmatrix}\n",
       "-0.99669 \\\\\n",
       "-0.08129\\end{bmatrix} $"
      ],
      "text/plain": [
       "<IPython.core.display.Math object>"
      ]
     },
     "metadata": {},
     "output_type": "display_data"
    },
    {
     "name": "stdout",
     "output_type": "stream",
     "text": [
      "Salida counts = {'0': 1}\n",
      "Given the former angle theta and quantum state, the new prediction is:\n",
      "Prediction = 0\n",
      "int(Prediction) = 0 \n",
      "\n",
      "Overall Probability = -0.8299594883085619\n"
     ]
    },
    {
     "data": {
      "text/latex": [
       "$\\displaystyle \n",
       "$$ |\\psi\\rangle =\\begin{bmatrix}\n",
       "-0.96454 \\\\\n",
       "0.26393\\end{bmatrix} $"
      ],
      "text/plain": [
       "<IPython.core.display.Math object>"
      ]
     },
     "metadata": {},
     "output_type": "display_data"
    },
    {
     "name": "stdout",
     "output_type": "stream",
     "text": [
      "Salida counts = {'0': 1}\n",
      "Given the former angle theta and quantum state, the new prediction is:\n",
      "Prediction = 0\n",
      "int(Prediction) = 0 \n",
      "\n",
      "Overall Probability = -1.0586293099075095\n"
     ]
    },
    {
     "data": {
      "text/latex": [
       "$\\displaystyle \n",
       "$$ |\\psi\\rangle =\\begin{bmatrix}\n",
       "-0.99576 \\\\\n",
       "-0.09196\\end{bmatrix} $"
      ],
      "text/plain": [
       "<IPython.core.display.Math object>"
      ]
     },
     "metadata": {},
     "output_type": "display_data"
    },
    {
     "name": "stdout",
     "output_type": "stream",
     "text": [
      "Salida counts = {'0': 1}\n",
      "Given the former angle theta and quantum state, the new prediction is:\n",
      "Prediction = 0\n",
      "int(Prediction) = 0 \n",
      "\n",
      "Overall Probability = -1.0551340448613022\n"
     ]
    },
    {
     "data": {
      "text/latex": [
       "$\\displaystyle \n",
       "$$ |\\psi\\rangle =\\begin{bmatrix}\n",
       "-0.99625 \\\\\n",
       "-0.08650\\end{bmatrix} $"
      ],
      "text/plain": [
       "<IPython.core.display.Math object>"
      ]
     },
     "metadata": {},
     "output_type": "display_data"
    },
    {
     "name": "stdout",
     "output_type": "stream",
     "text": [
      "Salida counts = {'0': 1}\n",
      "Given the former angle theta and quantum state, the new prediction is:\n",
      "Prediction = 0\n",
      "int(Prediction) = 0 \n",
      "\n",
      "Overall Probability = -0.9550903141963586\n"
     ]
    },
    {
     "data": {
      "text/latex": [
       "$\\displaystyle \n",
       "$$ |\\psi\\rangle =\\begin{bmatrix}\n",
       "-0.99751 \\\\\n",
       "0.07049\\end{bmatrix} $"
      ],
      "text/plain": [
       "<IPython.core.display.Math object>"
      ]
     },
     "metadata": {},
     "output_type": "display_data"
    },
    {
     "name": "stdout",
     "output_type": "stream",
     "text": [
      "Salida counts = {'0': 1}\n",
      "Given the former angle theta and quantum state, the new prediction is:\n",
      "Prediction = 0\n",
      "int(Prediction) = 0 \n",
      "\n",
      "Overall Probability = -0.5083286088310115\n"
     ]
    },
    {
     "data": {
      "text/latex": [
       "$\\displaystyle \n",
       "$$ |\\psi\\rangle =\\begin{bmatrix}\n",
       "-0.71630 \\\\\n",
       "0.69780\\end{bmatrix} $"
      ],
      "text/plain": [
       "<IPython.core.display.Math object>"
      ]
     },
     "metadata": {},
     "output_type": "display_data"
    },
    {
     "name": "stdout",
     "output_type": "stream",
     "text": [
      "Salida counts = {'1': 1}\n",
      "Given the former angle theta and quantum state, the new prediction is:\n",
      "Prediction = 1\n",
      "int(Prediction) = 1 \n",
      "\n",
      "Overall Probability = -0.2866567208604087\n"
     ]
    },
    {
     "data": {
      "text/latex": [
       "$\\displaystyle \n",
       "$$ |\\psi\\rangle =\\begin{bmatrix}\n",
       "-0.43522 \\\\\n",
       "0.90033\\end{bmatrix} $"
      ],
      "text/plain": [
       "<IPython.core.display.Math object>"
      ]
     },
     "metadata": {},
     "output_type": "display_data"
    },
    {
     "name": "stdout",
     "output_type": "stream",
     "text": [
      "Salida counts = {'1': 1}\n",
      "Given the former angle theta and quantum state, the new prediction is:\n",
      "Prediction = 1\n",
      "int(Prediction) = 1 \n",
      "\n",
      "Overall Probability = -0.6925067688515615\n"
     ]
    },
    {
     "data": {
      "text/latex": [
       "$\\displaystyle \n",
       "$$ |\\psi\\rangle =\\begin{bmatrix}\n",
       "-0.88560 \\\\\n",
       "0.46445\\end{bmatrix} $"
      ],
      "text/plain": [
       "<IPython.core.display.Math object>"
      ]
     },
     "metadata": {},
     "output_type": "display_data"
    },
    {
     "name": "stdout",
     "output_type": "stream",
     "text": [
      "Salida counts = {'0': 1}\n",
      "Given the former angle theta and quantum state, the new prediction is:\n",
      "Prediction = 0\n",
      "int(Prediction) = 0 \n",
      "\n",
      "Overall Probability = -0.8680504027435666\n"
     ]
    },
    {
     "data": {
      "text/latex": [
       "$\\displaystyle \n",
       "$$ |\\psi\\rangle =\\begin{bmatrix}\n",
       "-0.97860 \\\\\n",
       "0.20579\\end{bmatrix} $"
      ],
      "text/plain": [
       "<IPython.core.display.Math object>"
      ]
     },
     "metadata": {},
     "output_type": "display_data"
    },
    {
     "name": "stdout",
     "output_type": "stream",
     "text": [
      "Salida counts = {'0': 1}\n",
      "Given the former angle theta and quantum state, the new prediction is:\n",
      "Prediction = 0\n",
      "int(Prediction) = 0 \n",
      "\n",
      "Overall Probability = -0.29548107214864205\n"
     ]
    },
    {
     "data": {
      "text/latex": [
       "$\\displaystyle \n",
       "$$ |\\psi\\rangle =\\begin{bmatrix}\n",
       "-0.44765 \\\\\n",
       "0.89421\\end{bmatrix} $"
      ],
      "text/plain": [
       "<IPython.core.display.Math object>"
      ]
     },
     "metadata": {},
     "output_type": "display_data"
    },
    {
     "name": "stdout",
     "output_type": "stream",
     "text": [
      "Salida counts = {'1': 1}\n",
      "Given the former angle theta and quantum state, the new prediction is:\n",
      "Prediction = 1\n",
      "int(Prediction) = 1 \n",
      "\n",
      "Overall Probability = -0.8253510518441165\n"
     ]
    },
    {
     "data": {
      "text/latex": [
       "$\\displaystyle \n",
       "$$ |\\psi\\rangle =\\begin{bmatrix}\n",
       "-0.96260 \\\\\n",
       "0.27091\\end{bmatrix} $"
      ],
      "text/plain": [
       "<IPython.core.display.Math object>"
      ]
     },
     "metadata": {},
     "output_type": "display_data"
    },
    {
     "name": "stdout",
     "output_type": "stream",
     "text": [
      "Salida counts = {'0': 1}\n",
      "Given the former angle theta and quantum state, the new prediction is:\n",
      "Prediction = 0\n",
      "int(Prediction) = 0 \n",
      "\n",
      "Overall Probability = -0.1386431522859487\n"
     ]
    },
    {
     "data": {
      "text/latex": [
       "$\\displaystyle \n",
       "$$ |\\psi\\rangle =\\begin{bmatrix}\n",
       "-0.21606 \\\\\n",
       "0.97638\\end{bmatrix} $"
      ],
      "text/plain": [
       "<IPython.core.display.Math object>"
      ]
     },
     "metadata": {},
     "output_type": "display_data"
    },
    {
     "name": "stdout",
     "output_type": "stream",
     "text": [
      "Salida counts = {'1': 1}\n",
      "Given the former angle theta and quantum state, the new prediction is:\n",
      "Prediction = 1\n",
      "int(Prediction) = 1 \n",
      "\n",
      "Overall Probability = -0.6541162637373298\n"
     ]
    },
    {
     "data": {
      "text/latex": [
       "$\\displaystyle \n",
       "$$ |\\psi\\rangle =\\begin{bmatrix}\n",
       "-0.85600 \\\\\n",
       "0.51697\\end{bmatrix} $"
      ],
      "text/plain": [
       "<IPython.core.display.Math object>"
      ]
     },
     "metadata": {},
     "output_type": "display_data"
    },
    {
     "name": "stdout",
     "output_type": "stream",
     "text": [
      "Salida counts = {'0': 1}\n",
      "Given the former angle theta and quantum state, the new prediction is:\n",
      "Prediction = 0\n",
      "int(Prediction) = 0 \n",
      "\n",
      "Overall Probability = 0.020959031327367497\n"
     ]
    },
    {
     "data": {
      "text/latex": [
       "$\\displaystyle \n",
       "$$ |\\psi\\rangle =\\begin{bmatrix}\n",
       "0.03292 \\\\\n",
       "0.99946\\end{bmatrix} $"
      ],
      "text/plain": [
       "<IPython.core.display.Math object>"
      ]
     },
     "metadata": {},
     "output_type": "display_data"
    },
    {
     "name": "stdout",
     "output_type": "stream",
     "text": [
      "Salida counts = {'1': 1}\n",
      "Given the former angle theta and quantum state, the new prediction is:\n",
      "Prediction = 1\n",
      "int(Prediction) = 1 \n",
      "\n",
      "Overall Probability = -1.032397120032488\n"
     ]
    },
    {
     "data": {
      "text/latex": [
       "$\\displaystyle \n",
       "$$ |\\psi\\rangle =\\begin{bmatrix}\n",
       "-0.99871 \\\\\n",
       "-0.05087\\end{bmatrix} $"
      ],
      "text/plain": [
       "<IPython.core.display.Math object>"
      ]
     },
     "metadata": {},
     "output_type": "display_data"
    },
    {
     "name": "stdout",
     "output_type": "stream",
     "text": [
      "Salida counts = {'0': 1}\n",
      "Given the former angle theta and quantum state, the new prediction is:\n",
      "Prediction = 0\n",
      "int(Prediction) = 0 \n",
      "\n",
      "Overall Probability = -0.33512768250143177\n"
     ]
    },
    {
     "data": {
      "text/latex": [
       "$\\displaystyle \n",
       "$$ |\\psi\\rangle =\\begin{bmatrix}\n",
       "-0.50244 \\\\\n",
       "0.86461\\end{bmatrix} $"
      ],
      "text/plain": [
       "<IPython.core.display.Math object>"
      ]
     },
     "metadata": {},
     "output_type": "display_data"
    },
    {
     "name": "stdout",
     "output_type": "stream",
     "text": [
      "Salida counts = {'1': 1}\n",
      "Given the former angle theta and quantum state, the new prediction is:\n",
      "Prediction = 1\n",
      "int(Prediction) = 1 \n",
      "\n",
      "Overall Probability = -0.8680504027435666\n"
     ]
    },
    {
     "data": {
      "text/latex": [
       "$\\displaystyle \n",
       "$$ |\\psi\\rangle =\\begin{bmatrix}\n",
       "-0.97860 \\\\\n",
       "0.20579\\end{bmatrix} $"
      ],
      "text/plain": [
       "<IPython.core.display.Math object>"
      ]
     },
     "metadata": {},
     "output_type": "display_data"
    },
    {
     "name": "stdout",
     "output_type": "stream",
     "text": [
      "Salida counts = {'0': 1}\n",
      "Given the former angle theta and quantum state, the new prediction is:\n",
      "Prediction = 0\n",
      "int(Prediction) = 0 \n",
      "\n",
      "Overall Probability = -0.9598151743109983\n"
     ]
    },
    {
     "data": {
      "text/latex": [
       "$\\displaystyle \n",
       "$$ |\\psi\\rangle =\\begin{bmatrix}\n",
       "-0.99801 \\\\\n",
       "0.06308\\end{bmatrix} $"
      ],
      "text/plain": [
       "<IPython.core.display.Math object>"
      ]
     },
     "metadata": {},
     "output_type": "display_data"
    },
    {
     "name": "stdout",
     "output_type": "stream",
     "text": [
      "Salida counts = {'0': 1}\n",
      "Given the former angle theta and quantum state, the new prediction is:\n",
      "Prediction = 0\n",
      "int(Prediction) = 0 \n",
      "\n",
      "Overall Probability = -0.14338643090032666\n"
     ]
    },
    {
     "data": {
      "text/latex": [
       "$\\displaystyle \n",
       "$$ |\\psi\\rangle =\\begin{bmatrix}\n",
       "-0.22333 \\\\\n",
       "0.97474\\end{bmatrix} $"
      ],
      "text/plain": [
       "<IPython.core.display.Math object>"
      ]
     },
     "metadata": {},
     "output_type": "display_data"
    },
    {
     "name": "stdout",
     "output_type": "stream",
     "text": [
      "Salida counts = {'1': 1}\n",
      "Given the former angle theta and quantum state, the new prediction is:\n",
      "Prediction = 1\n",
      "int(Prediction) = 1 \n",
      "\n",
      "Overall Probability = -0.068113137395143\n"
     ]
    },
    {
     "data": {
      "text/latex": [
       "$\\displaystyle \n",
       "$$ |\\psi\\rangle =\\begin{bmatrix}\n",
       "-0.10679 \\\\\n",
       "0.99428\\end{bmatrix} $"
      ],
      "text/plain": [
       "<IPython.core.display.Math object>"
      ]
     },
     "metadata": {},
     "output_type": "display_data"
    },
    {
     "name": "stdout",
     "output_type": "stream",
     "text": [
      "Salida counts = {'1': 1}\n",
      "Given the former angle theta and quantum state, the new prediction is:\n",
      "Prediction = 1\n",
      "int(Prediction) = 1 \n",
      "\n",
      "Overall Probability = -1.0517163619394672\n"
     ]
    },
    {
     "data": {
      "text/latex": [
       "$\\displaystyle \n",
       "$$ |\\psi\\rangle =\\begin{bmatrix}\n",
       "-0.99670 \\\\\n",
       "-0.08115\\end{bmatrix} $"
      ],
      "text/plain": [
       "<IPython.core.display.Math object>"
      ]
     },
     "metadata": {},
     "output_type": "display_data"
    },
    {
     "name": "stdout",
     "output_type": "stream",
     "text": [
      "Salida counts = {'0': 1}\n",
      "Given the former angle theta and quantum state, the new prediction is:\n",
      "Prediction = 0\n",
      "int(Prediction) = 0 \n",
      "\n",
      "Overall Probability = -1.038475213418698\n"
     ]
    },
    {
     "data": {
      "text/latex": [
       "$\\displaystyle \n",
       "$$ |\\psi\\rangle =\\begin{bmatrix}\n",
       "-0.99817 \\\\\n",
       "-0.06040\\end{bmatrix} $"
      ],
      "text/plain": [
       "<IPython.core.display.Math object>"
      ]
     },
     "metadata": {},
     "output_type": "display_data"
    },
    {
     "name": "stdout",
     "output_type": "stream",
     "text": [
      "Salida counts = {'0': 1}\n",
      "Given the former angle theta and quantum state, the new prediction is:\n",
      "Prediction = 0\n",
      "int(Prediction) = 0 \n",
      "\n",
      "Overall Probability = -0.869332274429835\n"
     ]
    },
    {
     "data": {
      "text/latex": [
       "$\\displaystyle \n",
       "$$ |\\psi\\rangle =\\begin{bmatrix}\n",
       "-0.97901 \\\\\n",
       "0.20381\\end{bmatrix} $"
      ],
      "text/plain": [
       "<IPython.core.display.Math object>"
      ]
     },
     "metadata": {},
     "output_type": "display_data"
    },
    {
     "name": "stdout",
     "output_type": "stream",
     "text": [
      "Salida counts = {'0': 1}\n",
      "Given the former angle theta and quantum state, the new prediction is:\n",
      "Prediction = 0\n",
      "int(Prediction) = 0 \n",
      "\n",
      "Overall Probability = -1.04829295970325\n"
     ]
    },
    {
     "data": {
      "text/latex": [
       "$\\displaystyle \n",
       "$$ |\\psi\\rangle =\\begin{bmatrix}\n",
       "-0.99712 \\\\\n",
       "-0.07579\\end{bmatrix} $"
      ],
      "text/plain": [
       "<IPython.core.display.Math object>"
      ]
     },
     "metadata": {},
     "output_type": "display_data"
    },
    {
     "name": "stdout",
     "output_type": "stream",
     "text": [
      "Salida counts = {'0': 1}\n",
      "Given the former angle theta and quantum state, the new prediction is:\n",
      "Prediction = 0\n",
      "int(Prediction) = 0 \n",
      "\n",
      "Overall Probability = -0.883402625150427\n"
     ]
    },
    {
     "data": {
      "text/latex": [
       "$\\displaystyle \n",
       "$$ |\\psi\\rangle =\\begin{bmatrix}\n",
       "-0.98327 \\\\\n",
       "0.18213\\end{bmatrix} $"
      ],
      "text/plain": [
       "<IPython.core.display.Math object>"
      ]
     },
     "metadata": {},
     "output_type": "display_data"
    },
    {
     "name": "stdout",
     "output_type": "stream",
     "text": [
      "Salida counts = {'0': 1}\n",
      "Given the former angle theta and quantum state, the new prediction is:\n",
      "Prediction = 0\n",
      "int(Prediction) = 0 \n",
      "\n",
      "Overall Probability = -1.047805768189736\n"
     ]
    },
    {
     "data": {
      "text/latex": [
       "$\\displaystyle \n",
       "$$ |\\psi\\rangle =\\begin{bmatrix}\n",
       "-0.99718 \\\\\n",
       "-0.07502\\end{bmatrix} $"
      ],
      "text/plain": [
       "<IPython.core.display.Math object>"
      ]
     },
     "metadata": {},
     "output_type": "display_data"
    },
    {
     "name": "stdout",
     "output_type": "stream",
     "text": [
      "Salida counts = {'0': 1}\n",
      "Given the former angle theta and quantum state, the new prediction is:\n",
      "Prediction = 0\n",
      "int(Prediction) = 0 \n",
      "\n",
      "Overall Probability = -0.15159205915421275\n"
     ]
    },
    {
     "data": {
      "text/latex": [
       "$\\displaystyle \n",
       "$$ |\\psi\\rangle =\\begin{bmatrix}\n",
       "-0.23588 \\\\\n",
       "0.97178\\end{bmatrix} $"
      ],
      "text/plain": [
       "<IPython.core.display.Math object>"
      ]
     },
     "metadata": {},
     "output_type": "display_data"
    },
    {
     "name": "stdout",
     "output_type": "stream",
     "text": [
      "Salida counts = {'1': 1}\n",
      "Given the former angle theta and quantum state, the new prediction is:\n",
      "Prediction = 1\n",
      "int(Prediction) = 1 \n",
      "\n",
      "Overall Probability = -0.873548747446815\n"
     ]
    },
    {
     "data": {
      "text/latex": [
       "$\\displaystyle \n",
       "$$ |\\psi\\rangle =\\begin{bmatrix}\n",
       "-0.98034 \\\\\n",
       "0.19733\\end{bmatrix} $"
      ],
      "text/plain": [
       "<IPython.core.display.Math object>"
      ]
     },
     "metadata": {},
     "output_type": "display_data"
    },
    {
     "name": "stdout",
     "output_type": "stream",
     "text": [
      "Salida counts = {'0': 1}\n",
      "Given the former angle theta and quantum state, the new prediction is:\n",
      "Prediction = 0\n",
      "int(Prediction) = 0 \n",
      "\n",
      "Overall Probability = -0.42471575845182064\n"
     ]
    },
    {
     "data": {
      "text/latex": [
       "$\\displaystyle \n",
       "$$ |\\psi\\rangle =\\begin{bmatrix}\n",
       "-0.61874 \\\\\n",
       "0.78559\\end{bmatrix} $"
      ],
      "text/plain": [
       "<IPython.core.display.Math object>"
      ]
     },
     "metadata": {},
     "output_type": "display_data"
    },
    {
     "name": "stdout",
     "output_type": "stream",
     "text": [
      "Salida counts = {'0': 1}\n",
      "Given the former angle theta and quantum state, the new prediction is:\n",
      "Prediction = 0\n",
      "int(Prediction) = 0 \n",
      "\n",
      "Overall Probability = -1.052220100463679\n"
     ]
    },
    {
     "data": {
      "text/latex": [
       "$\\displaystyle \n",
       "$$ |\\psi\\rangle =\\begin{bmatrix}\n",
       "-0.99664 \\\\\n",
       "-0.08194\\end{bmatrix} $"
      ],
      "text/plain": [
       "<IPython.core.display.Math object>"
      ]
     },
     "metadata": {},
     "output_type": "display_data"
    },
    {
     "name": "stdout",
     "output_type": "stream",
     "text": [
      "Salida counts = {'0': 1}\n",
      "Given the former angle theta and quantum state, the new prediction is:\n",
      "Prediction = 0\n",
      "int(Prediction) = 0 \n",
      "\n",
      "Overall Probability = -1.0475837134571027\n"
     ]
    },
    {
     "data": {
      "text/latex": [
       "$\\displaystyle \n",
       "$$ |\\psi\\rangle =\\begin{bmatrix}\n",
       "-0.99721 \\\\\n",
       "-0.07467\\end{bmatrix} $"
      ],
      "text/plain": [
       "<IPython.core.display.Math object>"
      ]
     },
     "metadata": {},
     "output_type": "display_data"
    },
    {
     "name": "stdout",
     "output_type": "stream",
     "text": [
      "Salida counts = {'0': 1}\n",
      "Given the former angle theta and quantum state, the new prediction is:\n",
      "Prediction = 0\n",
      "int(Prediction) = 0 \n",
      "\n",
      "Overall Probability = -0.4080720843493319\n"
     ]
    },
    {
     "data": {
      "text/latex": [
       "$\\displaystyle \n",
       "$$ |\\psi\\rangle =\\begin{bmatrix}\n",
       "-0.59800 \\\\\n",
       "0.80150\\end{bmatrix} $"
      ],
      "text/plain": [
       "<IPython.core.display.Math object>"
      ]
     },
     "metadata": {},
     "output_type": "display_data"
    },
    {
     "name": "stdout",
     "output_type": "stream",
     "text": [
      "Salida counts = {'1': 1}\n",
      "Given the former angle theta and quantum state, the new prediction is:\n",
      "Prediction = 1\n",
      "int(Prediction) = 1 \n",
      "\n",
      "Overall Probability = -0.8783361214983151\n"
     ]
    },
    {
     "data": {
      "text/latex": [
       "$\\displaystyle \n",
       "$$ |\\psi\\rangle =\\begin{bmatrix}\n",
       "-0.98179 \\\\\n",
       "0.18995\\end{bmatrix} $"
      ],
      "text/plain": [
       "<IPython.core.display.Math object>"
      ]
     },
     "metadata": {},
     "output_type": "display_data"
    },
    {
     "name": "stdout",
     "output_type": "stream",
     "text": [
      "Salida counts = {'0': 1}\n",
      "Given the former angle theta and quantum state, the new prediction is:\n",
      "Prediction = 0\n",
      "int(Prediction) = 0 \n",
      "\n",
      "Overall Probability = -0.7005744258464903\n"
     ]
    },
    {
     "data": {
      "text/latex": [
       "$\\displaystyle \n",
       "$$ |\\psi\\rangle =\\begin{bmatrix}\n",
       "-0.89142 \\\\\n",
       "0.45319\\end{bmatrix} $"
      ],
      "text/plain": [
       "<IPython.core.display.Math object>"
      ]
     },
     "metadata": {},
     "output_type": "display_data"
    },
    {
     "name": "stdout",
     "output_type": "stream",
     "text": [
      "Salida counts = {'1': 1}\n",
      "Given the former angle theta and quantum state, the new prediction is:\n",
      "Prediction = 1\n",
      "int(Prediction) = 1 \n",
      "\n",
      "Overall Probability = -0.956336319480193\n"
     ]
    },
    {
     "data": {
      "text/latex": [
       "$\\displaystyle \n",
       "$$ |\\psi\\rangle =\\begin{bmatrix}\n",
       "-0.99765 \\\\\n",
       "0.06853\\end{bmatrix} $"
      ],
      "text/plain": [
       "<IPython.core.display.Math object>"
      ]
     },
     "metadata": {},
     "output_type": "display_data"
    },
    {
     "name": "stdout",
     "output_type": "stream",
     "text": [
      "Salida counts = {'0': 1}\n",
      "Given the former angle theta and quantum state, the new prediction is:\n",
      "Prediction = 0\n",
      "int(Prediction) = 0 \n",
      "\n",
      "Overall Probability = -0.40417580965421995\n"
     ]
    },
    {
     "data": {
      "text/latex": [
       "$\\displaystyle \n",
       "$$ |\\psi\\rangle =\\begin{bmatrix}\n",
       "-0.59308 \\\\\n",
       "0.80514\\end{bmatrix} $"
      ],
      "text/plain": [
       "<IPython.core.display.Math object>"
      ]
     },
     "metadata": {},
     "output_type": "display_data"
    },
    {
     "name": "stdout",
     "output_type": "stream",
     "text": [
      "Salida counts = {'0': 1}\n",
      "Given the former angle theta and quantum state, the new prediction is:\n",
      "Prediction = 0\n",
      "int(Prediction) = 0 \n",
      "\n",
      "Overall Probability = -0.5108582984067577\n"
     ]
    },
    {
     "data": {
      "text/latex": [
       "$\\displaystyle \n",
       "$$ |\\psi\\rangle =\\begin{bmatrix}\n",
       "-0.71906 \\\\\n",
       "0.69494\\end{bmatrix} $"
      ],
      "text/plain": [
       "<IPython.core.display.Math object>"
      ]
     },
     "metadata": {},
     "output_type": "display_data"
    },
    {
     "name": "stdout",
     "output_type": "stream",
     "text": [
      "Salida counts = {'1': 1}\n",
      "Given the former angle theta and quantum state, the new prediction is:\n",
      "Prediction = 1\n",
      "int(Prediction) = 1 \n",
      "\n",
      "Overall Probability = -1.047588822273282\n"
     ]
    },
    {
     "data": {
      "text/latex": [
       "$\\displaystyle \n",
       "$$ |\\psi\\rangle =\\begin{bmatrix}\n",
       "-0.99721 \\\\\n",
       "-0.07468\\end{bmatrix} $"
      ],
      "text/plain": [
       "<IPython.core.display.Math object>"
      ]
     },
     "metadata": {},
     "output_type": "display_data"
    },
    {
     "name": "stdout",
     "output_type": "stream",
     "text": [
      "Salida counts = {'0': 1}\n",
      "Given the former angle theta and quantum state, the new prediction is:\n",
      "Prediction = 0\n",
      "int(Prediction) = 0 \n",
      "\n",
      "Overall Probability = -0.8661121426104289\n"
     ]
    },
    {
     "data": {
      "text/latex": [
       "$\\displaystyle \n",
       "$$ |\\psi\\rangle =\\begin{bmatrix}\n",
       "-0.97797 \\\\\n",
       "0.20876\\end{bmatrix} $"
      ],
      "text/plain": [
       "<IPython.core.display.Math object>"
      ]
     },
     "metadata": {},
     "output_type": "display_data"
    },
    {
     "name": "stdout",
     "output_type": "stream",
     "text": [
      "Salida counts = {'0': 1}\n",
      "Given the former angle theta and quantum state, the new prediction is:\n",
      "Prediction = 0\n",
      "int(Prediction) = 0 \n",
      "\n",
      "Overall Probability = -0.8735727646485079\n"
     ]
    },
    {
     "data": {
      "text/latex": [
       "$\\displaystyle \n",
       "$$ |\\psi\\rangle =\\begin{bmatrix}\n",
       "-0.98035 \\\\\n",
       "0.19729\\end{bmatrix} $"
      ],
      "text/plain": [
       "<IPython.core.display.Math object>"
      ]
     },
     "metadata": {},
     "output_type": "display_data"
    },
    {
     "name": "stdout",
     "output_type": "stream",
     "text": [
      "Salida counts = {'0': 1}\n",
      "Given the former angle theta and quantum state, the new prediction is:\n",
      "Prediction = 0\n",
      "int(Prediction) = 0 \n",
      "\n",
      "\n",
      "The precision score of the Variational Hybrid Quantum Circuit with Data Train classifier is 0.70\n",
      "The recall score of the Variational Hybrid Quantum Circuit with Data Train classifier is 0.62\n",
      "The specificity score of the Variational Hybrid Quantum Circuit with Data Train classifier is 0.84\n",
      "The npv score of the Variational Hybrid Quantum Circuit with Data Train classifier is 0.79\n",
      "The information level is: 0.74\n"
     ]
    }
   ],
   "source": [
    "# Listing 3.28: Run the PQC with the weighted pre‐processing\n",
    "classifier_report(\"Variational Hybrid Quantum Circuit with Data Train\", \n",
    "    run,\n",
    "    lambda passenger: post_process(pqc(backend, pre_process_weighted(passenger))),\n",
    "    train_input,\n",
    "    train_labels)"
   ]
  },
  {
   "cell_type": "code",
   "execution_count": 24,
   "metadata": {
    "scrolled": true,
    "tags": []
   },
   "outputs": [
    {
     "name": "stdout",
     "output_type": "stream",
     "text": [
      "Overall Probability = -0.36076580294684757\n"
     ]
    },
    {
     "data": {
      "text/latex": [
       "$\\displaystyle \n",
       "$$ |\\psi\\rangle =\\begin{bmatrix}\n",
       "-0.53684 \\\\\n",
       "0.84368\\end{bmatrix} $"
      ],
      "text/plain": [
       "<IPython.core.display.Math object>"
      ]
     },
     "metadata": {},
     "output_type": "display_data"
    },
    {
     "name": "stdout",
     "output_type": "stream",
     "text": [
      "Salida counts = {'1': 1}\n",
      "Given the former angle theta and quantum state, the new prediction is:\n",
      "Prediction = 1\n",
      "int(Prediction) = 1 \n",
      "\n",
      "Overall Probability = 0.042511471829814275\n"
     ]
    },
    {
     "data": {
      "text/latex": [
       "$\\displaystyle \n",
       "$$ |\\psi\\rangle =\\begin{bmatrix}\n",
       "0.06673 \\\\\n",
       "0.99777\\end{bmatrix} $"
      ],
      "text/plain": [
       "<IPython.core.display.Math object>"
      ]
     },
     "metadata": {},
     "output_type": "display_data"
    },
    {
     "name": "stdout",
     "output_type": "stream",
     "text": [
      "Salida counts = {'1': 1}\n",
      "Given the former angle theta and quantum state, the new prediction is:\n",
      "Prediction = 1\n",
      "int(Prediction) = 1 \n",
      "\n",
      "Overall Probability = -0.8598923077481491\n"
     ]
    },
    {
     "data": {
      "text/latex": [
       "$\\displaystyle \n",
       "$$ |\\psi\\rangle =\\begin{bmatrix}\n",
       "-0.97588 \\\\\n",
       "0.21831\\end{bmatrix} $"
      ],
      "text/plain": [
       "<IPython.core.display.Math object>"
      ]
     },
     "metadata": {},
     "output_type": "display_data"
    },
    {
     "name": "stdout",
     "output_type": "stream",
     "text": [
      "Salida counts = {'0': 1}\n",
      "Given the former angle theta and quantum state, the new prediction is:\n",
      "Prediction = 0\n",
      "int(Prediction) = 0 \n",
      "\n",
      "Overall Probability = -0.8757548352688733\n"
     ]
    },
    {
     "data": {
      "text/latex": [
       "$\\displaystyle \n",
       "$$ |\\psi\\rangle =\\begin{bmatrix}\n",
       "-0.98102 \\\\\n",
       "0.19393\\end{bmatrix} $"
      ],
      "text/plain": [
       "<IPython.core.display.Math object>"
      ]
     },
     "metadata": {},
     "output_type": "display_data"
    },
    {
     "name": "stdout",
     "output_type": "stream",
     "text": [
      "Salida counts = {'0': 1}\n",
      "Given the former angle theta and quantum state, the new prediction is:\n",
      "Prediction = 0\n",
      "int(Prediction) = 0 \n",
      "\n",
      "Overall Probability = -0.8729784796447448\n"
     ]
    },
    {
     "data": {
      "text/latex": [
       "$\\displaystyle \n",
       "$$ |\\psi\\rangle =\\begin{bmatrix}\n",
       "-0.98016 \\\\\n",
       "0.19820\\end{bmatrix} $"
      ],
      "text/plain": [
       "<IPython.core.display.Math object>"
      ]
     },
     "metadata": {},
     "output_type": "display_data"
    },
    {
     "name": "stdout",
     "output_type": "stream",
     "text": [
      "Salida counts = {'0': 1}\n",
      "Given the former angle theta and quantum state, the new prediction is:\n",
      "Prediction = 0\n",
      "int(Prediction) = 0 \n",
      "\n",
      "Overall Probability = -1.0473607832861629\n"
     ]
    },
    {
     "data": {
      "text/latex": [
       "$\\displaystyle \n",
       "$$ |\\psi\\rangle =\\begin{bmatrix}\n",
       "-0.99723 \\\\\n",
       "-0.07433\\end{bmatrix} $"
      ],
      "text/plain": [
       "<IPython.core.display.Math object>"
      ]
     },
     "metadata": {},
     "output_type": "display_data"
    },
    {
     "name": "stdout",
     "output_type": "stream",
     "text": [
      "Salida counts = {'0': 1}\n",
      "Given the former angle theta and quantum state, the new prediction is:\n",
      "Prediction = 0\n",
      "int(Prediction) = 0 \n",
      "\n",
      "Overall Probability = -0.5321885816912343\n"
     ]
    },
    {
     "data": {
      "text/latex": [
       "$\\displaystyle \n",
       "$$ |\\psi\\rangle =\\begin{bmatrix}\n",
       "-0.74194 \\\\\n",
       "0.67047\\end{bmatrix} $"
      ],
      "text/plain": [
       "<IPython.core.display.Math object>"
      ]
     },
     "metadata": {},
     "output_type": "display_data"
    },
    {
     "name": "stdout",
     "output_type": "stream",
     "text": [
      "Salida counts = {'1': 1}\n",
      "Given the former angle theta and quantum state, the new prediction is:\n",
      "Prediction = 1\n",
      "int(Prediction) = 1 \n",
      "\n",
      "Overall Probability = -0.315619054159038\n"
     ]
    },
    {
     "data": {
      "text/latex": [
       "$\\displaystyle \n",
       "$$ |\\psi\\rangle =\\begin{bmatrix}\n",
       "-0.47571 \\\\\n",
       "0.87960\\end{bmatrix} $"
      ],
      "text/plain": [
       "<IPython.core.display.Math object>"
      ]
     },
     "metadata": {},
     "output_type": "display_data"
    },
    {
     "name": "stdout",
     "output_type": "stream",
     "text": [
      "Salida counts = {'1': 1}\n",
      "Given the former angle theta and quantum state, the new prediction is:\n",
      "Prediction = 1\n",
      "int(Prediction) = 1 \n",
      "\n",
      "Overall Probability = -0.8063691953102585\n"
     ]
    },
    {
     "data": {
      "text/latex": [
       "$\\displaystyle \n",
       "$$ |\\psi\\rangle =\\begin{bmatrix}\n",
       "-0.95410 \\\\\n",
       "0.29949\\end{bmatrix} $"
      ],
      "text/plain": [
       "<IPython.core.display.Math object>"
      ]
     },
     "metadata": {},
     "output_type": "display_data"
    },
    {
     "name": "stdout",
     "output_type": "stream",
     "text": [
      "Salida counts = {'0': 1}\n",
      "Given the former angle theta and quantum state, the new prediction is:\n",
      "Prediction = 0\n",
      "int(Prediction) = 0 \n",
      "\n",
      "Overall Probability = -0.6668596347206217\n"
     ]
    },
    {
     "data": {
      "text/latex": [
       "$\\displaystyle \n",
       "$$ |\\psi\\rangle =\\begin{bmatrix}\n",
       "-0.86618 \\\\\n",
       "0.49974\\end{bmatrix} $"
      ],
      "text/plain": [
       "<IPython.core.display.Math object>"
      ]
     },
     "metadata": {},
     "output_type": "display_data"
    },
    {
     "name": "stdout",
     "output_type": "stream",
     "text": [
      "Salida counts = {'0': 1}\n",
      "Given the former angle theta and quantum state, the new prediction is:\n",
      "Prediction = 0\n",
      "int(Prediction) = 0 \n",
      "\n",
      "Overall Probability = -0.8830754611464293\n"
     ]
    },
    {
     "data": {
      "text/latex": [
       "$\\displaystyle \n",
       "$$ |\\psi\\rangle =\\begin{bmatrix}\n",
       "-0.98318 \\\\\n",
       "0.18263\\end{bmatrix} $"
      ],
      "text/plain": [
       "<IPython.core.display.Math object>"
      ]
     },
     "metadata": {},
     "output_type": "display_data"
    },
    {
     "name": "stdout",
     "output_type": "stream",
     "text": [
      "Salida counts = {'0': 1}\n",
      "Given the former angle theta and quantum state, the new prediction is:\n",
      "Prediction = 0\n",
      "int(Prediction) = 0 \n",
      "\n",
      "Overall Probability = -0.9407158111803666\n"
     ]
    },
    {
     "data": {
      "text/latex": [
       "$\\displaystyle \n",
       "$$ |\\psi\\rangle =\\begin{bmatrix}\n",
       "-0.99567 \\\\\n",
       "0.09299\\end{bmatrix} $"
      ],
      "text/plain": [
       "<IPython.core.display.Math object>"
      ]
     },
     "metadata": {},
     "output_type": "display_data"
    },
    {
     "name": "stdout",
     "output_type": "stream",
     "text": [
      "Salida counts = {'0': 1}\n",
      "Given the former angle theta and quantum state, the new prediction is:\n",
      "Prediction = 0\n",
      "int(Prediction) = 0 \n",
      "\n",
      "Overall Probability = -0.47474286945725086\n"
     ]
    },
    {
     "data": {
      "text/latex": [
       "$\\displaystyle \n",
       "$$ |\\psi\\rangle =\\begin{bmatrix}\n",
       "-0.67850 \\\\\n",
       "0.73460\\end{bmatrix} $"
      ],
      "text/plain": [
       "<IPython.core.display.Math object>"
      ]
     },
     "metadata": {},
     "output_type": "display_data"
    },
    {
     "name": "stdout",
     "output_type": "stream",
     "text": [
      "Salida counts = {'0': 1}\n",
      "Given the former angle theta and quantum state, the new prediction is:\n",
      "Prediction = 0\n",
      "int(Prediction) = 0 \n",
      "\n",
      "Overall Probability = -1.051809852413298\n"
     ]
    },
    {
     "data": {
      "text/latex": [
       "$\\displaystyle \n",
       "$$ |\\psi\\rangle =\\begin{bmatrix}\n",
       "-0.99669 \\\\\n",
       "-0.08129\\end{bmatrix} $"
      ],
      "text/plain": [
       "<IPython.core.display.Math object>"
      ]
     },
     "metadata": {},
     "output_type": "display_data"
    },
    {
     "name": "stdout",
     "output_type": "stream",
     "text": [
      "Salida counts = {'0': 1}\n",
      "Given the former angle theta and quantum state, the new prediction is:\n",
      "Prediction = 0\n",
      "int(Prediction) = 0 \n",
      "\n",
      "Overall Probability = -1.0490591002143608\n"
     ]
    },
    {
     "data": {
      "text/latex": [
       "$\\displaystyle \n",
       "$$ |\\psi\\rangle =\\begin{bmatrix}\n",
       "-0.99703 \\\\\n",
       "-0.07699\\end{bmatrix} $"
      ],
      "text/plain": [
       "<IPython.core.display.Math object>"
      ]
     },
     "metadata": {},
     "output_type": "display_data"
    },
    {
     "name": "stdout",
     "output_type": "stream",
     "text": [
      "Salida counts = {'0': 1}\n",
      "Given the former angle theta and quantum state, the new prediction is:\n",
      "Prediction = 0\n",
      "int(Prediction) = 0 \n",
      "\n",
      "Overall Probability = -0.8330642860069163\n"
     ]
    },
    {
     "data": {
      "text/latex": [
       "$\\displaystyle \n",
       "$$ |\\psi\\rangle =\\begin{bmatrix}\n",
       "-0.96582 \\\\\n",
       "0.25923\\end{bmatrix} $"
      ],
      "text/plain": [
       "<IPython.core.display.Math object>"
      ]
     },
     "metadata": {},
     "output_type": "display_data"
    },
    {
     "name": "stdout",
     "output_type": "stream",
     "text": [
      "Salida counts = {'0': 1}\n",
      "Given the former angle theta and quantum state, the new prediction is:\n",
      "Prediction = 0\n",
      "int(Prediction) = 0 \n",
      "\n",
      "Overall Probability = -1.0563171207046447\n"
     ]
    },
    {
     "data": {
      "text/latex": [
       "$\\displaystyle \n",
       "$$ |\\psi\\rangle =\\begin{bmatrix}\n",
       "-0.99609 \\\\\n",
       "-0.08835\\end{bmatrix} $"
      ],
      "text/plain": [
       "<IPython.core.display.Math object>"
      ]
     },
     "metadata": {},
     "output_type": "display_data"
    },
    {
     "name": "stdout",
     "output_type": "stream",
     "text": [
      "Salida counts = {'0': 1}\n",
      "Given the former angle theta and quantum state, the new prediction is:\n",
      "Prediction = 0\n",
      "int(Prediction) = 0 \n",
      "\n",
      "Overall Probability = -1.0626978830159934\n"
     ]
    },
    {
     "data": {
      "text/latex": [
       "$\\displaystyle \n",
       "$$ |\\psi\\rangle =\\begin{bmatrix}\n",
       "-0.99515 \\\\\n",
       "-0.09833\\end{bmatrix} $"
      ],
      "text/plain": [
       "<IPython.core.display.Math object>"
      ]
     },
     "metadata": {},
     "output_type": "display_data"
    },
    {
     "name": "stdout",
     "output_type": "stream",
     "text": [
      "Salida counts = {'0': 1}\n",
      "Given the former angle theta and quantum state, the new prediction is:\n",
      "Prediction = 0\n",
      "int(Prediction) = 0 \n",
      "\n",
      "Overall Probability = -0.32740784101479947\n"
     ]
    },
    {
     "data": {
      "text/latex": [
       "$\\displaystyle \n",
       "$$ |\\psi\\rangle =\\begin{bmatrix}\n",
       "-0.49192 \\\\\n",
       "0.87064\\end{bmatrix} $"
      ],
      "text/plain": [
       "<IPython.core.display.Math object>"
      ]
     },
     "metadata": {},
     "output_type": "display_data"
    },
    {
     "name": "stdout",
     "output_type": "stream",
     "text": [
      "Salida counts = {'0': 1}\n",
      "Given the former angle theta and quantum state, the new prediction is:\n",
      "Prediction = 0\n",
      "int(Prediction) = 0 \n",
      "\n",
      "Overall Probability = -0.8681606527309117\n"
     ]
    },
    {
     "data": {
      "text/latex": [
       "$\\displaystyle \n",
       "$$ |\\psi\\rangle =\\begin{bmatrix}\n",
       "-0.97863 \\\\\n",
       "0.20562\\end{bmatrix} $"
      ],
      "text/plain": [
       "<IPython.core.display.Math object>"
      ]
     },
     "metadata": {},
     "output_type": "display_data"
    },
    {
     "name": "stdout",
     "output_type": "stream",
     "text": [
      "Salida counts = {'0': 1}\n",
      "Given the former angle theta and quantum state, the new prediction is:\n",
      "Prediction = 0\n",
      "int(Prediction) = 0 \n",
      "\n",
      "Overall Probability = -1.0485291796665561\n"
     ]
    },
    {
     "data": {
      "text/latex": [
       "$\\displaystyle \n",
       "$$ |\\psi\\rangle =\\begin{bmatrix}\n",
       "-0.99710 \\\\\n",
       "-0.07616\\end{bmatrix} $"
      ],
      "text/plain": [
       "<IPython.core.display.Math object>"
      ]
     },
     "metadata": {},
     "output_type": "display_data"
    },
    {
     "name": "stdout",
     "output_type": "stream",
     "text": [
      "Salida counts = {'0': 1}\n",
      "Given the former angle theta and quantum state, the new prediction is:\n",
      "Prediction = 0\n",
      "int(Prediction) = 0 \n",
      "\n",
      "Overall Probability = -0.4653831985831877\n"
     ]
    },
    {
     "data": {
      "text/latex": [
       "$\\displaystyle \n",
       "$$ |\\psi\\rangle =\\begin{bmatrix}\n",
       "-0.66763 \\\\\n",
       "0.74449\\end{bmatrix} $"
      ],
      "text/plain": [
       "<IPython.core.display.Math object>"
      ]
     },
     "metadata": {},
     "output_type": "display_data"
    },
    {
     "name": "stdout",
     "output_type": "stream",
     "text": [
      "Salida counts = {'0': 1}\n",
      "Given the former angle theta and quantum state, the new prediction is:\n",
      "Prediction = 0\n",
      "int(Prediction) = 0 \n",
      "\n",
      "Overall Probability = -0.34959466098687764\n"
     ]
    },
    {
     "data": {
      "text/latex": [
       "$\\displaystyle \n",
       "$$ |\\psi\\rangle =\\begin{bmatrix}\n",
       "-0.52196 \\\\\n",
       "0.85297\\end{bmatrix} $"
      ],
      "text/plain": [
       "<IPython.core.display.Math object>"
      ]
     },
     "metadata": {},
     "output_type": "display_data"
    },
    {
     "name": "stdout",
     "output_type": "stream",
     "text": [
      "Salida counts = {'1': 1}\n",
      "Given the former angle theta and quantum state, the new prediction is:\n",
      "Prediction = 1\n",
      "int(Prediction) = 1 \n",
      "\n",
      "Overall Probability = -0.5314704755835093\n"
     ]
    },
    {
     "data": {
      "text/latex": [
       "$\\displaystyle \n",
       "$$ |\\psi\\rangle =\\begin{bmatrix}\n",
       "-0.74118 \\\\\n",
       "0.67130\\end{bmatrix} $"
      ],
      "text/plain": [
       "<IPython.core.display.Math object>"
      ]
     },
     "metadata": {},
     "output_type": "display_data"
    },
    {
     "name": "stdout",
     "output_type": "stream",
     "text": [
      "Salida counts = {'0': 1}\n",
      "Given the former angle theta and quantum state, the new prediction is:\n",
      "Prediction = 0\n",
      "int(Prediction) = 0 \n",
      "\n",
      "Overall Probability = -1.0517163619394672\n"
     ]
    },
    {
     "data": {
      "text/latex": [
       "$\\displaystyle \n",
       "$$ |\\psi\\rangle =\\begin{bmatrix}\n",
       "-0.99670 \\\\\n",
       "-0.08115\\end{bmatrix} $"
      ],
      "text/plain": [
       "<IPython.core.display.Math object>"
      ]
     },
     "metadata": {},
     "output_type": "display_data"
    },
    {
     "name": "stdout",
     "output_type": "stream",
     "text": [
      "Salida counts = {'0': 1}\n",
      "Given the former angle theta and quantum state, the new prediction is:\n",
      "Prediction = 0\n",
      "int(Prediction) = 0 \n",
      "\n",
      "Overall Probability = -0.3579894473227191\n"
     ]
    },
    {
     "data": {
      "text/latex": [
       "$\\displaystyle \n",
       "$$ |\\psi\\rangle =\\begin{bmatrix}\n",
       "-0.53316 \\\\\n",
       "0.84602\\end{bmatrix} $"
      ],
      "text/plain": [
       "<IPython.core.display.Math object>"
      ]
     },
     "metadata": {},
     "output_type": "display_data"
    },
    {
     "name": "stdout",
     "output_type": "stream",
     "text": [
      "Salida counts = {'1': 1}\n",
      "Given the former angle theta and quantum state, the new prediction is:\n",
      "Prediction = 1\n",
      "int(Prediction) = 1 \n",
      "\n",
      "Overall Probability = -0.8760699906720245\n"
     ]
    },
    {
     "data": {
      "text/latex": [
       "$\\displaystyle \n",
       "$$ |\\psi\\rangle =\\begin{bmatrix}\n",
       "-0.98111 \\\\\n",
       "0.19344\\end{bmatrix} $"
      ],
      "text/plain": [
       "<IPython.core.display.Math object>"
      ]
     },
     "metadata": {},
     "output_type": "display_data"
    },
    {
     "name": "stdout",
     "output_type": "stream",
     "text": [
      "Salida counts = {'0': 1}\n",
      "Given the former angle theta and quantum state, the new prediction is:\n",
      "Prediction = 0\n",
      "int(Prediction) = 0 \n",
      "\n",
      "Overall Probability = -0.5325037370943855\n"
     ]
    },
    {
     "data": {
      "text/latex": [
       "$\\displaystyle \n",
       "$$ |\\psi\\rangle =\\begin{bmatrix}\n",
       "-0.74227 \\\\\n",
       "0.67010\\end{bmatrix} $"
      ],
      "text/plain": [
       "<IPython.core.display.Math object>"
      ]
     },
     "metadata": {},
     "output_type": "display_data"
    },
    {
     "name": "stdout",
     "output_type": "stream",
     "text": [
      "Salida counts = {'0': 1}\n",
      "Given the former angle theta and quantum state, the new prediction is:\n",
      "Prediction = 0\n",
      "int(Prediction) = 0 \n",
      "\n",
      "Overall Probability = -0.327248797422652\n"
     ]
    },
    {
     "data": {
      "text/latex": [
       "$\\displaystyle \n",
       "$$ |\\psi\\rangle =\\begin{bmatrix}\n",
       "-0.49170 \\\\\n",
       "0.87076\\end{bmatrix} $"
      ],
      "text/plain": [
       "<IPython.core.display.Math object>"
      ]
     },
     "metadata": {},
     "output_type": "display_data"
    },
    {
     "name": "stdout",
     "output_type": "stream",
     "text": [
      "Salida counts = {'1': 1}\n",
      "Given the former angle theta and quantum state, the new prediction is:\n",
      "Prediction = 1\n",
      "int(Prediction) = 1 \n",
      "\n",
      "Overall Probability = -0.9458686615756493\n"
     ]
    },
    {
     "data": {
      "text/latex": [
       "$\\displaystyle \n",
       "$$ |\\psi\\rangle =\\begin{bmatrix}\n",
       "-0.99639 \\\\\n",
       "0.08493\\end{bmatrix} $"
      ],
      "text/plain": [
       "<IPython.core.display.Math object>"
      ]
     },
     "metadata": {},
     "output_type": "display_data"
    },
    {
     "name": "stdout",
     "output_type": "stream",
     "text": [
      "Salida counts = {'0': 1}\n",
      "Given the former angle theta and quantum state, the new prediction is:\n",
      "Prediction = 0\n",
      "int(Prediction) = 0 \n",
      "\n",
      "Overall Probability = 0.03630256216327153\n"
     ]
    },
    {
     "data": {
      "text/latex": [
       "$\\displaystyle \n",
       "$$ |\\psi\\rangle =\\begin{bmatrix}\n",
       "0.05699 \\\\\n",
       "0.99837\\end{bmatrix} $"
      ],
      "text/plain": [
       "<IPython.core.display.Math object>"
      ]
     },
     "metadata": {},
     "output_type": "display_data"
    },
    {
     "name": "stdout",
     "output_type": "stream",
     "text": [
      "Salida counts = {'1': 1}\n",
      "Given the former angle theta and quantum state, the new prediction is:\n",
      "Prediction = 1\n",
      "int(Prediction) = 1 \n",
      "\n",
      "Overall Probability = 0.05675870486588282\n"
     ]
    },
    {
     "data": {
      "text/latex": [
       "$\\displaystyle \n",
       "$$ |\\psi\\rangle =\\begin{bmatrix}\n",
       "0.08904 \\\\\n",
       "0.99603\\end{bmatrix} $"
      ],
      "text/plain": [
       "<IPython.core.display.Math object>"
      ]
     },
     "metadata": {},
     "output_type": "display_data"
    },
    {
     "name": "stdout",
     "output_type": "stream",
     "text": [
      "Salida counts = {'1': 1}\n",
      "Given the former angle theta and quantum state, the new prediction is:\n",
      "Prediction = 1\n",
      "int(Prediction) = 1 \n",
      "\n",
      "Overall Probability = -0.6409658183825999\n"
     ]
    },
    {
     "data": {
      "text/latex": [
       "$\\displaystyle \n",
       "$$ |\\psi\\rangle =\\begin{bmatrix}\n",
       "-0.84514 \\\\\n",
       "0.53455\\end{bmatrix} $"
      ],
      "text/plain": [
       "<IPython.core.display.Math object>"
      ]
     },
     "metadata": {},
     "output_type": "display_data"
    },
    {
     "name": "stdout",
     "output_type": "stream",
     "text": [
      "Salida counts = {'0': 1}\n",
      "Given the former angle theta and quantum state, the new prediction is:\n",
      "Prediction = 0\n",
      "int(Prediction) = 0 \n",
      "\n",
      "Overall Probability = -1.0484559393991193\n"
     ]
    },
    {
     "data": {
      "text/latex": [
       "$\\displaystyle \n",
       "$$ |\\psi\\rangle =\\begin{bmatrix}\n",
       "-0.99710 \\\\\n",
       "-0.07604\\end{bmatrix} $"
      ],
      "text/plain": [
       "<IPython.core.display.Math object>"
      ]
     },
     "metadata": {},
     "output_type": "display_data"
    },
    {
     "name": "stdout",
     "output_type": "stream",
     "text": [
      "Salida counts = {'0': 1}\n",
      "Given the former angle theta and quantum state, the new prediction is:\n",
      "Prediction = 0\n",
      "int(Prediction) = 0 \n",
      "\n",
      "Overall Probability = -0.4576114511075943\n"
     ]
    },
    {
     "data": {
      "text/latex": [
       "$\\displaystyle \n",
       "$$ |\\psi\\rangle =\\begin{bmatrix}\n",
       "-0.65849 \\\\\n",
       "0.75259\\end{bmatrix} $"
      ],
      "text/plain": [
       "<IPython.core.display.Math object>"
      ]
     },
     "metadata": {},
     "output_type": "display_data"
    },
    {
     "name": "stdout",
     "output_type": "stream",
     "text": [
      "Salida counts = {'1': 1}\n",
      "Given the former angle theta and quantum state, the new prediction is:\n",
      "Prediction = 1\n",
      "int(Prediction) = 1 \n",
      "\n",
      "Overall Probability = -0.1545788567792436\n"
     ]
    },
    {
     "data": {
      "text/latex": [
       "$\\displaystyle \n",
       "$$ |\\psi\\rangle =\\begin{bmatrix}\n",
       "-0.24043 \\\\\n",
       "0.97067\\end{bmatrix} $"
      ],
      "text/plain": [
       "<IPython.core.display.Math object>"
      ]
     },
     "metadata": {},
     "output_type": "display_data"
    },
    {
     "name": "stdout",
     "output_type": "stream",
     "text": [
      "Salida counts = {'1': 1}\n",
      "Given the former angle theta and quantum state, the new prediction is:\n",
      "Prediction = 1\n",
      "int(Prediction) = 1 \n",
      "\n",
      "Overall Probability = -0.5228116823240861\n"
     ]
    },
    {
     "data": {
      "text/latex": [
       "$\\displaystyle \n",
       "$$ |\\psi\\rangle =\\begin{bmatrix}\n",
       "-0.73198 \\\\\n",
       "0.68132\\end{bmatrix} $"
      ],
      "text/plain": [
       "<IPython.core.display.Math object>"
      ]
     },
     "metadata": {},
     "output_type": "display_data"
    },
    {
     "name": "stdout",
     "output_type": "stream",
     "text": [
      "Salida counts = {'0': 1}\n",
      "Given the former angle theta and quantum state, the new prediction is:\n",
      "Prediction = 0\n",
      "int(Prediction) = 0 \n",
      "\n",
      "Overall Probability = -0.14467805916591148\n"
     ]
    },
    {
     "data": {
      "text/latex": [
       "$\\displaystyle \n",
       "$$ |\\psi\\rangle =\\begin{bmatrix}\n",
       "-0.22531 \\\\\n",
       "0.97429\\end{bmatrix} $"
      ],
      "text/plain": [
       "<IPython.core.display.Math object>"
      ]
     },
     "metadata": {},
     "output_type": "display_data"
    },
    {
     "name": "stdout",
     "output_type": "stream",
     "text": [
      "Salida counts = {'1': 1}\n",
      "Given the former angle theta and quantum state, the new prediction is:\n",
      "Prediction = 1\n",
      "int(Prediction) = 1 \n",
      "\n",
      "Overall Probability = -0.8776457676877805\n"
     ]
    },
    {
     "data": {
      "text/latex": [
       "$\\displaystyle \n",
       "$$ |\\psi\\rangle =\\begin{bmatrix}\n",
       "-0.98159 \\\\\n",
       "0.19101\\end{bmatrix} $"
      ],
      "text/plain": [
       "<IPython.core.display.Math object>"
      ]
     },
     "metadata": {},
     "output_type": "display_data"
    },
    {
     "name": "stdout",
     "output_type": "stream",
     "text": [
      "Salida counts = {'0': 1}\n",
      "Given the former angle theta and quantum state, the new prediction is:\n",
      "Prediction = 0\n",
      "int(Prediction) = 0 \n",
      "\n",
      "Overall Probability = -0.44133669654413654\n"
     ]
    },
    {
     "data": {
      "text/latex": [
       "$\\displaystyle \n",
       "$$ |\\psi\\rangle =\\begin{bmatrix}\n",
       "-0.63904 \\\\\n",
       "0.76917\\end{bmatrix} $"
      ],
      "text/plain": [
       "<IPython.core.display.Math object>"
      ]
     },
     "metadata": {},
     "output_type": "display_data"
    },
    {
     "name": "stdout",
     "output_type": "stream",
     "text": [
      "Salida counts = {'1': 1}\n",
      "Given the former angle theta and quantum state, the new prediction is:\n",
      "Prediction = 1\n",
      "int(Prediction) = 1 \n",
      "\n",
      "Overall Probability = -0.4430231929946107\n"
     ]
    },
    {
     "data": {
      "text/latex": [
       "$\\displaystyle \n",
       "$$ |\\psi\\rangle =\\begin{bmatrix}\n",
       "-0.64108 \\\\\n",
       "0.76748\\end{bmatrix} $"
      ],
      "text/plain": [
       "<IPython.core.display.Math object>"
      ]
     },
     "metadata": {},
     "output_type": "display_data"
    },
    {
     "name": "stdout",
     "output_type": "stream",
     "text": [
      "Salida counts = {'0': 1}\n",
      "Given the former angle theta and quantum state, the new prediction is:\n",
      "Prediction = 0\n",
      "int(Prediction) = 0 \n",
      "\n",
      "Overall Probability = -0.8778302181522034\n"
     ]
    },
    {
     "data": {
      "text/latex": [
       "$\\displaystyle \n",
       "$$ |\\psi\\rangle =\\begin{bmatrix}\n",
       "-0.98164 \\\\\n",
       "0.19073\\end{bmatrix} $"
      ],
      "text/plain": [
       "<IPython.core.display.Math object>"
      ]
     },
     "metadata": {},
     "output_type": "display_data"
    },
    {
     "name": "stdout",
     "output_type": "stream",
     "text": [
      "Salida counts = {'0': 1}\n",
      "Given the former angle theta and quantum state, the new prediction is:\n",
      "Prediction = 0\n",
      "int(Prediction) = 0 \n",
      "\n",
      "Overall Probability = -0.5865688791518319\n"
     ]
    },
    {
     "data": {
      "text/latex": [
       "$\\displaystyle \n",
       "$$ |\\psi\\rangle =\\begin{bmatrix}\n",
       "-0.79644 \\\\\n",
       "0.60472\\end{bmatrix} $"
      ],
      "text/plain": [
       "<IPython.core.display.Math object>"
      ]
     },
     "metadata": {},
     "output_type": "display_data"
    },
    {
     "name": "stdout",
     "output_type": "stream",
     "text": [
      "Salida counts = {'0': 1}\n",
      "Given the former angle theta and quantum state, the new prediction is:\n",
      "Prediction = 0\n",
      "int(Prediction) = 0 \n",
      "\n",
      "Overall Probability = -1.0441120962144845\n"
     ]
    },
    {
     "data": {
      "text/latex": [
       "$\\displaystyle \n",
       "$$ |\\psi\\rangle =\\begin{bmatrix}\n",
       "-0.99760 \\\\\n",
       "-0.06924\\end{bmatrix} $"
      ],
      "text/plain": [
       "<IPython.core.display.Math object>"
      ]
     },
     "metadata": {},
     "output_type": "display_data"
    },
    {
     "name": "stdout",
     "output_type": "stream",
     "text": [
      "Salida counts = {'0': 1}\n",
      "Given the former angle theta and quantum state, the new prediction is:\n",
      "Prediction = 0\n",
      "int(Prediction) = 0 \n",
      "\n",
      "Overall Probability = -1.053979046752338\n"
     ]
    },
    {
     "data": {
      "text/latex": [
       "$\\displaystyle \n",
       "$$ |\\psi\\rangle =\\begin{bmatrix}\n",
       "-0.99641 \\\\\n",
       "-0.08469\\end{bmatrix} $"
      ],
      "text/plain": [
       "<IPython.core.display.Math object>"
      ]
     },
     "metadata": {},
     "output_type": "display_data"
    },
    {
     "name": "stdout",
     "output_type": "stream",
     "text": [
      "Salida counts = {'0': 1}\n",
      "Given the former angle theta and quantum state, the new prediction is:\n",
      "Prediction = 0\n",
      "int(Prediction) = 0 \n",
      "\n",
      "Overall Probability = -0.8641511965753679\n"
     ]
    },
    {
     "data": {
      "text/latex": [
       "$\\displaystyle \n",
       "$$ |\\psi\\rangle =\\begin{bmatrix}\n",
       "-0.97732 \\\\\n",
       "0.21178\\end{bmatrix} $"
      ],
      "text/plain": [
       "<IPython.core.display.Math object>"
      ]
     },
     "metadata": {},
     "output_type": "display_data"
    },
    {
     "name": "stdout",
     "output_type": "stream",
     "text": [
      "Salida counts = {'0': 1}\n",
      "Given the former angle theta and quantum state, the new prediction is:\n",
      "Prediction = 0\n",
      "int(Prediction) = 0 \n",
      "\n",
      "Overall Probability = -1.0500317164148754\n"
     ]
    },
    {
     "data": {
      "text/latex": [
       "$\\displaystyle \n",
       "$$ |\\psi\\rangle =\\begin{bmatrix}\n",
       "-0.99691 \\\\\n",
       "-0.07851\\end{bmatrix} $"
      ],
      "text/plain": [
       "<IPython.core.display.Math object>"
      ]
     },
     "metadata": {},
     "output_type": "display_data"
    },
    {
     "name": "stdout",
     "output_type": "stream",
     "text": [
      "Salida counts = {'0': 1}\n",
      "Given the former angle theta and quantum state, the new prediction is:\n",
      "Prediction = 0\n",
      "int(Prediction) = 0 \n",
      "\n",
      "Overall Probability = -0.9551163988752748\n"
     ]
    },
    {
     "data": {
      "text/latex": [
       "$\\displaystyle \n",
       "$$ |\\psi\\rangle =\\begin{bmatrix}\n",
       "-0.99752 \\\\\n",
       "0.07044\\end{bmatrix} $"
      ],
      "text/plain": [
       "<IPython.core.display.Math object>"
      ]
     },
     "metadata": {},
     "output_type": "display_data"
    },
    {
     "name": "stdout",
     "output_type": "stream",
     "text": [
      "Salida counts = {'0': 1}\n",
      "Given the former angle theta and quantum state, the new prediction is:\n",
      "Prediction = 0\n",
      "int(Prediction) = 0 \n",
      "\n",
      "Overall Probability = 0.07148760469777762\n"
     ]
    },
    {
     "data": {
      "text/latex": [
       "$\\displaystyle \n",
       "$$ |\\psi\\rangle =\\begin{bmatrix}\n",
       "0.11206 \\\\\n",
       "0.99370\\end{bmatrix} $"
      ],
      "text/plain": [
       "<IPython.core.display.Math object>"
      ]
     },
     "metadata": {},
     "output_type": "display_data"
    },
    {
     "name": "stdout",
     "output_type": "stream",
     "text": [
      "Salida counts = {'0': 1}\n",
      "Given the former angle theta and quantum state, the new prediction is:\n",
      "Prediction = 0\n",
      "int(Prediction) = 0 \n",
      "\n",
      "Overall Probability = -0.14198951765564802\n"
     ]
    },
    {
     "data": {
      "text/latex": [
       "$\\displaystyle \n",
       "$$ |\\psi\\rangle =\\begin{bmatrix}\n",
       "-0.22119 \\\\\n",
       "0.97523\\end{bmatrix} $"
      ],
      "text/plain": [
       "<IPython.core.display.Math object>"
      ]
     },
     "metadata": {},
     "output_type": "display_data"
    },
    {
     "name": "stdout",
     "output_type": "stream",
     "text": [
      "Salida counts = {'1': 1}\n",
      "Given the former angle theta and quantum state, the new prediction is:\n",
      "Prediction = 1\n",
      "int(Prediction) = 1 \n",
      "\n",
      "Overall Probability = -0.6115538736966929\n"
     ]
    },
    {
     "data": {
      "text/latex": [
       "$\\displaystyle \n",
       "$$ |\\psi\\rangle =\\begin{bmatrix}\n",
       "-0.81955 \\\\\n",
       "0.57301\\end{bmatrix} $"
      ],
      "text/plain": [
       "<IPython.core.display.Math object>"
      ]
     },
     "metadata": {},
     "output_type": "display_data"
    },
    {
     "name": "stdout",
     "output_type": "stream",
     "text": [
      "Salida counts = {'0': 1}\n",
      "Given the former angle theta and quantum state, the new prediction is:\n",
      "Prediction = 0\n",
      "int(Prediction) = 0 \n",
      "\n",
      "Overall Probability = -1.0499382259410446\n"
     ]
    },
    {
     "data": {
      "text/latex": [
       "$\\displaystyle \n",
       "$$ |\\psi\\rangle =\\begin{bmatrix}\n",
       "-0.99692 \\\\\n",
       "-0.07836\\end{bmatrix} $"
      ],
      "text/plain": [
       "<IPython.core.display.Math object>"
      ]
     },
     "metadata": {},
     "output_type": "display_data"
    },
    {
     "name": "stdout",
     "output_type": "stream",
     "text": [
      "Salida counts = {'0': 1}\n",
      "Given the former angle theta and quantum state, the new prediction is:\n",
      "Prediction = 0\n",
      "int(Prediction) = 0 \n",
      "\n",
      "Overall Probability = -0.05127986577621946\n"
     ]
    },
    {
     "data": {
      "text/latex": [
       "$\\displaystyle \n",
       "$$ |\\psi\\rangle =\\begin{bmatrix}\n",
       "-0.08046 \\\\\n",
       "0.99676\\end{bmatrix} $"
      ],
      "text/plain": [
       "<IPython.core.display.Math object>"
      ]
     },
     "metadata": {},
     "output_type": "display_data"
    },
    {
     "name": "stdout",
     "output_type": "stream",
     "text": [
      "Salida counts = {'1': 1}\n",
      "Given the former angle theta and quantum state, the new prediction is:\n",
      "Prediction = 1\n",
      "int(Prediction) = 1 \n",
      "\n",
      "Overall Probability = -0.8754997228699544\n"
     ]
    },
    {
     "data": {
      "text/latex": [
       "$\\displaystyle \n",
       "$$ |\\psi\\rangle =\\begin{bmatrix}\n",
       "-0.98094 \\\\\n",
       "0.19432\\end{bmatrix} $"
      ],
      "text/plain": [
       "<IPython.core.display.Math object>"
      ]
     },
     "metadata": {},
     "output_type": "display_data"
    },
    {
     "name": "stdout",
     "output_type": "stream",
     "text": [
      "Salida counts = {'0': 1}\n",
      "Given the former angle theta and quantum state, the new prediction is:\n",
      "Prediction = 0\n",
      "int(Prediction) = 0 \n",
      "\n",
      "Overall Probability = -0.8744942136562686\n"
     ]
    },
    {
     "data": {
      "text/latex": [
       "$\\displaystyle \n",
       "$$ |\\psi\\rangle =\\begin{bmatrix}\n",
       "-0.98063 \\\\\n",
       "0.19587\\end{bmatrix} $"
      ],
      "text/plain": [
       "<IPython.core.display.Math object>"
      ]
     },
     "metadata": {},
     "output_type": "display_data"
    },
    {
     "name": "stdout",
     "output_type": "stream",
     "text": [
      "Salida counts = {'0': 1}\n",
      "Given the former angle theta and quantum state, the new prediction is:\n",
      "Prediction = 0\n",
      "int(Prediction) = 0 \n",
      "\n",
      "Overall Probability = 0.05418506417744219\n"
     ]
    },
    {
     "data": {
      "text/latex": [
       "$\\displaystyle \n",
       "$$ |\\psi\\rangle =\\begin{bmatrix}\n",
       "0.08501 \\\\\n",
       "0.99638\\end{bmatrix} $"
      ],
      "text/plain": [
       "<IPython.core.display.Math object>"
      ]
     },
     "metadata": {},
     "output_type": "display_data"
    },
    {
     "name": "stdout",
     "output_type": "stream",
     "text": [
      "Salida counts = {'1': 1}\n",
      "Given the former angle theta and quantum state, the new prediction is:\n",
      "Prediction = 1\n",
      "int(Prediction) = 1 \n",
      "\n",
      "Overall Probability = 0.07274499562449234\n"
     ]
    },
    {
     "data": {
      "text/latex": [
       "$\\displaystyle \n",
       "$$ |\\psi\\rangle =\\begin{bmatrix}\n",
       "0.11402 \\\\\n",
       "0.99348\\end{bmatrix} $"
      ],
      "text/plain": [
       "<IPython.core.display.Math object>"
      ]
     },
     "metadata": {},
     "output_type": "display_data"
    },
    {
     "name": "stdout",
     "output_type": "stream",
     "text": [
      "Salida counts = {'1': 1}\n",
      "Given the former angle theta and quantum state, the new prediction is:\n",
      "Prediction = 1\n",
      "int(Prediction) = 1 \n",
      "\n",
      "Overall Probability = -0.5096583221045146\n"
     ]
    },
    {
     "data": {
      "text/latex": [
       "$\\displaystyle \n",
       "$$ |\\psi\\rangle =\\begin{bmatrix}\n",
       "-0.71775 \\\\\n",
       "0.69630\\end{bmatrix} $"
      ],
      "text/plain": [
       "<IPython.core.display.Math object>"
      ]
     },
     "metadata": {},
     "output_type": "display_data"
    },
    {
     "name": "stdout",
     "output_type": "stream",
     "text": [
      "Salida counts = {'0': 1}\n",
      "Given the former angle theta and quantum state, the new prediction is:\n",
      "Prediction = 0\n",
      "int(Prediction) = 0 \n",
      "\n",
      "Overall Probability = -0.13663187580207778\n"
     ]
    },
    {
     "data": {
      "text/latex": [
       "$\\displaystyle \n",
       "$$ |\\psi\\rangle =\\begin{bmatrix}\n",
       "-0.21298 \\\\\n",
       "0.97706\\end{bmatrix} $"
      ],
      "text/plain": [
       "<IPython.core.display.Math object>"
      ]
     },
     "metadata": {},
     "output_type": "display_data"
    },
    {
     "name": "stdout",
     "output_type": "stream",
     "text": [
      "Salida counts = {'1': 1}\n",
      "Given the former angle theta and quantum state, the new prediction is:\n",
      "Prediction = 1\n",
      "int(Prediction) = 1 \n",
      "\n",
      "Overall Probability = -0.11050546039210132\n"
     ]
    },
    {
     "data": {
      "text/latex": [
       "$\\displaystyle \n",
       "$$ |\\psi\\rangle =\\begin{bmatrix}\n",
       "-0.17271 \\\\\n",
       "0.98497\\end{bmatrix} $"
      ],
      "text/plain": [
       "<IPython.core.display.Math object>"
      ]
     },
     "metadata": {},
     "output_type": "display_data"
    },
    {
     "name": "stdout",
     "output_type": "stream",
     "text": [
      "Salida counts = {'1': 1}\n",
      "Given the former angle theta and quantum state, the new prediction is:\n",
      "Prediction = 1\n",
      "int(Prediction) = 1 \n",
      "\n",
      "Overall Probability = -0.6260198259757773\n"
     ]
    },
    {
     "data": {
      "text/latex": [
       "$\\displaystyle \n",
       "$$ |\\psi\\rangle =\\begin{bmatrix}\n",
       "-0.83236 \\\\\n",
       "0.55424\\end{bmatrix} $"
      ],
      "text/plain": [
       "<IPython.core.display.Math object>"
      ]
     },
     "metadata": {},
     "output_type": "display_data"
    },
    {
     "name": "stdout",
     "output_type": "stream",
     "text": [
      "Salida counts = {'0': 1}\n",
      "Given the former angle theta and quantum state, the new prediction is:\n",
      "Prediction = 0\n",
      "int(Prediction) = 0 \n",
      "\n",
      "Overall Probability = -0.3170432577736416\n"
     ]
    },
    {
     "data": {
      "text/latex": [
       "$\\displaystyle \n",
       "$$ |\\psi\\rangle =\\begin{bmatrix}\n",
       "-0.47768 \\\\\n",
       "0.87853\\end{bmatrix} $"
      ],
      "text/plain": [
       "<IPython.core.display.Math object>"
      ]
     },
     "metadata": {},
     "output_type": "display_data"
    },
    {
     "name": "stdout",
     "output_type": "stream",
     "text": [
      "Salida counts = {'1': 1}\n",
      "Given the former angle theta and quantum state, the new prediction is:\n",
      "Prediction = 1\n",
      "int(Prediction) = 1 \n",
      "\n",
      "Overall Probability = -0.7144654332268141\n"
     ]
    },
    {
     "data": {
      "text/latex": [
       "$\\displaystyle \n",
       "$$ |\\psi\\rangle =\\begin{bmatrix}\n",
       "-0.90109 \\\\\n",
       "0.43363\\end{bmatrix} $"
      ],
      "text/plain": [
       "<IPython.core.display.Math object>"
      ]
     },
     "metadata": {},
     "output_type": "display_data"
    },
    {
     "name": "stdout",
     "output_type": "stream",
     "text": [
      "Salida counts = {'0': 1}\n",
      "Given the former angle theta and quantum state, the new prediction is:\n",
      "Prediction = 0\n",
      "int(Prediction) = 0 \n",
      "\n",
      "Overall Probability = -1.0540320814928406\n"
     ]
    },
    {
     "data": {
      "text/latex": [
       "$\\displaystyle \n",
       "$$ |\\psi\\rangle =\\begin{bmatrix}\n",
       "-0.99640 \\\\\n",
       "-0.08477\\end{bmatrix} $"
      ],
      "text/plain": [
       "<IPython.core.display.Math object>"
      ]
     },
     "metadata": {},
     "output_type": "display_data"
    },
    {
     "name": "stdout",
     "output_type": "stream",
     "text": [
      "Salida counts = {'0': 1}\n",
      "Given the former angle theta and quantum state, the new prediction is:\n",
      "Prediction = 0\n",
      "int(Prediction) = 0 \n",
      "\n",
      "Overall Probability = -0.34434726912065267\n"
     ]
    },
    {
     "data": {
      "text/latex": [
       "$\\displaystyle \n",
       "$$ |\\psi\\rangle =\\begin{bmatrix}\n",
       "-0.51491 \\\\\n",
       "0.85725\\end{bmatrix} $"
      ],
      "text/plain": [
       "<IPython.core.display.Math object>"
      ]
     },
     "metadata": {},
     "output_type": "display_data"
    },
    {
     "name": "stdout",
     "output_type": "stream",
     "text": [
      "Salida counts = {'1': 1}\n",
      "Given the former angle theta and quantum state, the new prediction is:\n",
      "Prediction = 1\n",
      "int(Prediction) = 1 \n",
      "\n",
      "Overall Probability = -0.5075203140550686\n"
     ]
    },
    {
     "data": {
      "text/latex": [
       "$\\displaystyle \n",
       "$$ |\\psi\\rangle =\\begin{bmatrix}\n",
       "-0.71541 \\\\\n",
       "0.69870\\end{bmatrix} $"
      ],
      "text/plain": [
       "<IPython.core.display.Math object>"
      ]
     },
     "metadata": {},
     "output_type": "display_data"
    },
    {
     "name": "stdout",
     "output_type": "stream",
     "text": [
      "Salida counts = {'0': 1}\n",
      "Given the former angle theta and quantum state, the new prediction is:\n",
      "Prediction = 0\n",
      "int(Prediction) = 0 \n",
      "\n",
      "Overall Probability = -0.4741403109481389\n"
     ]
    },
    {
     "data": {
      "text/latex": [
       "$\\displaystyle \n",
       "$$ |\\psi\\rangle =\\begin{bmatrix}\n",
       "-0.67781 \\\\\n",
       "0.73524\\end{bmatrix} $"
      ],
      "text/plain": [
       "<IPython.core.display.Math object>"
      ]
     },
     "metadata": {},
     "output_type": "display_data"
    },
    {
     "name": "stdout",
     "output_type": "stream",
     "text": [
      "Salida counts = {'0': 1}\n",
      "Given the former angle theta and quantum state, the new prediction is:\n",
      "Prediction = 0\n",
      "int(Prediction) = 0 \n",
      "\n",
      "Overall Probability = -0.35925006893532385\n"
     ]
    },
    {
     "data": {
      "text/latex": [
       "$\\displaystyle \n",
       "$$ |\\psi\\rangle =\\begin{bmatrix}\n",
       "-0.53483 \\\\\n",
       "0.84496\\end{bmatrix} $"
      ],
      "text/plain": [
       "<IPython.core.display.Math object>"
      ]
     },
     "metadata": {},
     "output_type": "display_data"
    },
    {
     "name": "stdout",
     "output_type": "stream",
     "text": [
      "Salida counts = {'1': 1}\n",
      "Given the former angle theta and quantum state, the new prediction is:\n",
      "Prediction = 1\n",
      "int(Prediction) = 1 \n",
      "\n",
      "Overall Probability = -1.0519226488337825\n"
     ]
    },
    {
     "data": {
      "text/latex": [
       "$\\displaystyle \n",
       "$$ |\\psi\\rangle =\\begin{bmatrix}\n",
       "-0.99668 \\\\\n",
       "-0.08147\\end{bmatrix} $"
      ],
      "text/plain": [
       "<IPython.core.display.Math object>"
      ]
     },
     "metadata": {},
     "output_type": "display_data"
    },
    {
     "name": "stdout",
     "output_type": "stream",
     "text": [
      "Salida counts = {'0': 1}\n",
      "Given the former angle theta and quantum state, the new prediction is:\n",
      "Prediction = 0\n",
      "int(Prediction) = 0 \n",
      "\n",
      "Overall Probability = -0.5164350579989067\n"
     ]
    },
    {
     "data": {
      "text/latex": [
       "$\\displaystyle \n",
       "$$ |\\psi\\rangle =\\begin{bmatrix}\n",
       "-0.72512 \\\\\n",
       "0.68862\\end{bmatrix} $"
      ],
      "text/plain": [
       "<IPython.core.display.Math object>"
      ]
     },
     "metadata": {},
     "output_type": "display_data"
    },
    {
     "name": "stdout",
     "output_type": "stream",
     "text": [
      "Salida counts = {'0': 1}\n",
      "Given the former angle theta and quantum state, the new prediction is:\n",
      "Prediction = 0\n",
      "int(Prediction) = 0 \n",
      "\n",
      "Overall Probability = -0.6803041261414263\n"
     ]
    },
    {
     "data": {
      "text/latex": [
       "$\\displaystyle \n",
       "$$ |\\psi\\rangle =\\begin{bmatrix}\n",
       "-0.87654 \\\\\n",
       "0.48133\\end{bmatrix} $"
      ],
      "text/plain": [
       "<IPython.core.display.Math object>"
      ]
     },
     "metadata": {},
     "output_type": "display_data"
    },
    {
     "name": "stdout",
     "output_type": "stream",
     "text": [
      "Salida counts = {'1': 1}\n",
      "Given the former angle theta and quantum state, the new prediction is:\n",
      "Prediction = 1\n",
      "int(Prediction) = 1 \n",
      "\n",
      "Overall Probability = -1.0517163619394672\n"
     ]
    },
    {
     "data": {
      "text/latex": [
       "$\\displaystyle \n",
       "$$ |\\psi\\rangle =\\begin{bmatrix}\n",
       "-0.99670 \\\\\n",
       "-0.08115\\end{bmatrix} $"
      ],
      "text/plain": [
       "<IPython.core.display.Math object>"
      ]
     },
     "metadata": {},
     "output_type": "display_data"
    },
    {
     "name": "stdout",
     "output_type": "stream",
     "text": [
      "Salida counts = {'0': 1}\n",
      "Given the former angle theta and quantum state, the new prediction is:\n",
      "Prediction = 0\n",
      "int(Prediction) = 0 \n",
      "\n",
      "Overall Probability = -0.5173614118354599\n"
     ]
    },
    {
     "data": {
      "text/latex": [
       "$\\displaystyle \n",
       "$$ |\\psi\\rangle =\\begin{bmatrix}\n",
       "-0.72613 \\\\\n",
       "0.68756\\end{bmatrix} $"
      ],
      "text/plain": [
       "<IPython.core.display.Math object>"
      ]
     },
     "metadata": {},
     "output_type": "display_data"
    },
    {
     "name": "stdout",
     "output_type": "stream",
     "text": [
      "Salida counts = {'1': 1}\n",
      "Given the former angle theta and quantum state, the new prediction is:\n",
      "Prediction = 1\n",
      "int(Prediction) = 1 \n",
      "\n",
      "Overall Probability = -1.0149380511187671\n"
     ]
    },
    {
     "data": {
      "text/latex": [
       "$\\displaystyle \n",
       "$$ |\\psi\\rangle =\\begin{bmatrix}\n",
       "-0.99972 \\\\\n",
       "-0.02346\\end{bmatrix} $"
      ],
      "text/plain": [
       "<IPython.core.display.Math object>"
      ]
     },
     "metadata": {},
     "output_type": "display_data"
    },
    {
     "name": "stdout",
     "output_type": "stream",
     "text": [
      "Salida counts = {'0': 1}\n",
      "Given the former angle theta and quantum state, the new prediction is:\n",
      "Prediction = 0\n",
      "int(Prediction) = 0 \n",
      "\n",
      "Overall Probability = -1.0590511689975968\n"
     ]
    },
    {
     "data": {
      "text/latex": [
       "$\\displaystyle \n",
       "$$ |\\psi\\rangle =\\begin{bmatrix}\n",
       "-0.99570 \\\\\n",
       "-0.09262\\end{bmatrix} $"
      ],
      "text/plain": [
       "<IPython.core.display.Math object>"
      ]
     },
     "metadata": {},
     "output_type": "display_data"
    },
    {
     "name": "stdout",
     "output_type": "stream",
     "text": [
      "Salida counts = {'0': 1}\n",
      "Given the former angle theta and quantum state, the new prediction is:\n",
      "Prediction = 0\n",
      "int(Prediction) = 0 \n",
      "\n",
      "Overall Probability = -1.032546444274652\n"
     ]
    },
    {
     "data": {
      "text/latex": [
       "$\\displaystyle \n",
       "$$ |\\psi\\rangle =\\begin{bmatrix}\n",
       "-0.99869 \\\\\n",
       "-0.05110\\end{bmatrix} $"
      ],
      "text/plain": [
       "<IPython.core.display.Math object>"
      ]
     },
     "metadata": {},
     "output_type": "display_data"
    },
    {
     "name": "stdout",
     "output_type": "stream",
     "text": [
      "Salida counts = {'0': 1}\n",
      "Given the former angle theta and quantum state, the new prediction is:\n",
      "Prediction = 0\n",
      "int(Prediction) = 0 \n",
      "\n",
      "Overall Probability = -0.5306905674028659\n"
     ]
    },
    {
     "data": {
      "text/latex": [
       "$\\displaystyle \n",
       "$$ |\\psi\\rangle =\\begin{bmatrix}\n",
       "-0.74036 \\\\\n",
       "0.67221\\end{bmatrix} $"
      ],
      "text/plain": [
       "<IPython.core.display.Math object>"
      ]
     },
     "metadata": {},
     "output_type": "display_data"
    },
    {
     "name": "stdout",
     "output_type": "stream",
     "text": [
      "Salida counts = {'1': 1}\n",
      "Given the former angle theta and quantum state, the new prediction is:\n",
      "Prediction = 1\n",
      "int(Prediction) = 1 \n",
      "\n",
      "Overall Probability = -0.5382826357319136\n"
     ]
    },
    {
     "data": {
      "text/latex": [
       "$\\displaystyle \n",
       "$$ |\\psi\\rangle =\\begin{bmatrix}\n",
       "-0.74832 \\\\\n",
       "0.66333\\end{bmatrix} $"
      ],
      "text/plain": [
       "<IPython.core.display.Math object>"
      ]
     },
     "metadata": {},
     "output_type": "display_data"
    },
    {
     "name": "stdout",
     "output_type": "stream",
     "text": [
      "Salida counts = {'0': 1}\n",
      "Given the former angle theta and quantum state, the new prediction is:\n",
      "Prediction = 0\n",
      "int(Prediction) = 0 \n",
      "\n",
      "Overall Probability = -0.7017882942472294\n"
     ]
    },
    {
     "data": {
      "text/latex": [
       "$\\displaystyle \n",
       "$$ |\\psi\\rangle =\\begin{bmatrix}\n",
       "-0.89228 \\\\\n",
       "0.45149\\end{bmatrix} $"
      ],
      "text/plain": [
       "<IPython.core.display.Math object>"
      ]
     },
     "metadata": {},
     "output_type": "display_data"
    },
    {
     "name": "stdout",
     "output_type": "stream",
     "text": [
      "Salida counts = {'0': 1}\n",
      "Given the former angle theta and quantum state, the new prediction is:\n",
      "Prediction = 0\n",
      "int(Prediction) = 0 \n",
      "\n",
      "Overall Probability = -0.5196887902782416\n"
     ]
    },
    {
     "data": {
      "text/latex": [
       "$\\displaystyle \n",
       "$$ |\\psi\\rangle =\\begin{bmatrix}\n",
       "-0.72863 \\\\\n",
       "0.68490\\end{bmatrix} $"
      ],
      "text/plain": [
       "<IPython.core.display.Math object>"
      ]
     },
     "metadata": {},
     "output_type": "display_data"
    },
    {
     "name": "stdout",
     "output_type": "stream",
     "text": [
      "Salida counts = {'1': 1}\n",
      "Given the former angle theta and quantum state, the new prediction is:\n",
      "Prediction = 1\n",
      "int(Prediction) = 1 \n",
      "\n",
      "Overall Probability = -0.13152023006344452\n"
     ]
    },
    {
     "data": {
      "text/latex": [
       "$\\displaystyle \n",
       "$$ |\\psi\\rangle =\\begin{bmatrix}\n",
       "-0.20513 \\\\\n",
       "0.97874\\end{bmatrix} $"
      ],
      "text/plain": [
       "<IPython.core.display.Math object>"
      ]
     },
     "metadata": {},
     "output_type": "display_data"
    },
    {
     "name": "stdout",
     "output_type": "stream",
     "text": [
      "Salida counts = {'1': 1}\n",
      "Given the former angle theta and quantum state, the new prediction is:\n",
      "Prediction = 1\n",
      "int(Prediction) = 1 \n",
      "\n",
      "Overall Probability = -0.43792718640641537\n"
     ]
    },
    {
     "data": {
      "text/latex": [
       "$\\displaystyle \n",
       "$$ |\\psi\\rangle =\\begin{bmatrix}\n",
       "-0.63491 \\\\\n",
       "0.77258\\end{bmatrix} $"
      ],
      "text/plain": [
       "<IPython.core.display.Math object>"
      ]
     },
     "metadata": {},
     "output_type": "display_data"
    },
    {
     "name": "stdout",
     "output_type": "stream",
     "text": [
      "Salida counts = {'1': 1}\n",
      "Given the former angle theta and quantum state, the new prediction is:\n",
      "Prediction = 1\n",
      "int(Prediction) = 1 \n",
      "\n",
      "Overall Probability = -0.8792815877077687\n"
     ]
    },
    {
     "data": {
      "text/latex": [
       "$\\displaystyle \n",
       "$$ |\\psi\\rangle =\\begin{bmatrix}\n",
       "-0.98208 \\\\\n",
       "0.18849\\end{bmatrix} $"
      ],
      "text/plain": [
       "<IPython.core.display.Math object>"
      ]
     },
     "metadata": {},
     "output_type": "display_data"
    },
    {
     "name": "stdout",
     "output_type": "stream",
     "text": [
      "Salida counts = {'0': 1}\n",
      "Given the former angle theta and quantum state, the new prediction is:\n",
      "Prediction = 0\n",
      "int(Prediction) = 0 \n",
      "\n",
      "Overall Probability = -1.059865621140307\n"
     ]
    },
    {
     "data": {
      "text/latex": [
       "$\\displaystyle \n",
       "$$ |\\psi\\rangle =\\begin{bmatrix}\n",
       "-0.99558 \\\\\n",
       "-0.09390\\end{bmatrix} $"
      ],
      "text/plain": [
       "<IPython.core.display.Math object>"
      ]
     },
     "metadata": {},
     "output_type": "display_data"
    },
    {
     "name": "stdout",
     "output_type": "stream",
     "text": [
      "Salida counts = {'0': 1}\n",
      "Given the former angle theta and quantum state, the new prediction is:\n",
      "Prediction = 0\n",
      "int(Prediction) = 0 \n",
      "\n",
      "Overall Probability = -0.8763040038730865\n"
     ]
    },
    {
     "data": {
      "text/latex": [
       "$\\displaystyle \n",
       "$$ |\\psi\\rangle =\\begin{bmatrix}\n",
       "-0.98118 \\\\\n",
       "0.19308\\end{bmatrix} $"
      ],
      "text/plain": [
       "<IPython.core.display.Math object>"
      ]
     },
     "metadata": {},
     "output_type": "display_data"
    },
    {
     "name": "stdout",
     "output_type": "stream",
     "text": [
      "Salida counts = {'0': 1}\n",
      "Given the former angle theta and quantum state, the new prediction is:\n",
      "Prediction = 0\n",
      "int(Prediction) = 0 \n",
      "\n",
      "Overall Probability = -0.6930362918382257\n"
     ]
    },
    {
     "data": {
      "text/latex": [
       "$\\displaystyle \n",
       "$$ |\\psi\\rangle =\\begin{bmatrix}\n",
       "-0.88599 \\\\\n",
       "0.46371\\end{bmatrix} $"
      ],
      "text/plain": [
       "<IPython.core.display.Math object>"
      ]
     },
     "metadata": {},
     "output_type": "display_data"
    },
    {
     "name": "stdout",
     "output_type": "stream",
     "text": [
      "Salida counts = {'0': 1}\n",
      "Given the former angle theta and quantum state, the new prediction is:\n",
      "Prediction = 0\n",
      "int(Prediction) = 0 \n",
      "\n",
      "Overall Probability = -0.8700588546918614\n"
     ]
    },
    {
     "data": {
      "text/latex": [
       "$\\displaystyle \n",
       "$$ |\\psi\\rangle =\\begin{bmatrix}\n",
       "-0.97924 \\\\\n",
       "0.20270\\end{bmatrix} $"
      ],
      "text/plain": [
       "<IPython.core.display.Math object>"
      ]
     },
     "metadata": {},
     "output_type": "display_data"
    },
    {
     "name": "stdout",
     "output_type": "stream",
     "text": [
      "Salida counts = {'0': 1}\n",
      "Given the former angle theta and quantum state, the new prediction is:\n",
      "Prediction = 0\n",
      "int(Prediction) = 0 \n",
      "\n",
      "Overall Probability = -0.39879332050553407\n"
     ]
    },
    {
     "data": {
      "text/latex": [
       "$\\displaystyle \n",
       "$$ |\\psi\\rangle =\\begin{bmatrix}\n",
       "-0.58625 \\\\\n",
       "0.81013\\end{bmatrix} $"
      ],
      "text/plain": [
       "<IPython.core.display.Math object>"
      ]
     },
     "metadata": {},
     "output_type": "display_data"
    },
    {
     "name": "stdout",
     "output_type": "stream",
     "text": [
      "Salida counts = {'1': 1}\n",
      "Given the former angle theta and quantum state, the new prediction is:\n",
      "Prediction = 1\n",
      "int(Prediction) = 1 \n",
      "\n",
      "Overall Probability = -0.47994782908899236\n"
     ]
    },
    {
     "data": {
      "text/latex": [
       "$\\displaystyle \n",
       "$$ |\\psi\\rangle =\\begin{bmatrix}\n",
       "-0.68449 \\\\\n",
       "0.72902\\end{bmatrix} $"
      ],
      "text/plain": [
       "<IPython.core.display.Math object>"
      ]
     },
     "metadata": {},
     "output_type": "display_data"
    },
    {
     "name": "stdout",
     "output_type": "stream",
     "text": [
      "Salida counts = {'0': 1}\n",
      "Given the former angle theta and quantum state, the new prediction is:\n",
      "Prediction = 0\n",
      "int(Prediction) = 0 \n",
      "\n",
      "Overall Probability = -1.0497929500184298\n"
     ]
    },
    {
     "data": {
      "text/latex": [
       "$\\displaystyle \n",
       "$$ |\\psi\\rangle =\\begin{bmatrix}\n",
       "-0.99694 \\\\\n",
       "-0.07813\\end{bmatrix} $"
      ],
      "text/plain": [
       "<IPython.core.display.Math object>"
      ]
     },
     "metadata": {},
     "output_type": "display_data"
    },
    {
     "name": "stdout",
     "output_type": "stream",
     "text": [
      "Salida counts = {'0': 1}\n",
      "Given the former angle theta and quantum state, the new prediction is:\n",
      "Prediction = 0\n",
      "int(Prediction) = 0 \n",
      "\n",
      "Overall Probability = -0.30805532448340944\n"
     ]
    },
    {
     "data": {
      "text/latex": [
       "$\\displaystyle \n",
       "$$ |\\psi\\rangle =\\begin{bmatrix}\n",
       "-0.46523 \\\\\n",
       "0.88519\\end{bmatrix} $"
      ],
      "text/plain": [
       "<IPython.core.display.Math object>"
      ]
     },
     "metadata": {},
     "output_type": "display_data"
    },
    {
     "name": "stdout",
     "output_type": "stream",
     "text": [
      "Salida counts = {'1': 1}\n",
      "Given the former angle theta and quantum state, the new prediction is:\n",
      "Prediction = 1\n",
      "int(Prediction) = 1 \n",
      "\n",
      "Overall Probability = -1.0341132179786257\n"
     ]
    },
    {
     "data": {
      "text/latex": [
       "$\\displaystyle \n",
       "$$ |\\psi\\rangle =\\begin{bmatrix}\n",
       "-0.99856 \\\\\n",
       "-0.05356\\end{bmatrix} $"
      ],
      "text/plain": [
       "<IPython.core.display.Math object>"
      ]
     },
     "metadata": {},
     "output_type": "display_data"
    },
    {
     "name": "stdout",
     "output_type": "stream",
     "text": [
      "Salida counts = {'0': 1}\n",
      "Given the former angle theta and quantum state, the new prediction is:\n",
      "Prediction = 0\n",
      "int(Prediction) = 0 \n",
      "\n",
      "Overall Probability = -0.4694126879562516\n"
     ]
    },
    {
     "data": {
      "text/latex": [
       "$\\displaystyle \n",
       "$$ |\\psi\\rangle =\\begin{bmatrix}\n",
       "-0.67233 \\\\\n",
       "0.74025\\end{bmatrix} $"
      ],
      "text/plain": [
       "<IPython.core.display.Math object>"
      ]
     },
     "metadata": {},
     "output_type": "display_data"
    },
    {
     "name": "stdout",
     "output_type": "stream",
     "text": [
      "Salida counts = {'1': 1}\n",
      "Given the former angle theta and quantum state, the new prediction is:\n",
      "Prediction = 1\n",
      "int(Prediction) = 1 \n",
      "\n",
      "Overall Probability = -0.9598151743109983\n"
     ]
    },
    {
     "data": {
      "text/latex": [
       "$\\displaystyle \n",
       "$$ |\\psi\\rangle =\\begin{bmatrix}\n",
       "-0.99801 \\\\\n",
       "0.06308\\end{bmatrix} $"
      ],
      "text/plain": [
       "<IPython.core.display.Math object>"
      ]
     },
     "metadata": {},
     "output_type": "display_data"
    },
    {
     "name": "stdout",
     "output_type": "stream",
     "text": [
      "Salida counts = {'0': 1}\n",
      "Given the former angle theta and quantum state, the new prediction is:\n",
      "Prediction = 0\n",
      "int(Prediction) = 0 \n",
      "\n",
      "Overall Probability = -0.8779609230909317\n"
     ]
    },
    {
     "data": {
      "text/latex": [
       "$\\displaystyle \n",
       "$$ |\\psi\\rangle =\\begin{bmatrix}\n",
       "-0.98168 \\\\\n",
       "0.19053\\end{bmatrix} $"
      ],
      "text/plain": [
       "<IPython.core.display.Math object>"
      ]
     },
     "metadata": {},
     "output_type": "display_data"
    },
    {
     "name": "stdout",
     "output_type": "stream",
     "text": [
      "Salida counts = {'1': 1}\n",
      "Given the former angle theta and quantum state, the new prediction is:\n",
      "Prediction = 1\n",
      "int(Prediction) = 1 \n",
      "\n",
      "Overall Probability = -1.0491594904728585\n"
     ]
    },
    {
     "data": {
      "text/latex": [
       "$\\displaystyle \n",
       "$$ |\\psi\\rangle =\\begin{bmatrix}\n",
       "-0.99702 \\\\\n",
       "-0.07714\\end{bmatrix} $"
      ],
      "text/plain": [
       "<IPython.core.display.Math object>"
      ]
     },
     "metadata": {},
     "output_type": "display_data"
    },
    {
     "name": "stdout",
     "output_type": "stream",
     "text": [
      "Salida counts = {'0': 1}\n",
      "Given the former angle theta and quantum state, the new prediction is:\n",
      "Prediction = 0\n",
      "int(Prediction) = 0 \n",
      "\n",
      "Overall Probability = -0.41947131877194854\n"
     ]
    },
    {
     "data": {
      "text/latex": [
       "$\\displaystyle \n",
       "$$ |\\psi\\rangle =\\begin{bmatrix}\n",
       "-0.61225 \\\\\n",
       "0.79066\\end{bmatrix} $"
      ],
      "text/plain": [
       "<IPython.core.display.Math object>"
      ]
     },
     "metadata": {},
     "output_type": "display_data"
    },
    {
     "name": "stdout",
     "output_type": "stream",
     "text": [
      "Salida counts = {'0': 1}\n",
      "Given the former angle theta and quantum state, the new prediction is:\n",
      "Prediction = 0\n",
      "int(Prediction) = 0 \n",
      "\n",
      "Overall Probability = -1.061453699935024\n"
     ]
    },
    {
     "data": {
      "text/latex": [
       "$\\displaystyle \n",
       "$$ |\\psi\\rangle =\\begin{bmatrix}\n",
       "-0.99534 \\\\\n",
       "-0.09638\\end{bmatrix} $"
      ],
      "text/plain": [
       "<IPython.core.display.Math object>"
      ]
     },
     "metadata": {},
     "output_type": "display_data"
    },
    {
     "name": "stdout",
     "output_type": "stream",
     "text": [
      "Salida counts = {'0': 1}\n",
      "Given the former angle theta and quantum state, the new prediction is:\n",
      "Prediction = 0\n",
      "int(Prediction) = 0 \n",
      "\n",
      "Overall Probability = -1.0576718350972096\n"
     ]
    },
    {
     "data": {
      "text/latex": [
       "$\\displaystyle \n",
       "$$ |\\psi\\rangle =\\begin{bmatrix}\n",
       "-0.99590 \\\\\n",
       "-0.09047\\end{bmatrix} $"
      ],
      "text/plain": [
       "<IPython.core.display.Math object>"
      ]
     },
     "metadata": {},
     "output_type": "display_data"
    },
    {
     "name": "stdout",
     "output_type": "stream",
     "text": [
      "Salida counts = {'0': 1}\n",
      "Given the former angle theta and quantum state, the new prediction is:\n",
      "Prediction = 0\n",
      "int(Prediction) = 0 \n",
      "\n",
      "Overall Probability = 0.034584782393132854\n"
     ]
    },
    {
     "data": {
      "text/latex": [
       "$\\displaystyle \n",
       "$$ |\\psi\\rangle =\\begin{bmatrix}\n",
       "0.05430 \\\\\n",
       "0.99852\\end{bmatrix} $"
      ],
      "text/plain": [
       "<IPython.core.display.Math object>"
      ]
     },
     "metadata": {},
     "output_type": "display_data"
    },
    {
     "name": "stdout",
     "output_type": "stream",
     "text": [
      "Salida counts = {'1': 1}\n",
      "Given the former angle theta and quantum state, the new prediction is:\n",
      "Prediction = 1\n",
      "int(Prediction) = 1 \n",
      "\n",
      "Overall Probability = -0.14998685108860604\n"
     ]
    },
    {
     "data": {
      "text/latex": [
       "$\\displaystyle \n",
       "$$ |\\psi\\rangle =\\begin{bmatrix}\n",
       "-0.23343 \\\\\n",
       "0.97237\\end{bmatrix} $"
      ],
      "text/plain": [
       "<IPython.core.display.Math object>"
      ]
     },
     "metadata": {},
     "output_type": "display_data"
    },
    {
     "name": "stdout",
     "output_type": "stream",
     "text": [
      "Salida counts = {'1': 1}\n",
      "Given the former angle theta and quantum state, the new prediction is:\n",
      "Prediction = 1\n",
      "int(Prediction) = 1 \n",
      "\n",
      "Overall Probability = -1.047798478601756\n"
     ]
    },
    {
     "data": {
      "text/latex": [
       "$\\displaystyle \n",
       "$$ |\\psi\\rangle =\\begin{bmatrix}\n",
       "-0.99718 \\\\\n",
       "-0.07501\\end{bmatrix} $"
      ],
      "text/plain": [
       "<IPython.core.display.Math object>"
      ]
     },
     "metadata": {},
     "output_type": "display_data"
    },
    {
     "name": "stdout",
     "output_type": "stream",
     "text": [
      "Salida counts = {'0': 1}\n",
      "Given the former angle theta and quantum state, the new prediction is:\n",
      "Prediction = 0\n",
      "int(Prediction) = 0 \n",
      "\n",
      "Overall Probability = -1.0486214048987677\n"
     ]
    },
    {
     "data": {
      "text/latex": [
       "$\\displaystyle \n",
       "$$ |\\psi\\rangle =\\begin{bmatrix}\n",
       "-0.99708 \\\\\n",
       "-0.07630\\end{bmatrix} $"
      ],
      "text/plain": [
       "<IPython.core.display.Math object>"
      ]
     },
     "metadata": {},
     "output_type": "display_data"
    },
    {
     "name": "stdout",
     "output_type": "stream",
     "text": [
      "Salida counts = {'0': 1}\n",
      "Given the former angle theta and quantum state, the new prediction is:\n",
      "Prediction = 0\n",
      "int(Prediction) = 0 \n",
      "\n",
      "Overall Probability = -0.34122493363617495\n"
     ]
    },
    {
     "data": {
      "text/latex": [
       "$\\displaystyle \n",
       "$$ |\\psi\\rangle =\\begin{bmatrix}\n",
       "-0.51070 \\\\\n",
       "0.85976\\end{bmatrix} $"
      ],
      "text/plain": [
       "<IPython.core.display.Math object>"
      ]
     },
     "metadata": {},
     "output_type": "display_data"
    },
    {
     "name": "stdout",
     "output_type": "stream",
     "text": [
      "Salida counts = {'0': 1}\n",
      "Given the former angle theta and quantum state, the new prediction is:\n",
      "Prediction = 0\n",
      "int(Prediction) = 0 \n",
      "\n",
      "Overall Probability = -0.35988037974162623\n"
     ]
    },
    {
     "data": {
      "text/latex": [
       "$\\displaystyle \n",
       "$$ |\\psi\\rangle =\\begin{bmatrix}\n",
       "-0.53567 \\\\\n",
       "0.84443\\end{bmatrix} $"
      ],
      "text/plain": [
       "<IPython.core.display.Math object>"
      ]
     },
     "metadata": {},
     "output_type": "display_data"
    },
    {
     "name": "stdout",
     "output_type": "stream",
     "text": [
      "Salida counts = {'1': 1}\n",
      "Given the former angle theta and quantum state, the new prediction is:\n",
      "Prediction = 1\n",
      "int(Prediction) = 1 \n",
      "\n",
      "Overall Probability = -1.050950032633268\n"
     ]
    },
    {
     "data": {
      "text/latex": [
       "$\\displaystyle \n",
       "$$ |\\psi\\rangle =\\begin{bmatrix}\n",
       "-0.99680 \\\\\n",
       "-0.07995\\end{bmatrix} $"
      ],
      "text/plain": [
       "<IPython.core.display.Math object>"
      ]
     },
     "metadata": {},
     "output_type": "display_data"
    },
    {
     "name": "stdout",
     "output_type": "stream",
     "text": [
      "Salida counts = {'0': 1}\n",
      "Given the former angle theta and quantum state, the new prediction is:\n",
      "Prediction = 0\n",
      "int(Prediction) = 0 \n",
      "\n",
      "Overall Probability = -0.8665874221482952\n"
     ]
    },
    {
     "data": {
      "text/latex": [
       "$\\displaystyle \n",
       "$$ |\\psi\\rangle =\\begin{bmatrix}\n",
       "-0.97812 \\\\\n",
       "0.20803\\end{bmatrix} $"
      ],
      "text/plain": [
       "<IPython.core.display.Math object>"
      ]
     },
     "metadata": {},
     "output_type": "display_data"
    },
    {
     "name": "stdout",
     "output_type": "stream",
     "text": [
      "Salida counts = {'0': 1}\n",
      "Given the former angle theta and quantum state, the new prediction is:\n",
      "Prediction = 0\n",
      "int(Prediction) = 0 \n",
      "\n",
      "Overall Probability = -0.8680504027435666\n"
     ]
    },
    {
     "data": {
      "text/latex": [
       "$\\displaystyle \n",
       "$$ |\\psi\\rangle =\\begin{bmatrix}\n",
       "-0.97860 \\\\\n",
       "0.20579\\end{bmatrix} $"
      ],
      "text/plain": [
       "<IPython.core.display.Math object>"
      ]
     },
     "metadata": {},
     "output_type": "display_data"
    },
    {
     "name": "stdout",
     "output_type": "stream",
     "text": [
      "Salida counts = {'0': 1}\n",
      "Given the former angle theta and quantum state, the new prediction is:\n",
      "Prediction = 0\n",
      "int(Prediction) = 0 \n",
      "\n",
      "Overall Probability = -0.9392082421951292\n"
     ]
    },
    {
     "data": {
      "text/latex": [
       "$\\displaystyle \n",
       "$$ |\\psi\\rangle =\\begin{bmatrix}\n",
       "-0.99544 \\\\\n",
       "0.09535\\end{bmatrix} $"
      ],
      "text/plain": [
       "<IPython.core.display.Math object>"
      ]
     },
     "metadata": {},
     "output_type": "display_data"
    },
    {
     "name": "stdout",
     "output_type": "stream",
     "text": [
      "Salida counts = {'0': 1}\n",
      "Given the former angle theta and quantum state, the new prediction is:\n",
      "Prediction = 0\n",
      "int(Prediction) = 0 \n",
      "\n",
      "Overall Probability = -0.31419938895428584\n"
     ]
    },
    {
     "data": {
      "text/latex": [
       "$\\displaystyle \n",
       "$$ |\\psi\\rangle =\\begin{bmatrix}\n",
       "-0.47375 \\\\\n",
       "0.88066\\end{bmatrix} $"
      ],
      "text/plain": [
       "<IPython.core.display.Math object>"
      ]
     },
     "metadata": {},
     "output_type": "display_data"
    },
    {
     "name": "stdout",
     "output_type": "stream",
     "text": [
      "Salida counts = {'1': 1}\n",
      "Given the former angle theta and quantum state, the new prediction is:\n",
      "Prediction = 1\n",
      "int(Prediction) = 1 \n",
      "\n",
      "Overall Probability = -0.3268615904144222\n"
     ]
    },
    {
     "data": {
      "text/latex": [
       "$\\displaystyle \n",
       "$$ |\\psi\\rangle =\\begin{bmatrix}\n",
       "-0.49117 \\\\\n",
       "0.87106\\end{bmatrix} $"
      ],
      "text/plain": [
       "<IPython.core.display.Math object>"
      ]
     },
     "metadata": {},
     "output_type": "display_data"
    },
    {
     "name": "stdout",
     "output_type": "stream",
     "text": [
      "Salida counts = {'1': 1}\n",
      "Given the former angle theta and quantum state, the new prediction is:\n",
      "Prediction = 1\n",
      "int(Prediction) = 1 \n",
      "\n",
      "Overall Probability = -0.8676437009935944\n"
     ]
    },
    {
     "data": {
      "text/latex": [
       "$\\displaystyle \n",
       "$$ |\\psi\\rangle =\\begin{bmatrix}\n",
       "-0.97847 \\\\\n",
       "0.20641\\end{bmatrix} $"
      ],
      "text/plain": [
       "<IPython.core.display.Math object>"
      ]
     },
     "metadata": {},
     "output_type": "display_data"
    },
    {
     "name": "stdout",
     "output_type": "stream",
     "text": [
      "Salida counts = {'0': 1}\n",
      "Given the former angle theta and quantum state, the new prediction is:\n",
      "Prediction = 0\n",
      "int(Prediction) = 0 \n",
      "\n",
      "Overall Probability = -1.0085377781157756\n"
     ]
    },
    {
     "data": {
      "text/latex": [
       "$\\displaystyle \n",
       "$$ |\\psi\\rangle =\\begin{bmatrix}\n",
       "-0.99991 \\\\\n",
       "-0.01341\\end{bmatrix} $"
      ],
      "text/plain": [
       "<IPython.core.display.Math object>"
      ]
     },
     "metadata": {},
     "output_type": "display_data"
    },
    {
     "name": "stdout",
     "output_type": "stream",
     "text": [
      "Salida counts = {'0': 1}\n",
      "Given the former angle theta and quantum state, the new prediction is:\n",
      "Prediction = 0\n",
      "int(Prediction) = 0 \n",
      "\n",
      "Overall Probability = -0.690307970617483\n"
     ]
    },
    {
     "data": {
      "text/latex": [
       "$\\displaystyle \n",
       "$$ |\\psi\\rangle =\\begin{bmatrix}\n",
       "-0.88399 \\\\\n",
       "0.46750\\end{bmatrix} $"
      ],
      "text/plain": [
       "<IPython.core.display.Math object>"
      ]
     },
     "metadata": {},
     "output_type": "display_data"
    },
    {
     "name": "stdout",
     "output_type": "stream",
     "text": [
      "Salida counts = {'0': 1}\n",
      "Given the former angle theta and quantum state, the new prediction is:\n",
      "Prediction = 0\n",
      "int(Prediction) = 0 \n",
      "\n",
      "Overall Probability = -0.11283062289859078\n"
     ]
    },
    {
     "data": {
      "text/latex": [
       "$\\displaystyle \n",
       "$$ |\\psi\\rangle =\\begin{bmatrix}\n",
       "-0.17631 \\\\\n",
       "0.98434\\end{bmatrix} $"
      ],
      "text/plain": [
       "<IPython.core.display.Math object>"
      ]
     },
     "metadata": {},
     "output_type": "display_data"
    },
    {
     "name": "stdout",
     "output_type": "stream",
     "text": [
      "Salida counts = {'1': 1}\n",
      "Given the former angle theta and quantum state, the new prediction is:\n",
      "Prediction = 1\n",
      "int(Prediction) = 1 \n",
      "\n",
      "Overall Probability = -1.0074452928649216\n"
     ]
    },
    {
     "data": {
      "text/latex": [
       "$\\displaystyle \n",
       "$$ |\\psi\\rangle =\\begin{bmatrix}\n",
       "-0.99993 \\\\\n",
       "-0.01169\\end{bmatrix} $"
      ],
      "text/plain": [
       "<IPython.core.display.Math object>"
      ]
     },
     "metadata": {},
     "output_type": "display_data"
    },
    {
     "name": "stdout",
     "output_type": "stream",
     "text": [
      "Salida counts = {'0': 1}\n",
      "Given the former angle theta and quantum state, the new prediction is:\n",
      "Prediction = 0\n",
      "int(Prediction) = 0 \n",
      "\n",
      "Overall Probability = 0.055202500045353174\n"
     ]
    },
    {
     "data": {
      "text/latex": [
       "$\\displaystyle \n",
       "$$ |\\psi\\rangle =\\begin{bmatrix}\n",
       "0.08660 \\\\\n",
       "0.99624\\end{bmatrix} $"
      ],
      "text/plain": [
       "<IPython.core.display.Math object>"
      ]
     },
     "metadata": {},
     "output_type": "display_data"
    },
    {
     "name": "stdout",
     "output_type": "stream",
     "text": [
      "Salida counts = {'1': 1}\n",
      "Given the former angle theta and quantum state, the new prediction is:\n",
      "Prediction = 1\n",
      "int(Prediction) = 1 \n",
      "\n",
      "Overall Probability = -0.5132567203952749\n"
     ]
    },
    {
     "data": {
      "text/latex": [
       "$\\displaystyle \n",
       "$$ |\\psi\\rangle =\\begin{bmatrix}\n",
       "-0.72168 \\\\\n",
       "0.69223\\end{bmatrix} $"
      ],
      "text/plain": [
       "<IPython.core.display.Math object>"
      ]
     },
     "metadata": {},
     "output_type": "display_data"
    },
    {
     "name": "stdout",
     "output_type": "stream",
     "text": [
      "Salida counts = {'1': 1}\n",
      "Given the former angle theta and quantum state, the new prediction is:\n",
      "Prediction = 1\n",
      "int(Prediction) = 1 \n",
      "\n",
      "Overall Probability = -0.10359666997904313\n"
     ]
    },
    {
     "data": {
      "text/latex": [
       "$\\displaystyle \n",
       "$$ |\\psi\\rangle =\\begin{bmatrix}\n",
       "-0.16201 \\\\\n",
       "0.98679\\end{bmatrix} $"
      ],
      "text/plain": [
       "<IPython.core.display.Math object>"
      ]
     },
     "metadata": {},
     "output_type": "display_data"
    },
    {
     "name": "stdout",
     "output_type": "stream",
     "text": [
      "Salida counts = {'1': 1}\n",
      "Given the former angle theta and quantum state, the new prediction is:\n",
      "Prediction = 1\n",
      "int(Prediction) = 1 \n",
      "\n",
      "Overall Probability = -0.4937550966964669\n"
     ]
    },
    {
     "data": {
      "text/latex": [
       "$\\displaystyle \n",
       "$$ |\\psi\\rangle =\\begin{bmatrix}\n",
       "-0.70014 \\\\\n",
       "0.71401\\end{bmatrix} $"
      ],
      "text/plain": [
       "<IPython.core.display.Math object>"
      ]
     },
     "metadata": {},
     "output_type": "display_data"
    },
    {
     "name": "stdout",
     "output_type": "stream",
     "text": [
      "Salida counts = {'0': 1}\n",
      "Given the former angle theta and quantum state, the new prediction is:\n",
      "Prediction = 0\n",
      "int(Prediction) = 0 \n",
      "\n",
      "Overall Probability = -0.21873189818295868\n"
     ]
    },
    {
     "data": {
      "text/latex": [
       "$\\displaystyle \n",
       "$$ |\\psi\\rangle =\\begin{bmatrix}\n",
       "-0.33686 \\\\\n",
       "0.94155\\end{bmatrix} $"
      ],
      "text/plain": [
       "<IPython.core.display.Math object>"
      ]
     },
     "metadata": {},
     "output_type": "display_data"
    },
    {
     "name": "stdout",
     "output_type": "stream",
     "text": [
      "Salida counts = {'0': 1}\n",
      "Given the former angle theta and quantum state, the new prediction is:\n",
      "Prediction = 0\n",
      "int(Prediction) = 0 \n",
      "\n",
      "Overall Probability = -0.8265110662400983\n"
     ]
    },
    {
     "data": {
      "text/latex": [
       "$\\displaystyle \n",
       "$$ |\\psi\\rangle =\\begin{bmatrix}\n",
       "-0.96310 \\\\\n",
       "0.26916\\end{bmatrix} $"
      ],
      "text/plain": [
       "<IPython.core.display.Math object>"
      ]
     },
     "metadata": {},
     "output_type": "display_data"
    },
    {
     "name": "stdout",
     "output_type": "stream",
     "text": [
      "Salida counts = {'1': 1}\n",
      "Given the former angle theta and quantum state, the new prediction is:\n",
      "Prediction = 1\n",
      "int(Prediction) = 1 \n",
      "\n",
      "Overall Probability = -1.0174945640164401\n"
     ]
    },
    {
     "data": {
      "text/latex": [
       "$\\displaystyle \n",
       "$$ |\\psi\\rangle =\\begin{bmatrix}\n",
       "-0.99962 \\\\\n",
       "-0.02748\\end{bmatrix} $"
      ],
      "text/plain": [
       "<IPython.core.display.Math object>"
      ]
     },
     "metadata": {},
     "output_type": "display_data"
    },
    {
     "name": "stdout",
     "output_type": "stream",
     "text": [
      "Salida counts = {'0': 1}\n",
      "Given the former angle theta and quantum state, the new prediction is:\n",
      "Prediction = 0\n",
      "int(Prediction) = 0 \n",
      "\n",
      "Overall Probability = -0.9222242092325534\n"
     ]
    },
    {
     "data": {
      "text/latex": [
       "$\\displaystyle \n",
       "$$ |\\psi\\rangle =\\begin{bmatrix}\n",
       "-0.99255 \\\\\n",
       "0.12187\\end{bmatrix} $"
      ],
      "text/plain": [
       "<IPython.core.display.Math object>"
      ]
     },
     "metadata": {},
     "output_type": "display_data"
    },
    {
     "name": "stdout",
     "output_type": "stream",
     "text": [
      "Salida counts = {'0': 1}\n",
      "Given the former angle theta and quantum state, the new prediction is:\n",
      "Prediction = 0\n",
      "int(Prediction) = 0 \n",
      "\n",
      "Overall Probability = -0.4848020715472482\n"
     ]
    },
    {
     "data": {
      "text/latex": [
       "$\\displaystyle \n",
       "$$ |\\psi\\rangle =\\begin{bmatrix}\n",
       "-0.69003 \\\\\n",
       "0.72378\\end{bmatrix} $"
      ],
      "text/plain": [
       "<IPython.core.display.Math object>"
      ]
     },
     "metadata": {},
     "output_type": "display_data"
    },
    {
     "name": "stdout",
     "output_type": "stream",
     "text": [
      "Salida counts = {'0': 1}\n",
      "Given the former angle theta and quantum state, the new prediction is:\n",
      "Prediction = 0\n",
      "int(Prediction) = 0 \n",
      "\n",
      "Overall Probability = -0.702118113163429\n"
     ]
    },
    {
     "data": {
      "text/latex": [
       "$\\displaystyle \n",
       "$$ |\\psi\\rangle =\\begin{bmatrix}\n",
       "-0.89251 \\\\\n",
       "0.45102\\end{bmatrix} $"
      ],
      "text/plain": [
       "<IPython.core.display.Math object>"
      ]
     },
     "metadata": {},
     "output_type": "display_data"
    },
    {
     "name": "stdout",
     "output_type": "stream",
     "text": [
      "Salida counts = {'0': 1}\n",
      "Given the former angle theta and quantum state, the new prediction is:\n",
      "Prediction = 0\n",
      "int(Prediction) = 0 \n",
      "\n",
      "Overall Probability = -0.9591727181085539\n"
     ]
    },
    {
     "data": {
      "text/latex": [
       "$\\displaystyle \n",
       "$$ |\\psi\\rangle =\\begin{bmatrix}\n",
       "-0.99794 \\\\\n",
       "0.06409\\end{bmatrix} $"
      ],
      "text/plain": [
       "<IPython.core.display.Math object>"
      ]
     },
     "metadata": {},
     "output_type": "display_data"
    },
    {
     "name": "stdout",
     "output_type": "stream",
     "text": [
      "Salida counts = {'0': 1}\n",
      "Given the former angle theta and quantum state, the new prediction is:\n",
      "Prediction = 0\n",
      "int(Prediction) = 0 \n",
      "\n",
      "Overall Probability = -0.2648733612706139\n"
     ]
    },
    {
     "data": {
      "text/latex": [
       "$\\displaystyle \n",
       "$$ |\\psi\\rangle =\\begin{bmatrix}\n",
       "-0.40416 \\\\\n",
       "0.91469\\end{bmatrix} $"
      ],
      "text/plain": [
       "<IPython.core.display.Math object>"
      ]
     },
     "metadata": {},
     "output_type": "display_data"
    },
    {
     "name": "stdout",
     "output_type": "stream",
     "text": [
      "Salida counts = {'1': 1}\n",
      "Given the former angle theta and quantum state, the new prediction is:\n",
      "Prediction = 1\n",
      "int(Prediction) = 1 \n",
      "\n",
      "Overall Probability = -1.0524083019735002\n"
     ]
    },
    {
     "data": {
      "text/latex": [
       "$\\displaystyle \n",
       "$$ |\\psi\\rangle =\\begin{bmatrix}\n",
       "-0.99661 \\\\\n",
       "-0.08223\\end{bmatrix} $"
      ],
      "text/plain": [
       "<IPython.core.display.Math object>"
      ]
     },
     "metadata": {},
     "output_type": "display_data"
    },
    {
     "name": "stdout",
     "output_type": "stream",
     "text": [
      "Salida counts = {'0': 1}\n",
      "Given the former angle theta and quantum state, the new prediction is:\n",
      "Prediction = 0\n",
      "int(Prediction) = 0 \n",
      "\n",
      "Overall Probability = -0.6957342983787379\n"
     ]
    },
    {
     "data": {
      "text/latex": [
       "$\\displaystyle \n",
       "$$ |\\psi\\rangle =\\begin{bmatrix}\n",
       "-0.88794 \\\\\n",
       "0.45995\\end{bmatrix} $"
      ],
      "text/plain": [
       "<IPython.core.display.Math object>"
      ]
     },
     "metadata": {},
     "output_type": "display_data"
    },
    {
     "name": "stdout",
     "output_type": "stream",
     "text": [
      "Salida counts = {'0': 1}\n",
      "Given the former angle theta and quantum state, the new prediction is:\n",
      "Prediction = 0\n",
      "int(Prediction) = 0 \n",
      "\n",
      "Overall Probability = -0.5563846643838586\n"
     ]
    },
    {
     "data": {
      "text/latex": [
       "$\\displaystyle \n",
       "$$ |\\psi\\rangle =\\begin{bmatrix}\n",
       "-0.76688 \\\\\n",
       "0.64179\\end{bmatrix} $"
      ],
      "text/plain": [
       "<IPython.core.display.Math object>"
      ]
     },
     "metadata": {},
     "output_type": "display_data"
    },
    {
     "name": "stdout",
     "output_type": "stream",
     "text": [
      "Salida counts = {'1': 1}\n",
      "Given the former angle theta and quantum state, the new prediction is:\n",
      "Prediction = 1\n",
      "int(Prediction) = 1 \n",
      "\n",
      "Overall Probability = -0.3457507788100446\n"
     ]
    },
    {
     "data": {
      "text/latex": [
       "$\\displaystyle \n",
       "$$ |\\psi\\rangle =\\begin{bmatrix}\n",
       "-0.51680 \\\\\n",
       "0.85611\\end{bmatrix} $"
      ],
      "text/plain": [
       "<IPython.core.display.Math object>"
      ]
     },
     "metadata": {},
     "output_type": "display_data"
    },
    {
     "name": "stdout",
     "output_type": "stream",
     "text": [
      "Salida counts = {'1': 1}\n",
      "Given the former angle theta and quantum state, the new prediction is:\n",
      "Prediction = 1\n",
      "int(Prediction) = 1 \n",
      "\n",
      "Overall Probability = -0.5157110519737844\n"
     ]
    },
    {
     "data": {
      "text/latex": [
       "$\\displaystyle \n",
       "$$ |\\psi\\rangle =\\begin{bmatrix}\n",
       "-0.72434 \\\\\n",
       "0.68944\\end{bmatrix} $"
      ],
      "text/plain": [
       "<IPython.core.display.Math object>"
      ]
     },
     "metadata": {},
     "output_type": "display_data"
    },
    {
     "name": "stdout",
     "output_type": "stream",
     "text": [
      "Salida counts = {'0': 1}\n",
      "Given the former angle theta and quantum state, the new prediction is:\n",
      "Prediction = 0\n",
      "int(Prediction) = 0 \n",
      "\n",
      "Overall Probability = -1.0512923380274801\n"
     ]
    },
    {
     "data": {
      "text/latex": [
       "$\\displaystyle \n",
       "$$ |\\psi\\rangle =\\begin{bmatrix}\n",
       "-0.99676 \\\\\n",
       "-0.08048\\end{bmatrix} $"
      ],
      "text/plain": [
       "<IPython.core.display.Math object>"
      ]
     },
     "metadata": {},
     "output_type": "display_data"
    },
    {
     "name": "stdout",
     "output_type": "stream",
     "text": [
      "Salida counts = {'0': 1}\n",
      "Given the former angle theta and quantum state, the new prediction is:\n",
      "Prediction = 0\n",
      "int(Prediction) = 0 \n",
      "\n",
      "Overall Probability = -0.8764451890794079\n"
     ]
    },
    {
     "data": {
      "text/latex": [
       "$\\displaystyle \n",
       "$$ |\\psi\\rangle =\\begin{bmatrix}\n",
       "-0.98123 \\\\\n",
       "0.19286\\end{bmatrix} $"
      ],
      "text/plain": [
       "<IPython.core.display.Math object>"
      ]
     },
     "metadata": {},
     "output_type": "display_data"
    },
    {
     "name": "stdout",
     "output_type": "stream",
     "text": [
      "Salida counts = {'0': 1}\n",
      "Given the former angle theta and quantum state, the new prediction is:\n",
      "Prediction = 0\n",
      "int(Prediction) = 0 \n",
      "\n",
      "Overall Probability = -1.0525352558668304\n"
     ]
    },
    {
     "data": {
      "text/latex": [
       "$\\displaystyle \n",
       "$$ |\\psi\\rangle =\\begin{bmatrix}\n",
       "-0.99660 \\\\\n",
       "-0.08243\\end{bmatrix} $"
      ],
      "text/plain": [
       "<IPython.core.display.Math object>"
      ]
     },
     "metadata": {},
     "output_type": "display_data"
    },
    {
     "name": "stdout",
     "output_type": "stream",
     "text": [
      "Salida counts = {'0': 1}\n",
      "Given the former angle theta and quantum state, the new prediction is:\n",
      "Prediction = 0\n",
      "int(Prediction) = 0 \n",
      "\n",
      "Overall Probability = -0.8354989995303305\n"
     ]
    },
    {
     "data": {
      "text/latex": [
       "$\\displaystyle \n",
       "$$ |\\psi\\rangle =\\begin{bmatrix}\n",
       "-0.96680 \\\\\n",
       "0.25553\\end{bmatrix} $"
      ],
      "text/plain": [
       "<IPython.core.display.Math object>"
      ]
     },
     "metadata": {},
     "output_type": "display_data"
    },
    {
     "name": "stdout",
     "output_type": "stream",
     "text": [
      "Salida counts = {'0': 1}\n",
      "Given the former angle theta and quantum state, the new prediction is:\n",
      "Prediction = 0\n",
      "int(Prediction) = 0 \n",
      "\n",
      "Overall Probability = -0.5332606201827783\n"
     ]
    },
    {
     "data": {
      "text/latex": [
       "$\\displaystyle \n",
       "$$ |\\psi\\rangle =\\begin{bmatrix}\n",
       "-0.74307 \\\\\n",
       "0.66922\\end{bmatrix} $"
      ],
      "text/plain": [
       "<IPython.core.display.Math object>"
      ]
     },
     "metadata": {},
     "output_type": "display_data"
    },
    {
     "name": "stdout",
     "output_type": "stream",
     "text": [
      "Salida counts = {'1': 1}\n",
      "Given the former angle theta and quantum state, the new prediction is:\n",
      "Prediction = 1\n",
      "int(Prediction) = 1 \n",
      "\n",
      "Overall Probability = -0.8369082627629438\n"
     ]
    },
    {
     "data": {
      "text/latex": [
       "$\\displaystyle \n",
       "$$ |\\psi\\rangle =\\begin{bmatrix}\n",
       "-0.96736 \\\\\n",
       "0.25339\\end{bmatrix} $"
      ],
      "text/plain": [
       "<IPython.core.display.Math object>"
      ]
     },
     "metadata": {},
     "output_type": "display_data"
    },
    {
     "name": "stdout",
     "output_type": "stream",
     "text": [
      "Salida counts = {'0': 1}\n",
      "Given the former angle theta and quantum state, the new prediction is:\n",
      "Prediction = 0\n",
      "int(Prediction) = 0 \n",
      "\n",
      "Overall Probability = -0.42138281124474275\n"
     ]
    },
    {
     "data": {
      "text/latex": [
       "$\\displaystyle \n",
       "$$ |\\psi\\rangle =\\begin{bmatrix}\n",
       "-0.61462 \\\\\n",
       "0.78882\\end{bmatrix} $"
      ],
      "text/plain": [
       "<IPython.core.display.Math object>"
      ]
     },
     "metadata": {},
     "output_type": "display_data"
    },
    {
     "name": "stdout",
     "output_type": "stream",
     "text": [
      "Salida counts = {'0': 1}\n",
      "Given the former angle theta and quantum state, the new prediction is:\n",
      "Prediction = 0\n",
      "int(Prediction) = 0 \n",
      "\n",
      "Overall Probability = -0.5180805207896172\n"
     ]
    },
    {
     "data": {
      "text/latex": [
       "$\\displaystyle \n",
       "$$ |\\psi\\rangle =\\begin{bmatrix}\n",
       "-0.72690 \\\\\n",
       "0.68674\\end{bmatrix} $"
      ],
      "text/plain": [
       "<IPython.core.display.Math object>"
      ]
     },
     "metadata": {},
     "output_type": "display_data"
    },
    {
     "name": "stdout",
     "output_type": "stream",
     "text": [
      "Salida counts = {'0': 1}\n",
      "Given the former angle theta and quantum state, the new prediction is:\n",
      "Prediction = 0\n",
      "int(Prediction) = 0 \n",
      "\n",
      "Overall Probability = -0.9388248787614595\n"
     ]
    },
    {
     "data": {
      "text/latex": [
       "$\\displaystyle \n",
       "$$ |\\psi\\rangle =\\begin{bmatrix}\n",
       "-0.99539 \\\\\n",
       "0.09595\\end{bmatrix} $"
      ],
      "text/plain": [
       "<IPython.core.display.Math object>"
      ]
     },
     "metadata": {},
     "output_type": "display_data"
    },
    {
     "name": "stdout",
     "output_type": "stream",
     "text": [
      "Salida counts = {'0': 1}\n",
      "Given the former angle theta and quantum state, the new prediction is:\n",
      "Prediction = 0\n",
      "int(Prediction) = 0 \n",
      "\n",
      "Overall Probability = -0.3214554334177583\n"
     ]
    },
    {
     "data": {
      "text/latex": [
       "$\\displaystyle \n",
       "$$ |\\psi\\rangle =\\begin{bmatrix}\n",
       "-0.48376 \\\\\n",
       "0.87520\\end{bmatrix} $"
      ],
      "text/plain": [
       "<IPython.core.display.Math object>"
      ]
     },
     "metadata": {},
     "output_type": "display_data"
    },
    {
     "name": "stdout",
     "output_type": "stream",
     "text": [
      "Salida counts = {'0': 1}\n",
      "Given the former angle theta and quantum state, the new prediction is:\n",
      "Prediction = 0\n",
      "int(Prediction) = 0 \n",
      "\n",
      "Overall Probability = -1.0473607832861629\n"
     ]
    },
    {
     "data": {
      "text/latex": [
       "$\\displaystyle \n",
       "$$ |\\psi\\rangle =\\begin{bmatrix}\n",
       "-0.99723 \\\\\n",
       "-0.07433\\end{bmatrix} $"
      ],
      "text/plain": [
       "<IPython.core.display.Math object>"
      ]
     },
     "metadata": {},
     "output_type": "display_data"
    },
    {
     "name": "stdout",
     "output_type": "stream",
     "text": [
      "Salida counts = {'0': 1}\n",
      "Given the former angle theta and quantum state, the new prediction is:\n",
      "Prediction = 0\n",
      "int(Prediction) = 0 \n",
      "\n",
      "Overall Probability = -0.5458170681874847\n"
     ]
    },
    {
     "data": {
      "text/latex": [
       "$\\displaystyle \n",
       "$$ |\\psi\\rangle =\\begin{bmatrix}\n",
       "-0.75612 \\\\\n",
       "0.65443\\end{bmatrix} $"
      ],
      "text/plain": [
       "<IPython.core.display.Math object>"
      ]
     },
     "metadata": {},
     "output_type": "display_data"
    },
    {
     "name": "stdout",
     "output_type": "stream",
     "text": [
      "Salida counts = {'0': 1}\n",
      "Given the former angle theta and quantum state, the new prediction is:\n",
      "Prediction = 0\n",
      "int(Prediction) = 0 \n",
      "\n",
      "Overall Probability = -0.8758148782731056\n"
     ]
    },
    {
     "data": {
      "text/latex": [
       "$\\displaystyle \n",
       "$$ |\\psi\\rangle =\\begin{bmatrix}\n",
       "-0.98103 \\\\\n",
       "0.19383\\end{bmatrix} $"
      ],
      "text/plain": [
       "<IPython.core.display.Math object>"
      ]
     },
     "metadata": {},
     "output_type": "display_data"
    },
    {
     "name": "stdout",
     "output_type": "stream",
     "text": [
      "Salida counts = {'0': 1}\n",
      "Given the former angle theta and quantum state, the new prediction is:\n",
      "Prediction = 0\n",
      "int(Prediction) = 0 \n",
      "\n",
      "Overall Probability = -1.051345007106644\n"
     ]
    },
    {
     "data": {
      "text/latex": [
       "$\\displaystyle \n",
       "$$ |\\psi\\rangle =\\begin{bmatrix}\n",
       "-0.99675 \\\\\n",
       "-0.08057\\end{bmatrix} $"
      ],
      "text/plain": [
       "<IPython.core.display.Math object>"
      ]
     },
     "metadata": {},
     "output_type": "display_data"
    },
    {
     "name": "stdout",
     "output_type": "stream",
     "text": [
      "Salida counts = {'0': 1}\n",
      "Given the former angle theta and quantum state, the new prediction is:\n",
      "Prediction = 0\n",
      "int(Prediction) = 0 \n",
      "\n",
      "Overall Probability = -0.9168445397468872\n"
     ]
    },
    {
     "data": {
      "text/latex": [
       "$\\displaystyle \n",
       "$$ |\\psi\\rangle =\\begin{bmatrix}\n",
       "-0.99148 \\\\\n",
       "0.13025\\end{bmatrix} $"
      ],
      "text/plain": [
       "<IPython.core.display.Math object>"
      ]
     },
     "metadata": {},
     "output_type": "display_data"
    },
    {
     "name": "stdout",
     "output_type": "stream",
     "text": [
      "Salida counts = {'0': 1}\n",
      "Given the former angle theta and quantum state, the new prediction is:\n",
      "Prediction = 0\n",
      "int(Prediction) = 0 \n",
      "\n",
      "Overall Probability = -0.6448126454279356\n"
     ]
    },
    {
     "data": {
      "text/latex": [
       "$\\displaystyle \n",
       "$$ |\\psi\\rangle =\\begin{bmatrix}\n",
       "-0.84835 \\\\\n",
       "0.52943\\end{bmatrix} $"
      ],
      "text/plain": [
       "<IPython.core.display.Math object>"
      ]
     },
     "metadata": {},
     "output_type": "display_data"
    },
    {
     "name": "stdout",
     "output_type": "stream",
     "text": [
      "Salida counts = {'0': 1}\n",
      "Given the former angle theta and quantum state, the new prediction is:\n",
      "Prediction = 0\n",
      "int(Prediction) = 0 \n",
      "\n",
      "Overall Probability = -0.5148084954016365\n"
     ]
    },
    {
     "data": {
      "text/latex": [
       "$\\displaystyle \n",
       "$$ |\\psi\\rangle =\\begin{bmatrix}\n",
       "-0.72336 \\\\\n",
       "0.69047\\end{bmatrix} $"
      ],
      "text/plain": [
       "<IPython.core.display.Math object>"
      ]
     },
     "metadata": {},
     "output_type": "display_data"
    },
    {
     "name": "stdout",
     "output_type": "stream",
     "text": [
      "Salida counts = {'0': 1}\n",
      "Given the former angle theta and quantum state, the new prediction is:\n",
      "Prediction = 0\n",
      "int(Prediction) = 0 \n",
      "\n",
      "Overall Probability = -0.9598151743109983\n"
     ]
    },
    {
     "data": {
      "text/latex": [
       "$\\displaystyle \n",
       "$$ |\\psi\\rangle =\\begin{bmatrix}\n",
       "-0.99801 \\\\\n",
       "0.06308\\end{bmatrix} $"
      ],
      "text/plain": [
       "<IPython.core.display.Math object>"
      ]
     },
     "metadata": {},
     "output_type": "display_data"
    },
    {
     "name": "stdout",
     "output_type": "stream",
     "text": [
      "Salida counts = {'0': 1}\n",
      "Given the former angle theta and quantum state, the new prediction is:\n",
      "Prediction = 0\n",
      "int(Prediction) = 0 \n",
      "\n",
      "Overall Probability = -0.6700111887521336\n"
     ]
    },
    {
     "data": {
      "text/latex": [
       "$\\displaystyle \n",
       "$$ |\\psi\\rangle =\\begin{bmatrix}\n",
       "-0.86864 \\\\\n",
       "0.49544\\end{bmatrix} $"
      ],
      "text/plain": [
       "<IPython.core.display.Math object>"
      ]
     },
     "metadata": {},
     "output_type": "display_data"
    },
    {
     "name": "stdout",
     "output_type": "stream",
     "text": [
      "Salida counts = {'0': 1}\n",
      "Given the former angle theta and quantum state, the new prediction is:\n",
      "Prediction = 0\n",
      "int(Prediction) = 0 \n",
      "\n",
      "Overall Probability = -0.6687871792982969\n"
     ]
    },
    {
     "data": {
      "text/latex": [
       "$\\displaystyle \n",
       "$$ |\\psi\\rangle =\\begin{bmatrix}\n",
       "-0.86769 \\\\\n",
       "0.49711\\end{bmatrix} $"
      ],
      "text/plain": [
       "<IPython.core.display.Math object>"
      ]
     },
     "metadata": {},
     "output_type": "display_data"
    },
    {
     "name": "stdout",
     "output_type": "stream",
     "text": [
      "Salida counts = {'0': 1}\n",
      "Given the former angle theta and quantum state, the new prediction is:\n",
      "Prediction = 0\n",
      "int(Prediction) = 0 \n",
      "\n",
      "Overall Probability = -0.6934402264601686\n"
     ]
    },
    {
     "data": {
      "text/latex": [
       "$\\displaystyle \n",
       "$$ |\\psi\\rangle =\\begin{bmatrix}\n",
       "-0.88628 \\\\\n",
       "0.46315\\end{bmatrix} $"
      ],
      "text/plain": [
       "<IPython.core.display.Math object>"
      ]
     },
     "metadata": {},
     "output_type": "display_data"
    },
    {
     "name": "stdout",
     "output_type": "stream",
     "text": [
      "Salida counts = {'1': 1}\n",
      "Given the former angle theta and quantum state, the new prediction is:\n",
      "Prediction = 1\n",
      "int(Prediction) = 1 \n",
      "\n",
      "Overall Probability = -1.0517163619394672\n"
     ]
    },
    {
     "data": {
      "text/latex": [
       "$\\displaystyle \n",
       "$$ |\\psi\\rangle =\\begin{bmatrix}\n",
       "-0.99670 \\\\\n",
       "-0.08115\\end{bmatrix} $"
      ],
      "text/plain": [
       "<IPython.core.display.Math object>"
      ]
     },
     "metadata": {},
     "output_type": "display_data"
    },
    {
     "name": "stdout",
     "output_type": "stream",
     "text": [
      "Salida counts = {'0': 1}\n",
      "Given the former angle theta and quantum state, the new prediction is:\n",
      "Prediction = 0\n",
      "int(Prediction) = 0 \n",
      "\n",
      "Overall Probability = -0.71183139358112\n"
     ]
    },
    {
     "data": {
      "text/latex": [
       "$\\displaystyle \n",
       "$$ |\\psi\\rangle =\\begin{bmatrix}\n",
       "-0.89929 \\\\\n",
       "0.43735\\end{bmatrix} $"
      ],
      "text/plain": [
       "<IPython.core.display.Math object>"
      ]
     },
     "metadata": {},
     "output_type": "display_data"
    },
    {
     "name": "stdout",
     "output_type": "stream",
     "text": [
      "Salida counts = {'0': 1}\n",
      "Given the former angle theta and quantum state, the new prediction is:\n",
      "Prediction = 0\n",
      "int(Prediction) = 0 \n",
      "\n",
      "Overall Probability = -0.4879924532739415\n"
     ]
    },
    {
     "data": {
      "text/latex": [
       "$\\displaystyle \n",
       "$$ |\\psi\\rangle =\\begin{bmatrix}\n",
       "-0.69364 \\\\\n",
       "0.72032\\end{bmatrix} $"
      ],
      "text/plain": [
       "<IPython.core.display.Math object>"
      ]
     },
     "metadata": {},
     "output_type": "display_data"
    },
    {
     "name": "stdout",
     "output_type": "stream",
     "text": [
      "Salida counts = {'0': 1}\n",
      "Given the former angle theta and quantum state, the new prediction is:\n",
      "Prediction = 0\n",
      "int(Prediction) = 0 \n",
      "\n",
      "Overall Probability = -0.14442157590885232\n"
     ]
    },
    {
     "data": {
      "text/latex": [
       "$\\displaystyle \n",
       "$$ |\\psi\\rangle =\\begin{bmatrix}\n",
       "-0.22492 \\\\\n",
       "0.97438\\end{bmatrix} $"
      ],
      "text/plain": [
       "<IPython.core.display.Math object>"
      ]
     },
     "metadata": {},
     "output_type": "display_data"
    },
    {
     "name": "stdout",
     "output_type": "stream",
     "text": [
      "Salida counts = {'1': 1}\n",
      "Given the former angle theta and quantum state, the new prediction is:\n",
      "Prediction = 1\n",
      "int(Prediction) = 1 \n",
      "\n",
      "Overall Probability = -0.874869412063652\n"
     ]
    },
    {
     "data": {
      "text/latex": [
       "$\\displaystyle \n",
       "$$ |\\psi\\rangle =\\begin{bmatrix}\n",
       "-0.98075 \\\\\n",
       "0.19529\\end{bmatrix} $"
      ],
      "text/plain": [
       "<IPython.core.display.Math object>"
      ]
     },
     "metadata": {},
     "output_type": "display_data"
    },
    {
     "name": "stdout",
     "output_type": "stream",
     "text": [
      "Salida counts = {'0': 1}\n",
      "Given the former angle theta and quantum state, the new prediction is:\n",
      "Prediction = 0\n",
      "int(Prediction) = 0 \n",
      "\n",
      "Overall Probability = -0.8148822801147845\n"
     ]
    },
    {
     "data": {
      "text/latex": [
       "$\\displaystyle \n",
       "$$ |\\psi\\rangle =\\begin{bmatrix}\n",
       "-0.95802 \\\\\n",
       "0.28670\\end{bmatrix} $"
      ],
      "text/plain": [
       "<IPython.core.display.Math object>"
      ]
     },
     "metadata": {},
     "output_type": "display_data"
    },
    {
     "name": "stdout",
     "output_type": "stream",
     "text": [
      "Salida counts = {'0': 1}\n",
      "Given the former angle theta and quantum state, the new prediction is:\n",
      "Prediction = 0\n",
      "int(Prediction) = 0 \n",
      "\n",
      "Overall Probability = -0.42471575845182064\n"
     ]
    },
    {
     "data": {
      "text/latex": [
       "$\\displaystyle \n",
       "$$ |\\psi\\rangle =\\begin{bmatrix}\n",
       "-0.61874 \\\\\n",
       "0.78559\\end{bmatrix} $"
      ],
      "text/plain": [
       "<IPython.core.display.Math object>"
      ]
     },
     "metadata": {},
     "output_type": "display_data"
    },
    {
     "name": "stdout",
     "output_type": "stream",
     "text": [
      "Salida counts = {'1': 1}\n",
      "Given the former angle theta and quantum state, the new prediction is:\n",
      "Prediction = 1\n",
      "int(Prediction) = 1 \n",
      "\n",
      "Overall Probability = -0.8353971163902897\n"
     ]
    },
    {
     "data": {
      "text/latex": [
       "$\\displaystyle \n",
       "$$ |\\psi\\rangle =\\begin{bmatrix}\n",
       "-0.96676 \\\\\n",
       "0.25569\\end{bmatrix} $"
      ],
      "text/plain": [
       "<IPython.core.display.Math object>"
      ]
     },
     "metadata": {},
     "output_type": "display_data"
    },
    {
     "name": "stdout",
     "output_type": "stream",
     "text": [
      "Salida counts = {'0': 1}\n",
      "Given the former angle theta and quantum state, the new prediction is:\n",
      "Prediction = 0\n",
      "int(Prediction) = 0 \n",
      "\n",
      "Overall Probability = -0.4836719324557083\n"
     ]
    },
    {
     "data": {
      "text/latex": [
       "$\\displaystyle \n",
       "$$ |\\psi\\rangle =\\begin{bmatrix}\n",
       "-0.68874 \\\\\n",
       "0.72501\\end{bmatrix} $"
      ],
      "text/plain": [
       "<IPython.core.display.Math object>"
      ]
     },
     "metadata": {},
     "output_type": "display_data"
    },
    {
     "name": "stdout",
     "output_type": "stream",
     "text": [
      "Salida counts = {'0': 1}\n",
      "Given the former angle theta and quantum state, the new prediction is:\n",
      "Prediction = 0\n",
      "int(Prediction) = 0 \n",
      "\n",
      "Overall Probability = -0.8821179863361294\n"
     ]
    },
    {
     "data": {
      "text/latex": [
       "$\\displaystyle \n",
       "$$ |\\psi\\rangle =\\begin{bmatrix}\n",
       "-0.98291 \\\\\n",
       "0.18411\\end{bmatrix} $"
      ],
      "text/plain": [
       "<IPython.core.display.Math object>"
      ]
     },
     "metadata": {},
     "output_type": "display_data"
    },
    {
     "name": "stdout",
     "output_type": "stream",
     "text": [
      "Salida counts = {'0': 1}\n",
      "Given the former angle theta and quantum state, the new prediction is:\n",
      "Prediction = 0\n",
      "int(Prediction) = 0 \n",
      "\n",
      "Overall Probability = -1.0493079151347422\n"
     ]
    },
    {
     "data": {
      "text/latex": [
       "$\\displaystyle \n",
       "$$ |\\psi\\rangle =\\begin{bmatrix}\n",
       "-0.99700 \\\\\n",
       "-0.07738\\end{bmatrix} $"
      ],
      "text/plain": [
       "<IPython.core.display.Math object>"
      ]
     },
     "metadata": {},
     "output_type": "display_data"
    },
    {
     "name": "stdout",
     "output_type": "stream",
     "text": [
      "Salida counts = {'0': 1}\n",
      "Given the former angle theta and quantum state, the new prediction is:\n",
      "Prediction = 0\n",
      "int(Prediction) = 0 \n",
      "\n",
      "Overall Probability = 0.06875748356010163\n"
     ]
    },
    {
     "data": {
      "text/latex": [
       "$\\displaystyle \n",
       "$$ |\\psi\\rangle =\\begin{bmatrix}\n",
       "0.10779 \\\\\n",
       "0.99417\\end{bmatrix} $"
      ],
      "text/plain": [
       "<IPython.core.display.Math object>"
      ]
     },
     "metadata": {},
     "output_type": "display_data"
    },
    {
     "name": "stdout",
     "output_type": "stream",
     "text": [
      "Salida counts = {'1': 1}\n",
      "Given the former angle theta and quantum state, the new prediction is:\n",
      "Prediction = 1\n",
      "int(Prediction) = 1 \n",
      "\n",
      "Overall Probability = -0.9950812701274979\n"
     ]
    },
    {
     "data": {
      "text/latex": [
       "$\\displaystyle \n",
       "$$ |\\psi\\rangle =\\begin{bmatrix}\n",
       "-0.99997 \\\\\n",
       "0.00773\\end{bmatrix} $"
      ],
      "text/plain": [
       "<IPython.core.display.Math object>"
      ]
     },
     "metadata": {},
     "output_type": "display_data"
    },
    {
     "name": "stdout",
     "output_type": "stream",
     "text": [
      "Salida counts = {'0': 1}\n",
      "Given the former angle theta and quantum state, the new prediction is:\n",
      "Prediction = 0\n",
      "int(Prediction) = 0 \n",
      "\n",
      "Overall Probability = -0.8682371183168786\n"
     ]
    },
    {
     "data": {
      "text/latex": [
       "$\\displaystyle \n",
       "$$ |\\psi\\rangle =\\begin{bmatrix}\n",
       "-0.97866 \\\\\n",
       "0.20550\\end{bmatrix} $"
      ],
      "text/plain": [
       "<IPython.core.display.Math object>"
      ]
     },
     "metadata": {},
     "output_type": "display_data"
    },
    {
     "name": "stdout",
     "output_type": "stream",
     "text": [
      "Salida counts = {'0': 1}\n",
      "Given the former angle theta and quantum state, the new prediction is:\n",
      "Prediction = 0\n",
      "int(Prediction) = 0 \n",
      "\n",
      "Overall Probability = -1.0508596749488053\n"
     ]
    },
    {
     "data": {
      "text/latex": [
       "$\\displaystyle \n",
       "$$ |\\psi\\rangle =\\begin{bmatrix}\n",
       "-0.99681 \\\\\n",
       "-0.07981\\end{bmatrix} $"
      ],
      "text/plain": [
       "<IPython.core.display.Math object>"
      ]
     },
     "metadata": {},
     "output_type": "display_data"
    },
    {
     "name": "stdout",
     "output_type": "stream",
     "text": [
      "Salida counts = {'0': 1}\n",
      "Given the former angle theta and quantum state, the new prediction is:\n",
      "Prediction = 0\n",
      "int(Prediction) = 0 \n",
      "\n",
      "Overall Probability = -1.0539657569599714\n"
     ]
    },
    {
     "data": {
      "text/latex": [
       "$\\displaystyle \n",
       "$$ |\\psi\\rangle =\\begin{bmatrix}\n",
       "-0.99641 \\\\\n",
       "-0.08467\\end{bmatrix} $"
      ],
      "text/plain": [
       "<IPython.core.display.Math object>"
      ]
     },
     "metadata": {},
     "output_type": "display_data"
    },
    {
     "name": "stdout",
     "output_type": "stream",
     "text": [
      "Salida counts = {'0': 1}\n",
      "Given the former angle theta and quantum state, the new prediction is:\n",
      "Prediction = 0\n",
      "int(Prediction) = 0 \n",
      "\n",
      "Overall Probability = -0.7003856539303412\n"
     ]
    },
    {
     "data": {
      "text/latex": [
       "$\\displaystyle \n",
       "$$ |\\psi\\rangle =\\begin{bmatrix}\n",
       "-0.89128 \\\\\n",
       "0.45345\\end{bmatrix} $"
      ],
      "text/plain": [
       "<IPython.core.display.Math object>"
      ]
     },
     "metadata": {},
     "output_type": "display_data"
    },
    {
     "name": "stdout",
     "output_type": "stream",
     "text": [
      "Salida counts = {'0': 1}\n",
      "Given the former angle theta and quantum state, the new prediction is:\n",
      "Prediction = 0\n",
      "int(Prediction) = 0 \n",
      "\n",
      "Overall Probability = -0.9431715002085096\n"
     ]
    },
    {
     "data": {
      "text/latex": [
       "$\\displaystyle \n",
       "$$ |\\psi\\rangle =\\begin{bmatrix}\n",
       "-0.99602 \\\\\n",
       "0.08915\\end{bmatrix} $"
      ],
      "text/plain": [
       "<IPython.core.display.Math object>"
      ]
     },
     "metadata": {},
     "output_type": "display_data"
    },
    {
     "name": "stdout",
     "output_type": "stream",
     "text": [
      "Salida counts = {'0': 1}\n",
      "Given the former angle theta and quantum state, the new prediction is:\n",
      "Prediction = 0\n",
      "int(Prediction) = 0 \n",
      "\n",
      "Overall Probability = -0.5428413684901651\n"
     ]
    },
    {
     "data": {
      "text/latex": [
       "$\\displaystyle \n",
       "$$ |\\psi\\rangle =\\begin{bmatrix}\n",
       "-0.75306 \\\\\n",
       "0.65796\\end{bmatrix} $"
      ],
      "text/plain": [
       "<IPython.core.display.Math object>"
      ]
     },
     "metadata": {},
     "output_type": "display_data"
    },
    {
     "name": "stdout",
     "output_type": "stream",
     "text": [
      "Salida counts = {'0': 1}\n",
      "Given the former angle theta and quantum state, the new prediction is:\n",
      "Prediction = 0\n",
      "int(Prediction) = 0 \n",
      "\n",
      "Overall Probability = -0.7015198920559439\n"
     ]
    },
    {
     "data": {
      "text/latex": [
       "$\\displaystyle \n",
       "$$ |\\psi\\rangle =\\begin{bmatrix}\n",
       "-0.89209 \\\\\n",
       "0.45186\\end{bmatrix} $"
      ],
      "text/plain": [
       "<IPython.core.display.Math object>"
      ]
     },
     "metadata": {},
     "output_type": "display_data"
    },
    {
     "name": "stdout",
     "output_type": "stream",
     "text": [
      "Salida counts = {'0': 1}\n",
      "Given the former angle theta and quantum state, the new prediction is:\n",
      "Prediction = 0\n",
      "int(Prediction) = 0 \n",
      "\n",
      "Overall Probability = -1.0626977745369308\n"
     ]
    },
    {
     "data": {
      "text/latex": [
       "$\\displaystyle \n",
       "$$ |\\psi\\rangle =\\begin{bmatrix}\n",
       "-0.99515 \\\\\n",
       "-0.09833\\end{bmatrix} $"
      ],
      "text/plain": [
       "<IPython.core.display.Math object>"
      ]
     },
     "metadata": {},
     "output_type": "display_data"
    },
    {
     "name": "stdout",
     "output_type": "stream",
     "text": [
      "Salida counts = {'0': 1}\n",
      "Given the former angle theta and quantum state, the new prediction is:\n",
      "Prediction = 0\n",
      "int(Prediction) = 0 \n",
      "\n",
      "Overall Probability = -0.7095131520208793\n"
     ]
    },
    {
     "data": {
      "text/latex": [
       "$\\displaystyle \n",
       "$$ |\\psi\\rangle =\\begin{bmatrix}\n",
       "-0.89769 \\\\\n",
       "0.44063\\end{bmatrix} $"
      ],
      "text/plain": [
       "<IPython.core.display.Math object>"
      ]
     },
     "metadata": {},
     "output_type": "display_data"
    },
    {
     "name": "stdout",
     "output_type": "stream",
     "text": [
      "Salida counts = {'0': 1}\n",
      "Given the former angle theta and quantum state, the new prediction is:\n",
      "Prediction = 0\n",
      "int(Prediction) = 0 \n",
      "\n",
      "Overall Probability = -0.41388707064416436\n"
     ]
    },
    {
     "data": {
      "text/latex": [
       "$\\displaystyle \n",
       "$$ |\\psi\\rangle =\\begin{bmatrix}\n",
       "-0.60529 \\\\\n",
       "0.79600\\end{bmatrix} $"
      ],
      "text/plain": [
       "<IPython.core.display.Math object>"
      ]
     },
     "metadata": {},
     "output_type": "display_data"
    },
    {
     "name": "stdout",
     "output_type": "stream",
     "text": [
      "Salida counts = {'1': 1}\n",
      "Given the former angle theta and quantum state, the new prediction is:\n",
      "Prediction = 1\n",
      "int(Prediction) = 1 \n",
      "\n",
      "Overall Probability = -0.1363380007417963\n"
     ]
    },
    {
     "data": {
      "text/latex": [
       "$\\displaystyle \n",
       "$$ |\\psi\\rangle =\\begin{bmatrix}\n",
       "-0.21253 \\\\\n",
       "0.97716\\end{bmatrix} $"
      ],
      "text/plain": [
       "<IPython.core.display.Math object>"
      ]
     },
     "metadata": {},
     "output_type": "display_data"
    },
    {
     "name": "stdout",
     "output_type": "stream",
     "text": [
      "Salida counts = {'1': 1}\n",
      "Given the former angle theta and quantum state, the new prediction is:\n",
      "Prediction = 1\n",
      "int(Prediction) = 1 \n",
      "\n",
      "\n",
      "The precision score of the Variational HQC with Data Test classifier is 0.81\n",
      "The recall score of the Variational HQC with Data Test classifier is 0.55\n",
      "The specificity score of the Variational HQC with Data Test classifier is 0.90\n",
      "The npv score of the Variational HQC with Data Test classifier is 0.72\n",
      "The information level is: 0.74\n"
     ]
    }
   ],
   "source": [
    "# Listing 3.29: Test the PQC‐based classifier on data it has not seen before\n",
    "classifier_report(\"Variational HQC with Data Test\", \n",
    "    run,\n",
    "    lambda passenger: post_process(pqc(backend, pre_process_weighted(passenger))),\n",
    "    test_input,\n",
    "    test_labels)"
   ]
  },
  {
   "cell_type": "code",
   "execution_count": 25,
   "metadata": {},
   "outputs": [
    {
     "data": {
      "text/html": [
       "<h3>Version Information</h3><table><tr><th>Qiskit Software</th><th>Version</th></tr><tr><td><code>qiskit-terra</code></td><td>0.24.1</td></tr><tr><td><code>qiskit-aer</code></td><td>0.12.0</td></tr><tr><td><code>qiskit-ibmq-provider</code></td><td>0.20.2</td></tr><tr><td><code>qiskit</code></td><td>0.43.1</td></tr><tr><td><code>qiskit-nature</code></td><td>0.6.1</td></tr><tr><td><code>qiskit-finance</code></td><td>0.3.4</td></tr><tr><td><code>qiskit-optimization</code></td><td>0.5.0</td></tr><tr><td><code>qiskit-machine-learning</code></td><td>0.6.0</td></tr><tr><th>System information</th></tr><tr><td>Python version</td><td>3.10.8</td></tr><tr><td>Python compiler</td><td>GCC 10.4.0</td></tr><tr><td>Python build</td><td>main, Nov 22 2022 08:26:04</td></tr><tr><td>OS</td><td>Linux</td></tr><tr><td>CPUs</td><td>8</td></tr><tr><td>Memory (Gb)</td><td>31.211322784423828</td></tr><tr><td colspan='2'>Tue Jun 13 21:39:52 2023 UTC</td></tr></table>"
      ],
      "text/plain": [
       "<IPython.core.display.HTML object>"
      ]
     },
     "metadata": {},
     "output_type": "display_data"
    },
    {
     "data": {
      "text/html": [
       "<div style='width: 100%; background-color:#d5d9e0;padding-left: 10px; padding-bottom: 10px; padding-right: 10px; padding-top: 5px'><h3>This code is a part of Qiskit</h3><p>&copy; Copyright IBM 2017, 2023.</p><p>This code is licensed under the Apache License, Version 2.0. You may<br>obtain a copy of this license in the LICENSE.txt file in the root directory<br> of this source tree or at http://www.apache.org/licenses/LICENSE-2.0.<p>Any modifications or derivative works of this code must retain this<br>copyright notice, and modified files need to carry a notice indicating<br>that they have been altered from the originals.</p></div>"
      ],
      "text/plain": [
       "<IPython.core.display.HTML object>"
      ]
     },
     "metadata": {},
     "output_type": "display_data"
    }
   ],
   "source": [
    "import qiskit.tools.jupyter\n",
    "%qiskit_version_table\n",
    "%qiskit_copyright"
   ]
  }
 ],
 "metadata": {
  "kernelspec": {
   "display_name": "Python 3 (ipykernel)",
   "language": "python",
   "name": "python3"
  },
  "language_info": {
   "codemirror_mode": {
    "name": "ipython",
    "version": 3
   },
   "file_extension": ".py",
   "mimetype": "text/x-python",
   "name": "python",
   "nbconvert_exporter": "python",
   "pygments_lexer": "ipython3",
   "version": "3.10.8"
  },
  "metadata": {
   "interpreter": {
    "hash": "f54d5a9a292554231b0e4cdeb199e00a9515f991e8d01877fcef19d91dd80062"
   }
  },
  "widgets": {
   "application/vnd.jupyter.widget-state+json": {
    "state": {
     "01d46a0f4aa74cdf891061a1d534d69a": {
      "model_module": "@jupyter-widgets/base",
      "model_module_version": "2.0.0",
      "model_name": "LayoutModel",
      "state": {
       "grid_template_areas": "\n                                       \". . . . right \"\n                                        ",
       "grid_template_columns": "20% 20% 20% 20% 20%",
       "width": "100%"
      }
     },
     "14257121660b41749ccd57fd32899645": {
      "model_module": "@jupyter-widgets/controls",
      "model_module_version": "2.0.0",
      "model_name": "HTMLStyleModel",
      "state": {
       "description_width": "",
       "font_size": null,
       "text_color": null
      }
     },
     "1ee5dd0abc624910aca7461cd0af2c08": {
      "model_module": "@jupyter-widgets/controls",
      "model_module_version": "2.0.0",
      "model_name": "ButtonModel",
      "state": {
       "button_style": "primary",
       "description": "Clear",
       "layout": "IPY_MODEL_5165e45b86494036a500c50df55220b8",
       "style": "IPY_MODEL_62ddf0913c37411ea1c13154bd8aa0fe",
       "tooltip": null
      }
     },
     "2a9fbbed0cbf46499c1d237cab5c45f4": {
      "model_module": "@jupyter-widgets/controls",
      "model_module_version": "2.0.0",
      "model_name": "HTMLModel",
      "state": {
       "layout": "IPY_MODEL_b90d3347996c463e9f9c9a9297ea9d52",
       "style": "IPY_MODEL_94ef5517a8654975ba0d9896556d6cc3",
       "value": "<h5>Message</h5>"
      }
     },
     "2f9d3488fb584b489077e02ae091e068": {
      "model_module": "@jupyter-widgets/controls",
      "model_module_version": "2.0.0",
      "model_name": "HTMLModel",
      "state": {
       "layout": "IPY_MODEL_a9849da6ec7447d09fa18fac6980f014",
       "style": "IPY_MODEL_14257121660b41749ccd57fd32899645",
       "value": "<h5>Backend</h5>"
      }
     },
     "3f5563f1b20f4748aa71789004cf9b7d": {
      "model_module": "@jupyter-widgets/base",
      "model_module_version": "2.0.0",
      "model_name": "LayoutModel",
      "state": {
       "margin": "0px 0px 0px 37px",
       "width": "600px"
      }
     },
     "4065b16093d34f6794484bbe0b5a2a40": {
      "model_module": "@jupyter-widgets/base",
      "model_module_version": "2.0.0",
      "model_name": "LayoutModel",
      "state": {
       "width": "190px"
      }
     },
     "409af3e0795f48acb26c0609f6e84270": {
      "model_module": "@jupyter-widgets/base",
      "model_module_version": "2.0.0",
      "model_name": "LayoutModel",
      "state": {
       "margin": "0px 0px 10px 0px"
      }
     },
     "5165e45b86494036a500c50df55220b8": {
      "model_module": "@jupyter-widgets/base",
      "model_module_version": "2.0.0",
      "model_name": "LayoutModel",
      "state": {
       "grid_area": "right",
       "padding": "0px 0px 0px 0px",
       "width": "70px"
      }
     },
     "59fa38a91af44606bbef555361882618": {
      "model_module": "@jupyter-widgets/controls",
      "model_module_version": "2.0.0",
      "model_name": "HTMLModel",
      "state": {
       "layout": "IPY_MODEL_6250652dd5174a3f9aecff03d45b651e",
       "style": "IPY_MODEL_a45af281d8264603ad28bc86e03ae7fb",
       "value": "<h5>Queue</h5>"
      }
     },
     "5f73b595bcc74cf89a737926230c1206": {
      "model_module": "@jupyter-widgets/controls",
      "model_module_version": "2.0.0",
      "model_name": "GridBoxModel",
      "state": {
       "children": [
        "IPY_MODEL_1ee5dd0abc624910aca7461cd0af2c08"
       ],
       "layout": "IPY_MODEL_01d46a0f4aa74cdf891061a1d534d69a"
      }
     },
     "6250652dd5174a3f9aecff03d45b651e": {
      "model_module": "@jupyter-widgets/base",
      "model_module_version": "2.0.0",
      "model_name": "LayoutModel",
      "state": {
       "width": "70px"
      }
     },
     "62ddf0913c37411ea1c13154bd8aa0fe": {
      "model_module": "@jupyter-widgets/controls",
      "model_module_version": "2.0.0",
      "model_name": "ButtonStyleModel",
      "state": {
       "font_family": null,
       "font_size": null,
       "font_style": null,
       "font_variant": null,
       "font_weight": null,
       "text_color": null,
       "text_decoration": null
      }
     },
     "7db8e41646d846629ee82f4a20fcb672": {
      "model_module": "@jupyter-widgets/controls",
      "model_module_version": "2.0.0",
      "model_name": "HBoxModel",
      "state": {
       "children": [
        "IPY_MODEL_90394df747274e54a97b103101da9b4b",
        "IPY_MODEL_2f9d3488fb584b489077e02ae091e068",
        "IPY_MODEL_89af340bc99b4e50b6a87ae138ac50ab",
        "IPY_MODEL_59fa38a91af44606bbef555361882618",
        "IPY_MODEL_2a9fbbed0cbf46499c1d237cab5c45f4"
       ],
       "layout": "IPY_MODEL_3f5563f1b20f4748aa71789004cf9b7d"
      }
     },
     "89af340bc99b4e50b6a87ae138ac50ab": {
      "model_module": "@jupyter-widgets/controls",
      "model_module_version": "2.0.0",
      "model_name": "HTMLModel",
      "state": {
       "layout": "IPY_MODEL_8eac782a29dd4683b2954516b5da60f0",
       "style": "IPY_MODEL_dfaefe7738524b15a562a7fd6e587123",
       "value": "<h5>Status</h5>"
      }
     },
     "8eac782a29dd4683b2954516b5da60f0": {
      "model_module": "@jupyter-widgets/base",
      "model_module_version": "2.0.0",
      "model_name": "LayoutModel",
      "state": {
       "width": "95px"
      }
     },
     "90394df747274e54a97b103101da9b4b": {
      "model_module": "@jupyter-widgets/controls",
      "model_module_version": "2.0.0",
      "model_name": "HTMLModel",
      "state": {
       "layout": "IPY_MODEL_4065b16093d34f6794484bbe0b5a2a40",
       "style": "IPY_MODEL_e59b066e656e499facde95c49f231e7f",
       "value": "<h5>Job ID</h5>"
      }
     },
     "94ef5517a8654975ba0d9896556d6cc3": {
      "model_module": "@jupyter-widgets/controls",
      "model_module_version": "2.0.0",
      "model_name": "HTMLStyleModel",
      "state": {
       "description_width": "",
       "font_size": null,
       "text_color": null
      }
     },
     "a45af281d8264603ad28bc86e03ae7fb": {
      "model_module": "@jupyter-widgets/controls",
      "model_module_version": "2.0.0",
      "model_name": "HTMLStyleModel",
      "state": {
       "description_width": "",
       "font_size": null,
       "text_color": null
      }
     },
     "a9849da6ec7447d09fa18fac6980f014": {
      "model_module": "@jupyter-widgets/base",
      "model_module_version": "2.0.0",
      "model_name": "LayoutModel",
      "state": {
       "width": "145px"
      }
     },
     "afedb763f8d842838a1f62fcef4c918d": {
      "model_module": "@jupyter-widgets/controls",
      "model_module_version": "2.0.0",
      "model_name": "HTMLModel",
      "state": {
       "layout": "IPY_MODEL_409af3e0795f48acb26c0609f6e84270",
       "style": "IPY_MODEL_c5fa6d6a28054a0a9b70403376efd62d",
       "value": "<p style='font-family: IBM Plex Sans, Arial, Helvetica, sans-serif; font-size: 20px; font-weight: medium;'>Circuit Properties</p>"
      }
     },
     "b90d3347996c463e9f9c9a9297ea9d52": {
      "model_module": "@jupyter-widgets/base",
      "model_module_version": "2.0.0",
      "model_name": "LayoutModel",
      "state": {}
     },
     "c5fa6d6a28054a0a9b70403376efd62d": {
      "model_module": "@jupyter-widgets/controls",
      "model_module_version": "2.0.0",
      "model_name": "HTMLStyleModel",
      "state": {
       "description_width": "",
       "font_size": null,
       "text_color": null
      }
     },
     "dfaefe7738524b15a562a7fd6e587123": {
      "model_module": "@jupyter-widgets/controls",
      "model_module_version": "2.0.0",
      "model_name": "HTMLStyleModel",
      "state": {
       "description_width": "",
       "font_size": null,
       "text_color": null
      }
     },
     "e59b066e656e499facde95c49f231e7f": {
      "model_module": "@jupyter-widgets/controls",
      "model_module_version": "2.0.0",
      "model_name": "HTMLStyleModel",
      "state": {
       "description_width": "",
       "font_size": null,
       "text_color": null
      }
     }
    },
    "version_major": 2,
    "version_minor": 0
   }
  }
 },
 "nbformat": 4,
 "nbformat_minor": 4
}
