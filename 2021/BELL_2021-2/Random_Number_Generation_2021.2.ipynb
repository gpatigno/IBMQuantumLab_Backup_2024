{
 "cells": [
  {
   "cell_type": "code",
   "execution_count": null,
   "metadata": {
    "id": "h5FahvKU98DH"
   },
   "outputs": [],
   "source": [
    "%matplotlib inline\n",
    "# Importing standard Qiskit libraries and configuring account\n",
    "from qiskit import QuantumCircuit, execute, Aer, IBMQ\n",
    "from qiskit.compiler import transpile, assemble\n",
    "from qiskit.tools.jupyter import *\n",
    "from qiskit.visualization import *\n",
    "from qiskit import *\n",
    "# Loading your IBM Q account(s)\n",
    "provider = IBMQ.load_account()"
   ]
  },
  {
   "cell_type": "code",
   "execution_count": null,
   "metadata": {
    "id": "kVRmdL-698DM"
   },
   "outputs": [],
   "source": [
    "num = 2\n",
    "qr = QuantumRegister(num)\n",
    "cr = ClassicalRegister(num)\n",
    "circuit = QuantumCircuit(qr, cr)"
   ]
  },
  {
   "cell_type": "code",
   "execution_count": null,
   "metadata": {
    "id": "mG0_d7b298DN"
   },
   "outputs": [],
   "source": [
    "for q in range(len(qr)):\n",
    "    circuit.h(qr[q])"
   ]
  },
  {
   "cell_type": "code",
   "execution_count": null,
   "metadata": {
    "id": "sb0f3awG98DO",
    "outputId": "df50ff7f-48c4-43a0-e47f-fc1ea813e98f"
   },
   "outputs": [],
   "source": [
    "circuit.measure(qr, cr)"
   ]
  },
  {
   "cell_type": "code",
   "execution_count": null,
   "metadata": {
    "id": "L4nZ4wwt98DP",
    "outputId": "90e04e44-22cb-4a28-d992-814227b8f0bb"
   },
   "outputs": [],
   "source": [
    "circuit.draw(output=\"mpl\")"
   ]
  },
  {
   "cell_type": "code",
   "execution_count": null,
   "metadata": {
    "id": "12pjB-8S98DQ",
    "outputId": "569c86b7-ca3c-4e3b-9f39-5f374dfa654e"
   },
   "outputs": [],
   "source": [
    "from qiskit import BasicAer\n",
    "from qiskit.tools.monitor import job_monitor\n",
    "#provider = IBMQ.get_provider(hub='ibm-q', group='open', project='main')\n",
    "provider = IBMQ.get_provider(hub='ibm-q-education', group='uni-antioquia-1', project='qc2021')\n",
    "backend = provider.get_backend('ibmq_qasm_simulator') \n",
    "#backend = BasicAer.get_backend('qasm_simulator')\n",
    "job = execute(circuit, backend=backend, shots=2048)\n",
    "job_monitor(job)"
   ]
  },
  {
   "cell_type": "code",
   "execution_count": null,
   "metadata": {
    "id": "W1DvG6mx98DR",
    "outputId": "31d93550-87d4-4939-f865-65a4815c16d6"
   },
   "outputs": [],
   "source": [
    "result = job.result()\n",
    "from qiskit.tools.visualization import plot_histogram, plot_bloch_multivector\n",
    "res = result.get_counts(circuit)\n",
    "print(res)\n",
    "plot_histogram(res)\n",
    "#La aleatoriedad de los números generados depende de la aleatoriedad de la distribución de médida\n",
    "#de cada estado cuántico base, dentro del total de \"shots\" llevados a cabo."
   ]
  },
  {
   "cell_type": "code",
   "execution_count": null,
   "metadata": {
    "id": "9GylA2O498DS",
    "outputId": "6b26cb8c-d820-440c-be46-39754081b912"
   },
   "outputs": [],
   "source": [
    "numbers = []\n",
    "for attr, value in sorted(res.items(), key=lambda item: item[1]):\n",
    "    numQ = 0\n",
    "    i = 0\n",
    "    print(\"value=\",value)\n",
    "    print(\"attr=\",attr)\n",
    "    for ch in attr:\n",
    "        print(\"ch=\",ch)\n",
    "        print(\"i=\", i)\n",
    "        if ch == '1':\n",
    "            numQ += 2**i\n",
    "        i = i + 1\n",
    "    numbers.append(numQ)\n",
    "    print(\"numQ=\",numQ)\n",
    "print(\"numbers=\",numbers)"
   ]
  },
  {
   "cell_type": "code",
   "execution_count": null,
   "metadata": {
    "id": "R3-mFI9e98DU",
    "outputId": "bb9464d5-67de-4736-a574-e462c806642a"
   },
   "outputs": [],
   "source": [
    "provider = IBMQ.get_provider(hub='ibm-q-education', group='uni-antioquia-1', project='qc2021')\n",
    "backend = provider.get_backend('ibm_lagos')\n",
    "job = execute(circuit, backend=backend, shots=100)\n",
    "job_monitor(job)"
   ]
  },
  {
   "cell_type": "code",
   "execution_count": null,
   "metadata": {
    "id": "2A_l3e8i98DV",
    "outputId": "b0d1f36d-d176-489d-c8ef-21ac84d1f9ef"
   },
   "outputs": [],
   "source": [
    "result = job.result()\n",
    "from qiskit.tools.visualization import plot_histogram, plot_bloch_multivector\n",
    "res = result.get_counts(circuit)\n",
    "print(res)\n",
    "plot_histogram(res)"
   ]
  },
  {
   "cell_type": "code",
   "execution_count": null,
   "metadata": {
    "id": "R6N0BM2V98DW",
    "outputId": "a9091e65-4b89-48c0-c646-991ed12c0fa6"
   },
   "outputs": [],
   "source": [
    "numbers = []\n",
    "for attr, value in res.items():\n",
    "    numQ = 0\n",
    "    i = 0\n",
    "    for ch in attr:\n",
    "        if ch == '1':\n",
    "            numQ += 2**i\n",
    "        i = i + 1\n",
    "    numbers.append(numQ)\n",
    "print(\"numbers=\",numbers)"
   ]
  }
 ],
 "metadata": {
  "colab": {
   "name": "Random Number Generation.ipynb",
   "provenance": []
  },
  "kernelspec": {
   "display_name": "Qiskit v0.34.2 (ipykernel)",
   "language": "python",
   "name": "python3"
  },
  "language_info": {
   "codemirror_mode": {
    "name": "ipython",
    "version": 3
   },
   "file_extension": ".py",
   "mimetype": "text/x-python",
   "name": "python",
   "nbconvert_exporter": "python",
   "pygments_lexer": "ipython3",
   "version": "3.8.12"
  },
  "widgets": {
   "application/vnd.jupyter.widget-state+json": {
    "state": {},
    "version_major": 2,
    "version_minor": 0
   }
  }
 },
 "nbformat": 4,
 "nbformat_minor": 4
}
