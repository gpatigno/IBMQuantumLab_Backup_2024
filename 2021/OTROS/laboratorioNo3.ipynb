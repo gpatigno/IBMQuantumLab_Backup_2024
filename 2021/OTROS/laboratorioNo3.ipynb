{
 "cells": [
  {
   "cell_type": "code",
   "execution_count": 1,
   "metadata": {},
   "outputs": [],
   "source": [
    "import sys\n",
    "import numpy as np\n",
    "import math\n",
    "from qiskit import QuantumCircuit, QuantumRegister, ClassicalRegister, execute, BasicAer, IBMQ\n",
    "from qiskit.visualization import plot_histogram\n",
    "from qiskit.extensions import Initialize"
   ]
  },
  {
   "cell_type": "code",
   "execution_count": 2,
   "metadata": {},
   "outputs": [],
   "source": [
    "#Arias\n",
    "PIGEON_ALPHA_D =  \"ATGCTGACCGACTCTGACAAGAAGCTGGTCCTGCAGGTGTGGGAGAAGGTGATCCGCCACCCAGACTGTGGAGCCGAGGCCCTGGAGAGGCTGTTCACCACCTACCCCCAGACCAAGACCTACTTCCCCCACTTCGACTTGCACCATGGCTCCGACCAGGTCCGCAACCACGGCAAGAAGGTGTTGGCCGCCTTGGGCAACGCTGTCAAGAGCCTGGGCAACCTCAGCCAAGCCCTGTCTGACCTCAGCGACCTGCATGCCTACAACCTGCGTGTCGACCCTGTCAACTTCAAGCTGCTGGCGCAGTGCTTCCACGTGGTGCTGGCCACACACCTGGGCAACGACTACACCCCGGAGGCACATGCTGCCTTCGACAAGTTCCTGTCGGCTGTGTGCACCGTGCTGGCCGAGAAGTACAGATAA\"\n",
    "DUCK_ALPHA_D =    \"ATGCTGACCGCCGAGGACAAGAAGCTCATCGTGCAGGTGTGGGAGAAGGTGGCTGGCCACCAGGAGGAATTCGGAAGTGAAGCTCTGCAGAGGATGTTCCTCGCCTACCCCCAGACCAAGACCTACTTCCCCCACTTCGACCTGCATCCCGGCTCTGAACAGGTCCGTGGCCATGGCAAGAAAGTGGCGGCTGCCCTGGGCAATGCCGTGAAGAGCCTGGACAACCTCAGCCAGGCCCTGTCTGAGCTCAGCAACCTGCATGCCTACAACCTGCGTGTTGACCCTGTCAACTTCAAGCTGCTGGCACAGTGCTTCCAGGTGGTGCTGGCCGCACACCTGGGCAAAGACTACAGCCCCGAGATGCATGCTGCCTTTGACAAGTTCTTGTCCGCCGTGGCTGCCGTGCTGGCTGAAAAGTACAGATGA\" \n",
    "CHICKEN_ALPHA_D = \"ATGCTGACTGCCGAGGACAAGAAGCTCATCCAGCAGGCCTGGGAGAGGGCCGCTTCCCACCAGGAGGAGTTTGGAGCTGAGGCTCTGACTAGGATGTTCACCACCTATCCCCAGACCAAGACCTACTTCCCCCACTTCGACCTTTCGCCTGGCTCTGACCAGGTCCGTGGCCATGGCAAGAAGGTGTTGGGTGCCCTGGGCAACGCCGTGAAGAACGTGGACAACCTCAGCCAGGCCATGGCTGAGCTGAGCAACCTGCATGCCTACAACCTGCGTGTTGACCCCGTCAATTTCAAGCTGTTGTCGCAGTGCATCCAGGTGGTGCTGGCTGTACACATGGGCAAAGACTACACCCCTGAAGTGCATGCTGCCTTCGACAAGTTCCTGTCTGCCGTGTCTGCTGTGCTGGCTGAGAAGTACAGATAA\"\n",
    "#Tangarife\n",
    "HORSE_ALPHA_2 = \"ATGGTGCTGTCTGCCGCCGACAAGACCAACGTCAAGGCCGCCTGGAGTAAGGTTGGCGGCCACGCTGGCGAGTATGGCGCAGAGGCCCTAGAGAGGATGTTCCTGGGCTTCCCCACCACCAAGACCTACTTCCCCCACTTCGATCTGAGCCACGGCTCCGCCCAGGTCAAGGCCCACGGCCAGAAGGTGGGCGACGCGCTGACTCTCGCCGTGGGCCACCTGGACGACCTGCCTGGCGCCCTGTCGAATCTGAGCGACCTGCACGCACACAAGCTGCGCGTGGACCCCGTCAACTTCAAGCTCCTGAGTCATTGCCTGCTGTCCACCTTGGCCGTCCACCTCCCCAACGATTTCACCCCTGCCGTCCACGCCTCCCTGGACAAGTTCTTGAGCAGTGTGAGCACCGTGCTGACCTCCAAATACCGTTAA\"\n",
    "DUCK_ALPHA_D =  \"ATGCTGACCGCCGAGGACAAGAAGCTCATCGTGCAGGTGTGGGAGAAGGTGGCTGGCCACCAGGAGGAATTCGGAAGTGAAGCTCTGCAGAGGATGTTCCTCGCCTACCCCCAGACCAAGACCTACTTCCCCCACTTCGACCTGCATCCCGGCTCTGAACAGGTCCGTGGCCATGGCAAGAAAGTGGCGGCTGCCCTGGGCAATGCCGTGAAGAGCCTGGACAACCTCAGCCAGGCCCTGTCTGAGCTCAGCAACCTGCATGCCTACAACCTGCGTGTTGACCCTGTCAACTTCAAGCTGCTGGCACAGTGCTTCCAGGTGGTGCTGGCCGCACACCTGGGCAAAGACTACAGCCCCGAGATGCATGCTGCCTTTGACAAGTTCTTGTCCGCCGTGGCTGCCGTGCTGGCTGAAAAGTACAGATGA\"\n",
    "GOAT_ALPHA_II = \"ATGGTGCTGTCTGCCGCCGACAAGTCCAATGTCAAGGCCGCCTGGGGCAAGGTTGGCAGCAACGCTGGAGCTTATGGCGCAGAGGCTCTGGAGAGGATGTTCCTGAGCTTCCCCACCACCAAGACCTACTTCCCCCACTTCGACCTGAGCCACGGCTCGGCCCAGGTCAAGGGCCACGGCGAGAAGGTGGCCGCCGCGCTGACCAAAGCGGTGGGCCACCTGGACGACCTGCCCGGTACTCTGTCTGATCTGAGTGACCTGCACGCCCACAAGCTGCGTGTGGACCCGGTCAACTTTAAGCTTCTGAGCCACTCCCTGCTGGTGACCCTGGCCTGCCACCACCCCAGTGATTTCACCCCCGCGGTCCACGCCTCCCTGGACAAGTTCTTGGCCAACGTGAGCACCGTGCTGACCTCCAAATACCGTTAA\" "
   ]
  },
  {
   "cell_type": "code",
   "execution_count": 3,
   "metadata": {},
   "outputs": [],
   "source": [
    "## crear la superpocisión cuántica de las secuencias genéticas\n",
    "def encode_bitstring(bitstring, qr, cr, inverse=False):\n",
    "    # El 2 representan la cantidad de qubit para el contenido de la secuencia\n",
    "    n = math.ceil(math.log2(len(bitstring))) + 2 \n",
    "    assert n > 3, \"La longitud de la secuencia debe ser al menos 2\"\n",
    "        \n",
    "    qc = QuantumCircuit(qr, cr)\n",
    "    qc_init = QuantumCircuit(n)\n",
    "    # Inicializar el vector deseado con ceros\n",
    "    desired_vector = np.array([0.0 for i in range(2**n)])\n",
    "    amplitude = np.sqrt(1.0/len(bitstring))\n",
    "    \n",
    "    for i, b in enumerate(bitstring):\n",
    "        pos = i * 4\n",
    "        # 00 => A , 01 => T, 10 => G, 11 => C\n",
    "        if b == \"T\":\n",
    "            pos += 1\n",
    "        elif b == \"G\":\n",
    "            pos += 2\n",
    "        elif b == \"C\":\n",
    "            pos += 3\n",
    "        desired_vector[pos] = amplitude\n",
    "    qc_init = Initialize(desired_vector)\n",
    "    if not inverse:\n",
    "        qc.append(qc_init, qr)\n",
    "        qc.barrier(qr)\n",
    "    else:\n",
    "        qc.append(qc_init.gates_to_uncompute(), qr)\n",
    "        qc.barrier(qr)\n",
    "        for i in range(n):\n",
    "            qc.measure(qr[i], cr[i])\n",
    "    return qc"
   ]
  },
  {
   "cell_type": "markdown",
   "metadata": {},
   "source": [
    "# Secuencias genéticas correspondientes a Arias"
   ]
  },
  {
   "cell_type": "code",
   "execution_count": 4,
   "metadata": {},
   "outputs": [],
   "source": [
    "## Crear circuitos cuánticos para los estados cuanticos para las secuencias genéticas\n",
    "ns = math.ceil(math.log2(len(PIGEON_ALPHA_D))) + 2\n",
    "qr = QuantumRegister(ns)\n",
    "cr = ClassicalRegister(ns)\n",
    "\n",
    "qc_pigeon_alpha_d= encode_bitstring(PIGEON_ALPHA_D, qr, cr)\n",
    "qc_duck_alpha_d = encode_bitstring(DUCK_ALPHA_D, qr, cr)\n",
    "qc_chicken_alpha_d = encode_bitstring(CHICKEN_ALPHA_D, qr, cr)\n",
    "\n",
    "circuitos = {\"PIGEON_ALPHA_D\": qc_pigeon_alpha_d, \"DUCK_ALPHA_D\": qc_duck_alpha_d, \"CHICKEN_ALPHA_D\": qc_chicken_alpha_d}"
   ]
  },
  {
   "cell_type": "code",
   "execution_count": 5,
   "metadata": {},
   "outputs": [],
   "source": [
    "## Inversión de los circuitos cuánticos\n",
    "inv_qc_pigeon_alpha_d = encode_bitstring(PIGEON_ALPHA_D, qr, cr, inverse=True)\n",
    "inv_qc_duck_alpha_d = encode_bitstring(DUCK_ALPHA_D, qr, cr, inverse=True)\n",
    "inv_qc_chicken_alpha_d = encode_bitstring(CHICKEN_ALPHA_D, qr, cr, inverse=True)\n",
    "\n",
    "inv_circuitos = {\"PIGEON_ALPHA_D\": inv_qc_pigeon_alpha_d, \"DUCK_ALPHA_D\": inv_qc_duck_alpha_d, \"CHICKEN_ALPHA_D\": inv_qc_chicken_alpha_d}"
   ]
  },
  {
   "cell_type": "code",
   "execution_count": 6,
   "metadata": {},
   "outputs": [
    {
     "name": "stdout",
     "output_type": "stream",
     "text": [
      "La similitud de la secuencia  CHICKEN_ALPHA_D  y  PIGEON_ALPHA_D  es  0.112548828125\n",
      "La similitud de la secuencia  CHICKEN_ALPHA_D  y  DUCK_ALPHA_D  es  0.745849609375\n",
      "RESPUESTA =>  CHICKEN_ALPHA_D  es más similar a  DUCK_ALPHA_D\n"
     ]
    }
   ],
   "source": [
    "## Comparar que tanta similitud tienen los códigos genéticos\n",
    "\n",
    "key = \"CHICKEN_ALPHA_D\"\n",
    "\n",
    "backend = BasicAer.get_backend(\"qasm_simulator\")\n",
    "shots=8192\n",
    "combined_circs = {}\n",
    "count = {}\n",
    "\n",
    "most_similar, most_similar_score = \"\", -1.0\n",
    "\n",
    "for other_key in inv_circuitos:\n",
    "    if other_key == key:\n",
    "        continue\n",
    "    combined_circs[other_key] = circuitos[key] + inv_circuitos[other_key]\n",
    "    job = execute(combined_circs[other_key], backend = backend, shots=shots)\n",
    "    st = job.result().get_counts(combined_circs[other_key])\n",
    "    if \"0\"*ns in st:\n",
    "        sim_score = st[\"0\"*ns]/shots\n",
    "    else:\n",
    "        sim_score = 0.0\n",
    "    print(\"La similitud de la secuencia \", key, \" y \", other_key, \" es \", sim_score )\n",
    "    if most_similar_score < sim_score:\n",
    "        most_similar, most_similar_score = other_key, sim_score\n",
    "        \n",
    "print(\"RESPUESTA => \", key,\" es más similar a \", most_similar)\n"
   ]
  },
  {
   "cell_type": "markdown",
   "metadata": {},
   "source": [
    "# Secuencias genéticas correspondientes a Tangarife"
   ]
  },
  {
   "cell_type": "code",
   "execution_count": null,
   "metadata": {},
   "outputs": [],
   "source": [
    "## Crear circuitos cuánticos para los estados cuanticos para las secuencias genéticas\n",
    "ns = math.ceil(math.log2(len(HORSE_ALPHA_2))) + 2\n",
    "qr = QuantumRegister(ns)\n",
    "cr = ClassicalRegister(ns)\n",
    "\n",
    "qc_horse_alpha_2= encode_bitstring(HORSE_ALPHA_2, qr, cr)\n",
    "qc_duck_alpha_d = encode_bitstring(DUCK_ALPHA_D, qr, cr)\n",
    "qc_goat_alpha_II = encode_bitstring(GOAT_ALPHA_II, qr, cr)\n",
    "\n",
    "circuitos = {\"HORSE_ALPHA_2\": qc_horse_alpha_2, \"DUCK_ALPHA_D\": qc_duck_alpha_d, \"GOAT_ALPHA_II\": qc_goat_alpha_II}"
   ]
  },
  {
   "cell_type": "code",
   "execution_count": null,
   "metadata": {},
   "outputs": [],
   "source": [
    "## Inversión de los circuitos cuánticos\n",
    "inv_qc_horse_alpha_2= encode_bitstring(HORSE_ALPHA_2, qr, cr, inverse = True)\n",
    "inv_qc_duck_alpha_d = encode_bitstring(DUCK_ALPHA_D, qr, cr, inverse = True)\n",
    "inv_qc_goat_alpha_II = encode_bitstring(GOAT_ALPHA_II, qr, cr, inverse = True)\n",
    "\n",
    "inv_circuitos = {\"HORSE_ALPHA_2\": inv_qc_horse_alpha_2, \"DUCK_ALPHA_D\": inv_qc_duck_alpha_d, \"GOAT_ALPHA_II\": inv_qc_goat_alpha_II}"
   ]
  },
  {
   "cell_type": "code",
   "execution_count": null,
   "metadata": {},
   "outputs": [],
   "source": [
    "## Comparar que tanta similitud tienen los códigos genéticos\n",
    "\n",
    "key = \"GOAT_ALPHA_II\"\n",
    "\n",
    "backend = BasicAer.get_backend(\"qasm_simulator\")\n",
    "shots=8192\n",
    "combined_circs = {}\n",
    "count = {}\n",
    "\n",
    "most_similar, most_similar_score = \"\", -1.0\n",
    "\n",
    "for other_key in inv_circuitos:\n",
    "    if other_key == key:\n",
    "        continue\n",
    "    combined_circs[other_key] = circuitos[key] + inv_circuitos[other_key]\n",
    "    job = execute(combined_circs[other_key], backend = backend, shots=shots)\n",
    "    st = job.result().get_counts(combined_circs[other_key])\n",
    "    if \"0\"*ns in st:\n",
    "        sim_score = st[\"0\"*ns]/shots\n",
    "    else:\n",
    "        sim_score = 0.0\n",
    "    print(\"La similitud de la secuencia \", key, \" y \", other_key, \" es \", sim_score )\n",
    "    if most_similar_score < sim_score:\n",
    "        most_similar, most_similar_score = other_key, sim_score\n",
    "        \n",
    "print(\"RESPUESTA => \", key,\" es más similar a \", most_similar)"
   ]
  }
 ],
 "metadata": {
  "kernelspec": {
   "display_name": "Python 3",
   "language": "python",
   "name": "python3"
  },
  "language_info": {
   "codemirror_mode": {
    "name": "ipython",
    "version": 3
   },
   "file_extension": ".py",
   "mimetype": "text/x-python",
   "name": "python",
   "nbconvert_exporter": "python",
   "pygments_lexer": "ipython3",
   "version": "3.7.8"
  }
 },
 "nbformat": 4,
 "nbformat_minor": 4
}
