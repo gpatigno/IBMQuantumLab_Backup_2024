{
 "cells": [
  {
   "cell_type": "code",
   "execution_count": 1,
   "metadata": {},
   "outputs": [],
   "source": [
    "import sys\n",
    "import numpy as np\n",
    "import math\n",
    "\n",
    "from qiskit import QuantumCircuit, QuantumRegister, ClassicalRegister, execute, BasicAer, IBMQ\n",
    "from qiskit.visualization import plot_histogram, plot_bloch_multivector\n",
    "\n",
    "from qiskit.extensions import Initialize\n",
    "from qiskit import IBMQ, BasicAer"
   ]
  },
  {
   "cell_type": "code",
   "execution_count": 2,
   "metadata": {},
   "outputs": [],
   "source": [
    "YEAST     = \"----------------------------------MM----------------------------\"\n",
    "PROTOZOAN = \"--MM---------------M------------MMMM---------------M------------\"\n",
    "BACTERIAL = \"---M---------------M------------MMMM---------------M------------\"\n",
    "\n",
    "\n",
    "#secuencia Stiven Duque\n",
    "Alpha_i_Goat = ( \"ATGGTGCTGTCTGCCGCCGACAAGTCCAATGTCAAGGCCGCCTGGGGCAAGGTTGGCGGC\"\\\n",
    "                 \"AACGCTGGAGCTTATGGCGCAGAGGCTCTGGAGAGGATGTTCCTGAGCTTCCCCACCACC\"\\\n",
    "                 \"AAGACCTACTTCCCCCACTTCGACCTGAGCCACGGCTCGGCCCAGGTCAAGGGCCACGGC\"\\\n",
    "                 \"GAGAAGGTGGCCGCCGCGCTGACCAAAGCGGTGGGCCACCTGGACGACCTGCCCGGTACT\"\\\n",
    "                 \"CTGTCTGATCTGAGTGACCTGCACGCCCACAAGCTGCGTGTGGACCCGGTCAACTTTAAG\"\\\n",
    "                 \"CTTCTGAGCCACTCCCTGCTGGTGACCCTGGCCTGCCACCTCCCCAATGATTTCACCCCC\"\\\n",
    "                 \"GCGGTCCACGCCTCCCTGGACAAGTTCTTGGCCAACGTGAGCACCGTGCTGACCTCCAAA\"\\\n",
    "                 \"TACCGTTAA\")\n",
    "\n",
    "Alpha_1_Horse =( \"ATGGTGCTGTCTGCCGCCGACAAGACCAACGTCAAGGCCGCCTGGAGTAAGGTTGGCGGC\"\\\n",
    "                \"CACGCTGGCGAGTTTGGCGCAGAGGCCCTAGAGAGGATGTTCCTGGGCTTCCCCACCACC\"\\\n",
    "                \"AAGACCTACTTCCCCCACTTCGATCTGAGCCACGGCTCCGCCCAGGTCAAGGCCCACGGC\"\\\n",
    "                \"AAGAAGGTGGGCGACGCGCTGACTCTCGCCGTGGGCCACCTGGACGACCTGCCTGGCGCC\"\\\n",
    "                \"CTGTCGAATCTGAGCGACCTGCACGCACACAAGCTGCGCGTGGACCCCGTCAACTTCAAG\"\\\n",
    "                \"CTTCTGAGTCATTGCCTGCTGTCCACCTTGGCCGTCCACCTCCCCAACGATTTCACCCCT\"\\\n",
    "                \"GCCGTCCACGCCTCCCTGGACAAGTTCTTGAGCAGTGTGAGCACCGTGCTGACCTCCAAA\"\\\n",
    "                \"TACCGTTAA\")\n",
    "\n",
    "Alpha_A_Duck = (\"ATGGTGCTGTCTGCGGCTGACAAGACCAACGTCAAGGGTGTCTTCTCCAAAATCGGTGGC\"\\\n",
    "                \"CATGCTGAGGAGTATGGCGCCGAGACCCTGGAGAGGATGTTCATCGCCTACCCCCAGACC\"\\\n",
    "                \"AAGACCTACTTCCCCCACTTTGACCTGCAGCACGGCTCTGCTCAGATCAAGGCCCATGGC\"\\\n",
    "                \"AAGAAGGTGGCGGCTGCCCTAGTTGAAGCTGTCAACCACATCGATGACATTGCGGGTGCT\"\\\n",
    "                \"CTCTCCAAGCTCAGTGACCTCCACGCCCAAAAGCTCCGTGTGGACCCTGTCAACTTCAAA\"\\\n",
    "                \"TTCCTGGGCCACTGCTTCCTGGTGGTGGTTGCCATCCACCACCCCGCTGCCCTGACCCCA\"\\\n",
    "                \"GAGGTCCACGCTTCCCTGGACAAGTTCATGTGCGCCGTGGGTGCTGTGCTGACTGCCAAG\"\\\n",
    "                \"TACCGTTAG\")\n",
    "\n",
    "\n",
    "\n",
    "#secuencia Laura Saldarriaga\n",
    "Alpha_ii_Goat = (\"ATGGTGCTGTCTGCCGCCGACAAGTCCAATGTCAAGGCCGCCTGGGGCAAGGTTGGCAGC\"\\\n",
    "                \"AACGCTGGAGCTTATGGCGCAGAGGCTCTGGAGAGGATGTTCCTGAGCTTCCCCACCACC\"\\\n",
    "                \"AAGACCTACTTCCCCCACTTCGACCTGAGCCACGGCTCGGCCCAGGTCAAGGGCCACGGC\"\\\n",
    "                \"GAGAAGGTGGCCGCCGCGCTGACCAAAGCGGTGGGCCACCTGGACGACCTGCCCGGTACT\"\\\n",
    "                \"CTGTCTGATCTGAGTGACCTGCACGCCCACAAGCTGCGTGTGGACCCGGTCAACTTTAAG\"\\\n",
    "                \"CTTCTGAGCCACTCCCTGCTGGTGACCCTGGCCTGCCACCACCCCAGTGATTTCACCCCC\"\\\n",
    "                \"GCGGTCCACGCCTCCCTGGACAAGTTCTTGGCCAACGTGAGCACCGTGCTGACCTCCAAA\"\\\n",
    "                \"TACCGTTAA\")\n",
    "\n",
    "Alpha_2_Horse = (\"ATGGTGCTGTCTGCCGCCGACAAGACCAACGTCAAGGCCGCCTGGAGTAAGGTTGGCGGC\"\\\n",
    "                \"CACGCTGGCGAGTATGGCGCAGAGGCCCTAGAGAGGATGTTCCTGGGCTTCCCCACCACC\"\\\n",
    "                \"AAGACCTACTTCCCCCACTTCGATCTGAGCCACGGCTCCGCCCAGGTCAAGGCCCACGGC\"\\\n",
    "                \"CAGAAGGTGGGCGACGCGCTGACTCTCGCCGTGGGCCACCTGGACGACCTGCCTGGCGCC\"\\\n",
    "                \"CTGTCGAATCTGAGCGACCTGCACGCACACAAGCTGCGCGTGGACCCCGTCAACTTCAAG\"\\\n",
    "                \"CTCCTGAGTCATTGCCTGCTGTCCACCTTGGCCGTCCACCTCCCCAACGATTTCACCCCT\"\\\n",
    "                \"GCCGTCCACGCCTCCCTGGACAAGTTCTTGAGCAGTGTGAGCACCGTGCTGACCTCCAAA\"\\\n",
    "                \"TACCGTTAA\")\n",
    "\n",
    "Alpha_D_Duck = (\"ATGCTGACCGCCGAGGACAAGAAGCTCATCGTGCAGGTGTGGGAGAAGGTGGCTGGCCAC\"\\\n",
    "                \"CAGGAGGAATTCGGAAGTGAAGCTCTGCAGAGGATGTTCCTCGCCTACCCCCAGACCAAG\"\\\n",
    "                \"ACCTACTTCCCCCACTTCGACCTGCATCCCGGCTCTGAACAGGTCCGTGGCCATGGCAAG\"\\\n",
    "                \"AAAGTGGCGGCTGCCCTGGGCAATGCCGTGAAGAGCCTGGACAACCTCAGCCAGGCCCTG\"\\\n",
    "                \"TCTGAGCTCAGCAACCTGCATGCCTACAACCTGCGTGTTGACCCTGTCAACTTCAAGCTG\"\\\n",
    "                \"CTGGCACAGTGCTTCCAGGTGGTGCTGGCCGCACACCTGGGCAAAGACTACAGCCCCGAG\"\\\n",
    "                \"ATGCATGCTGCCTTTGACAAGTTCTTGTCCGCCGTGGCTGCCGTGCTGGCTGAAAAGTAC\"\\\n",
    "                \"AGATGA\")"
   ]
  },
  {
   "cell_type": "code",
   "execution_count": 3,
   "metadata": {},
   "outputs": [],
   "source": [
    "#Concatenando un caracter constante para obtener la longitud de la secuencias en potencia de 2\n",
    "n = math.ceil(math.log2(len(Alpha_i_Goat)))\n",
    "Alpha_i_Goat = Alpha_i_Goat + (\"@\"*(2**n-len(Alpha_i_Goat)))\n",
    "\n",
    "n = math.ceil(math.log2(len(Alpha_1_Horse)))\n",
    "Alpha_1_Horse = Alpha_1_Horse + (\"@\"*(2**n-len(Alpha_1_Horse)))\n",
    "\n",
    "n = math.ceil(math.log2(len(Alpha_A_Duck)))\n",
    "Alpha_A_Duck = Alpha_A_Duck + (\"@\"*(2**n-len(Alpha_A_Duck)))\n",
    "\n",
    "\n",
    "n = math.ceil(math.log2(len(Alpha_ii_Goat)))\n",
    "Alpha_ii_Goat = Alpha_ii_Goat + (\"@\"*(2**n-len(Alpha_ii_Goat)))\n",
    "\n",
    "n = math.ceil(math.log2(len(Alpha_2_Horse)))\n",
    "Alpha_2_Horse = Alpha_2_Horse + (\"@\"*(2**n-len(Alpha_2_Horse)))\n",
    "\n",
    "n = math.ceil(math.log2(len(Alpha_D_Duck)))\n",
    "Alpha_D_Duck = Alpha_D_Duck + (\"@\"*(2**n-len(Alpha_D_Duck)))"
   ]
  },
  {
   "cell_type": "code",
   "execution_count": 4,
   "metadata": {
    "scrolled": true
   },
   "outputs": [],
   "source": [
    "def comparison(sec1,name1, sec2,name2, sec3, name3):\n",
    "    count, count1 = 0,0\n",
    "    for i in range(len(sec1)):\n",
    "        if sec1[i] != sec2[i]:\n",
    "            count +=1\n",
    "        if sec1[i] != sec3[i]:\n",
    "            count1 +=1\n",
    "    \n",
    "    \n",
    "    print(\"Similarity score of\",name1,\"and\",name2,\"is\", (len(sec1)-count)/len(sec1))\n",
    "    print(\"Similarity score of\",name1,\"and\",name3,\"is\", (len(sec1)-count1)/len(sec1))"
   ]
  },
  {
   "cell_type": "code",
   "execution_count": 5,
   "metadata": {},
   "outputs": [],
   "source": [
    "def encode_bitstring(bitstring, char, qr, cr, inverse=False):\n",
    "    \"\"\"\n",
    "    create a circuit for constructing the quantum superposition of the bitstring\n",
    "    \"\"\"\n",
    "    \n",
    "    n = math.ceil(math.log2(len(bitstring))) + char             #number of qubits\n",
    "    assert n > 2, \"the length of bitstring must be at least 2\"\n",
    "    \n",
    "    qc = QuantumCircuit(qr, cr)\n",
    "    \n",
    "    #the probability amplitude of the desired state\n",
    "    desired_vector = np.array([ 0.0 for i in range(2**n) ])     #initialize to zero\n",
    "\n",
    "################################################################################################################    \n",
    " #         Cambio requerido en el código para corregir error presentado   #\n",
    "    \n",
    "    qc_init = QuantumCircuit(n) # Creación de compuertas circuitales para inicialización\n",
    "    inverse_qc_init = QuantumCircuit(n) # Creación de compuertas circuitales para inversión de la inicialización\n",
    "\n",
    "################################################################################################################\n",
    "\n",
    "    amplitude = np.sqrt(1.0/2**(n - char))\n",
    "    for i, b in enumerate(bitstring):\n",
    "        pos = i * char * 2\n",
    "        if b== \"1\" or  b == \"M\":\n",
    "            pos += 1\n",
    "            \n",
    "            \n",
    "        if b == \"01\" or b == \"C\":\n",
    "            pos += 2\n",
    "        if b == \"10\" or b == \"G\":\n",
    "            pos += 2\n",
    "        if b == \"11\" or b == \"T\":\n",
    "            pos += 2\n",
    "        desired_vector[pos] = amplitude\n",
    "    \n",
    "\n",
    "################################################################################################################    \n",
    " #         Cambio requerido en el código para corregir error presentado   #\n",
    "\n",
    "    qc_init = Initialize(desired_vector)\n",
    "    \n",
    " ################################################################################################################       \n",
    "    \n",
    "    if not inverse:\n",
    "#         qc.initialize(desired_vector, qr)\n",
    "\n",
    "        qc.append(qc_init, qr)  #  Cambio requerido en el código para corregir error presentado   #\n",
    "    \n",
    "        qc.barrier(qr)\n",
    "        \n",
    "    else:\n",
    "#         qc.initialize(desired_vector, qr).inverse()  #invert the circuit\n",
    "\n",
    "        inverse_qc_init = qc_init.gates_to_uncompute()  # Cambio requerido en el código para corregir error presentado   #\n",
    "        qc.append(inverse_qc_init, qr)  # Cambio requerido en el código para corregir error presentado   #\n",
    "        \n",
    "        qc.barrier(qr)\n",
    "        for i in range(n):\n",
    "            qc.measure(qr[i], cr[i])\n",
    "    return qc"
   ]
  },
  {
   "cell_type": "code",
   "execution_count": 6,
   "metadata": {},
   "outputs": [],
   "source": [
    "def execute_comparison(secuencia_1, secuencia_name_1, secuencia_2, secuencia_name_2, secuencia_3, secuencia_name_3, key, numSim, backend_simulator, shots):\n",
    "   \n",
    "    #codificación de cadena \n",
    "    char = int(math.log2(numSim))\n",
    "    n = math.ceil(math.log2(len(secuencia_1))) + char             #number of qubits\n",
    "    qr = QuantumRegister(n)\n",
    "    cr = ClassicalRegister(n)\n",
    "\n",
    "    qc_secuencia_1 = encode_bitstring(secuencia_1, char, qr, cr)\n",
    "    qc_secuencia_2 = encode_bitstring(secuencia_2, char, qr, cr)\n",
    "    qc_secuencia_3 = encode_bitstring(secuencia_3, char, qr, cr)\n",
    "\n",
    "    circs = {secuencia_name_1: qc_secuencia_1, secuencia_name_2: qc_secuencia_2, secuencia_name_3: qc_secuencia_3}\n",
    "    \n",
    "    #codificación de cadena inversa\n",
    "    inverse_qc_secuencia_1 = encode_bitstring(secuencia_1, char, qr, cr, inverse=True)\n",
    "    inverse_qc_secuencia_2 = encode_bitstring(secuencia_2, char, qr, cr, inverse=True)\n",
    "    inverse_qc_secuencia_3 = encode_bitstring(secuencia_3, char, qr, cr, inverse=True)\n",
    "\n",
    "    inverse_circs = {secuencia_name_1: inverse_qc_secuencia_1, secuencia_name_2: inverse_qc_secuencia_2, secuencia_name_3: inverse_qc_secuencia_3}\n",
    "    \n",
    "    #comparación\n",
    "\n",
    "    # use local simulator\n",
    "    backend = BasicAer.get_backend(backend_simulator)\n",
    "\n",
    "    combined_circs = {}\n",
    "    count = {}\n",
    "\n",
    "    most_similar, most_similar_score = \"\", -1.0\n",
    "\n",
    "    for other_key in inverse_circs:\n",
    "        if other_key == key:\n",
    "            continue\n",
    "\n",
    "        combined_circs[other_key] = circs[key] + inverse_circs[other_key]   #combined circuits to look for similar codes\n",
    "        job = execute(combined_circs[other_key], backend=backend,shots=shots)\n",
    "        st = job.result().get_counts(combined_circs[other_key])\n",
    "        if \"0\"*n in st:\n",
    "            sim_score = st[\"0\"*n]/shots\n",
    "        else:\n",
    "            sim_score = 0.0\n",
    "\n",
    "        print(\"Similarity score of\",key,\"and\",other_key,\"is\",sim_score)\n",
    "        if most_similar_score < sim_score:\n",
    "            most_similar, most_similar_score = other_key, sim_score\n",
    "\n",
    "    print(\"[ANSWER]\", key,\"is most similar to\", most_similar)"
   ]
  },
  {
   "cell_type": "markdown",
   "metadata": {},
   "source": [
    "***\n",
    "### Comparación de las secuencias del ejemplo"
   ]
  },
  {
   "cell_type": "code",
   "execution_count": 7,
   "metadata": {},
   "outputs": [
    {
     "name": "stdout",
     "output_type": "stream",
     "text": [
      "Similarity score of YEAST and PROTOZOAN is 0.81744384765625\n",
      "Similarity score of YEAST and BACTERIAL is 0.8475341796875\n",
      "[ANSWER] YEAST is most similar to BACTERIAL\n"
     ]
    }
   ],
   "source": [
    "execute_comparison(YEAST,\"YEAST\",PROTOZOAN,\"PROTOZOAN\",BACTERIAL, \"BACTERIAL\", \"YEAST\", 2,\"qasm_simulator\", 2**14)"
   ]
  },
  {
   "cell_type": "code",
   "execution_count": 8,
   "metadata": {},
   "outputs": [
    {
     "name": "stdout",
     "output_type": "stream",
     "text": [
      "Similarity score of PROTOZOAN and YEAST is 0.81744384765625\n",
      "Similarity score of PROTOZOAN and BACTERIAL is 0.96783447265625\n",
      "[ANSWER] PROTOZOAN is most similar to BACTERIAL\n"
     ]
    }
   ],
   "source": [
    "execute_comparison(YEAST,\"YEAST\",PROTOZOAN,\"PROTOZOAN\",BACTERIAL, \"BACTERIAL\", \"PROTOZOAN\", 2,\"qasm_simulator\", 2**14)"
   ]
  },
  {
   "cell_type": "code",
   "execution_count": 9,
   "metadata": {
    "scrolled": true
   },
   "outputs": [
    {
     "name": "stdout",
     "output_type": "stream",
     "text": [
      "Similarity score of BACTERIAL and YEAST is 0.8475341796875\n",
      "Similarity score of BACTERIAL and PROTOZOAN is 0.96783447265625\n",
      "[ANSWER] BACTERIAL is most similar to PROTOZOAN\n"
     ]
    }
   ],
   "source": [
    "execute_comparison(YEAST,\"YEAST\",PROTOZOAN,\"PROTOZOAN\",BACTERIAL, \"BACTERIAL\", \"BACTERIAL\", 2,\"qasm_simulator\", 2**14)"
   ]
  },
  {
   "cell_type": "markdown",
   "metadata": {},
   "source": [
    "***\n",
    "### Comparación de las secuencias Stiven Duque "
   ]
  },
  {
   "cell_type": "markdown",
   "metadata": {},
   "source": [
    "##### Clásico"
   ]
  },
  {
   "cell_type": "code",
   "execution_count": 10,
   "metadata": {},
   "outputs": [
    {
     "name": "stdout",
     "output_type": "stream",
     "text": [
      "Similarity score of GOAT and HORSE is 0.90234375\n",
      "Similarity score of GOAT and DUCK is 0.787109375\n"
     ]
    }
   ],
   "source": [
    "comparison(Alpha_i_Goat,\"GOAT\", Alpha_1_Horse,\"HORSE\",Alpha_A_Duck, \"DUCK\")"
   ]
  },
  {
   "cell_type": "markdown",
   "metadata": {},
   "source": [
    "#### Cuántico"
   ]
  },
  {
   "cell_type": "code",
   "execution_count": 11,
   "metadata": {
    "scrolled": true
   },
   "outputs": [
    {
     "name": "stdout",
     "output_type": "stream",
     "text": [
      "Similarity score of GOAT and HORSE is 0.92889404296875\n",
      "Similarity score of GOAT and DUCK is 0.82891845703125\n",
      "[ANSWER] GOAT is most similar to HORSE\n"
     ]
    }
   ],
   "source": [
    "execute_comparison(Alpha_i_Goat,\"GOAT\",Alpha_1_Horse,\"HORSE\",Alpha_A_Duck, \"DUCK\", \"GOAT\", 4,\"qasm_simulator\", 2**14)"
   ]
  },
  {
   "cell_type": "markdown",
   "metadata": {},
   "source": [
    "#### Clásico"
   ]
  },
  {
   "cell_type": "code",
   "execution_count": 12,
   "metadata": {},
   "outputs": [
    {
     "name": "stdout",
     "output_type": "stream",
     "text": [
      "Similarity score of HORSE and GOAT is 0.90234375\n",
      "Similarity score of HORSE and DUCK is 0.77734375\n"
     ]
    }
   ],
   "source": [
    "comparison(Alpha_1_Horse,\"HORSE\",Alpha_i_Goat,\"GOAT\",Alpha_A_Duck,\"DUCK\")"
   ]
  },
  {
   "cell_type": "markdown",
   "metadata": {},
   "source": [
    "#### Cuántico"
   ]
  },
  {
   "cell_type": "code",
   "execution_count": null,
   "metadata": {},
   "outputs": [],
   "source": [
    "execute_comparison(Alpha_i_Goat,\"GOAT\",Alpha_1_Horse,\"HORSE\",Alpha_A_Duck, \"DUCK\", \"HORSE\", 4, \"qasm_simulator\", 2**14)"
   ]
  },
  {
   "cell_type": "markdown",
   "metadata": {},
   "source": [
    "#### Clásico"
   ]
  },
  {
   "cell_type": "code",
   "execution_count": null,
   "metadata": {},
   "outputs": [],
   "source": [
    "comparison(Alpha_A_Duck,\"DUCK\",Alpha_i_Goat,\"GOAT\",Alpha_1_Horse,\"HORSE\")"
   ]
  },
  {
   "cell_type": "markdown",
   "metadata": {},
   "source": [
    "#### Cuántico"
   ]
  },
  {
   "cell_type": "code",
   "execution_count": null,
   "metadata": {},
   "outputs": [],
   "source": [
    "execute_comparison(Alpha_i_Goat,\"GOAT\",Alpha_1_Horse,\"HORSE\",Alpha_A_Duck, \"DUCK\", \"DUCK\", 4, \"qasm_simulator\", 2**14)"
   ]
  },
  {
   "cell_type": "markdown",
   "metadata": {},
   "source": [
    "***\n",
    "### Comparación de las secuencias Laura Saldarriaga"
   ]
  },
  {
   "cell_type": "markdown",
   "metadata": {},
   "source": [
    "#### Clásico"
   ]
  },
  {
   "cell_type": "code",
   "execution_count": null,
   "metadata": {},
   "outputs": [],
   "source": [
    "comparison(Alpha_ii_Goat,\"GOAT\", Alpha_2_Horse,\"HORSE\",Alpha_D_Duck, \"DUCK\")"
   ]
  },
  {
   "cell_type": "markdown",
   "metadata": {},
   "source": [
    "#### Cuántico"
   ]
  },
  {
   "cell_type": "code",
   "execution_count": null,
   "metadata": {},
   "outputs": [],
   "source": [
    "execute_comparison(Alpha_ii_Goat,\"GOAT\", Alpha_2_Horse,\"HORSE\",Alpha_D_Duck, \"DUCK\", \"GOAT\", 4, \"qasm_simulator\", 2**14)"
   ]
  },
  {
   "cell_type": "markdown",
   "metadata": {},
   "source": [
    "#### Clásico"
   ]
  },
  {
   "cell_type": "code",
   "execution_count": null,
   "metadata": {},
   "outputs": [],
   "source": [
    "comparison(Alpha_2_Horse,\"HORSE\",Alpha_ii_Goat,\"GOAT\",Alpha_D_Duck,\"DUCK\")"
   ]
  },
  {
   "cell_type": "markdown",
   "metadata": {},
   "source": [
    "#### Cuántico"
   ]
  },
  {
   "cell_type": "code",
   "execution_count": null,
   "metadata": {},
   "outputs": [],
   "source": [
    "execute_comparison(Alpha_ii_Goat,\"GOAT\", Alpha_2_Horse,\"HORSE\",Alpha_D_Duck, \"DUCK\", \"HORSE\", 4, \"qasm_simulator\", 2**14)"
   ]
  },
  {
   "cell_type": "markdown",
   "metadata": {},
   "source": [
    "#### Clásico"
   ]
  },
  {
   "cell_type": "code",
   "execution_count": null,
   "metadata": {},
   "outputs": [],
   "source": [
    "comparison(Alpha_D_Duck,\"DUCK\",Alpha_ii_Goat,\"GOAT\",Alpha_2_Horse,\"HORSE\")"
   ]
  },
  {
   "cell_type": "markdown",
   "metadata": {},
   "source": [
    "#### Cuántico"
   ]
  },
  {
   "cell_type": "code",
   "execution_count": null,
   "metadata": {},
   "outputs": [],
   "source": [
    "execute_comparison(Alpha_ii_Goat,\"GOAT\", Alpha_2_Horse,\"HORSE\",Alpha_D_Duck, \"DUCK\", \"DUCK\", 4, \"qasm_simulator\", 2**14)"
   ]
  },
  {
   "cell_type": "markdown",
   "metadata": {},
   "source": [
    "***\n",
    "***\n",
    "#### Comparación entre Alpha_i_Goat y Alpha_ii_Goat"
   ]
  },
  {
   "cell_type": "markdown",
   "metadata": {},
   "source": [
    "##### Clásico"
   ]
  },
  {
   "cell_type": "code",
   "execution_count": null,
   "metadata": {},
   "outputs": [],
   "source": [
    "comparison(Alpha_i_Goat,\"GOAT\", Alpha_ii_Goat,\"GOAT1\",Alpha_A_Duck, \"DUCK\")"
   ]
  },
  {
   "cell_type": "markdown",
   "metadata": {},
   "source": [
    "##### Cuántico"
   ]
  },
  {
   "cell_type": "code",
   "execution_count": null,
   "metadata": {},
   "outputs": [],
   "source": [
    "execute_comparison(Alpha_i_Goat,\"GOAT\", Alpha_ii_Goat,\"GOAT1\",Alpha_A_Duck, \"DUCK\", \"GOAT1\", 4, \"qasm_simulator\", 2**14)"
   ]
  },
  {
   "cell_type": "markdown",
   "metadata": {},
   "source": [
    "#### Comparación entre Alpha_1_Horse y Alpha_2_Horse"
   ]
  },
  {
   "cell_type": "markdown",
   "metadata": {},
   "source": [
    "##### Clásico"
   ]
  },
  {
   "cell_type": "code",
   "execution_count": null,
   "metadata": {},
   "outputs": [],
   "source": [
    "comparison(Alpha_1_Horse,\"HORSE\", Alpha_2_Horse,\"HORSE1\",Alpha_A_Duck, \"DUCK\")"
   ]
  },
  {
   "cell_type": "markdown",
   "metadata": {},
   "source": [
    "##### Cuántico"
   ]
  },
  {
   "cell_type": "code",
   "execution_count": null,
   "metadata": {},
   "outputs": [],
   "source": [
    "execute_comparison(Alpha_2_Horse,\"HORSE1\", Alpha_1_Horse,\"HORSE\",Alpha_A_Duck, \"DUCK\", \"HORSE\", 4, \"qasm_simulator\", 2**14)"
   ]
  },
  {
   "cell_type": "markdown",
   "metadata": {},
   "source": [
    "#### Comparación entre Alpha_A_Duck y Alpha_D_Duck"
   ]
  },
  {
   "cell_type": "markdown",
   "metadata": {},
   "source": [
    "##### Clásico"
   ]
  },
  {
   "cell_type": "code",
   "execution_count": null,
   "metadata": {},
   "outputs": [],
   "source": [
    "comparison(Alpha_A_Duck, \"DUCK\",Alpha_D_Duck, \"DUCK1\", Alpha_2_Horse,\"HORSE1\")"
   ]
  },
  {
   "cell_type": "markdown",
   "metadata": {},
   "source": [
    "##### Cuántico"
   ]
  },
  {
   "cell_type": "code",
   "execution_count": null,
   "metadata": {},
   "outputs": [],
   "source": [
    "execute_comparison(Alpha_D_Duck, \"DUCK1\",Alpha_1_Horse,\"HORSE\",Alpha_A_Duck, \"DUCK\", \"DUCK\", 4, \"qasm_simulator\", 2**14)"
   ]
  }
 ],
 "metadata": {
  "kernelspec": {
   "display_name": "Python 3",
   "language": "python",
   "name": "python3"
  },
  "language_info": {
   "codemirror_mode": {
    "name": "ipython",
    "version": 3
   },
   "file_extension": ".py",
   "mimetype": "text/x-python",
   "name": "python",
   "nbconvert_exporter": "python",
   "pygments_lexer": "ipython3",
   "version": "3.7.8"
  }
 },
 "nbformat": 4,
 "nbformat_minor": 4
}
