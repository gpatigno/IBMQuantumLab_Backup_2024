{
 "cells": [
  {
   "cell_type": "markdown",
   "metadata": {},
   "source": [
    " # Práctica 3 - Computación Cuántica 2022-1\n",
    " ## John Camilo Giraldo López - Maury Marmolejo Din\n",
    " ### Para las especies asignadas: Alpha_A Paloma - Alpha_A Pato - Alpha_A Gallina\n",
    " ### Encontrar el porcentaje de similitud entre las especies, partiendo de su secuencia de nucleotidos codificandolos en circuitos cuánticos"
   ]
  },
  {
   "cell_type": "code",
   "execution_count": 1,
   "metadata": {
    "ExecuteTime": {
     "end_time": "2018-09-25T16:52:52.597525Z",
     "start_time": "2018-09-25T16:52:52.593598Z"
    },
    "id": "3alSdf660Ujo"
   },
   "outputs": [],
   "source": [
    "Alpha_A_pigeon = \"ATGGTGCTGTCTGCCAACGACAAGAGCAACGTGAAGGCCGTCTTCGGCAAAATCGGCGGC\\\n",
    "CAGGCCGGTGACTTGGGTGGTGAAGCCCTGGAGAGGTTGTTCATCACCTACCCCCAGACC\\\n",
    "AAGACCTACTTCCCCCACTTCGACCTGTCACATGGCTCCGCTCAGATCAAGGGGCACGGC\\\n",
    "AAGAAGGTGGCGGAGGCACTGGTTGAGGCTGCCAACCACATCGATGACATCGCTGGTGCC\\\n",
    "CTCTCCAAGCTGAGCGACCTCCACGCCCAAAAGCTCCGTGTGGACCCCGTCAACTTCAAA\\\n",
    "CTGCTGGGTCACTGCTTCCTGGTGGTCGTGGCCGTCCACTTCCCCTCTCTCCTGACCCCG\\\n",
    "GAGGTCCATGCTTCCCTGGACAAGTTCGTGTGTGCCGTGGGCACCGTCCTTACTGCCAAG\\\n",
    "TACCGTTAA\"\n",
    "\n",
    "Alpha_A_duck = \"ATGGTGCTGTCTGCGGCTGACAAGACCAACGTCAAGGGTGTCTTCTCCAAAATCGGTGGC\\\n",
    "CATGCTGAGGAGTATGGCGCCGAGACCCTGGAGAGGATGTTCATCGCCTACCCCCAGACC\\\n",
    "AAGACCTACTTCCCCCACTTTGACCTGCAGCACGGCTCTGCTCAGATCAAGGCCCATGGC\\\n",
    "AAGAAGGTGGCGGCTGCCCTAGTTGAAGCTGTCAACCACATCGATGACATTGCGGGTGCT\\\n",
    "CTCTCCAAGCTCAGTGACCTCCACGCCCAAAAGCTCCGTGTGGACCCTGTCAACTTCAAA\\\n",
    "TTCCTGGGCCACTGCTTCCTGGTGGTGGTTGCCATCCACCACCCCGCTGCCCTGACCCCA\\\n",
    "GAGGTCCACGCTTCCCTGGACAAGTTCATGTGCGCCGTGGGTGCTGTGCTGACTGCCAAG\\\n",
    "TACCGTTAG\"\n",
    "\n",
    "Alpha_A_Chicken = \"ATGGTGCTGTCCGCTGCTGACAAGAACAACGTCAAGGGCATCTTCACCAAAATCGCCGGC\\\n",
    "CATGCTGAGGAGTATGGCGCCGAGACCCTGGAAAGGATGTTCACCACCTACCCCCCAACC\\\n",
    "AAGACCTACTTCCCCCACTTCGATCTGTCACACGGCTCCGCTCAGATCAAGGGGCACGGC\\\n",
    "AAGAAGGTAGTGGCTGCCTTGATCGAGGCTGCCAACCACATTGATGACATCGCCGGCACC\\\n",
    "CTCTCCAAGCTCAGCGACCTCCATGCCCACAAGCTCCGCGTGGACCCTGTCAACTTCAAA\\\n",
    "CTCCTGGGCCAATGCTTCCTGGTGGTGGTGGCCATCCACCACCCTGCTGCCCTGACCCCG\\\n",
    "GAGGTCCATGCTTCCCTGGACAAGTTCTTGTGCGCCGTGGGCACTGTGCTGACCGCCAAG\\\n",
    "TACCGTTAA\"\n"
   ]
  },
  {
   "cell_type": "code",
   "execution_count": 2,
   "metadata": {
    "ExecuteTime": {
     "end_time": "2018-09-25T16:52:53.178637Z",
     "start_time": "2018-09-25T16:52:53.170526Z"
    },
    "id": "DrIreivv0Ujt"
   },
   "outputs": [],
   "source": [
    "#Importación de librerías y clases para la simulación\n",
    "\n",
    "import sys\n",
    "import numpy as np\n",
    "import math\n",
    "\n",
    "from qiskit import QuantumCircuit, QuantumRegister, ClassicalRegister, execute, BasicAer, IBMQ\n",
    "from qiskit.visualization import plot_histogram, plot_bloch_multivector\n",
    "\n",
    "from qiskit.extensions import Initialize"
   ]
  },
  {
   "cell_type": "code",
   "execution_count": 3,
   "metadata": {
    "ExecuteTime": {
     "end_time": "2018-09-25T16:52:53.351971Z",
     "start_time": "2018-09-25T16:52:53.339024Z"
    },
    "id": "06Ls5vxx0Ujw"
   },
   "outputs": [],
   "source": [
    "#Función para la codificación de los strings\n",
    "def encode_bitstring(bitstring, qr, cr, inverse=False):\n",
    "    \"\"\"\n",
    "    create a circuit for constructing the quantum superposition of the bitstring\n",
    "    \"\"\"\n",
    "    n = math.ceil(math.log2(len(bitstring))) + 1                 #number of qubits\n",
    "    assert n > 2, \"the length of bitstring must be at least 2\"\n",
    "    \n",
    "    qc = QuantumCircuit(qr, cr)\n",
    "    \n",
    "    #the probability amplitude of the desired state\n",
    "    desired_vector = np.array([ 0.0 for i in range(2**n) ])     #initialize to zero\n",
    "\n",
    "################################################################################################################    \n",
    " #         Cambio requerido en el código para corregir error presentado   #\n",
    "    \n",
    "    qc_init = QuantumCircuit(n) # Creación de compuertas circuitales para inicialización\n",
    "    inverse_qc_init = QuantumCircuit(n) # Creación de compuertas circuitales para inversión de la inicialización\n",
    "\n",
    "################################################################################################################\n",
    "\n",
    "    amplitude = np.sqrt(1.0/2**(n-1))\n",
    "    \n",
    "    for i, b in enumerate(bitstring):\n",
    "        pos = i * 2\n",
    "        if b == \"1\" or b == \"M\":\n",
    "            pos += 1\n",
    "        desired_vector[pos] = amplitude\n",
    "################################################################################################################    \n",
    " #         Cambio requerido en el código para corregir error presentado   #\n",
    "    \n",
    "    qc_init = Initialize(desired_vector)\n",
    "    \n",
    " ################################################################################################################       \n",
    "    \n",
    "    if not inverse:\n",
    "#         qc.initialize(desired_vector, qr)\n",
    "\n",
    "        qc.append(qc_init, qr)  #  Cambio requerido en el código para corregir error presentado   #\n",
    "    \n",
    "        qc.barrier(qr)\n",
    "        \n",
    "    else:\n",
    "#         qc.initialize(desired_vector, qr).inverse()  #invert the circuit\n",
    "\n",
    "        inverse_qc_init = qc_init.gates_to_uncompute()  # Cambio requerido en el código para corregir error presentado   #\n",
    "        qc.append(inverse_qc_init, qr)  # Cambio requerido en el código para corregir error presentado   #\n",
    "        \n",
    "        qc.barrier(qr)\n",
    "        for i in range(n):\n",
    "            qc.measure(qr[i], cr[i])\n",
    "    return qc"
   ]
  },
  {
   "cell_type": "code",
   "execution_count": 4,
   "metadata": {
    "ExecuteTime": {
     "end_time": "2018-09-25T16:52:53.884331Z",
     "start_time": "2018-09-25T16:52:53.649109Z"
    },
    "id": "me0yXEUX0Ujy",
    "outputId": "7b7baa3d-c1ac-40b5-bca8-ec89e148306b"
   },
   "outputs": [],
   "source": [
    "#Función para la creación de los arreglos utilizados para realizar la comparación entre las cadenas de ADN\n",
    "def circuitos(nombre_string,inverse=False):\n",
    "    string=''\n",
    "    array=[]\n",
    "    array_a=[]# Arreglo de codificación de secuencias Adenina\n",
    "    array_g=[]# Arreglo de codificación de secuencias Guanina\n",
    "    array_t=[]# Arreglo de codificación de secuencias Timina\n",
    "    array_c=[]# Arreglo de codificación de secuencias Citosina\n",
    "    ban=0\n",
    "\n",
    "    for i in (nombre_string):\n",
    "        if ban<64:\n",
    "            string = string + i #agregando datos al bloque\n",
    "            ban+=1\n",
    "        else:\n",
    "            ban=0\n",
    "            array.append(string) # Las secuencias se codifican en bloques de 64 caracteres y se guardan en un arreglo de bloques\n",
    "            string=''\n",
    "\n",
    "    while len(string)<64:\n",
    "        string = string + '0' # Para la ultima cadena, se generan secuencias vacias para completar el bloque \n",
    "    array.append(string)\n",
    "\n",
    "    for i in array: # Cada bloque se codifica en un nuevo arreglo\n",
    "        for j in range(len(i)): # Cada caracter genera una columna\n",
    "            if i[j] == 'A': # |00>\n",
    "                array_a.append(1)\n",
    "                array_g.append(0)\n",
    "                array_t.append(0)\n",
    "                array_c.append(0)\n",
    "            elif i[j] == 'T': #|10>\n",
    "                array_a.append(0)\n",
    "                array_g.append(0)\n",
    "                array_t.append(1)\n",
    "                array_c.append(0)\n",
    "            elif i[j] == 'G': #|01>\n",
    "                array_a.append(0)\n",
    "                array_g.append(1)\n",
    "                array_t.append(0)\n",
    "                array_c.append(0)\n",
    "            elif i[j] == 'C': #|11>\n",
    "                array_a.append(0)\n",
    "                array_g.append(0)\n",
    "                array_t.append(0)\n",
    "                array_c.append(1)\n",
    "            else:  # Los caracteres vacios generan columnas vacias, y sin significado cuantico\n",
    "                array_a.append(0)\n",
    "                array_g.append(0)\n",
    "                array_t.append(0)\n",
    "                array_c.append(0)\n",
    "\n",
    "    n = math.ceil(math.log2(len(array_a[0:64]))) + 1 # Segeneran los n qubits partiendo del tamaño del bloque + 1 qubit que será llenado de acuerdo a la presencia del nucleotido                 \n",
    "    qr = QuantumRegister(n)\n",
    "    cr = ClassicalRegister(n)\n",
    "\n",
    "    circuit_array_a=[]\n",
    "    circuit_array_c=[]\n",
    "    circuit_array_g=[]\n",
    "    circuit_array_t=[]\n",
    "    \n",
    "    if not inverse:\n",
    "        for k in range(0,len(array_a),64): # Se codifican los bloques y se agregan al arreglo de bloques de inicializacion del circuito cuantico respectivo\n",
    "            circuit_array_a.append(encode_bitstring(\"\".join([str(_) for _ in array_a[k:k+64]]), qr, cr))\n",
    "            circuit_array_c.append(encode_bitstring(\"\".join([str(_) for _ in array_c[k:k+64]]), qr, cr))\n",
    "            circuit_array_g.append(encode_bitstring(\"\".join([str(_) for _ in array_g[k:k+64]]), qr, cr))\n",
    "            circuit_array_t.append(encode_bitstring(\"\".join([str(_) for _ in array_t[k:k+64]]), qr, cr))\n",
    "        \n",
    "    else:\n",
    "        for k in range(0,len(array_a),64):\n",
    "            circuit_array_a.append(encode_bitstring(\"\".join([str(_) for _ in array_a[k:k+64]]), qr, cr,inverse=True))\n",
    "            circuit_array_c.append(encode_bitstring(\"\".join([str(_) for _ in array_c[k:k+64]]), qr, cr,inverse=True))\n",
    "            circuit_array_g.append(encode_bitstring(\"\".join([str(_) for _ in array_g[k:k+64]]), qr, cr,inverse=True))\n",
    "            circuit_array_t.append(encode_bitstring(\"\".join([str(_) for _ in array_t[k:k+64]]), qr, cr,inverse=True))\n",
    "    return [circuit_array_a,circuit_array_c,circuit_array_g,circuit_array_t] # Se retorna el arreglo que tiene todos los circuitos de nucleotidos, todos los bloques\n",
    "#Estructura de la salida CircuitosEspecie{ nucleotido:{bloques};nucleotido:{bloques};nucleotido:{bloques};nucleotido:{bloques}}\n",
    "#LLamado-> Especie[nucleotido][bloque]"
   ]
  },
  {
   "cell_type": "code",
   "execution_count": 5,
   "metadata": {},
   "outputs": [],
   "source": [
    "# Creación de circuitos cuanticos    \n",
    "array_Alpha_A_pigeon = circuitos(Alpha_A_pigeon)\n",
    "array_Alpha_A_duck = circuitos(Alpha_A_duck)\n",
    "array_Alpha_A_Chicken = circuitos(Alpha_A_Chicken)    "
   ]
  },
  {
   "cell_type": "code",
   "execution_count": 6,
   "metadata": {
    "ExecuteTime": {
     "end_time": "2018-09-25T16:52:54.207679Z",
     "start_time": "2018-09-25T16:52:53.960262Z"
    },
    "id": "tpLYghdI0Uj0",
    "outputId": "c9958e13-a282-4935-814a-5e72246f7ff4"
   },
   "outputs": [],
   "source": [
    "#Creación de los circuitos inversos para realizar la comparación\n",
    "inverse_array_Alpha_A_pigeon = circuitos(Alpha_A_pigeon, inverse=True)\n",
    "inverse_array_Alpha_A_duck = circuitos(Alpha_A_duck, inverse=True)\n",
    "inverse_array_Alpha_A_Chicken = circuitos(Alpha_A_Chicken, inverse=True)"
   ]
  },
  {
   "cell_type": "code",
   "execution_count": 18,
   "metadata": {
    "ExecuteTime": {
     "end_time": "2018-09-25T16:54:49.528857Z",
     "start_time": "2018-09-25T16:52:54.299872Z"
    },
    "id": "pABPCM-U0Uj1",
    "outputId": "30f33edb-29b0-4052-b1a9-d4d769ff8eda"
   },
   "outputs": [
    {
     "name": "stdout",
     "output_type": "stream",
     "text": [
      "Similitud entre paloma y pato:  0.8595450265066964\n",
      "Similitud entre paloma y gallina:  0.8637346540178572\n",
      "Similitud entre gallina y pato:  0.89093017578125\n"
     ]
    }
   ],
   "source": [
    "from qiskit import IBMQ, BasicAer\n",
    "\n",
    "# Simulador local\n",
    "n = 7 \n",
    "backend = BasicAer.get_backend(\"qasm_simulator\")\n",
    "shots = 8192\n",
    "\n",
    "combined_circs = {}\n",
    "count = {}\n",
    "\n",
    "most_similar, most_similar_score = \"\", -1.0 #Arreglos totales\n",
    "sim_score1t = []\n",
    "sim_score2t = []\n",
    "sim_score3t = []\n",
    "\n",
    "for i in range(4): # Para los 4 nucleotidos detectados compare la puntuación de cada nucleotido\n",
    "    sim_score1 = []\n",
    "    sim_score2 = []\n",
    "    sim_score3 = []\n",
    "    \n",
    "    for j in range(7):# Todos los bloques\n",
    "        combined_circs[\"pigeon_duck\"] = array_Alpha_A_pigeon[i][j].compose(inverse_array_Alpha_A_duck[i][j])   #combined circuits to look for similar codes\n",
    "        combined_circs[\"pigeon_Chicken\"] = array_Alpha_A_pigeon[i][j].compose(inverse_array_Alpha_A_Chicken[i][j])\n",
    "        combined_circs[\"Chicken_duck\"] = array_Alpha_A_Chicken[i][j].compose(inverse_array_Alpha_A_duck[i][j])\n",
    "        #print(combined_circs)\n",
    "        job1 = execute(combined_circs[\"pigeon_duck\"], backend=backend,shots=shots)\n",
    "        job2 = execute(combined_circs[\"pigeon_Chicken\"], backend=backend,shots=shots)\n",
    "        job3 = execute(combined_circs[\"Chicken_duck\"], backend=backend,shots=shots)\n",
    "        st1 = job1.result().get_counts(combined_circs[\"pigeon_duck\"])\n",
    "        st2 = job2.result().get_counts(combined_circs[\"pigeon_Chicken\"])\n",
    "        st3 = job3.result().get_counts(combined_circs[\"Chicken_duck\"])\n",
    "        if \"0\"*n in st1:\n",
    "            sim_score1.append(st1[\"0\"*n]/shots)\n",
    "        else:\n",
    "            sim_score1.append(0.0)\n",
    "        if \"0\"*n in st2:\n",
    "            sim_score2.append(st2[\"0\"*n]/shots)\n",
    "        else:\n",
    "            sim_score2.append(0.0)\n",
    "        if \"0\"*n in st3:\n",
    "            sim_score3.append(st3[\"0\"*n]/shots)\n",
    "        else:\n",
    "            sim_score3.append(0.0)\n",
    "    plot_histogram([st1,st2,st3],legend=['Paloma_Pato', 'Paloma_Gallina','Gallina_Pato'])\n",
    "    sim_score1t.append(np.mean(sim_score1))\n",
    "    sim_score2t.append(np.mean(sim_score2))\n",
    "    sim_score3t.append(np.mean(sim_score3))\n",
    "print('Similitud entre paloma y pato: ',np.mean(sim_score1t))\n",
    "print('Similitud entre paloma y gallina: ',np.mean(sim_score2t))\n",
    "print('Similitud entre gallina y pato: ',np.mean(sim_score3t))"
   ]
  },
  {
   "cell_type": "markdown",
   "metadata": {},
   "source": [
    "## Prueba de buen funcionamiento"
   ]
  },
  {
   "cell_type": "code",
   "execution_count": 11,
   "metadata": {},
   "outputs": [],
   "source": [
    "Alpha_A_pigeon = \"ATGGTGCTGTCTGCCAACGACAAGAGCAACGTGAAGGCCGTCTTCGGCAAAATCGGCGGC\\\n",
    "CAGGCCGGTGACTTGGGTGGTGAAGCCCTGGAGAGGTTGTTCATCACCTACCCCCAGACC\\\n",
    "AAGACCTACTTCCCCCACTTCGACCTGTCACATGGCTCCGCTCAGATCAAGGGGCACGGC\\\n",
    "AAGAAGGTGGCGGAGGCACTGGTTGAGGCTGCCAACCACATCGATGACATCGCTGGTGCC\\\n",
    "CTCTCCAAGCTGAGCGACCTCCACGCCCAAAAGCTCCGTGTGGACCCCGTCAACTTCAAA\\\n",
    "CTGCTGGGTCACTGCTTCCTGGTGGTCGTGGCCGTCCACTTCCCCTCTCTCCTGACCCCG\\\n",
    "GAGGTCCATGCTTCCCTGGACAAGTTCGTGTGTGCCGTGGGCACCGTCCTTACTGCCAAG\\\n",
    "TACCGTTAA\"\n",
    "Alpha_A_pigeon_mod = \"ATGGTGCTGTCTGCCAACGACAAGAGCAACGTGAAGGCCGTCTTCGGCAAAATCGGCGGC\\\n",
    "CAGGCCGGTGACTTGGGTGGTGAAGCCCTGGAGAGGTTGTTCATCACCTACCCCCAGACC\\\n",
    "AAGACCTACTTCCCCCACTTCGACCTGTCACATGGCTCCGCTCAGATCAAGGGGCACGGC\\\n",
    "AAGAAGGTGGCGGAGGCACTGGTTGAGGCTGCCAACCACATCGATGACATCGCTGGTGCC\\\n",
    "CTCTCCAAGCTGAGCGACCTCCACGCCCAAAAGCTCCGTGTGGACCCCGTCAACTTCAAA\\\n",
    "CTGCTGGGTCACTGCTTCCTGGTGGTCGTGGCCGTCCACTTCCCCTCTCTCCTGACCCCG\\\n",
    "GAGGTCCATGCTTCCCTGGACAAGTTCGTGTGTGCCGTGGGCACCGTCCTTACTGCCAAT\\\n",
    "TACCGTTAA\""
   ]
  },
  {
   "cell_type": "code",
   "execution_count": 12,
   "metadata": {},
   "outputs": [],
   "source": [
    "array_Alpha_A_pigeon = circuitos(Alpha_A_pigeon)\n",
    "array_Alpha_A_pigeon_mod = circuitos(Alpha_A_pigeon_mod)"
   ]
  },
  {
   "cell_type": "code",
   "execution_count": 13,
   "metadata": {},
   "outputs": [],
   "source": [
    "inverse_array_Alpha_A_pigeon = circuitos(Alpha_A_pigeon, inverse=True)\n",
    "inverse_array_Alpha_A_pigeon_mod = circuitos(Alpha_A_pigeon_mod, inverse=True)"
   ]
  },
  {
   "cell_type": "code",
   "execution_count": 15,
   "metadata": {},
   "outputs": [
    {
     "name": "stdout",
     "output_type": "stream",
     "text": [
      "Similitud de paloma consigomisma:  0.9978550502232143\n",
      "Similitud de paloma con su modificación:  0.8782958984375\n"
     ]
    }
   ],
   "source": [
    "from qiskit import IBMQ, BasicAer\n",
    "\n",
    "# Simulador local\n",
    "n = 7\n",
    "backend = BasicAer.get_backend(\"qasm_simulator\")\n",
    "shots = 8192\n",
    "\n",
    "combined_circs = {}\n",
    "\n",
    "sim_score1t = []\n",
    "sim_score2t = []\n",
    "\n",
    "for i in range(4): # Para los 4 nucleotidos detectados compare la puntuación de cada nucleotido\n",
    "    sim_score1 = []\n",
    "    sim_score2 = []\n",
    "    for j in range(7):# Todos los bloques\n",
    "        combined_circs[\"pigeon_pigeon\"] = array_Alpha_A_pigeon[i][j].compose(inverse_array_Alpha_A_pigeon[i][j])   #combined circuits to look for similar codes\n",
    "        combined_circs[\"pigeon_pigeon_mod\"] = array_Alpha_A_pigeon[i][j].compose(inverse_array_Alpha_A_pigeon_mod[i][j])   #combined circuits to look for similar codes\n",
    "        #print(combined_circs)\n",
    "        job1 = execute(combined_circs[\"pigeon_pigeon\"], backend=backend,shots=shots)\n",
    "        job2 = execute(combined_circs[\"pigeon_pigeon_mod\"], backend=backend,shots=shots)\n",
    "        st1 = job1.result().get_counts(combined_circs[\"pigeon_pigeon\"])\n",
    "        st1 = job2.result().get_counts(combined_circs[\"pigeon_pigeon_mod\"])\n",
    "        #print(st)\n",
    "        if \"0\"*n in st1:\n",
    "            sim_score1.append(st1[\"0\"*n]/shots)\n",
    "        else:\n",
    "            sim_score1.append(0.0)\n",
    "        if \"0\"*n in st2:\n",
    "            sim_score2.append(st2[\"0\"*n]/shots)\n",
    "        else:\n",
    "            sim_score2.append(0.0)\n",
    "    sim_score1t.append(np.mean(sim_score1))\n",
    "    sim_score2t.append(np.mean(sim_score2))\n",
    "print('Similitud de paloma consigomisma: ',np.mean(sim_score1t))\n",
    "print('Similitud de paloma con su modificación: ',np.mean(sim_score2t))"
   ]
  },
  {
   "cell_type": "code",
   "execution_count": 21,
   "metadata": {},
   "outputs": [
    {
     "name": "stderr",
     "output_type": "stream",
     "text": [
      "ibmqfactory.load_account:WARNING:2022-08-06 18:41:45,444: Credentials are already in use. The existing account in the session will be replaced.\n"
     ]
    },
    {
     "name": "stdout",
     "output_type": "stream",
     "text": [
      "El computador cuantico de 7 bits menos ocupado es el: ibm_perth\n"
     ]
    }
   ],
   "source": [
    "from qiskit.providers.ibmq import least_busy\n",
    "from qiskit.tools.monitor import job_monitor\n",
    "IBMQ.load_account()\n",
    "provider = IBMQ.get_provider(hub='ibm-q-education', group='uni-antioquia-1', project='qcudea2022-1')\n",
    "remote_backend = least_busy(provider.backends(filters=lambda x: x.configuration().n_qubits >=7\n",
    "                                           and not x.configuration().simulator\n",
    "                                           and x.status().operational==True))\n",
    "print(\"El computador cuantico de 7 bits menos ocupado es el: \"+remote_backend.name())\n",
    "backend = provider.get_backend(remote_backend.name())"
   ]
  },
  {
   "cell_type": "code",
   "execution_count": 22,
   "metadata": {},
   "outputs": [
    {
     "name": "stdout",
     "output_type": "stream",
     "text": [
      "Similitud de paloma consigomisma:  0.013427734375\n",
      "Similitud de paloma con su modificación:  7.021484375\n"
     ]
    }
   ],
   "source": [
    "from qiskit import IBMQ, BasicAer\n",
    "\n",
    "# Simulador local\n",
    "n = 7\n",
    "#backend = BasicAer.get_backend(\"qasm_simulator\")\n",
    "shots = 1024\n",
    "\n",
    "combined_circs = {}\n",
    "\n",
    "sim_score1t = []\n",
    "sim_score2t = []\n",
    "\n",
    "for i in range(4): # Para los 4 nucleotidos detectados compare la puntuación de cada nucleotido\n",
    "    sim_score1 = []\n",
    "    sim_score2 = []\n",
    "    for j in range(7):# Todos los bloques\n",
    "        combined_circs[\"pigeon_pigeon\"] = array_Alpha_A_pigeon[i][j].compose(inverse_array_Alpha_A_pigeon[i][j])   #combined circuits to look for similar codes\n",
    "        combined_circs[\"pigeon_pigeon_mod\"] = array_Alpha_A_pigeon[i][j].compose(inverse_array_Alpha_A_pigeon_mod[i][j])   #combined circuits to look for similar codes\n",
    "        #print(combined_circs)\n",
    "        job1 = execute(combined_circs[\"pigeon_pigeon\"], backend=backend,shots=shots)\n",
    "        job2 = execute(combined_circs[\"pigeon_pigeon_mod\"], backend=backend,shots=shots)\n",
    "        st1 = job1.result().get_counts(combined_circs[\"pigeon_pigeon\"])\n",
    "        st1 = job2.result().get_counts(combined_circs[\"pigeon_pigeon_mod\"])\n",
    "        #print(st)\n",
    "        if \"0\"*n in st1:\n",
    "            sim_score1.append(st1[\"0\"*n]/shots)\n",
    "        else:\n",
    "            sim_score1.append(0.0)\n",
    "        if \"0\"*n in st2:\n",
    "            sim_score2.append(st2[\"0\"*n]/shots)\n",
    "        else:\n",
    "            sim_score2.append(0.0)\n",
    "    sim_score1t.append(np.mean(sim_score1))\n",
    "    sim_score2t.append(np.mean(sim_score2))\n",
    "print('Similitud de paloma consigomisma: ',np.mean(sim_score1t))\n",
    "print('Similitud de paloma con su modificación: ',np.mean(sim_score2t))"
   ]
  },
  {
   "cell_type": "code",
   "execution_count": 8,
   "metadata": {},
   "outputs": [
    {
     "name": "stderr",
     "output_type": "stream",
     "text": [
      "<frozen importlib._bootstrap>:219: RuntimeWarning: scipy._lib.messagestream.MessageStream size changed, may indicate binary incompatibility. Expected 56 from C header, got 64 from PyObject\n"
     ]
    },
    {
     "data": {
      "text/html": [
       "<h3>Version Information</h3><table><tr><th>Qiskit Software</th><th>Version</th></tr><tr><td><code>qiskit-terra</code></td><td>0.21.0</td></tr><tr><td><code>qiskit-aer</code></td><td>0.10.4</td></tr><tr><td><code>qiskit-ibmq-provider</code></td><td>0.19.2</td></tr><tr><td><code>qiskit</code></td><td>0.37.0</td></tr><tr><td><code>qiskit-nature</code></td><td>0.4.2</td></tr><tr><td><code>qiskit-finance</code></td><td>0.3.3</td></tr><tr><td><code>qiskit-optimization</code></td><td>0.4.0</td></tr><tr><td><code>qiskit-machine-learning</code></td><td>0.4.0</td></tr><tr><th>System information</th></tr><tr><td>Python version</td><td>3.8.13</td></tr><tr><td>Python compiler</td><td>GCC 10.3.0</td></tr><tr><td>Python build</td><td>default, Mar 25 2022 06:04:10</td></tr><tr><td>OS</td><td>Linux</td></tr><tr><td>CPUs</td><td>8</td></tr><tr><td>Memory (Gb)</td><td>31.211315155029297</td></tr><tr><td colspan='2'>Sat Aug 06 16:03:59 2022 UTC</td></tr></table>"
      ],
      "text/plain": [
       "<IPython.core.display.HTML object>"
      ]
     },
     "metadata": {},
     "output_type": "display_data"
    },
    {
     "data": {
      "text/html": [
       "<div style='width: 100%; background-color:#d5d9e0;padding-left: 10px; padding-bottom: 10px; padding-right: 10px; padding-top: 5px'><h3>This code is a part of Qiskit</h3><p>&copy; Copyright IBM 2017, 2022.</p><p>This code is licensed under the Apache License, Version 2.0. You may<br>obtain a copy of this license in the LICENSE.txt file in the root directory<br> of this source tree or at http://www.apache.org/licenses/LICENSE-2.0.<p>Any modifications or derivative works of this code must retain this<br>copyright notice, and modified files need to carry a notice indicating<br>that they have been altered from the originals.</p></div>"
      ],
      "text/plain": [
       "<IPython.core.display.HTML object>"
      ]
     },
     "metadata": {},
     "output_type": "display_data"
    }
   ],
   "source": [
    "import qiskit.tools.jupyter\n",
    "%qiskit_version_table\n",
    "%qiskit_copyright"
   ]
  }
 ],
 "metadata": {
  "colab": {
   "name": "string_comparison_fixed_udea.ipynb",
   "provenance": []
  },
  "kernelspec": {
   "display_name": "Python 3 (ipykernel)",
   "language": "python",
   "name": "python3"
  },
  "language_info": {
   "codemirror_mode": {
    "name": "ipython",
    "version": 3
   },
   "file_extension": ".py",
   "mimetype": "text/x-python",
   "name": "python",
   "nbconvert_exporter": "python",
   "pygments_lexer": "ipython3",
   "version": "3.8.13"
  },
  "toc": {
   "colors": {
    "hover_highlight": "#DAA520",
    "running_highlight": "#FF0000",
    "selected_highlight": "#FFD700"
   },
   "moveMenuLeft": true,
   "nav_menu": {
    "height": "48px",
    "width": "252px"
   },
   "navigate_menu": true,
   "number_sections": true,
   "sideBar": true,
   "threshold": 4,
   "toc_cell": false,
   "toc_section_display": "block",
   "toc_window_display": false
  },
  "widgets": {
   "application/vnd.jupyter.widget-state+json": {
    "state": {},
    "version_major": 2,
    "version_minor": 0
   }
  }
 },
 "nbformat": 4,
 "nbformat_minor": 4
}
