{
 "cells": [
  {
   "cell_type": "code",
   "execution_count": null,
   "id": "oP0gKm5Krc7s",
   "metadata": {
    "id": "oP0gKm5Krc7s"
   },
   "outputs": [],
   "source": [
    "!pip install qiskit"
   ]
  },
  {
   "cell_type": "code",
   "execution_count": null,
   "id": "80ec8Uzbr2N6",
   "metadata": {
    "id": "80ec8Uzbr2N6"
   },
   "outputs": [],
   "source": [
    "!pip install git+https://github.com/qiskit-community/qiskit-textbook.git#subdirectory=qiskit-textbook-src\n"
   ]
  },
  {
   "cell_type": "code",
   "execution_count": null,
   "id": "c3b24842-8b91-47b3-afa1-021f4edda6f8",
   "metadata": {
    "id": "c3b24842-8b91-47b3-afa1-021f4edda6f8"
   },
   "outputs": [],
   "source": [
    "import matplotlib.pyplot as plt\n",
    "import numpy as np\n",
    "from math import pi\n",
    "from qiskit_textbook.tools import random_state, vector2latex\n",
    "from qiskit import QuantumCircuit, ClassicalRegister, QuantumRegister, transpile\n",
    "from qiskit.tools.visualization import circuit_drawer\n",
    "from qiskit.quantum_info import state_fidelity\n",
    "from qiskit import BasicAer\n",
    "import math"
   ]
  },
  {
   "cell_type": "code",
   "execution_count": null,
   "id": "dc477bb4-84b3-42b5-a4e7-bae4d3b91ada",
   "metadata": {
    "colab": {
     "base_uri": "https://localhost:8080/",
     "height": 233
    },
    "executionInfo": {
     "elapsed": 421,
     "status": "ok",
     "timestamp": 1660285147092,
     "user": {
      "displayName": "JONATHAN RESTREPO RIVAS",
      "userId": "02958563353081226651"
     },
     "user_tz": 300
    },
    "id": "dc477bb4-84b3-42b5-a4e7-bae4d3b91ada",
    "outputId": "cc8ee2a8-d855-40d2-c16d-6feec793f9be"
   },
   "outputs": [
    {
     "data": {
      "text/html": [
       "<pre style=\"word-wrap: normal;white-space: pre;background: #fff0;line-height: 1.1;font-family: &quot;Courier New&quot;,Courier,monospace\">      »\n",
       "q3_0: »\n",
       "      »\n",
       "q3_1: »\n",
       "      »\n",
       "q3_2: »\n",
       "      »\n",
       "«      ┌──────────────────────────────────────────────────────────────────────────────────────────────────────────────┐\n",
       "«q3_0: ┤0                                                                                                             ├\n",
       "«      │                                                                                                              │\n",
       "«q3_1: ┤1 Initialize(0.43301,0.125+0.21651j,-0.43301,-0.125-0.21651j,-0.43301,-0.125-0.21651j,0.43301,0.125+0.21651j) ├\n",
       "«      │                                                                                                              │\n",
       "«q3_2: ┤2                                                                                                             ├\n",
       "«      └──────────────────────────────────────────────────────────────────────────────────────────────────────────────┘</pre>"
      ],
      "text/plain": [
       "      »\n",
       "q3_0: »\n",
       "      »\n",
       "q3_1: »\n",
       "      »\n",
       "q3_2: »\n",
       "      »\n",
       "«      ┌──────────────────────────────────────────────────────────────────────────────────────────────────────────────┐\n",
       "«q3_0: ┤0                                                                                                             ├\n",
       "«      │                                                                                                              │\n",
       "«q3_1: ┤1 Initialize(0.43301,0.125+0.21651j,-0.43301,-0.125-0.21651j,-0.43301,-0.125-0.21651j,0.43301,0.125+0.21651j) ├\n",
       "«      │                                                                                                              │\n",
       "«q3_2: ┤2                                                                                                             ├\n",
       "«      └──────────────────────────────────────────────────────────────────────────────────────────────────────────────┘"
      ]
     },
     "execution_count": 11,
     "metadata": {},
     "output_type": "execute_result"
    }
   ],
   "source": [
    "desired_vector = [    math.sqrt(3)/ 4,\n",
    "   complex(1, math.sqrt(3))/ 8,\n",
    "   -math.sqrt(3)/ 4,            \n",
    "   -complex(1, math.sqrt(3))/ 8,\n",
    "   -math.sqrt(3)/ 4,  \n",
    "   -complex(1, math.sqrt(3))/ 8,\n",
    "   math.sqrt(3)/ 4,  \n",
    "   complex(1, math.sqrt(3))/ 8]\n",
    "\n",
    "\n",
    "q = QuantumRegister(3)\n",
    "\n",
    "qc = QuantumCircuit(q)\n",
    "\n",
    "qc.initialize(desired_vector, [q[0],q[1],q[2]])\n",
    "qc.draw()\n"
   ]
  },
  {
   "cell_type": "code",
   "execution_count": null,
   "id": "6d6d74b8-d338-4280-a503-caf0418b13ab",
   "metadata": {
    "colab": {
     "base_uri": "https://localhost:8080/",
     "height": 191
    },
    "executionInfo": {
     "elapsed": 263,
     "status": "ok",
     "timestamp": 1660285453311,
     "user": {
      "displayName": "JONATHAN RESTREPO RIVAS",
      "userId": "02958563353081226651"
     },
     "user_tz": 300
    },
    "id": "6d6d74b8-d338-4280-a503-caf0418b13ab",
    "outputId": "1a07bb65-80d5-4a24-80f7-a3c315f0313a"
   },
   "outputs": [
    {
     "data": {
      "text/latex": [
       "$$\n",
       "$$ |\\psi\\rangle =\\begin{bmatrix}\n",
       "0.43301 \\\\\n",
       "0.12500+0.21651j \\\\\n",
       "-0.43301 \\\\\n",
       "-0.12500-0.21651j \\\\\n",
       "-0.43301 \\\\\n",
       "-0.12500-0.21651j \\\\\n",
       "0.43301 \\\\\n",
       "0.12500+0.21651j\\end{bmatrix} $$"
      ],
      "text/plain": [
       "<IPython.core.display.Math object>"
      ]
     },
     "metadata": {},
     "output_type": "display_data"
    }
   ],
   "source": [
    "backend = BasicAer.get_backend('statevector_simulator')\n",
    "job = backend.run(transpile(qc, backend))\n",
    "qc_state = job.result().get_statevector(qc)\n",
    "#qc_state\n",
    "vector2latex(qc_state, pretext=\"|\\\\psi\\\\rangle =\")"
   ]
  },
  {
   "cell_type": "code",
   "execution_count": null,
   "id": "725d366e-fe50-4ec2-94ca-d2ce3ac44c03",
   "metadata": {
    "colab": {
     "base_uri": "https://localhost:8080/"
    },
    "executionInfo": {
     "elapsed": 306,
     "status": "ok",
     "timestamp": 1660285464100,
     "user": {
      "displayName": "JONATHAN RESTREPO RIVAS",
      "userId": "02958563353081226651"
     },
     "user_tz": 300
    },
    "id": "725d366e-fe50-4ec2-94ca-d2ce3ac44c03",
    "outputId": "13e794db-5fbb-4d6c-d98d-76fb020930c5"
   },
   "outputs": [
    {
     "data": {
      "text/plain": [
       "0.9999999999999993"
      ]
     },
     "execution_count": 13,
     "metadata": {},
     "output_type": "execute_result"
    }
   ],
   "source": [
    "state_fidelity(desired_vector,qc_state)\n"
   ]
  },
  {
   "cell_type": "code",
   "execution_count": null,
   "id": "4b654c5d-e457-4bc8-8748-901a299f6d40",
   "metadata": {
    "colab": {
     "base_uri": "https://localhost:8080/",
     "height": 125
    },
    "executionInfo": {
     "elapsed": 222,
     "status": "ok",
     "timestamp": 1660285811529,
     "user": {
      "displayName": "JONATHAN RESTREPO RIVAS",
      "userId": "02958563353081226651"
     },
     "user_tz": 300
    },
    "id": "4b654c5d-e457-4bc8-8748-901a299f6d40",
    "outputId": "e656ff91-01ec-4daa-887d-44cacd411115"
   },
   "outputs": [
    {
     "data": {
      "text/html": [
       "<pre style=\"word-wrap: normal;white-space: pre;background: #fff0;line-height: 1.1;font-family: &quot;Courier New&quot;,Courier,monospace\">       ┌───────────────────────────────────┐\n",
       "q39_0: ┤ Initialize(0.86603,0.25+0.43301j) ├\n",
       "       └──┬──────────────────────────────┬─┘\n",
       "q39_1: ───┤ Initialize(0.70711,-0.70711) ├──\n",
       "          ├──────────────────────────────┤  \n",
       "q39_2: ───┤ Initialize(0.70711,-0.70711) ├──\n",
       "          └──────────────────────────────┘  </pre>"
      ],
      "text/plain": [
       "       ┌───────────────────────────────────┐\n",
       "q39_0: ┤ Initialize(0.86603,0.25+0.43301j) ├\n",
       "       └──┬──────────────────────────────┬─┘\n",
       "q39_1: ───┤ Initialize(0.70711,-0.70711) ├──\n",
       "          ├──────────────────────────────┤  \n",
       "q39_2: ───┤ Initialize(0.70711,-0.70711) ├──\n",
       "          └──────────────────────────────┘  "
      ]
     },
     "execution_count": 15,
     "metadata": {},
     "output_type": "execute_result"
    }
   ],
   "source": [
    "q = QuantumRegister(3)\n",
    "\n",
    "qc = QuantumCircuit(q)\n",
    "\n",
    "\n",
    "vectorq0 = [1 /math.sqrt(2), -1 /math.sqrt(2)]\n",
    "vectorq1 = [1 /math.sqrt(2), -1 /math.sqrt(2)]\n",
    "vectorq2 = [1 /4*(2*math.sqrt(3)), complex(1, math.sqrt(3))/4]\n",
    "#q = QuantumRegister(3)\n",
    "\n",
    "#qc = QuantumCircuit(q)\n",
    "\n",
    "#teleport_cir.initialize(desired_vector, [qr[0],qr[1],qr[2]])\n",
    "qc.initialize(vectorq2, [q[0]])\n",
    "qc.initialize(vectorq1, [q[1]])\n",
    "qc.initialize(vectorq0, [q[2]])\n",
    "\n",
    "qc.draw()"
   ]
  },
  {
   "cell_type": "code",
   "execution_count": null,
   "id": "3a62c711-368e-4e4a-a3d5-9df6b64da43b",
   "metadata": {
    "colab": {
     "base_uri": "https://localhost:8080/",
     "height": 191
    },
    "executionInfo": {
     "elapsed": 309,
     "status": "ok",
     "timestamp": 1660285942394,
     "user": {
      "displayName": "JONATHAN RESTREPO RIVAS",
      "userId": "02958563353081226651"
     },
     "user_tz": 300
    },
    "id": "3a62c711-368e-4e4a-a3d5-9df6b64da43b",
    "outputId": "750ac939-4cf4-436b-c3d7-490db1d9cd6c"
   },
   "outputs": [
    {
     "data": {
      "text/latex": [
       "$$\n",
       "$$ |\\psi\\rangle =\\begin{bmatrix}\n",
       "0.43301 \\\\\n",
       "0.12500+0.21651j \\\\\n",
       "-0.43301 \\\\\n",
       "-0.12500-0.21651j \\\\\n",
       "-0.43301 \\\\\n",
       "-0.12500-0.21651j \\\\\n",
       "0.43301 \\\\\n",
       "0.12500+0.21651j\\end{bmatrix} $$"
      ],
      "text/plain": [
       "<IPython.core.display.Math object>"
      ]
     },
     "metadata": {},
     "output_type": "display_data"
    }
   ],
   "source": [
    "backend = BasicAer.get_backend('statevector_simulator')\n",
    "job = backend.run(transpile(qc, backend))\n",
    "qc_state = job.result().get_statevector(qc)\n",
    "#qc_state\n",
    "vector2latex(qc_state, pretext=\"|\\\\psi\\\\rangle =\")"
   ]
  },
  {
   "cell_type": "code",
   "execution_count": null,
   "id": "b93d1dee-39fd-4c3e-8e6d-dfb9d65060b2",
   "metadata": {
    "colab": {
     "base_uri": "https://localhost:8080/"
    },
    "executionInfo": {
     "elapsed": 294,
     "status": "ok",
     "timestamp": 1660286210070,
     "user": {
      "displayName": "JONATHAN RESTREPO RIVAS",
      "userId": "02958563353081226651"
     },
     "user_tz": 300
    },
    "id": "b93d1dee-39fd-4c3e-8e6d-dfb9d65060b2",
    "outputId": "fbf53f20-9c6a-4e2d-ddb6-af0952ee66f4"
   },
   "outputs": [
    {
     "data": {
      "text/plain": [
       "0.9999999999999991"
      ]
     },
     "execution_count": 17,
     "metadata": {},
     "output_type": "execute_result"
    }
   ],
   "source": [
    "state_fidelity(desired_vector,qc_state)"
   ]
  }
 ],
 "metadata": {
  "colab": {
   "name": "practica4_JONATHAN.ipynb",
   "provenance": []
  },
  "kernelspec": {
   "display_name": "Python 3 (ipykernel)",
   "language": "python",
   "name": "python3"
  },
  "language_info": {
   "codemirror_mode": {
    "name": "ipython",
    "version": 3
   },
   "file_extension": ".py",
   "mimetype": "text/x-python",
   "name": "python",
   "nbconvert_exporter": "python",
   "pygments_lexer": "ipython3",
   "version": "3.8.13"
  },
  "widgets": {
   "application/vnd.jupyter.widget-state+json": {
    "state": {},
    "version_major": 2,
    "version_minor": 0
   }
  }
 },
 "nbformat": 4,
 "nbformat_minor": 5
}
