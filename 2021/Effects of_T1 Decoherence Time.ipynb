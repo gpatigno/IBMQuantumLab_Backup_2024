{
 "cells": [
  {
   "cell_type": "code",
   "execution_count": 1,
   "id": "1e9be8ad-aa93-4d72-8281-b0f4d6013221",
   "metadata": {},
   "outputs": [
    {
     "name": "stderr",
     "output_type": "stream",
     "text": [
      "<frozen importlib._bootstrap>:219: RuntimeWarning: scipy._lib.messagestream.MessageStream size changed, may indicate binary incompatibility. Expected 56 from C header, got 64 from PyObject\n"
     ]
    },
    {
     "data": {
      "text/plain": [
       "<AccountProvider for IBMQ(hub='ibm-q', group='open', project='main')>"
      ]
     },
     "execution_count": 1,
     "metadata": {},
     "output_type": "execute_result"
    }
   ],
   "source": [
    "import numpy as np\n",
    "\n",
    "# Importing standard Qiskit libraries\n",
    "from qiskit import QuantumRegister, ClassicalRegister\n",
    "from qiskit import QuantumCircuit, execute,IBMQ\n",
    "from qiskit.tools.monitor import job_monitor\n",
    "from qiskit import transpile\n",
    "\n",
    "from qiskit.tools.jupyter import *\n",
    "from qiskit.visualization import *\n",
    "from ibm_quantum_widgets import *\n",
    "from qiskit.providers.aer import QasmSimulator\n",
    "from qiskit.providers.ibmq import least_busy\n",
    "\n",
    "\n",
    "# Load local account information\n",
    "IBMQ.load_account()"
   ]
  },
  {
   "cell_type": "code",
   "execution_count": 2,
   "id": "af1b46c3-e813-4ca0-a740-2ee704373ecb",
   "metadata": {},
   "outputs": [
    {
     "data": {
      "text/plain": [
       "[<IBMQSimulator('ibmq_qasm_simulator') from IBMQ(hub='ibm-q-education', group='uni-antioquia-1', project='qc2021')>,\n",
       " <IBMQBackend('ibmq_armonk') from IBMQ(hub='ibm-q-education', group='uni-antioquia-1', project='qc2021')>,\n",
       " <IBMQBackend('ibmq_santiago') from IBMQ(hub='ibm-q-education', group='uni-antioquia-1', project='qc2021')>,\n",
       " <IBMQBackend('ibmq_bogota') from IBMQ(hub='ibm-q-education', group='uni-antioquia-1', project='qc2021')>,\n",
       " <IBMQBackend('ibmq_lima') from IBMQ(hub='ibm-q-education', group='uni-antioquia-1', project='qc2021')>,\n",
       " <IBMQBackend('ibmq_belem') from IBMQ(hub='ibm-q-education', group='uni-antioquia-1', project='qc2021')>,\n",
       " <IBMQBackend('ibmq_quito') from IBMQ(hub='ibm-q-education', group='uni-antioquia-1', project='qc2021')>,\n",
       " <IBMQSimulator('simulator_statevector') from IBMQ(hub='ibm-q-education', group='uni-antioquia-1', project='qc2021')>,\n",
       " <IBMQSimulator('simulator_mps') from IBMQ(hub='ibm-q-education', group='uni-antioquia-1', project='qc2021')>,\n",
       " <IBMQSimulator('simulator_extended_stabilizer') from IBMQ(hub='ibm-q-education', group='uni-antioquia-1', project='qc2021')>,\n",
       " <IBMQSimulator('simulator_stabilizer') from IBMQ(hub='ibm-q-education', group='uni-antioquia-1', project='qc2021')>,\n",
       " <IBMQBackend('ibmq_jakarta') from IBMQ(hub='ibm-q-education', group='uni-antioquia-1', project='qc2021')>,\n",
       " <IBMQBackend('ibmq_manila') from IBMQ(hub='ibm-q-education', group='uni-antioquia-1', project='qc2021')>,\n",
       " <IBMQBackend('ibm_lagos') from IBMQ(hub='ibm-q-education', group='uni-antioquia-1', project='qc2021')>,\n",
       " <IBMQBackend('ibm_perth') from IBMQ(hub='ibm-q-education', group='uni-antioquia-1', project='qc2021')>]"
      ]
     },
     "execution_count": 2,
     "metadata": {},
     "output_type": "execute_result"
    }
   ],
   "source": [
    "# Get the least busy backend\n",
    "#provider = IBMQ.get_provider(hub='ibm-q')\n",
    "provider = IBMQ.get_provider(hub='ibm-q-education', group='uni-antioquia-1', project='qc2021')\n",
    "provider.backends()"
   ]
  },
  {
   "cell_type": "code",
   "execution_count": 3,
   "id": "08ae0a03-47b5-419b-a049-6ca4ed6c5ce7",
   "metadata": {},
   "outputs": [
    {
     "name": "stdout",
     "output_type": "stream",
     "text": [
      "El computador cuántico menos ocupado es el ibmq_lima\n"
     ]
    }
   ],
   "source": [
    "remote_backend = least_busy(provider.backends(filters=lambda x: x.configuration().n_qubits >= 2 \n",
    "                                       and not x.configuration().simulator \n",
    "                                       and x.status().operational==True))\n",
    "print(\"El computador cuántico menos ocupado es el \" + remote_backend.name())\n",
    "\n",
    "#backend = provider.get_backend('ibmq_armonk')"
   ]
  },
  {
   "cell_type": "code",
   "execution_count": 4,
   "id": "a9d5e5b2-906b-41c8-8347-94fdb7b180f8",
   "metadata": {},
   "outputs": [],
   "source": [
    "q = QuantumRegister(1,'q')\n",
    "c = ClassicalRegister(1,'c')"
   ]
  },
  {
   "cell_type": "code",
   "execution_count": 5,
   "id": "8a2c64e2-29cb-44de-a8da-d9c5efab0e9b",
   "metadata": {},
   "outputs": [],
   "source": [
    "def withoutDelay():\n",
    "    circuit = QuantumCircuit(q,c)\n",
    "\n",
    "    circuit.x(q[0])\n",
    "    circuit.measure(q[0],c[0]) #Measuring the qubit\n",
    "\n",
    "    nShots = 8192\n",
    "\n",
    "    job = execute(circuit, remote_backend, shots=nShots)\n",
    "    job_monitor(job)\n",
    "\n",
    "    counts = job.result().get_counts()\n",
    "\n",
    "    print(\"No delay: \",counts)"
   ]
  },
  {
   "cell_type": "code",
   "execution_count": 6,
   "id": "584043ac-e20d-41fc-b87e-20ca6b31e85d",
   "metadata": {},
   "outputs": [],
   "source": [
    "def withDelay():  \n",
    "    circuit = QuantumCircuit(q,c)\n",
    "    circuit.x(q[0])\n",
    "    circuit.delay(78.23, unit=\"us\") # Delay of 78.23 us microseconds      \n",
    "    circuit.measure(q[0],c[0]) #Measuring the qubit\n",
    "\n",
    "    transpiled_circ = transpile(circuit, remote_backend, scheduling_method='alap')  \n",
    "\n",
    "    nShots = 8192\n",
    "    \n",
    "    job = execute(transpiled_circ, remote_backend, shots=nShots)\n",
    "    job_monitor(job)\n",
    "\n",
    "    counts = job.result().get_counts()\n",
    "\n",
    "    print(\"With delay: \",counts)"
   ]
  },
  {
   "cell_type": "code",
   "execution_count": null,
   "id": "055131d5-da7f-41c7-ba85-71fb122c196f",
   "metadata": {},
   "outputs": [],
   "source": [
    "withoutDelay()"
   ]
  },
  {
   "cell_type": "code",
   "execution_count": null,
   "id": "4fc3a29e-cdbb-41ff-b5fa-602869e68625",
   "metadata": {},
   "outputs": [
    {
     "name": "stdout",
     "output_type": "stream",
     "text": [
      "Job Status: job is queued (None)  "
     ]
    }
   ],
   "source": [
    "withDelay()"
   ]
  }
 ],
 "metadata": {
  "kernelspec": {
   "display_name": "Qiskit v0.34.2 (ipykernel)",
   "language": "python",
   "name": "python3"
  },
  "language_info": {
   "codemirror_mode": {
    "name": "ipython",
    "version": 3
   },
   "file_extension": ".py",
   "mimetype": "text/x-python",
   "name": "python",
   "nbconvert_exporter": "python",
   "pygments_lexer": "ipython3",
   "version": "3.8.12"
  },
  "widgets": {
   "application/vnd.jupyter.widget-state+json": {
    "state": {
     "02cbf4d764c64ca98174585a4b32833a": {
      "model_module": "@jupyter-widgets/controls",
      "model_module_version": "1.5.0",
      "model_name": "DescriptionStyleModel",
      "state": {
       "description_width": ""
      }
     },
     "060febc29a0c41f2bdcbe46d38a9e293": {
      "model_module": "@jupyter-widgets/controls",
      "model_module_version": "1.5.0",
      "model_name": "HTMLModel",
      "state": {
       "layout": "IPY_MODEL_acad9d8c074c4c9d8baad1bbc5f21736",
       "style": "IPY_MODEL_e5dfaa51014c4619bbcd89bfbb50e7fd",
       "value": "-"
      }
     },
     "09a30bf8002e4ff3b6c4dfc5f115ea04": {
      "model_module": "@jupyter-widgets/controls",
      "model_module_version": "1.5.0",
      "model_name": "HTMLModel",
      "state": {
       "layout": "IPY_MODEL_ed99d6b57b7544be875fc2afdb0590b6",
       "style": "IPY_MODEL_ebbb7e94042040e6b64f8737f3261a07",
       "value": "62446237efc1855cfec1c090"
      }
     },
     "0b34128e011642199832c53757cd1ad8": {
      "model_module": "@jupyter-widgets/controls",
      "model_module_version": "1.5.0",
      "model_name": "HTMLModel",
      "state": {
       "layout": "IPY_MODEL_9c7ab4884742498dbcb3b75c32a425a2",
       "style": "IPY_MODEL_206ba509fdb24e81b4394a671ace86e5",
       "value": "job is actively running"
      }
     },
     "16aa4411da414648acdce4cf5597c8dc": {
      "model_module": "@jupyter-widgets/controls",
      "model_module_version": "1.5.0",
      "model_name": "HTMLModel",
      "state": {
       "layout": "IPY_MODEL_3a245348f6924691a42a2f030e99556e",
       "style": "IPY_MODEL_c875a8646cd74c87beda52d55a3120d5",
       "value": "<p style='font-family: IBM Plex Sans, Arial, Helvetica, sans-serif; font-size: 20px; font-weight: medium;'>Circuit Properties</p>"
      }
     },
     "184fd62bc51c4c649d9c09180577aa52": {
      "model_module": "@jupyter-widgets/controls",
      "model_module_version": "1.5.0",
      "model_name": "HTMLModel",
      "state": {
       "layout": "IPY_MODEL_7a5ff651ab4b437ea915acf341b67f20",
       "style": "IPY_MODEL_74b06fea885d4391864bfee36952f07b",
       "value": "<h5>Status</h5>"
      }
     },
     "1c717b70e685426f88d0bd2c4ece5ca1": {
      "model_module": "@jupyter-widgets/base",
      "model_module_version": "1.2.0",
      "model_name": "LayoutModel",
      "state": {
       "max_width": "700px",
       "min_width": "700px"
      }
     },
     "1eb8cc719a1d4630bcb6c5c1bebc6893": {
      "model_module": "@jupyter-widgets/controls",
      "model_module_version": "1.5.0",
      "model_name": "DescriptionStyleModel",
      "state": {
       "description_width": ""
      }
     },
     "206ba509fdb24e81b4394a671ace86e5": {
      "model_module": "@jupyter-widgets/controls",
      "model_module_version": "1.5.0",
      "model_name": "DescriptionStyleModel",
      "state": {
       "description_width": ""
      }
     },
     "2be94c955bfc423b9dc4d11bd7bd87f3": {
      "model_module": "@jupyter-widgets/controls",
      "model_module_version": "1.5.0",
      "model_name": "ButtonModel",
      "state": {
       "icon": "close",
       "layout": "IPY_MODEL_50fa0545564149faba0932f49fa59fb3",
       "style": "IPY_MODEL_7b5fc24444434fa9a7f807088a14293e"
      }
     },
     "2db2f97992144bf488e3f6956feadbb6": {
      "model_module": "@jupyter-widgets/controls",
      "model_module_version": "1.5.0",
      "model_name": "DescriptionStyleModel",
      "state": {
       "description_width": ""
      }
     },
     "3343b8d82279478a8adaee854284b387": {
      "model_module": "@jupyter-widgets/controls",
      "model_module_version": "1.5.0",
      "model_name": "HTMLModel",
      "state": {
       "layout": "IPY_MODEL_fa9d480a2f4746e193796aa8a20a6537",
       "style": "IPY_MODEL_dfbe25872b4e494abc9dabf6922d04e6",
       "value": "<h5>Message</h5>"
      }
     },
     "3a245348f6924691a42a2f030e99556e": {
      "model_module": "@jupyter-widgets/base",
      "model_module_version": "1.2.0",
      "model_name": "LayoutModel",
      "state": {
       "margin": "0px 0px 10px 0px"
      }
     },
     "3b31f9b168f84154bba941a739d1dbe1": {
      "model_module": "@jupyter-widgets/controls",
      "model_module_version": "1.5.0",
      "model_name": "HTMLModel",
      "state": {
       "layout": "IPY_MODEL_c2fd2bae2bb94d6ba365b46bfaeeb65d",
       "style": "IPY_MODEL_1eb8cc719a1d4630bcb6c5c1bebc6893",
       "value": "ibmq_lima"
      }
     },
     "3bb5ae6709284b7aa2f750e60af959b1": {
      "model_module": "@jupyter-widgets/controls",
      "model_module_version": "1.5.0",
      "model_name": "HTMLModel",
      "state": {
       "layout": "IPY_MODEL_fffdf2bc9c0947bf928e7d346d6b21fc",
       "style": "IPY_MODEL_b26fd689f7dd47d6b6f0a7d0cb1be027",
       "value": "job has successfully run"
      }
     },
     "3e4799a38b994011a64c4c48bf0add4f": {
      "model_module": "@jupyter-widgets/base",
      "model_module_version": "1.2.0",
      "model_name": "LayoutModel",
      "state": {
       "width": "145px"
      }
     },
     "3f5b30e471f64525b272ecb7fbe02ced": {
      "model_module": "@jupyter-widgets/controls",
      "model_module_version": "1.5.0",
      "model_name": "HTMLModel",
      "state": {
       "layout": "IPY_MODEL_3e4799a38b994011a64c4c48bf0add4f",
       "style": "IPY_MODEL_7ae1457c4f684d6794d249eaa9a94acc",
       "value": "ibmq_lima"
      }
     },
     "43d72061ba8d49e39a025f9f7621b9cb": {
      "model_module": "@jupyter-widgets/controls",
      "model_module_version": "1.5.0",
      "model_name": "DescriptionStyleModel",
      "state": {
       "description_width": ""
      }
     },
     "50fa0545564149faba0932f49fa59fb3": {
      "model_module": "@jupyter-widgets/base",
      "model_module_version": "1.2.0",
      "model_name": "LayoutModel",
      "state": {
       "margin": "0px 5px 0px 0px",
       "width": "32px"
      }
     },
     "58ae71bbb8ab45efa26c471942d840c9": {
      "model_module": "@jupyter-widgets/controls",
      "model_module_version": "1.5.0",
      "model_name": "HBoxModel",
      "state": {
       "children": [
        "IPY_MODEL_b502de072d3b46f19dcd4c315b067086",
        "IPY_MODEL_eb5916849cbf4fd1ba959b072da86d8b",
        "IPY_MODEL_3f5b30e471f64525b272ecb7fbe02ced",
        "IPY_MODEL_b0688256e3fb4ce184cc5ff7bb3a7cd9",
        "IPY_MODEL_e21bced12c904edc835eafa2e5d964d2",
        "IPY_MODEL_0b34128e011642199832c53757cd1ad8"
       ],
       "layout": "IPY_MODEL_a55f43dc6e3a457887b02dbd957aef40"
      }
     },
     "65414571eb054bb1b1b9e1979365fcd8": {
      "model_module": "@jupyter-widgets/controls",
      "model_module_version": "1.5.0",
      "model_name": "DescriptionStyleModel",
      "state": {
       "description_width": ""
      }
     },
     "6821ae8a07614a72b5c05536799b92cf": {
      "model_module": "@jupyter-widgets/base",
      "model_module_version": "1.2.0",
      "model_name": "LayoutModel",
      "state": {
       "width": "70px"
      }
     },
     "74b06fea885d4391864bfee36952f07b": {
      "model_module": "@jupyter-widgets/controls",
      "model_module_version": "1.5.0",
      "model_name": "DescriptionStyleModel",
      "state": {
       "description_width": ""
      }
     },
     "7a5ff651ab4b437ea915acf341b67f20": {
      "model_module": "@jupyter-widgets/base",
      "model_module_version": "1.2.0",
      "model_name": "LayoutModel",
      "state": {
       "width": "95px"
      }
     },
     "7ae1457c4f684d6794d249eaa9a94acc": {
      "model_module": "@jupyter-widgets/controls",
      "model_module_version": "1.5.0",
      "model_name": "DescriptionStyleModel",
      "state": {
       "description_width": ""
      }
     },
     "7b5fc24444434fa9a7f807088a14293e": {
      "model_module": "@jupyter-widgets/controls",
      "model_module_version": "1.5.0",
      "model_name": "ButtonStyleModel",
      "state": {
       "button_color": "white"
      }
     },
     "7d98bcc49e9e482c85510e3fdebb4359": {
      "model_module": "@jupyter-widgets/controls",
      "model_module_version": "1.5.0",
      "model_name": "HTMLModel",
      "state": {
       "layout": "IPY_MODEL_fee8f35c70f648a6a382391a315a5278",
       "style": "IPY_MODEL_65414571eb054bb1b1b9e1979365fcd8",
       "value": "<h5>Queue</h5>"
      }
     },
     "85262382a3bf47f49a1bdb73257f1818": {
      "model_module": "@jupyter-widgets/base",
      "model_module_version": "1.2.0",
      "model_name": "LayoutModel",
      "state": {
       "width": "190px"
      }
     },
     "872fb96d79a7463c94a48b68bdc4d8b2": {
      "model_module": "@jupyter-widgets/base",
      "model_module_version": "1.2.0",
      "model_name": "LayoutModel",
      "state": {
       "width": "190px"
      }
     },
     "8da984bdb0ae4001b4c2935a5e9e9d59": {
      "model_module": "@jupyter-widgets/controls",
      "model_module_version": "1.5.0",
      "model_name": "DescriptionStyleModel",
      "state": {
       "description_width": ""
      }
     },
     "980bb5cb9e9c4b60b9065031616d664d": {
      "model_module": "@jupyter-widgets/controls",
      "model_module_version": "1.5.0",
      "model_name": "GridBoxModel",
      "state": {
       "children": [
        "IPY_MODEL_dfeefea9e8034e8c80cb82bdb6b55d2e"
       ],
       "layout": "IPY_MODEL_fcd458c5b8f244f3a99805def3c88168"
      }
     },
     "9c7ab4884742498dbcb3b75c32a425a2": {
      "model_module": "@jupyter-widgets/base",
      "model_module_version": "1.2.0",
      "model_name": "LayoutModel",
      "state": {
       "overflow_x": "scroll"
      }
     },
     "a55f43dc6e3a457887b02dbd957aef40": {
      "model_module": "@jupyter-widgets/base",
      "model_module_version": "1.2.0",
      "model_name": "LayoutModel",
      "state": {
       "max_width": "700px",
       "min_width": "700px"
      }
     },
     "ac5e0bbc26c04232933137e62479c72d": {
      "model_module": "@jupyter-widgets/controls",
      "model_module_version": "1.5.0",
      "model_name": "DescriptionStyleModel",
      "state": {
       "description_width": ""
      }
     },
     "acad9d8c074c4c9d8baad1bbc5f21736": {
      "model_module": "@jupyter-widgets/base",
      "model_module_version": "1.2.0",
      "model_name": "LayoutModel",
      "state": {
       "width": "70px"
      }
     },
     "af1281ca60fd41e0bee96321d051813d": {
      "model_module": "@jupyter-widgets/controls",
      "model_module_version": "1.5.0",
      "model_name": "DescriptionStyleModel",
      "state": {
       "description_width": ""
      }
     },
     "b0688256e3fb4ce184cc5ff7bb3a7cd9": {
      "model_module": "@jupyter-widgets/controls",
      "model_module_version": "1.5.0",
      "model_name": "HTMLModel",
      "state": {
       "layout": "IPY_MODEL_c11183c3d1c944f4aeb6c76405db235a",
       "style": "IPY_MODEL_02cbf4d764c64ca98174585a4b32833a",
       "value": "RUNNING"
      }
     },
     "b26fd689f7dd47d6b6f0a7d0cb1be027": {
      "model_module": "@jupyter-widgets/controls",
      "model_module_version": "1.5.0",
      "model_name": "DescriptionStyleModel",
      "state": {
       "description_width": ""
      }
     },
     "b502de072d3b46f19dcd4c315b067086": {
      "model_module": "@jupyter-widgets/controls",
      "model_module_version": "1.5.0",
      "model_name": "ButtonModel",
      "state": {
       "icon": "close",
       "layout": "IPY_MODEL_f1c2cfaed6ab4b3396055c77f9a094b7",
       "style": "IPY_MODEL_f11bb1468c6f4fd5b9866e36bc3e5175"
      }
     },
     "c095ea2ec10d4a8c9eb81c3fb1399823": {
      "model_module": "@jupyter-widgets/controls",
      "model_module_version": "1.5.0",
      "model_name": "HTMLModel",
      "state": {
       "layout": "IPY_MODEL_ef40f0505f7b4517aced8783c5407273",
       "style": "IPY_MODEL_ac5e0bbc26c04232933137e62479c72d",
       "value": "<h5>Backend</h5>"
      }
     },
     "c11183c3d1c944f4aeb6c76405db235a": {
      "model_module": "@jupyter-widgets/base",
      "model_module_version": "1.2.0",
      "model_name": "LayoutModel",
      "state": {
       "width": "95px"
      }
     },
     "c2fd2bae2bb94d6ba365b46bfaeeb65d": {
      "model_module": "@jupyter-widgets/base",
      "model_module_version": "1.2.0",
      "model_name": "LayoutModel",
      "state": {
       "width": "145px"
      }
     },
     "c4eb9cc73f8c4eccb6a830236c301b7e": {
      "model_module": "@jupyter-widgets/controls",
      "model_module_version": "1.5.0",
      "model_name": "HBoxModel",
      "state": {
       "children": [
        "IPY_MODEL_d919b35b938442528845b65341aa4a68",
        "IPY_MODEL_c095ea2ec10d4a8c9eb81c3fb1399823",
        "IPY_MODEL_184fd62bc51c4c649d9c09180577aa52",
        "IPY_MODEL_7d98bcc49e9e482c85510e3fdebb4359",
        "IPY_MODEL_3343b8d82279478a8adaee854284b387"
       ],
       "layout": "IPY_MODEL_dde110aedfdd40a59e9353d130a2824c"
      }
     },
     "c8250d585b174a3fae8391d7383eeeed": {
      "model_module": "@jupyter-widgets/base",
      "model_module_version": "1.2.0",
      "model_name": "LayoutModel",
      "state": {
       "width": "95px"
      }
     },
     "c875a8646cd74c87beda52d55a3120d5": {
      "model_module": "@jupyter-widgets/controls",
      "model_module_version": "1.5.0",
      "model_name": "DescriptionStyleModel",
      "state": {
       "description_width": ""
      }
     },
     "d919b35b938442528845b65341aa4a68": {
      "model_module": "@jupyter-widgets/controls",
      "model_module_version": "1.5.0",
      "model_name": "HTMLModel",
      "state": {
       "layout": "IPY_MODEL_85262382a3bf47f49a1bdb73257f1818",
       "style": "IPY_MODEL_af1281ca60fd41e0bee96321d051813d",
       "value": "<h5>Job ID</h5>"
      }
     },
     "d9a2140aacbf434fa9dd0007a364dff4": {
      "model_module": "@jupyter-widgets/base",
      "model_module_version": "1.2.0",
      "model_name": "LayoutModel",
      "state": {
       "grid_area": "right",
       "padding": "0px 0px 0px 0px",
       "width": "70px"
      }
     },
     "dde110aedfdd40a59e9353d130a2824c": {
      "model_module": "@jupyter-widgets/base",
      "model_module_version": "1.2.0",
      "model_name": "LayoutModel",
      "state": {
       "margin": "0px 0px 0px 37px",
       "width": "600px"
      }
     },
     "dfbe25872b4e494abc9dabf6922d04e6": {
      "model_module": "@jupyter-widgets/controls",
      "model_module_version": "1.5.0",
      "model_name": "DescriptionStyleModel",
      "state": {
       "description_width": ""
      }
     },
     "dfeefea9e8034e8c80cb82bdb6b55d2e": {
      "model_module": "@jupyter-widgets/controls",
      "model_module_version": "1.5.0",
      "model_name": "ButtonModel",
      "state": {
       "button_style": "primary",
       "description": "Clear",
       "layout": "IPY_MODEL_d9a2140aacbf434fa9dd0007a364dff4",
       "style": "IPY_MODEL_f59b5004392e49d9be29d6a5d31a91c4"
      }
     },
     "e21bced12c904edc835eafa2e5d964d2": {
      "model_module": "@jupyter-widgets/controls",
      "model_module_version": "1.5.0",
      "model_name": "HTMLModel",
      "state": {
       "layout": "IPY_MODEL_6821ae8a07614a72b5c05536799b92cf",
       "style": "IPY_MODEL_8da984bdb0ae4001b4c2935a5e9e9d59",
       "value": "-"
      }
     },
     "e5dfaa51014c4619bbcd89bfbb50e7fd": {
      "model_module": "@jupyter-widgets/controls",
      "model_module_version": "1.5.0",
      "model_name": "DescriptionStyleModel",
      "state": {
       "description_width": ""
      }
     },
     "eb5916849cbf4fd1ba959b072da86d8b": {
      "model_module": "@jupyter-widgets/controls",
      "model_module_version": "1.5.0",
      "model_name": "HTMLModel",
      "state": {
       "layout": "IPY_MODEL_872fb96d79a7463c94a48b68bdc4d8b2",
       "style": "IPY_MODEL_2db2f97992144bf488e3f6956feadbb6",
       "value": "6244625e3745f02b2a2a6bbc"
      }
     },
     "ebbb7e94042040e6b64f8737f3261a07": {
      "model_module": "@jupyter-widgets/controls",
      "model_module_version": "1.5.0",
      "model_name": "DescriptionStyleModel",
      "state": {
       "description_width": ""
      }
     },
     "ed99d6b57b7544be875fc2afdb0590b6": {
      "model_module": "@jupyter-widgets/base",
      "model_module_version": "1.2.0",
      "model_name": "LayoutModel",
      "state": {
       "width": "190px"
      }
     },
     "ef40f0505f7b4517aced8783c5407273": {
      "model_module": "@jupyter-widgets/base",
      "model_module_version": "1.2.0",
      "model_name": "LayoutModel",
      "state": {
       "width": "145px"
      }
     },
     "f11bb1468c6f4fd5b9866e36bc3e5175": {
      "model_module": "@jupyter-widgets/controls",
      "model_module_version": "1.5.0",
      "model_name": "ButtonStyleModel",
      "state": {
       "button_color": "white"
      }
     },
     "f1c2cfaed6ab4b3396055c77f9a094b7": {
      "model_module": "@jupyter-widgets/base",
      "model_module_version": "1.2.0",
      "model_name": "LayoutModel",
      "state": {
       "margin": "0px 5px 0px 0px",
       "width": "32px"
      }
     },
     "f59b5004392e49d9be29d6a5d31a91c4": {
      "model_module": "@jupyter-widgets/controls",
      "model_module_version": "1.5.0",
      "model_name": "ButtonStyleModel",
      "state": {}
     },
     "f8a963bbd9014732a0354ffee196ffa7": {
      "model_module": "@jupyter-widgets/controls",
      "model_module_version": "1.5.0",
      "model_name": "HTMLModel",
      "state": {
       "layout": "IPY_MODEL_c8250d585b174a3fae8391d7383eeeed",
       "style": "IPY_MODEL_43d72061ba8d49e39a025f9f7621b9cb",
       "value": "<font style='color:#34BC6E'>DONE</font>"
      }
     },
     "fa0a46936a354466b6917c7dc92b70b1": {
      "model_module": "@jupyter-widgets/controls",
      "model_module_version": "1.5.0",
      "model_name": "HBoxModel",
      "state": {
       "children": [
        "IPY_MODEL_2be94c955bfc423b9dc4d11bd7bd87f3",
        "IPY_MODEL_09a30bf8002e4ff3b6c4dfc5f115ea04",
        "IPY_MODEL_3b31f9b168f84154bba941a739d1dbe1",
        "IPY_MODEL_f8a963bbd9014732a0354ffee196ffa7",
        "IPY_MODEL_060febc29a0c41f2bdcbe46d38a9e293",
        "IPY_MODEL_3bb5ae6709284b7aa2f750e60af959b1"
       ],
       "layout": "IPY_MODEL_1c717b70e685426f88d0bd2c4ece5ca1"
      }
     },
     "fa9d480a2f4746e193796aa8a20a6537": {
      "model_module": "@jupyter-widgets/base",
      "model_module_version": "1.2.0",
      "model_name": "LayoutModel",
      "state": {}
     },
     "fcd458c5b8f244f3a99805def3c88168": {
      "model_module": "@jupyter-widgets/base",
      "model_module_version": "1.2.0",
      "model_name": "LayoutModel",
      "state": {
       "grid_template_areas": "\n                                       \". . . . right \"\n                                        ",
       "grid_template_columns": "20% 20% 20% 20% 20%",
       "width": "100%"
      }
     },
     "fee8f35c70f648a6a382391a315a5278": {
      "model_module": "@jupyter-widgets/base",
      "model_module_version": "1.2.0",
      "model_name": "LayoutModel",
      "state": {
       "width": "70px"
      }
     },
     "fffdf2bc9c0947bf928e7d346d6b21fc": {
      "model_module": "@jupyter-widgets/base",
      "model_module_version": "1.2.0",
      "model_name": "LayoutModel",
      "state": {
       "overflow_x": "scroll"
      }
     }
    },
    "version_major": 2,
    "version_minor": 0
   }
  }
 },
 "nbformat": 4,
 "nbformat_minor": 5
}
