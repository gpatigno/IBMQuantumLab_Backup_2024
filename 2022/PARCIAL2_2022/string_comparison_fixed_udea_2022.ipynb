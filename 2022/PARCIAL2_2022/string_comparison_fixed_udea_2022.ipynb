{
 "cells": [
  {
   "cell_type": "markdown",
   "metadata": {
    "id": "Su_wIgHR0Ujk"
   },
   "source": [
    "## _*Comparing Strings with Quantum Superpositon*_ \n",
    "\n",
    "The latest version of this notebook is available on \n",
    "\n",
    "https://github.com/qiskit-community/qiskit-community-tutorials/blob/master/hello_world/string_comparison.ipynb\n",
    "\n",
    "For more information about how to use the IBM Q Experience (QX), consult the [tutorials](https://quantum-computing.ibm.com/lab/docs/iql/tutorials-overview), or check out the [community](https://research.ibm.com/topics/quantum-community).\n",
    "\n",
    "### Contributors\n",
    "Rudy Raymond"
   ]
  },
  {
   "cell_type": "markdown",
   "metadata": {},
   "source": [
    "## _*Código modificado en la UdeA, Medellín, Colombia*_ \n",
    " El presente código tiene múltiples cambios debido a errores presentados en la versión original de este código, especificamente en la operación de inversión de compuertas inicializadas con amplitudes complejas numéricas. Este error fue originado por una actualización en las *Class Instruction* y *Class Initialize* de la plataforma Qiskit Terra.\n",
    "\n",
    "### Gustavo Patino\n",
    "Facultad de Ingeniería\n",
    "\n",
    "Universidad de Antioquia\n",
    "\n",
    "Medellin, Colombia. 2020 - 2022"
   ]
  },
  {
   "cell_type": "markdown",
   "metadata": {
    "id": "Gs3r0B6U0Ujn"
   },
   "source": [
    "## Motivation\n",
    "\n",
    "If we can use quantum states to represent genetic codes, we may be able to compare them, and/or find similar genetic codes quickly. \n",
    "\n",
    "For example, according to [this site](http://www.bioinformatics.org/sms2/genetic_code.html) the starts of the genetic codes for the Yeast Mitochondrial, Protozoan Mitochondrial, and Bacterial Code are respectively as follow. "
   ]
  },
  {
   "cell_type": "code",
   "execution_count": 1,
   "metadata": {
    "ExecuteTime": {
     "end_time": "2018-09-25T16:52:52.597525Z",
     "start_time": "2018-09-25T16:52:52.593598Z"
    },
    "id": "3alSdf660Ujo"
   },
   "outputs": [],
   "source": [
    "YEAST     = \"----------------------------------MM----------------------------\"\n",
    "PROTOZOAN = \"--MM---------------M------------MMMM---------------M------------\"\n",
    "BACTERIAL = \"---M---------------M------------MMMM---------------M------------\""
   ]
  },
  {
   "cell_type": "markdown",
   "metadata": {
    "id": "uWwKtoBV0Ujp"
   },
   "source": [
    "Notice that each of the codes is represented by a bitstring of length 64. By comparing characters at the same position in the strings, we can see that Protozoan's is closer to Bacterial's than Yeast's. \n",
    "\n",
    "Exploiting quantum superposition, we can create quantum states by using only 7 qubits such that each of the quantum states corresponds to the genetic code of Yeast, Protozoan, and Bacterial. We then compare the closeness of their genetic codes by comparing their quantum states, which is made possible by the reversibility of quantum circuit.\n",
    "\n",
    "The reversibility of quantum circuit to test the similarity of quantum states works as follow. Assume that we can create a quantum superposition starting from all-zero states by a quantum circuit. Then by inverting the same quantum circuit and we give it the same quantum superposition as input, we will get exactly all-zero bits as the output. Now, when we give a similar quantum superposition as input to the inverted circuit, we can still get all-zero bits as the output with probability proportional to the similarity of the quantum states: the more similar, the more we observe all-zero bits. \n",
    "\n",
    "Thus, to decide which code (*Yeast's* *or* *Bacterial's*) is the most similar to the Protozoan, we can do the following:\n",
    "\n",
    "1. We first prepare the quantum state that encodes the Protozoan's\n",
    "2. We then use the quantum state as inputs to the inverted circuits that each prepare the quantum state of Yeast's and Bacterial's. Run and measure the circuits\n",
    "3. Output the name of the inverted circuit whose measurements result in more frequent measurements of all-zero bits. \n",
    "\n",
    "\n",
    "## Quantum Superposition for Bitstrings\n",
    "\n",
    "A qubit can be in a superposition of two basis states: \"0\" and \"1\" at the same time. Going further, two qubits can be in a superposition of four basis states: \"00\", \"01\", \"10\", and \"11\". In general, $n$ qubits can be in a superposition of $2^n$ (exponential in the number of qubits!) basis states. \n",
    "\n",
    "Here, we show a simple example to create quantum superpositon for bitstrings and use them to compare the similarity between two bitstrings. This tutorial makes use the [quantum state initialization function](https://nbviewer.jupyter.org/github/QISKit/qiskit-tutorial/blob/master/reference/tools/quantum_gates_and_linear_algebra.ipynb#Arbitrary-initialization) and **circuit inversion**. It also illustrates the power of loading data into quantum states. "
   ]
  },
  {
   "cell_type": "markdown",
   "metadata": {
    "id": "mxWLy9f10Ujr"
   },
   "source": [
    "## Comparing bitstrings of length 64 with 7 qubits\n",
    "\n",
    "Let say we have three genetic codes as above.\n",
    "\n",
    "```\n",
    "YEAST     = \"----------------------------------MM----------------------------\"\n",
    "PROTOZOAN = \"--MM---------------M------------MMMM---------------M------------\"\n",
    "BACTERIAL = \"---M---------------M------------MMMM---------------M------------\"\n",
    "```\n",
    "\n",
    "Let use 7 qubits to encode the above codes: the first 6 qubits for indexing the location in the code (because we have 64 positions that we number from 0 to 63), and the last qubit for the content of the code (we use \"0\" for \"-\" and \"1\" for \"M\"). Thus, numbering the position of the code from left to right, we can create quantum states for each of the code as below: \n",
    "\n",
    "\\begin{eqnarray}\n",
    "|YEAST \\rangle &=& \\frac{1}{8} \\left( |000000\\rangle |0\\rangle +  |000001\\rangle |0\\rangle  + |000010\\rangle |0\\rangle + |000011\\rangle |0\\rangle + \\ldots \\right) \\\\\n",
    "|PROTOZOAN \\rangle &=& \\frac{1}{8} \\left( |000000\\rangle |0\\rangle +  |000001\\rangle |0\\rangle + |000010\\rangle |1\\rangle + |000011\\rangle |1\\rangle + \\ldots \\right) \\\\\n",
    "|BACTERIAL \\rangle &=& \\frac{1}{8} \\left( |000000\\rangle |0\\rangle +  |000001\\rangle |0\\rangle + |000010\\rangle |0\\rangle + |000011\\rangle |1\\rangle + \\ldots \\right)\n",
    "\\end{eqnarray}\n",
    "\n",
    "The first four codes of Yeast's are all \"-\", and therefore at the above all of the second registers of the corresponding state are \"0\". And so on. \n",
    "\n",
    "### Creating quantum superposition for genetic codes\n",
    "\n",
    "Below is the python function to create a quantum superposition for a given genetic code as above. "
   ]
  },
  {
   "cell_type": "code",
   "execution_count": 2,
   "metadata": {
    "ExecuteTime": {
     "end_time": "2018-09-25T16:52:53.178637Z",
     "start_time": "2018-09-25T16:52:53.170526Z"
    },
    "id": "DrIreivv0Ujt"
   },
   "outputs": [],
   "source": [
    "import sys\n",
    "import numpy as np\n",
    "import math\n",
    "\n",
    "from qiskit import QuantumCircuit, QuantumRegister, ClassicalRegister, execute, BasicAer, IBMQ\n",
    "from qiskit.visualization import plot_histogram, plot_bloch_multivector\n",
    "\n",
    "from qiskit.extensions import Initialize"
   ]
  },
  {
   "cell_type": "markdown",
   "metadata": {
    "id": "yf6i1LGA0Ujv"
   },
   "source": [
    "### Cambio realizado UdeA 2020 - 2022\n",
    "En la definición de la siguiente función se encuentran los cambios que fueron necesarios para corregir el error presentado."
   ]
  },
  {
   "cell_type": "code",
   "execution_count": 3,
   "metadata": {
    "ExecuteTime": {
     "end_time": "2018-09-25T16:52:53.351971Z",
     "start_time": "2018-09-25T16:52:53.339024Z"
    },
    "id": "06Ls5vxx0Ujw"
   },
   "outputs": [],
   "source": [
    "def encode_bitstring(bitstring, qr, cr, inverse=False):\n",
    "    \"\"\"\n",
    "    create a circuit for constructing the quantum superposition of the bitstring\n",
    "    \"\"\"\n",
    "    n = math.ceil(math.log2(len(bitstring))) + 1                 #number of qubits\n",
    "    assert n > 2, \"the length of bitstring must be at least 2\"\n",
    "    \n",
    "    qc = QuantumCircuit(qr, cr)\n",
    "    \n",
    "    #the probability amplitude of the desired state\n",
    "    desired_vector = np.array([ 0.0 for i in range(2**n) ])     #initialize to zero\n",
    "\n",
    "################################################################################################################    \n",
    " #         Cambio requerido en el código para corregir error presentado   #\n",
    "    \n",
    "    qc_init = QuantumCircuit(n) # Creación de compuertas circuitales para inicialización\n",
    "    inverse_qc_init = QuantumCircuit(n) # Creación de compuertas circuitales para inversión de la inicialización\n",
    "\n",
    "################################################################################################################\n",
    "\n",
    "    amplitude = np.sqrt(1.0/2**(n-1))\n",
    "    \n",
    "    for i, b in enumerate(bitstring):\n",
    "        pos = i * 2\n",
    "        if b == \"1\" or b == \"M\":\n",
    "            pos += 1\n",
    "        desired_vector[pos] = amplitude\n",
    "\n",
    "################################################################################################################    \n",
    " #         Cambio requerido en el código para corregir error presentado   #\n",
    "    \n",
    "    qc_init = Initialize(desired_vector)\n",
    "    \n",
    " ################################################################################################################       \n",
    "    \n",
    "    if not inverse:\n",
    "#         qc.initialize(desired_vector, qr)\n",
    "\n",
    "        qc.append(qc_init, qr)  #  Cambio requerido en el código para corregir error presentado   #\n",
    "    \n",
    "        qc.barrier(qr)\n",
    "        \n",
    "    else:\n",
    "#         qc.initialize(desired_vector, qr).inverse()  #invert the circuit\n",
    "\n",
    "        inverse_qc_init = qc_init.gates_to_uncompute()  # Cambio requerido en el código para corregir error presentado   #\n",
    "        qc.append(inverse_qc_init, qr)  # Cambio requerido en el código para corregir error presentado   #\n",
    "        \n",
    "        qc.barrier(qr)\n",
    "        for i in range(n):\n",
    "            qc.measure(qr[i], cr[i])\n",
    "    print()\n",
    "    return qc"
   ]
  },
  {
   "cell_type": "markdown",
   "metadata": {
    "id": "Os676jtV0Ujy"
   },
   "source": [
    "We can now create quantum circuits to create the quantum states for the Yeast's, Protozoan's, and Bacterial's."
   ]
  },
  {
   "cell_type": "code",
   "execution_count": 4,
   "metadata": {
    "ExecuteTime": {
     "end_time": "2018-09-25T16:52:53.884331Z",
     "start_time": "2018-09-25T16:52:53.649109Z"
    },
    "id": "me0yXEUX0Ujy",
    "outputId": "7b7baa3d-c1ac-40b5-bca8-ec89e148306b"
   },
   "outputs": [
    {
     "name": "stdout",
     "output_type": "stream",
     "text": [
      "\n",
      "\n",
      "\n"
     ]
    }
   ],
   "source": [
    "n = math.ceil(math.log2(len(YEAST))) + 1                 #number of qubits\n",
    "qr = QuantumRegister(n)\n",
    "cr = ClassicalRegister(n)\n",
    "\n",
    "qc_yeast     = encode_bitstring(YEAST, qr, cr)\n",
    "qc_protozoan = encode_bitstring(PROTOZOAN, qr, cr)\n",
    "qc_bacterial = encode_bitstring(BACTERIAL, qr, cr)\n",
    "\n",
    "circs = {\"YEAST\": qc_yeast, \"PROTOZOAN\": qc_protozoan, \"BACTERIAL\": qc_bacterial}"
   ]
  },
  {
   "cell_type": "markdown",
   "metadata": {
    "id": "8swHLkmQ0Uj0"
   },
   "source": [
    "### Inverting quantum circuit\n",
    "\n",
    "We can easily invert a quantum circuit by `inverse()` function. These inversed circuits are desirable to compute the closeness of the quantum states. "
   ]
  },
  {
   "cell_type": "code",
   "execution_count": 5,
   "metadata": {
    "ExecuteTime": {
     "end_time": "2018-09-25T16:52:54.207679Z",
     "start_time": "2018-09-25T16:52:53.960262Z"
    },
    "id": "tpLYghdI0Uj0",
    "outputId": "c9958e13-a282-4935-814a-5e72246f7ff4"
   },
   "outputs": [
    {
     "name": "stdout",
     "output_type": "stream",
     "text": [
      "\n",
      "\n",
      "\n"
     ]
    }
   ],
   "source": [
    "inverse_qc_yeast     = encode_bitstring(YEAST,     qr, cr, inverse=True)\n",
    "inverse_qc_protozoan = encode_bitstring(PROTOZOAN, qr, cr, inverse=True)\n",
    "inverse_qc_bacterial = encode_bitstring(BACTERIAL, qr, cr, inverse=True)\n",
    "\n",
    "inverse_circs = {\"YEAST\": inverse_qc_yeast, \"PROTOZOAN\": inverse_qc_protozoan, \"BACTERIAL\": inverse_qc_bacterial}"
   ]
  },
  {
   "cell_type": "markdown",
   "metadata": {
    "id": "2vQjppAo0Uj1"
   },
   "source": [
    "### Comparing bitsrings\n",
    "\n",
    "We can now compare how close the starts of the genetic codes of Protozoan to Yeast's and Bacterial's by performing the test."
   ]
  },
  {
   "cell_type": "code",
   "execution_count": 6,
   "metadata": {
    "ExecuteTime": {
     "end_time": "2018-09-25T16:54:49.528857Z",
     "start_time": "2018-09-25T16:52:54.299872Z"
    },
    "id": "pABPCM-U0Uj1",
    "outputId": "30f33edb-29b0-4052-b1a9-d4d769ff8eda"
   },
   "outputs": [
    {
     "name": "stdout",
     "output_type": "stream",
     "text": [
      "Similarity score of PROTOZOAN and YEAST is 0.82080078125\n",
      "Similarity score of PROTOZOAN and BACTERIAL is 0.9696044921875\n",
      "[ANSWER] PROTOZOAN is most similar to BACTERIAL\n"
     ]
    }
   ],
   "source": [
    "from qiskit import IBMQ, BasicAer\n",
    "\n",
    "key = \"PROTOZOAN\"       #the name of the code used as key to find similar ones\n",
    "\n",
    "# use local simulator\n",
    "backend = BasicAer.get_backend(\"qasm_simulator\")\n",
    "shots = 8192\n",
    "\n",
    "combined_circs = {}\n",
    "count = {}\n",
    "\n",
    "most_similar, most_similar_score = \"\", -1.0\n",
    "\n",
    "for other_key in inverse_circs:\n",
    "    if other_key == key:\n",
    "        continue\n",
    "        \n",
    "    combined_circs[other_key] = circs[key].compose(inverse_circs[other_key])   #combined circuits to look for similar codes\n",
    "    job = execute(combined_circs[other_key], backend=backend,shots=shots)\n",
    "    st = job.result().get_counts(combined_circs[other_key])\n",
    "    if \"0\"*n in st:\n",
    "        sim_score = st[\"0\"*n]/shots\n",
    "    else:\n",
    "        sim_score = 0.0\n",
    "    \n",
    "    print(\"Similarity score of\",key,\"and\",other_key,\"is\",sim_score)\n",
    "    if most_similar_score < sim_score:\n",
    "        most_similar, most_similar_score = other_key, sim_score\n",
    "\n",
    "print(\"[ANSWER]\", key,\"is most similar to\", most_similar)"
   ]
  },
  {
   "cell_type": "markdown",
   "metadata": {
    "id": "4HKglXZu0Uj2"
   },
   "source": [
    "We observe that the test can be used to determine which code is closer: bacterial's is closer to protozoan's than yeast's. \n",
    "\n",
    "There are many other genetic codes listed at [bioinformatics.org](http://www.bioinformatics.org/sms2/genetic_code.html) which can be used as input strings. In general, DNA has four nucleotides: \"A\", \"C\", \"G\", and \"T\". Thus, instead of one qubit like in this notebook, two qubits are required to encode the nucleotides. However, the asymptotic amount of quantum bits for encoding the whole sequence of length $N$ is still in the order of $\\log{N}$, which is exponentially small. "
   ]
  },
  {
   "cell_type": "markdown",
   "metadata": {
    "id": "e7g5BoAG0Uj3"
   },
   "source": [
    "## Deep Dive\n",
    "\n",
    "The technique of using circuit inversion to measure how close two quantum states has been used in many literature. For example, it is used for Quantum Kernel Estimation in [Havlicek et al., 2018](https://arxiv.org/pdf/1804.11326.pdf) for supervised learning. The idea of using quantum superposition to encode bistrings appeared in [Quantum Fingerprinting](https://arxiv.org/pdf/quant-ph/0102001.pdf) where a quantum exponential advantage is shown for a communication task of comparing two bitstrings. \n",
    "\n",
    "The intuition of why combining a circuit which creates a quantum state with another circuit which is the inverted circuit of creating another quantum state can be used to measure how close two quantum states is as follow. \n",
    "\n",
    "All operations (except measurements) in quantum computers are unitary and hence, distance preserving. This means if we apply the same operation (or, circuit) to two states that are similar, the resulting states will also be similar. All those operations are also reversible, that means, if we know a circuit $C$ to create a particular quantum state $|\\phi\\rangle$ from the all-zero state, we can also design the circuit $C'$ that transforms back the quantum state $|\\phi\\rangle$ to the all-zero state. Now, if we apply $C'$ to a quantum state $|\\psi\\rangle$ which is similar to $|\\phi\\rangle$, we will obtain a quantum state which is also similar to the all-zero state. The distance of the resulting state to the all-zero state is the same as the distance between  $|\\phi\\rangle$ and $|\\psi\\rangle$. \n",
    "\n",
    "\n",
    "We can notice that the similarity of two different quantum states can be very close to zero, and thus making difficult to find the discrepancies. However, we can use encoding techniques, such as, by [employing repetition code](https://arxiv.org/abs/1709.00990), to guarantee that different quantum states are separated far enough. In general, we can exploit error correcting codes, such as, [Justesen code](https://en.wikipedia.org/wiki/Justesen_code), or [locality-sensitive hashing](https://en.wikipedia.org/wiki/Locality-sensitive_hashing) to encode bitstrings efficiently. "
   ]
  },
  {
   "cell_type": "code",
   "execution_count": 7,
   "metadata": {},
   "outputs": [
    {
     "name": "stderr",
     "output_type": "stream",
     "text": [
      "<frozen importlib._bootstrap>:219: RuntimeWarning: scipy._lib.messagestream.MessageStream size changed, may indicate binary incompatibility. Expected 56 from C header, got 64 from PyObject\n"
     ]
    },
    {
     "data": {
      "text/html": [
       "<h3>Version Information</h3><table><tr><th>Qiskit Software</th><th>Version</th></tr><tr><td><code>qiskit-terra</code></td><td>0.21.0</td></tr><tr><td><code>qiskit-aer</code></td><td>0.10.4</td></tr><tr><td><code>qiskit-ibmq-provider</code></td><td>0.19.2</td></tr><tr><td><code>qiskit</code></td><td>0.37.0</td></tr><tr><td><code>qiskit-nature</code></td><td>0.4.2</td></tr><tr><td><code>qiskit-finance</code></td><td>0.3.3</td></tr><tr><td><code>qiskit-optimization</code></td><td>0.4.0</td></tr><tr><td><code>qiskit-machine-learning</code></td><td>0.4.0</td></tr><tr><th>System information</th></tr><tr><td>Python version</td><td>3.8.13</td></tr><tr><td>Python compiler</td><td>GCC 10.3.0</td></tr><tr><td>Python build</td><td>default, Mar 25 2022 06:04:10</td></tr><tr><td>OS</td><td>Linux</td></tr><tr><td>CPUs</td><td>8</td></tr><tr><td>Memory (Gb)</td><td>31.221168518066406</td></tr><tr><td colspan='2'>Sun Jul 24 19:04:57 2022 UTC</td></tr></table>"
      ],
      "text/plain": [
       "<IPython.core.display.HTML object>"
      ]
     },
     "metadata": {},
     "output_type": "display_data"
    },
    {
     "data": {
      "text/html": [
       "<div style='width: 100%; background-color:#d5d9e0;padding-left: 10px; padding-bottom: 10px; padding-right: 10px; padding-top: 5px'><h3>This code is a part of Qiskit</h3><p>&copy; Copyright IBM 2017, 2022.</p><p>This code is licensed under the Apache License, Version 2.0. You may<br>obtain a copy of this license in the LICENSE.txt file in the root directory<br> of this source tree or at http://www.apache.org/licenses/LICENSE-2.0.<p>Any modifications or derivative works of this code must retain this<br>copyright notice, and modified files need to carry a notice indicating<br>that they have been altered from the originals.</p></div>"
      ],
      "text/plain": [
       "<IPython.core.display.HTML object>"
      ]
     },
     "metadata": {},
     "output_type": "display_data"
    }
   ],
   "source": [
    "import qiskit.tools.jupyter\n",
    "%qiskit_version_table\n",
    "%qiskit_copyright"
   ]
  }
 ],
 "metadata": {
  "colab": {
   "name": "string_comparison_fixed_udea.ipynb",
   "provenance": []
  },
  "kernelspec": {
   "display_name": "Python 3 (ipykernel)",
   "language": "python",
   "name": "python3"
  },
  "language_info": {
   "codemirror_mode": {
    "name": "ipython",
    "version": 3
   },
   "file_extension": ".py",
   "mimetype": "text/x-python",
   "name": "python",
   "nbconvert_exporter": "python",
   "pygments_lexer": "ipython3",
   "version": "3.8.13"
  },
  "toc": {
   "colors": {
    "hover_highlight": "#DAA520",
    "running_highlight": "#FF0000",
    "selected_highlight": "#FFD700"
   },
   "moveMenuLeft": true,
   "nav_menu": {
    "height": "48px",
    "width": "252px"
   },
   "navigate_menu": true,
   "number_sections": true,
   "sideBar": true,
   "threshold": 4,
   "toc_cell": false,
   "toc_section_display": "block",
   "toc_window_display": false
  },
  "widgets": {
   "application/vnd.jupyter.widget-state+json": {
    "state": {
     "198183bcd02c448d844382ee22e0eed8": {
      "model_module": "@jupyter-widgets/base",
      "model_module_version": "1.2.0",
      "model_name": "LayoutModel",
      "state": {
       "grid_area": "right",
       "padding": "0px 0px 0px 0px",
       "width": "70px"
      }
     },
     "27677226f24249e7b2e0ffce3206f8d1": {
      "model_module": "@jupyter-widgets/controls",
      "model_module_version": "1.5.0",
      "model_name": "DescriptionStyleModel",
      "state": {
       "description_width": ""
      }
     },
     "2d48bed29cb9449092d5bb9a952f4ca4": {
      "model_module": "@jupyter-widgets/base",
      "model_module_version": "1.2.0",
      "model_name": "LayoutModel",
      "state": {
       "grid_template_areas": "\n                                       \". . . . right \"\n                                        ",
       "grid_template_columns": "20% 20% 20% 20% 20%",
       "width": "100%"
      }
     },
     "345cce819fd64d5eab508feb651a1f58": {
      "model_module": "@jupyter-widgets/base",
      "model_module_version": "1.2.0",
      "model_name": "LayoutModel",
      "state": {
       "margin": "0px 0px 0px 37px",
       "width": "600px"
      }
     },
     "3783f06988c44572a7404edbfc2b48c8": {
      "model_module": "@jupyter-widgets/controls",
      "model_module_version": "1.5.0",
      "model_name": "HTMLModel",
      "state": {
       "layout": "IPY_MODEL_66a8203caf9a4f479eeb577e46ac78e4",
       "style": "IPY_MODEL_556c3fd2096241e29a3d727bc0c2c7df",
       "value": "<p style='font-family: IBM Plex Sans, Arial, Helvetica, sans-serif; font-size: 20px; font-weight: medium;'>Circuit Properties</p>"
      }
     },
     "42ba2edee4894e98a7b7c544fe36e69f": {
      "model_module": "@jupyter-widgets/controls",
      "model_module_version": "1.5.0",
      "model_name": "DescriptionStyleModel",
      "state": {
       "description_width": ""
      }
     },
     "556c3fd2096241e29a3d727bc0c2c7df": {
      "model_module": "@jupyter-widgets/controls",
      "model_module_version": "1.5.0",
      "model_name": "DescriptionStyleModel",
      "state": {
       "description_width": ""
      }
     },
     "66a8203caf9a4f479eeb577e46ac78e4": {
      "model_module": "@jupyter-widgets/base",
      "model_module_version": "1.2.0",
      "model_name": "LayoutModel",
      "state": {
       "margin": "0px 0px 10px 0px"
      }
     },
     "686be622129f456388989cf2c39c9602": {
      "model_module": "@jupyter-widgets/base",
      "model_module_version": "1.2.0",
      "model_name": "LayoutModel",
      "state": {}
     },
     "7ae2b57a4af24b0b8e08c45aba837f23": {
      "model_module": "@jupyter-widgets/base",
      "model_module_version": "1.2.0",
      "model_name": "LayoutModel",
      "state": {
       "width": "145px"
      }
     },
     "8412559a9b49467583bea54264f9ecb6": {
      "model_module": "@jupyter-widgets/controls",
      "model_module_version": "1.5.0",
      "model_name": "GridBoxModel",
      "state": {
       "children": [
        "IPY_MODEL_9ee29272c2d24972930835b27e13e6d6"
       ],
       "layout": "IPY_MODEL_2d48bed29cb9449092d5bb9a952f4ca4"
      }
     },
     "85b9f287dd8e44e88ef863314c385a32": {
      "model_module": "@jupyter-widgets/controls",
      "model_module_version": "1.5.0",
      "model_name": "DescriptionStyleModel",
      "state": {
       "description_width": ""
      }
     },
     "888e1c4679de4027aaa3a37c3cccf6eb": {
      "model_module": "@jupyter-widgets/controls",
      "model_module_version": "1.5.0",
      "model_name": "HTMLModel",
      "state": {
       "layout": "IPY_MODEL_970fab57209c46c780063996adf7267c",
       "style": "IPY_MODEL_d27e65739320479c8e3d9efe67f06c47",
       "value": "<h5>Job ID</h5>"
      }
     },
     "911a49d958a84c5f870989d57f180011": {
      "model_module": "@jupyter-widgets/controls",
      "model_module_version": "1.5.0",
      "model_name": "ButtonStyleModel",
      "state": {}
     },
     "9623e469e0e94733ad547fc9914784f7": {
      "model_module": "@jupyter-widgets/base",
      "model_module_version": "1.2.0",
      "model_name": "LayoutModel",
      "state": {
       "width": "70px"
      }
     },
     "970fab57209c46c780063996adf7267c": {
      "model_module": "@jupyter-widgets/base",
      "model_module_version": "1.2.0",
      "model_name": "LayoutModel",
      "state": {
       "width": "190px"
      }
     },
     "9ee29272c2d24972930835b27e13e6d6": {
      "model_module": "@jupyter-widgets/controls",
      "model_module_version": "1.5.0",
      "model_name": "ButtonModel",
      "state": {
       "button_style": "primary",
       "description": "Clear",
       "layout": "IPY_MODEL_198183bcd02c448d844382ee22e0eed8",
       "style": "IPY_MODEL_911a49d958a84c5f870989d57f180011"
      }
     },
     "af731c3022c041fba1e808a067dfb941": {
      "model_module": "@jupyter-widgets/controls",
      "model_module_version": "1.5.0",
      "model_name": "HTMLModel",
      "state": {
       "layout": "IPY_MODEL_fb1821d82e5c45dd8a4bc89479697ebb",
       "style": "IPY_MODEL_85b9f287dd8e44e88ef863314c385a32",
       "value": "<h5>Status</h5>"
      }
     },
     "b56ecc3cf8004605ba64a3e8c60dd669": {
      "model_module": "@jupyter-widgets/controls",
      "model_module_version": "1.5.0",
      "model_name": "DescriptionStyleModel",
      "state": {
       "description_width": ""
      }
     },
     "d113a849159a4d0195cb21277943cce3": {
      "model_module": "@jupyter-widgets/controls",
      "model_module_version": "1.5.0",
      "model_name": "HBoxModel",
      "state": {
       "children": [
        "IPY_MODEL_888e1c4679de4027aaa3a37c3cccf6eb",
        "IPY_MODEL_d513500748ce4416a25c075cc67f6c2b",
        "IPY_MODEL_af731c3022c041fba1e808a067dfb941",
        "IPY_MODEL_e914deaa8a914a07b5f65c570f3ec0ee",
        "IPY_MODEL_d2a15f3942694bdd894035fb2aedd7ff"
       ],
       "layout": "IPY_MODEL_345cce819fd64d5eab508feb651a1f58"
      }
     },
     "d27e65739320479c8e3d9efe67f06c47": {
      "model_module": "@jupyter-widgets/controls",
      "model_module_version": "1.5.0",
      "model_name": "DescriptionStyleModel",
      "state": {
       "description_width": ""
      }
     },
     "d2a15f3942694bdd894035fb2aedd7ff": {
      "model_module": "@jupyter-widgets/controls",
      "model_module_version": "1.5.0",
      "model_name": "HTMLModel",
      "state": {
       "layout": "IPY_MODEL_686be622129f456388989cf2c39c9602",
       "style": "IPY_MODEL_42ba2edee4894e98a7b7c544fe36e69f",
       "value": "<h5>Message</h5>"
      }
     },
     "d513500748ce4416a25c075cc67f6c2b": {
      "model_module": "@jupyter-widgets/controls",
      "model_module_version": "1.5.0",
      "model_name": "HTMLModel",
      "state": {
       "layout": "IPY_MODEL_7ae2b57a4af24b0b8e08c45aba837f23",
       "style": "IPY_MODEL_b56ecc3cf8004605ba64a3e8c60dd669",
       "value": "<h5>Backend</h5>"
      }
     },
     "e914deaa8a914a07b5f65c570f3ec0ee": {
      "model_module": "@jupyter-widgets/controls",
      "model_module_version": "1.5.0",
      "model_name": "HTMLModel",
      "state": {
       "layout": "IPY_MODEL_9623e469e0e94733ad547fc9914784f7",
       "style": "IPY_MODEL_27677226f24249e7b2e0ffce3206f8d1",
       "value": "<h5>Queue</h5>"
      }
     },
     "fb1821d82e5c45dd8a4bc89479697ebb": {
      "model_module": "@jupyter-widgets/base",
      "model_module_version": "1.2.0",
      "model_name": "LayoutModel",
      "state": {
       "width": "95px"
      }
     }
    },
    "version_major": 2,
    "version_minor": 0
   }
  }
 },
 "nbformat": 4,
 "nbformat_minor": 4
}
