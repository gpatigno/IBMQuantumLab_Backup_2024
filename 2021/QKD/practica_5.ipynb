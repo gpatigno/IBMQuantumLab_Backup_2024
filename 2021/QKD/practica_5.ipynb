{
 "cells": [
  {
   "cell_type": "code",
   "execution_count": 1,
   "metadata": {},
   "outputs": [
    {
     "name": "stderr",
     "output_type": "stream",
     "text": [
      "<frozen importlib._bootstrap>:219: RuntimeWarning: scipy._lib.messagestream.MessageStream size changed, may indicate binary incompatibility. Expected 56 from C header, got 64 from PyObject\n"
     ]
    }
   ],
   "source": [
    "#importar paquetes\n",
    "import math\n",
    "from qiskit.visualization import plot_histogram, plot_bloch_multivector\n",
    "import matplotlib.pyplot as plt\n",
    "%matplotlib inline\n",
    "import numpy as np\n",
    "# Import Qiskit\n",
    "from qiskit import BasicAer, Aer , execute\n",
    "from qiskit import QuantumCircuit , ClassicalRegister , QuantumRegister"
   ]
  },
  {
   "cell_type": "code",
   "execution_count": 2,
   "metadata": {},
   "outputs": [
    {
     "name": "stdout",
     "output_type": "stream",
     "text": [
      "Your super secret message:  Computador cuantico\n",
      "Initial key length:  57\n"
     ]
    }
   ],
   "source": [
    "import numpy as np\n",
    "#Super secret message\n",
    "mes = 'Computador cuantico'\n",
    "print('Your super secret message: ',mes)\n",
    "#initial size of key\n",
    "n = len(mes)*3\n",
    "#break up message into smaller parts if length > 10\n",
    "nlist = []\n",
    "for i in range(int(n/10)):\n",
    "    nlist.append(10)\n",
    "if n%10 != 0:\n",
    "    nlist.append(n%10)\n",
    "print('Initial key length: ',n)"
   ]
  },
  {
   "cell_type": "code",
   "execution_count": 3,
   "metadata": {},
   "outputs": [],
   "source": [
    "# Hacer cadenas a l e a t o r i a s de l o n g i t u d s t r ing􀀀l e n g t h\n",
    "def randomStringGen(string_length):\n",
    "#Va r i a b l e s de s a l i d a u t i l i z a d a s para acceder a l o s r e s u l t a d o s\n",
    "    output_list = []\n",
    "    output = ''\n",
    "#i n i c i a l a información d e l c i r c u i t o cuánt i co\n",
    "    backend = Aer.get_backend('qasm_simulator')\n",
    "    circuits = ['rs']\n",
    "#Ejecución d e l c i r c u i t o cuánt i co en a r r e g l o s de 10 q u b i t s\n",
    "#Los r e s u l t a d o s se agregarán y se r e cor tarán a l tamaño n b i t c o r r e c t o .\n",
    "\n",
    "    n = string_length\n",
    "    temp_n = 10\n",
    "    temp_output = ''\n",
    "    for i in range (math.ceil(n/temp_n )):\n",
    "    \n",
    "#I n i c i a l i z a r l o s r e g i s t r o s cuánt i c o s en e l c i r c u i t o .\n",
    "        q = QuantumRegister(temp_n, name='q')\n",
    "        c = ClassicalRegister(temp_n, name='c')\n",
    "        rs = QuantumCircuit(q, c, name='rs')\n",
    "#c r ear temp_n número de q u b i t s todos en s u p e r p o s i c i one s\n",
    "#La pue r ta Hadamard es l a que hace l a s u p e r p o s i c i one .\n",
    "        for i in range (temp_n ) :\n",
    "            rs.h(q[i])\n",
    "            rs.measure(q[i], c[i])\n",
    "#Ej e cutar c i r c u i t o y e x t r a e r 0 s y 1 s de l a Clave\n",
    "        result = execute(rs, backend, shots =1).result()\n",
    "        counts = result.get_counts(rs)\n",
    "        result_key = list(result.get_counts(rs).keys())\n",
    "        temp_output = result_key[0]\n",
    "        output += temp_output\n",
    "#Sa l i d a de r e torno r e cor tada a l tamaño n\n",
    "    return output[:n]\n"
   ]
  },
  {
   "cell_type": "code",
   "execution_count": 4,
   "metadata": {},
   "outputs": [
    {
     "name": "stdout",
     "output_type": "stream",
     "text": [
      "Clave inicial:  011010010010110000101101111110110111010111101101100100111\n",
      "Longitud de la Clave:  57\n"
     ]
    }
   ],
   "source": [
    "key = randomStringGen(n)\n",
    "ln = len(key)\n",
    "print( 'Clave inicial: ' , key )\n",
    "print( 'Longitud de la Clave: ' , ln )"
   ]
  },
  {
   "cell_type": "code",
   "execution_count": 5,
   "metadata": {},
   "outputs": [
    {
     "name": "stdout",
     "output_type": "stream",
     "text": [
      "Cadena de rotación de alicia:  110000000000000101001101010001101101011000001000101010111\n",
      "Cadena de rotación de Bob:  001110110010011000011111111111000001110010010001011100101\n",
      "Los resultados de bob:  100010000000110100111111111100011111111111110100000110101\n"
     ]
    }
   ],
   "source": [
    "#ge ne r a r cadenas de r o t a c i ó n a l a z a r para A l i c e y Bob\n",
    "Alice_rotate = randomStringGen(n)\n",
    "Bob_rotate = randomStringGen(n)\n",
    "print ( \"Cadena de rotación de alicia: \" , Alice_rotate)\n",
    "print ( \"Cadena de rotación de Bob: \" , Bob_rotate)\n",
    "\n",
    "#i n i c i a r c u á n t i c o c u á n t i c o\n",
    "backend = Aer.get_backend('qasm_simulator')\n",
    "shots = 1\n",
    "circuits = ['send_over']\n",
    "Bob_result = ''\n",
    "\n",
    "#D e f i n i r l a s v a r i a b l e s t em p o r al e s u t i l i z a d a s en l a d i v i s i ó n d e l\n",
    "#c u á n t i c o c u án t ic o , e s d e c i r s i l a l o n g i t u d d e l mensa je > 10\n",
    "for ind, l in enumerate(nlist):\n",
    "    if l < 10:\n",
    "        key_temp = key[10*ind: 10*ind+l ]\n",
    "        Ar_temp = Alice_rotate[ 10 * ind: 10 * ind+l]\n",
    "        Br_temp = Bob_rotate[ 10 * ind: 10 * ind+l]\n",
    "    else:\n",
    "        key_temp = key[ l * ind: l*(ind +1)]\n",
    "        Ar_temp = Alice_rotate[l*ind : l *( ind +1)]\n",
    "        Br_temp = Bob_rotate[ l * ind: l *( ind +1)]\n",
    "        \n",
    "#i n i c i a l a in f o rm ac i ón de t u c i r c u i t o c u á n t i c o\n",
    "    q = QuantumRegister( l, name = 'q' )\n",
    "    c = ClassicalRegister(l, name= 'c' )\n",
    "    send_over = QuantumCircuit( q, c, name='send_over' )\n",
    "    \n",
    "#p re p a r a r q u b i t s b a s a d o s en c l a v e ; Añad ir p u e r t a s Hadamard\n",
    "#para A l i c e y Bob\n",
    "#cadenas de r o t a c i ó n\n",
    "    for i, j, k, n in zip( key_temp, Ar_temp, Br_temp, range( 0, len(key_temp))):\n",
    "        i = int ( i )\n",
    "        j = int ( j )\n",
    "        k = int ( k )\n",
    "        if i > 0 :\n",
    "            send_over.x(q[n])\n",
    "#cadena de r o t a c i ó n de A l i c i a\n",
    "\n",
    "        if j > 0 :   \n",
    "            send_over.h(q[n])\n",
    "            \n",
    "#cadena de r o t a c i ó n de Bob\n",
    "\n",
    "        if k > 0 :\n",
    "            send_over.h(q[n])\n",
    "        send_over.measure(q[n], c[n])\n",
    "        \n",
    "#e j e c u t a r e l c i r c u i t o c u á n t i c o\n",
    "    result_so = execute([send_over], backend , shots = shots).result()\n",
    "    counts_so = result_so.get_counts(send_over)\n",
    "    result_key_so = list( result_so.get_counts(send_over).keys())\n",
    "    Bob_result += result_key_so[0][::-1]\n",
    "    \n",
    "print( \"Los resultados de bob: \" , Bob_result )\n",
    "    "
   ]
  },
  {
   "cell_type": "code",
   "execution_count": 6,
   "metadata": {},
   "outputs": [
    {
     "data": {
      "image/png": "[encoded data removed]",
      "text/plain": [
       "<Figure size 688.597x505.68 with 1 Axes>"
      ]
     },
     "execution_count": 6,
     "metadata": {},
     "output_type": "execute_result"
    }
   ],
   "source": [
    "#impr im ir c i r c u i t o c u á n t i c a para l a s med idas de Bob i n i c i a l i z a d o en ce r o\n",
    "send_over.draw()"
   ]
  },
  {
   "cell_type": "code",
   "execution_count": 7,
   "metadata": {},
   "outputs": [
    {
     "name": "stdout",
     "output_type": "stream",
     "text": [
      "{'1110010': 138, '1110110': 129, '1010100': 115, '1010000': 125, '1110100': 118, '1110000': 134, '1010010': 137, '1010110': 128}\n"
     ]
    }
   ],
   "source": [
    "#E j e c u t e e l c i r c u i t o en e l s im ul a d o r de qasm\n",
    "backend_sim = BasicAer.get_backend('qasm_simulator')\n",
    "\n",
    "#número de r e p e t i c i o n e s d e l c i r c u i t o 1024 v a l o r p re de te rm in a d o\n",
    "job_sim = execute(send_over, backend_sim, shots = 1024)\n",
    "\n",
    "#l o s r e s u l t a d o s de l a s im ul a c i ó n\n",
    "result_sim = job_sim.result()\n",
    "counts = result_sim.get_counts( send_over )\n",
    "print(counts)"
   ]
  },
  {
   "cell_type": "code",
   "execution_count": 8,
   "metadata": {},
   "outputs": [
    {
     "name": "stdout",
     "output_type": "stream",
     "text": [
      "Clave de Alice:  0000101111101111111100011\n",
      "Clave de Bob:  0000101111101111111100011\n"
     ]
    }
   ],
   "source": [
    "#s e l e c c i ó n de l o s b i t de l a c l a v e\n",
    "def makeKey (rotation1, rotation2, results):\n",
    "    key = ''\n",
    "    count = 0\n",
    "    for i, j in zip(rotation1, rotation2) :\n",
    "        if i == j :\n",
    "            key += results[count]\n",
    "        count += 1\n",
    "    return key\n",
    "\n",
    "Akey = makeKey ( Bob_rotate , Alice_rotate, key )\n",
    "Bkey = makeKey ( Bob_rotate , Alice_rotate, Bob_result )\n",
    "print( \"Clave de Alice: \" , Akey )\n",
    "print ( \"Clave de Bob: \" , Bkey )"
   ]
  },
  {
   "cell_type": "code",
   "execution_count": 9,
   "metadata": {},
   "outputs": [
    {
     "name": "stdout",
     "output_type": "stream",
     "text": [
      "mensaje codificado:  s_]@DDPU^C\u0011SDP_EXR^\n",
      "mensaje decodificado:  Computador cuantico\n"
     ]
    }
   ],
   "source": [
    "#c i f r a d o y d e s c i f r a d o d e l mensa je con l a c l a v e generada c á u s t i c am e n t e\n",
    "shortened_Akey = Akey[:len(mes)]\n",
    "encoded_m = ''\n",
    "\n",
    "#c i f r a r e l mensa je u t i l i z a n d o mi c l a v e de c i f r a d o c l a v e f i n a l\n",
    "for m, k in zip(mes , shortened_Akey ):\n",
    "    caracter = ord(m)\n",
    "    xor = caracter^ord(k)\n",
    "    encoded_m += chr(xor )\n",
    "    \n",
    "print('mensaje codificado: ', encoded_m )\n",
    "\n",
    "#h ace r c l a v e i g u a l l o n g i t u d t i e n e mensa je\n",
    "shortened_Bkey = Bkey [ : len (mes ) ]\n",
    "decoded_m = ''\n",
    "\n",
    "for m, k in zip ( encoded_m , shortened_Bkey ) :\n",
    "    caracter_d = ord(m)\n",
    "    xor = caracter_d^ord(k)\n",
    "    decoded_m += chr(xor)\n",
    "    \n",
    "print('mensaje decodificado: ' , decoded_m )\n"
   ]
  },
  {
   "cell_type": "markdown",
   "metadata": {},
   "source": [
    "# Intervención de Eve "
   ]
  },
  {
   "cell_type": "code",
   "execution_count": 10,
   "metadata": {},
   "outputs": [
    {
     "name": "stdout",
     "output_type": "stream",
     "text": [
      "resultados de Eve:  111010010010110000100100111110011010000111101101000110010\n"
     ]
    }
   ],
   "source": [
    "#i n i c i a l a s im ul a c i ó n c u á n t i c a\n",
    "backend = Aer.get_backend('qasm_simulator')\n",
    "shots = 1\n",
    "circuits = [ 'Eve']\n",
    "Eve_result = ''\n",
    "\n",
    "for ind, l in enumerate( nlist ) :\n",
    "    \n",
    "#D e f i n i r l a s v a r i a b l e s t em p o r al e s para e l programa c u á n t i c o\n",
    "#s i l a l o n gi t u d del mensa je > 10\n",
    "    if l < 10:\n",
    "        key_temp = key[10*ind: 10*ind+l]\n",
    "        Ar_temp = Alice_rotate[10*ind: 10 * ind+l ]\n",
    "    else:\n",
    "        key_temp = key[ l*ind: l*(ind +1)]\n",
    "        Ar_temp = Alice_rotate[l* ind: l*(ind +1)]\n",
    "\n",
    "#i n i c i a e l r e s t o de l a in f o rm ac i ón de t u c i r c u i t o c u á n t i c o\n",
    "    q = QuantumRegister ( l , name='q' )\n",
    "    c = ClassicalRegister( l , name='c' )\n",
    "    Eve = QuantumCircuit ( q , c , name='Eve' )\n",
    "    \n",
    "#r o t a c i ó n de Eve\n",
    "    for i , j , n in zip ( key_temp , Ar_temp , range ( 0 , len ( key_temp ) ) ) :\n",
    "        i = int ( i )\n",
    "        j = int ( j )\n",
    "        if i > 0 :\n",
    "            Eve.x(q[n])\n",
    "        if j > 0 :\n",
    "            Eve.h(q[n])\n",
    "            \n",
    "        Eve.measure(q[n], c[n])\n",
    "        \n",
    "    result_eve = execute(Eve, backend, shots = shots).result()\n",
    "    counts_eve = result_eve.get_counts()\n",
    "    result_key_eve = list(result_eve.get_counts().keys())\n",
    "    Eve_result += result_key_eve[0][::-1]\n",
    "    \n",
    "print(\"resultados de Eve: \", Eve_result)"
   ]
  },
  {
   "cell_type": "code",
   "execution_count": 11,
   "metadata": {},
   "outputs": [
    {
     "name": "stdout",
     "output_type": "stream",
     "text": [
      "{'0110111': 45, '0100110': 37, '1100111': 39, '0000010': 35, '0000111': 33, '0000011': 43, '1100011': 25, '0110010': 27, '0010110': 32, '0100010': 37, '0110011': 26, '1000010': 29, '0100011': 32, '1000110': 34, '1100110': 41, '0010111': 29, '1110111': 32, '0100111': 26, '1010110': 32, '1010111': 32, '1000011': 26, '1010010': 34, '1110010': 22, '1010011': 31, '1110011': 37, '0110110': 27, '1000111': 23, '0000110': 25, '1100010': 34, '0010011': 38, '1110110': 33, '0010010': 28}\n"
     ]
    },
    {
     "data": {
      "image/png": "[encoded data removed]",
      "text/plain": [
       "<Figure size 504x360 with 1 Axes>"
      ]
     },
     "execution_count": 11,
     "metadata": {},
     "output_type": "execute_result"
    }
   ],
   "source": [
    "#E j e c u t e e l c i r c u i t o en e l s im ul a d o r de qasm para l a s medidad de Eve .\n",
    "backend_sim = BasicAer.get_backend('qasm_simulator')\n",
    "\n",
    "# e l número de r e p e t i c i o n e s d e l c i r c u i t o e s de 1024\n",
    "job_sim = execute(Eve , backend_sim , shots = 1024)\n",
    "\n",
    "# Grab t h e r e s u l t s from t h e j o b .\n",
    "result_sim = job_sim.result()\n",
    "counts_Eve = result_sim.get_counts(Eve)\n",
    "print( counts_Eve )\n",
    "plot_histogram( counts_Eve )\n",
    "\n",
    "#print(result_sim)"
   ]
  },
  {
   "cell_type": "code",
   "execution_count": 12,
   "metadata": {},
   "outputs": [
    {
     "name": "stdout",
     "output_type": "stream",
     "text": [
      "Traceback \u001b[1;36m(most recent call last)\u001b[0m:\n",
      "  Input \u001b[0;32mIn [12]\u001b[0m in \u001b[0;35m<cell line: 7>\u001b[0m\n",
      "    counts_eve = result_eve.get_counts()\n",
      "\u001b[1;36m  File \u001b[1;32m/opt/conda/lib/python3.8/site-packages/qiskit/result/result.py:300\u001b[1;36m in \u001b[1;35mget_counts\u001b[1;36m\u001b[0m\n",
      "\u001b[1;33m    raise QiskitError(f'No counts for experiment \"{repr(key)}\"')\u001b[0m\n",
      "\u001b[1;31mQiskitError\u001b[0m\u001b[1;31m:\u001b[0m 'No counts for experiment \"0\"'\n",
      "\n",
      "Use %tb to get the full traceback.\n"
     ]
    },
    {
     "data": {
      "text/html": [
       "\n",
       "<style>\n",
       ".button {\n",
       "  border: none;\n",
       "  color: white;\n",
       "  padding: 4px 8px;\n",
       "  text-align: center;\n",
       "  text-decoration: none;\n",
       "  display: inline-block;\n",
       "  font-size: 12px;\n",
       "  margin: 4px 2px;\n",
       "  transition-duration: 0.2s;\n",
       "  cursor: pointer;\n",
       "}\n",
       ".iqx-button {\n",
       "  background-color: #0f62fe; \n",
       "  color: white; \n",
       "}\n",
       ".iqx-button:hover {\n",
       "  background-color: #0043ce;\n",
       "  color: white;\n",
       "}\n",
       "</style>\n",
       "<a href=\"https://stackoverflow.com/search?q=QiskitError: No counts for experiment \"0\"\" target='_blank'><button class='button iqx-button'>Search for solution online</button></a>\n"
      ],
      "text/plain": [
       "<IPython.core.display.HTML object>"
      ]
     },
     "metadata": {},
     "output_type": "display_data"
    }
   ],
   "source": [
    "#i n i c i a t u programa c u á n t i c o\n",
    "backend = Aer.get_backend ('qasm_simulator')\n",
    "shots = 1\n",
    "circuits = [ 'Eve2']\n",
    "Bob_badresult = ''\n",
    "\n",
    "for ind, l in enumerate(nlist):\n",
    "#D e f i n i r l a s v a r i a b l e s t em p o r al e s u t i l i z a d a s\n",
    "#d i v i s i ó n d e l c u á n t i c o s i l a l o n g i t u d d e l mensa je > 10\n",
    "    if l < 10:\n",
    "        key_temp = key[10 * ind: 10 * ind+l ]\n",
    "        Eve_temp = Eve_result[ 10 * ind : 10 * ind+l ]\n",
    "        Br_temp  = Bob_rotate[ 10 * ind : 10 * ind+l ]\n",
    "    else:\n",
    "        key = key[l * ind : l*(ind+1)]\n",
    "        Eve_temp = Eve_result[ l * ind : l*(ind +1)]\n",
    "        Br_temp = Bob_rotate [ l * ind : l*(ind +1)]\n",
    "\n",
    "#i n i c i a e l r e s t o de l a in f o rm ac i ón de t u c i r c u i t o c u á n t i c o\n",
    "    q = QuantumRegister(l, name = 'q' )\n",
    "    c = ClassicalRegister(l, name= 'c' )\n",
    "    Eve2 = QuantumCircuit(q , c , name='Eve2' )\n",
    "    \n",
    "    \n",
    "#p re p a r a r q u b i t s\n",
    "    for i , j , n in zip (Eve_temp, Br_temp , range(0, len(key_temp))):\n",
    "        i = int(i)\n",
    "        j = int(j)\n",
    "        if i > 0 :\n",
    "            Eve2.x(q[n])\n",
    "        if j > 0 :\n",
    "            Eve2.h(q[n])\n",
    "            \n",
    "        Eve2.measure(q[n], c[n])\n",
    "            \n",
    "    result_eve = execute( Eve2 , backend , shots=shots).result()\n",
    "    counts_eve = result_eve.get_counts()\n",
    "    result_key_eve = list(result_eve.get_counts().keys())\n",
    "    Bob_badresult += result_key_eve[0][::-1]\n",
    "    \n",
    "#print( \"Los resultados anteriores de Bob (w/o Eve): \" , Bob_result )\n",
    "#print( \"Los resultados de bob de eva: \\t \\t \" , Bob_badresult )\n",
    "   # print(result_eve_sim)"
   ]
  },
  {
   "cell_type": "code",
   "execution_count": null,
   "metadata": {},
   "outputs": [],
   "source": [
    "#E j e c u t e e l c i r c u i t o en e l s im ul a d o r de qasm\n",
    "backend_sim = BasicAer.get_backend('qasm_simulator')\n",
    "\n",
    "# Hemos e s t a b l e c i d o e l número de r e p e t i c i o n e s d e l c i r c u i t o .\n",
    "# para s e r 1024 , que e s e l v a l o r p re de te rm in a d o .\n",
    "job_sim = execute(Eve2, backend_sim , shots=1024)\n",
    "\n",
    "#r e s u l t a d o s de l a s im ul a c i ó n\n",
    "result_sim = job_sim.result()\n",
    "counts_Eve_Bob = result_sim.get_counts(Eve2)\n",
    "print (counts_Eve_Bob)\n",
    "plot_histogram( counts_Eve_Bob )"
   ]
  },
  {
   "cell_type": "code",
   "execution_count": null,
   "metadata": {},
   "outputs": [],
   "source": [
    "#Eve.draw()\n",
    "print(Eve_temp)"
   ]
  }
 ],
 "metadata": {
  "kernelspec": {
   "display_name": "Python 3 (ipykernel)",
   "language": "python",
   "name": "python3"
  },
  "language_info": {
   "codemirror_mode": {
    "name": "ipython",
    "version": 3
   },
   "file_extension": ".py",
   "mimetype": "text/x-python",
   "name": "python",
   "nbconvert_exporter": "python",
   "pygments_lexer": "ipython3",
   "version": "3.8.13"
  },
  "widgets": {
   "application/vnd.jupyter.widget-state+json": {
    "state": {},
    "version_major": 2,
    "version_minor": 0
   }
  }
 },
 "nbformat": 4,
 "nbformat_minor": 4
}
