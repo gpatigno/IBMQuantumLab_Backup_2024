{
 "cells": [
  {
   "cell_type": "markdown",
   "metadata": {},
   "source": [
    "# Computación Cuántica\n",
    "## Búsqueda de Grover para problemas combinatorios\n",
    "### Oscar Giovanny Duque Perdomo\n",
    "### Julian Jacobo Londoño Suaza"
   ]
  },
  {
   "cell_type": "code",
   "execution_count": null,
   "metadata": {},
   "outputs": [],
   "source": [
    "import numpy as np\n",
    "import matplotlib.pyplot as plt\n",
    "%matplotlib inline\n",
    "\n",
    "# importing Qiskit\n",
    "from qiskit import Aer, IBMQ\n",
    "from qiskit import QuantumCircuit, ClassicalRegister, QuantumRegister, execute\n",
    "from qiskit.compiler import transpile\n",
    "from qiskit.tools.visualization import plot_histogram\n",
    "from qiskit.tools.monitor import job_monitor"
   ]
  },
  {
   "cell_type": "code",
   "execution_count": null,
   "metadata": {},
   "outputs": [],
   "source": [
    "def black_box_u_f(circuit, f_in, f_out, aux, n, exactly_1_3_sat_formula):\n",
    "    \"\"\"Circuito que calcula la función de caja negra de f_in a f_out.\n",
    "\n",
    "    A continuación, se construye un circuito que permita encontrar\n",
    "    la solucion a un problema Exactamente-1 3-SAT\n",
    "    \"\"\"\n",
    "    num_clauses = len(exactly_1_3_sat_formula)\n",
    "    for (k, clause) in enumerate(exactly_1_3_sat_formula):\n",
    "        \n",
    "        # Bucle encargado de agregar las CNOT (XOR) y las compuertas X cuando el literal está negado\n",
    "        for literal in clause:\n",
    "            if literal > 0:\n",
    "                circuit.cx(f_in[literal-1], aux[k])\n",
    "            else:\n",
    "                # Convierte el literal negativo a positivo y ubica la X y la CNOT\n",
    "                circuit.x(f_in[-literal-1])\n",
    "                circuit.cx(f_in[-literal-1], aux[k])\n",
    "                \n",
    "        # Invierte aux[k] si todos los literales son verdaderos\n",
    "        circuit.ccx(f_in[0], f_in[1], aux[num_clauses])\n",
    "        circuit.ccx(f_in[2], aux[num_clauses], aux[k])\n",
    "        # Retorna al estado original, el qubit que se usa como auxiliar\n",
    "        circuit.ccx(f_in[0], f_in[1], aux[num_clauses])\n",
    "        \n",
    "        # Retorna al estado original, los literales que se invertian al inicio,\n",
    "        # con el objetivo de poder usarlos nuevamente\n",
    "        for literal in clause:\n",
    "            if literal < 0:\n",
    "                circuit.x(f_in[-literal-1])\n",
    "    \n",
    "    # Condicional para graficar el grupo de CCNOT que sale al final de cada etapa,\n",
    "    # el código se adaptó para que reciba hasta 5 clausulas\n",
    "    if (num_clauses == 1):\n",
    "        circuit.cx(aux[0], f_out[0])\n",
    "    elif (num_clauses == 2):\n",
    "        circuit.ccx(aux[0], aux[1], f_out[0])\n",
    "    elif (num_clauses == 3):\n",
    "        circuit.ccx(aux[0], aux[1], aux[num_clauses])\n",
    "        circuit.ccx(aux[2], aux[num_clauses], f_out[0])\n",
    "        circuit.ccx(aux[0], aux[1], aux[num_clauses])\n",
    "    elif (num_clauses == 4):\n",
    "        circuit.ccx(aux[0], aux[1], aux[num_clauses])\n",
    "        circuit.ccx(aux[2], aux[num_clauses], f_out[1])\n",
    "        circuit.ccx(aux[3], f_out[1], f_out[0])\n",
    "        circuit.ccx(aux[2], aux[num_clauses], f_out[1])\n",
    "        circuit.ccx(aux[0], aux[1], aux[num_clauses])\n",
    "    elif (num_clauses == 5):\n",
    "        circuit.ccx(aux[0], aux[1], aux[num_clauses])\n",
    "        circuit.ccx(aux[2], aux[num_clauses], f_out[2])\n",
    "        circuit.ccx(aux[3], f_out[2], f_out[1])\n",
    "        circuit.ccx(aux[4], f_out[1], f_out[0])\n",
    "        circuit.ccx(aux[3], f_out[2], f_out[1])\n",
    "        circuit.ccx(aux[2], aux[num_clauses], f_out[2])\n",
    "        circuit.ccx(aux[0], aux[1], aux[num_clauses])\n",
    "    else:\n",
    "        raise ValueError('We only allow at most 5 clauses')\n",
    "    \n",
    "    # Invertir los qubits auxiliares para asegurarse de que el estado sea consistente \n",
    "    # para futuras ejecuciones de esta rutina; mismo bucle que el anterior.\n",
    "    for (k, clause) in enumerate(exactly_1_3_sat_formula):\n",
    "        for literal in clause:\n",
    "            if literal > 0:\n",
    "                circuit.cx(f_in[literal-1], aux[k])\n",
    "            else:\n",
    "                circuit.x(f_in[-literal-1])\n",
    "                circuit.cx(f_in[-literal-1], aux[k])\n",
    "        circuit.ccx(f_in[0], f_in[1], aux[num_clauses])\n",
    "        circuit.ccx(f_in[2], aux[num_clauses], aux[k])\n",
    "        circuit.ccx(f_in[0], f_in[1], aux[num_clauses])\n",
    "        for literal in clause:\n",
    "            if literal < 0:\n",
    "                circuit.x(f_in[-literal-1])\n",
    "# -- end function"
   ]
  },
  {
   "cell_type": "code",
   "execution_count": null,
   "metadata": {},
   "outputs": [],
   "source": [
    "def n_controlled_Z(circuit, controls, target):\n",
    "    \"\"\" Implemente una compuerta Z con múltiples controles.\"\"\"\n",
    "    if (len(controls) > 2):\n",
    "        raise ValueError('The controlled Z with more than 2 ' +\n",
    "                         'controls is not implemented')\n",
    "    elif (len(controls) == 1):\n",
    "        circuit.h(target)\n",
    "        circuit.cx(controls[0], target)\n",
    "        circuit.h(target)\n",
    "    elif (len(controls) == 2):\n",
    "        circuit.h(target)\n",
    "        circuit.ccx(controls[0], controls[1], target)\n",
    "        circuit.h(target)\n",
    "# -- end function"
   ]
  },
  {
   "cell_type": "code",
   "execution_count": null,
   "metadata": {},
   "outputs": [],
   "source": [
    "def inversion_about_average(circuit, f_in, n):\n",
    "    \"\"\"Aplicar inversión sobre el paso promedio del algoritmo de Grover.\"\"\"\n",
    "    \n",
    "    # Agregar compuertas Hadamards a todas los qubits de entrada\n",
    "    for j in range(n):\n",
    "        circuit.h(f_in[j])\n",
    "    for j in range(n):\n",
    "        circuit.x(f_in[j])\n",
    "    n_controlled_Z(circuit, [f_in[j] for j in range(n-1)], f_in[n-1])\n",
    "    for j in range(n):\n",
    "        circuit.x(f_in[j])\n",
    "    # Nuevamente se agregan compuertas Hadamards a todos los qubits de entrada\n",
    "    for j in range(n):\n",
    "        circuit.h(f_in[j])\n",
    "# -- end function"
   ]
  },
  {
   "cell_type": "code",
   "execution_count": null,
   "metadata": {},
   "outputs": [],
   "source": [
    "\"\"\"\n",
    "Búsqueda de Grover implementada en Qiskit.\n",
    "\n",
    "Este módulo contiene el código necesario para ejecutar la búsqueda de Grover en 3\n",
    "qubits, tanto con un simulador como con una computación cuántica real dispositivo.\n",
    "\"\"\"\n",
    "\n",
    "def input_state(circuit, f_in, f_out, n):\n",
    "    for j in range(n):\n",
    "        circuit.h(f_in[j])\n",
    "    circuit.x(f_out)\n",
    "    circuit.h(f_out)\n",
    "# -- end function\n",
    "\n",
    "# n bits para el programa cuántico de la búsqueda de Grover.\n",
    "n = 3\n",
    "\n",
    "# Los literales se representan como enteros, positivos o negativos, \n",
    "# para indicar una variable booleana o su negación.\n",
    "exactly_1_3_sat_formula = [[1, 2, -3], [-1, -2, -3], [-1, 2, 3]]\n",
    "\n",
    "# Definir tres registros cuánticos: 'f_in' es el espacio de búsqueda \n",
    "# (entrada a la función f), 'f_out' es el bit utilizado para la salida\n",
    "# de la función f, aux son los bits auxiliares utilizados por f para\n",
    "# realizar su cálculo.\n",
    "f_in = QuantumRegister(n)\n",
    "f_out = QuantumRegister(3)\n",
    "aux = QuantumRegister(len(exactly_1_3_sat_formula) + 1)\n",
    "\n",
    "# Definir registro clásico para el resultado del algoritmo.\n",
    "ans = ClassicalRegister(n)\n",
    "\n",
    "# Definir circuito cuántico con los registros anteriores.\n",
    "grover = QuantumCircuit()\n",
    "grover.add_register(f_in)\n",
    "grover.add_register(f_out)\n",
    "grover.add_register(aux)\n",
    "grover.add_register(ans)\n",
    "\n",
    "input_state(grover, f_in, f_out, n)\n",
    "T = 2"
   ]
  },
  {
   "cell_type": "code",
   "execution_count": null,
   "metadata": {},
   "outputs": [],
   "source": [
    "for t in range(T):\n",
    "    # Aplicar T iteraciones completas\n",
    "    black_box_u_f(grover, f_in, f_out, aux, n, exactly_1_3_sat_formula)\n",
    "    inversion_about_average(grover, f_in, n)"
   ]
  },
  {
   "cell_type": "code",
   "execution_count": null,
   "metadata": {},
   "outputs": [],
   "source": [
    "# Medir el registro de salida en la base computacional\n",
    "for j in range(n):\n",
    "    grover.measure(f_in[j], ans[j])\n",
    "\n",
    "# Ejecutar circuito\n",
    "backend = Aer.get_backend('qasm_simulator')\n",
    "job = execute([grover], backend=backend, shots=1000)\n",
    "result = job.result()"
   ]
  },
  {
   "cell_type": "code",
   "execution_count": null,
   "metadata": {},
   "outputs": [],
   "source": [
    "# Obtener resultados y trazar histograma\n",
    "counts = result.get_counts(grover)\n",
    "plot_histogram(counts)"
   ]
  },
  {
   "cell_type": "code",
   "execution_count": null,
   "metadata": {},
   "outputs": [],
   "source": [
    "IBMQ.load_account()"
   ]
  },
  {
   "cell_type": "code",
   "execution_count": null,
   "metadata": {},
   "outputs": [],
   "source": [
    "# Obtener la configuración ibmq_16_melbourne y el mapa de acoplamiento\n",
    "provider = IBMQ.get_provider()\n",
    "backend  = provider.get_backend('ibmq_16_melbourne')"
   ]
  },
  {
   "cell_type": "code",
   "execution_count": null,
   "metadata": {},
   "outputs": [],
   "source": [
    "grover_circuit = grover\n",
    "job = execute([grover_circuit], backend=backend, shots=1000, max_credits=10)\n",
    "job_monitor(job, interval = 2)"
   ]
  },
  {
   "cell_type": "code",
   "execution_count": null,
   "metadata": {},
   "outputs": [],
   "source": [
    "result = job.result()\n",
    "answer = result.get_counts(grover_circuit)\n",
    "plot_histogram(answer)"
   ]
  },
  {
   "cell_type": "code",
   "execution_count": null,
   "metadata": {},
   "outputs": [],
   "source": [
    "# compilar el circuito para ibmq_16_rueschlikon\n",
    "grover_compiled = transpile(grover, backend=backend, seed_transpiler=1, optimization_level=3)\n",
    "\n",
    "print('gates = ', grover_compiled.count_ops())\n",
    "print('depth = ', grover_compiled.depth())"
   ]
  },
  {
   "cell_type": "code",
   "execution_count": null,
   "metadata": {},
   "outputs": [],
   "source": [
    "grover.draw(output='mpl', scale=0.5)"
   ]
  }
 ],
 "metadata": {
  "kernelspec": {
   "display_name": "Qiskit v0.34.2 (ipykernel)",
   "language": "python",
   "name": "python3"
  },
  "language_info": {
   "codemirror_mode": {
    "name": "ipython",
    "version": 3
   },
   "file_extension": ".py",
   "mimetype": "text/x-python",
   "name": "python",
   "nbconvert_exporter": "python",
   "pygments_lexer": "ipython3",
   "version": "3.8.12"
  },
  "widgets": {
   "application/vnd.jupyter.widget-state+json": {
    "state": {},
    "version_major": 2,
    "version_minor": 0
   }
  }
 },
 "nbformat": 4,
 "nbformat_minor": 4
}
