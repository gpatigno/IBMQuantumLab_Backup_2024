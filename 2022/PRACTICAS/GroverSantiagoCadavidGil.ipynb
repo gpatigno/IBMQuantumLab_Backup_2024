{
 "cells": [
  {
   "cell_type": "code",
   "execution_count": 2,
   "id": "03d766d9-2089-4877-891c-94f5698fb437",
   "metadata": {},
   "outputs": [],
   "source": [
    "import matplotlib.pyplot as plt\n",
    "import numpy as np\n",
    "from qiskit import IBMQ, Aer, assemble, transpile, execute\n",
    "from qiskit import QuantumCircuit, ClassicalRegister, QuantumRegister\n",
    "from qiskit.providers.ibmq import least_busy\n",
    "from qiskit.visualization import *\n",
    "from qiskit.tools.jupyter import *\n",
    "from ibm_quantum_widgets import *\n",
    "from qiskit.tools.monitor import job_monitor"
   ]
  },
  {
   "cell_type": "code",
   "execution_count": 3,
   "id": "6c246883-f94c-4f98-9e85-095acca46dc1",
   "metadata": {},
   "outputs": [
    {
     "name": "stderr",
     "output_type": "stream",
     "text": [
      "ibmqfactory.load_account:WARNING:2022-10-04 16:59:43,907: Credentials are already in use. The existing account in the session will be replaced.\n"
     ]
    }
   ],
   "source": [
    "#Se define el circuito cuantico para la ejecucion del algoritmo de Grover (2 qubits)\n",
    "num_qubits = 2\n",
    "grover_circuit = QuantumCircuit(num_qubits, num_qubits)"
   ]
  },
  {
   "cell_type": "code",
   "execution_count": 4,
   "id": "75f2adfc-5b5a-4187-9644-882da2a4b7c4",
   "metadata": {},
   "outputs": [],
   "source": [
    "#Preparacion de los estados iniciales (se pasa cada qubit por 1 Hadamard)\n",
    "def initialize_circ(qc, qubits):\n",
    "  for q in qubits:\n",
    "    qc.h(q)\n",
    "  return qc"
   ]
  },
  {
   "cell_type": "code",
   "execution_count": 5,
   "id": "3f02f756-19cb-4a4a-a382-87fdae98b723",
   "metadata": {},
   "outputs": [
    {
     "data": {
      "image/png": "[encoded data removed]",
      "text/plain": [
       "<Figure size 206.852x204.68 with 1 Axes>"
      ]
     },
     "execution_count": 5,
     "metadata": {},
     "output_type": "execute_result"
    }
   ],
   "source": [
    "grover_circuit = initialize_circ(grover_circuit, [0,1])\n",
    "grover_circuit.barrier()\n",
    "grover_circuit.draw()"
   ]
  },
  {
   "cell_type": "code",
   "execution_count": 6,
   "id": "95b44b5a-deb1-4574-8e4a-03512be3ab40",
   "metadata": {},
   "outputs": [
    {
     "data": {
      "image/png": "[encoded data removed]",
      "text/plain": [
       "<Figure size 327.252x204.68 with 1 Axes>"
      ]
     },
     "execution_count": 6,
     "metadata": {},
     "output_type": "execute_result"
    }
   ],
   "source": [
    "#Se define el Oracle (en este caso una compuerta CZ)\n",
    "grover_circuit.cz(0, 1)\n",
    "grover_circuit.barrier()\n",
    "grover_circuit.draw()"
   ]
  },
  {
   "cell_type": "code",
   "execution_count": 7,
   "id": "8fe2b1e6-2f1d-4cb2-937a-556a2ff7f09a",
   "metadata": {},
   "outputs": [
    {
     "data": {
      "image/png": "[encoded data removed]",
      "text/plain": [
       "<Figure size 748.652x204.68 with 1 Axes>"
      ]
     },
     "execution_count": 7,
     "metadata": {},
     "output_type": "execute_result"
    }
   ],
   "source": [
    "#Se define el operador de Grover (Se destaca que para este caso es mas compacto que para los otros 3 posibles casos)\n",
    "grover_circuit.h([0, 1])\n",
    "grover_circuit.z([0, 1])\n",
    "grover_circuit.cz(0, 1)\n",
    "grover_circuit.h([0, 1])\n",
    "grover_circuit.barrier()\n",
    "grover_circuit.measure([0,1], [0, 1])\n",
    "grover_circuit.draw()"
   ]
  },
  {
   "cell_type": "code",
   "execution_count": 9,
   "id": "5fa2ad6c-9d01-4bbb-97c5-a00c09c5e3de",
   "metadata": {},
   "outputs": [
    {
     "name": "stdout",
     "output_type": "stream",
     "text": [
      "{'11': 1}\n"
     ]
    }
   ],
   "source": [
    "#Se ejecuta su simulacion obteniendo el resultado deseado\n",
    "backend = Aer.get_backend('qasm_simulator')\n",
    "job = execute(grover_circuit, backend, shots = 1)\n",
    "result = job.result()\n",
    "counts = result.get_counts()\n",
    "print(counts)"
   ]
  },
  {
   "cell_type": "code",
   "execution_count": 8,
   "id": "70007109-0ed7-4494-b611-7df7c7bcfcbf",
   "metadata": {},
   "outputs": [
    {
     "name": "stderr",
     "output_type": "stream",
     "text": [
      "ibmqfactory.load_account:WARNING:2022-10-04 17:01:45,273: Credentials are already in use. The existing account in the session will be replaced.\n"
     ]
    },
    {
     "name": "stdout",
     "output_type": "stream",
     "text": [
      "El computador cuántico menos ocupado es el ibm_perth\n"
     ]
    }
   ],
   "source": [
    "from qiskit.providers.ibmq import least_busy\n",
    "IBMQ.load_account()\n",
    "provider = IBMQ.get_provider(hub='ibm-q-education', group='uni-antioquia-1', project='qcudea2022-1')\n",
    "Remote_QProcessor = least_busy(provider.backends(filters=lambda qprocessor: qprocessor.configuration().n_qubits >= 5 \n",
    "                                       and not qprocessor.configuration().simulator \n",
    "                                       and qprocessor.status().operational==True))\n",
    "print(\"El computador cuántico menos ocupado es el \" + Remote_QProcessor.name())"
   ]
  },
  {
   "cell_type": "code",
   "execution_count": 11,
   "id": "b6cdbfdd-89c7-400d-8ce2-dfa2b37d457e",
   "metadata": {},
   "outputs": [
    {
     "name": "stdout",
     "output_type": "stream",
     "text": [
      "Job Status: job has successfully run\n"
     ]
    }
   ],
   "source": [
    "#Se ejecuta en un computador cuantico\n",
    "transpiled_grover_circuit = transpile(grover_circuit, Remote_QProcessor, optimization_level=3)\n",
    "job = Remote_QProcessor.run(transpiled_grover_circuit)\n",
    "job_monitor(job, interval=2)"
   ]
  },
  {
   "cell_type": "code",
   "execution_count": 12,
   "id": "633ca7da-e9ef-4c6f-b347-d128a2b7b96d",
   "metadata": {},
   "outputs": [
    {
     "data": {
      "image/png": "[encoded data removed]",
      "text/plain": [
       "<Figure size 504x360 with 1 Axes>"
      ]
     },
     "execution_count": 12,
     "metadata": {},
     "output_type": "execute_result"
    }
   ],
   "source": [
    "results = job.result()\n",
    "answer = results.get_counts(grover_circuit)\n",
    "plot_histogram(answer)"
   ]
  },
  {
   "cell_type": "code",
   "execution_count": null,
   "id": "e307dcb6-66b1-4208-9d89-060a342ac561",
   "metadata": {},
   "outputs": [],
   "source": []
  }
 ],
 "metadata": {
  "kernelspec": {
   "display_name": "Python 3 (ipykernel)",
   "language": "python",
   "name": "python3"
  },
  "language_info": {
   "codemirror_mode": {
    "name": "ipython",
    "version": 3
   },
   "file_extension": ".py",
   "mimetype": "text/x-python",
   "name": "python",
   "nbconvert_exporter": "python",
   "pygments_lexer": "ipython3",
   "version": "3.8.13"
  },
  "widgets": {
   "application/vnd.jupyter.widget-state+json": {
    "state": {},
    "version_major": 2,
    "version_minor": 0
   }
  }
 },
 "nbformat": 4,
 "nbformat_minor": 5
}
