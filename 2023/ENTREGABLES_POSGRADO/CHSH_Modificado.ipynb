{
 "cells": [
  {
   "cell_type": "code",
   "execution_count": 4,
   "id": "c9ea87b8-4e85-453b-976a-95746a6c7649",
   "metadata": {
    "tags": []
   },
   "outputs": [],
   "source": [
    "# Importing standard Qiskit libraries\n",
    "from qiskit import QuantumCircuit, transpile\n",
    "from qiskit.circuit import Parameter\n",
    "from qiskit.tools.jupyter import *\n",
    "from qiskit.visualization import *\n",
    "from ibm_quantum_widgets import *\n",
    "from qiskit_aer import AerSimulator\n",
    "from qiskit.opflow import CircuitStateFn, CircuitOp\n",
    "from qiskit_ibm_runtime import Estimator, Session, QiskitRuntimeService, Sampler, Options\n",
    "from qiskit.quantum_info import SparsePauliOp\n",
    "\n",
    "# Loading your IBM Quantum account(s)\n",
    "service = QiskitRuntimeService(\n",
    "    channel='ibm_quantum',\n",
    "    instance='ibm-q-education/uni-antioquia-2/quantum-alg',\n",
    ")\n",
    "backend = \"ibmq_qasm_simulator\"  \n",
    "\n",
    "# Invoke a primitive inside a session. For more details see https://qiskit.org/documentation/partners/qiskit_ibm_runtime/tutorials.html\n",
    "# with Session(backend=service.backend(\"ibmq_qasm_simulator\")):\n",
    "#     result = Sampler().run(circuits).result()\n",
    "import numpy as np"
   ]
  },
  {
   "cell_type": "markdown",
   "id": "fa0739cf-829a-4532-9068-716f289d9c31",
   "metadata": {},
   "source": [
    "# Implementación del circuito\n",
    "\n",
    "Se implementa un circuito para establecer el entrelazamiento entre dos cubits"
   ]
  },
  {
   "cell_type": "code",
   "execution_count": 5,
   "id": "2b848ef3-6019-402d-bd2f-231af63ccd27",
   "metadata": {
    "tags": []
   },
   "outputs": [
    {
     "data": {
      "image/png": "[encoded data removed]",
      "text/plain": [
       "<Figure size 287.294x200.667 with 1 Axes>"
      ]
     },
     "execution_count": 5,
     "metadata": {},
     "output_type": "execute_result"
    }
   ],
   "source": [
    "qc = QuantumCircuit(2)\n",
    "qc.h(0)\n",
    "qc.cx(0,1)\n",
    "qc.draw(output='mpl')"
   ]
  },
  {
   "cell_type": "markdown",
   "id": "0aeefe5d-bd10-4c1b-9162-f20371b68a8c",
   "metadata": {},
   "source": [
    "Se redefine el circuito como una variable para su posterior uso en el calculo del valor estimado de manera manual"
   ]
  },
  {
   "cell_type": "code",
   "execution_count": 6,
   "id": "402c3fa7-0438-486d-abc2-b760dfc96b9b",
   "metadata": {
    "tags": []
   },
   "outputs": [],
   "source": [
    "psi = CircuitStateFn(qc)"
   ]
  },
  {
   "cell_type": "markdown",
   "id": "d86d70ab-ac7d-447b-8463-25eb9a06a11f",
   "metadata": {},
   "source": [
    "Posteriormente se estable el operador sobre el que interactua el circuito"
   ]
  },
  {
   "cell_type": "code",
   "execution_count": 7,
   "id": "bcc8c73c-b8bd-4805-a0d4-cd3c4e0adf5a",
   "metadata": {
    "tags": []
   },
   "outputs": [],
   "source": [
    "operator_circuit = QuantumCircuit(2)\n",
    "operator_circuit.ry(np.pi/2, 0)\n",
    "op = CircuitOp(operator_circuit)"
   ]
  },
  {
   "cell_type": "markdown",
   "id": "1e01e100-baf5-410b-a3d2-bd028fc1b83c",
   "metadata": {},
   "source": [
    "Se realiza la operación de estimador de manera manual\n",
    "operación realizada según el siguiente foro: [https://quantumcomputing.stackexchange.com/questions/12080/evaluating-expectation-values-of-operators-in-qiskit](https://quantumcomputing.stackexchange.com/questions/12080/evaluating-expectation-values-of-operators-in-qiskit)"
   ]
  },
  {
   "cell_type": "code",
   "execution_count": 8,
   "id": "92fc7fe4-2b1e-4395-8e97-624c348f5fb7",
   "metadata": {
    "tags": []
   },
   "outputs": [
    {
     "name": "stdout",
     "output_type": "stream",
     "text": [
      "Math: 0.7071067811865475\n"
     ]
    }
   ],
   "source": [
    "print('Math:', psi.adjoint().compose(op).compose(psi).eval().real)"
   ]
  },
  {
   "cell_type": "markdown",
   "id": "524a0266-52a4-4158-bbb9-26d7d9c82775",
   "metadata": {},
   "source": [
    "Se replica el circuito de entrelazamiento para un cambio de theta que permita establecer la medida en un eje distinto"
   ]
  },
  {
   "cell_type": "code",
   "execution_count": 9,
   "id": "94ef301b-0fce-4e6f-b4de-ca80fd06786e",
   "metadata": {
    "tags": []
   },
   "outputs": [
    {
     "data": {
      "image/png": "[encoded data removed]",
      "text/plain": [
       "<Figure size 370.906x200.667 with 1 Axes>"
      ]
     },
     "execution_count": 9,
     "metadata": {},
     "output_type": "execute_result"
    }
   ],
   "source": [
    "theta = Parameter(\"$\\\\theta$\")\n",
    "\n",
    "circuito_base = QuantumCircuit(2)\n",
    "circuito_base.h(0)\n",
    "circuito_base.cx(0, 1)\n",
    "circuito_base.ry(theta, 0)\n",
    "circuito_base.draw(output=\"mpl\")"
   ]
  },
  {
   "cell_type": "markdown",
   "id": "a9f0082b-3e39-4cca-9151-72f7d443f270",
   "metadata": {},
   "source": [
    "Se genera un vector de angulos con los que se prueba la inigualdad."
   ]
  },
  {
   "cell_type": "code",
   "execution_count": 10,
   "id": "facf532f-b451-4059-9d77-d0e96e61e77c",
   "metadata": {
    "tags": []
   },
   "outputs": [],
   "source": [
    "theta_vec = np.linspace(0, 2 * np.pi, 18)\n",
    "fases_desglosadas = [[fase] for fase in theta_vec]"
   ]
  },
  {
   "cell_type": "markdown",
   "id": "440d9430-8b45-4182-87a3-616795d6408e",
   "metadata": {},
   "source": [
    "Se establecen los operadores Pauli para los diferentes ejes de medición"
   ]
  },
  {
   "cell_type": "code",
   "execution_count": 11,
   "id": "b21e813e-539c-4876-82ac-8c2411c74998",
   "metadata": {
    "tags": []
   },
   "outputs": [],
   "source": [
    "ZZ = SparsePauliOp.from_list([(\"ZZ\", 1)])\n",
    "ZX = SparsePauliOp.from_list([(\"ZX\", 1)])\n",
    "XZ = SparsePauliOp.from_list([(\"XZ\", 1)])\n",
    "XX = SparsePauliOp.from_list([(\"XX\", 1)])"
   ]
  },
  {
   "cell_type": "markdown",
   "id": "006ddc80-3bd2-4f6a-8411-df342acb14a3",
   "metadata": {},
   "source": [
    "Se instancia la medición para el backend establecido previamente y se usa la función Estimator para establecer la operación de estimación de los resultados del circuito"
   ]
  },
  {
   "cell_type": "code",
   "execution_count": 12,
   "id": "7ffe4048-ba66-4a4d-9529-8cf2ff16e7cb",
   "metadata": {
    "tags": []
   },
   "outputs": [],
   "source": [
    "ops = [ZZ, ZX, XZ, XX]\n",
    "chsh_Estimacion = []\n",
    "\n",
    "with Session(service=service, backend=backend):\n",
    "    estimator = Estimator()\n",
    "    for op in ops:\n",
    "        job = estimator.run(\n",
    "            circuits=[circuito_base] * len(fases_desglosadas),\n",
    "            observables=[op] * len(fases_desglosadas),\n",
    "            parameter_values=fases_desglosadas,\n",
    "        )\n",
    "        est_result = job.result()\n",
    "        chsh_Estimacion.append(est_result)"
   ]
  },
  {
   "cell_type": "markdown",
   "id": "adc524ab-05cf-42f9-b36f-32562ef2e4d2",
   "metadata": {},
   "source": [
    "Se realiza el calculo de la operación de desigualdad a partir de los valores obtenidos para los diferentes desfases"
   ]
  },
  {
   "cell_type": "code",
   "execution_count": 13,
   "id": "edfef2e4-7b40-4f48-b487-8249d02641ff",
   "metadata": {
    "tags": []
   },
   "outputs": [],
   "source": [
    "chsh_estimado_1 = (\n",
    "    chsh_Estimacion[0].values\n",
    "    - chsh_Estimacion[1].values\n",
    "    + chsh_Estimacion[2].values\n",
    "    + chsh_Estimacion[3].values\n",
    ")\n",
    "\n",
    "chsh_estimado_2 = (\n",
    "    chsh_Estimacion[0].values\n",
    "    + chsh_Estimacion[1].values\n",
    "    - chsh_Estimacion[2].values\n",
    "    + chsh_Estimacion[3].values\n",
    ")"
   ]
  },
  {
   "cell_type": "code",
   "execution_count": 14,
   "id": "aaba419a-3c6d-49d2-beac-b35510caa963",
   "metadata": {
    "tags": []
   },
   "outputs": [
    {
     "data": {
      "text/plain": [
       "array([ 2.0185,  1.121 ,  0.117 , -0.905 , -1.796 , -2.441 , -2.7965,\n",
       "       -2.756 , -2.321 , -1.593 , -0.6515,  0.395 ,  1.392 ,  2.183 ,\n",
       "        2.7145,  2.793 ,  2.5715,  1.9695])"
      ]
     },
     "execution_count": 14,
     "metadata": {},
     "output_type": "execute_result"
    }
   ],
   "source": [
    "chsh_estimado_1"
   ]
  },
  {
   "cell_type": "code",
   "execution_count": 15,
   "id": "ea835097-b5fe-4df6-ba96-0e1d0c86ee73",
   "metadata": {
    "tags": []
   },
   "outputs": [
    {
     "data": {
      "text/plain": [
       "array([ 1.9815,  2.626 ,  2.836 ,  2.685 ,  2.189 ,  1.426 ,  0.4155,\n",
       "       -0.652 , -1.597 , -2.341 , -2.7585, -2.788 , -2.46  , -1.793 ,\n",
       "       -0.8805,  0.118 ,  1.1535,  2.0305])"
      ]
     },
     "execution_count": 15,
     "metadata": {},
     "output_type": "execute_result"
    }
   ],
   "source": [
    "chsh_estimado_2"
   ]
  },
  {
   "cell_type": "markdown",
   "id": "e28a3857-7223-4795-8415-2f9912cd84fa",
   "metadata": {},
   "source": [
    "Se realiza un grafico para la función en terminos de los diferentes angulos de fase y los valores del calculo para la desigualdad"
   ]
  },
  {
   "cell_type": "code",
   "execution_count": 16,
   "id": "e97de49c-3fc0-42ee-bc78-4f732c8bf75c",
   "metadata": {
    "tags": []
   },
   "outputs": [
    {
     "data": {
      "text/plain": [
       "<matplotlib.legend.Legend at 0x7f416f13a470>"
      ]
     },
     "execution_count": 16,
     "metadata": {},
     "output_type": "execute_result"
    },
    {
     "data": {
      "image/png": "[encoded data removed]",
      "text/plain": [
       "<Figure size 1000x600 with 1 Axes>"
      ]
     },
     "metadata": {},
     "output_type": "display_data"
    }
   ],
   "source": [
    "import matplotlib.pyplot as plt\n",
    "import matplotlib.ticker as tck\n",
    "\n",
    "fig, ax = plt.subplots(figsize=(10, 6))\n",
    "# results from a simulator\n",
    "ax.plot(theta_vec / np.pi, chsh_estimado_1, \"o-\", label=\"CHSH1 Simulation\")\n",
    "ax.plot(theta_vec / np.pi, chsh_estimado_2, \"o-\", label=\"CHSH2 Simulation\")\n",
    "# classical bound +-2\n",
    "ax.axhline(y=2, color=\"r\", linestyle=\"--\")\n",
    "ax.axhline(y=-2, color=\"r\", linestyle=\"--\")\n",
    "# quantum bound, +-2√2\n",
    "ax.axhline(y=np.sqrt(2) * 2, color=\"b\", linestyle=\"-.\")\n",
    "ax.axhline(y=-np.sqrt(2) * 2, color=\"b\", linestyle=\"-.\")\n",
    "# set x tick labels to the unit of pi\n",
    "ax.xaxis.set_major_formatter(tck.FormatStrFormatter(\"%g $\\pi$\"))\n",
    "ax.xaxis.set_major_locator(tck.MultipleLocator(base=0.5))\n",
    "# set title, labels, and legend\n",
    "plt.title(\"Violation of CHSH Inequality\")\n",
    "plt.xlabel(\"Theta\")\n",
    "plt.ylabel(\"CHSH witness\")\n",
    "plt.legend()"
   ]
  },
  {
   "cell_type": "markdown",
   "id": "244e231d-ad46-4de4-a50a-3db220c8bffe",
   "metadata": {},
   "source": [
    "Se replica el proceso anterior para un computador real"
   ]
  },
  {
   "cell_type": "code",
   "execution_count": 17,
   "id": "c6995c02-4d22-480d-83c6-5301950d5b88",
   "metadata": {
    "tags": []
   },
   "outputs": [],
   "source": [
    "from qiskit_ibm_provider import IBMProvider"
   ]
  },
  {
   "cell_type": "code",
   "execution_count": 18,
   "id": "22ab32b2-18f8-4721-8dcd-eb48c3fa199b",
   "metadata": {
    "tags": []
   },
   "outputs": [
    {
     "data": {
      "text/plain": [
       "<IBMProvider>"
      ]
     },
     "execution_count": 18,
     "metadata": {},
     "output_type": "execute_result"
    }
   ],
   "source": [
    "provider = IBMProvider(instance=\"ibm-q-education/uni-antioquia-2/quantum-alg\")\n",
    "provider"
   ]
  },
  {
   "cell_type": "code",
   "execution_count": 19,
   "id": "873e3195-5e45-48eb-9273-5e30d4e32b27",
   "metadata": {
    "tags": []
   },
   "outputs": [
    {
     "name": "stdout",
     "output_type": "stream",
     "text": [
      "<IBMBackend('ibmq_belem')>\n"
     ]
    }
   ],
   "source": [
    "from qiskit_ibm_provider import least_busy\n",
    "\n",
    "small_devices = service.backends(min_num_qubits=2, simulator=False, operational=True)\n",
    "backend = least_busy(small_devices)\n",
    "print(backend)"
   ]
  },
  {
   "cell_type": "code",
   "execution_count": 20,
   "id": "1b84858a-7b6b-46eb-a687-b1d014924358",
   "metadata": {
    "tags": []
   },
   "outputs": [],
   "source": [
    "ops = [ZZ, ZX, XZ, XX]\n",
    "chsh_Estimacion = []\n",
    "\n",
    "with Session(service=service, backend=backend):\n",
    "    estimator = Estimator()\n",
    "    for op in ops:\n",
    "        job = estimator.run(\n",
    "            circuits=[circuito_base] * len(fases_desglosadas),\n",
    "            observables=[op] * len(fases_desglosadas),\n",
    "            parameter_values=fases_desglosadas,\n",
    "        )\n",
    "        est_result = job.result()\n",
    "        chsh_Estimacion.append(est_result)"
   ]
  },
  {
   "cell_type": "code",
   "execution_count": 21,
   "id": "41f9624b-3477-4f09-8296-fe8d4cb7313b",
   "metadata": {
    "tags": []
   },
   "outputs": [],
   "source": [
    "chsh_estimado_1 = (\n",
    "    chsh_Estimacion[0].values\n",
    "    - chsh_Estimacion[1].values\n",
    "    + chsh_Estimacion[2].values\n",
    "    + chsh_Estimacion[3].values\n",
    ")\n",
    "\n",
    "chsh_estimado_2 = (\n",
    "    chsh_Estimacion[0].values\n",
    "    + chsh_Estimacion[1].values\n",
    "    - chsh_Estimacion[2].values\n",
    "    + chsh_Estimacion[3].values\n",
    ")"
   ]
  },
  {
   "cell_type": "code",
   "execution_count": 22,
   "id": "0355e027-e010-4442-b822-c0c70b775408",
   "metadata": {
    "tags": []
   },
   "outputs": [
    {
     "data": {
      "text/plain": [
       "<matplotlib.legend.Legend at 0x7f416cf36fe0>"
      ]
     },
     "execution_count": 22,
     "metadata": {},
     "output_type": "execute_result"
    },
    {
     "data": {
      "image/png": "[encoded data removed]",
      "text/plain": [
       "<Figure size 1000x600 with 1 Axes>"
      ]
     },
     "metadata": {},
     "output_type": "display_data"
    }
   ],
   "source": [
    "fig, ax = plt.subplots(figsize=(10, 6))\n",
    "# results from a simulator\n",
    "ax.plot(theta_vec / np.pi, chsh_estimado_1, \"o-\", label=\"CHSH1 Simulation\")\n",
    "ax.plot(theta_vec / np.pi, chsh_estimado_2, \"o-\", label=\"CHSH2 Simulation\")\n",
    "# classical bound +-2\n",
    "ax.axhline(y=2, color=\"r\", linestyle=\"--\")\n",
    "ax.axhline(y=-2, color=\"r\", linestyle=\"--\")\n",
    "# quantum bound, +-2√2\n",
    "ax.axhline(y=np.sqrt(2) * 2, color=\"b\", linestyle=\"-.\")\n",
    "ax.axhline(y=-np.sqrt(2) * 2, color=\"b\", linestyle=\"-.\")\n",
    "# set x tick labels to the unit of pi\n",
    "ax.xaxis.set_major_formatter(tck.FormatStrFormatter(\"%g $\\pi$\"))\n",
    "ax.xaxis.set_major_locator(tck.MultipleLocator(base=0.5))\n",
    "# set title, labels, and legend\n",
    "plt.title(\"Violation of CHSH Inequality\")\n",
    "plt.xlabel(\"Theta\")\n",
    "plt.ylabel(\"CHSH witness\")\n",
    "plt.legend()"
   ]
  },
  {
   "cell_type": "code",
   "execution_count": 23,
   "id": "1c216580-f62f-4f79-a250-72af14e813ba",
   "metadata": {
    "tags": []
   },
   "outputs": [
    {
     "data": {
      "text/plain": [
       "array([ 1.6425,  1.0175,  0.156 , -0.703 , -1.4145, -2.058 , -2.281 ,\n",
       "       -2.3195, -2.0025, -1.3725, -0.6135,  0.293 ,  1.0605,  1.7875,\n",
       "        2.2385,  2.3635,  2.2245,  1.6965])"
      ]
     },
     "execution_count": 23,
     "metadata": {},
     "output_type": "execute_result"
    }
   ],
   "source": [
    "chsh_estimado_1"
   ]
  },
  {
   "cell_type": "code",
   "execution_count": 24,
   "id": "e4702706-481e-4105-8161-3301c3b10716",
   "metadata": {
    "tags": []
   },
   "outputs": [
    {
     "data": {
      "text/plain": [
       "array([ 1.6075,  2.1315,  2.316 ,  2.267 ,  1.8995,  1.188 ,  0.426 ,\n",
       "       -0.4575, -1.2245, -1.9125, -2.2605, -2.361 , -2.1495, -1.5465,\n",
       "       -0.7895,  0.0585,  0.9235,  1.6465])"
      ]
     },
     "execution_count": 24,
     "metadata": {},
     "output_type": "execute_result"
    }
   ],
   "source": [
    "chsh_estimado_2"
   ]
  },
  {
   "cell_type": "code",
   "execution_count": null,
   "id": "3e4b062d-6ba6-465c-ae87-905c9299db81",
   "metadata": {},
   "outputs": [],
   "source": []
  }
 ],
 "metadata": {
  "kernelspec": {
   "display_name": "Python 3 (ipykernel)",
   "language": "python",
   "name": "python3"
  },
  "language_info": {
   "codemirror_mode": {
    "name": "ipython",
    "version": 3
   },
   "file_extension": ".py",
   "mimetype": "text/x-python",
   "name": "python",
   "nbconvert_exporter": "python",
   "pygments_lexer": "ipython3",
   "version": "3.10.8"
  },
  "widgets": {
   "application/vnd.jupyter.widget-state+json": {
    "state": {
     "09724f5441184374ba05e7026380d028": {
      "model_module": "@jupyter-widgets/controls",
      "model_module_version": "2.0.0",
      "model_name": "ButtonStyleModel",
      "state": {
       "font_family": null,
       "font_size": null,
       "font_style": null,
       "font_variant": null,
       "font_weight": null,
       "text_color": null,
       "text_decoration": null
      }
     },
     "0adfcebf91f94d798b9cb8b3aec6a087": {
      "model_module": "@jupyter-widgets/base",
      "model_module_version": "2.0.0",
      "model_name": "LayoutModel",
      "state": {
       "width": "190px"
      }
     },
     "13cd4423a7a848318aecf82eeed70377": {
      "model_module": "@jupyter-widgets/controls",
      "model_module_version": "2.0.0",
      "model_name": "HTMLModel",
      "state": {
       "layout": "IPY_MODEL_aba3f4e665f04e04958af6e527237857",
       "style": "IPY_MODEL_37c386807d274a66a8735b055b6541ee",
       "value": "<h5>Message</h5>"
      }
     },
     "27576662b48047d9981158b4bae64d52": {
      "model_module": "@jupyter-widgets/base",
      "model_module_version": "2.0.0",
      "model_name": "LayoutModel",
      "state": {
       "width": "95px"
      }
     },
     "350be4c15af94bf9b9d1725b1050b7db": {
      "model_module": "@jupyter-widgets/controls",
      "model_module_version": "2.0.0",
      "model_name": "HTMLStyleModel",
      "state": {
       "description_width": "",
       "font_size": null,
       "text_color": null
      }
     },
     "3611eaa1563442c09eeb9b8c6f30a6be": {
      "model_module": "@jupyter-widgets/controls",
      "model_module_version": "2.0.0",
      "model_name": "HTMLModel",
      "state": {
       "layout": "IPY_MODEL_d6048cbd7b384ebd9acac75e68f43e09",
       "style": "IPY_MODEL_ade67a2483904b92a315f4cd4f79227b",
       "value": "<p style='font-family: IBM Plex Sans, Arial, Helvetica, sans-serif; font-size: 20px; font-weight: medium;'>Circuit Properties</p>"
      }
     },
     "36d3238adace43a293b17f5f868c49a9": {
      "model_module": "@jupyter-widgets/base",
      "model_module_version": "2.0.0",
      "model_name": "LayoutModel",
      "state": {
       "grid_area": "right",
       "padding": "0px 0px 0px 0px",
       "width": "70px"
      }
     },
     "37c386807d274a66a8735b055b6541ee": {
      "model_module": "@jupyter-widgets/controls",
      "model_module_version": "2.0.0",
      "model_name": "HTMLStyleModel",
      "state": {
       "description_width": "",
       "font_size": null,
       "text_color": null
      }
     },
     "5efd158c65b244328dd63b3e29f59bcf": {
      "model_module": "@jupyter-widgets/controls",
      "model_module_version": "2.0.0",
      "model_name": "HTMLModel",
      "state": {
       "layout": "IPY_MODEL_27576662b48047d9981158b4bae64d52",
       "style": "IPY_MODEL_ae12083140e04e94900296630e30c387",
       "value": "<h5>Status</h5>"
      }
     },
     "75c3c500d32a4e56986f711a62e25b52": {
      "model_module": "@jupyter-widgets/controls",
      "model_module_version": "2.0.0",
      "model_name": "HTMLStyleModel",
      "state": {
       "description_width": "",
       "font_size": null,
       "text_color": null
      }
     },
     "846bdbc7bcb74c5698f5ea58a01c487d": {
      "model_module": "@jupyter-widgets/base",
      "model_module_version": "2.0.0",
      "model_name": "LayoutModel",
      "state": {
       "width": "145px"
      }
     },
     "a518b06bf7cc43dd9215c224fe257ab6": {
      "model_module": "@jupyter-widgets/base",
      "model_module_version": "2.0.0",
      "model_name": "LayoutModel",
      "state": {
       "width": "70px"
      }
     },
     "aba3f4e665f04e04958af6e527237857": {
      "model_module": "@jupyter-widgets/base",
      "model_module_version": "2.0.0",
      "model_name": "LayoutModel",
      "state": {}
     },
     "ade67a2483904b92a315f4cd4f79227b": {
      "model_module": "@jupyter-widgets/controls",
      "model_module_version": "2.0.0",
      "model_name": "HTMLStyleModel",
      "state": {
       "description_width": "",
       "font_size": null,
       "text_color": null
      }
     },
     "ae12083140e04e94900296630e30c387": {
      "model_module": "@jupyter-widgets/controls",
      "model_module_version": "2.0.0",
      "model_name": "HTMLStyleModel",
      "state": {
       "description_width": "",
       "font_size": null,
       "text_color": null
      }
     },
     "be03947afb654a16bf7df9c0d1437b5f": {
      "model_module": "@jupyter-widgets/controls",
      "model_module_version": "2.0.0",
      "model_name": "GridBoxModel",
      "state": {
       "children": [
        "IPY_MODEL_cfb483924d9a4623b9dc9a92b966cb74"
       ],
       "layout": "IPY_MODEL_ed365363504b4076b662768d9e2c42e2"
      }
     },
     "cfb483924d9a4623b9dc9a92b966cb74": {
      "model_module": "@jupyter-widgets/controls",
      "model_module_version": "2.0.0",
      "model_name": "ButtonModel",
      "state": {
       "button_style": "primary",
       "description": "Clear",
       "layout": "IPY_MODEL_36d3238adace43a293b17f5f868c49a9",
       "style": "IPY_MODEL_09724f5441184374ba05e7026380d028",
       "tooltip": null
      }
     },
     "d6048cbd7b384ebd9acac75e68f43e09": {
      "model_module": "@jupyter-widgets/base",
      "model_module_version": "2.0.0",
      "model_name": "LayoutModel",
      "state": {
       "margin": "0px 0px 10px 0px"
      }
     },
     "d84b4d37183e47bbbb46326825907749": {
      "model_module": "@jupyter-widgets/controls",
      "model_module_version": "2.0.0",
      "model_name": "HTMLStyleModel",
      "state": {
       "description_width": "",
       "font_size": null,
       "text_color": null
      }
     },
     "daac8c2692ec40128a3b457059e86730": {
      "model_module": "@jupyter-widgets/controls",
      "model_module_version": "2.0.0",
      "model_name": "HTMLModel",
      "state": {
       "layout": "IPY_MODEL_846bdbc7bcb74c5698f5ea58a01c487d",
       "style": "IPY_MODEL_75c3c500d32a4e56986f711a62e25b52",
       "value": "<h5>Backend</h5>"
      }
     },
     "dd80263c2ada4d329c2736fe5a533040": {
      "model_module": "@jupyter-widgets/base",
      "model_module_version": "2.0.0",
      "model_name": "LayoutModel",
      "state": {
       "margin": "0px 0px 0px 37px",
       "width": "600px"
      }
     },
     "e5e53a9563754609a06224dce2e58251": {
      "model_module": "@jupyter-widgets/controls",
      "model_module_version": "2.0.0",
      "model_name": "HBoxModel",
      "state": {
       "children": [
        "IPY_MODEL_ed7d29e2c547408cb00f357182e3d5c2",
        "IPY_MODEL_daac8c2692ec40128a3b457059e86730",
        "IPY_MODEL_5efd158c65b244328dd63b3e29f59bcf",
        "IPY_MODEL_f3c9e31ac6794fb69a2568340be24dd7",
        "IPY_MODEL_13cd4423a7a848318aecf82eeed70377"
       ],
       "layout": "IPY_MODEL_dd80263c2ada4d329c2736fe5a533040"
      }
     },
     "ed365363504b4076b662768d9e2c42e2": {
      "model_module": "@jupyter-widgets/base",
      "model_module_version": "2.0.0",
      "model_name": "LayoutModel",
      "state": {
       "grid_template_areas": "\n                                       \". . . . right \"\n                                        ",
       "grid_template_columns": "20% 20% 20% 20% 20%",
       "width": "100%"
      }
     },
     "ed7d29e2c547408cb00f357182e3d5c2": {
      "model_module": "@jupyter-widgets/controls",
      "model_module_version": "2.0.0",
      "model_name": "HTMLModel",
      "state": {
       "layout": "IPY_MODEL_0adfcebf91f94d798b9cb8b3aec6a087",
       "style": "IPY_MODEL_d84b4d37183e47bbbb46326825907749",
       "value": "<h5>Job ID</h5>"
      }
     },
     "f3c9e31ac6794fb69a2568340be24dd7": {
      "model_module": "@jupyter-widgets/controls",
      "model_module_version": "2.0.0",
      "model_name": "HTMLModel",
      "state": {
       "layout": "IPY_MODEL_a518b06bf7cc43dd9215c224fe257ab6",
       "style": "IPY_MODEL_350be4c15af94bf9b9d1725b1050b7db",
       "value": "<h5>Queue</h5>"
      }
     }
    },
    "version_major": 2,
    "version_minor": 0
   }
  }
 },
 "nbformat": 4,
 "nbformat_minor": 5
}
