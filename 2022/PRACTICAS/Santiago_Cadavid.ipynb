{
 "cells": [
  {
   "cell_type": "code",
   "execution_count": 99,
   "id": "7b785b2b-8b6b-4876-9865-b1919cfd8a27",
   "metadata": {},
   "outputs": [],
   "source": [
    "#Se ajusta la clave dependiendo del tamaño del mensaje\n",
    "def lenght_comparation(key, message):\n",
    "    l_key = len(key)\n",
    "    l_message = len(message)\n",
    "    dif = l_message-l_key\n",
    "    actualiced_key = str(key)\n",
    "    if(dif>0):                        #Solo se ajusta la clave si el mensaje es mas largo que esta\n",
    "        \n",
    "        for i in range(dif):\n",
    "            if(i>=l_key):\n",
    "                i_dif = i-l_key\n",
    "                actualiced_key = actualiced_key + str(key[i_dif])\n",
    "                pass\n",
    "            else:\n",
    "                \n",
    "                actualiced_key = actualiced_key + str(key[i])\n",
    "    return(actualiced_key)\n",
    "\n"
   ]
  },
  {
   "cell_type": "code",
   "execution_count": 100,
   "id": "64953b79-b079-46a4-af80-7189931a9eb9",
   "metadata": {},
   "outputs": [],
   "source": [
    "#clave secrecta\n",
    "import numpy as np\n",
    "\n",
    "Bobkey = '01000011111'"
   ]
  },
  {
   "cell_type": "code",
   "execution_count": 107,
   "id": "5c998550-b81f-45c1-98ca-efd50fafe1ef",
   "metadata": {},
   "outputs": [],
   "source": [
    "#mensaje codificado\n",
    "encoded_m='¥ÐÔÒÅÇÃ²ÔÃÃÖÉÃÁ'\n",
    "Bkey_adjust = lenght_comparation(Bobkey,encoded_m)\n"
   ]
  },
  {
   "cell_type": "code",
   "execution_count": 108,
   "id": "9f1c5361-0dd7-4f83-9ab3-3ad05f243434",
   "metadata": {},
   "outputs": [
    {
     "name": "stdout",
     "output_type": "stream",
     "text": [
      "Mensaje recuperado: Entrega Practica 5\n"
     ]
    }
   ],
   "source": [
    "shortened_Bkey = Bkey_adjust[:len(encoded_m)]\n",
    "\n",
    "result = ''\n",
    "for m,k in zip(encoded_m,shortened_Bkey):\n",
    "    encoded_c = chr(ord(m) - 2*ord(k) % 256)\n",
    "    result += encoded_c\n",
    "print('Mensaje recuperado:',result)"
   ]
  },
  {
   "cell_type": "code",
   "execution_count": null,
   "id": "00ec8e0c-6fb8-48f0-adb3-e21aabeac04a",
   "metadata": {},
   "outputs": [],
   "source": []
  }
 ],
 "metadata": {
  "kernelspec": {
   "display_name": "Python 3 (ipykernel)",
   "language": "python",
   "name": "python3"
  },
  "language_info": {
   "codemirror_mode": {
    "name": "ipython",
    "version": 3
   },
   "file_extension": ".py",
   "mimetype": "text/x-python",
   "name": "python",
   "nbconvert_exporter": "python",
   "pygments_lexer": "ipython3",
   "version": "3.8.13"
  },
  "widgets": {
   "application/vnd.jupyter.widget-state+json": {
    "state": {},
    "version_major": 2,
    "version_minor": 0
   }
  }
 },
 "nbformat": 4,
 "nbformat_minor": 5
}
