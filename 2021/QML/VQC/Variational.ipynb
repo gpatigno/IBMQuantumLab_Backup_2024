{
 "cells": [
  {
   "cell_type": "code",
   "execution_count": 1,
   "id": "9c6df1e9-c1a9-4cee-b792-f5b828438591",
   "metadata": {},
   "outputs": [
    {
     "name": "stderr",
     "output_type": "stream",
     "text": [
      "<frozen importlib._bootstrap>:219: RuntimeWarning: scipy._lib.messagestream.MessageStream size changed, may indicate binary incompatibility. Expected 56 from C header, got 64 from PyObject\n"
     ]
    }
   ],
   "source": [
    "import numpy as np\n",
    "\n",
    "# Importing standard Qiskit libraries\n",
    "from qiskit import QuantumCircuit, transpile, Aer, IBMQ\n",
    "from qiskit.tools.jupyter import *\n",
    "from qiskit.visualization import *\n",
    "from ibm_quantum_widgets import *\n",
    "from qiskit.providers.aer import QasmSimulator\n",
    "\n",
    "# Loading your IBM Quantum account(s)\n",
    "provider = IBMQ.load_account()"
   ]
  },
  {
   "cell_type": "markdown",
   "id": "77b0a9d3-f89e-4873-8089-edb88760918d",
   "metadata": {},
   "source": [
    "# Búsqueda inicial"
   ]
  },
  {
   "cell_type": "code",
   "execution_count": 2,
   "id": "39798250-a88a-46b3-b7bf-aaacd6aaa670",
   "metadata": {},
   "outputs": [],
   "source": [
    "from qiskit.utils import algorithm_globals\n",
    "algorithm_globals.random_seed = 3142\n",
    "\n",
    "import numpy as np\n",
    "np.random.seed(algorithm_globals.random_seed)\n",
    "\n",
    "from qiskit_machine_learning.datasets import ad_hoc_data\n",
    "\n",
    "train_data, train_labels, test_data, test_labels= (\n",
    "    ad_hoc_data(training_size=20, test_size=5, n=2, gap=0.3, one_hot=False))"
   ]
  },
  {
   "cell_type": "markdown",
   "id": "1ba6ac01-a7ba-4d59-b26c-ce7378ecdeff",
   "metadata": {},
   "source": [
    "# Búsqueda 1"
   ]
  },
  {
   "cell_type": "code",
   "execution_count": 3,
   "id": "e3c70052-d456-4d85-a7f8-03239995c90e",
   "metadata": {},
   "outputs": [
    {
     "data": {
      "image/png": "[encoded data removed]",
      "text/plain": [
       "<Figure size 1621.88x204.68 with 1 Axes>"
      ]
     },
     "execution_count": 3,
     "metadata": {},
     "output_type": "execute_result"
    }
   ],
   "source": [
    "from qiskit.circuit.library import ZZFeatureMap, TwoLocal\n",
    "\n",
    "adhoc_feature_map = ZZFeatureMap(feature_dimension=2, reps=2)\n",
    "adhoc_var_form = TwoLocal(2, ['ry', 'rz'], 'cz', reps=2)\n",
    "\n",
    "adhoc_circuit = adhoc_feature_map.compose(adhoc_var_form)\n",
    "adhoc_circuit.measure_all()\n",
    "adhoc_circuit.decompose().draw()"
   ]
  },
  {
   "cell_type": "code",
   "execution_count": null,
   "id": "37f86dcd-4bf1-41bd-9607-84589ceef380",
   "metadata": {},
   "outputs": [],
   "source": [
    "def circuit_parameters(data, variational):\n",
    "    parameters = {}\n",
    "    for i, p in enumerate(adhoc_feature_map.ordered_parameters):\n",
    "        parameters[p] = data[i]\n",
    "    for i, p in enumerate(adhoc_var_form.ordered_parameters):\n",
    "        parameters[p] = variational[i]\n",
    "    return parameters"
   ]
  },
  {
   "cell_type": "code",
   "execution_count": null,
   "id": "d095aea5-158b-4770-af65-c25b60dbde85",
   "metadata": {},
   "outputs": [],
   "source": [
    "def assign_label(bitstring):\n",
    "    hamming_weight = sum([int(k) for k in list(bitstring)])\n",
    "    odd = hamming_weight & 1\n",
    "    if odd:\n",
    "        return 0\n",
    "    else:\n",
    "        return 1"
   ]
  },
  {
   "cell_type": "markdown",
   "id": "f12261f5-dac7-4471-a6b2-d442939e34ae",
   "metadata": {},
   "source": [
    "# Búsqueda 2"
   ]
  },
  {
   "cell_type": "code",
   "execution_count": null,
   "id": "902c764d-1af2-4e12-b46b-93bc686dd121",
   "metadata": {},
   "outputs": [],
   "source": [
    "def label_probability(results):\n",
    "    shots = sum(results.values())\n",
    "    probabilities = {0: 0, 1: 0}\n",
    "    for bitstring, counts in results.items():\n",
    "        label = assign_label(bitstring)\n",
    "        probabilities[label] += counts / shots\n",
    "        print(probabilities)\n",
    "    return probabilities"
   ]
  },
  {
   "cell_type": "markdown",
   "id": "9847d366-2e76-4598-8b6e-33c618fed2d1",
   "metadata": {},
   "source": [
    "# Búsqueda 3"
   ]
  },
  {
   "cell_type": "code",
   "execution_count": null,
   "id": "ae08a6a4-dff9-4835-ada7-85133505846c",
   "metadata": {},
   "outputs": [],
   "source": [
    "from qiskit import BasicAer, execute\n",
    "\n",
    "def classification_probability(data, variational):\n",
    "    circuits = [adhoc_circuit.assign_parameters(\n",
    "        circuit_parameters(d,variational)) for d in data]\n",
    "    backend = BasicAer.get_backend('qasm_simulator')\n",
    "    results =  execute(circuits, backend).result()\n",
    "\n",
    "    classification = [label_probability(results.get_counts(c)) for c in circuits]\n",
    "    return classification"
   ]
  },
  {
   "cell_type": "markdown",
   "id": "1011e113-42a1-40af-aa46-68e29f60961d",
   "metadata": {},
   "source": [
    "# Búsqueda 4"
   ]
  },
  {
   "cell_type": "code",
   "execution_count": null,
   "id": "cfcbfb4e-93ee-4e22-9957-f995d45c9af0",
   "metadata": {},
   "outputs": [],
   "source": [
    "def cross_entropy_loss(predictions, expected):\n",
    "    p = predictions.get(expected)\n",
    "    return -(expected*np.log(p)+(1-expected)*np.log(1-p))\n",
    "   \n",
    "def cost_function(data, labels, variational):\n",
    "    classifications = classification_probability(data, variational)\n",
    "\n",
    "    cost = 0\n",
    "    for i, classification in enumerate(classifications):\n",
    "        cost += cross_entropy_loss(classification, labels[i])\n",
    "    cost /= len(data)\n",
    "\n",
    "    return cost"
   ]
  },
  {
   "cell_type": "code",
   "execution_count": null,
   "id": "3576b58b-04c3-4a2b-9401-fec72b72296c",
   "metadata": {},
   "outputs": [],
   "source": [
    "# Callback function for optimiser for plotting purposes\n",
    "def store_intermediate_result(evaluation, parameter, cost, \n",
    "                              stepsize, accept):\n",
    "    evaluations.append(evaluation)\n",
    "    parameters.append(parameter)\n",
    "    costs.append(cost)"
   ]
  },
  {
   "cell_type": "markdown",
   "id": "9466645b-3aea-4ab1-98ca-04ae705a65a5",
   "metadata": {},
   "source": [
    "# Búsqueda 5"
   ]
  },
  {
   "cell_type": "code",
   "execution_count": null,
   "id": "11cc83e8-1290-4cf3-b3d6-d862cad839a8",
   "metadata": {},
   "outputs": [],
   "source": [
    "# Set up the optimization\n",
    "from qiskit.algorithms.optimizers import SPSA\n",
    "\n",
    "parameters = []\n",
    "costs = []\n",
    "evaluations = []\n",
    "\n",
    "optimizer = SPSA(maxiter=100, callback=store_intermediate_result)"
   ]
  },
  {
   "cell_type": "markdown",
   "id": "b5537b0e-e3d4-4507-a237-ade4816e4a45",
   "metadata": {},
   "source": [
    "# Búsqueda 6"
   ]
  },
  {
   "cell_type": "code",
   "execution_count": null,
   "id": "470eb380-43ea-4262-bb1d-04941b6bef54",
   "metadata": {},
   "outputs": [],
   "source": [
    "initial_point = np.random.random(adhoc_var_form.num_parameters)\n",
    "#initial_point = np.array([3.28559355, 5.48514978, 5.13099949,\n",
    "#                          0.88372228, 4.08885928, 2.45568528,\n",
    "#                          4.92364593, 5.59032015, 3.66837805,\n",
    "#                          4.84632313, 3.60713748, 2.43546])\n",
    "\n",
    "objective_function = lambda variational: cost_function(train_data,\n",
    "                                                       train_labels,\n",
    "                                                       variational)\n",
    "\n",
    "# Run the optimization\n",
    "opt_var, opt_value, _ = optimizer.optimize(len(initial_point), objective_function, initial_point=initial_point)"
   ]
  },
  {
   "cell_type": "code",
   "execution_count": null,
   "id": "3fbacdb1-3b70-4bcf-b529-4cb92116f73f",
   "metadata": {},
   "outputs": [],
   "source": [
    "import matplotlib.pyplot as plt\n",
    "\n",
    "fig = plt.figure()\n",
    "plt.plot(evaluations, costs)\n",
    "plt.xlabel('Steps')\n",
    "plt.ylabel('Cost')\n",
    "plt.show()"
   ]
  },
  {
   "cell_type": "code",
   "execution_count": null,
   "id": "d0fb8622-4dde-4287-a474-f22aa5dfa5e5",
   "metadata": {},
   "outputs": [],
   "source": [
    "def score_classifier(data, labels, variational):\n",
    "    probability = classification_probability(data, variational)\n",
    "\n",
    "    prediction = [0 if p[0] >= p[1] else 1 for p in probability]\n",
    "    \n",
    "    accuracy = 0\n",
    "    for i, p in enumerate(probability):\n",
    "        if (p[0] >= p[1]) and (labels[i] == 0):\n",
    "            accuracy += 1\n",
    "        elif (p[1]) >= p[0] and (labels[i] == 1):\n",
    "            accuracy += 1\n",
    "    accuracy /= len(labels)\n",
    "    return accuracy, prediction\n",
    "\n",
    "accuracy, prediction = score_classifier(test_data, test_labels, opt_var)\n",
    "accuracy"
   ]
  },
  {
   "cell_type": "code",
   "execution_count": null,
   "id": "517b97ab-ff12-47bf-ad79-2ae9af0ac1fa",
   "metadata": {},
   "outputs": [],
   "source": [
    "from matplotlib.lines import Line2D\n",
    "plt.figure(figsize=(9, 6))\n",
    "\n",
    "for feature, label in zip(train_data, train_labels):\n",
    "    marker = 'o' \n",
    "    color = 'C0' if label == 0 else 'C1'\n",
    "    plt.scatter(feature[0], feature[1],\n",
    "                marker=marker, s=100, color=color)\n",
    "    \n",
    "for feature, label, pred in zip(test_data, test_labels, prediction):\n",
    "    marker = 's' \n",
    "    color = 'C0' if pred == 0 else 'C1'\n",
    "    plt.scatter(feature[0], feature[1],\n",
    "                marker=marker, s=100, color=color)\n",
    "    if label != pred:  # mark wrongly classified\n",
    "        plt.scatter(feature[0], feature[1], marker='o', s=500,\n",
    "                    linewidths=2.5, facecolor='none', edgecolor='C3')\n",
    "\n",
    "legend_elements = [\n",
    "    Line2D([0], [0], marker='o', c='w', mfc='C0', label='A', ms=10),\n",
    "    Line2D([0], [0], marker='o', c='w', mfc='C0', label='B', ms=10),\n",
    "    Line2D([0], [0], marker='s', c='w', mfc='C1', label='predict A',\n",
    "           ms=10),\n",
    "    Line2D([0], [0], marker='s', c='w', mfc='C0', label='predict B',\n",
    "           ms=10),\n",
    "    Line2D([0], [0], marker='o', c='w', mfc='none', mec='C3',\n",
    "           label='wrongly classified', mew=2, ms=15)\n",
    "]\n",
    "\n",
    "plt.legend(handles=legend_elements, bbox_to_anchor=(1, 1),\n",
    "           loc='upper left')\n",
    "    \n",
    "plt.title('Training & Test Data')\n",
    "plt.xlabel('x')\n",
    "plt.ylabel('y')\n",
    "plt.show()"
   ]
  },
  {
   "cell_type": "code",
   "execution_count": null,
   "id": "56847dbb-cd5b-4259-87b5-ad71fe03dd11",
   "metadata": {},
   "outputs": [],
   "source": [
    "from sklearn.preprocessing import OneHotEncoder\n",
    "\n",
    "encoder = OneHotEncoder()\n",
    "train_labels_oh = encoder.fit_transform(train_labels.reshape(-1, 1)).toarray()\n",
    "test_labels_oh = encoder.fit_transform(test_labels.reshape(-1, 1)).toarray()"
   ]
  },
  {
   "cell_type": "code",
   "execution_count": null,
   "id": "2ecbe0ae-5e78-4400-89f0-b39807e9b9eb",
   "metadata": {},
   "outputs": [],
   "source": [
    "parameters = []\n",
    "costs = []\n",
    "evaluations = []\n",
    "\n",
    "initial_point = np.random.random(adhoc_var_form.num_parameters)\n",
    "#initial_point = np.array([0.3200227 , 0.6503638 , 0.55995053,\n",
    "#                          0.96566328, 0.38243769, 0.90403094,\n",
    "#                          0.82271449, 0.26810137, 0.61076489,\n",
    "#                          0.82301609, 0.11789148, 0.29667125])\n",
    "\n",
    "from qiskit_machine_learning.algorithms.classifiers import VQC\n",
    "\n",
    "vqc = VQC(feature_map=adhoc_feature_map,\n",
    "          ansatz=adhoc_var_form,\n",
    "          loss='cross_entropy',\n",
    "          optimizer=SPSA(callback=store_intermediate_result),\n",
    "          initial_point=initial_point,\n",
    "          quantum_instance=BasicAer.get_backend('qasm_simulator'))\n",
    "\n",
    "vqc.fit(train_data, train_labels_oh)"
   ]
  },
  {
   "cell_type": "code",
   "execution_count": null,
   "id": "20e3c9c6-3eea-4bb1-bda4-2edcda171679",
   "metadata": {},
   "outputs": [],
   "source": [
    "fig = plt.figure()\n",
    "plt.plot(evaluations, costs)\n",
    "plt.xlabel('Steps')\n",
    "plt.ylabel('Cost')\n",
    "plt.show()"
   ]
  },
  {
   "cell_type": "code",
   "execution_count": null,
   "id": "f1f120eb-29a8-42f1-9326-74fd7841f32c",
   "metadata": {},
   "outputs": [],
   "source": [
    "vqc.score(test_data, test_labels_oh)"
   ]
  },
  {
   "cell_type": "code",
   "execution_count": null,
   "id": "4523003b-a899-4ea0-afab-660bb61125a4",
   "metadata": {},
   "outputs": [],
   "source": [
    "from matplotlib.lines import Line2D\n",
    "plt.figure(figsize=(9, 6))\n",
    "\n",
    "for feature, label in zip(train_data, train_labels_oh):\n",
    "    color = 'C1' if label[0] == 0 else 'C0'\n",
    "    plt.scatter(feature[0], feature[1], marker='o', s=100,\n",
    "                color=color)\n",
    "    \n",
    "for feature, label, pred in zip(test_data, test_labels_oh,\n",
    "                                vqc.predict(test_data)): \n",
    "    color = 'C1' if pred[0] == 0 else 'C0'\n",
    "    plt.scatter(feature[0], feature[1], marker='s', s=100, color=color)\n",
    "    if not np.array_equal(label,pred):  # mark wrongly classified\n",
    "        plt.scatter(feature[0], feature[1], marker='o', s=500,\n",
    "                    linewidths=2.5, facecolor='none', edgecolor='C3')\n",
    "\n",
    "legend_elements = [\n",
    "    Line2D([0], [0], marker='o', c='w', mfc='C1', label='A', ms=10),\n",
    "    Line2D([0], [0], marker='o', c='w', mfc='C0', label='B', ms=10),\n",
    "    Line2D([0], [0], marker='s', c='w', mfc='C1', label='predict A',\n",
    "           ms=10),\n",
    "    Line2D([0], [0], marker='s', c='w', mfc='C0', label='predict B',\n",
    "           ms=10),\n",
    "    Line2D([0], [0], marker='o', c='w', mfc='none', mec='C3',\n",
    "           label='wrongly classified', mew=2, ms=15)\n",
    "]\n",
    "\n",
    "plt.legend(handles=legend_elements, bbox_to_anchor=(1, 1),\n",
    "           loc='upper left')\n",
    "    \n",
    "plt.title('Training & Test Data')\n",
    "plt.xlabel('x')\n",
    "plt.ylabel('y')\n",
    "plt.show()"
   ]
  },
  {
   "cell_type": "code",
   "execution_count": null,
   "id": "06fd1e1c-c04b-46fb-850f-e2934bcd216d",
   "metadata": {},
   "outputs": [],
   "source": []
  }
 ],
 "metadata": {
  "kernelspec": {
   "display_name": "Qiskit v0.35.0 (ipykernel)",
   "language": "python",
   "name": "python3"
  },
  "language_info": {
   "codemirror_mode": {
    "name": "ipython",
    "version": 3
   },
   "file_extension": ".py",
   "mimetype": "text/x-python",
   "name": "python",
   "nbconvert_exporter": "python",
   "pygments_lexer": "ipython3",
   "version": "3.8.13"
  },
  "widgets": {
   "application/vnd.jupyter.widget-state+json": {
    "state": {},
    "version_major": 2,
    "version_minor": 0
   }
  }
 },
 "nbformat": 4,
 "nbformat_minor": 5
}
