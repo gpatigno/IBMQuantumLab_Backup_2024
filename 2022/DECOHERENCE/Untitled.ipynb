{
 "cells": [
  {
   "cell_type": "code",
   "execution_count": 1,
   "id": "fac2e51f-876f-44cc-85a0-2b4ec6e5c19a",
   "metadata": {},
   "outputs": [
    {
     "name": "stderr",
     "output_type": "stream",
     "text": [
      "<frozen importlib._bootstrap>:219: RuntimeWarning: scipy._lib.messagestream.MessageStream size changed, may indicate binary incompatibility. Expected 56 from C header, got 64 from PyObject\n"
     ]
    }
   ],
   "source": [
    "import numpy as np\n",
    "\n",
    "# Importing standard Qiskit libraries\n",
    "from qiskit import QuantumCircuit, transpile, Aer, IBMQ\n",
    "from qiskit.tools.jupyter import *\n",
    "from qiskit.visualization import *\n",
    "from ibm_quantum_widgets import *\n",
    "from qiskit.providers.aer import QasmSimulator\n",
    "\n",
    "# Loading your IBM Quantum account(s)\n",
    "provider = IBMQ.load_account()"
   ]
  },
  {
   "cell_type": "code",
   "execution_count": null,
   "id": "0c813974-52cc-4879-a8c0-df1c48748888",
   "metadata": {},
   "outputs": [],
   "source": [
    "provider = IBMQ.get_provider(hub='ibm-q-education', group='uni-antioquia-1', project='qcudea2022-1')\n",
    "\n",
    "remote_backend = least_busy(provider.backends(filters=lambda x: x.configuration().n_qubits >= 7 \n",
    "                                       and not x.configuration().simulator \n",
    "                                       and x.status().operational==True))\n",
    "\n",
    "print(\"El computador cuántico de 7 qubits menos ocupado es el \" + remote_backend.name())"
   ]
  }
 ],
 "metadata": {
  "kernelspec": {
   "display_name": "Python 3 (ipykernel)",
   "language": "python",
   "name": "python3"
  },
  "language_info": {
   "codemirror_mode": {
    "name": "ipython",
    "version": 3
   },
   "file_extension": ".py",
   "mimetype": "text/x-python",
   "name": "python",
   "nbconvert_exporter": "python",
   "pygments_lexer": "ipython3",
   "version": "3.8.13"
  },
  "widgets": {
   "application/vnd.jupyter.widget-state+json": {
    "state": {
     "02deda1f281d48f1802b8b21c4dfbfd2": {
      "model_module": "@jupyter-widgets/controls",
      "model_module_version": "1.5.0",
      "model_name": "HTMLModel",
      "state": {
       "layout": "IPY_MODEL_4c536cd8b5db4f61ad4719d78b220fa2",
       "style": "IPY_MODEL_a4adf3530ea442fd813e1e941436d56b",
       "value": "<h5>Status</h5>"
      }
     },
     "0b1b3a1be921487c88624f05e1346bee": {
      "model_module": "@jupyter-widgets/controls",
      "model_module_version": "1.5.0",
      "model_name": "DescriptionStyleModel",
      "state": {
       "description_width": ""
      }
     },
     "1e7d5caa9aa243ccaf473ae719682323": {
      "model_module": "@jupyter-widgets/controls",
      "model_module_version": "1.5.0",
      "model_name": "DescriptionStyleModel",
      "state": {
       "description_width": ""
      }
     },
     "3d654658b07441a1bd428dc0ea3128df": {
      "model_module": "@jupyter-widgets/controls",
      "model_module_version": "1.5.0",
      "model_name": "HTMLModel",
      "state": {
       "layout": "IPY_MODEL_7e9842de1bb3435e9cd5b7ad0122da91",
       "style": "IPY_MODEL_0b1b3a1be921487c88624f05e1346bee",
       "value": "<h5>Backend</h5>"
      }
     },
     "4124ef954bc94f49be06548c61c8edd8": {
      "model_module": "@jupyter-widgets/base",
      "model_module_version": "1.2.0",
      "model_name": "LayoutModel",
      "state": {
       "margin": "0px 0px 10px 0px"
      }
     },
     "4c536cd8b5db4f61ad4719d78b220fa2": {
      "model_module": "@jupyter-widgets/base",
      "model_module_version": "1.2.0",
      "model_name": "LayoutModel",
      "state": {
       "width": "95px"
      }
     },
     "4f8706e7207c44c79864dc04cb9e85cd": {
      "model_module": "@jupyter-widgets/controls",
      "model_module_version": "1.5.0",
      "model_name": "ButtonModel",
      "state": {
       "button_style": "primary",
       "description": "Clear",
       "layout": "IPY_MODEL_944081779c6341268d592fd1b609d3b5",
       "style": "IPY_MODEL_828a9a5f547745e383133827cf9eead2"
      }
     },
     "6e6c349524d84a0683de0aadf3b0b74f": {
      "model_module": "@jupyter-widgets/controls",
      "model_module_version": "1.5.0",
      "model_name": "HTMLModel",
      "state": {
       "layout": "IPY_MODEL_a3708ccb1e8a4ea584368dc30c67cbf0",
       "style": "IPY_MODEL_1e7d5caa9aa243ccaf473ae719682323",
       "value": "<h5>Message</h5>"
      }
     },
     "7e9842de1bb3435e9cd5b7ad0122da91": {
      "model_module": "@jupyter-widgets/base",
      "model_module_version": "1.2.0",
      "model_name": "LayoutModel",
      "state": {
       "width": "145px"
      }
     },
     "80c74e269f3742c48123104b845af53e": {
      "model_module": "@jupyter-widgets/controls",
      "model_module_version": "1.5.0",
      "model_name": "HTMLModel",
      "state": {
       "layout": "IPY_MODEL_bc028ffa95d24d8f9ee7286e96b22257",
       "style": "IPY_MODEL_ea6204ab4a32463c98f64ba3ac7a8864",
       "value": "<h5>Job ID</h5>"
      }
     },
     "828a9a5f547745e383133827cf9eead2": {
      "model_module": "@jupyter-widgets/controls",
      "model_module_version": "1.5.0",
      "model_name": "ButtonStyleModel",
      "state": {}
     },
     "85e517f2184641b6a55c327b1663b95c": {
      "model_module": "@jupyter-widgets/controls",
      "model_module_version": "1.5.0",
      "model_name": "GridBoxModel",
      "state": {
       "children": [
        "IPY_MODEL_4f8706e7207c44c79864dc04cb9e85cd"
       ],
       "layout": "IPY_MODEL_e9087a6132eb46a7b132bd8de60f4d08"
      }
     },
     "92846591481f4969812022e20aafce69": {
      "model_module": "@jupyter-widgets/base",
      "model_module_version": "1.2.0",
      "model_name": "LayoutModel",
      "state": {
       "width": "70px"
      }
     },
     "944081779c6341268d592fd1b609d3b5": {
      "model_module": "@jupyter-widgets/base",
      "model_module_version": "1.2.0",
      "model_name": "LayoutModel",
      "state": {
       "grid_area": "right",
       "padding": "0px 0px 0px 0px",
       "width": "70px"
      }
     },
     "a3708ccb1e8a4ea584368dc30c67cbf0": {
      "model_module": "@jupyter-widgets/base",
      "model_module_version": "1.2.0",
      "model_name": "LayoutModel",
      "state": {}
     },
     "a4adf3530ea442fd813e1e941436d56b": {
      "model_module": "@jupyter-widgets/controls",
      "model_module_version": "1.5.0",
      "model_name": "DescriptionStyleModel",
      "state": {
       "description_width": ""
      }
     },
     "ace5682db85a4e0194968f70e1d01f89": {
      "model_module": "@jupyter-widgets/controls",
      "model_module_version": "1.5.0",
      "model_name": "HTMLModel",
      "state": {
       "layout": "IPY_MODEL_4124ef954bc94f49be06548c61c8edd8",
       "style": "IPY_MODEL_c8291d73e5c1480b8515efe66c06aff7",
       "value": "<p style='font-family: IBM Plex Sans, Arial, Helvetica, sans-serif; font-size: 20px; font-weight: medium;'>Circuit Properties</p>"
      }
     },
     "bc028ffa95d24d8f9ee7286e96b22257": {
      "model_module": "@jupyter-widgets/base",
      "model_module_version": "1.2.0",
      "model_name": "LayoutModel",
      "state": {
       "width": "190px"
      }
     },
     "c1562aaf8f3d47ab8f14fc615fab5089": {
      "model_module": "@jupyter-widgets/controls",
      "model_module_version": "1.5.0",
      "model_name": "HTMLModel",
      "state": {
       "layout": "IPY_MODEL_92846591481f4969812022e20aafce69",
       "style": "IPY_MODEL_ea19f869ce0c417988a1c12afc6a7850",
       "value": "<h5>Queue</h5>"
      }
     },
     "c8291d73e5c1480b8515efe66c06aff7": {
      "model_module": "@jupyter-widgets/controls",
      "model_module_version": "1.5.0",
      "model_name": "DescriptionStyleModel",
      "state": {
       "description_width": ""
      }
     },
     "d7336fc9ab8f4e1bb9f69ae5c1695f4e": {
      "model_module": "@jupyter-widgets/base",
      "model_module_version": "1.2.0",
      "model_name": "LayoutModel",
      "state": {
       "margin": "0px 0px 0px 37px",
       "width": "600px"
      }
     },
     "e9087a6132eb46a7b132bd8de60f4d08": {
      "model_module": "@jupyter-widgets/base",
      "model_module_version": "1.2.0",
      "model_name": "LayoutModel",
      "state": {
       "grid_template_areas": "\n                                       \". . . . right \"\n                                        ",
       "grid_template_columns": "20% 20% 20% 20% 20%",
       "width": "100%"
      }
     },
     "ea19f869ce0c417988a1c12afc6a7850": {
      "model_module": "@jupyter-widgets/controls",
      "model_module_version": "1.5.0",
      "model_name": "DescriptionStyleModel",
      "state": {
       "description_width": ""
      }
     },
     "ea6204ab4a32463c98f64ba3ac7a8864": {
      "model_module": "@jupyter-widgets/controls",
      "model_module_version": "1.5.0",
      "model_name": "DescriptionStyleModel",
      "state": {
       "description_width": ""
      }
     },
     "f4768b2a149842b0a55d623e55cdadff": {
      "model_module": "@jupyter-widgets/controls",
      "model_module_version": "1.5.0",
      "model_name": "HBoxModel",
      "state": {
       "children": [
        "IPY_MODEL_80c74e269f3742c48123104b845af53e",
        "IPY_MODEL_3d654658b07441a1bd428dc0ea3128df",
        "IPY_MODEL_02deda1f281d48f1802b8b21c4dfbfd2",
        "IPY_MODEL_c1562aaf8f3d47ab8f14fc615fab5089",
        "IPY_MODEL_6e6c349524d84a0683de0aadf3b0b74f"
       ],
       "layout": "IPY_MODEL_d7336fc9ab8f4e1bb9f69ae5c1695f4e"
      }
     }
    },
    "version_major": 2,
    "version_minor": 0
   }
  }
 },
 "nbformat": 4,
 "nbformat_minor": 5
}
