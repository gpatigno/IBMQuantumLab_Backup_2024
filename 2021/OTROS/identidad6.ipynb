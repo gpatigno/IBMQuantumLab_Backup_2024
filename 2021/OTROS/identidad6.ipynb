{
 "cells": [
  {
   "cell_type": "code",
   "execution_count": 168,
   "metadata": {},
   "outputs": [],
   "source": [
    "\n",
    "from qiskit import BasicAer, execute\n",
    "from qiskit import QuantumCircuit, ClassicalRegister, QuantumRegister\n",
    "from qiskit.tools.visualization import plot_histogram"
   ]
  },
  {
   "cell_type": "code",
   "execution_count": 169,
   "metadata": {},
   "outputs": [
    {
     "name": "stdout",
     "output_type": "stream",
     "text": [
      "ingrese el valor decimal de J: 7\n",
      "n= 3\n",
      "binario= 111\n",
      "ingrese el valor de r<=n: 2\n"
     ]
    }
   ],
   "source": [
    "from math import e\n",
    "d=int(input(\"ingrese el valor decimal de J: \"))\n",
    "a=bin(d)[2:]\n",
    "n=len(a)\n",
    "print('n=',n)\n",
    "print('binario=',a)\n",
    "r=int(input(\"ingrese el valor de r<=n: \"))\n",
    "\n",
    "#en esta linea se piden los valores respectivos para J y r, el n se calcula con la cantidad de bits"
   ]
  },
  {
   "cell_type": "code",
   "execution_count": 170,
   "metadata": {},
   "outputs": [
    {
     "name": "stdout",
     "output_type": "stream",
     "text": [
      "Lado izquierdo de la Identidad= (-4.286263797015736e-16-1j)\n"
     ]
    }
   ],
   "source": [
    "sumatoria=0\n",
    "#el for se utiliza para realizar la sumatoria del exponente del lado izquiero de la identidas 6\n",
    "for m in range(0,n):\n",
    "        sum=int(a[m])*2**(n-(m+1)-r)\n",
    "        sumatoria+=sum\n",
    "# el lado izquiero se calcula elevando la sumatoria como exponente de euler        \n",
    "total1=e**(2*pi*1j*sumatoria)\n",
    "print('Lado izquierdo de la Identidad=',total1)\n",
    "#para r=2 y J=7, n=3 y el lado izquiero es -i, el resultado se aproxima ya que la parte real tiene exponente -16  "
   ]
  },
  {
   "cell_type": "code",
   "execution_count": 171,
   "metadata": {},
   "outputs": [
    {
     "name": "stdout",
     "output_type": "stream",
     "text": [
      "Lado derecho de la Identidad= (-1.8369701987210297e-16-1j)\n"
     ]
    }
   ],
   "source": [
    "productoria=1\n",
    "#el lado derecho de la identidad 6 es la productoria\n",
    "for m in range(n-r+1,n+1):\n",
    "        fun=e**(2*pi*1j*int(a[m-1])*(2**(n-m-r)))\n",
    "        productoria*=fun\n",
    "        \n",
    "print('Lado derecho de la Identidad=',productoria)\n",
    "#su reslutado también se aproximan a -i"
   ]
  },
  {
   "cell_type": "code",
   "execution_count": 167,
   "metadata": {},
   "outputs": [
    {
     "name": "stdout",
     "output_type": "stream",
     "text": [
      "(1+2.4492935982947064e-16j)\n"
     ]
    }
   ],
   "source": [
    "resultado=productoria/total1\n",
    "print(resultado)\n",
    "#la división entre el lado derecho y el izquiero de la identidad se aproxima a 1, demostrándose la identidad"
   ]
  },
  {
   "cell_type": "code",
   "execution_count": null,
   "metadata": {},
   "outputs": [],
   "source": []
  },
  {
   "cell_type": "code",
   "execution_count": null,
   "metadata": {},
   "outputs": [],
   "source": []
  }
 ],
 "metadata": {
  "kernelspec": {
   "display_name": "Qiskit v0.34.2 (ipykernel)",
   "language": "python",
   "name": "python3"
  },
  "language_info": {
   "codemirror_mode": {
    "name": "ipython",
    "version": 3
   },
   "file_extension": ".py",
   "mimetype": "text/x-python",
   "name": "python",
   "nbconvert_exporter": "python",
   "pygments_lexer": "ipython3",
   "version": "3.8.12"
  },
  "widgets": {
   "application/vnd.jupyter.widget-state+json": {
    "state": {},
    "version_major": 2,
    "version_minor": 0
   }
  }
 },
 "nbformat": 4,
 "nbformat_minor": 4
}
