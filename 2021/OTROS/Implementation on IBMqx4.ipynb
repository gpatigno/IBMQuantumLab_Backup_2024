{
 "cells": [
  {
   "cell_type": "code",
   "execution_count": 1,
   "metadata": {},
   "outputs": [],
   "source": [
    "%matplotlib inline\n",
    "# Importing standard Qiskit libraries and configuring account\n",
    "from qiskit import QuantumRegister, ClassicalRegister\n",
    "from qiskit import QuantumCircuit, execute, Aer\n",
    "from qiskit.compiler import transpile, assemble\n",
    "from qiskit.tools.jupyter import *\n",
    "# Loading your IBM Q account(s)\n",
    "from qiskit import IBMQ\n",
    "IBMQ.enable_account('c7f72c2b494928b1464337089cc66f8dfd3b8114b180eb6b29004886b04fd70e1d45c4d7c1af99b4d8ed0332933d1a742dbe500d29d34ae47706d51b6dadfbad')"
   ]
  },
  {
   "cell_type": "code",
   "execution_count": 2,
   "metadata": {},
   "outputs": [],
   "source": [
    "from qiskit.tools.monitor import job_monitor, backend_monitor, backend_overview"
   ]
  },
  {
   "cell_type": "code",
   "execution_count": 3,
   "metadata": {},
   "outputs": [],
   "source": [
    "q = QuantumRegister(2)\n",
    "c = ClassicalRegister(2)\n",
    "qc = QuantumCircuit(q, c)\n",
    "\n",
    "qc.h(q[0])\n",
    "qc.cx(q[0], q[1])\n",
    "qc.measure(q, c);"
   ]
  },
  {
   "cell_type": "code",
   "execution_count": 4,
   "metadata": {},
   "outputs": [
    {
     "data": {
      "text/plain": [
       "'ibmqx2'"
      ]
     },
     "execution_count": 4,
     "metadata": {},
     "output_type": "execute_result"
    }
   ],
   "source": [
    "from qiskit.providers.ibmq import least_busy\n",
    "backend = least_busy(IBMQ.backends(filters=lambda x: not x.configuration().simulator))\n",
    "backend.name()"
   ]
  },
  {
   "cell_type": "code",
   "execution_count": 5,
   "metadata": {},
   "outputs": [
    {
     "name": "stdout",
     "output_type": "stream",
     "text": [
      "Job Status: job has successfully run\n"
     ]
    }
   ],
   "source": [
    "job1 = execute(qc, backend)\n",
    "job_monitor(job1)"
   ]
  },
  {
   "cell_type": "code",
   "execution_count": 19,
   "metadata": {},
   "outputs": [
    {
     "name": "stdout",
     "output_type": "stream",
     "text": [
      "Job Status: job has successfully run\n"
     ]
    }
   ],
   "source": [
    "job2 = execute(qc, backend, shots=8000)\n",
    "job_monitor(job2, interval=5)"
   ]
  },
  {
   "cell_type": "code",
   "execution_count": 7,
   "metadata": {},
   "outputs": [
    {
     "name": "stdout",
     "output_type": "stream",
     "text": [
      "ibmqx2\n",
      "======\n",
      "Configuration\n",
      "-------------\n",
      "    n_qubits: 5\n",
      "    operational: True\n",
      "    status_msg: active\n",
      "    pending_jobs: 1\n",
      "    basis_gates: ['u1', 'u2', 'u3', 'cx', 'id']\n",
      "    local: False\n",
      "    simulator: False\n",
      "    max_experiments: 75\n",
      "    coupling_map: [[0, 1], [0, 2], [1, 2], [3, 2], [3, 4], [4, 2]]\n",
      "    backend_version: 1.0.0\n",
      "    max_shots: 8192\n",
      "    url: None\n",
      "    description: 5 qubit device\n",
      "    online_date: 2018-11-06T05:00:00+00:00\n",
      "    sample_name: sparrow\n",
      "    backend_name: ibmqx2\n",
      "    memory: True\n",
      "    n_registers: 1\n",
      "    conditional: False\n",
      "    open_pulse: False\n",
      "    allow_q_object: True\n",
      "    credits_required: True\n",
      "\n",
      "Qubits [Name / Freq / T1 / T2 / U1 err / U2 err / U3 err / Readout err]\n",
      "-----------------------------------------------------------------------\n",
      "    Q0 / 5.28638 GHz / 29.34082 µs / 22.51479 µs / 0.0 / 0.00696 / 0.01392 / 0.12075\n",
      "    Q1 / 5.23817 GHz / 47.03306 µs / 31.67 µs / 0.0 / 0.00189 / 0.00378 / 0.31825\n",
      "    Q2 / 5.02998 GHz / 74.94856 µs / 61.10062 µs / 0.0 / 0.00636 / 0.01272 / 0.01575\n",
      "    Q3 / 5.29576 GHz / 70.59793 µs / 25.01477 µs / 0.0 / 0.00378 / 0.00756 / 0.02375\n",
      "    Q4 / 5.0846 GHz / 47.11061 µs / 30.52987 µs / 0.0 / 0.00464 / 0.00928 / 0.3695\n",
      "\n",
      "Multi-Qubit Gates [Name / Type / Gate Error]\n",
      "--------------------------------------------\n",
      "    CX0_1 / cx / 0.06549\n",
      "    CX0_2 / cx / 0.05347\n",
      "    CX1_2 / cx / 0.03988\n",
      "    CX3_2 / cx / 0.07499\n",
      "    CX3_4 / cx / 0.05617\n",
      "    CX4_2 / cx / 0.04882\n"
     ]
    }
   ],
   "source": [
    "backend_monitor(backend)"
   ]
  },
  {
   "cell_type": "code",
   "execution_count": 8,
   "metadata": {},
   "outputs": [
    {
     "name": "stdout",
     "output_type": "stream",
     "text": [
      "ibmq_16_melbourne           ibmqx2                       ibmqx4\n",
      "-----------------           ------                       ------\n",
      "Num. Qubits:  14            Num. Qubits:  5              Num. Qubits:  5\n",
      "Pending Jobs: 0             Pending Jobs: 1              Pending Jobs: 2\n",
      "Least busy:   True          Least busy:   False          Least busy:   False\n",
      "Operational:  True          Operational:  True           Operational:  True\n",
      "Avg. T1:      61.4          Avg. T1:      53.8           Avg. T1:      45.9\n",
      "Avg. T2:      78.1          Avg. T2:      34.2           Avg. T2:      25.3\n",
      "\n",
      "\n",
      "\n"
     ]
    }
   ],
   "source": [
    "backend_overview()"
   ]
  },
  {
   "cell_type": "code",
   "execution_count": 15,
   "metadata": {},
   "outputs": [
    {
     "data": {
      "image/png": "[encoded data removed]",
      "text/plain": [
       "<Figure size 541.8x258.86 with 1 Axes>"
      ]
     },
     "execution_count": 15,
     "metadata": {},
     "output_type": "execute_result"
    }
   ],
   "source": [
    "style = {'backgroundcolor': 'lightblue'}\n",
    "qc.draw(output='mpl', style=style)"
   ]
  },
  {
   "cell_type": "code",
   "execution_count": 20,
   "metadata": {},
   "outputs": [
    {
     "data": {
      "image/png": "[encoded data removed]",
      "text/plain": [
       "<Figure size 504x360 with 1 Axes>"
      ]
     },
     "execution_count": 20,
     "metadata": {},
     "output_type": "execute_result"
    }
   ],
   "source": [
    "from qiskit.visualization import plot_histogram\n",
    "counts = job1.result().get_counts()\n",
    "plot_histogram(counts)\n"
   ]
  },
  {
   "cell_type": "code",
   "execution_count": 21,
   "metadata": {},
   "outputs": [
    {
     "data": {
      "image/png": "[encoded data removed]",
      "text/plain": [
       "<Figure size 504x360 with 1 Axes>"
      ]
     },
     "execution_count": 21,
     "metadata": {},
     "output_type": "execute_result"
    }
   ],
   "source": [
    "counts = job2.result().get_counts()\n",
    "plot_histogram(counts)"
   ]
  },
  {
   "cell_type": "code",
   "execution_count": null,
   "metadata": {},
   "outputs": [],
   "source": []
  }
 ],
 "metadata": {
  "kernelspec": {
   "display_name": "Python 3",
   "language": "python",
   "name": "python3"
  },
  "language_info": {
   "codemirror_mode": {
    "name": "ipython",
    "version": 3
   },
   "file_extension": ".py",
   "mimetype": "text/x-python",
   "name": "python",
   "nbconvert_exporter": "python",
   "pygments_lexer": "ipython3",
   "version": "3.7.3"
  }
 },
 "nbformat": 4,
 "nbformat_minor": 2
}
