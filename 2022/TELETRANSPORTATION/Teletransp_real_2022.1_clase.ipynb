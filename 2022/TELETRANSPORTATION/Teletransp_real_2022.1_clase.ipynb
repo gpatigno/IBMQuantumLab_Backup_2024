{
 "cells": [
  {
   "cell_type": "code",
   "execution_count": null,
   "metadata": {},
   "outputs": [],
   "source": [
    "#***********************************************************************************************#\n",
    "# Implementación del circuito de Teletransportación Cuántica en la plataforma Qiskit de IBM.\n",
    "#***********************************************************************************************#\n",
    "\n",
    "#***********************************************************************************************#\n",
    "# Para esta implementación se ha tenido en cuenta la descripción del circuito dada en el siguiente \n",
    "# tutorial del libro de Qiskit:\n",
    "# https://qiskit.org/textbook/ch-algorithms/teleportation.html\n",
    "\n",
    "# Además se han tomando instrucciones e ideas del tutorial de la comunidad de desarrolladores de Qiskit disponible en:\n",
    "# https://github.com/Qiskit/qiskit-community-tutorials/blob/master/terra/qis_intro/teleportation_superdensecoding.ipynb\n",
    "#***********************************************************************************************#\n",
    "\n",
    "#***********************************************************************************************#\n",
    "# Curso de Computación Cuántica\n",
    "# Prof. Gustavo Patino\n",
    "# Departamento de Ingeniería Electrónica y Telecomunicaciones\n",
    "# Facultad de Ingeniería\n",
    "# Universidad de Antioquia\n",
    "# Medellin, 2020-2022.\n",
    "#***********************************************************************************************#"
   ]
  },
  {
   "cell_type": "code",
   "execution_count": null,
   "metadata": {},
   "outputs": [],
   "source": [
    "# Ejecución en un Computador Cuántico real"
   ]
  },
  {
   "cell_type": "code",
   "execution_count": null,
   "metadata": {},
   "outputs": [],
   "source": [
    "import numpy as np\n",
    "from qiskit import QuantumCircuit, QuantumRegister, ClassicalRegister, execute, Aer, IBMQ\n",
    "from qiskit.visualization import plot_histogram, plot_bloch_multivector"
   ]
  },
  {
   "cell_type": "code",
   "execution_count": null,
   "metadata": {},
   "outputs": [],
   "source": [
    "from qiskit_textbook.tools import random_state, vector2latex\n",
    "from qiskit.extensions import Initialize"
   ]
  },
  {
   "cell_type": "code",
   "execution_count": null,
   "metadata": {},
   "outputs": [],
   "source": [
    "from qiskit.providers.ibmq import least_busy\n",
    "from qiskit.tools.monitor import job_monitor"
   ]
  },
  {
   "cell_type": "code",
   "execution_count": null,
   "metadata": {
    "slideshow": {
     "slide_type": "-"
    }
   },
   "outputs": [],
   "source": [
    "# Descomente la siguiente linea si desea ver las imágenes más grandes.\n",
    "%config InlineBackend.figure_format = 'svg' # Makes the images look nice"
   ]
  },
  {
   "cell_type": "code",
   "execution_count": null,
   "metadata": {},
   "outputs": [],
   "source": [
    "# Definición de funciones para implementar las diversas etapas del circuito de teletransportación cuántica"
   ]
  },
  {
   "cell_type": "code",
   "execution_count": null,
   "metadata": {},
   "outputs": [],
   "source": [
    "def crear_estado_bell00(qc, a, b):\n",
    "    qc.h(a)\n",
    "    qc.cx(a,b)"
   ]
  },
  {
   "cell_type": "code",
   "execution_count": null,
   "metadata": {},
   "outputs": [],
   "source": [
    "def alice_circuit(qc, q2send, beta0):\n",
    "    qc.cx(q2send, beta0)\n",
    "    qc.h(q2send)"
   ]
  },
  {
   "cell_type": "code",
   "execution_count": null,
   "metadata": {},
   "outputs": [],
   "source": [
    "def alice_mide(qc, a, b):\n",
    "    qc.barrier()\n",
    "    qc.measure(a, 0)\n",
    "    qc.measure(b, 1)\n",
    "    qc.barrier()\n",
    "    qc.barrier()"
   ]
  },
  {
   "cell_type": "code",
   "execution_count": null,
   "metadata": {},
   "outputs": [],
   "source": [
    "# def bob_circuit(qc, beta1, m1, m2):\n",
    "#     qc.z(beta1).c_if(m1, 1)\n",
    "#     qc.x(beta1).c_if(m2, 1)"
   ]
  },
  {
   "cell_type": "code",
   "execution_count": null,
   "metadata": {},
   "outputs": [],
   "source": [
    "def bob_circuit(qc, q0, q1, beta1):\n",
    "    qc.cz(q0, beta1)\n",
    "    qc.cx(q1, beta1)"
   ]
  },
  {
   "cell_type": "code",
   "execution_count": null,
   "metadata": {},
   "outputs": [],
   "source": [
    "# Definición del circuito de teletransportación cuántica sin medidas de Alice\n",
    "\n",
    "qr = QuantumRegister(3)\n",
    "crz = ClassicalRegister(1)\n",
    "crx = ClassicalRegister(1)\n",
    "crbob = ClassicalRegister(1)\n",
    "\n",
    "teleport_cir_real = QuantumCircuit(qr, crz, crx, crbob)\n",
    "\n",
    "qrandom = random_state(1)\n",
    "vector2latex(qrandom, pretext=\"|\\\\psi\\\\rangle =\")\n",
    "\n",
    "init_gate =Initialize(qrandom)\n",
    "\n",
    "teleport_cir_real.append(init_gate, [0])\n",
    "teleport_cir_real.barrier()\n",
    "\n",
    "crear_estado_bell00(teleport_cir_real, qr[1], qr[2])\n",
    "teleport_cir_real.barrier()\n",
    "\n",
    "alice_circuit(teleport_cir_real, qr[0], qr[1])\n",
    "teleport_cir_real.barrier()\n",
    "\n",
    "bob_circuit(teleport_cir_real, qr[0], qr[1], qr[2])\n",
    "teleport_cir_real.barrier()\n",
    "teleport_cir_real.measure(qr[0], crz)\n",
    "teleport_cir_real.measure(qr[1], crx)\n",
    "teleport_cir_real.measure(qr[2], crbob)"
   ]
  },
  {
   "cell_type": "code",
   "execution_count": null,
   "metadata": {},
   "outputs": [],
   "source": [
    "teleport_cir_real.draw('mpl')"
   ]
  },
  {
   "cell_type": "code",
   "execution_count": null,
   "metadata": {},
   "outputs": [],
   "source": [
    "local_backend = Aer.get_backend('qasm_simulator') # note that this circuit can not be run on an IBM Q device\n",
    "teleport_job = execute(teleport_cir_real, local_backend, shots=1024) \n",
    "teleport_result = teleport_job.result()"
   ]
  },
  {
   "cell_type": "code",
   "execution_count": null,
   "metadata": {},
   "outputs": [],
   "source": [
    "data = teleport_result.get_counts(teleport_cir_real)\n",
    "alice = {}\n",
    "alice['00'] = data['0 0 0'] + data['1 0 0']\n",
    "alice['10'] = data['0 1 0'] + data['1 1 0']\n",
    "alice['01'] = data['0 0 1'] + data['1 0 1']\n",
    "alice['11'] = data['0 1 1'] + data['1 1 1']\n",
    "plot_histogram(alice)"
   ]
  },
  {
   "cell_type": "code",
   "execution_count": null,
   "metadata": {},
   "outputs": [],
   "source": [
    "bob = {}\n",
    "bob['0'] = data['0 0 0'] + data['0 1 0'] +  data['0 0 1'] + data['0 1 1']\n",
    "bob['1'] = data['1 0 0'] + data['1 1 0'] +  data['1 0 1'] + data['1 1 1']\n",
    "plot_histogram(bob)"
   ]
  },
  {
   "cell_type": "code",
   "execution_count": null,
   "metadata": {},
   "outputs": [],
   "source": [
    "# First, see what devices we are allowed to use by loading our saved accounts\n",
    "IBMQ.load_account()\n",
    "\n",
    "\n",
    "provider.backends()"
   ]
  },
  {
   "cell_type": "code",
   "execution_count": null,
   "metadata": {},
   "outputs": [],
   "source": [
    "remote_backend = \n",
    "\n",
    "\n",
    "\n",
    "print(\"El computador cuántico menos ocupado es el \" + remote_backend.name())"
   ]
  },
  {
   "cell_type": "code",
   "execution_count": null,
   "metadata": {},
   "outputs": [],
   "source": [
    "\n",
    "\n",
    "job_monitor(job_exp)"
   ]
  },
  {
   "cell_type": "code",
   "execution_count": null,
   "metadata": {},
   "outputs": [],
   "source": [
    "job_exp_result = job_exp.result()"
   ]
  },
  {
   "cell_type": "code",
   "execution_count": null,
   "metadata": {},
   "outputs": [],
   "source": [
    "data = job_exp_result.get_counts(teleport_cir_real)\n",
    "alice_real = {}\n",
    "\n",
    "alice_real['00'] = data['0 0 0'] + data['1 0 0']\n",
    "alice_real['10'] = data['0 1 0'] + data['1 1 0']\n",
    "alice_real['01'] = data['0 0 1'] + data['1 0 1']\n",
    "alice_real['11'] = data['0 1 1'] + data['1 1 1']\n",
    "\n",
    "plot_histogram(alice_real)"
   ]
  },
  {
   "cell_type": "code",
   "execution_count": null,
   "metadata": {},
   "outputs": [],
   "source": [
    "bob_real = {}\n",
    "\n",
    "bob_real['0'] = data['0 0 0'] + data['0 1 0'] +  data['0 0 1'] + data['0 1 1']\n",
    "bob_real['1'] = data['1 0 0'] + data['1 1 0'] +  data['1 0 1'] + data['1 1 1']\n",
    "\n",
    "plot_histogram(bob_real)"
   ]
  },
  {
   "cell_type": "code",
   "execution_count": null,
   "metadata": {},
   "outputs": [],
   "source": [
    "bob_sim_1 = sum([bob[result] for result in bob.keys() if result[0]=='1'])/sum(list(bob.values()))\n",
    "print(bob_sim_1)\n",
    "\n",
    "bob_real_1 = sum([bob_real[result] for result in bob_real.keys() if result[0]=='1'])/sum(list(bob_real.values()))\n",
    "print(bob_real_1)\n",
    "\n",
    "error_rate_percent =(abs(bob_real_1 - bob_sim_1)/bob_sim_1)*100\n",
    "print(\"La tasa de error experimental fue del: \", error_rate_percent, \"%\")"
   ]
  },
  {
   "cell_type": "code",
   "execution_count": null,
   "metadata": {},
   "outputs": [],
   "source": [
    "import qiskit.tools.jupyter\n",
    "%qiskit_version_table\n",
    "%qiskit_copyright"
   ]
  }
 ],
 "metadata": {
  "kernelspec": {
   "display_name": "Python 3 (ipykernel)",
   "language": "python",
   "name": "python3"
  },
  "language_info": {
   "codemirror_mode": {
    "name": "ipython",
    "version": 3
   },
   "file_extension": ".py",
   "mimetype": "text/x-python",
   "name": "python",
   "nbconvert_exporter": "python",
   "pygments_lexer": "ipython3",
   "version": "3.8.13"
  },
  "widgets": {
   "application/vnd.jupyter.widget-state+json": {
    "state": {},
    "version_major": 2,
    "version_minor": 0
   }
  }
 },
 "nbformat": 4,
 "nbformat_minor": 4
}
