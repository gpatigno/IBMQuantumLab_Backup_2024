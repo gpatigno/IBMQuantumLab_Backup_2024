{
 "cells": [
  {
   "cell_type": "code",
   "execution_count": 1,
   "id": "d18a1f96-9099-4e87-8974-7554c59c3737",
   "metadata": {},
   "outputs": [
    {
     "name": "stderr",
     "output_type": "stream",
     "text": [
      "<frozen importlib._bootstrap>:219: RuntimeWarning: scipy._lib.messagestream.MessageStream size changed, may indicate binary incompatibility. Expected 56 from C header, got 64 from PyObject\n"
     ]
    }
   ],
   "source": [
    "import numpy as np\n",
    "\n",
    "# Importing standard Qiskit libraries\n",
    "from qiskit import QuantumCircuit, transpile, Aer, IBMQ\n",
    "from qiskit.tools.jupyter import *\n",
    "from qiskit.visualization import *\n",
    "from ibm_quantum_widgets import *\n",
    "from qiskit.providers.aer import QasmSimulator\n",
    "\n",
    "# Loading your IBM Quantum account(s)\n",
    "provider = IBMQ.load_account()"
   ]
  },
  {
   "cell_type": "code",
   "execution_count": 24,
   "id": "bbc3b429-b034-4c26-b90e-dc239bd041d7",
   "metadata": {},
   "outputs": [
    {
     "data": {
      "image/png": "[encoded data removed]",
      "text/plain": [
       "<Figure size 267.052x144.48 with 1 Axes>"
      ]
     },
     "execution_count": 24,
     "metadata": {},
     "output_type": "execute_result"
    }
   ],
   "source": [
    "from qiskit import QuantumCircuit\n",
    "import numpy as np\n",
    "from qiskit.opflow import StateFn\n",
    "from qiskit.opflow import I, X, Y, Z\n",
    "\n",
    "\n",
    "qc = QuantumCircuit(2)\n",
    "#qc.h(0)\n",
    "#qc.x(0)\n",
    "qc.rz(np.pi/3, [0])\n",
    "qc.rx(np.pi/3, [0])\n",
    "qc.cx(0, 1)\n",
    "\n",
    "qc.draw()"
   ]
  },
  {
   "cell_type": "code",
   "execution_count": 28,
   "id": "29e1dac1-0baa-4777-8509-738e0d0caf77",
   "metadata": {},
   "outputs": [],
   "source": [
    "operator = Z\n",
    "psi = StateFn(qc)"
   ]
  },
  {
   "cell_type": "code",
   "execution_count": 29,
   "id": "9c30d0b8-1c34-426e-9e2a-047362d1be99",
   "metadata": {},
   "outputs": [
    {
     "name": "stdout",
     "output_type": "stream",
     "text": [
      "CircuitStateFn(\n",
      "     ┌─────────┐┌─────────┐     \n",
      "q_0: ┤ Rz(π/3) ├┤ Rx(π/3) ├──■──\n",
      "     └─────────┘└─────────┘┌─┴─┐\n",
      "q_1: ──────────────────────┤ X ├\n",
      "                           └───┘\n",
      ")\n"
     ]
    }
   ],
   "source": [
    "print(psi)"
   ]
  },
  {
   "cell_type": "code",
   "execution_count": 30,
   "id": "8572e01a-cd88-4b3f-b50f-1f00903e4f7a",
   "metadata": {},
   "outputs": [
    {
     "name": "stdout",
     "output_type": "stream",
     "text": [
      "0.5000000000000002\n"
     ]
    }
   ],
   "source": [
    "expectation_value = (~psi @ operator @ psi).eval()\n",
    "print(expectation_value.real)"
   ]
  },
  {
   "cell_type": "code",
   "execution_count": null,
   "id": "6b06a9cb-fe2c-4316-828e-f1d39562bdbf",
   "metadata": {},
   "outputs": [],
   "source": []
  }
 ],
 "metadata": {
  "kernelspec": {
   "display_name": "Python 3 (ipykernel)",
   "language": "python",
   "name": "python3"
  },
  "language_info": {
   "codemirror_mode": {
    "name": "ipython",
    "version": 3
   },
   "file_extension": ".py",
   "mimetype": "text/x-python",
   "name": "python",
   "nbconvert_exporter": "python",
   "pygments_lexer": "ipython3",
   "version": "3.8.13"
  },
  "widgets": {
   "application/vnd.jupyter.widget-state+json": {
    "state": {
     "0978137d5dd8436ab6ff41ffab64b5a6": {
      "model_module": "@jupyter-widgets/controls",
      "model_module_version": "1.5.0",
      "model_name": "HTMLModel",
      "state": {
       "layout": "IPY_MODEL_d0b7b61f3ef04a1eb1468db523252341",
       "style": "IPY_MODEL_7d8f3f52fab84521a3ea1e90235b4622",
       "value": "<h5>Queue</h5>"
      }
     },
     "0c8bd4b9ee764d8b82a14a9257eeef38": {
      "model_module": "@jupyter-widgets/controls",
      "model_module_version": "1.5.0",
      "model_name": "DescriptionStyleModel",
      "state": {
       "description_width": ""
      }
     },
     "150e3ce2b94b4b04bb02c6c1d2016276": {
      "model_module": "@jupyter-widgets/base",
      "model_module_version": "1.2.0",
      "model_name": "LayoutModel",
      "state": {
       "margin": "0px 0px 0px 37px",
       "width": "600px"
      }
     },
     "2eabbd6d55324209968566b84608c962": {
      "model_module": "@jupyter-widgets/controls",
      "model_module_version": "1.5.0",
      "model_name": "ButtonModel",
      "state": {
       "button_style": "primary",
       "description": "Clear",
       "layout": "IPY_MODEL_cc16a12253d241bb9a8f20c188a1e409",
       "style": "IPY_MODEL_cbe63c7aabcc409a94055f09f461a9e3"
      }
     },
     "589ff7df5d1a474b900ac4cfd2eac63a": {
      "model_module": "@jupyter-widgets/controls",
      "model_module_version": "1.5.0",
      "model_name": "DescriptionStyleModel",
      "state": {
       "description_width": ""
      }
     },
     "71cfd3c0878f4e7d8c421424ac4dcbd2": {
      "model_module": "@jupyter-widgets/base",
      "model_module_version": "1.2.0",
      "model_name": "LayoutModel",
      "state": {
       "width": "145px"
      }
     },
     "7649b16f440847cebcfa794f0e244123": {
      "model_module": "@jupyter-widgets/base",
      "model_module_version": "1.2.0",
      "model_name": "LayoutModel",
      "state": {
       "width": "95px"
      }
     },
     "7d8f3f52fab84521a3ea1e90235b4622": {
      "model_module": "@jupyter-widgets/controls",
      "model_module_version": "1.5.0",
      "model_name": "DescriptionStyleModel",
      "state": {
       "description_width": ""
      }
     },
     "80eedfea688944699acb309ffb8e88db": {
      "model_module": "@jupyter-widgets/controls",
      "model_module_version": "1.5.0",
      "model_name": "HBoxModel",
      "state": {
       "children": [
        "IPY_MODEL_f9dccda6321e496db9998289792400e4",
        "IPY_MODEL_ef70c39027e94581aea2fe656d01888b",
        "IPY_MODEL_faa88096c50a407c8b203afcfdd6e53f",
        "IPY_MODEL_0978137d5dd8436ab6ff41ffab64b5a6",
        "IPY_MODEL_e96d4d6fb4ae4565a9f3007e6fd30569"
       ],
       "layout": "IPY_MODEL_150e3ce2b94b4b04bb02c6c1d2016276"
      }
     },
     "8bb4dc0d4a724b5787204acbc0f2fecf": {
      "model_module": "@jupyter-widgets/controls",
      "model_module_version": "1.5.0",
      "model_name": "DescriptionStyleModel",
      "state": {
       "description_width": ""
      }
     },
     "b5d59659fab04472b1eb3eca9fa48748": {
      "model_module": "@jupyter-widgets/controls",
      "model_module_version": "1.5.0",
      "model_name": "GridBoxModel",
      "state": {
       "children": [
        "IPY_MODEL_2eabbd6d55324209968566b84608c962"
       ],
       "layout": "IPY_MODEL_dba4c9c5a74d40da8b68e5c6c0eec7cb"
      }
     },
     "cbe63c7aabcc409a94055f09f461a9e3": {
      "model_module": "@jupyter-widgets/controls",
      "model_module_version": "1.5.0",
      "model_name": "ButtonStyleModel",
      "state": {}
     },
     "cc16a12253d241bb9a8f20c188a1e409": {
      "model_module": "@jupyter-widgets/base",
      "model_module_version": "1.2.0",
      "model_name": "LayoutModel",
      "state": {
       "grid_area": "right",
       "padding": "0px 0px 0px 0px",
       "width": "70px"
      }
     },
     "d0b7b61f3ef04a1eb1468db523252341": {
      "model_module": "@jupyter-widgets/base",
      "model_module_version": "1.2.0",
      "model_name": "LayoutModel",
      "state": {
       "width": "70px"
      }
     },
     "d61b6b1458a14f09a0c44b40834ec7da": {
      "model_module": "@jupyter-widgets/base",
      "model_module_version": "1.2.0",
      "model_name": "LayoutModel",
      "state": {
       "margin": "0px 0px 10px 0px"
      }
     },
     "d9887f6f1927443da4fd207d67bdee0c": {
      "model_module": "@jupyter-widgets/controls",
      "model_module_version": "1.5.0",
      "model_name": "DescriptionStyleModel",
      "state": {
       "description_width": ""
      }
     },
     "dba4c9c5a74d40da8b68e5c6c0eec7cb": {
      "model_module": "@jupyter-widgets/base",
      "model_module_version": "1.2.0",
      "model_name": "LayoutModel",
      "state": {
       "grid_template_areas": "\n                                       \". . . . right \"\n                                        ",
       "grid_template_columns": "20% 20% 20% 20% 20%",
       "width": "100%"
      }
     },
     "e292ca004daf4766b3d52659c0816c8d": {
      "model_module": "@jupyter-widgets/base",
      "model_module_version": "1.2.0",
      "model_name": "LayoutModel",
      "state": {}
     },
     "e5dbdd95a56f4e4fbf055be2e7640298": {
      "model_module": "@jupyter-widgets/controls",
      "model_module_version": "1.5.0",
      "model_name": "HTMLModel",
      "state": {
       "layout": "IPY_MODEL_d61b6b1458a14f09a0c44b40834ec7da",
       "style": "IPY_MODEL_589ff7df5d1a474b900ac4cfd2eac63a",
       "value": "<p style='font-family: IBM Plex Sans, Arial, Helvetica, sans-serif; font-size: 20px; font-weight: medium;'>Circuit Properties</p>"
      }
     },
     "e96d4d6fb4ae4565a9f3007e6fd30569": {
      "model_module": "@jupyter-widgets/controls",
      "model_module_version": "1.5.0",
      "model_name": "HTMLModel",
      "state": {
       "layout": "IPY_MODEL_e292ca004daf4766b3d52659c0816c8d",
       "style": "IPY_MODEL_8bb4dc0d4a724b5787204acbc0f2fecf",
       "value": "<h5>Message</h5>"
      }
     },
     "ee087d53991f4428971bdcd52ff84928": {
      "model_module": "@jupyter-widgets/controls",
      "model_module_version": "1.5.0",
      "model_name": "DescriptionStyleModel",
      "state": {
       "description_width": ""
      }
     },
     "ef70c39027e94581aea2fe656d01888b": {
      "model_module": "@jupyter-widgets/controls",
      "model_module_version": "1.5.0",
      "model_name": "HTMLModel",
      "state": {
       "layout": "IPY_MODEL_71cfd3c0878f4e7d8c421424ac4dcbd2",
       "style": "IPY_MODEL_0c8bd4b9ee764d8b82a14a9257eeef38",
       "value": "<h5>Backend</h5>"
      }
     },
     "f1ee77a4438646549337cbac92146c34": {
      "model_module": "@jupyter-widgets/base",
      "model_module_version": "1.2.0",
      "model_name": "LayoutModel",
      "state": {
       "width": "190px"
      }
     },
     "f9dccda6321e496db9998289792400e4": {
      "model_module": "@jupyter-widgets/controls",
      "model_module_version": "1.5.0",
      "model_name": "HTMLModel",
      "state": {
       "layout": "IPY_MODEL_f1ee77a4438646549337cbac92146c34",
       "style": "IPY_MODEL_d9887f6f1927443da4fd207d67bdee0c",
       "value": "<h5>Job ID</h5>"
      }
     },
     "faa88096c50a407c8b203afcfdd6e53f": {
      "model_module": "@jupyter-widgets/controls",
      "model_module_version": "1.5.0",
      "model_name": "HTMLModel",
      "state": {
       "layout": "IPY_MODEL_7649b16f440847cebcfa794f0e244123",
       "style": "IPY_MODEL_ee087d53991f4428971bdcd52ff84928",
       "value": "<h5>Status</h5>"
      }
     }
    },
    "version_major": 2,
    "version_minor": 0
   }
  }
 },
 "nbformat": 4,
 "nbformat_minor": 5
}
