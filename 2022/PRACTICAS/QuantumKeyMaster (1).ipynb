{
 "cells": [
  {
   "cell_type": "code",
   "execution_count": 1,
   "id": "5ad759ba-f8f9-4375-8ece-dac3ac867236",
   "metadata": {},
   "outputs": [
    {
     "name": "stdout",
     "output_type": "stream",
     "text": [
      "Imports Successful\n"
     ]
    }
   ],
   "source": [
    "from qiskit import QuantumCircuit, Aer, transpile, assemble\n",
    "from qiskit.visualization import plot_histogram, plot_bloch_multivector\n",
    "from numpy.random import randint\n",
    "import numpy as np\n",
    "import time\n",
    "print(\"Imports Successful\")"
   ]
  },
  {
   "cell_type": "code",
   "execution_count": 2,
   "id": "4507c280-1b85-47bc-b6cf-a41499fb26c8",
   "metadata": {},
   "outputs": [],
   "source": [
    "def encode_message(bits, bases):\n",
    "    message = []\n",
    "    for i in range(n):\n",
    "        qc = QuantumCircuit(1,1)\n",
    "        if bases[i] == 0: # Prepare qubit in Z-basis\n",
    "            if bits[i] == 0:\n",
    "                pass \n",
    "            else:\n",
    "                qc.x(0)\n",
    "        else: # Prepare qubit in X-basis\n",
    "            if bits[i] == 0:\n",
    "                qc.h(0)\n",
    "            else:\n",
    "                qc.x(0)\n",
    "                qc.h(0)\n",
    "        qc.barrier()\n",
    "        message.append(qc)\n",
    "    return message"
   ]
  },
  {
   "cell_type": "code",
   "execution_count": 3,
   "id": "aed171a0-9622-4961-9fb9-dd867fb308f1",
   "metadata": {},
   "outputs": [],
   "source": [
    "def measure_message(message, bases):\n",
    "    backend = Aer.get_backend('aer_simulator')\n",
    "    measurements = []\n",
    "    for q in range(n):\n",
    "        if bases[q] == 0: # measuring in Z-basis\n",
    "            message[q].measure(0,0)\n",
    "        if bases[q] == 1: # measuring in X-basis\n",
    "            message[q].h(0)\n",
    "            message[q].measure(0,0)\n",
    "        aer_sim = Aer.get_backend('aer_simulator')\n",
    "        qobj = assemble(message[q], shots=1, memory=True)\n",
    "        result = aer_sim.run(qobj).result()\n",
    "        measured_bit = int(result.get_memory()[0])\n",
    "        measurements.append(measured_bit)\n",
    "    return measurements"
   ]
  },
  {
   "cell_type": "code",
   "execution_count": 4,
   "id": "f573367e-b389-4785-aea2-63f6a9e72e3f",
   "metadata": {},
   "outputs": [],
   "source": [
    "def remove_garbage(a_bases, b_bases, bits):\n",
    "    good_bits = []\n",
    "    for q in range(n):\n",
    "        if a_bases[q] == b_bases[q]:\n",
    "            # If both used the same basis, add\n",
    "            # this to the list of 'good' bits\n",
    "            good_bits.append(bits[q])\n",
    "    return good_bits"
   ]
  },
  {
   "cell_type": "code",
   "execution_count": 5,
   "id": "a19c35a8-7ad9-4672-80fc-2a361c09ebf1",
   "metadata": {},
   "outputs": [],
   "source": [
    "def sample_bits(bits, selection):\n",
    "    sample = []\n",
    "    for i in selection:\n",
    "        # use np.mod to make sure the\n",
    "        # bit we sample is always in \n",
    "        # the list range\n",
    "        i = np.mod(i, len(bits))\n",
    "        # pop(i) removes the element of the\n",
    "        # list at index 'i'\n",
    "        sample.append(bits.pop(i))\n",
    "    return sample"
   ]
  },
  {
   "cell_type": "code",
   "execution_count": 19,
   "id": "8f883de3-9d42-4818-bfa2-600199ac933f",
   "metadata": {},
   "outputs": [],
   "source": [
    "def key_comparation(A,B):\n",
    "    comparation_flag=0\n",
    "    \n",
    "    if A != B:\n",
    "        pass\n",
    "    else:\n",
    "        comparation_flag=1\n",
    "    return comparation_flag\n",
    "    "
   ]
  },
  {
   "cell_type": "code",
   "execution_count": 20,
   "id": "9720c2a0-bdd8-4bc8-96cb-5f064c084419",
   "metadata": {},
   "outputs": [],
   "source": [
    "np.random.seed(int(time.time()))"
   ]
  },
  {
   "cell_type": "code",
   "execution_count": 25,
   "id": "fe6458f9-0a61-414a-9a86-31b0a120d8bf",
   "metadata": {},
   "outputs": [
    {
     "name": "stdout",
     "output_type": "stream",
     "text": [
      "50\n"
     ]
    }
   ],
   "source": [
    "n = np.random.randint(20, 100)\n",
    "print(n)"
   ]
  },
  {
   "cell_type": "code",
   "execution_count": 28,
   "id": "e5aadde9-6bcc-4a66-98c2-ccc6d09820ad",
   "metadata": {},
   "outputs": [
    {
     "name": "stdout",
     "output_type": "stream",
     "text": [
      "  bob_sample = [0, 1, 0, 0, 0, 0, 0, 1, 0, 0]\n",
      "alice_sample = [0, 1, 0, 0, 0, 0, 0, 1, 0, 0]\n",
      "bob_sample = [1, 1, 1, 1, 1, 0, 0, 0, 0, 1, 0]\n",
      "alice_sample = [1, 1, 1, 1, 1, 0, 0, 0, 0, 1, 0]\n",
      "0.0031746031746031746\n",
      "La clave secreta es:  [1, 1, 1, 1, 1, 0, 0, 0, 0, 1, 0]\n"
     ]
    }
   ],
   "source": [
    "flag = 0\n",
    "flagkey = 0\n",
    "iteration = 0\n",
    "while(1):\n",
    "    iteration +=1\n",
    "    # Step 1\n",
    "    alice_bits = randint(2, size=n)\n",
    "    alice_bases = randint(2, size=n)\n",
    "    # Step 2\n",
    "    message = encode_message(alice_bits, alice_bases)\n",
    "    # Interception!\n",
    "    eve_bases = randint(2, size=n)\n",
    "    intercepted_message = measure_message(message, eve_bases)\n",
    "    # Step 3\n",
    "    bob_bases = randint(2, size=n)\n",
    "    bob_results = measure_message(message, bob_bases)\n",
    "    # Step 4\n",
    "    bob_key = remove_garbage(alice_bases, bob_bases, bob_results)\n",
    "    alice_key = remove_garbage(alice_bases, bob_bases, alice_bits)\n",
    "    # Step 5\n",
    "    sample_size = 10 # Change this to something lower and see if \n",
    "                     # Eve can intercept the message without Alice\n",
    "                     # and Bob finding out\n",
    "    bit_selection = randint(n, size=sample_size)\n",
    "    bob_sample = sample_bits(bob_key, bit_selection)\n",
    "    alice_sample = sample_bits(alice_key, bit_selection)\n",
    "    flag = key_comparation(alice_sample, bob_sample)\n",
    "    if(flag==1):\n",
    "        flagkey=key_comparation(bob_key, alice_key)\n",
    "        if(flagkey==1):\n",
    "            print(\"  bob_sample = \" + str(bob_sample))\n",
    "            print(\"alice_sample = \"+ str(alice_sample))\n",
    "            print(\"bob_sample = \"+ str(bob_key))\n",
    "            print(\"alice_sample = \"+ str(alice_key))\n",
    "            break\n",
    "        else:\n",
    "            pass\n",
    "    elif(iteration>=1000):\n",
    "            print(\"No se encontro una clave segura\")\n",
    "            break\n",
    "\n",
    "    else:\n",
    "        pass\n",
    "probabilidad= 1/iteration\n",
    "print(probabilidad)\n",
    "print(\"La clave secreta es: \", bob_key)\n",
    "\n",
    "           \n",
    "\n"
   ]
  },
  {
   "cell_type": "code",
   "execution_count": 6,
   "id": "91c485b2-8309-4531-bda6-fc7beaf10b20",
   "metadata": {},
   "outputs": [
    {
     "name": "stdout",
     "output_type": "stream",
     "text": [
      "La probabilidad de que Eve intercepete el mensaje fue de:  0.9968253968253968\n"
     ]
    }
   ],
   "source": [
    "Eve_prob = 1-0.0031746031746031746\n",
    "print(\"La probabilidad de que Eve intercepete el mensaje fue de: \", Eve_prob)"
   ]
  },
  {
   "cell_type": "code",
   "execution_count": 38,
   "id": "fda7c853-467a-4ce6-a6cc-7d62a1e29510",
   "metadata": {},
   "outputs": [
    {
     "name": "stdout",
     "output_type": "stream",
     "text": [
      "01000011111\n"
     ]
    }
   ],
   "source": [
    "secret_key = \"\"\n",
    "i=0\n",
    "for i in range(len(alice_key)):\n",
    "    add= str(bob_key[i])\n",
    "    secret_key= add+secret_key\n",
    "print(secret_key)"
   ]
  }
 ],
 "metadata": {
  "kernelspec": {
   "display_name": "Python 3 (ipykernel)",
   "language": "python",
   "name": "python3"
  },
  "language_info": {
   "codemirror_mode": {
    "name": "ipython",
    "version": 3
   },
   "file_extension": ".py",
   "mimetype": "text/x-python",
   "name": "python",
   "nbconvert_exporter": "python",
   "pygments_lexer": "ipython3",
   "version": "3.8.13"
  },
  "widgets": {
   "application/vnd.jupyter.widget-state+json": {
    "state": {},
    "version_major": 2,
    "version_minor": 0
   }
  }
 },
 "nbformat": 4,
 "nbformat_minor": 5
}
