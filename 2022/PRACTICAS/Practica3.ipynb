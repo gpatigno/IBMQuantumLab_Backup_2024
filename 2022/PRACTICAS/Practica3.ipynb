{
 "cells": [
  {
   "cell_type": "code",
   "execution_count": 16,
   "id": "fae9d40b-5698-450c-92d1-3806ae9f1871",
   "metadata": {},
   "outputs": [
    {
     "name": "stderr",
     "output_type": "stream",
     "text": [
      "ibmqfactory.load_account:WARNING:2022-09-08 19:47:01,403: Credentials are already in use. The existing account in the session will be replaced.\n"
     ]
    }
   ],
   "source": [
    "import numpy as np\n",
    "\n",
    "# Importing standard Qiskit libraries\n",
    "from qiskit import QuantumCircuit, transpile, Aer, IBMQ\n",
    "from qiskit.tools.jupyter import *\n",
    "from qiskit.visualization import *\n",
    "from ibm_quantum_widgets import *\n",
    "from qiskit.providers.aer import QasmSimulator\n",
    "import sys\n",
    "import numpy as np\n",
    "import math\n",
    "\n",
    "from qiskit import QuantumCircuit, QuantumRegister, ClassicalRegister, execute, BasicAer, IBMQ\n",
    "from qiskit.visualization import plot_histogram, plot_bloch_multivector\n",
    "\n",
    "from qiskit.extensions import Initialize\n",
    "\n",
    "# Loading your IBM Quantum account(s)\n",
    "provider = IBMQ.load_account()"
   ]
  },
  {
   "cell_type": "code",
   "execution_count": 17,
   "id": "33cf4d69-f903-492a-afc1-b52b423a7644",
   "metadata": {},
   "outputs": [],
   "source": [
    "CABRA  = \"ATGGTGCTGTCTGCCGCCGACAAGTCCAATGTCAAGGCCGCCTGGGGCAAGGTTGGCAGCAACGCTGGAGCTTATGGCGCAGAGGCTCTGGAGAGGATGTTCCTGAGCTTCCCCACCACCAAGACCTACTTCCCCCACTTCGACCTGAGCCACGGCTCGGCCCAGGTCAAGGGCCACGGCGAGAAGGTGGCCGCCGCGCTGACCAAAGCGGTGGGCCACCTGGACGACCTGCCCGGTACTCTGTCTGATCTGAGTGACCTGCACGCCCACAAGCTGCGTGTGGACCCGGTCAACTTTAAGCTTCTGAGCCACTCCCTGCTGGTGACCCTGGCCTGCCACCACCCCAGTGATTTCACCCCCGCGGTCCACGCCTCCCTGGACAAGTTCTTGGCCAACGTGAGCACCGTGCTGACCTCCAAATACCGTTAA\"\n",
    "CABALLO = \"ATGGTGCTGTCTGCCGCCGACAAGACCAACGTCAAGGCCGCCTGGAGTAAGGTTGGCGGCCACGCTGGCGAGTATGGCGCAGAGGCCCTAGAGAGGATGTTCCTGGGCTTCCCCACCACCAAGACCTACTTCCCCCACTTCGATCTGAGCCACGGCTCCGCCCAGGTCAAGGCCCACGGCCAGAAGGTGGGCGACGCGCTGACTCTCGCCGTGGGCCACCTGGACGACCTGCCTGGCGCCCTGTCGAATCTGAGCGACCTGCACGCACACAAGCTGCGCGTGGACCCCGTCAACTTCAAGCTCCTGAGTCATTGCCTGCTGTCCACCTTGGCCGTCCACCTCCCCAACGATTTCACCCCTGCCGTCCACGCCTCCCTGGACAAGTTCTTGAGCAGTGTGAGCACCGTGCTGACCTCCAAATACCGTTAA\"\n",
    "PATO = \"ATGGTGCTGTCTGCGGCTGACAAGACCAACGTCAAGGGTGTCTTCTCCAAAATCGGTGGCCATGCTGAGGAGTATGGCGCCGAGACCCTGGAGAGGATGTTCATCGCCTACCCCCAGACCAAGACCTACTTCCCCCACTTTGACCTGCAGCACGGCTCTGCTCAGATCAAGGCCCATGGCAAGAAGGTGGCGGCTGCCCTAGTTGAAGCTGTCAACCACATCGATGACATTGCGGGTGCTCTCTCCAAGCTCAGTGACCTCCACGCCCAAAAGCTCCGTGTGGACCCTGTCAACTTCAAATTCCTGGGCCACTGCTTCCTGGTGGTGGTTGCCATCCACCACCCCGCTGCCCTGACCCCAGAGGTCCACGCTTCCCTGGACAAGTTCATGTGCGCCGTGGGTGCTGTGCTGACTGCCAAGTACCGTTAG\""
   ]
  },
  {
   "cell_type": "code",
   "execution_count": 18,
   "id": "9a48e5aa-e008-476a-9208-6e42b266c293",
   "metadata": {},
   "outputs": [],
   "source": [
    "def encode_bitstring(bitstring, qr, cr, inverse=False):\n",
    "    \"\"\"\n",
    "    create a circuit for constructing the quantum superposition of the bitstring\n",
    "    \"\"\"\n",
    "    n = math.ceil(math.log2(len(bitstring))) + 2                 #number of qubits\n",
    "    assert n > 4, \"the length of bitstring must be at least 4\"\n",
    "    \n",
    "    qc = QuantumCircuit(qr, cr)\n",
    "    \n",
    "    #the probability amplitude of the desired state\n",
    "    desired_vector = np.array([ 0.0 for i in range(2**n) ])     #initialize to zero\n",
    "\n",
    "################################################################################################################    \n",
    " #         Cambio requerido en el código para corregir error presentado   #\n",
    "    \n",
    "    qc_init = QuantumCircuit(n) # Creación de compuertas circuitales para inicialización\n",
    "    inverse_qc_init = QuantumCircuit(n) # Creación de compuertas circuitales para inversión de la inicialización\n",
    "\n",
    "################################################################################################################\n",
    "\n",
    "    amplitude = np.sqrt(1.0/len(bitstring))\n",
    "    \n",
    "    for i, b in enumerate(bitstring):\n",
    "        pos = i * 4\n",
    "        if b == \"A\":\n",
    "            desired_vector[pos] = amplitude\n",
    "        elif b==\"C\":\n",
    "            desired_vector[pos+1] = amplitude\n",
    "        elif b==\"G\":\n",
    "            desired_vector[pos+2] = amplitude\n",
    "        elif b==\"T\":\n",
    "            desired_vector[pos+3] = amplitude\n",
    "        \n",
    "            \n",
    "        \n",
    "\n",
    "################################################################################################################    \n",
    " #         Cambio requerido en el código para corregir error presentado   #\n",
    "    \n",
    "    qc_init = Initialize(desired_vector)\n",
    "    \n",
    " ################################################################################################################       \n",
    "    \n",
    "    if not inverse:\n",
    "#         qc.initialize(desired_vector, qr)\n",
    "\n",
    "        qc.append(qc_init, qr)  #  Cambio requerido en el código para corregir error presentado   #\n",
    "    \n",
    "        qc.barrier(qr)\n",
    "        \n",
    "    else:\n",
    "#         qc.initialize(desired_vector, qr).inverse()  #invert the circuit\n",
    "\n",
    "        inverse_qc_init = qc_init.gates_to_uncompute()  # Cambio requerido en el código para corregir error presentado   #\n",
    "        qc.append(inverse_qc_init, qr)  # Cambio requerido en el código para corregir error presentado   #\n",
    "        \n",
    "        qc.barrier(qr)\n",
    "        for i in range(n):\n",
    "            qc.measure(qr[i], cr[i])\n",
    "    print()\n",
    "    return qc"
   ]
  },
  {
   "cell_type": "code",
   "execution_count": 19,
   "id": "aa1b04c1-271a-4ae6-8215-c14bce028423",
   "metadata": {},
   "outputs": [
    {
     "name": "stdout",
     "output_type": "stream",
     "text": [
      "\n",
      "\n",
      "\n"
     ]
    }
   ],
   "source": [
    "n = math.ceil(math.log2(len(CABALLO))) + 2               #number of qubits\n",
    "qr = QuantumRegister(n)\n",
    "cr = ClassicalRegister(n)\n",
    "\n",
    "qc_cabra     = encode_bitstring(CABRA, qr, cr)\n",
    "qc_cabra.draw()\n",
    "qc_caballo = encode_bitstring(CABALLO, qr, cr)\n",
    "qc_caballo.draw()\n",
    "qc_pato = encode_bitstring(PATO, qr, cr)\n",
    "qc_pato.draw()\n",
    "\n",
    "circs = {\"CABRA\": qc_cabra, \"CABALL0\": qc_caballo, \"PATO\": qc_pato}"
   ]
  },
  {
   "cell_type": "code",
   "execution_count": 20,
   "id": "9186120f-d7d2-4ad7-84d5-8816ea1d4701",
   "metadata": {},
   "outputs": [
    {
     "name": "stdout",
     "output_type": "stream",
     "text": [
      "\n",
      "\n",
      "\n"
     ]
    }
   ],
   "source": [
    "inverse_qc_cabra     = encode_bitstring(CABRA,     qr, cr, inverse=True)\n",
    "inverse_qc_caballo = encode_bitstring(CABALLO, qr, cr, inverse=True)\n",
    "inverse_qc_pato = encode_bitstring(PATO, qr, cr, inverse=True)\n",
    "\n",
    "inverse_circs = {\"CABRA\": inverse_qc_cabra, \"CABALLO\": inverse_qc_caballo, \"PATO\": inverse_qc_pato}"
   ]
  },
  {
   "cell_type": "code",
   "execution_count": 21,
   "id": "a822d9d8-ab20-43b6-8a58-ec1e30918a7f",
   "metadata": {},
   "outputs": [
    {
     "name": "stdout",
     "output_type": "stream",
     "text": [
      "Similarity score of CABRA and CABALLO is 0.77099609375\n",
      "Similarity score of CABRA and PATO is 0.550537109375\n",
      "[ANSWER] CABRA is most similar to CABALLO\n"
     ]
    }
   ],
   "source": [
    "from qiskit import IBMQ, BasicAer\n",
    "\n",
    "key = \"CABRA\"       #the name of the code used as key to find similar ones\n",
    "\n",
    "# use local simulator\n",
    "backend = BasicAer.get_backend(\"qasm_simulator\")\n",
    "shots = 8192\n",
    "\n",
    "combined_circs = {}\n",
    "count = {}\n",
    "\n",
    "most_similar, most_similar_score = \"\", -1.0\n",
    "\n",
    "for other_key in inverse_circs:\n",
    "    if other_key == key:\n",
    "        continue\n",
    "        \n",
    "    combined_circs[other_key] = circs[key].compose(inverse_circs[other_key])   #combined circuits to look for similar codes\n",
    "    job = execute(combined_circs[other_key], backend=backend,shots=shots)\n",
    "    st = job.result().get_counts(combined_circs[other_key])\n",
    "    if \"0\"*n in st:\n",
    "        sim_score = st[\"0\"*n]/shots\n",
    "    else:\n",
    "        sim_score = 0.0\n",
    "    \n",
    "    print(\"Similarity score of\",key,\"and\",other_key,\"is\",sim_score)\n",
    "    if most_similar_score < sim_score:\n",
    "        most_similar, most_similar_score = other_key, sim_score\n",
    "\n",
    "print(\"[ANSWER]\", key,\"is most similar to\", most_similar)"
   ]
  },
  {
   "cell_type": "code",
   "execution_count": null,
   "id": "bf12aec7-c26d-467f-b348-a577b927450a",
   "metadata": {},
   "outputs": [],
   "source": []
  }
 ],
 "metadata": {
  "kernelspec": {
   "display_name": "Python 3 (ipykernel)",
   "language": "python",
   "name": "python3"
  },
  "language_info": {
   "codemirror_mode": {
    "name": "ipython",
    "version": 3
   },
   "file_extension": ".py",
   "mimetype": "text/x-python",
   "name": "python",
   "nbconvert_exporter": "python",
   "pygments_lexer": "ipython3",
   "version": "3.8.13"
  },
  "widgets": {
   "application/vnd.jupyter.widget-state+json": {
    "state": {},
    "version_major": 2,
    "version_minor": 0
   }
  }
 },
 "nbformat": 4,
 "nbformat_minor": 5
}
